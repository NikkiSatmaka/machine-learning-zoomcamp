{
 "cells": [
  {
   "cell_type": "markdown",
   "metadata": {},
   "source": [
    "# Homework 03\n"
   ]
  },
  {
   "cell_type": "code",
   "execution_count": 1,
   "metadata": {},
   "outputs": [],
   "source": [
    "from pathlib import Path\n",
    "\n",
    "import altair as alt\n",
    "import numpy as np\n",
    "import polars as pl\n",
    "import polars.selectors as cs\n",
    "from sklearn.linear_model import LogisticRegression\n",
    "from sklearn.metrics import mutual_info_score\n",
    "from sklearn.model_selection import train_test_split\n",
    "from sklearn.preprocessing import (\n",
    "    LabelBinarizer,\n",
    "    LabelEncoder,\n",
    "    OneHotEncoder,\n",
    "    StandardScaler,\n",
    ")\n",
    "\n",
    "from ml_zoomcamp.utils import clean_column_names, load_data\n",
    "\n",
    "ROOT_DIR = Path.cwd().parent\n",
    "DATA_DIR = ROOT_DIR.joinpath(\"data\")"
   ]
  },
  {
   "cell_type": "code",
   "execution_count": 2,
   "metadata": {},
   "outputs": [],
   "source": [
    "seed = 42"
   ]
  },
  {
   "cell_type": "markdown",
   "metadata": {},
   "source": [
    "### Getting the data\n"
   ]
  },
  {
   "cell_type": "code",
   "execution_count": 3,
   "metadata": {},
   "outputs": [],
   "source": [
    "csv_path = DATA_DIR.joinpath(\"bank_marketing/bank/bank-full.csv\")\n",
    "df = load_data(csv_path, DATA_DIR, separator=\";\")\n",
    "df = clean_column_names(df)"
   ]
  },
  {
   "cell_type": "markdown",
   "metadata": {},
   "source": [
    "#### Cleanup Columns\n"
   ]
  },
  {
   "cell_type": "code",
   "execution_count": 4,
   "metadata": {},
   "outputs": [],
   "source": [
    "base = [\n",
    "    \"age\",\n",
    "    \"job\",\n",
    "    \"marital\",\n",
    "    \"education\",\n",
    "    \"balance\",\n",
    "    \"housing\",\n",
    "    \"contact\",\n",
    "    \"day\",\n",
    "    \"month\",\n",
    "    \"duration\",\n",
    "    \"campaign\",\n",
    "    \"pdays\",\n",
    "    \"previous\",\n",
    "    \"poutcome\",\n",
    "    \"y\",\n",
    "]"
   ]
  },
  {
   "cell_type": "code",
   "execution_count": 5,
   "metadata": {},
   "outputs": [],
   "source": [
    "df = df.select(pl.col(base))"
   ]
  },
  {
   "cell_type": "markdown",
   "metadata": {},
   "source": [
    "### Data Preparation\n"
   ]
  },
  {
   "cell_type": "code",
   "execution_count": 6,
   "metadata": {},
   "outputs": [
    {
     "data": {
      "text/plain": [
       "Schema([('age', Int64),\n",
       "        ('job', String),\n",
       "        ('marital', String),\n",
       "        ('education', String),\n",
       "        ('balance', Int64),\n",
       "        ('housing', String),\n",
       "        ('contact', String),\n",
       "        ('day', Int64),\n",
       "        ('month', String),\n",
       "        ('duration', Int64),\n",
       "        ('campaign', Int64),\n",
       "        ('pdays', Int64),\n",
       "        ('previous', Int64),\n",
       "        ('poutcome', String),\n",
       "        ('y', String)])"
      ]
     },
     "execution_count": 6,
     "metadata": {},
     "output_type": "execute_result"
    }
   ],
   "source": [
    "df.schema"
   ]
  },
  {
   "cell_type": "code",
   "execution_count": null,
   "metadata": {},
   "outputs": [
    {
     "name": "stdout",
     "output_type": "stream",
     "text": [
      "Rows: 45211\n",
      "Columns: 15\n",
      "$ age       <i64> 58, 44, 33, 47, 33, 35, 28, 42, 58, 43\n",
      "$ job       <str> 'management', 'technician', 'entrepreneur', 'blue-collar', 'unknown', 'management', 'management', 'entrepreneur', 'retired', 'technician'\n",
      "$ marital   <str> 'married', 'single', 'married', 'married', 'single', 'married', 'single', 'divorced', 'married', 'single'\n",
      "$ education <str> 'tertiary', 'secondary', 'secondary', 'unknown', 'unknown', 'tertiary', 'tertiary', 'tertiary', 'primary', 'secondary'\n",
      "$ balance   <i64> 2143, 29, 2, 1506, 1, 231, 447, 2, 121, 593\n",
      "$ housing   <str> 'yes', 'yes', 'yes', 'yes', 'no', 'yes', 'yes', 'yes', 'yes', 'yes'\n",
      "$ contact   <str> 'unknown', 'unknown', 'unknown', 'unknown', 'unknown', 'unknown', 'unknown', 'unknown', 'unknown', 'unknown'\n",
      "$ day       <i64> 5, 5, 5, 5, 5, 5, 5, 5, 5, 5\n",
      "$ month     <str> 'may', 'may', 'may', 'may', 'may', 'may', 'may', 'may', 'may', 'may'\n",
      "$ duration  <i64> 261, 151, 76, 92, 198, 139, 217, 380, 50, 55\n",
      "$ campaign  <i64> 1, 1, 1, 1, 1, 1, 1, 1, 1, 1\n",
      "$ pdays     <i64> -1, -1, -1, -1, -1, -1, -1, -1, -1, -1\n",
      "$ previous  <i64> 0, 0, 0, 0, 0, 0, 0, 0, 0, 0\n",
      "$ poutcome  <str> 'unknown', 'unknown', 'unknown', 'unknown', 'unknown', 'unknown', 'unknown', 'unknown', 'unknown', 'unknown'\n",
      "$ y         <str> 'no', 'no', 'no', 'no', 'no', 'no', 'no', 'no', 'no', 'no'\n",
      "\n"
     ]
    }
   ],
   "source": [
    "df.glimpse()"
   ]
  },
  {
   "cell_type": "code",
   "execution_count": null,
   "metadata": {},
   "outputs": [
    {
     "data": {
      "text/html": [
       "<div><style>\n",
       ".dataframe > thead > tr,\n",
       ".dataframe > tbody > tr {\n",
       "  text-align: right;\n",
       "  white-space: pre-wrap;\n",
       "}\n",
       "</style>\n",
       "<small>shape: (9, 16)</small><table border=\"1\" class=\"dataframe\"><thead><tr><th>statistic</th><th>age</th><th>job</th><th>marital</th><th>education</th><th>balance</th><th>housing</th><th>contact</th><th>day</th><th>month</th><th>duration</th><th>campaign</th><th>pdays</th><th>previous</th><th>poutcome</th><th>y</th></tr><tr><td>str</td><td>f64</td><td>str</td><td>str</td><td>str</td><td>f64</td><td>str</td><td>str</td><td>f64</td><td>str</td><td>f64</td><td>f64</td><td>f64</td><td>f64</td><td>str</td><td>str</td></tr></thead><tbody><tr><td>&quot;count&quot;</td><td>45211.0</td><td>&quot;45211&quot;</td><td>&quot;45211&quot;</td><td>&quot;45211&quot;</td><td>45211.0</td><td>&quot;45211&quot;</td><td>&quot;45211&quot;</td><td>45211.0</td><td>&quot;45211&quot;</td><td>45211.0</td><td>45211.0</td><td>45211.0</td><td>45211.0</td><td>&quot;45211&quot;</td><td>&quot;45211&quot;</td></tr><tr><td>&quot;null_count&quot;</td><td>0.0</td><td>&quot;0&quot;</td><td>&quot;0&quot;</td><td>&quot;0&quot;</td><td>0.0</td><td>&quot;0&quot;</td><td>&quot;0&quot;</td><td>0.0</td><td>&quot;0&quot;</td><td>0.0</td><td>0.0</td><td>0.0</td><td>0.0</td><td>&quot;0&quot;</td><td>&quot;0&quot;</td></tr><tr><td>&quot;mean&quot;</td><td>40.93621</td><td>null</td><td>null</td><td>null</td><td>1362.272058</td><td>null</td><td>null</td><td>15.806419</td><td>null</td><td>258.16308</td><td>2.763841</td><td>40.197828</td><td>0.580323</td><td>null</td><td>null</td></tr><tr><td>&quot;std&quot;</td><td>10.618762</td><td>null</td><td>null</td><td>null</td><td>3044.765829</td><td>null</td><td>null</td><td>8.322476</td><td>null</td><td>257.527812</td><td>3.098021</td><td>100.128746</td><td>2.303441</td><td>null</td><td>null</td></tr><tr><td>&quot;min&quot;</td><td>18.0</td><td>&quot;admin.&quot;</td><td>&quot;divorced&quot;</td><td>&quot;primary&quot;</td><td>-8019.0</td><td>&quot;no&quot;</td><td>&quot;cellular&quot;</td><td>1.0</td><td>&quot;apr&quot;</td><td>0.0</td><td>1.0</td><td>-1.0</td><td>0.0</td><td>&quot;failure&quot;</td><td>&quot;no&quot;</td></tr><tr><td>&quot;25%&quot;</td><td>33.0</td><td>null</td><td>null</td><td>null</td><td>72.0</td><td>null</td><td>null</td><td>8.0</td><td>null</td><td>103.0</td><td>1.0</td><td>-1.0</td><td>0.0</td><td>null</td><td>null</td></tr><tr><td>&quot;50%&quot;</td><td>39.0</td><td>null</td><td>null</td><td>null</td><td>448.0</td><td>null</td><td>null</td><td>16.0</td><td>null</td><td>180.0</td><td>2.0</td><td>-1.0</td><td>0.0</td><td>null</td><td>null</td></tr><tr><td>&quot;75%&quot;</td><td>48.0</td><td>null</td><td>null</td><td>null</td><td>1428.0</td><td>null</td><td>null</td><td>21.0</td><td>null</td><td>319.0</td><td>3.0</td><td>-1.0</td><td>0.0</td><td>null</td><td>null</td></tr><tr><td>&quot;max&quot;</td><td>95.0</td><td>&quot;unknown&quot;</td><td>&quot;single&quot;</td><td>&quot;unknown&quot;</td><td>102127.0</td><td>&quot;yes&quot;</td><td>&quot;unknown&quot;</td><td>31.0</td><td>&quot;sep&quot;</td><td>4918.0</td><td>63.0</td><td>871.0</td><td>275.0</td><td>&quot;unknown&quot;</td><td>&quot;yes&quot;</td></tr></tbody></table></div>"
      ],
      "text/plain": [
       "shape: (9, 16)\n",
       "┌────────────┬───────────┬─────────┬──────────┬───┬────────────┬──────────┬──────────┬───────┐\n",
       "│ statistic  ┆ age       ┆ job     ┆ marital  ┆ … ┆ pdays      ┆ previous ┆ poutcome ┆ y     │\n",
       "│ ---        ┆ ---       ┆ ---     ┆ ---      ┆   ┆ ---        ┆ ---      ┆ ---      ┆ ---   │\n",
       "│ str        ┆ f64       ┆ str     ┆ str      ┆   ┆ f64        ┆ f64      ┆ str      ┆ str   │\n",
       "╞════════════╪═══════════╪═════════╪══════════╪═══╪════════════╪══════════╪══════════╪═══════╡\n",
       "│ count      ┆ 45211.0   ┆ 45211   ┆ 45211    ┆ … ┆ 45211.0    ┆ 45211.0  ┆ 45211    ┆ 45211 │\n",
       "│ null_count ┆ 0.0       ┆ 0       ┆ 0        ┆ … ┆ 0.0        ┆ 0.0      ┆ 0        ┆ 0     │\n",
       "│ mean       ┆ 40.93621  ┆ null    ┆ null     ┆ … ┆ 40.197828  ┆ 0.580323 ┆ null     ┆ null  │\n",
       "│ std        ┆ 10.618762 ┆ null    ┆ null     ┆ … ┆ 100.128746 ┆ 2.303441 ┆ null     ┆ null  │\n",
       "│ min        ┆ 18.0      ┆ admin.  ┆ divorced ┆ … ┆ -1.0       ┆ 0.0      ┆ failure  ┆ no    │\n",
       "│ 25%        ┆ 33.0      ┆ null    ┆ null     ┆ … ┆ -1.0       ┆ 0.0      ┆ null     ┆ null  │\n",
       "│ 50%        ┆ 39.0      ┆ null    ┆ null     ┆ … ┆ -1.0       ┆ 0.0      ┆ null     ┆ null  │\n",
       "│ 75%        ┆ 48.0      ┆ null    ┆ null     ┆ … ┆ -1.0       ┆ 0.0      ┆ null     ┆ null  │\n",
       "│ max        ┆ 95.0      ┆ unknown ┆ single   ┆ … ┆ 871.0      ┆ 275.0    ┆ unknown  ┆ yes   │\n",
       "└────────────┴───────────┴─────────┴──────────┴───┴────────────┴──────────┴──────────┴───────┘"
      ]
     },
     "execution_count": 8,
     "metadata": {},
     "output_type": "execute_result"
    }
   ],
   "source": [
    "df.describe()"
   ]
  },
  {
   "cell_type": "code",
   "execution_count": 9,
   "metadata": {},
   "outputs": [
    {
     "data": {
      "text/html": [
       "<div><style>\n",
       ".dataframe > thead > tr,\n",
       ".dataframe > tbody > tr {\n",
       "  text-align: right;\n",
       "  white-space: pre-wrap;\n",
       "}\n",
       "</style>\n",
       "<small>shape: (0, 2)</small><table border=\"1\" class=\"dataframe\"><thead><tr><th>column</th><th>null_count</th></tr><tr><td>str</td><td>u32</td></tr></thead><tbody></tbody></table></div>"
      ],
      "text/plain": [
       "shape: (0, 2)\n",
       "┌────────┬────────────┐\n",
       "│ column ┆ null_count │\n",
       "│ ---    ┆ ---        │\n",
       "│ str    ┆ u32        │\n",
       "╞════════╪════════════╡\n",
       "└────────┴────────────┘"
      ]
     },
     "execution_count": 9,
     "metadata": {},
     "output_type": "execute_result"
    }
   ],
   "source": [
    "df.null_count().transpose(include_header=True, column_names=[\"null_count\"]).filter(\n",
    "    pl.col(\"null_count\") > 0\n",
    ").sort(pl.col(\"null_count\"), descending=True)"
   ]
  },
  {
   "cell_type": "markdown",
   "metadata": {},
   "source": [
    "There are no missing features\n"
   ]
  },
  {
   "cell_type": "code",
   "execution_count": 10,
   "metadata": {},
   "outputs": [],
   "source": [
    "categorical = [\"job\", \"marital\", \"education\", \"housing\", \"contact\", \"month\", \"poutcome\"]\n",
    "numerical = [\"age\", \"balance\", \"day\", \"duration\", \"campaign\", \"pdays\", \"previous\"]"
   ]
  },
  {
   "cell_type": "markdown",
   "metadata": {},
   "source": [
    "## EDA\n"
   ]
  },
  {
   "cell_type": "code",
   "execution_count": 11,
   "metadata": {},
   "outputs": [
    {
     "data": {
      "text/html": [
       "<div><style>\n",
       ".dataframe > thead > tr,\n",
       ".dataframe > tbody > tr {\n",
       "  text-align: right;\n",
       "  white-space: pre-wrap;\n",
       "}\n",
       "</style>\n",
       "<small>shape: (2, 2)</small><table border=\"1\" class=\"dataframe\"><thead><tr><th>y</th><th>proportion</th></tr><tr><td>str</td><td>f64</td></tr></thead><tbody><tr><td>&quot;no&quot;</td><td>0.883015</td></tr><tr><td>&quot;yes&quot;</td><td>0.116985</td></tr></tbody></table></div>"
      ],
      "text/plain": [
       "shape: (2, 2)\n",
       "┌─────┬────────────┐\n",
       "│ y   ┆ proportion │\n",
       "│ --- ┆ ---        │\n",
       "│ str ┆ f64        │\n",
       "╞═════╪════════════╡\n",
       "│ no  ┆ 0.883015   │\n",
       "│ yes ┆ 0.116985   │\n",
       "└─────┴────────────┘"
      ]
     },
     "execution_count": 11,
     "metadata": {},
     "output_type": "execute_result"
    }
   ],
   "source": [
    "df[\"y\"].value_counts(sort=True, normalize=True)"
   ]
  },
  {
   "cell_type": "markdown",
   "metadata": {},
   "source": [
    "Dataset is imbalanced\n"
   ]
  },
  {
   "cell_type": "markdown",
   "metadata": {},
   "source": [
    "### 1. Most frequent observation (mode) for the column `education`\n"
   ]
  },
  {
   "cell_type": "code",
   "execution_count": 12,
   "metadata": {},
   "outputs": [
    {
     "data": {
      "text/html": [
       "<div><style>\n",
       ".dataframe > thead > tr,\n",
       ".dataframe > tbody > tr {\n",
       "  text-align: right;\n",
       "  white-space: pre-wrap;\n",
       "}\n",
       "</style>\n",
       "<small>shape: (1, 1)</small><table border=\"1\" class=\"dataframe\"><thead><tr><th>education</th></tr><tr><td>str</td></tr></thead><tbody><tr><td>&quot;secondary&quot;</td></tr></tbody></table></div>"
      ],
      "text/plain": [
       "shape: (1, 1)\n",
       "┌───────────┐\n",
       "│ education │\n",
       "│ ---       │\n",
       "│ str       │\n",
       "╞═══════════╡\n",
       "│ secondary │\n",
       "└───────────┘"
      ]
     },
     "execution_count": 12,
     "metadata": {},
     "output_type": "execute_result"
    }
   ],
   "source": [
    "df.select(pl.col(\"education\").mode())"
   ]
  },
  {
   "cell_type": "markdown",
   "metadata": {},
   "source": [
    "### 2. Correlation matrix\n"
   ]
  },
  {
   "cell_type": "code",
   "execution_count": 13,
   "metadata": {},
   "outputs": [],
   "source": [
    "df_corr = (\n",
    "    df.select(pl.col(numerical))\n",
    "    .corr()\n",
    "    .with_columns(pl.Series(numerical).alias(\"index\"))\n",
    "    .unpivot(index=\"index\")\n",
    "    .filter(pl.col(\"index\") != pl.col(\"variable\"))\n",
    "    .select(\n",
    "        (pl.col(\"index\") + \"-\" + pl.col(\"variable\")).alias(\"vars\"),\n",
    "        pl.col(\"value\"),\n",
    "        pl.col(\"value\").abs().alias(\"abs_value\"),\n",
    "    )\n",
    "    .unique(pl.col(\"vars\"))\n",
    "    .sort(\"abs_value\", descending=True)\n",
    ")"
   ]
  },
  {
   "cell_type": "code",
   "execution_count": 14,
   "metadata": {},
   "outputs": [
    {
     "data": {
      "text/html": [
       "<div><style>\n",
       ".dataframe > thead > tr,\n",
       ".dataframe > tbody > tr {\n",
       "  text-align: right;\n",
       "  white-space: pre-wrap;\n",
       "}\n",
       "</style>\n",
       "<small>shape: (7, 8)</small><table border=\"1\" class=\"dataframe\"><thead><tr><th>age</th><th>balance</th><th>day</th><th>duration</th><th>campaign</th><th>pdays</th><th>previous</th><th>index</th></tr><tr><td>f64</td><td>f64</td><td>f64</td><td>f64</td><td>f64</td><td>f64</td><td>f64</td><td>str</td></tr></thead><tbody><tr><td>1.0</td><td>0.097783</td><td>-0.00912</td><td>-0.004648</td><td>0.00476</td><td>-0.023758</td><td>0.001288</td><td>&quot;age&quot;</td></tr><tr><td>0.097783</td><td>1.0</td><td>0.004503</td><td>0.02156</td><td>-0.014578</td><td>0.003435</td><td>0.016674</td><td>&quot;balance&quot;</td></tr><tr><td>-0.00912</td><td>0.004503</td><td>1.0</td><td>-0.030206</td><td>0.16249</td><td>-0.093044</td><td>-0.05171</td><td>&quot;day&quot;</td></tr><tr><td>-0.004648</td><td>0.02156</td><td>-0.030206</td><td>1.0</td><td>-0.08457</td><td>-0.001565</td><td>0.001203</td><td>&quot;duration&quot;</td></tr><tr><td>0.00476</td><td>-0.014578</td><td>0.16249</td><td>-0.08457</td><td>1.0</td><td>-0.088628</td><td>-0.032855</td><td>&quot;campaign&quot;</td></tr><tr><td>-0.023758</td><td>0.003435</td><td>-0.093044</td><td>-0.001565</td><td>-0.088628</td><td>1.0</td><td>0.45482</td><td>&quot;pdays&quot;</td></tr><tr><td>0.001288</td><td>0.016674</td><td>-0.05171</td><td>0.001203</td><td>-0.032855</td><td>0.45482</td><td>1.0</td><td>&quot;previous&quot;</td></tr></tbody></table></div>"
      ],
      "text/plain": [
       "shape: (7, 8)\n",
       "┌───────────┬───────────┬───────────┬───────────┬───────────┬───────────┬───────────┬──────────┐\n",
       "│ age       ┆ balance   ┆ day       ┆ duration  ┆ campaign  ┆ pdays     ┆ previous  ┆ index    │\n",
       "│ ---       ┆ ---       ┆ ---       ┆ ---       ┆ ---       ┆ ---       ┆ ---       ┆ ---      │\n",
       "│ f64       ┆ f64       ┆ f64       ┆ f64       ┆ f64       ┆ f64       ┆ f64       ┆ str      │\n",
       "╞═══════════╪═══════════╪═══════════╪═══════════╪═══════════╪═══════════╪═══════════╪══════════╡\n",
       "│ 1.0       ┆ 0.097783  ┆ -0.00912  ┆ -0.004648 ┆ 0.00476   ┆ -0.023758 ┆ 0.001288  ┆ age      │\n",
       "│ 0.097783  ┆ 1.0       ┆ 0.004503  ┆ 0.02156   ┆ -0.014578 ┆ 0.003435  ┆ 0.016674  ┆ balance  │\n",
       "│ -0.00912  ┆ 0.004503  ┆ 1.0       ┆ -0.030206 ┆ 0.16249   ┆ -0.093044 ┆ -0.05171  ┆ day      │\n",
       "│ -0.004648 ┆ 0.02156   ┆ -0.030206 ┆ 1.0       ┆ -0.08457  ┆ -0.001565 ┆ 0.001203  ┆ duration │\n",
       "│ 0.00476   ┆ -0.014578 ┆ 0.16249   ┆ -0.08457  ┆ 1.0       ┆ -0.088628 ┆ -0.032855 ┆ campaign │\n",
       "│ -0.023758 ┆ 0.003435  ┆ -0.093044 ┆ -0.001565 ┆ -0.088628 ┆ 1.0       ┆ 0.45482   ┆ pdays    │\n",
       "│ 0.001288  ┆ 0.016674  ┆ -0.05171  ┆ 0.001203  ┆ -0.032855 ┆ 0.45482   ┆ 1.0       ┆ previous │\n",
       "└───────────┴───────────┴───────────┴───────────┴───────────┴───────────┴───────────┴──────────┘"
      ]
     },
     "execution_count": 14,
     "metadata": {},
     "output_type": "execute_result"
    }
   ],
   "source": [
    "df.select(pl.col(numerical)).corr().with_columns(pl.Series(numerical).alias(\"index\"))"
   ]
  },
  {
   "cell_type": "code",
   "execution_count": 15,
   "metadata": {},
   "outputs": [
    {
     "data": {
      "text/html": [
       "<div><style>\n",
       ".dataframe > thead > tr,\n",
       ".dataframe > tbody > tr {\n",
       "  text-align: right;\n",
       "  white-space: pre-wrap;\n",
       "}\n",
       "</style>\n",
       "<small>shape: (42, 3)</small><table border=\"1\" class=\"dataframe\"><thead><tr><th>vars</th><th>value</th><th>abs_value</th></tr><tr><td>str</td><td>f64</td><td>f64</td></tr></thead><tbody><tr><td>&quot;previous-pdays&quot;</td><td>0.45482</td><td>0.45482</td></tr><tr><td>&quot;pdays-previous&quot;</td><td>0.45482</td><td>0.45482</td></tr><tr><td>&quot;day-campaign&quot;</td><td>0.16249</td><td>0.16249</td></tr><tr><td>&quot;campaign-day&quot;</td><td>0.16249</td><td>0.16249</td></tr><tr><td>&quot;age-balance&quot;</td><td>0.097783</td><td>0.097783</td></tr><tr><td>&hellip;</td><td>&hellip;</td><td>&hellip;</td></tr><tr><td>&quot;duration-pdays&quot;</td><td>-0.001565</td><td>0.001565</td></tr><tr><td>&quot;age-previous&quot;</td><td>0.001288</td><td>0.001288</td></tr><tr><td>&quot;previous-age&quot;</td><td>0.001288</td><td>0.001288</td></tr><tr><td>&quot;duration-previous&quot;</td><td>0.001203</td><td>0.001203</td></tr><tr><td>&quot;previous-duration&quot;</td><td>0.001203</td><td>0.001203</td></tr></tbody></table></div>"
      ],
      "text/plain": [
       "shape: (42, 3)\n",
       "┌───────────────────┬───────────┬───────────┐\n",
       "│ vars              ┆ value     ┆ abs_value │\n",
       "│ ---               ┆ ---       ┆ ---       │\n",
       "│ str               ┆ f64       ┆ f64       │\n",
       "╞═══════════════════╪═══════════╪═══════════╡\n",
       "│ previous-pdays    ┆ 0.45482   ┆ 0.45482   │\n",
       "│ pdays-previous    ┆ 0.45482   ┆ 0.45482   │\n",
       "│ day-campaign      ┆ 0.16249   ┆ 0.16249   │\n",
       "│ campaign-day      ┆ 0.16249   ┆ 0.16249   │\n",
       "│ age-balance       ┆ 0.097783  ┆ 0.097783  │\n",
       "│ …                 ┆ …         ┆ …         │\n",
       "│ duration-pdays    ┆ -0.001565 ┆ 0.001565  │\n",
       "│ age-previous      ┆ 0.001288  ┆ 0.001288  │\n",
       "│ previous-age      ┆ 0.001288  ┆ 0.001288  │\n",
       "│ duration-previous ┆ 0.001203  ┆ 0.001203  │\n",
       "│ previous-duration ┆ 0.001203  ┆ 0.001203  │\n",
       "└───────────────────┴───────────┴───────────┘"
      ]
     },
     "execution_count": 15,
     "metadata": {},
     "output_type": "execute_result"
    }
   ],
   "source": [
    "df_corr"
   ]
  },
  {
   "cell_type": "markdown",
   "metadata": {},
   "source": [
    "### Target encoding\n"
   ]
  },
  {
   "cell_type": "code",
   "execution_count": 16,
   "metadata": {},
   "outputs": [],
   "source": [
    "le = LabelEncoder()\n",
    "y = le.fit_transform(df[\"y\"])"
   ]
  },
  {
   "cell_type": "markdown",
   "metadata": {},
   "source": [
    "### Setting Up Validation Framework\n"
   ]
  },
  {
   "cell_type": "code",
   "execution_count": 17,
   "metadata": {},
   "outputs": [],
   "source": [
    "df = df.with_columns(pl.lit(y).alias(\"y\"))"
   ]
  },
  {
   "cell_type": "code",
   "execution_count": 18,
   "metadata": {},
   "outputs": [],
   "source": [
    "df_full_train, df_test = train_test_split(df, test_size=0.2, random_state=seed)\n",
    "df_train, df_val = train_test_split(df_full_train, test_size=0.25, random_state=seed)"
   ]
  },
  {
   "cell_type": "code",
   "execution_count": 19,
   "metadata": {},
   "outputs": [],
   "source": [
    "y_train = df_train[\"y\"].to_numpy()\n",
    "y_val = df_val[\"y\"].to_numpy()\n",
    "y_test = df_test[\"y\"].to_numpy()"
   ]
  },
  {
   "cell_type": "code",
   "execution_count": 20,
   "metadata": {},
   "outputs": [],
   "source": [
    "df_train = df_train.drop(\"y\")\n",
    "df_val = df_val.drop(\"y\")\n",
    "df_test = df_test.drop(\"y\")"
   ]
  },
  {
   "cell_type": "markdown",
   "metadata": {},
   "source": [
    "### 3. Mutual information score\n"
   ]
  },
  {
   "cell_type": "code",
   "execution_count": 21,
   "metadata": {},
   "outputs": [
    {
     "data": {
      "text/html": [
       "<div><style>\n",
       ".dataframe > thead > tr,\n",
       ".dataframe > tbody > tr {\n",
       "  text-align: right;\n",
       "  white-space: pre-wrap;\n",
       "}\n",
       "</style>\n",
       "<small>shape: (7, 2)</small><table border=\"1\" class=\"dataframe\"><thead><tr><th>column</th><th>score</th></tr><tr><td>str</td><td>f64</td></tr></thead><tbody><tr><td>&quot;poutcome&quot;</td><td>0.029533</td></tr><tr><td>&quot;month&quot;</td><td>0.02509</td></tr><tr><td>&quot;contact&quot;</td><td>0.013356</td></tr><tr><td>&quot;housing&quot;</td><td>0.010343</td></tr><tr><td>&quot;job&quot;</td><td>0.007316</td></tr><tr><td>&quot;education&quot;</td><td>0.002697</td></tr><tr><td>&quot;marital&quot;</td><td>0.00205</td></tr></tbody></table></div>"
      ],
      "text/plain": [
       "shape: (7, 2)\n",
       "┌───────────┬──────────┐\n",
       "│ column    ┆ score    │\n",
       "│ ---       ┆ ---      │\n",
       "│ str       ┆ f64      │\n",
       "╞═══════════╪══════════╡\n",
       "│ poutcome  ┆ 0.029533 │\n",
       "│ month     ┆ 0.02509  │\n",
       "│ contact   ┆ 0.013356 │\n",
       "│ housing   ┆ 0.010343 │\n",
       "│ job       ┆ 0.007316 │\n",
       "│ education ┆ 0.002697 │\n",
       "│ marital   ┆ 0.00205  │\n",
       "└───────────┴──────────┘"
      ]
     },
     "execution_count": 21,
     "metadata": {},
     "output_type": "execute_result"
    }
   ],
   "source": [
    "df_train.select(\n",
    "    [\n",
    "        pl.col(c).map_batches(lambda x: mutual_info_score(x, y_train))\n",
    "        for c in categorical\n",
    "    ]\n",
    ").transpose(include_header=True, column_names=[\"score\"]).sort(\"score\", descending=True)"
   ]
  },
  {
   "cell_type": "code",
   "execution_count": null,
   "metadata": {},
   "outputs": [],
   "source": []
  }
 ],
 "metadata": {
  "kernelspec": {
   "display_name": ".venv",
   "language": "python",
   "name": "python3"
  },
  "language_info": {
   "codemirror_mode": {
    "name": "ipython",
    "version": 3
   },
   "file_extension": ".py",
   "mimetype": "text/x-python",
   "name": "python",
   "nbconvert_exporter": "python",
   "pygments_lexer": "ipython3",
   "version": "3.12.6"
  }
 },
 "nbformat": 4,
 "nbformat_minor": 2
}
