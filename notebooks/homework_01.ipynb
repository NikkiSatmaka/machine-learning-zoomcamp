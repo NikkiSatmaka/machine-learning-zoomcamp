{
 "cells": [
  {
   "cell_type": "code",
   "execution_count": 1,
   "metadata": {},
   "outputs": [],
   "source": [
    "import pandas as pd\n",
    "import polars as pl"
   ]
  },
  {
   "cell_type": "code",
   "execution_count": 2,
   "metadata": {},
   "outputs": [
    {
     "name": "stdout",
     "output_type": "stream",
     "text": [
      "2.2.2\n",
      "1.7.1\n"
     ]
    }
   ],
   "source": [
    "print(pd.__version__)\n",
    "print(pl.__version__)"
   ]
  },
  {
   "cell_type": "code",
   "execution_count": 3,
   "metadata": {},
   "outputs": [],
   "source": [
    "# df = pl.read_csv(\"../data/laptops.csv\")\n",
    "# df.write_parquet(\"../data/laptops.pq\")\n",
    "\n",
    "df = pl.read_parquet(\"../data/laptops.pq\")"
   ]
  },
  {
   "cell_type": "code",
   "execution_count": 4,
   "metadata": {},
   "outputs": [
    {
     "data": {
      "text/plain": [
       "(2160, 12)"
      ]
     },
     "execution_count": 4,
     "metadata": {},
     "output_type": "execute_result"
    }
   ],
   "source": [
    "df.shape"
   ]
  },
  {
   "cell_type": "code",
   "execution_count": 9,
   "metadata": {},
   "outputs": [
    {
     "data": {
      "text/plain": [
       "Schema([('Laptop', String),\n",
       "        ('Status', String),\n",
       "        ('Brand', String),\n",
       "        ('Model', String),\n",
       "        ('CPU', String),\n",
       "        ('RAM', Int64),\n",
       "        ('Storage', Int64),\n",
       "        ('Storage type', String),\n",
       "        ('GPU', String),\n",
       "        ('Screen', Float64),\n",
       "        ('Touch', String),\n",
       "        ('Final Price', Float64)])"
      ]
     },
     "execution_count": 9,
     "metadata": {},
     "output_type": "execute_result"
    }
   ],
   "source": [
    "df.schema"
   ]
  },
  {
   "cell_type": "code",
   "execution_count": 10,
   "metadata": {},
   "outputs": [
    {
     "data": {
      "text/html": [
       "<div><style>\n",
       ".dataframe > thead > tr,\n",
       ".dataframe > tbody > tr {\n",
       "  text-align: right;\n",
       "  white-space: pre-wrap;\n",
       "}\n",
       "</style>\n",
       "<small>shape: (5, 12)</small><table border=\"1\" class=\"dataframe\"><thead><tr><th>Laptop</th><th>Status</th><th>Brand</th><th>Model</th><th>CPU</th><th>RAM</th><th>Storage</th><th>Storage type</th><th>GPU</th><th>Screen</th><th>Touch</th><th>Final Price</th></tr><tr><td>str</td><td>str</td><td>str</td><td>str</td><td>str</td><td>i64</td><td>i64</td><td>str</td><td>str</td><td>f64</td><td>str</td><td>f64</td></tr></thead><tbody><tr><td>&quot;ASUS ExpertBook B1 B1502CBA-EJ…</td><td>&quot;New&quot;</td><td>&quot;Asus&quot;</td><td>&quot;ExpertBook&quot;</td><td>&quot;Intel Core i5&quot;</td><td>8</td><td>512</td><td>&quot;SSD&quot;</td><td>null</td><td>15.6</td><td>&quot;No&quot;</td><td>1009.0</td></tr><tr><td>&quot;Alurin Go Start Intel Celeron …</td><td>&quot;New&quot;</td><td>&quot;Alurin&quot;</td><td>&quot;Go&quot;</td><td>&quot;Intel Celeron&quot;</td><td>8</td><td>256</td><td>&quot;SSD&quot;</td><td>null</td><td>15.6</td><td>&quot;No&quot;</td><td>299.0</td></tr><tr><td>&quot;ASUS ExpertBook B1 B1502CBA-EJ…</td><td>&quot;New&quot;</td><td>&quot;Asus&quot;</td><td>&quot;ExpertBook&quot;</td><td>&quot;Intel Core i3&quot;</td><td>8</td><td>256</td><td>&quot;SSD&quot;</td><td>null</td><td>15.6</td><td>&quot;No&quot;</td><td>789.0</td></tr><tr><td>&quot;MSI Katana GF66 12UC-082XES In…</td><td>&quot;New&quot;</td><td>&quot;MSI&quot;</td><td>&quot;Katana&quot;</td><td>&quot;Intel Core i7&quot;</td><td>16</td><td>1000</td><td>&quot;SSD&quot;</td><td>&quot;RTX 3050&quot;</td><td>15.6</td><td>&quot;No&quot;</td><td>1199.0</td></tr><tr><td>&quot;HP 15S-FQ5085NS Intel Core i5-…</td><td>&quot;New&quot;</td><td>&quot;HP&quot;</td><td>&quot;15S&quot;</td><td>&quot;Intel Core i5&quot;</td><td>16</td><td>512</td><td>&quot;SSD&quot;</td><td>null</td><td>15.6</td><td>&quot;No&quot;</td><td>669.01</td></tr></tbody></table></div>"
      ],
      "text/plain": [
       "shape: (5, 12)\n",
       "┌─────────────────────┬────────┬────────┬────────────┬───┬──────────┬────────┬───────┬─────────────┐\n",
       "│ Laptop              ┆ Status ┆ Brand  ┆ Model      ┆ … ┆ GPU      ┆ Screen ┆ Touch ┆ Final Price │\n",
       "│ ---                 ┆ ---    ┆ ---    ┆ ---        ┆   ┆ ---      ┆ ---    ┆ ---   ┆ ---         │\n",
       "│ str                 ┆ str    ┆ str    ┆ str        ┆   ┆ str      ┆ f64    ┆ str   ┆ f64         │\n",
       "╞═════════════════════╪════════╪════════╪════════════╪═══╪══════════╪════════╪═══════╪═════════════╡\n",
       "│ ASUS ExpertBook B1  ┆ New    ┆ Asus   ┆ ExpertBook ┆ … ┆ null     ┆ 15.6   ┆ No    ┆ 1009.0      │\n",
       "│ B1502CBA-EJ…        ┆        ┆        ┆            ┆   ┆          ┆        ┆       ┆             │\n",
       "│ Alurin Go Start     ┆ New    ┆ Alurin ┆ Go         ┆ … ┆ null     ┆ 15.6   ┆ No    ┆ 299.0       │\n",
       "│ Intel Celeron …     ┆        ┆        ┆            ┆   ┆          ┆        ┆       ┆             │\n",
       "│ ASUS ExpertBook B1  ┆ New    ┆ Asus   ┆ ExpertBook ┆ … ┆ null     ┆ 15.6   ┆ No    ┆ 789.0       │\n",
       "│ B1502CBA-EJ…        ┆        ┆        ┆            ┆   ┆          ┆        ┆       ┆             │\n",
       "│ MSI Katana GF66     ┆ New    ┆ MSI    ┆ Katana     ┆ … ┆ RTX 3050 ┆ 15.6   ┆ No    ┆ 1199.0      │\n",
       "│ 12UC-082XES In…     ┆        ┆        ┆            ┆   ┆          ┆        ┆       ┆             │\n",
       "│ HP 15S-FQ5085NS     ┆ New    ┆ HP     ┆ 15S        ┆ … ┆ null     ┆ 15.6   ┆ No    ┆ 669.01      │\n",
       "│ Intel Core i5-…     ┆        ┆        ┆            ┆   ┆          ┆        ┆       ┆             │\n",
       "└─────────────────────┴────────┴────────┴────────────┴───┴──────────┴────────┴───────┴─────────────┘"
      ]
     },
     "execution_count": 10,
     "metadata": {},
     "output_type": "execute_result"
    }
   ],
   "source": [
    "df.head()"
   ]
  },
  {
   "cell_type": "code",
   "execution_count": 18,
   "metadata": {},
   "outputs": [
    {
     "data": {
      "text/html": [
       "<div><style>\n",
       ".dataframe > thead > tr,\n",
       ".dataframe > tbody > tr {\n",
       "  text-align: right;\n",
       "  white-space: pre-wrap;\n",
       "}\n",
       "</style>\n",
       "<small>shape: (27, 1)</small><table border=\"1\" class=\"dataframe\"><thead><tr><th>Brand</th></tr><tr><td>str</td></tr></thead><tbody><tr><td>&quot;Realme&quot;</td></tr><tr><td>&quot;Gigabyte&quot;</td></tr><tr><td>&quot;Innjoo&quot;</td></tr><tr><td>&quot;Prixton&quot;</td></tr><tr><td>&quot;Asus&quot;</td></tr><tr><td>&hellip;</td></tr><tr><td>&quot;Deep Gaming&quot;</td></tr><tr><td>&quot;Samsung&quot;</td></tr><tr><td>&quot;Lenovo&quot;</td></tr><tr><td>&quot;Denver&quot;</td></tr><tr><td>&quot;Toshiba&quot;</td></tr></tbody></table></div>"
      ],
      "text/plain": [
       "shape: (27, 1)\n",
       "┌─────────────┐\n",
       "│ Brand       │\n",
       "│ ---         │\n",
       "│ str         │\n",
       "╞═════════════╡\n",
       "│ Realme      │\n",
       "│ Gigabyte    │\n",
       "│ Innjoo      │\n",
       "│ Prixton     │\n",
       "│ Asus        │\n",
       "│ …           │\n",
       "│ Deep Gaming │\n",
       "│ Samsung     │\n",
       "│ Lenovo      │\n",
       "│ Denver      │\n",
       "│ Toshiba     │\n",
       "└─────────────┘"
      ]
     },
     "execution_count": 18,
     "metadata": {},
     "output_type": "execute_result"
    }
   ],
   "source": [
    "df.select(pl.col(\"Brand\")).unique()"
   ]
  },
  {
   "cell_type": "code",
   "execution_count": 14,
   "metadata": {},
   "outputs": [
    {
     "data": {
      "text/plain": [
       "27"
      ]
     },
     "execution_count": 14,
     "metadata": {},
     "output_type": "execute_result"
    }
   ],
   "source": [
    "df.select(pl.col(\"Brand\")).n_unique()"
   ]
  },
  {
   "cell_type": "code",
   "execution_count": null,
   "metadata": {},
   "outputs": [],
   "source": []
  }
 ],
 "metadata": {
  "kernelspec": {
   "display_name": ".venv",
   "language": "python",
   "name": "python3"
  },
  "language_info": {
   "codemirror_mode": {
    "name": "ipython",
    "version": 3
   },
   "file_extension": ".py",
   "mimetype": "text/x-python",
   "name": "python",
   "nbconvert_exporter": "python",
   "pygments_lexer": "ipython3",
   "version": "3.12.5"
  }
 },
 "nbformat": 4,
 "nbformat_minor": 2
}
