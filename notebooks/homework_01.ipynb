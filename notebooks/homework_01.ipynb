{
 "cells": [
  {
   "cell_type": "code",
   "execution_count": 1,
   "metadata": {},
   "outputs": [],
   "source": [
    "from pathlib import Path\n",
    "\n",
    "import numpy as np\n",
    "import pandas as pd\n",
    "import polars as pl\n",
    "\n",
    "ROOT_DIR = Path.cwd().parent\n",
    "DATA_DIR = ROOT_DIR.joinpath(\"data\")"
   ]
  },
  {
   "cell_type": "markdown",
   "metadata": {},
   "source": [
    "### 1. Pandas version\n"
   ]
  },
  {
   "cell_type": "code",
   "execution_count": 2,
   "metadata": {},
   "outputs": [
    {
     "name": "stdout",
     "output_type": "stream",
     "text": [
      "Pandas version: 2.2.2\n",
      "Polars version: 1.7.1\n"
     ]
    }
   ],
   "source": [
    "print(f\"Pandas version: {pd.__version__}\")\n",
    "print(f\"Polars version: {pl.__version__}\")"
   ]
  },
  {
   "cell_type": "markdown",
   "metadata": {},
   "source": [
    "### Getting the data\n"
   ]
  },
  {
   "cell_type": "code",
   "execution_count": 3,
   "metadata": {},
   "outputs": [],
   "source": [
    "csv_uri = \"https://raw.githubusercontent.com/alexeygrigorev/datasets/master/laptops.csv\"\n",
    "pq_path = DATA_DIR.joinpath(\"laptops.pq\")\n",
    "\n",
    "if pq_path.exists():\n",
    "    df = pl.read_parquet(pq_path)\n",
    "else:\n",
    "    df = pl.read_csv(csv_uri)\n",
    "    df.write_parquet(pq_path)\n"
   ]
  },
  {
   "cell_type": "markdown",
   "metadata": {},
   "source": [
    "### 2. Records count\n"
   ]
  },
  {
   "cell_type": "code",
   "execution_count": 4,
   "metadata": {},
   "outputs": [
    {
     "name": "stdout",
     "output_type": "stream",
     "text": [
      "shape: (2160, 12)\n",
      "num of records: 2160\n",
      "num of columns: 12\n"
     ]
    }
   ],
   "source": [
    "print(f\"shape: {df.shape}\")\n",
    "print(f\"num of records: {df.shape[0]}\")\n",
    "print(f\"num of columns: {df.shape[1]}\")"
   ]
  },
  {
   "cell_type": "code",
   "execution_count": 5,
   "metadata": {},
   "outputs": [
    {
     "data": {
      "text/plain": [
       "Schema([('Laptop', String),\n",
       "        ('Status', String),\n",
       "        ('Brand', String),\n",
       "        ('Model', String),\n",
       "        ('CPU', String),\n",
       "        ('RAM', Int64),\n",
       "        ('Storage', Int64),\n",
       "        ('Storage type', String),\n",
       "        ('GPU', String),\n",
       "        ('Screen', Float64),\n",
       "        ('Touch', String),\n",
       "        ('Final Price', Float64)])"
      ]
     },
     "execution_count": 5,
     "metadata": {},
     "output_type": "execute_result"
    }
   ],
   "source": [
    "df.schema"
   ]
  },
  {
   "cell_type": "code",
   "execution_count": 6,
   "metadata": {},
   "outputs": [
    {
     "name": "stdout",
     "output_type": "stream",
     "text": [
      "Rows: 2160\n",
      "Columns: 12\n",
      "$ Laptop       <str> 'ASUS ExpertBook B1 B1502CBA-EJ0436X Intel Core i5-1235U/8GB/512GB SSD/15.6\"', 'Alurin Go Start Intel Celeron N4020/8GB/256GB SSD/15.6\"', 'ASUS ExpertBook B1 B1502CBA-EJ0424X Intel Core i3-1215U/8GB/256GB SSD/15.6\"', 'MSI Katana GF66 12UC-082XES Intel Core i7-12700H/16GB/1TB SSD/RTX3050/15.6\"', 'HP 15S-FQ5085NS Intel Core i5-1235U/16GB/512GB SSD/15.6\"', 'MSI Crosshair 17 C12VF-264XES Intel Core i7-12650H/32GB/1TB SSD/RTX 4060/17.3\"', 'Lenovo Thinkpad E14 Gen 4 AMD Ryzen 5 5625U/8GB/256GB SSD/14\"', 'ASUS VivoBook 15 F515JA-EJ2882W Intel Core i7-1065G7/8GB/512GB SSD/15.6\"', 'Medion Akoya E15415 Intel Core i5-10210U/8GB/256GB SSD/15.6\"', 'HP Victus 16-d1038ns Intel Core i7-12700H/16GB/512GB SSD/RTX 3050/16.1\"'\n",
      "$ Status       <str> 'New', 'New', 'New', 'New', 'New', 'New', 'New', 'New', 'New', 'New'\n",
      "$ Brand        <str> 'Asus', 'Alurin', 'Asus', 'MSI', 'HP', 'MSI', 'Lenovo', 'Asus', 'Medion', 'HP'\n",
      "$ Model        <str> 'ExpertBook', 'Go', 'ExpertBook', 'Katana', '15S', 'Crosshair', 'ThinkPad', 'VivoBook', 'Akoya', 'Victus'\n",
      "$ CPU          <str> 'Intel Core i5', 'Intel Celeron', 'Intel Core i3', 'Intel Core i7', 'Intel Core i5', 'Intel Core i7', 'AMD Ryzen 5', 'Intel Core i7', 'Intel Core i5', 'Intel Core i7'\n",
      "$ RAM          <i64> 8, 8, 8, 16, 16, 32, 8, 8, 8, 16\n",
      "$ Storage      <i64> 512, 256, 256, 1000, 512, 1000, 256, 512, 256, 512\n",
      "$ Storage type <str> 'SSD', 'SSD', 'SSD', 'SSD', 'SSD', 'SSD', 'SSD', 'SSD', 'SSD', 'SSD'\n",
      "$ GPU          <str> None, None, None, 'RTX 3050', None, 'RTX 4060', None, None, None, 'RTX 3050'\n",
      "$ Screen       <f64> 15.6, 15.6, 15.6, 15.6, 15.6, 17.3, 14.0, 15.6, 15.6, 16.1\n",
      "$ Touch        <str> 'No', 'No', 'No', 'No', 'No', 'No', 'No', 'No', 'No', 'No'\n",
      "$ Final Price  <f64> 1008.9999999999999, 299.0, 789.0, 1199.0, 669.01, 1699.0, 909.0, 809.01, 519.0, 1149.0\n",
      "\n"
     ]
    }
   ],
   "source": [
    "df.glimpse()"
   ]
  },
  {
   "cell_type": "code",
   "execution_count": 7,
   "metadata": {},
   "outputs": [
    {
     "data": {
      "text/html": [
       "<div><style>\n",
       ".dataframe > thead > tr,\n",
       ".dataframe > tbody > tr {\n",
       "  text-align: right;\n",
       "  white-space: pre-wrap;\n",
       "}\n",
       "</style>\n",
       "<small>shape: (5, 12)</small><table border=\"1\" class=\"dataframe\"><thead><tr><th>Laptop</th><th>Status</th><th>Brand</th><th>Model</th><th>CPU</th><th>RAM</th><th>Storage</th><th>Storage type</th><th>GPU</th><th>Screen</th><th>Touch</th><th>Final Price</th></tr><tr><td>str</td><td>str</td><td>str</td><td>str</td><td>str</td><td>i64</td><td>i64</td><td>str</td><td>str</td><td>f64</td><td>str</td><td>f64</td></tr></thead><tbody><tr><td>&quot;ASUS ExpertBook B1 B1502CBA-EJ…</td><td>&quot;New&quot;</td><td>&quot;Asus&quot;</td><td>&quot;ExpertBook&quot;</td><td>&quot;Intel Core i5&quot;</td><td>8</td><td>512</td><td>&quot;SSD&quot;</td><td>null</td><td>15.6</td><td>&quot;No&quot;</td><td>1009.0</td></tr><tr><td>&quot;Alurin Go Start Intel Celeron …</td><td>&quot;New&quot;</td><td>&quot;Alurin&quot;</td><td>&quot;Go&quot;</td><td>&quot;Intel Celeron&quot;</td><td>8</td><td>256</td><td>&quot;SSD&quot;</td><td>null</td><td>15.6</td><td>&quot;No&quot;</td><td>299.0</td></tr><tr><td>&quot;ASUS ExpertBook B1 B1502CBA-EJ…</td><td>&quot;New&quot;</td><td>&quot;Asus&quot;</td><td>&quot;ExpertBook&quot;</td><td>&quot;Intel Core i3&quot;</td><td>8</td><td>256</td><td>&quot;SSD&quot;</td><td>null</td><td>15.6</td><td>&quot;No&quot;</td><td>789.0</td></tr><tr><td>&quot;MSI Katana GF66 12UC-082XES In…</td><td>&quot;New&quot;</td><td>&quot;MSI&quot;</td><td>&quot;Katana&quot;</td><td>&quot;Intel Core i7&quot;</td><td>16</td><td>1000</td><td>&quot;SSD&quot;</td><td>&quot;RTX 3050&quot;</td><td>15.6</td><td>&quot;No&quot;</td><td>1199.0</td></tr><tr><td>&quot;HP 15S-FQ5085NS Intel Core i5-…</td><td>&quot;New&quot;</td><td>&quot;HP&quot;</td><td>&quot;15S&quot;</td><td>&quot;Intel Core i5&quot;</td><td>16</td><td>512</td><td>&quot;SSD&quot;</td><td>null</td><td>15.6</td><td>&quot;No&quot;</td><td>669.01</td></tr></tbody></table></div>"
      ],
      "text/plain": [
       "shape: (5, 12)\n",
       "┌─────────────────────┬────────┬────────┬────────────┬───┬──────────┬────────┬───────┬─────────────┐\n",
       "│ Laptop              ┆ Status ┆ Brand  ┆ Model      ┆ … ┆ GPU      ┆ Screen ┆ Touch ┆ Final Price │\n",
       "│ ---                 ┆ ---    ┆ ---    ┆ ---        ┆   ┆ ---      ┆ ---    ┆ ---   ┆ ---         │\n",
       "│ str                 ┆ str    ┆ str    ┆ str        ┆   ┆ str      ┆ f64    ┆ str   ┆ f64         │\n",
       "╞═════════════════════╪════════╪════════╪════════════╪═══╪══════════╪════════╪═══════╪═════════════╡\n",
       "│ ASUS ExpertBook B1  ┆ New    ┆ Asus   ┆ ExpertBook ┆ … ┆ null     ┆ 15.6   ┆ No    ┆ 1009.0      │\n",
       "│ B1502CBA-EJ…        ┆        ┆        ┆            ┆   ┆          ┆        ┆       ┆             │\n",
       "│ Alurin Go Start     ┆ New    ┆ Alurin ┆ Go         ┆ … ┆ null     ┆ 15.6   ┆ No    ┆ 299.0       │\n",
       "│ Intel Celeron …     ┆        ┆        ┆            ┆   ┆          ┆        ┆       ┆             │\n",
       "│ ASUS ExpertBook B1  ┆ New    ┆ Asus   ┆ ExpertBook ┆ … ┆ null     ┆ 15.6   ┆ No    ┆ 789.0       │\n",
       "│ B1502CBA-EJ…        ┆        ┆        ┆            ┆   ┆          ┆        ┆       ┆             │\n",
       "│ MSI Katana GF66     ┆ New    ┆ MSI    ┆ Katana     ┆ … ┆ RTX 3050 ┆ 15.6   ┆ No    ┆ 1199.0      │\n",
       "│ 12UC-082XES In…     ┆        ┆        ┆            ┆   ┆          ┆        ┆       ┆             │\n",
       "│ HP 15S-FQ5085NS     ┆ New    ┆ HP     ┆ 15S        ┆ … ┆ null     ┆ 15.6   ┆ No    ┆ 669.01      │\n",
       "│ Intel Core i5-…     ┆        ┆        ┆            ┆   ┆          ┆        ┆       ┆             │\n",
       "└─────────────────────┴────────┴────────┴────────────┴───┴──────────┴────────┴───────┴─────────────┘"
      ]
     },
     "execution_count": 7,
     "metadata": {},
     "output_type": "execute_result"
    }
   ],
   "source": [
    "df.head()"
   ]
  },
  {
   "cell_type": "code",
   "execution_count": 8,
   "metadata": {},
   "outputs": [
    {
     "data": {
      "text/html": [
       "<div><style>\n",
       ".dataframe > thead > tr,\n",
       ".dataframe > tbody > tr {\n",
       "  text-align: right;\n",
       "  white-space: pre-wrap;\n",
       "}\n",
       "</style>\n",
       "<small>shape: (9, 13)</small><table border=\"1\" class=\"dataframe\"><thead><tr><th>statistic</th><th>Laptop</th><th>Status</th><th>Brand</th><th>Model</th><th>CPU</th><th>RAM</th><th>Storage</th><th>Storage type</th><th>GPU</th><th>Screen</th><th>Touch</th><th>Final Price</th></tr><tr><td>str</td><td>str</td><td>str</td><td>str</td><td>str</td><td>str</td><td>f64</td><td>f64</td><td>str</td><td>str</td><td>f64</td><td>str</td><td>f64</td></tr></thead><tbody><tr><td>&quot;count&quot;</td><td>&quot;2160&quot;</td><td>&quot;2160&quot;</td><td>&quot;2160&quot;</td><td>&quot;2160&quot;</td><td>&quot;2160&quot;</td><td>2160.0</td><td>2160.0</td><td>&quot;2118&quot;</td><td>&quot;789&quot;</td><td>2156.0</td><td>&quot;2160&quot;</td><td>2160.0</td></tr><tr><td>&quot;null_count&quot;</td><td>&quot;0&quot;</td><td>&quot;0&quot;</td><td>&quot;0&quot;</td><td>&quot;0&quot;</td><td>&quot;0&quot;</td><td>0.0</td><td>0.0</td><td>&quot;42&quot;</td><td>&quot;1371&quot;</td><td>4.0</td><td>&quot;0&quot;</td><td>0.0</td></tr><tr><td>&quot;mean&quot;</td><td>null</td><td>null</td><td>null</td><td>null</td><td>null</td><td>15.413889</td><td>596.294444</td><td>null</td><td>null</td><td>15.168112</td><td>null</td><td>1312.638509</td></tr><tr><td>&quot;std&quot;</td><td>null</td><td>null</td><td>null</td><td>null</td><td>null</td><td>9.867815</td><td>361.220506</td><td>null</td><td>null</td><td>1.203329</td><td>null</td><td>911.475417</td></tr><tr><td>&quot;min&quot;</td><td>&quot;ASUS  ROG Zephyrus M16 GU604VI…</td><td>&quot;New&quot;</td><td>&quot;Acer&quot;</td><td>&quot;100e&quot;</td><td>&quot;AMD 3015Ce&quot;</td><td>4.0</td><td>0.0</td><td>&quot;SSD&quot;</td><td>&quot;610 M&quot;</td><td>10.1</td><td>&quot;No&quot;</td><td>201.05</td></tr><tr><td>&quot;25%&quot;</td><td>null</td><td>null</td><td>null</td><td>null</td><td>null</td><td>8.0</td><td>256.0</td><td>null</td><td>null</td><td>14.0</td><td>null</td><td>661.11</td></tr><tr><td>&quot;50%&quot;</td><td>null</td><td>null</td><td>null</td><td>null</td><td>null</td><td>16.0</td><td>512.0</td><td>null</td><td>null</td><td>15.6</td><td>null</td><td>1032.0</td></tr><tr><td>&quot;75%&quot;</td><td>null</td><td>null</td><td>null</td><td>null</td><td>null</td><td>16.0</td><td>1000.0</td><td>null</td><td>null</td><td>15.6</td><td>null</td><td>1708.96</td></tr><tr><td>&quot;max&quot;</td><td>&quot;Vant Moove3-14 Intel Core i5-1…</td><td>&quot;Refurbished&quot;</td><td>&quot;Vant&quot;</td><td>&quot;ZenBook&quot;</td><td>&quot;Qualcomm Snapdragon 8&quot;</td><td>128.0</td><td>4000.0</td><td>&quot;eMMC&quot;</td><td>&quot;T 600&quot;</td><td>18.0</td><td>&quot;Yes&quot;</td><td>7150.47</td></tr></tbody></table></div>"
      ],
      "text/plain": [
       "shape: (9, 13)\n",
       "┌────────────┬─────────────────┬─────────────┬───────┬───┬───────┬───────────┬───────┬─────────────┐\n",
       "│ statistic  ┆ Laptop          ┆ Status      ┆ Brand ┆ … ┆ GPU   ┆ Screen    ┆ Touch ┆ Final Price │\n",
       "│ ---        ┆ ---             ┆ ---         ┆ ---   ┆   ┆ ---   ┆ ---       ┆ ---   ┆ ---         │\n",
       "│ str        ┆ str             ┆ str         ┆ str   ┆   ┆ str   ┆ f64       ┆ str   ┆ f64         │\n",
       "╞════════════╪═════════════════╪═════════════╪═══════╪═══╪═══════╪═══════════╪═══════╪═════════════╡\n",
       "│ count      ┆ 2160            ┆ 2160        ┆ 2160  ┆ … ┆ 789   ┆ 2156.0    ┆ 2160  ┆ 2160.0      │\n",
       "│ null_count ┆ 0               ┆ 0           ┆ 0     ┆ … ┆ 1371  ┆ 4.0       ┆ 0     ┆ 0.0         │\n",
       "│ mean       ┆ null            ┆ null        ┆ null  ┆ … ┆ null  ┆ 15.168112 ┆ null  ┆ 1312.638509 │\n",
       "│ std        ┆ null            ┆ null        ┆ null  ┆ … ┆ null  ┆ 1.203329  ┆ null  ┆ 911.475417  │\n",
       "│ min        ┆ ASUS  ROG       ┆ New         ┆ Acer  ┆ … ┆ 610 M ┆ 10.1      ┆ No    ┆ 201.05      │\n",
       "│            ┆ Zephyrus M16    ┆             ┆       ┆   ┆       ┆           ┆       ┆             │\n",
       "│            ┆ GU604VI…        ┆             ┆       ┆   ┆       ┆           ┆       ┆             │\n",
       "│ 25%        ┆ null            ┆ null        ┆ null  ┆ … ┆ null  ┆ 14.0      ┆ null  ┆ 661.11      │\n",
       "│ 50%        ┆ null            ┆ null        ┆ null  ┆ … ┆ null  ┆ 15.6      ┆ null  ┆ 1032.0      │\n",
       "│ 75%        ┆ null            ┆ null        ┆ null  ┆ … ┆ null  ┆ 15.6      ┆ null  ┆ 1708.96     │\n",
       "│ max        ┆ Vant Moove3-14  ┆ Refurbished ┆ Vant  ┆ … ┆ T 600 ┆ 18.0      ┆ Yes   ┆ 7150.47     │\n",
       "│            ┆ Intel Core      ┆             ┆       ┆   ┆       ┆           ┆       ┆             │\n",
       "│            ┆ i5-1…           ┆             ┆       ┆   ┆       ┆           ┆       ┆             │\n",
       "└────────────┴─────────────────┴─────────────┴───────┴───┴───────┴───────────┴───────┴─────────────┘"
      ]
     },
     "execution_count": 8,
     "metadata": {},
     "output_type": "execute_result"
    }
   ],
   "source": [
    "df.describe()"
   ]
  },
  {
   "cell_type": "markdown",
   "metadata": {},
   "source": [
    "### 3. Laptop brands\n"
   ]
  },
  {
   "cell_type": "code",
   "execution_count": 9,
   "metadata": {},
   "outputs": [
    {
     "data": {
      "text/plain": [
       "27"
      ]
     },
     "execution_count": 9,
     "metadata": {},
     "output_type": "execute_result"
    }
   ],
   "source": [
    "df.get_column(\"Brand\").n_unique()"
   ]
  },
  {
   "cell_type": "markdown",
   "metadata": {},
   "source": [
    "### 4. Missing values\n"
   ]
  },
  {
   "cell_type": "code",
   "execution_count": 10,
   "metadata": {},
   "outputs": [
    {
     "data": {
      "text/plain": [
       "3"
      ]
     },
     "execution_count": 10,
     "metadata": {},
     "output_type": "execute_result"
    }
   ],
   "source": [
    "df.select(pl.all().has_nulls()).sum().sum_horizontal()[0]"
   ]
  },
  {
   "cell_type": "code",
   "execution_count": 11,
   "metadata": {},
   "outputs": [
    {
     "data": {
      "text/html": [
       "<div><style>\n",
       ".dataframe > thead > tr,\n",
       ".dataframe > tbody > tr {\n",
       "  text-align: right;\n",
       "  white-space: pre-wrap;\n",
       "}\n",
       "</style>\n",
       "<small>shape: (3, 2)</small><table border=\"1\" class=\"dataframe\"><thead><tr><th>column</th><th>null_count</th></tr><tr><td>str</td><td>u32</td></tr></thead><tbody><tr><td>&quot;GPU&quot;</td><td>1371</td></tr><tr><td>&quot;Storage type&quot;</td><td>42</td></tr><tr><td>&quot;Screen&quot;</td><td>4</td></tr></tbody></table></div>"
      ],
      "text/plain": [
       "shape: (3, 2)\n",
       "┌──────────────┬────────────┐\n",
       "│ column       ┆ null_count │\n",
       "│ ---          ┆ ---        │\n",
       "│ str          ┆ u32        │\n",
       "╞══════════════╪════════════╡\n",
       "│ GPU          ┆ 1371       │\n",
       "│ Storage type ┆ 42         │\n",
       "│ Screen       ┆ 4          │\n",
       "└──────────────┴────────────┘"
      ]
     },
     "execution_count": 11,
     "metadata": {},
     "output_type": "execute_result"
    }
   ],
   "source": [
    "df.null_count().transpose(include_header=True, column_names=[\"null_count\"]).filter(\n",
    "    pl.col(\"null_count\") != 0\n",
    ").sort(pl.col(\"null_count\"), descending=True)"
   ]
  },
  {
   "cell_type": "markdown",
   "metadata": {},
   "source": [
    "### 5. Maximum final price\n"
   ]
  },
  {
   "cell_type": "code",
   "execution_count": 12,
   "metadata": {},
   "outputs": [
    {
     "data": {
      "text/plain": [
       "3936.0"
      ]
     },
     "execution_count": 12,
     "metadata": {},
     "output_type": "execute_result"
    }
   ],
   "source": [
    "df.filter(pl.col(\"Brand\") == \"Dell\").get_column(\"Final Price\").max()"
   ]
  },
  {
   "cell_type": "markdown",
   "metadata": {},
   "source": [
    "### 6. Median value of Screen\n"
   ]
  },
  {
   "cell_type": "markdown",
   "metadata": {},
   "source": [
    "1. Find the median value of Screen column in the dataset.\n",
    "1. Next, calculate the most frequent value of the same Screen column.\n",
    "1. Use fillna method to fill the missing values in Screen column with the most frequent value from the previous step.\n",
    "1. Now, calculate the median value of Screen once again.\n"
   ]
  },
  {
   "cell_type": "code",
   "execution_count": 13,
   "metadata": {},
   "outputs": [],
   "source": [
    "screen = df.get_column(\"Screen\")\n",
    "median = screen.median()\n",
    "mode = screen.mode()[0]\n",
    "new_median = screen.fill_null(mode).median()"
   ]
  },
  {
   "cell_type": "code",
   "execution_count": 14,
   "metadata": {},
   "outputs": [
    {
     "name": "stdout",
     "output_type": "stream",
     "text": [
      "median: 15.6\n",
      "mode: 15.6\n",
      "median after imputation: 15.6\n",
      "The median value didn't change\n"
     ]
    }
   ],
   "source": [
    "print(f\"median: {median}\")\n",
    "print(f\"mode: {mode}\")\n",
    "print(f\"median after imputation: {new_median}\")\n",
    "\n",
    "if median == new_median:\n",
    "    print(\"The median value didn't change\")\n",
    "else:\n",
    "    print(\"The median value changed\")"
   ]
  },
  {
   "cell_type": "markdown",
   "metadata": {},
   "source": [
    "### 7. Sum of weights\n"
   ]
  },
  {
   "cell_type": "markdown",
   "metadata": {},
   "source": [
    "1. Select all the \"Innjoo\" laptops from the dataset.\n",
    "1. Select only columns RAM, Storage, Screen.\n",
    "1. Get the underlying NumPy array. Let's call it X.\n",
    "1. Compute matrix-matrix multiplication between the transpose of X and X. To get the transpose, use X.T. Let's call the result XTX.\n",
    "1. Compute the inverse of XTX.\n",
    "1. Create an array y with values [1100, 1300, 800, 900, 1000, 1100].\n",
    "1. Multiply the inverse of XTX with the transpose of X, and then multiply the result by y. Call the result w.\n",
    "1. What's the sum of all the elements of the result?\n"
   ]
  },
  {
   "cell_type": "code",
   "execution_count": 39,
   "metadata": {},
   "outputs": [
    {
     "name": "stdout",
     "output_type": "stream",
     "text": [
      "263 μs ± 21.6 μs per loop (mean ± std. dev. of 7 runs, 1,000 loops each)\n"
     ]
    }
   ],
   "source": [
    "%%timeit\n",
    "X = (\n",
    "    df.filter(pl.col(\"Brand\") == \"Innjoo\")\n",
    "    .select(pl.col(\"RAM\", \"Storage\", \"Screen\"))\n",
    "    .to_numpy()\n",
    ")\n",
    "print(X)"
   ]
  },
  {
   "cell_type": "code",
   "execution_count": 16,
   "metadata": {},
   "outputs": [
    {
     "data": {
      "text/plain": [
       "array([[  8. ,   8. ,   4. ,   6. ,   6. ,   6. ],\n",
       "       [256. , 512. ,  64. ,  64. , 128. , 128. ],\n",
       "       [ 15.6,  15.6,  14.1,  14.1,  14.1,  14.1]])"
      ]
     },
     "execution_count": 16,
     "metadata": {},
     "output_type": "execute_result"
    }
   ],
   "source": [
    "X.T"
   ]
  },
  {
   "cell_type": "code",
   "execution_count": 17,
   "metadata": {},
   "outputs": [
    {
     "data": {
      "text/plain": [
       "array([[2.52000e+02, 8.32000e+03, 5.59800e+02],\n",
       "       [8.32000e+03, 3.68640e+05, 1.73952e+04],\n",
       "       [5.59800e+02, 1.73952e+04, 1.28196e+03]])"
      ]
     },
     "execution_count": 17,
     "metadata": {},
     "output_type": "execute_result"
    }
   ],
   "source": [
    "XTX = X.T @ X\n",
    "XTX"
   ]
  },
  {
   "cell_type": "code",
   "execution_count": 18,
   "metadata": {},
   "outputs": [
    {
     "data": {
      "text/plain": [
       "array([[ 2.78025381e-01, -1.51791334e-03, -1.00809855e-01],\n",
       "       [-1.51791334e-03,  1.58286725e-05,  4.48052175e-04],\n",
       "       [-1.00809855e-01,  4.48052175e-04,  3.87214888e-02]])"
      ]
     },
     "execution_count": 18,
     "metadata": {},
     "output_type": "execute_result"
    }
   ],
   "source": [
    "XTX_inv = np.linalg.inv(XTX)\n",
    "XTX_inv"
   ]
  },
  {
   "cell_type": "code",
   "execution_count": 19,
   "metadata": {},
   "outputs": [],
   "source": [
    "y = [1100, 1300, 800, 900, 1000, 1100]"
   ]
  },
  {
   "cell_type": "code",
   "execution_count": 20,
   "metadata": {},
   "outputs": [
    {
     "data": {
      "text/plain": [
       "array([45.58076606,  0.42783519, 45.29127938])"
      ]
     },
     "execution_count": 20,
     "metadata": {},
     "output_type": "execute_result"
    }
   ],
   "source": [
    "w = XTX_inv @ X.T @ y\n",
    "w"
   ]
  },
  {
   "cell_type": "code",
   "execution_count": 21,
   "metadata": {},
   "outputs": [
    {
     "name": "stdout",
     "output_type": "stream",
     "text": [
      "Sum of weights: 91.2998806299555\n"
     ]
    }
   ],
   "source": [
    "print(f\"Sum of weights: {w.sum()}\")"
   ]
  },
  {
   "cell_type": "markdown",
   "metadata": {},
   "source": [
    "### Others\n"
   ]
  },
  {
   "cell_type": "code",
   "execution_count": 31,
   "metadata": {},
   "outputs": [
    {
     "data": {
      "text/html": [
       "<div><style>\n",
       ".dataframe > thead > tr,\n",
       ".dataframe > tbody > tr {\n",
       "  text-align: right;\n",
       "  white-space: pre-wrap;\n",
       "}\n",
       "</style>\n",
       "<small>shape: (5, 12)</small><table border=\"1\" class=\"dataframe\"><thead><tr><th>Laptop</th><th>Status</th><th>Brand</th><th>Model</th><th>CPU</th><th>RAM</th><th>Storage</th><th>Storage type</th><th>GPU</th><th>Screen</th><th>Touch</th><th>Final Price</th></tr><tr><td>str</td><td>str</td><td>str</td><td>str</td><td>str</td><td>i64</td><td>i64</td><td>str</td><td>str</td><td>f64</td><td>str</td><td>f64</td></tr></thead><tbody><tr><td>&quot;ASUS ExpertBook B1 B1502CBA-EJ…</td><td>&quot;New&quot;</td><td>&quot;Asus&quot;</td><td>&quot;ExpertBook&quot;</td><td>&quot;Intel Core i5&quot;</td><td>8</td><td>512</td><td>&quot;SSD&quot;</td><td>null</td><td>15.6</td><td>&quot;No&quot;</td><td>1009.0</td></tr><tr><td>&quot;Alurin Go Start Intel Celeron …</td><td>&quot;New&quot;</td><td>&quot;Alurin&quot;</td><td>&quot;Go&quot;</td><td>&quot;Intel Celeron&quot;</td><td>8</td><td>256</td><td>&quot;SSD&quot;</td><td>null</td><td>15.6</td><td>&quot;No&quot;</td><td>299.0</td></tr><tr><td>&quot;ASUS ExpertBook B1 B1502CBA-EJ…</td><td>&quot;New&quot;</td><td>&quot;Asus&quot;</td><td>&quot;ExpertBook&quot;</td><td>&quot;Intel Core i3&quot;</td><td>8</td><td>256</td><td>&quot;SSD&quot;</td><td>null</td><td>15.6</td><td>&quot;No&quot;</td><td>789.0</td></tr><tr><td>&quot;MSI Katana GF66 12UC-082XES In…</td><td>&quot;New&quot;</td><td>&quot;MSI&quot;</td><td>&quot;Katana&quot;</td><td>&quot;Intel Core i7&quot;</td><td>16</td><td>1000</td><td>&quot;SSD&quot;</td><td>&quot;RTX 3050&quot;</td><td>15.6</td><td>&quot;No&quot;</td><td>1199.0</td></tr><tr><td>&quot;HP 15S-FQ5085NS Intel Core i5-…</td><td>&quot;New&quot;</td><td>&quot;HP&quot;</td><td>&quot;15S&quot;</td><td>&quot;Intel Core i5&quot;</td><td>16</td><td>512</td><td>&quot;SSD&quot;</td><td>null</td><td>15.6</td><td>&quot;No&quot;</td><td>669.01</td></tr></tbody></table></div>"
      ],
      "text/plain": [
       "shape: (5, 12)\n",
       "┌─────────────────────┬────────┬────────┬────────────┬───┬──────────┬────────┬───────┬─────────────┐\n",
       "│ Laptop              ┆ Status ┆ Brand  ┆ Model      ┆ … ┆ GPU      ┆ Screen ┆ Touch ┆ Final Price │\n",
       "│ ---                 ┆ ---    ┆ ---    ┆ ---        ┆   ┆ ---      ┆ ---    ┆ ---   ┆ ---         │\n",
       "│ str                 ┆ str    ┆ str    ┆ str        ┆   ┆ str      ┆ f64    ┆ str   ┆ f64         │\n",
       "╞═════════════════════╪════════╪════════╪════════════╪═══╪══════════╪════════╪═══════╪═════════════╡\n",
       "│ ASUS ExpertBook B1  ┆ New    ┆ Asus   ┆ ExpertBook ┆ … ┆ null     ┆ 15.6   ┆ No    ┆ 1009.0      │\n",
       "│ B1502CBA-EJ…        ┆        ┆        ┆            ┆   ┆          ┆        ┆       ┆             │\n",
       "│ Alurin Go Start     ┆ New    ┆ Alurin ┆ Go         ┆ … ┆ null     ┆ 15.6   ┆ No    ┆ 299.0       │\n",
       "│ Intel Celeron …     ┆        ┆        ┆            ┆   ┆          ┆        ┆       ┆             │\n",
       "│ ASUS ExpertBook B1  ┆ New    ┆ Asus   ┆ ExpertBook ┆ … ┆ null     ┆ 15.6   ┆ No    ┆ 789.0       │\n",
       "│ B1502CBA-EJ…        ┆        ┆        ┆            ┆   ┆          ┆        ┆       ┆             │\n",
       "│ MSI Katana GF66     ┆ New    ┆ MSI    ┆ Katana     ┆ … ┆ RTX 3050 ┆ 15.6   ┆ No    ┆ 1199.0      │\n",
       "│ 12UC-082XES In…     ┆        ┆        ┆            ┆   ┆          ┆        ┆       ┆             │\n",
       "│ HP 15S-FQ5085NS     ┆ New    ┆ HP     ┆ 15S        ┆ … ┆ null     ┆ 15.6   ┆ No    ┆ 669.01      │\n",
       "│ Intel Core i5-…     ┆        ┆        ┆            ┆   ┆          ┆        ┆       ┆             │\n",
       "└─────────────────────┴────────┴────────┴────────────┴───┴──────────┴────────┴───────┴─────────────┘"
      ]
     },
     "execution_count": 31,
     "metadata": {},
     "output_type": "execute_result"
    }
   ],
   "source": [
    "df.head()"
   ]
  },
  {
   "cell_type": "code",
   "execution_count": 49,
   "metadata": {},
   "outputs": [
    {
     "data": {
      "text/html": [
       "<div><style>\n",
       ".dataframe > thead > tr,\n",
       ".dataframe > tbody > tr {\n",
       "  text-align: right;\n",
       "  white-space: pre-wrap;\n",
       "}\n",
       "</style>\n",
       "<small>shape: (94, 3)</small><table border=\"1\" class=\"dataframe\"><thead><tr><th>CPU</th><th>RAM</th><th>Storage</th></tr><tr><td>str</td><td>i64</td><td>i64</td></tr></thead><tbody><tr><td>&quot;Intel Celeron&quot;</td><td>8</td><td>256</td></tr><tr><td>&quot;Intel Celeron&quot;</td><td>8</td><td>256</td></tr><tr><td>&quot;Intel Celeron&quot;</td><td>8</td><td>256</td></tr><tr><td>&quot;Intel Celeron&quot;</td><td>8</td><td>64</td></tr><tr><td>&quot;Intel Celeron&quot;</td><td>8</td><td>256</td></tr><tr><td>&hellip;</td><td>&hellip;</td><td>&hellip;</td></tr><tr><td>&quot;Intel Celeron&quot;</td><td>8</td><td>128</td></tr><tr><td>&quot;Intel Celeron&quot;</td><td>8</td><td>64</td></tr><tr><td>&quot;Intel Celeron&quot;</td><td>4</td><td>128</td></tr><tr><td>&quot;Intel Celeron&quot;</td><td>8</td><td>256</td></tr><tr><td>&quot;Intel Celeron&quot;</td><td>4</td><td>64</td></tr></tbody></table></div>"
      ],
      "text/plain": [
       "shape: (94, 3)\n",
       "┌───────────────┬─────┬─────────┐\n",
       "│ CPU           ┆ RAM ┆ Storage │\n",
       "│ ---           ┆ --- ┆ ---     │\n",
       "│ str           ┆ i64 ┆ i64     │\n",
       "╞═══════════════╪═════╪═════════╡\n",
       "│ Intel Celeron ┆ 8   ┆ 256     │\n",
       "│ Intel Celeron ┆ 8   ┆ 256     │\n",
       "│ Intel Celeron ┆ 8   ┆ 256     │\n",
       "│ Intel Celeron ┆ 8   ┆ 64      │\n",
       "│ Intel Celeron ┆ 8   ┆ 256     │\n",
       "│ …             ┆ …   ┆ …       │\n",
       "│ Intel Celeron ┆ 8   ┆ 128     │\n",
       "│ Intel Celeron ┆ 8   ┆ 64      │\n",
       "│ Intel Celeron ┆ 4   ┆ 128     │\n",
       "│ Intel Celeron ┆ 8   ┆ 256     │\n",
       "│ Intel Celeron ┆ 4   ┆ 64      │\n",
       "└───────────────┴─────┴─────────┘"
      ]
     },
     "execution_count": 49,
     "metadata": {},
     "output_type": "execute_result"
    }
   ],
   "source": [
    "df.select(pl.col(\"CPU\", \"RAM\", \"Storage\")).filter(pl.col(\"CPU\").str.contains(\"Celeron\"))"
   ]
  },
  {
   "cell_type": "code",
   "execution_count": 48,
   "metadata": {},
   "outputs": [
    {
     "data": {
      "text/html": [
       "<div><style>\n",
       ".dataframe > thead > tr,\n",
       ".dataframe > tbody > tr {\n",
       "  text-align: right;\n",
       "  white-space: pre-wrap;\n",
       "}\n",
       "</style>\n",
       "<small>shape: (27, 5)</small><table border=\"1\" class=\"dataframe\"><thead><tr><th>Brand</th><th>len</th><th>Max Final Price</th><th>Min Final Price</th><th>Mean Final Price</th></tr><tr><td>str</td><td>u32</td><td>f64</td><td>f64</td><td>f64</td></tr></thead><tbody><tr><td>&quot;Microsoft&quot;</td><td>77</td><td>3747.91</td><td>599.01</td><td>1595.543247</td></tr><tr><td>&quot;Acer&quot;</td><td>137</td><td>3691.0</td><td>264.14</td><td>1001.285766</td></tr><tr><td>&quot;Lenovo&quot;</td><td>366</td><td>5018.14</td><td>239.0</td><td>1087.72388</td></tr><tr><td>&quot;Millenium&quot;</td><td>2</td><td>2312.71</td><td>1640.98</td><td>1976.845</td></tr><tr><td>&quot;Razer&quot;</td><td>37</td><td>4999.01</td><td>1232.74</td><td>3265.701622</td></tr><tr><td>&hellip;</td><td>&hellip;</td><td>&hellip;</td><td>&hellip;</td><td>&hellip;</td></tr><tr><td>&quot;Apple&quot;</td><td>116</td><td>3849.0</td><td>299.0</td><td>1578.227672</td></tr><tr><td>&quot;Denver&quot;</td><td>1</td><td>329.95</td><td>329.95</td><td>329.95</td></tr><tr><td>&quot;Asus&quot;</td><td>415</td><td>5758.14</td><td>239.25</td><td>1269.380699</td></tr><tr><td>&quot;Jetwing&quot;</td><td>1</td><td>469.27</td><td>469.27</td><td>469.27</td></tr><tr><td>&quot;Vant&quot;</td><td>11</td><td>1217.01</td><td>632.0</td><td>1047.455455</td></tr></tbody></table></div>"
      ],
      "text/plain": [
       "shape: (27, 5)\n",
       "┌───────────┬─────┬─────────────────┬─────────────────┬──────────────────┐\n",
       "│ Brand     ┆ len ┆ Max Final Price ┆ Min Final Price ┆ Mean Final Price │\n",
       "│ ---       ┆ --- ┆ ---             ┆ ---             ┆ ---              │\n",
       "│ str       ┆ u32 ┆ f64             ┆ f64             ┆ f64              │\n",
       "╞═══════════╪═════╪═════════════════╪═════════════════╪══════════════════╡\n",
       "│ Microsoft ┆ 77  ┆ 3747.91         ┆ 599.01          ┆ 1595.543247      │\n",
       "│ Acer      ┆ 137 ┆ 3691.0          ┆ 264.14          ┆ 1001.285766      │\n",
       "│ Lenovo    ┆ 366 ┆ 5018.14         ┆ 239.0           ┆ 1087.72388       │\n",
       "│ Millenium ┆ 2   ┆ 2312.71         ┆ 1640.98         ┆ 1976.845         │\n",
       "│ Razer     ┆ 37  ┆ 4999.01         ┆ 1232.74         ┆ 3265.701622      │\n",
       "│ …         ┆ …   ┆ …               ┆ …               ┆ …                │\n",
       "│ Apple     ┆ 116 ┆ 3849.0          ┆ 299.0           ┆ 1578.227672      │\n",
       "│ Denver    ┆ 1   ┆ 329.95          ┆ 329.95          ┆ 329.95           │\n",
       "│ Asus      ┆ 415 ┆ 5758.14         ┆ 239.25          ┆ 1269.380699      │\n",
       "│ Jetwing   ┆ 1   ┆ 469.27          ┆ 469.27          ┆ 469.27           │\n",
       "│ Vant      ┆ 11  ┆ 1217.01         ┆ 632.0           ┆ 1047.455455      │\n",
       "└───────────┴─────┴─────────────────┴─────────────────┴──────────────────┘"
      ]
     },
     "execution_count": 48,
     "metadata": {},
     "output_type": "execute_result"
    }
   ],
   "source": [
    "df.group_by(pl.col(\"Brand\")).agg(\n",
    "    pl.len(),\n",
    "    pl.col(\"Final Price\").max().alias(\"Max Final Price\"),\n",
    "    pl.col(\"Final Price\").min().alias(\"Min Final Price\"),\n",
    "    pl.col(\"Final Price\").mean().alias(\"Mean Final Price\"),\n",
    ")"
   ]
  },
  {
   "cell_type": "code",
   "execution_count": 78,
   "metadata": {},
   "outputs": [
    {
     "data": {
      "text/html": [
       "<div><style>\n",
       ".dataframe > thead > tr,\n",
       ".dataframe > tbody > tr {\n",
       "  text-align: right;\n",
       "  white-space: pre-wrap;\n",
       "}\n",
       "</style>\n",
       "<small>shape: (2_160, 2)</small><table border=\"1\" class=\"dataframe\"><thead><tr><th>Brand</th><th>Recommendation</th></tr><tr><td>str</td><td>str</td></tr></thead><tbody><tr><td>&quot;Asus&quot;</td><td>&quot;Upgrade&quot;</td></tr><tr><td>&quot;Alurin&quot;</td><td>&quot;Upgrade&quot;</td></tr><tr><td>&quot;Asus&quot;</td><td>&quot;Upgrade&quot;</td></tr><tr><td>&quot;MSI&quot;</td><td>&quot;Sufficient&quot;</td></tr><tr><td>&quot;HP&quot;</td><td>&quot;Sufficient&quot;</td></tr><tr><td>&hellip;</td><td>&hellip;</td></tr><tr><td>&quot;Razer&quot;</td><td>&quot;Sufficient&quot;</td></tr><tr><td>&quot;Razer&quot;</td><td>&quot;Sufficient&quot;</td></tr><tr><td>&quot;Razer&quot;</td><td>&quot;Sufficient&quot;</td></tr><tr><td>&quot;Razer&quot;</td><td>&quot;Sufficient&quot;</td></tr><tr><td>&quot;Razer&quot;</td><td>&quot;Sufficient&quot;</td></tr></tbody></table></div>"
      ],
      "text/plain": [
       "shape: (2_160, 2)\n",
       "┌────────┬────────────────┐\n",
       "│ Brand  ┆ Recommendation │\n",
       "│ ---    ┆ ---            │\n",
       "│ str    ┆ str            │\n",
       "╞════════╪════════════════╡\n",
       "│ Asus   ┆ Upgrade        │\n",
       "│ Alurin ┆ Upgrade        │\n",
       "│ Asus   ┆ Upgrade        │\n",
       "│ MSI    ┆ Sufficient     │\n",
       "│ HP     ┆ Sufficient     │\n",
       "│ …      ┆ …              │\n",
       "│ Razer  ┆ Sufficient     │\n",
       "│ Razer  ┆ Sufficient     │\n",
       "│ Razer  ┆ Sufficient     │\n",
       "│ Razer  ┆ Sufficient     │\n",
       "│ Razer  ┆ Sufficient     │\n",
       "└────────┴────────────────┘"
      ]
     },
     "execution_count": 78,
     "metadata": {},
     "output_type": "execute_result"
    }
   ],
   "source": [
    "df.select(\n",
    "    pl.col(\"Brand\"),\n",
    "    pl.when(pl.col(\"RAM\") > 8)\n",
    "    .then(pl.lit(\"Sufficient\"))\n",
    "    .otherwise(pl.lit(\"Upgrade\"))\n",
    "    .alias(\"Recommendation\"),\n",
    ")"
   ]
  },
  {
   "cell_type": "code",
   "execution_count": 82,
   "metadata": {},
   "outputs": [
    {
     "data": {
      "text/html": [
       "<div><style>\n",
       ".dataframe > thead > tr,\n",
       ".dataframe > tbody > tr {\n",
       "  text-align: right;\n",
       "  white-space: pre-wrap;\n",
       "}\n",
       "</style>\n",
       "<small>shape: (2_160, 3)</small><table border=\"1\" class=\"dataframe\"><thead><tr><th>Brand</th><th>RAM</th><th>Recommendation</th></tr><tr><td>str</td><td>i64</td><td>str</td></tr></thead><tbody><tr><td>&quot;Asus&quot;</td><td>8</td><td>&quot;Sufficient&quot;</td></tr><tr><td>&quot;Alurin&quot;</td><td>8</td><td>&quot;Sufficient&quot;</td></tr><tr><td>&quot;Asus&quot;</td><td>8</td><td>&quot;Sufficient&quot;</td></tr><tr><td>&quot;MSI&quot;</td><td>16</td><td>&quot;Sufficient&quot;</td></tr><tr><td>&quot;HP&quot;</td><td>16</td><td>&quot;Sufficient&quot;</td></tr><tr><td>&hellip;</td><td>&hellip;</td><td>&hellip;</td></tr><tr><td>&quot;Razer&quot;</td><td>16</td><td>&quot;Sufficient&quot;</td></tr><tr><td>&quot;Razer&quot;</td><td>16</td><td>&quot;Sufficient&quot;</td></tr><tr><td>&quot;Razer&quot;</td><td>32</td><td>&quot;Overkill&quot;</td></tr><tr><td>&quot;Razer&quot;</td><td>16</td><td>&quot;Sufficient&quot;</td></tr><tr><td>&quot;Razer&quot;</td><td>16</td><td>&quot;Sufficient&quot;</td></tr></tbody></table></div>"
      ],
      "text/plain": [
       "shape: (2_160, 3)\n",
       "┌────────┬─────┬────────────────┐\n",
       "│ Brand  ┆ RAM ┆ Recommendation │\n",
       "│ ---    ┆ --- ┆ ---            │\n",
       "│ str    ┆ i64 ┆ str            │\n",
       "╞════════╪═════╪════════════════╡\n",
       "│ Asus   ┆ 8   ┆ Sufficient     │\n",
       "│ Alurin ┆ 8   ┆ Sufficient     │\n",
       "│ Asus   ┆ 8   ┆ Sufficient     │\n",
       "│ MSI    ┆ 16  ┆ Sufficient     │\n",
       "│ HP     ┆ 16  ┆ Sufficient     │\n",
       "│ …      ┆ …   ┆ …              │\n",
       "│ Razer  ┆ 16  ┆ Sufficient     │\n",
       "│ Razer  ┆ 16  ┆ Sufficient     │\n",
       "│ Razer  ┆ 32  ┆ Overkill       │\n",
       "│ Razer  ┆ 16  ┆ Sufficient     │\n",
       "│ Razer  ┆ 16  ┆ Sufficient     │\n",
       "└────────┴─────┴────────────────┘"
      ]
     },
     "execution_count": 82,
     "metadata": {},
     "output_type": "execute_result"
    }
   ],
   "source": [
    "df.select(\n",
    "    pl.col(\"Brand\"),\n",
    "    pl.col(\"RAM\"),\n",
    "    pl.when(pl.col(\"RAM\") < 8)\n",
    "    .then(pl.lit(\"Upgrade\"))\n",
    "    .otherwise(\n",
    "        pl.when(pl.col(\"RAM\") > 16)\n",
    "        .then(pl.lit(\"Overkill\"))\n",
    "        .otherwise(pl.lit(\"Sufficient\"))\n",
    "    )\n",
    "    .alias(\"Recommendation\"),\n",
    ")"
   ]
  }
 ],
 "metadata": {
  "kernelspec": {
   "display_name": ".venv",
   "language": "python",
   "name": "python3"
  },
  "language_info": {
   "codemirror_mode": {
    "name": "ipython",
    "version": 3
   },
   "file_extension": ".py",
   "mimetype": "text/x-python",
   "name": "python",
   "nbconvert_exporter": "python",
   "pygments_lexer": "ipython3",
   "version": "3.12.6"
  }
 },
 "nbformat": 4,
 "nbformat_minor": 2
}
