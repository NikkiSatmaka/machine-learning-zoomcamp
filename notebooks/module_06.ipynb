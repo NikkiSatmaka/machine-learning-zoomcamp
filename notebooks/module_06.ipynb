{
 "cells": [
  {
   "cell_type": "markdown",
   "metadata": {},
   "source": [
    "# Module 06\n"
   ]
  },
  {
   "cell_type": "code",
   "execution_count": 1,
   "metadata": {},
   "outputs": [],
   "source": [
    "import random\n",
    "from collections import Counter\n",
    "from pathlib import Path\n",
    "\n",
    "import altair as alt\n",
    "import matplotlib.pyplot as plt\n",
    "import numpy as np\n",
    "import polars as pl\n",
    "import polars.selectors as cs\n",
    "from IPython.display import display\n",
    "from sklearn.feature_extraction import DictVectorizer\n",
    "from sklearn.metrics import (\n",
    "    accuracy_score,\n",
    "    auc,\n",
    "    mutual_info_score,\n",
    "    roc_auc_score,\n",
    "    roc_curve,\n",
    ")\n",
    "from sklearn.model_selection import KFold, train_test_split\n",
    "from sklearn.tree import DecisionTreeClassifier, export_text\n",
    "from tqdm.auto import tqdm\n",
    "\n",
    "from ml_zoomcamp.utils import clean_column_names, load_data, normalize_name\n",
    "\n",
    "alt.data_transformers.disable_max_rows()\n",
    "\n",
    "ROOT_DIR = Path.cwd().parent\n",
    "DATA_DIR = ROOT_DIR.joinpath(\"data\")"
   ]
  },
  {
   "cell_type": "markdown",
   "metadata": {},
   "source": [
    "## 1. Data Preparation\n"
   ]
  },
  {
   "cell_type": "code",
   "execution_count": 2,
   "metadata": {},
   "outputs": [],
   "source": [
    "csv_uri = \"https://raw.githubusercontent.com/alexeygrigorev/mlbookcamp-code/master/chapter-06-trees/CreditScoring.csv\"\n",
    "\n",
    "df = load_data(csv_uri, DATA_DIR, null_values=[\"99999999\"])\n",
    "df = clean_column_names(df)"
   ]
  },
  {
   "cell_type": "code",
   "execution_count": 3,
   "metadata": {},
   "outputs": [
    {
     "name": "stdout",
     "output_type": "stream",
     "text": [
      "Rows: 4455\n",
      "Columns: 14\n",
      "$ status    <i64> 1, 1, 2, 1, 1, 1, 1, 1, 1, 2\n",
      "$ seniority <i64> 9, 17, 10, 0, 0, 1, 29, 9, 0, 0\n",
      "$ home      <i64> 1, 1, 2, 1, 1, 2, 2, 5, 2, 5\n",
      "$ time      <i64> 60, 60, 36, 60, 36, 60, 60, 12, 60, 48\n",
      "$ age       <i64> 30, 58, 46, 24, 26, 36, 44, 27, 32, 41\n",
      "$ marital   <i64> 2, 3, 2, 1, 1, 2, 2, 1, 2, 2\n",
      "$ records   <i64> 1, 1, 2, 1, 1, 1, 1, 1, 1, 1\n",
      "$ job       <i64> 3, 1, 3, 1, 1, 1, 1, 1, 3, 2\n",
      "$ expenses  <i64> 73, 48, 90, 63, 46, 75, 75, 35, 90, 90\n",
      "$ income    <i64> 129, 131, 200, 182, 107, 214, 125, 80, 107, 80\n",
      "$ assets    <i64> 0, 0, 3000, 2500, 0, 3500, 10000, 0, 15000, 0\n",
      "$ debt      <i64> 0, 0, 0, 0, 0, 0, 0, 0, 0, 0\n",
      "$ amount    <i64> 800, 1000, 2000, 900, 310, 650, 1600, 200, 1200, 1200\n",
      "$ price     <i64> 846, 1658, 2985, 1325, 910, 1645, 1800, 1093, 1957, 1468\n",
      "\n"
     ]
    }
   ],
   "source": [
    "df.glimpse()"
   ]
  },
  {
   "cell_type": "code",
   "execution_count": 4,
   "metadata": {},
   "outputs": [],
   "source": [
    "status_values = [\"unk\", \"ok\", \"default\"]\n",
    "home_values = [\"unk\", \"rent\", \"owner\", \"private\", \"ignore\", \"parents\", \"other\"]\n",
    "marital_values = [\"unk\", \"single\", \"married\", \"widow\", \"separated\", \"divorced\"]\n",
    "records_values = [\"unk\", \"no\", \"yes\"]\n",
    "job_values = [\"unk\", \"fixed\", \"partime\", \"freelance\", \"others\"]\n",
    "\n",
    "status_dtype = pl.Enum(status_values)\n",
    "home_dtype = pl.Enum(home_values)\n",
    "marital_dtype = pl.Enum(marital_values)\n",
    "records_dtype = pl.Enum(records_values)\n",
    "job_dtype = pl.Enum(job_values)"
   ]
  },
  {
   "cell_type": "code",
   "execution_count": 5,
   "metadata": {},
   "outputs": [],
   "source": [
    "df = df.with_columns(\n",
    "    pl.col(\"status\").replace_strict(\n",
    "        range(len(status_values)), status_values, return_dtype=status_dtype\n",
    "    ),\n",
    "    pl.col(\"home\").replace_strict(\n",
    "        range(len(home_values)), home_values, return_dtype=home_dtype\n",
    "    ),\n",
    "    pl.col(\"marital\").replace_strict(\n",
    "        range(len(marital_values)), marital_values, return_dtype=marital_dtype\n",
    "    ),\n",
    "    pl.col(\"records\").replace_strict(\n",
    "        range(len(records_values)), records_values, return_dtype=records_dtype\n",
    "    ),\n",
    "    pl.col(\"job\").replace_strict(\n",
    "        range(len(job_values)), job_values, return_dtype=job_dtype\n",
    "    ),\n",
    ")"
   ]
  },
  {
   "cell_type": "code",
   "execution_count": 6,
   "metadata": {},
   "outputs": [
    {
     "data": {
      "text/html": [
       "<div><style>\n",
       ".dataframe > thead > tr,\n",
       ".dataframe > tbody > tr {\n",
       "  text-align: right;\n",
       "  white-space: pre-wrap;\n",
       "}\n",
       "</style>\n",
       "<small>shape: (5, 14)</small><table border=\"1\" class=\"dataframe\"><thead><tr><th>status</th><th>seniority</th><th>home</th><th>time</th><th>age</th><th>marital</th><th>records</th><th>job</th><th>expenses</th><th>income</th><th>assets</th><th>debt</th><th>amount</th><th>price</th></tr><tr><td>enum</td><td>i64</td><td>enum</td><td>i64</td><td>i64</td><td>enum</td><td>enum</td><td>enum</td><td>i64</td><td>i64</td><td>i64</td><td>i64</td><td>i64</td><td>i64</td></tr></thead><tbody><tr><td>&quot;ok&quot;</td><td>9</td><td>&quot;rent&quot;</td><td>60</td><td>30</td><td>&quot;married&quot;</td><td>&quot;no&quot;</td><td>&quot;freelance&quot;</td><td>73</td><td>129</td><td>0</td><td>0</td><td>800</td><td>846</td></tr><tr><td>&quot;ok&quot;</td><td>17</td><td>&quot;rent&quot;</td><td>60</td><td>58</td><td>&quot;widow&quot;</td><td>&quot;no&quot;</td><td>&quot;fixed&quot;</td><td>48</td><td>131</td><td>0</td><td>0</td><td>1000</td><td>1658</td></tr><tr><td>&quot;default&quot;</td><td>10</td><td>&quot;owner&quot;</td><td>36</td><td>46</td><td>&quot;married&quot;</td><td>&quot;yes&quot;</td><td>&quot;freelance&quot;</td><td>90</td><td>200</td><td>3000</td><td>0</td><td>2000</td><td>2985</td></tr><tr><td>&quot;ok&quot;</td><td>0</td><td>&quot;rent&quot;</td><td>60</td><td>24</td><td>&quot;single&quot;</td><td>&quot;no&quot;</td><td>&quot;fixed&quot;</td><td>63</td><td>182</td><td>2500</td><td>0</td><td>900</td><td>1325</td></tr><tr><td>&quot;ok&quot;</td><td>0</td><td>&quot;rent&quot;</td><td>36</td><td>26</td><td>&quot;single&quot;</td><td>&quot;no&quot;</td><td>&quot;fixed&quot;</td><td>46</td><td>107</td><td>0</td><td>0</td><td>310</td><td>910</td></tr></tbody></table></div>"
      ],
      "text/plain": [
       "shape: (5, 14)\n",
       "┌─────────┬───────────┬───────┬──────┬───┬────────┬──────┬────────┬───────┐\n",
       "│ status  ┆ seniority ┆ home  ┆ time ┆ … ┆ assets ┆ debt ┆ amount ┆ price │\n",
       "│ ---     ┆ ---       ┆ ---   ┆ ---  ┆   ┆ ---    ┆ ---  ┆ ---    ┆ ---   │\n",
       "│ enum    ┆ i64       ┆ enum  ┆ i64  ┆   ┆ i64    ┆ i64  ┆ i64    ┆ i64   │\n",
       "╞═════════╪═══════════╪═══════╪══════╪═══╪════════╪══════╪════════╪═══════╡\n",
       "│ ok      ┆ 9         ┆ rent  ┆ 60   ┆ … ┆ 0      ┆ 0    ┆ 800    ┆ 846   │\n",
       "│ ok      ┆ 17        ┆ rent  ┆ 60   ┆ … ┆ 0      ┆ 0    ┆ 1000   ┆ 1658  │\n",
       "│ default ┆ 10        ┆ owner ┆ 36   ┆ … ┆ 3000   ┆ 0    ┆ 2000   ┆ 2985  │\n",
       "│ ok      ┆ 0         ┆ rent  ┆ 60   ┆ … ┆ 2500   ┆ 0    ┆ 900    ┆ 1325  │\n",
       "│ ok      ┆ 0         ┆ rent  ┆ 36   ┆ … ┆ 0      ┆ 0    ┆ 310    ┆ 910   │\n",
       "└─────────┴───────────┴───────┴──────┴───┴────────┴──────┴────────┴───────┘"
      ]
     },
     "execution_count": 6,
     "metadata": {},
     "output_type": "execute_result"
    }
   ],
   "source": [
    "df.head()"
   ]
  },
  {
   "cell_type": "code",
   "execution_count": 7,
   "metadata": {},
   "outputs": [
    {
     "data": {
      "text/html": [
       "<div><style>\n",
       ".dataframe > thead > tr,\n",
       ".dataframe > tbody > tr {\n",
       "  text-align: right;\n",
       "  white-space: pre-wrap;\n",
       "}\n",
       "</style>\n",
       "<small>shape: (9, 15)</small><table border=\"1\" class=\"dataframe\"><thead><tr><th>statistic</th><th>status</th><th>seniority</th><th>home</th><th>time</th><th>age</th><th>marital</th><th>records</th><th>job</th><th>expenses</th><th>income</th><th>assets</th><th>debt</th><th>amount</th><th>price</th></tr><tr><td>str</td><td>str</td><td>f64</td><td>str</td><td>f64</td><td>f64</td><td>str</td><td>str</td><td>str</td><td>f64</td><td>f64</td><td>f64</td><td>f64</td><td>f64</td><td>f64</td></tr></thead><tbody><tr><td>&quot;count&quot;</td><td>&quot;4455&quot;</td><td>4455.0</td><td>&quot;4455&quot;</td><td>4455.0</td><td>4455.0</td><td>&quot;4455&quot;</td><td>&quot;4455&quot;</td><td>&quot;4455&quot;</td><td>4455.0</td><td>4421.0</td><td>4408.0</td><td>4437.0</td><td>4455.0</td><td>4455.0</td></tr><tr><td>&quot;null_count&quot;</td><td>&quot;0&quot;</td><td>0.0</td><td>&quot;0&quot;</td><td>0.0</td><td>0.0</td><td>&quot;0&quot;</td><td>&quot;0&quot;</td><td>&quot;0&quot;</td><td>0.0</td><td>34.0</td><td>47.0</td><td>18.0</td><td>0.0</td><td>0.0</td></tr><tr><td>&quot;mean&quot;</td><td>null</td><td>7.987205</td><td>null</td><td>46.441751</td><td>37.077666</td><td>null</td><td>null</td><td>null</td><td>55.568799</td><td>130.568197</td><td>5403.433984</td><td>342.948614</td><td>1039.021773</td><td>1462.875645</td></tr><tr><td>&quot;std&quot;</td><td>null</td><td>8.173444</td><td>null</td><td>14.655225</td><td>10.984856</td><td>null</td><td>null</td><td>null</td><td>19.515878</td><td>86.367434</td><td>11573.161523</td><td>1245.861736</td><td>474.543007</td><td>628.089913</td></tr><tr><td>&quot;min&quot;</td><td>null</td><td>0.0</td><td>null</td><td>6.0</td><td>18.0</td><td>null</td><td>null</td><td>null</td><td>35.0</td><td>0.0</td><td>0.0</td><td>0.0</td><td>100.0</td><td>105.0</td></tr><tr><td>&quot;25%&quot;</td><td>null</td><td>2.0</td><td>null</td><td>36.0</td><td>28.0</td><td>null</td><td>null</td><td>null</td><td>35.0</td><td>80.0</td><td>0.0</td><td>0.0</td><td>700.0</td><td>1118.0</td></tr><tr><td>&quot;50%&quot;</td><td>null</td><td>5.0</td><td>null</td><td>48.0</td><td>36.0</td><td>null</td><td>null</td><td>null</td><td>51.0</td><td>120.0</td><td>3000.0</td><td>0.0</td><td>1000.0</td><td>1400.0</td></tr><tr><td>&quot;75%&quot;</td><td>null</td><td>12.0</td><td>null</td><td>60.0</td><td>45.0</td><td>null</td><td>null</td><td>null</td><td>72.0</td><td>165.0</td><td>6000.0</td><td>0.0</td><td>1300.0</td><td>1692.0</td></tr><tr><td>&quot;max&quot;</td><td>null</td><td>48.0</td><td>null</td><td>72.0</td><td>68.0</td><td>null</td><td>null</td><td>null</td><td>180.0</td><td>959.0</td><td>300000.0</td><td>30000.0</td><td>5000.0</td><td>11140.0</td></tr></tbody></table></div>"
      ],
      "text/plain": [
       "shape: (9, 15)\n",
       "┌────────────┬────────┬───────────┬──────┬───┬─────────────┬─────────────┬────────────┬────────────┐\n",
       "│ statistic  ┆ status ┆ seniority ┆ home ┆ … ┆ assets      ┆ debt        ┆ amount     ┆ price      │\n",
       "│ ---        ┆ ---    ┆ ---       ┆ ---  ┆   ┆ ---         ┆ ---         ┆ ---        ┆ ---        │\n",
       "│ str        ┆ str    ┆ f64       ┆ str  ┆   ┆ f64         ┆ f64         ┆ f64        ┆ f64        │\n",
       "╞════════════╪════════╪═══════════╪══════╪═══╪═════════════╪═════════════╪════════════╪════════════╡\n",
       "│ count      ┆ 4455   ┆ 4455.0    ┆ 4455 ┆ … ┆ 4408.0      ┆ 4437.0      ┆ 4455.0     ┆ 4455.0     │\n",
       "│ null_count ┆ 0      ┆ 0.0       ┆ 0    ┆ … ┆ 47.0        ┆ 18.0        ┆ 0.0        ┆ 0.0        │\n",
       "│ mean       ┆ null   ┆ 7.987205  ┆ null ┆ … ┆ 5403.433984 ┆ 342.948614  ┆ 1039.02177 ┆ 1462.87564 │\n",
       "│            ┆        ┆           ┆      ┆   ┆             ┆             ┆ 3          ┆ 5          │\n",
       "│ std        ┆ null   ┆ 8.173444  ┆ null ┆ … ┆ 11573.16152 ┆ 1245.861736 ┆ 474.543007 ┆ 628.089913 │\n",
       "│            ┆        ┆           ┆      ┆   ┆ 3           ┆             ┆            ┆            │\n",
       "│ min        ┆ null   ┆ 0.0       ┆ null ┆ … ┆ 0.0         ┆ 0.0         ┆ 100.0      ┆ 105.0      │\n",
       "│ 25%        ┆ null   ┆ 2.0       ┆ null ┆ … ┆ 0.0         ┆ 0.0         ┆ 700.0      ┆ 1118.0     │\n",
       "│ 50%        ┆ null   ┆ 5.0       ┆ null ┆ … ┆ 3000.0      ┆ 0.0         ┆ 1000.0     ┆ 1400.0     │\n",
       "│ 75%        ┆ null   ┆ 12.0      ┆ null ┆ … ┆ 6000.0      ┆ 0.0         ┆ 1300.0     ┆ 1692.0     │\n",
       "│ max        ┆ null   ┆ 48.0      ┆ null ┆ … ┆ 300000.0    ┆ 30000.0     ┆ 5000.0     ┆ 11140.0    │\n",
       "└────────────┴────────┴───────────┴──────┴───┴─────────────┴─────────────┴────────────┴────────────┘"
      ]
     },
     "execution_count": 7,
     "metadata": {},
     "output_type": "execute_result"
    }
   ],
   "source": [
    "df.describe()"
   ]
  },
  {
   "cell_type": "code",
   "execution_count": 8,
   "metadata": {},
   "outputs": [
    {
     "data": {
      "text/html": [
       "<div><style>\n",
       ".dataframe > thead > tr,\n",
       ".dataframe > tbody > tr {\n",
       "  text-align: right;\n",
       "  white-space: pre-wrap;\n",
       "}\n",
       "</style>\n",
       "<small>shape: (9, 15)</small><table border=\"1\" class=\"dataframe\"><thead><tr><th>statistic</th><th>status</th><th>seniority</th><th>home</th><th>time</th><th>age</th><th>marital</th><th>records</th><th>job</th><th>expenses</th><th>income</th><th>assets</th><th>debt</th><th>amount</th><th>price</th></tr><tr><td>str</td><td>str</td><td>f64</td><td>str</td><td>f64</td><td>f64</td><td>str</td><td>str</td><td>str</td><td>f64</td><td>f64</td><td>f64</td><td>f64</td><td>f64</td><td>f64</td></tr></thead><tbody><tr><td>&quot;count&quot;</td><td>&quot;4455&quot;</td><td>4455.0</td><td>&quot;4455&quot;</td><td>4455.0</td><td>4455.0</td><td>&quot;4455&quot;</td><td>&quot;4455&quot;</td><td>&quot;4455&quot;</td><td>4455.0</td><td>4421.0</td><td>4408.0</td><td>4437.0</td><td>4455.0</td><td>4455.0</td></tr><tr><td>&quot;null_count&quot;</td><td>&quot;0&quot;</td><td>0.0</td><td>&quot;0&quot;</td><td>0.0</td><td>0.0</td><td>&quot;0&quot;</td><td>&quot;0&quot;</td><td>&quot;0&quot;</td><td>0.0</td><td>34.0</td><td>47.0</td><td>18.0</td><td>0.0</td><td>0.0</td></tr><tr><td>&quot;mean&quot;</td><td>null</td><td>7.987205</td><td>null</td><td>46.441751</td><td>37.077666</td><td>null</td><td>null</td><td>null</td><td>55.568799</td><td>130.568197</td><td>5403.433984</td><td>342.948614</td><td>1039.021773</td><td>1462.875645</td></tr><tr><td>&quot;std&quot;</td><td>null</td><td>8.173444</td><td>null</td><td>14.655225</td><td>10.984856</td><td>null</td><td>null</td><td>null</td><td>19.515878</td><td>86.367434</td><td>11573.161523</td><td>1245.861736</td><td>474.543007</td><td>628.089913</td></tr><tr><td>&quot;min&quot;</td><td>null</td><td>0.0</td><td>null</td><td>6.0</td><td>18.0</td><td>null</td><td>null</td><td>null</td><td>35.0</td><td>0.0</td><td>0.0</td><td>0.0</td><td>100.0</td><td>105.0</td></tr><tr><td>&quot;25%&quot;</td><td>null</td><td>2.0</td><td>null</td><td>36.0</td><td>28.0</td><td>null</td><td>null</td><td>null</td><td>35.0</td><td>80.0</td><td>0.0</td><td>0.0</td><td>700.0</td><td>1118.0</td></tr><tr><td>&quot;50%&quot;</td><td>null</td><td>5.0</td><td>null</td><td>48.0</td><td>36.0</td><td>null</td><td>null</td><td>null</td><td>51.0</td><td>120.0</td><td>3000.0</td><td>0.0</td><td>1000.0</td><td>1400.0</td></tr><tr><td>&quot;75%&quot;</td><td>null</td><td>12.0</td><td>null</td><td>60.0</td><td>45.0</td><td>null</td><td>null</td><td>null</td><td>72.0</td><td>165.0</td><td>6000.0</td><td>0.0</td><td>1300.0</td><td>1692.0</td></tr><tr><td>&quot;max&quot;</td><td>null</td><td>48.0</td><td>null</td><td>72.0</td><td>68.0</td><td>null</td><td>null</td><td>null</td><td>180.0</td><td>959.0</td><td>300000.0</td><td>30000.0</td><td>5000.0</td><td>11140.0</td></tr></tbody></table></div>"
      ],
      "text/plain": [
       "shape: (9, 15)\n",
       "┌────────────┬────────┬───────────┬──────┬───┬─────────────┬─────────────┬────────────┬────────────┐\n",
       "│ statistic  ┆ status ┆ seniority ┆ home ┆ … ┆ assets      ┆ debt        ┆ amount     ┆ price      │\n",
       "│ ---        ┆ ---    ┆ ---       ┆ ---  ┆   ┆ ---         ┆ ---         ┆ ---        ┆ ---        │\n",
       "│ str        ┆ str    ┆ f64       ┆ str  ┆   ┆ f64         ┆ f64         ┆ f64        ┆ f64        │\n",
       "╞════════════╪════════╪═══════════╪══════╪═══╪═════════════╪═════════════╪════════════╪════════════╡\n",
       "│ count      ┆ 4455   ┆ 4455.0    ┆ 4455 ┆ … ┆ 4408.0      ┆ 4437.0      ┆ 4455.0     ┆ 4455.0     │\n",
       "│ null_count ┆ 0      ┆ 0.0       ┆ 0    ┆ … ┆ 47.0        ┆ 18.0        ┆ 0.0        ┆ 0.0        │\n",
       "│ mean       ┆ null   ┆ 7.987205  ┆ null ┆ … ┆ 5403.433984 ┆ 342.948614  ┆ 1039.02177 ┆ 1462.87564 │\n",
       "│            ┆        ┆           ┆      ┆   ┆             ┆             ┆ 3          ┆ 5          │\n",
       "│ std        ┆ null   ┆ 8.173444  ┆ null ┆ … ┆ 11573.16152 ┆ 1245.861736 ┆ 474.543007 ┆ 628.089913 │\n",
       "│            ┆        ┆           ┆      ┆   ┆ 3           ┆             ┆            ┆            │\n",
       "│ min        ┆ null   ┆ 0.0       ┆ null ┆ … ┆ 0.0         ┆ 0.0         ┆ 100.0      ┆ 105.0      │\n",
       "│ 25%        ┆ null   ┆ 2.0       ┆ null ┆ … ┆ 0.0         ┆ 0.0         ┆ 700.0      ┆ 1118.0     │\n",
       "│ 50%        ┆ null   ┆ 5.0       ┆ null ┆ … ┆ 3000.0      ┆ 0.0         ┆ 1000.0     ┆ 1400.0     │\n",
       "│ 75%        ┆ null   ┆ 12.0      ┆ null ┆ … ┆ 6000.0      ┆ 0.0         ┆ 1300.0     ┆ 1692.0     │\n",
       "│ max        ┆ null   ┆ 48.0      ┆ null ┆ … ┆ 300000.0    ┆ 30000.0     ┆ 5000.0     ┆ 11140.0    │\n",
       "└────────────┴────────┴───────────┴──────┴───┴─────────────┴─────────────┴────────────┴────────────┘"
      ]
     },
     "execution_count": 8,
     "metadata": {},
     "output_type": "execute_result"
    }
   ],
   "source": [
    "df = df.with_columns(pl.col(\"income\", \"assets\", \"debt\").replace(99999999, None))\n",
    "df.describe()"
   ]
  },
  {
   "cell_type": "code",
   "execution_count": 9,
   "metadata": {},
   "outputs": [
    {
     "data": {
      "text/html": [
       "<div><style>\n",
       ".dataframe > thead > tr,\n",
       ".dataframe > tbody > tr {\n",
       "  text-align: right;\n",
       "  white-space: pre-wrap;\n",
       "}\n",
       "</style>\n",
       "<small>shape: (3, 2)</small><table border=\"1\" class=\"dataframe\"><thead><tr><th>column</th><th>null_count</th></tr><tr><td>str</td><td>u32</td></tr></thead><tbody><tr><td>&quot;assets&quot;</td><td>47</td></tr><tr><td>&quot;income&quot;</td><td>34</td></tr><tr><td>&quot;debt&quot;</td><td>18</td></tr></tbody></table></div>"
      ],
      "text/plain": [
       "shape: (3, 2)\n",
       "┌────────┬────────────┐\n",
       "│ column ┆ null_count │\n",
       "│ ---    ┆ ---        │\n",
       "│ str    ┆ u32        │\n",
       "╞════════╪════════════╡\n",
       "│ assets ┆ 47         │\n",
       "│ income ┆ 34         │\n",
       "│ debt   ┆ 18         │\n",
       "└────────┴────────────┘"
      ]
     },
     "execution_count": 9,
     "metadata": {},
     "output_type": "execute_result"
    }
   ],
   "source": [
    "df.null_count().transpose(include_header=True, column_names=[\"null_count\"]).filter(\n",
    "    pl.col(\"null_count\") > 0\n",
    ").sort(pl.col(\"null_count\"), descending=True)"
   ]
  },
  {
   "cell_type": "code",
   "execution_count": 10,
   "metadata": {},
   "outputs": [
    {
     "data": {
      "text/html": [
       "<div><style>\n",
       ".dataframe > thead > tr,\n",
       ".dataframe > tbody > tr {\n",
       "  text-align: right;\n",
       "  white-space: pre-wrap;\n",
       "}\n",
       "</style>\n",
       "<small>shape: (3, 2)</small><table border=\"1\" class=\"dataframe\"><thead><tr><th>status</th><th>count</th></tr><tr><td>enum</td><td>u32</td></tr></thead><tbody><tr><td>&quot;default&quot;</td><td>1254</td></tr><tr><td>&quot;ok&quot;</td><td>3200</td></tr><tr><td>&quot;unk&quot;</td><td>1</td></tr></tbody></table></div>"
      ],
      "text/plain": [
       "shape: (3, 2)\n",
       "┌─────────┬───────┐\n",
       "│ status  ┆ count │\n",
       "│ ---     ┆ ---   │\n",
       "│ enum    ┆ u32   │\n",
       "╞═════════╪═══════╡\n",
       "│ default ┆ 1254  │\n",
       "│ ok      ┆ 3200  │\n",
       "│ unk     ┆ 1     │\n",
       "└─────────┴───────┘"
      ]
     },
     "execution_count": 10,
     "metadata": {},
     "output_type": "execute_result"
    }
   ],
   "source": [
    "df[\"status\"].value_counts()"
   ]
  },
  {
   "cell_type": "code",
   "execution_count": 11,
   "metadata": {},
   "outputs": [],
   "source": [
    "df = df.filter(pl.col(\"status\") != \"unk\")"
   ]
  },
  {
   "cell_type": "code",
   "execution_count": 12,
   "metadata": {},
   "outputs": [
    {
     "data": {
      "text/html": [
       "<div><style>\n",
       ".dataframe > thead > tr,\n",
       ".dataframe > tbody > tr {\n",
       "  text-align: right;\n",
       "  white-space: pre-wrap;\n",
       "}\n",
       "</style>\n",
       "<small>shape: (5, 14)</small><table border=\"1\" class=\"dataframe\"><thead><tr><th>status</th><th>seniority</th><th>home</th><th>time</th><th>age</th><th>marital</th><th>records</th><th>job</th><th>expenses</th><th>income</th><th>assets</th><th>debt</th><th>amount</th><th>price</th></tr><tr><td>enum</td><td>i64</td><td>enum</td><td>i64</td><td>i64</td><td>enum</td><td>enum</td><td>enum</td><td>i64</td><td>i64</td><td>i64</td><td>i64</td><td>i64</td><td>i64</td></tr></thead><tbody><tr><td>&quot;ok&quot;</td><td>9</td><td>&quot;rent&quot;</td><td>60</td><td>30</td><td>&quot;married&quot;</td><td>&quot;no&quot;</td><td>&quot;freelance&quot;</td><td>73</td><td>129</td><td>0</td><td>0</td><td>800</td><td>846</td></tr><tr><td>&quot;ok&quot;</td><td>17</td><td>&quot;rent&quot;</td><td>60</td><td>58</td><td>&quot;widow&quot;</td><td>&quot;no&quot;</td><td>&quot;fixed&quot;</td><td>48</td><td>131</td><td>0</td><td>0</td><td>1000</td><td>1658</td></tr><tr><td>&quot;default&quot;</td><td>10</td><td>&quot;owner&quot;</td><td>36</td><td>46</td><td>&quot;married&quot;</td><td>&quot;yes&quot;</td><td>&quot;freelance&quot;</td><td>90</td><td>200</td><td>3000</td><td>0</td><td>2000</td><td>2985</td></tr><tr><td>&quot;ok&quot;</td><td>0</td><td>&quot;rent&quot;</td><td>60</td><td>24</td><td>&quot;single&quot;</td><td>&quot;no&quot;</td><td>&quot;fixed&quot;</td><td>63</td><td>182</td><td>2500</td><td>0</td><td>900</td><td>1325</td></tr><tr><td>&quot;ok&quot;</td><td>0</td><td>&quot;rent&quot;</td><td>36</td><td>26</td><td>&quot;single&quot;</td><td>&quot;no&quot;</td><td>&quot;fixed&quot;</td><td>46</td><td>107</td><td>0</td><td>0</td><td>310</td><td>910</td></tr></tbody></table></div>"
      ],
      "text/plain": [
       "shape: (5, 14)\n",
       "┌─────────┬───────────┬───────┬──────┬───┬────────┬──────┬────────┬───────┐\n",
       "│ status  ┆ seniority ┆ home  ┆ time ┆ … ┆ assets ┆ debt ┆ amount ┆ price │\n",
       "│ ---     ┆ ---       ┆ ---   ┆ ---  ┆   ┆ ---    ┆ ---  ┆ ---    ┆ ---   │\n",
       "│ enum    ┆ i64       ┆ enum  ┆ i64  ┆   ┆ i64    ┆ i64  ┆ i64    ┆ i64   │\n",
       "╞═════════╪═══════════╪═══════╪══════╪═══╪════════╪══════╪════════╪═══════╡\n",
       "│ ok      ┆ 9         ┆ rent  ┆ 60   ┆ … ┆ 0      ┆ 0    ┆ 800    ┆ 846   │\n",
       "│ ok      ┆ 17        ┆ rent  ┆ 60   ┆ … ┆ 0      ┆ 0    ┆ 1000   ┆ 1658  │\n",
       "│ default ┆ 10        ┆ owner ┆ 36   ┆ … ┆ 3000   ┆ 0    ┆ 2000   ┆ 2985  │\n",
       "│ ok      ┆ 0         ┆ rent  ┆ 60   ┆ … ┆ 2500   ┆ 0    ┆ 900    ┆ 1325  │\n",
       "│ ok      ┆ 0         ┆ rent  ┆ 36   ┆ … ┆ 0      ┆ 0    ┆ 310    ┆ 910   │\n",
       "└─────────┴───────────┴───────┴──────┴───┴────────┴──────┴────────┴───────┘"
      ]
     },
     "execution_count": 12,
     "metadata": {},
     "output_type": "execute_result"
    }
   ],
   "source": [
    "df.head()"
   ]
  },
  {
   "cell_type": "markdown",
   "metadata": {},
   "source": [
    "## 2. Setting Up Validation Framework\n"
   ]
  },
  {
   "cell_type": "code",
   "execution_count": 13,
   "metadata": {},
   "outputs": [],
   "source": [
    "df_full_train, df_test = train_test_split(df, test_size=0.2, random_state=11)\n",
    "df_train, df_val = train_test_split(df_full_train, test_size=0.25, random_state=11)"
   ]
  },
  {
   "cell_type": "code",
   "execution_count": 14,
   "metadata": {},
   "outputs": [
    {
     "data": {
      "text/plain": [
       "(2672, 891, 891)"
      ]
     },
     "execution_count": 14,
     "metadata": {},
     "output_type": "execute_result"
    }
   ],
   "source": [
    "len(df_train), len(df_val), len(df_test)"
   ]
  },
  {
   "cell_type": "code",
   "execution_count": 15,
   "metadata": {},
   "outputs": [],
   "source": [
    "y_train = (df_train[\"status\"] == \"default\").cast(pl.Int8).to_numpy()\n",
    "y_val = (df_val[\"status\"] == \"default\").cast(pl.Int8).to_numpy()\n",
    "y_test = (df_test[\"status\"] == \"default\").cast(pl.Int8).to_numpy()"
   ]
  },
  {
   "cell_type": "code",
   "execution_count": 16,
   "metadata": {},
   "outputs": [],
   "source": [
    "df_train = df_train.drop(\"status\")\n",
    "df_val = df_val.drop(\"status\")\n",
    "df_test = df_test.drop(\"status\")"
   ]
  },
  {
   "cell_type": "markdown",
   "metadata": {},
   "source": [
    "## 3. Exploratory Data Analysis\n"
   ]
  },
  {
   "cell_type": "code",
   "execution_count": 17,
   "metadata": {},
   "outputs": [
    {
     "data": {
      "text/html": [
       "<div><style>\n",
       ".dataframe > thead > tr,\n",
       ".dataframe > tbody > tr {\n",
       "  text-align: right;\n",
       "  white-space: pre-wrap;\n",
       "}\n",
       "</style>\n",
       "<small>shape: (3, 2)</small><table border=\"1\" class=\"dataframe\"><thead><tr><th>column</th><th>null_count</th></tr><tr><td>str</td><td>u32</td></tr></thead><tbody><tr><td>&quot;income&quot;</td><td>30</td></tr><tr><td>&quot;assets&quot;</td><td>38</td></tr><tr><td>&quot;debt&quot;</td><td>14</td></tr></tbody></table></div>"
      ],
      "text/plain": [
       "shape: (3, 2)\n",
       "┌────────┬────────────┐\n",
       "│ column ┆ null_count │\n",
       "│ ---    ┆ ---        │\n",
       "│ str    ┆ u32        │\n",
       "╞════════╪════════════╡\n",
       "│ income ┆ 30         │\n",
       "│ assets ┆ 38         │\n",
       "│ debt   ┆ 14         │\n",
       "└────────┴────────────┘"
      ]
     },
     "execution_count": 17,
     "metadata": {},
     "output_type": "execute_result"
    }
   ],
   "source": [
    "df_full_train.null_count().transpose(\n",
    "    include_header=True, column_names=[\"null_count\"]\n",
    ").filter(pl.col(\"null_count\") > 0)"
   ]
  },
  {
   "cell_type": "code",
   "execution_count": 18,
   "metadata": {},
   "outputs": [
    {
     "data": {
      "text/html": [
       "<div><style>\n",
       ".dataframe > thead > tr,\n",
       ".dataframe > tbody > tr {\n",
       "  text-align: right;\n",
       "  white-space: pre-wrap;\n",
       "}\n",
       "</style>\n",
       "<small>shape: (2, 2)</small><table border=\"1\" class=\"dataframe\"><thead><tr><th>status</th><th>proportion</th></tr><tr><td>enum</td><td>f64</td></tr></thead><tbody><tr><td>&quot;ok&quot;</td><td>0.720741</td></tr><tr><td>&quot;default&quot;</td><td>0.279259</td></tr></tbody></table></div>"
      ],
      "text/plain": [
       "shape: (2, 2)\n",
       "┌─────────┬────────────┐\n",
       "│ status  ┆ proportion │\n",
       "│ ---     ┆ ---        │\n",
       "│ enum    ┆ f64        │\n",
       "╞═════════╪════════════╡\n",
       "│ ok      ┆ 0.720741   │\n",
       "│ default ┆ 0.279259   │\n",
       "└─────────┴────────────┘"
      ]
     },
     "execution_count": 18,
     "metadata": {},
     "output_type": "execute_result"
    }
   ],
   "source": [
    "df_full_train[\"status\"].value_counts(sort=True, normalize=True)"
   ]
  },
  {
   "cell_type": "markdown",
   "metadata": {},
   "source": [
    "## 4. Encoding\n"
   ]
  },
  {
   "cell_type": "code",
   "execution_count": 19,
   "metadata": {},
   "outputs": [],
   "source": [
    "train_dicts = df_train.fill_null(0).to_dicts()"
   ]
  },
  {
   "cell_type": "code",
   "execution_count": 20,
   "metadata": {},
   "outputs": [],
   "source": [
    "dv = DictVectorizer(sparse=False)\n",
    "X_train = dv.fit_transform(train_dicts)"
   ]
  },
  {
   "cell_type": "code",
   "execution_count": 21,
   "metadata": {},
   "outputs": [
    {
     "data": {
      "text/plain": [
       "['age',\n",
       " 'amount',\n",
       " 'assets',\n",
       " 'debt',\n",
       " 'expenses',\n",
       " 'home=ignore',\n",
       " 'home=other',\n",
       " 'home=owner',\n",
       " 'home=parents',\n",
       " 'home=private']"
      ]
     },
     "execution_count": 21,
     "metadata": {},
     "output_type": "execute_result"
    }
   ],
   "source": [
    "dv.feature_names_[:10]"
   ]
  },
  {
   "cell_type": "markdown",
   "metadata": {},
   "source": [
    "## 5. Decision Trees\n"
   ]
  },
  {
   "cell_type": "code",
   "execution_count": 22,
   "metadata": {},
   "outputs": [
    {
     "data": {
      "text/html": [
       "<style>#sk-container-id-1 {\n",
       "  /* Definition of color scheme common for light and dark mode */\n",
       "  --sklearn-color-text: black;\n",
       "  --sklearn-color-line: gray;\n",
       "  /* Definition of color scheme for unfitted estimators */\n",
       "  --sklearn-color-unfitted-level-0: #fff5e6;\n",
       "  --sklearn-color-unfitted-level-1: #f6e4d2;\n",
       "  --sklearn-color-unfitted-level-2: #ffe0b3;\n",
       "  --sklearn-color-unfitted-level-3: chocolate;\n",
       "  /* Definition of color scheme for fitted estimators */\n",
       "  --sklearn-color-fitted-level-0: #f0f8ff;\n",
       "  --sklearn-color-fitted-level-1: #d4ebff;\n",
       "  --sklearn-color-fitted-level-2: #b3dbfd;\n",
       "  --sklearn-color-fitted-level-3: cornflowerblue;\n",
       "\n",
       "  /* Specific color for light theme */\n",
       "  --sklearn-color-text-on-default-background: var(--sg-text-color, var(--theme-code-foreground, var(--jp-content-font-color1, black)));\n",
       "  --sklearn-color-background: var(--sg-background-color, var(--theme-background, var(--jp-layout-color0, white)));\n",
       "  --sklearn-color-border-box: var(--sg-text-color, var(--theme-code-foreground, var(--jp-content-font-color1, black)));\n",
       "  --sklearn-color-icon: #696969;\n",
       "\n",
       "  @media (prefers-color-scheme: dark) {\n",
       "    /* Redefinition of color scheme for dark theme */\n",
       "    --sklearn-color-text-on-default-background: var(--sg-text-color, var(--theme-code-foreground, var(--jp-content-font-color1, white)));\n",
       "    --sklearn-color-background: var(--sg-background-color, var(--theme-background, var(--jp-layout-color0, #111)));\n",
       "    --sklearn-color-border-box: var(--sg-text-color, var(--theme-code-foreground, var(--jp-content-font-color1, white)));\n",
       "    --sklearn-color-icon: #878787;\n",
       "  }\n",
       "}\n",
       "\n",
       "#sk-container-id-1 {\n",
       "  color: var(--sklearn-color-text);\n",
       "}\n",
       "\n",
       "#sk-container-id-1 pre {\n",
       "  padding: 0;\n",
       "}\n",
       "\n",
       "#sk-container-id-1 input.sk-hidden--visually {\n",
       "  border: 0;\n",
       "  clip: rect(1px 1px 1px 1px);\n",
       "  clip: rect(1px, 1px, 1px, 1px);\n",
       "  height: 1px;\n",
       "  margin: -1px;\n",
       "  overflow: hidden;\n",
       "  padding: 0;\n",
       "  position: absolute;\n",
       "  width: 1px;\n",
       "}\n",
       "\n",
       "#sk-container-id-1 div.sk-dashed-wrapped {\n",
       "  border: 1px dashed var(--sklearn-color-line);\n",
       "  margin: 0 0.4em 0.5em 0.4em;\n",
       "  box-sizing: border-box;\n",
       "  padding-bottom: 0.4em;\n",
       "  background-color: var(--sklearn-color-background);\n",
       "}\n",
       "\n",
       "#sk-container-id-1 div.sk-container {\n",
       "  /* jupyter's `normalize.less` sets `[hidden] { display: none; }`\n",
       "     but bootstrap.min.css set `[hidden] { display: none !important; }`\n",
       "     so we also need the `!important` here to be able to override the\n",
       "     default hidden behavior on the sphinx rendered scikit-learn.org.\n",
       "     See: https://github.com/scikit-learn/scikit-learn/issues/21755 */\n",
       "  display: inline-block !important;\n",
       "  position: relative;\n",
       "}\n",
       "\n",
       "#sk-container-id-1 div.sk-text-repr-fallback {\n",
       "  display: none;\n",
       "}\n",
       "\n",
       "div.sk-parallel-item,\n",
       "div.sk-serial,\n",
       "div.sk-item {\n",
       "  /* draw centered vertical line to link estimators */\n",
       "  background-image: linear-gradient(var(--sklearn-color-text-on-default-background), var(--sklearn-color-text-on-default-background));\n",
       "  background-size: 2px 100%;\n",
       "  background-repeat: no-repeat;\n",
       "  background-position: center center;\n",
       "}\n",
       "\n",
       "/* Parallel-specific style estimator block */\n",
       "\n",
       "#sk-container-id-1 div.sk-parallel-item::after {\n",
       "  content: \"\";\n",
       "  width: 100%;\n",
       "  border-bottom: 2px solid var(--sklearn-color-text-on-default-background);\n",
       "  flex-grow: 1;\n",
       "}\n",
       "\n",
       "#sk-container-id-1 div.sk-parallel {\n",
       "  display: flex;\n",
       "  align-items: stretch;\n",
       "  justify-content: center;\n",
       "  background-color: var(--sklearn-color-background);\n",
       "  position: relative;\n",
       "}\n",
       "\n",
       "#sk-container-id-1 div.sk-parallel-item {\n",
       "  display: flex;\n",
       "  flex-direction: column;\n",
       "}\n",
       "\n",
       "#sk-container-id-1 div.sk-parallel-item:first-child::after {\n",
       "  align-self: flex-end;\n",
       "  width: 50%;\n",
       "}\n",
       "\n",
       "#sk-container-id-1 div.sk-parallel-item:last-child::after {\n",
       "  align-self: flex-start;\n",
       "  width: 50%;\n",
       "}\n",
       "\n",
       "#sk-container-id-1 div.sk-parallel-item:only-child::after {\n",
       "  width: 0;\n",
       "}\n",
       "\n",
       "/* Serial-specific style estimator block */\n",
       "\n",
       "#sk-container-id-1 div.sk-serial {\n",
       "  display: flex;\n",
       "  flex-direction: column;\n",
       "  align-items: center;\n",
       "  background-color: var(--sklearn-color-background);\n",
       "  padding-right: 1em;\n",
       "  padding-left: 1em;\n",
       "}\n",
       "\n",
       "\n",
       "/* Toggleable style: style used for estimator/Pipeline/ColumnTransformer box that is\n",
       "clickable and can be expanded/collapsed.\n",
       "- Pipeline and ColumnTransformer use this feature and define the default style\n",
       "- Estimators will overwrite some part of the style using the `sk-estimator` class\n",
       "*/\n",
       "\n",
       "/* Pipeline and ColumnTransformer style (default) */\n",
       "\n",
       "#sk-container-id-1 div.sk-toggleable {\n",
       "  /* Default theme specific background. It is overwritten whether we have a\n",
       "  specific estimator or a Pipeline/ColumnTransformer */\n",
       "  background-color: var(--sklearn-color-background);\n",
       "}\n",
       "\n",
       "/* Toggleable label */\n",
       "#sk-container-id-1 label.sk-toggleable__label {\n",
       "  cursor: pointer;\n",
       "  display: block;\n",
       "  width: 100%;\n",
       "  margin-bottom: 0;\n",
       "  padding: 0.5em;\n",
       "  box-sizing: border-box;\n",
       "  text-align: center;\n",
       "}\n",
       "\n",
       "#sk-container-id-1 label.sk-toggleable__label-arrow:before {\n",
       "  /* Arrow on the left of the label */\n",
       "  content: \"▸\";\n",
       "  float: left;\n",
       "  margin-right: 0.25em;\n",
       "  color: var(--sklearn-color-icon);\n",
       "}\n",
       "\n",
       "#sk-container-id-1 label.sk-toggleable__label-arrow:hover:before {\n",
       "  color: var(--sklearn-color-text);\n",
       "}\n",
       "\n",
       "/* Toggleable content - dropdown */\n",
       "\n",
       "#sk-container-id-1 div.sk-toggleable__content {\n",
       "  max-height: 0;\n",
       "  max-width: 0;\n",
       "  overflow: hidden;\n",
       "  text-align: left;\n",
       "  /* unfitted */\n",
       "  background-color: var(--sklearn-color-unfitted-level-0);\n",
       "}\n",
       "\n",
       "#sk-container-id-1 div.sk-toggleable__content.fitted {\n",
       "  /* fitted */\n",
       "  background-color: var(--sklearn-color-fitted-level-0);\n",
       "}\n",
       "\n",
       "#sk-container-id-1 div.sk-toggleable__content pre {\n",
       "  margin: 0.2em;\n",
       "  border-radius: 0.25em;\n",
       "  color: var(--sklearn-color-text);\n",
       "  /* unfitted */\n",
       "  background-color: var(--sklearn-color-unfitted-level-0);\n",
       "}\n",
       "\n",
       "#sk-container-id-1 div.sk-toggleable__content.fitted pre {\n",
       "  /* unfitted */\n",
       "  background-color: var(--sklearn-color-fitted-level-0);\n",
       "}\n",
       "\n",
       "#sk-container-id-1 input.sk-toggleable__control:checked~div.sk-toggleable__content {\n",
       "  /* Expand drop-down */\n",
       "  max-height: 200px;\n",
       "  max-width: 100%;\n",
       "  overflow: auto;\n",
       "}\n",
       "\n",
       "#sk-container-id-1 input.sk-toggleable__control:checked~label.sk-toggleable__label-arrow:before {\n",
       "  content: \"▾\";\n",
       "}\n",
       "\n",
       "/* Pipeline/ColumnTransformer-specific style */\n",
       "\n",
       "#sk-container-id-1 div.sk-label input.sk-toggleable__control:checked~label.sk-toggleable__label {\n",
       "  color: var(--sklearn-color-text);\n",
       "  background-color: var(--sklearn-color-unfitted-level-2);\n",
       "}\n",
       "\n",
       "#sk-container-id-1 div.sk-label.fitted input.sk-toggleable__control:checked~label.sk-toggleable__label {\n",
       "  background-color: var(--sklearn-color-fitted-level-2);\n",
       "}\n",
       "\n",
       "/* Estimator-specific style */\n",
       "\n",
       "/* Colorize estimator box */\n",
       "#sk-container-id-1 div.sk-estimator input.sk-toggleable__control:checked~label.sk-toggleable__label {\n",
       "  /* unfitted */\n",
       "  background-color: var(--sklearn-color-unfitted-level-2);\n",
       "}\n",
       "\n",
       "#sk-container-id-1 div.sk-estimator.fitted input.sk-toggleable__control:checked~label.sk-toggleable__label {\n",
       "  /* fitted */\n",
       "  background-color: var(--sklearn-color-fitted-level-2);\n",
       "}\n",
       "\n",
       "#sk-container-id-1 div.sk-label label.sk-toggleable__label,\n",
       "#sk-container-id-1 div.sk-label label {\n",
       "  /* The background is the default theme color */\n",
       "  color: var(--sklearn-color-text-on-default-background);\n",
       "}\n",
       "\n",
       "/* On hover, darken the color of the background */\n",
       "#sk-container-id-1 div.sk-label:hover label.sk-toggleable__label {\n",
       "  color: var(--sklearn-color-text);\n",
       "  background-color: var(--sklearn-color-unfitted-level-2);\n",
       "}\n",
       "\n",
       "/* Label box, darken color on hover, fitted */\n",
       "#sk-container-id-1 div.sk-label.fitted:hover label.sk-toggleable__label.fitted {\n",
       "  color: var(--sklearn-color-text);\n",
       "  background-color: var(--sklearn-color-fitted-level-2);\n",
       "}\n",
       "\n",
       "/* Estimator label */\n",
       "\n",
       "#sk-container-id-1 div.sk-label label {\n",
       "  font-family: monospace;\n",
       "  font-weight: bold;\n",
       "  display: inline-block;\n",
       "  line-height: 1.2em;\n",
       "}\n",
       "\n",
       "#sk-container-id-1 div.sk-label-container {\n",
       "  text-align: center;\n",
       "}\n",
       "\n",
       "/* Estimator-specific */\n",
       "#sk-container-id-1 div.sk-estimator {\n",
       "  font-family: monospace;\n",
       "  border: 1px dotted var(--sklearn-color-border-box);\n",
       "  border-radius: 0.25em;\n",
       "  box-sizing: border-box;\n",
       "  margin-bottom: 0.5em;\n",
       "  /* unfitted */\n",
       "  background-color: var(--sklearn-color-unfitted-level-0);\n",
       "}\n",
       "\n",
       "#sk-container-id-1 div.sk-estimator.fitted {\n",
       "  /* fitted */\n",
       "  background-color: var(--sklearn-color-fitted-level-0);\n",
       "}\n",
       "\n",
       "/* on hover */\n",
       "#sk-container-id-1 div.sk-estimator:hover {\n",
       "  /* unfitted */\n",
       "  background-color: var(--sklearn-color-unfitted-level-2);\n",
       "}\n",
       "\n",
       "#sk-container-id-1 div.sk-estimator.fitted:hover {\n",
       "  /* fitted */\n",
       "  background-color: var(--sklearn-color-fitted-level-2);\n",
       "}\n",
       "\n",
       "/* Specification for estimator info (e.g. \"i\" and \"?\") */\n",
       "\n",
       "/* Common style for \"i\" and \"?\" */\n",
       "\n",
       ".sk-estimator-doc-link,\n",
       "a:link.sk-estimator-doc-link,\n",
       "a:visited.sk-estimator-doc-link {\n",
       "  float: right;\n",
       "  font-size: smaller;\n",
       "  line-height: 1em;\n",
       "  font-family: monospace;\n",
       "  background-color: var(--sklearn-color-background);\n",
       "  border-radius: 1em;\n",
       "  height: 1em;\n",
       "  width: 1em;\n",
       "  text-decoration: none !important;\n",
       "  margin-left: 1ex;\n",
       "  /* unfitted */\n",
       "  border: var(--sklearn-color-unfitted-level-1) 1pt solid;\n",
       "  color: var(--sklearn-color-unfitted-level-1);\n",
       "}\n",
       "\n",
       ".sk-estimator-doc-link.fitted,\n",
       "a:link.sk-estimator-doc-link.fitted,\n",
       "a:visited.sk-estimator-doc-link.fitted {\n",
       "  /* fitted */\n",
       "  border: var(--sklearn-color-fitted-level-1) 1pt solid;\n",
       "  color: var(--sklearn-color-fitted-level-1);\n",
       "}\n",
       "\n",
       "/* On hover */\n",
       "div.sk-estimator:hover .sk-estimator-doc-link:hover,\n",
       ".sk-estimator-doc-link:hover,\n",
       "div.sk-label-container:hover .sk-estimator-doc-link:hover,\n",
       ".sk-estimator-doc-link:hover {\n",
       "  /* unfitted */\n",
       "  background-color: var(--sklearn-color-unfitted-level-3);\n",
       "  color: var(--sklearn-color-background);\n",
       "  text-decoration: none;\n",
       "}\n",
       "\n",
       "div.sk-estimator.fitted:hover .sk-estimator-doc-link.fitted:hover,\n",
       ".sk-estimator-doc-link.fitted:hover,\n",
       "div.sk-label-container:hover .sk-estimator-doc-link.fitted:hover,\n",
       ".sk-estimator-doc-link.fitted:hover {\n",
       "  /* fitted */\n",
       "  background-color: var(--sklearn-color-fitted-level-3);\n",
       "  color: var(--sklearn-color-background);\n",
       "  text-decoration: none;\n",
       "}\n",
       "\n",
       "/* Span, style for the box shown on hovering the info icon */\n",
       ".sk-estimator-doc-link span {\n",
       "  display: none;\n",
       "  z-index: 9999;\n",
       "  position: relative;\n",
       "  font-weight: normal;\n",
       "  right: .2ex;\n",
       "  padding: .5ex;\n",
       "  margin: .5ex;\n",
       "  width: min-content;\n",
       "  min-width: 20ex;\n",
       "  max-width: 50ex;\n",
       "  color: var(--sklearn-color-text);\n",
       "  box-shadow: 2pt 2pt 4pt #999;\n",
       "  /* unfitted */\n",
       "  background: var(--sklearn-color-unfitted-level-0);\n",
       "  border: .5pt solid var(--sklearn-color-unfitted-level-3);\n",
       "}\n",
       "\n",
       ".sk-estimator-doc-link.fitted span {\n",
       "  /* fitted */\n",
       "  background: var(--sklearn-color-fitted-level-0);\n",
       "  border: var(--sklearn-color-fitted-level-3);\n",
       "}\n",
       "\n",
       ".sk-estimator-doc-link:hover span {\n",
       "  display: block;\n",
       "}\n",
       "\n",
       "/* \"?\"-specific style due to the `<a>` HTML tag */\n",
       "\n",
       "#sk-container-id-1 a.estimator_doc_link {\n",
       "  float: right;\n",
       "  font-size: 1rem;\n",
       "  line-height: 1em;\n",
       "  font-family: monospace;\n",
       "  background-color: var(--sklearn-color-background);\n",
       "  border-radius: 1rem;\n",
       "  height: 1rem;\n",
       "  width: 1rem;\n",
       "  text-decoration: none;\n",
       "  /* unfitted */\n",
       "  color: var(--sklearn-color-unfitted-level-1);\n",
       "  border: var(--sklearn-color-unfitted-level-1) 1pt solid;\n",
       "}\n",
       "\n",
       "#sk-container-id-1 a.estimator_doc_link.fitted {\n",
       "  /* fitted */\n",
       "  border: var(--sklearn-color-fitted-level-1) 1pt solid;\n",
       "  color: var(--sklearn-color-fitted-level-1);\n",
       "}\n",
       "\n",
       "/* On hover */\n",
       "#sk-container-id-1 a.estimator_doc_link:hover {\n",
       "  /* unfitted */\n",
       "  background-color: var(--sklearn-color-unfitted-level-3);\n",
       "  color: var(--sklearn-color-background);\n",
       "  text-decoration: none;\n",
       "}\n",
       "\n",
       "#sk-container-id-1 a.estimator_doc_link.fitted:hover {\n",
       "  /* fitted */\n",
       "  background-color: var(--sklearn-color-fitted-level-3);\n",
       "}\n",
       "</style><div id=\"sk-container-id-1\" class=\"sk-top-container\"><div class=\"sk-text-repr-fallback\"><pre>DecisionTreeClassifier()</pre><b>In a Jupyter environment, please rerun this cell to show the HTML representation or trust the notebook. <br />On GitHub, the HTML representation is unable to render, please try loading this page with nbviewer.org.</b></div><div class=\"sk-container\" hidden><div class=\"sk-item\"><div class=\"sk-estimator fitted sk-toggleable\"><input class=\"sk-toggleable__control sk-hidden--visually\" id=\"sk-estimator-id-1\" type=\"checkbox\" checked><label for=\"sk-estimator-id-1\" class=\"sk-toggleable__label fitted sk-toggleable__label-arrow fitted\">&nbsp;&nbsp;DecisionTreeClassifier<a class=\"sk-estimator-doc-link fitted\" rel=\"noreferrer\" target=\"_blank\" href=\"https://scikit-learn.org/1.5/modules/generated/sklearn.tree.DecisionTreeClassifier.html\">?<span>Documentation for DecisionTreeClassifier</span></a><span class=\"sk-estimator-doc-link fitted\">i<span>Fitted</span></span></label><div class=\"sk-toggleable__content fitted\"><pre>DecisionTreeClassifier()</pre></div> </div></div></div></div>"
      ],
      "text/plain": [
       "DecisionTreeClassifier()"
      ]
     },
     "execution_count": 22,
     "metadata": {},
     "output_type": "execute_result"
    }
   ],
   "source": [
    "dt = DecisionTreeClassifier()\n",
    "dt.fit(X_train, y_train)"
   ]
  },
  {
   "cell_type": "code",
   "execution_count": 23,
   "metadata": {},
   "outputs": [],
   "source": [
    "val_dicts = df_val.fill_null(0).to_dicts()\n",
    "X_val = dv.transform(val_dicts)"
   ]
  },
  {
   "cell_type": "code",
   "execution_count": 24,
   "metadata": {},
   "outputs": [],
   "source": [
    "y_pred = dt.predict_proba(X_val)[:, 1]"
   ]
  },
  {
   "cell_type": "code",
   "execution_count": 25,
   "metadata": {},
   "outputs": [
    {
     "data": {
      "text/plain": [
       "np.float64(0.6575373568089897)"
      ]
     },
     "execution_count": 25,
     "metadata": {},
     "output_type": "execute_result"
    }
   ],
   "source": [
    "roc_auc_score(y_val, y_pred)"
   ]
  },
  {
   "cell_type": "code",
   "execution_count": 26,
   "metadata": {},
   "outputs": [
    {
     "data": {
      "text/plain": [
       "np.float64(1.0)"
      ]
     },
     "execution_count": 26,
     "metadata": {},
     "output_type": "execute_result"
    }
   ],
   "source": [
    "y_pred = dt.predict_proba(X_train)[:, 1]\n",
    "roc_auc_score(y_train, y_pred)"
   ]
  },
  {
   "cell_type": "markdown",
   "metadata": {},
   "source": [
    "Resulted in overfitting\n"
   ]
  },
  {
   "cell_type": "markdown",
   "metadata": {},
   "source": [
    "### Retrain to handle overfitting\n"
   ]
  },
  {
   "cell_type": "code",
   "execution_count": 27,
   "metadata": {},
   "outputs": [
    {
     "data": {
      "text/html": [
       "<style>#sk-container-id-2 {\n",
       "  /* Definition of color scheme common for light and dark mode */\n",
       "  --sklearn-color-text: black;\n",
       "  --sklearn-color-line: gray;\n",
       "  /* Definition of color scheme for unfitted estimators */\n",
       "  --sklearn-color-unfitted-level-0: #fff5e6;\n",
       "  --sklearn-color-unfitted-level-1: #f6e4d2;\n",
       "  --sklearn-color-unfitted-level-2: #ffe0b3;\n",
       "  --sklearn-color-unfitted-level-3: chocolate;\n",
       "  /* Definition of color scheme for fitted estimators */\n",
       "  --sklearn-color-fitted-level-0: #f0f8ff;\n",
       "  --sklearn-color-fitted-level-1: #d4ebff;\n",
       "  --sklearn-color-fitted-level-2: #b3dbfd;\n",
       "  --sklearn-color-fitted-level-3: cornflowerblue;\n",
       "\n",
       "  /* Specific color for light theme */\n",
       "  --sklearn-color-text-on-default-background: var(--sg-text-color, var(--theme-code-foreground, var(--jp-content-font-color1, black)));\n",
       "  --sklearn-color-background: var(--sg-background-color, var(--theme-background, var(--jp-layout-color0, white)));\n",
       "  --sklearn-color-border-box: var(--sg-text-color, var(--theme-code-foreground, var(--jp-content-font-color1, black)));\n",
       "  --sklearn-color-icon: #696969;\n",
       "\n",
       "  @media (prefers-color-scheme: dark) {\n",
       "    /* Redefinition of color scheme for dark theme */\n",
       "    --sklearn-color-text-on-default-background: var(--sg-text-color, var(--theme-code-foreground, var(--jp-content-font-color1, white)));\n",
       "    --sklearn-color-background: var(--sg-background-color, var(--theme-background, var(--jp-layout-color0, #111)));\n",
       "    --sklearn-color-border-box: var(--sg-text-color, var(--theme-code-foreground, var(--jp-content-font-color1, white)));\n",
       "    --sklearn-color-icon: #878787;\n",
       "  }\n",
       "}\n",
       "\n",
       "#sk-container-id-2 {\n",
       "  color: var(--sklearn-color-text);\n",
       "}\n",
       "\n",
       "#sk-container-id-2 pre {\n",
       "  padding: 0;\n",
       "}\n",
       "\n",
       "#sk-container-id-2 input.sk-hidden--visually {\n",
       "  border: 0;\n",
       "  clip: rect(1px 1px 1px 1px);\n",
       "  clip: rect(1px, 1px, 1px, 1px);\n",
       "  height: 1px;\n",
       "  margin: -1px;\n",
       "  overflow: hidden;\n",
       "  padding: 0;\n",
       "  position: absolute;\n",
       "  width: 1px;\n",
       "}\n",
       "\n",
       "#sk-container-id-2 div.sk-dashed-wrapped {\n",
       "  border: 1px dashed var(--sklearn-color-line);\n",
       "  margin: 0 0.4em 0.5em 0.4em;\n",
       "  box-sizing: border-box;\n",
       "  padding-bottom: 0.4em;\n",
       "  background-color: var(--sklearn-color-background);\n",
       "}\n",
       "\n",
       "#sk-container-id-2 div.sk-container {\n",
       "  /* jupyter's `normalize.less` sets `[hidden] { display: none; }`\n",
       "     but bootstrap.min.css set `[hidden] { display: none !important; }`\n",
       "     so we also need the `!important` here to be able to override the\n",
       "     default hidden behavior on the sphinx rendered scikit-learn.org.\n",
       "     See: https://github.com/scikit-learn/scikit-learn/issues/21755 */\n",
       "  display: inline-block !important;\n",
       "  position: relative;\n",
       "}\n",
       "\n",
       "#sk-container-id-2 div.sk-text-repr-fallback {\n",
       "  display: none;\n",
       "}\n",
       "\n",
       "div.sk-parallel-item,\n",
       "div.sk-serial,\n",
       "div.sk-item {\n",
       "  /* draw centered vertical line to link estimators */\n",
       "  background-image: linear-gradient(var(--sklearn-color-text-on-default-background), var(--sklearn-color-text-on-default-background));\n",
       "  background-size: 2px 100%;\n",
       "  background-repeat: no-repeat;\n",
       "  background-position: center center;\n",
       "}\n",
       "\n",
       "/* Parallel-specific style estimator block */\n",
       "\n",
       "#sk-container-id-2 div.sk-parallel-item::after {\n",
       "  content: \"\";\n",
       "  width: 100%;\n",
       "  border-bottom: 2px solid var(--sklearn-color-text-on-default-background);\n",
       "  flex-grow: 1;\n",
       "}\n",
       "\n",
       "#sk-container-id-2 div.sk-parallel {\n",
       "  display: flex;\n",
       "  align-items: stretch;\n",
       "  justify-content: center;\n",
       "  background-color: var(--sklearn-color-background);\n",
       "  position: relative;\n",
       "}\n",
       "\n",
       "#sk-container-id-2 div.sk-parallel-item {\n",
       "  display: flex;\n",
       "  flex-direction: column;\n",
       "}\n",
       "\n",
       "#sk-container-id-2 div.sk-parallel-item:first-child::after {\n",
       "  align-self: flex-end;\n",
       "  width: 50%;\n",
       "}\n",
       "\n",
       "#sk-container-id-2 div.sk-parallel-item:last-child::after {\n",
       "  align-self: flex-start;\n",
       "  width: 50%;\n",
       "}\n",
       "\n",
       "#sk-container-id-2 div.sk-parallel-item:only-child::after {\n",
       "  width: 0;\n",
       "}\n",
       "\n",
       "/* Serial-specific style estimator block */\n",
       "\n",
       "#sk-container-id-2 div.sk-serial {\n",
       "  display: flex;\n",
       "  flex-direction: column;\n",
       "  align-items: center;\n",
       "  background-color: var(--sklearn-color-background);\n",
       "  padding-right: 1em;\n",
       "  padding-left: 1em;\n",
       "}\n",
       "\n",
       "\n",
       "/* Toggleable style: style used for estimator/Pipeline/ColumnTransformer box that is\n",
       "clickable and can be expanded/collapsed.\n",
       "- Pipeline and ColumnTransformer use this feature and define the default style\n",
       "- Estimators will overwrite some part of the style using the `sk-estimator` class\n",
       "*/\n",
       "\n",
       "/* Pipeline and ColumnTransformer style (default) */\n",
       "\n",
       "#sk-container-id-2 div.sk-toggleable {\n",
       "  /* Default theme specific background. It is overwritten whether we have a\n",
       "  specific estimator or a Pipeline/ColumnTransformer */\n",
       "  background-color: var(--sklearn-color-background);\n",
       "}\n",
       "\n",
       "/* Toggleable label */\n",
       "#sk-container-id-2 label.sk-toggleable__label {\n",
       "  cursor: pointer;\n",
       "  display: block;\n",
       "  width: 100%;\n",
       "  margin-bottom: 0;\n",
       "  padding: 0.5em;\n",
       "  box-sizing: border-box;\n",
       "  text-align: center;\n",
       "}\n",
       "\n",
       "#sk-container-id-2 label.sk-toggleable__label-arrow:before {\n",
       "  /* Arrow on the left of the label */\n",
       "  content: \"▸\";\n",
       "  float: left;\n",
       "  margin-right: 0.25em;\n",
       "  color: var(--sklearn-color-icon);\n",
       "}\n",
       "\n",
       "#sk-container-id-2 label.sk-toggleable__label-arrow:hover:before {\n",
       "  color: var(--sklearn-color-text);\n",
       "}\n",
       "\n",
       "/* Toggleable content - dropdown */\n",
       "\n",
       "#sk-container-id-2 div.sk-toggleable__content {\n",
       "  max-height: 0;\n",
       "  max-width: 0;\n",
       "  overflow: hidden;\n",
       "  text-align: left;\n",
       "  /* unfitted */\n",
       "  background-color: var(--sklearn-color-unfitted-level-0);\n",
       "}\n",
       "\n",
       "#sk-container-id-2 div.sk-toggleable__content.fitted {\n",
       "  /* fitted */\n",
       "  background-color: var(--sklearn-color-fitted-level-0);\n",
       "}\n",
       "\n",
       "#sk-container-id-2 div.sk-toggleable__content pre {\n",
       "  margin: 0.2em;\n",
       "  border-radius: 0.25em;\n",
       "  color: var(--sklearn-color-text);\n",
       "  /* unfitted */\n",
       "  background-color: var(--sklearn-color-unfitted-level-0);\n",
       "}\n",
       "\n",
       "#sk-container-id-2 div.sk-toggleable__content.fitted pre {\n",
       "  /* unfitted */\n",
       "  background-color: var(--sklearn-color-fitted-level-0);\n",
       "}\n",
       "\n",
       "#sk-container-id-2 input.sk-toggleable__control:checked~div.sk-toggleable__content {\n",
       "  /* Expand drop-down */\n",
       "  max-height: 200px;\n",
       "  max-width: 100%;\n",
       "  overflow: auto;\n",
       "}\n",
       "\n",
       "#sk-container-id-2 input.sk-toggleable__control:checked~label.sk-toggleable__label-arrow:before {\n",
       "  content: \"▾\";\n",
       "}\n",
       "\n",
       "/* Pipeline/ColumnTransformer-specific style */\n",
       "\n",
       "#sk-container-id-2 div.sk-label input.sk-toggleable__control:checked~label.sk-toggleable__label {\n",
       "  color: var(--sklearn-color-text);\n",
       "  background-color: var(--sklearn-color-unfitted-level-2);\n",
       "}\n",
       "\n",
       "#sk-container-id-2 div.sk-label.fitted input.sk-toggleable__control:checked~label.sk-toggleable__label {\n",
       "  background-color: var(--sklearn-color-fitted-level-2);\n",
       "}\n",
       "\n",
       "/* Estimator-specific style */\n",
       "\n",
       "/* Colorize estimator box */\n",
       "#sk-container-id-2 div.sk-estimator input.sk-toggleable__control:checked~label.sk-toggleable__label {\n",
       "  /* unfitted */\n",
       "  background-color: var(--sklearn-color-unfitted-level-2);\n",
       "}\n",
       "\n",
       "#sk-container-id-2 div.sk-estimator.fitted input.sk-toggleable__control:checked~label.sk-toggleable__label {\n",
       "  /* fitted */\n",
       "  background-color: var(--sklearn-color-fitted-level-2);\n",
       "}\n",
       "\n",
       "#sk-container-id-2 div.sk-label label.sk-toggleable__label,\n",
       "#sk-container-id-2 div.sk-label label {\n",
       "  /* The background is the default theme color */\n",
       "  color: var(--sklearn-color-text-on-default-background);\n",
       "}\n",
       "\n",
       "/* On hover, darken the color of the background */\n",
       "#sk-container-id-2 div.sk-label:hover label.sk-toggleable__label {\n",
       "  color: var(--sklearn-color-text);\n",
       "  background-color: var(--sklearn-color-unfitted-level-2);\n",
       "}\n",
       "\n",
       "/* Label box, darken color on hover, fitted */\n",
       "#sk-container-id-2 div.sk-label.fitted:hover label.sk-toggleable__label.fitted {\n",
       "  color: var(--sklearn-color-text);\n",
       "  background-color: var(--sklearn-color-fitted-level-2);\n",
       "}\n",
       "\n",
       "/* Estimator label */\n",
       "\n",
       "#sk-container-id-2 div.sk-label label {\n",
       "  font-family: monospace;\n",
       "  font-weight: bold;\n",
       "  display: inline-block;\n",
       "  line-height: 1.2em;\n",
       "}\n",
       "\n",
       "#sk-container-id-2 div.sk-label-container {\n",
       "  text-align: center;\n",
       "}\n",
       "\n",
       "/* Estimator-specific */\n",
       "#sk-container-id-2 div.sk-estimator {\n",
       "  font-family: monospace;\n",
       "  border: 1px dotted var(--sklearn-color-border-box);\n",
       "  border-radius: 0.25em;\n",
       "  box-sizing: border-box;\n",
       "  margin-bottom: 0.5em;\n",
       "  /* unfitted */\n",
       "  background-color: var(--sklearn-color-unfitted-level-0);\n",
       "}\n",
       "\n",
       "#sk-container-id-2 div.sk-estimator.fitted {\n",
       "  /* fitted */\n",
       "  background-color: var(--sklearn-color-fitted-level-0);\n",
       "}\n",
       "\n",
       "/* on hover */\n",
       "#sk-container-id-2 div.sk-estimator:hover {\n",
       "  /* unfitted */\n",
       "  background-color: var(--sklearn-color-unfitted-level-2);\n",
       "}\n",
       "\n",
       "#sk-container-id-2 div.sk-estimator.fitted:hover {\n",
       "  /* fitted */\n",
       "  background-color: var(--sklearn-color-fitted-level-2);\n",
       "}\n",
       "\n",
       "/* Specification for estimator info (e.g. \"i\" and \"?\") */\n",
       "\n",
       "/* Common style for \"i\" and \"?\" */\n",
       "\n",
       ".sk-estimator-doc-link,\n",
       "a:link.sk-estimator-doc-link,\n",
       "a:visited.sk-estimator-doc-link {\n",
       "  float: right;\n",
       "  font-size: smaller;\n",
       "  line-height: 1em;\n",
       "  font-family: monospace;\n",
       "  background-color: var(--sklearn-color-background);\n",
       "  border-radius: 1em;\n",
       "  height: 1em;\n",
       "  width: 1em;\n",
       "  text-decoration: none !important;\n",
       "  margin-left: 1ex;\n",
       "  /* unfitted */\n",
       "  border: var(--sklearn-color-unfitted-level-1) 1pt solid;\n",
       "  color: var(--sklearn-color-unfitted-level-1);\n",
       "}\n",
       "\n",
       ".sk-estimator-doc-link.fitted,\n",
       "a:link.sk-estimator-doc-link.fitted,\n",
       "a:visited.sk-estimator-doc-link.fitted {\n",
       "  /* fitted */\n",
       "  border: var(--sklearn-color-fitted-level-1) 1pt solid;\n",
       "  color: var(--sklearn-color-fitted-level-1);\n",
       "}\n",
       "\n",
       "/* On hover */\n",
       "div.sk-estimator:hover .sk-estimator-doc-link:hover,\n",
       ".sk-estimator-doc-link:hover,\n",
       "div.sk-label-container:hover .sk-estimator-doc-link:hover,\n",
       ".sk-estimator-doc-link:hover {\n",
       "  /* unfitted */\n",
       "  background-color: var(--sklearn-color-unfitted-level-3);\n",
       "  color: var(--sklearn-color-background);\n",
       "  text-decoration: none;\n",
       "}\n",
       "\n",
       "div.sk-estimator.fitted:hover .sk-estimator-doc-link.fitted:hover,\n",
       ".sk-estimator-doc-link.fitted:hover,\n",
       "div.sk-label-container:hover .sk-estimator-doc-link.fitted:hover,\n",
       ".sk-estimator-doc-link.fitted:hover {\n",
       "  /* fitted */\n",
       "  background-color: var(--sklearn-color-fitted-level-3);\n",
       "  color: var(--sklearn-color-background);\n",
       "  text-decoration: none;\n",
       "}\n",
       "\n",
       "/* Span, style for the box shown on hovering the info icon */\n",
       ".sk-estimator-doc-link span {\n",
       "  display: none;\n",
       "  z-index: 9999;\n",
       "  position: relative;\n",
       "  font-weight: normal;\n",
       "  right: .2ex;\n",
       "  padding: .5ex;\n",
       "  margin: .5ex;\n",
       "  width: min-content;\n",
       "  min-width: 20ex;\n",
       "  max-width: 50ex;\n",
       "  color: var(--sklearn-color-text);\n",
       "  box-shadow: 2pt 2pt 4pt #999;\n",
       "  /* unfitted */\n",
       "  background: var(--sklearn-color-unfitted-level-0);\n",
       "  border: .5pt solid var(--sklearn-color-unfitted-level-3);\n",
       "}\n",
       "\n",
       ".sk-estimator-doc-link.fitted span {\n",
       "  /* fitted */\n",
       "  background: var(--sklearn-color-fitted-level-0);\n",
       "  border: var(--sklearn-color-fitted-level-3);\n",
       "}\n",
       "\n",
       ".sk-estimator-doc-link:hover span {\n",
       "  display: block;\n",
       "}\n",
       "\n",
       "/* \"?\"-specific style due to the `<a>` HTML tag */\n",
       "\n",
       "#sk-container-id-2 a.estimator_doc_link {\n",
       "  float: right;\n",
       "  font-size: 1rem;\n",
       "  line-height: 1em;\n",
       "  font-family: monospace;\n",
       "  background-color: var(--sklearn-color-background);\n",
       "  border-radius: 1rem;\n",
       "  height: 1rem;\n",
       "  width: 1rem;\n",
       "  text-decoration: none;\n",
       "  /* unfitted */\n",
       "  color: var(--sklearn-color-unfitted-level-1);\n",
       "  border: var(--sklearn-color-unfitted-level-1) 1pt solid;\n",
       "}\n",
       "\n",
       "#sk-container-id-2 a.estimator_doc_link.fitted {\n",
       "  /* fitted */\n",
       "  border: var(--sklearn-color-fitted-level-1) 1pt solid;\n",
       "  color: var(--sklearn-color-fitted-level-1);\n",
       "}\n",
       "\n",
       "/* On hover */\n",
       "#sk-container-id-2 a.estimator_doc_link:hover {\n",
       "  /* unfitted */\n",
       "  background-color: var(--sklearn-color-unfitted-level-3);\n",
       "  color: var(--sklearn-color-background);\n",
       "  text-decoration: none;\n",
       "}\n",
       "\n",
       "#sk-container-id-2 a.estimator_doc_link.fitted:hover {\n",
       "  /* fitted */\n",
       "  background-color: var(--sklearn-color-fitted-level-3);\n",
       "}\n",
       "</style><div id=\"sk-container-id-2\" class=\"sk-top-container\"><div class=\"sk-text-repr-fallback\"><pre>DecisionTreeClassifier(max_depth=2)</pre><b>In a Jupyter environment, please rerun this cell to show the HTML representation or trust the notebook. <br />On GitHub, the HTML representation is unable to render, please try loading this page with nbviewer.org.</b></div><div class=\"sk-container\" hidden><div class=\"sk-item\"><div class=\"sk-estimator fitted sk-toggleable\"><input class=\"sk-toggleable__control sk-hidden--visually\" id=\"sk-estimator-id-2\" type=\"checkbox\" checked><label for=\"sk-estimator-id-2\" class=\"sk-toggleable__label fitted sk-toggleable__label-arrow fitted\">&nbsp;&nbsp;DecisionTreeClassifier<a class=\"sk-estimator-doc-link fitted\" rel=\"noreferrer\" target=\"_blank\" href=\"https://scikit-learn.org/1.5/modules/generated/sklearn.tree.DecisionTreeClassifier.html\">?<span>Documentation for DecisionTreeClassifier</span></a><span class=\"sk-estimator-doc-link fitted\">i<span>Fitted</span></span></label><div class=\"sk-toggleable__content fitted\"><pre>DecisionTreeClassifier(max_depth=2)</pre></div> </div></div></div></div>"
      ],
      "text/plain": [
       "DecisionTreeClassifier(max_depth=2)"
      ]
     },
     "execution_count": 27,
     "metadata": {},
     "output_type": "execute_result"
    }
   ],
   "source": [
    "dt = DecisionTreeClassifier(max_depth=2)\n",
    "dt.fit(X_train, y_train)"
   ]
  },
  {
   "cell_type": "code",
   "execution_count": 28,
   "metadata": {},
   "outputs": [
    {
     "name": "stdout",
     "output_type": "stream",
     "text": [
      "train: 0.7054989859726213\n",
      "val: 0.6685264343319367\n"
     ]
    }
   ],
   "source": [
    "y_pred = dt.predict_proba(X_train)[:, 1]\n",
    "train_auc = roc_auc_score(y_train, y_pred)\n",
    "print(\"train:\", train_auc)\n",
    "\n",
    "y_pred = dt.predict_proba(X_val)[:, 1]\n",
    "val_auc = roc_auc_score(y_val, y_pred)\n",
    "print(\"val:\", val_auc)\n"
   ]
  },
  {
   "cell_type": "code",
   "execution_count": 29,
   "metadata": {},
   "outputs": [
    {
     "name": "stdout",
     "output_type": "stream",
     "text": [
      "|--- records=yes <= 0.50\n",
      "|   |--- job=partime <= 0.50\n",
      "|   |   |--- class: 0\n",
      "|   |--- job=partime >  0.50\n",
      "|   |   |--- class: 1\n",
      "|--- records=yes >  0.50\n",
      "|   |--- seniority <= 6.50\n",
      "|   |   |--- class: 1\n",
      "|   |--- seniority >  6.50\n",
      "|   |   |--- class: 0\n",
      "\n"
     ]
    }
   ],
   "source": [
    "print(export_text(dt, feature_names=dv.feature_names_))"
   ]
  },
  {
   "cell_type": "markdown",
   "metadata": {},
   "source": [
    "## 6. Decision Tree Learning Algorithm\n",
    "\n",
    "Using misclassification rate\n"
   ]
  },
  {
   "cell_type": "markdown",
   "metadata": {},
   "source": [
    "### One Feature\n"
   ]
  },
  {
   "cell_type": "code",
   "execution_count": 30,
   "metadata": {},
   "outputs": [
    {
     "data": {
      "text/html": [
       "<div><style>\n",
       ".dataframe > thead > tr,\n",
       ".dataframe > tbody > tr {\n",
       "  text-align: right;\n",
       "  white-space: pre-wrap;\n",
       "}\n",
       "</style>\n",
       "<small>shape: (8, 2)</small><table border=\"1\" class=\"dataframe\"><thead><tr><th>assets</th><th>status</th></tr><tr><td>i64</td><td>str</td></tr></thead><tbody><tr><td>8000</td><td>&quot;default&quot;</td></tr><tr><td>2000</td><td>&quot;default&quot;</td></tr><tr><td>0</td><td>&quot;default&quot;</td></tr><tr><td>5000</td><td>&quot;ok&quot;</td></tr><tr><td>5000</td><td>&quot;ok&quot;</td></tr><tr><td>4000</td><td>&quot;ok&quot;</td></tr><tr><td>9000</td><td>&quot;ok&quot;</td></tr><tr><td>3000</td><td>&quot;default&quot;</td></tr></tbody></table></div>"
      ],
      "text/plain": [
       "shape: (8, 2)\n",
       "┌────────┬─────────┐\n",
       "│ assets ┆ status  │\n",
       "│ ---    ┆ ---     │\n",
       "│ i64    ┆ str     │\n",
       "╞════════╪═════════╡\n",
       "│ 8000   ┆ default │\n",
       "│ 2000   ┆ default │\n",
       "│ 0      ┆ default │\n",
       "│ 5000   ┆ ok      │\n",
       "│ 5000   ┆ ok      │\n",
       "│ 4000   ┆ ok      │\n",
       "│ 9000   ┆ ok      │\n",
       "│ 3000   ┆ default │\n",
       "└────────┴─────────┘"
      ]
     },
     "execution_count": 30,
     "metadata": {},
     "output_type": "execute_result"
    }
   ],
   "source": [
    "data = [\n",
    "    [8000, \"default\"],\n",
    "    [2000, \"default\"],\n",
    "    [0, \"default\"],\n",
    "    [5000, \"ok\"],\n",
    "    [5000, \"ok\"],\n",
    "    [4000, \"ok\"],\n",
    "    [9000, \"ok\"],\n",
    "    [3000, \"default\"],\n",
    "]\n",
    "df_example = pl.DataFrame(data, schema=[\"assets\", \"status\"], orient=\"row\")\n",
    "df_example"
   ]
  },
  {
   "cell_type": "code",
   "execution_count": 31,
   "metadata": {},
   "outputs": [
    {
     "data": {
      "text/html": [
       "<div><style>\n",
       ".dataframe > thead > tr,\n",
       ".dataframe > tbody > tr {\n",
       "  text-align: right;\n",
       "  white-space: pre-wrap;\n",
       "}\n",
       "</style>\n",
       "<small>shape: (8, 2)</small><table border=\"1\" class=\"dataframe\"><thead><tr><th>assets</th><th>status</th></tr><tr><td>i64</td><td>str</td></tr></thead><tbody><tr><td>0</td><td>&quot;default&quot;</td></tr><tr><td>2000</td><td>&quot;default&quot;</td></tr><tr><td>3000</td><td>&quot;default&quot;</td></tr><tr><td>4000</td><td>&quot;ok&quot;</td></tr><tr><td>5000</td><td>&quot;ok&quot;</td></tr><tr><td>5000</td><td>&quot;ok&quot;</td></tr><tr><td>8000</td><td>&quot;default&quot;</td></tr><tr><td>9000</td><td>&quot;ok&quot;</td></tr></tbody></table></div>"
      ],
      "text/plain": [
       "shape: (8, 2)\n",
       "┌────────┬─────────┐\n",
       "│ assets ┆ status  │\n",
       "│ ---    ┆ ---     │\n",
       "│ i64    ┆ str     │\n",
       "╞════════╪═════════╡\n",
       "│ 0      ┆ default │\n",
       "│ 2000   ┆ default │\n",
       "│ 3000   ┆ default │\n",
       "│ 4000   ┆ ok      │\n",
       "│ 5000   ┆ ok      │\n",
       "│ 5000   ┆ ok      │\n",
       "│ 8000   ┆ default │\n",
       "│ 9000   ┆ ok      │\n",
       "└────────┴─────────┘"
      ]
     },
     "execution_count": 31,
     "metadata": {},
     "output_type": "execute_result"
    }
   ],
   "source": [
    "df_example.sort(\"assets\")"
   ]
  },
  {
   "cell_type": "code",
   "execution_count": 32,
   "metadata": {},
   "outputs": [],
   "source": [
    "Ts = [0, 2000, 3000, 4000, 5000, 8000]"
   ]
  },
  {
   "cell_type": "code",
   "execution_count": 33,
   "metadata": {},
   "outputs": [
    {
     "data": {
      "text/html": [
       "<div><style>\n",
       ".dataframe > thead > tr,\n",
       ".dataframe > tbody > tr {\n",
       "  text-align: right;\n",
       "  white-space: pre-wrap;\n",
       "}\n",
       "</style>\n",
       "<small>shape: (4, 2)</small><table border=\"1\" class=\"dataframe\"><thead><tr><th>assets</th><th>status</th></tr><tr><td>i64</td><td>str</td></tr></thead><tbody><tr><td>2000</td><td>&quot;default&quot;</td></tr><tr><td>0</td><td>&quot;default&quot;</td></tr><tr><td>4000</td><td>&quot;ok&quot;</td></tr><tr><td>3000</td><td>&quot;default&quot;</td></tr></tbody></table></div>"
      ],
      "text/plain": [
       "shape: (4, 2)\n",
       "┌────────┬─────────┐\n",
       "│ assets ┆ status  │\n",
       "│ ---    ┆ ---     │\n",
       "│ i64    ┆ str     │\n",
       "╞════════╪═════════╡\n",
       "│ 2000   ┆ default │\n",
       "│ 0      ┆ default │\n",
       "│ 4000   ┆ ok      │\n",
       "│ 3000   ┆ default │\n",
       "└────────┴─────────┘"
      ]
     },
     "metadata": {},
     "output_type": "display_data"
    },
    {
     "name": "stdout",
     "output_type": "stream",
     "text": [
      "shape: (2, 2)\n",
      "┌─────────┬────────────┐\n",
      "│ status  ┆ proportion │\n",
      "│ ---     ┆ ---        │\n",
      "│ str     ┆ f64        │\n",
      "╞═════════╪════════════╡\n",
      "│ ok      ┆ 0.25       │\n",
      "│ default ┆ 0.75       │\n",
      "└─────────┴────────────┘\n"
     ]
    },
    {
     "data": {
      "text/html": [
       "<div><style>\n",
       ".dataframe > thead > tr,\n",
       ".dataframe > tbody > tr {\n",
       "  text-align: right;\n",
       "  white-space: pre-wrap;\n",
       "}\n",
       "</style>\n",
       "<small>shape: (4, 2)</small><table border=\"1\" class=\"dataframe\"><thead><tr><th>assets</th><th>status</th></tr><tr><td>i64</td><td>str</td></tr></thead><tbody><tr><td>8000</td><td>&quot;default&quot;</td></tr><tr><td>5000</td><td>&quot;ok&quot;</td></tr><tr><td>5000</td><td>&quot;ok&quot;</td></tr><tr><td>9000</td><td>&quot;ok&quot;</td></tr></tbody></table></div>"
      ],
      "text/plain": [
       "shape: (4, 2)\n",
       "┌────────┬─────────┐\n",
       "│ assets ┆ status  │\n",
       "│ ---    ┆ ---     │\n",
       "│ i64    ┆ str     │\n",
       "╞════════╪═════════╡\n",
       "│ 8000   ┆ default │\n",
       "│ 5000   ┆ ok      │\n",
       "│ 5000   ┆ ok      │\n",
       "│ 9000   ┆ ok      │\n",
       "└────────┴─────────┘"
      ]
     },
     "metadata": {},
     "output_type": "display_data"
    },
    {
     "name": "stdout",
     "output_type": "stream",
     "text": [
      "shape: (2, 2)\n",
      "┌─────────┬────────────┐\n",
      "│ status  ┆ proportion │\n",
      "│ ---     ┆ ---        │\n",
      "│ str     ┆ f64        │\n",
      "╞═════════╪════════════╡\n",
      "│ default ┆ 0.25       │\n",
      "│ ok      ┆ 0.75       │\n",
      "└─────────┴────────────┘\n"
     ]
    }
   ],
   "source": [
    "T = 4000\n",
    "df_left = df_example.filter(pl.col(\"assets\") <= T)\n",
    "df_right = df_example.filter(pl.col(\"assets\") > T)\n",
    "\n",
    "display(df_left)\n",
    "print(df_left[\"status\"].value_counts(normalize=True))\n",
    "display(df_right)\n",
    "print(df_right[\"status\"].value_counts(normalize=True))"
   ]
  },
  {
   "cell_type": "code",
   "execution_count": 34,
   "metadata": {},
   "outputs": [
    {
     "name": "stdout",
     "output_type": "stream",
     "text": [
      "0\n"
     ]
    },
    {
     "data": {
      "text/html": [
       "<div><style>\n",
       ".dataframe > thead > tr,\n",
       ".dataframe > tbody > tr {\n",
       "  text-align: right;\n",
       "  white-space: pre-wrap;\n",
       "}\n",
       "</style>\n",
       "<small>shape: (1, 2)</small><table border=\"1\" class=\"dataframe\"><thead><tr><th>assets</th><th>status</th></tr><tr><td>i64</td><td>str</td></tr></thead><tbody><tr><td>0</td><td>&quot;default&quot;</td></tr></tbody></table></div>"
      ],
      "text/plain": [
       "shape: (1, 2)\n",
       "┌────────┬─────────┐\n",
       "│ assets ┆ status  │\n",
       "│ ---    ┆ ---     │\n",
       "│ i64    ┆ str     │\n",
       "╞════════╪═════════╡\n",
       "│ 0      ┆ default │\n",
       "└────────┴─────────┘"
      ]
     },
     "metadata": {},
     "output_type": "display_data"
    },
    {
     "name": "stdout",
     "output_type": "stream",
     "text": [
      "shape: (1, 2)\n",
      "┌─────────┬────────────┐\n",
      "│ status  ┆ proportion │\n",
      "│ ---     ┆ ---        │\n",
      "│ str     ┆ f64        │\n",
      "╞═════════╪════════════╡\n",
      "│ default ┆ 1.0        │\n",
      "└─────────┴────────────┘\n"
     ]
    },
    {
     "data": {
      "text/html": [
       "<div><style>\n",
       ".dataframe > thead > tr,\n",
       ".dataframe > tbody > tr {\n",
       "  text-align: right;\n",
       "  white-space: pre-wrap;\n",
       "}\n",
       "</style>\n",
       "<small>shape: (7, 2)</small><table border=\"1\" class=\"dataframe\"><thead><tr><th>assets</th><th>status</th></tr><tr><td>i64</td><td>str</td></tr></thead><tbody><tr><td>8000</td><td>&quot;default&quot;</td></tr><tr><td>2000</td><td>&quot;default&quot;</td></tr><tr><td>5000</td><td>&quot;ok&quot;</td></tr><tr><td>5000</td><td>&quot;ok&quot;</td></tr><tr><td>4000</td><td>&quot;ok&quot;</td></tr><tr><td>9000</td><td>&quot;ok&quot;</td></tr><tr><td>3000</td><td>&quot;default&quot;</td></tr></tbody></table></div>"
      ],
      "text/plain": [
       "shape: (7, 2)\n",
       "┌────────┬─────────┐\n",
       "│ assets ┆ status  │\n",
       "│ ---    ┆ ---     │\n",
       "│ i64    ┆ str     │\n",
       "╞════════╪═════════╡\n",
       "│ 8000   ┆ default │\n",
       "│ 2000   ┆ default │\n",
       "│ 5000   ┆ ok      │\n",
       "│ 5000   ┆ ok      │\n",
       "│ 4000   ┆ ok      │\n",
       "│ 9000   ┆ ok      │\n",
       "│ 3000   ┆ default │\n",
       "└────────┴─────────┘"
      ]
     },
     "metadata": {},
     "output_type": "display_data"
    },
    {
     "name": "stdout",
     "output_type": "stream",
     "text": [
      "shape: (2, 2)\n",
      "┌─────────┬────────────┐\n",
      "│ status  ┆ proportion │\n",
      "│ ---     ┆ ---        │\n",
      "│ str     ┆ f64        │\n",
      "╞═════════╪════════════╡\n",
      "│ ok      ┆ 0.571429   │\n",
      "│ default ┆ 0.428571   │\n",
      "└─────────┴────────────┘\n",
      "----------------------------------------\n",
      "2000\n"
     ]
    },
    {
     "data": {
      "text/html": [
       "<div><style>\n",
       ".dataframe > thead > tr,\n",
       ".dataframe > tbody > tr {\n",
       "  text-align: right;\n",
       "  white-space: pre-wrap;\n",
       "}\n",
       "</style>\n",
       "<small>shape: (2, 2)</small><table border=\"1\" class=\"dataframe\"><thead><tr><th>assets</th><th>status</th></tr><tr><td>i64</td><td>str</td></tr></thead><tbody><tr><td>2000</td><td>&quot;default&quot;</td></tr><tr><td>0</td><td>&quot;default&quot;</td></tr></tbody></table></div>"
      ],
      "text/plain": [
       "shape: (2, 2)\n",
       "┌────────┬─────────┐\n",
       "│ assets ┆ status  │\n",
       "│ ---    ┆ ---     │\n",
       "│ i64    ┆ str     │\n",
       "╞════════╪═════════╡\n",
       "│ 2000   ┆ default │\n",
       "│ 0      ┆ default │\n",
       "└────────┴─────────┘"
      ]
     },
     "metadata": {},
     "output_type": "display_data"
    },
    {
     "name": "stdout",
     "output_type": "stream",
     "text": [
      "shape: (1, 2)\n",
      "┌─────────┬────────────┐\n",
      "│ status  ┆ proportion │\n",
      "│ ---     ┆ ---        │\n",
      "│ str     ┆ f64        │\n",
      "╞═════════╪════════════╡\n",
      "│ default ┆ 1.0        │\n",
      "└─────────┴────────────┘\n"
     ]
    },
    {
     "data": {
      "text/html": [
       "<div><style>\n",
       ".dataframe > thead > tr,\n",
       ".dataframe > tbody > tr {\n",
       "  text-align: right;\n",
       "  white-space: pre-wrap;\n",
       "}\n",
       "</style>\n",
       "<small>shape: (6, 2)</small><table border=\"1\" class=\"dataframe\"><thead><tr><th>assets</th><th>status</th></tr><tr><td>i64</td><td>str</td></tr></thead><tbody><tr><td>8000</td><td>&quot;default&quot;</td></tr><tr><td>5000</td><td>&quot;ok&quot;</td></tr><tr><td>5000</td><td>&quot;ok&quot;</td></tr><tr><td>4000</td><td>&quot;ok&quot;</td></tr><tr><td>9000</td><td>&quot;ok&quot;</td></tr><tr><td>3000</td><td>&quot;default&quot;</td></tr></tbody></table></div>"
      ],
      "text/plain": [
       "shape: (6, 2)\n",
       "┌────────┬─────────┐\n",
       "│ assets ┆ status  │\n",
       "│ ---    ┆ ---     │\n",
       "│ i64    ┆ str     │\n",
       "╞════════╪═════════╡\n",
       "│ 8000   ┆ default │\n",
       "│ 5000   ┆ ok      │\n",
       "│ 5000   ┆ ok      │\n",
       "│ 4000   ┆ ok      │\n",
       "│ 9000   ┆ ok      │\n",
       "│ 3000   ┆ default │\n",
       "└────────┴─────────┘"
      ]
     },
     "metadata": {},
     "output_type": "display_data"
    },
    {
     "name": "stdout",
     "output_type": "stream",
     "text": [
      "shape: (2, 2)\n",
      "┌─────────┬────────────┐\n",
      "│ status  ┆ proportion │\n",
      "│ ---     ┆ ---        │\n",
      "│ str     ┆ f64        │\n",
      "╞═════════╪════════════╡\n",
      "│ ok      ┆ 0.666667   │\n",
      "│ default ┆ 0.333333   │\n",
      "└─────────┴────────────┘\n",
      "----------------------------------------\n",
      "3000\n"
     ]
    },
    {
     "data": {
      "text/html": [
       "<div><style>\n",
       ".dataframe > thead > tr,\n",
       ".dataframe > tbody > tr {\n",
       "  text-align: right;\n",
       "  white-space: pre-wrap;\n",
       "}\n",
       "</style>\n",
       "<small>shape: (3, 2)</small><table border=\"1\" class=\"dataframe\"><thead><tr><th>assets</th><th>status</th></tr><tr><td>i64</td><td>str</td></tr></thead><tbody><tr><td>2000</td><td>&quot;default&quot;</td></tr><tr><td>0</td><td>&quot;default&quot;</td></tr><tr><td>3000</td><td>&quot;default&quot;</td></tr></tbody></table></div>"
      ],
      "text/plain": [
       "shape: (3, 2)\n",
       "┌────────┬─────────┐\n",
       "│ assets ┆ status  │\n",
       "│ ---    ┆ ---     │\n",
       "│ i64    ┆ str     │\n",
       "╞════════╪═════════╡\n",
       "│ 2000   ┆ default │\n",
       "│ 0      ┆ default │\n",
       "│ 3000   ┆ default │\n",
       "└────────┴─────────┘"
      ]
     },
     "metadata": {},
     "output_type": "display_data"
    },
    {
     "name": "stdout",
     "output_type": "stream",
     "text": [
      "shape: (1, 2)\n",
      "┌─────────┬────────────┐\n",
      "│ status  ┆ proportion │\n",
      "│ ---     ┆ ---        │\n",
      "│ str     ┆ f64        │\n",
      "╞═════════╪════════════╡\n",
      "│ default ┆ 1.0        │\n",
      "└─────────┴────────────┘\n"
     ]
    },
    {
     "data": {
      "text/html": [
       "<div><style>\n",
       ".dataframe > thead > tr,\n",
       ".dataframe > tbody > tr {\n",
       "  text-align: right;\n",
       "  white-space: pre-wrap;\n",
       "}\n",
       "</style>\n",
       "<small>shape: (5, 2)</small><table border=\"1\" class=\"dataframe\"><thead><tr><th>assets</th><th>status</th></tr><tr><td>i64</td><td>str</td></tr></thead><tbody><tr><td>8000</td><td>&quot;default&quot;</td></tr><tr><td>5000</td><td>&quot;ok&quot;</td></tr><tr><td>5000</td><td>&quot;ok&quot;</td></tr><tr><td>4000</td><td>&quot;ok&quot;</td></tr><tr><td>9000</td><td>&quot;ok&quot;</td></tr></tbody></table></div>"
      ],
      "text/plain": [
       "shape: (5, 2)\n",
       "┌────────┬─────────┐\n",
       "│ assets ┆ status  │\n",
       "│ ---    ┆ ---     │\n",
       "│ i64    ┆ str     │\n",
       "╞════════╪═════════╡\n",
       "│ 8000   ┆ default │\n",
       "│ 5000   ┆ ok      │\n",
       "│ 5000   ┆ ok      │\n",
       "│ 4000   ┆ ok      │\n",
       "│ 9000   ┆ ok      │\n",
       "└────────┴─────────┘"
      ]
     },
     "metadata": {},
     "output_type": "display_data"
    },
    {
     "name": "stdout",
     "output_type": "stream",
     "text": [
      "shape: (2, 2)\n",
      "┌─────────┬────────────┐\n",
      "│ status  ┆ proportion │\n",
      "│ ---     ┆ ---        │\n",
      "│ str     ┆ f64        │\n",
      "╞═════════╪════════════╡\n",
      "│ ok      ┆ 0.8        │\n",
      "│ default ┆ 0.2        │\n",
      "└─────────┴────────────┘\n",
      "----------------------------------------\n",
      "4000\n"
     ]
    },
    {
     "data": {
      "text/html": [
       "<div><style>\n",
       ".dataframe > thead > tr,\n",
       ".dataframe > tbody > tr {\n",
       "  text-align: right;\n",
       "  white-space: pre-wrap;\n",
       "}\n",
       "</style>\n",
       "<small>shape: (4, 2)</small><table border=\"1\" class=\"dataframe\"><thead><tr><th>assets</th><th>status</th></tr><tr><td>i64</td><td>str</td></tr></thead><tbody><tr><td>2000</td><td>&quot;default&quot;</td></tr><tr><td>0</td><td>&quot;default&quot;</td></tr><tr><td>4000</td><td>&quot;ok&quot;</td></tr><tr><td>3000</td><td>&quot;default&quot;</td></tr></tbody></table></div>"
      ],
      "text/plain": [
       "shape: (4, 2)\n",
       "┌────────┬─────────┐\n",
       "│ assets ┆ status  │\n",
       "│ ---    ┆ ---     │\n",
       "│ i64    ┆ str     │\n",
       "╞════════╪═════════╡\n",
       "│ 2000   ┆ default │\n",
       "│ 0      ┆ default │\n",
       "│ 4000   ┆ ok      │\n",
       "│ 3000   ┆ default │\n",
       "└────────┴─────────┘"
      ]
     },
     "metadata": {},
     "output_type": "display_data"
    },
    {
     "name": "stdout",
     "output_type": "stream",
     "text": [
      "shape: (2, 2)\n",
      "┌─────────┬────────────┐\n",
      "│ status  ┆ proportion │\n",
      "│ ---     ┆ ---        │\n",
      "│ str     ┆ f64        │\n",
      "╞═════════╪════════════╡\n",
      "│ default ┆ 0.75       │\n",
      "│ ok      ┆ 0.25       │\n",
      "└─────────┴────────────┘\n"
     ]
    },
    {
     "data": {
      "text/html": [
       "<div><style>\n",
       ".dataframe > thead > tr,\n",
       ".dataframe > tbody > tr {\n",
       "  text-align: right;\n",
       "  white-space: pre-wrap;\n",
       "}\n",
       "</style>\n",
       "<small>shape: (4, 2)</small><table border=\"1\" class=\"dataframe\"><thead><tr><th>assets</th><th>status</th></tr><tr><td>i64</td><td>str</td></tr></thead><tbody><tr><td>8000</td><td>&quot;default&quot;</td></tr><tr><td>5000</td><td>&quot;ok&quot;</td></tr><tr><td>5000</td><td>&quot;ok&quot;</td></tr><tr><td>9000</td><td>&quot;ok&quot;</td></tr></tbody></table></div>"
      ],
      "text/plain": [
       "shape: (4, 2)\n",
       "┌────────┬─────────┐\n",
       "│ assets ┆ status  │\n",
       "│ ---    ┆ ---     │\n",
       "│ i64    ┆ str     │\n",
       "╞════════╪═════════╡\n",
       "│ 8000   ┆ default │\n",
       "│ 5000   ┆ ok      │\n",
       "│ 5000   ┆ ok      │\n",
       "│ 9000   ┆ ok      │\n",
       "└────────┴─────────┘"
      ]
     },
     "metadata": {},
     "output_type": "display_data"
    },
    {
     "name": "stdout",
     "output_type": "stream",
     "text": [
      "shape: (2, 2)\n",
      "┌─────────┬────────────┐\n",
      "│ status  ┆ proportion │\n",
      "│ ---     ┆ ---        │\n",
      "│ str     ┆ f64        │\n",
      "╞═════════╪════════════╡\n",
      "│ ok      ┆ 0.75       │\n",
      "│ default ┆ 0.25       │\n",
      "└─────────┴────────────┘\n",
      "----------------------------------------\n",
      "5000\n"
     ]
    },
    {
     "data": {
      "text/html": [
       "<div><style>\n",
       ".dataframe > thead > tr,\n",
       ".dataframe > tbody > tr {\n",
       "  text-align: right;\n",
       "  white-space: pre-wrap;\n",
       "}\n",
       "</style>\n",
       "<small>shape: (6, 2)</small><table border=\"1\" class=\"dataframe\"><thead><tr><th>assets</th><th>status</th></tr><tr><td>i64</td><td>str</td></tr></thead><tbody><tr><td>2000</td><td>&quot;default&quot;</td></tr><tr><td>0</td><td>&quot;default&quot;</td></tr><tr><td>5000</td><td>&quot;ok&quot;</td></tr><tr><td>5000</td><td>&quot;ok&quot;</td></tr><tr><td>4000</td><td>&quot;ok&quot;</td></tr><tr><td>3000</td><td>&quot;default&quot;</td></tr></tbody></table></div>"
      ],
      "text/plain": [
       "shape: (6, 2)\n",
       "┌────────┬─────────┐\n",
       "│ assets ┆ status  │\n",
       "│ ---    ┆ ---     │\n",
       "│ i64    ┆ str     │\n",
       "╞════════╪═════════╡\n",
       "│ 2000   ┆ default │\n",
       "│ 0      ┆ default │\n",
       "│ 5000   ┆ ok      │\n",
       "│ 5000   ┆ ok      │\n",
       "│ 4000   ┆ ok      │\n",
       "│ 3000   ┆ default │\n",
       "└────────┴─────────┘"
      ]
     },
     "metadata": {},
     "output_type": "display_data"
    },
    {
     "name": "stdout",
     "output_type": "stream",
     "text": [
      "shape: (2, 2)\n",
      "┌─────────┬────────────┐\n",
      "│ status  ┆ proportion │\n",
      "│ ---     ┆ ---        │\n",
      "│ str     ┆ f64        │\n",
      "╞═════════╪════════════╡\n",
      "│ ok      ┆ 0.5        │\n",
      "│ default ┆ 0.5        │\n",
      "└─────────┴────────────┘\n"
     ]
    },
    {
     "data": {
      "text/html": [
       "<div><style>\n",
       ".dataframe > thead > tr,\n",
       ".dataframe > tbody > tr {\n",
       "  text-align: right;\n",
       "  white-space: pre-wrap;\n",
       "}\n",
       "</style>\n",
       "<small>shape: (2, 2)</small><table border=\"1\" class=\"dataframe\"><thead><tr><th>assets</th><th>status</th></tr><tr><td>i64</td><td>str</td></tr></thead><tbody><tr><td>8000</td><td>&quot;default&quot;</td></tr><tr><td>9000</td><td>&quot;ok&quot;</td></tr></tbody></table></div>"
      ],
      "text/plain": [
       "shape: (2, 2)\n",
       "┌────────┬─────────┐\n",
       "│ assets ┆ status  │\n",
       "│ ---    ┆ ---     │\n",
       "│ i64    ┆ str     │\n",
       "╞════════╪═════════╡\n",
       "│ 8000   ┆ default │\n",
       "│ 9000   ┆ ok      │\n",
       "└────────┴─────────┘"
      ]
     },
     "metadata": {},
     "output_type": "display_data"
    },
    {
     "name": "stdout",
     "output_type": "stream",
     "text": [
      "shape: (2, 2)\n",
      "┌─────────┬────────────┐\n",
      "│ status  ┆ proportion │\n",
      "│ ---     ┆ ---        │\n",
      "│ str     ┆ f64        │\n",
      "╞═════════╪════════════╡\n",
      "│ default ┆ 0.5        │\n",
      "│ ok      ┆ 0.5        │\n",
      "└─────────┴────────────┘\n",
      "----------------------------------------\n",
      "8000\n"
     ]
    },
    {
     "data": {
      "text/html": [
       "<div><style>\n",
       ".dataframe > thead > tr,\n",
       ".dataframe > tbody > tr {\n",
       "  text-align: right;\n",
       "  white-space: pre-wrap;\n",
       "}\n",
       "</style>\n",
       "<small>shape: (7, 2)</small><table border=\"1\" class=\"dataframe\"><thead><tr><th>assets</th><th>status</th></tr><tr><td>i64</td><td>str</td></tr></thead><tbody><tr><td>8000</td><td>&quot;default&quot;</td></tr><tr><td>2000</td><td>&quot;default&quot;</td></tr><tr><td>0</td><td>&quot;default&quot;</td></tr><tr><td>5000</td><td>&quot;ok&quot;</td></tr><tr><td>5000</td><td>&quot;ok&quot;</td></tr><tr><td>4000</td><td>&quot;ok&quot;</td></tr><tr><td>3000</td><td>&quot;default&quot;</td></tr></tbody></table></div>"
      ],
      "text/plain": [
       "shape: (7, 2)\n",
       "┌────────┬─────────┐\n",
       "│ assets ┆ status  │\n",
       "│ ---    ┆ ---     │\n",
       "│ i64    ┆ str     │\n",
       "╞════════╪═════════╡\n",
       "│ 8000   ┆ default │\n",
       "│ 2000   ┆ default │\n",
       "│ 0      ┆ default │\n",
       "│ 5000   ┆ ok      │\n",
       "│ 5000   ┆ ok      │\n",
       "│ 4000   ┆ ok      │\n",
       "│ 3000   ┆ default │\n",
       "└────────┴─────────┘"
      ]
     },
     "metadata": {},
     "output_type": "display_data"
    },
    {
     "name": "stdout",
     "output_type": "stream",
     "text": [
      "shape: (2, 2)\n",
      "┌─────────┬────────────┐\n",
      "│ status  ┆ proportion │\n",
      "│ ---     ┆ ---        │\n",
      "│ str     ┆ f64        │\n",
      "╞═════════╪════════════╡\n",
      "│ default ┆ 0.571429   │\n",
      "│ ok      ┆ 0.428571   │\n",
      "└─────────┴────────────┘\n"
     ]
    },
    {
     "data": {
      "text/html": [
       "<div><style>\n",
       ".dataframe > thead > tr,\n",
       ".dataframe > tbody > tr {\n",
       "  text-align: right;\n",
       "  white-space: pre-wrap;\n",
       "}\n",
       "</style>\n",
       "<small>shape: (1, 2)</small><table border=\"1\" class=\"dataframe\"><thead><tr><th>assets</th><th>status</th></tr><tr><td>i64</td><td>str</td></tr></thead><tbody><tr><td>9000</td><td>&quot;ok&quot;</td></tr></tbody></table></div>"
      ],
      "text/plain": [
       "shape: (1, 2)\n",
       "┌────────┬────────┐\n",
       "│ assets ┆ status │\n",
       "│ ---    ┆ ---    │\n",
       "│ i64    ┆ str    │\n",
       "╞════════╪════════╡\n",
       "│ 9000   ┆ ok     │\n",
       "└────────┴────────┘"
      ]
     },
     "metadata": {},
     "output_type": "display_data"
    },
    {
     "name": "stdout",
     "output_type": "stream",
     "text": [
      "shape: (1, 2)\n",
      "┌────────┬────────────┐\n",
      "│ status ┆ proportion │\n",
      "│ ---    ┆ ---        │\n",
      "│ str    ┆ f64        │\n",
      "╞════════╪════════════╡\n",
      "│ ok     ┆ 1.0        │\n",
      "└────────┴────────────┘\n",
      "----------------------------------------\n"
     ]
    }
   ],
   "source": [
    "for T in Ts:\n",
    "    print(T)\n",
    "    df_left = df_example.filter(pl.col(\"assets\") <= T)\n",
    "    df_right = df_example.filter(pl.col(\"assets\") > T)\n",
    "\n",
    "    display(df_left)\n",
    "    print(df_left[\"status\"].value_counts(normalize=True))\n",
    "    display(df_right)\n",
    "    print(df_right[\"status\"].value_counts(normalize=True))\n",
    "\n",
    "    print(\"-\" * 40)"
   ]
  },
  {
   "cell_type": "markdown",
   "metadata": {},
   "source": [
    "### Two Features\n"
   ]
  },
  {
   "cell_type": "code",
   "execution_count": 35,
   "metadata": {},
   "outputs": [
    {
     "data": {
      "text/html": [
       "<div><style>\n",
       ".dataframe > thead > tr,\n",
       ".dataframe > tbody > tr {\n",
       "  text-align: right;\n",
       "  white-space: pre-wrap;\n",
       "}\n",
       "</style>\n",
       "<small>shape: (8, 3)</small><table border=\"1\" class=\"dataframe\"><thead><tr><th>assets</th><th>debt</th><th>status</th></tr><tr><td>i64</td><td>i64</td><td>str</td></tr></thead><tbody><tr><td>8000</td><td>3000</td><td>&quot;default&quot;</td></tr><tr><td>2000</td><td>1000</td><td>&quot;default&quot;</td></tr><tr><td>0</td><td>1000</td><td>&quot;default&quot;</td></tr><tr><td>5000</td><td>1000</td><td>&quot;ok&quot;</td></tr><tr><td>5000</td><td>1000</td><td>&quot;ok&quot;</td></tr><tr><td>4000</td><td>1000</td><td>&quot;ok&quot;</td></tr><tr><td>9000</td><td>500</td><td>&quot;ok&quot;</td></tr><tr><td>3000</td><td>2000</td><td>&quot;default&quot;</td></tr></tbody></table></div>"
      ],
      "text/plain": [
       "shape: (8, 3)\n",
       "┌────────┬──────┬─────────┐\n",
       "│ assets ┆ debt ┆ status  │\n",
       "│ ---    ┆ ---  ┆ ---     │\n",
       "│ i64    ┆ i64  ┆ str     │\n",
       "╞════════╪══════╪═════════╡\n",
       "│ 8000   ┆ 3000 ┆ default │\n",
       "│ 2000   ┆ 1000 ┆ default │\n",
       "│ 0      ┆ 1000 ┆ default │\n",
       "│ 5000   ┆ 1000 ┆ ok      │\n",
       "│ 5000   ┆ 1000 ┆ ok      │\n",
       "│ 4000   ┆ 1000 ┆ ok      │\n",
       "│ 9000   ┆ 500  ┆ ok      │\n",
       "│ 3000   ┆ 2000 ┆ default │\n",
       "└────────┴──────┴─────────┘"
      ]
     },
     "execution_count": 35,
     "metadata": {},
     "output_type": "execute_result"
    }
   ],
   "source": [
    "data = [\n",
    "    [8000, 3000, \"default\"],\n",
    "    [2000, 1000, \"default\"],\n",
    "    [0, 1000, \"default\"],\n",
    "    [5000, 1000, \"ok\"],\n",
    "    [5000, 1000, \"ok\"],\n",
    "    [4000, 1000, \"ok\"],\n",
    "    [9000, 500, \"ok\"],\n",
    "    [3000, 2000, \"default\"],\n",
    "]\n",
    "df_example = pl.DataFrame(data, schema=[\"assets\", \"debt\", \"status\"], orient=\"row\")\n",
    "df_example"
   ]
  },
  {
   "cell_type": "code",
   "execution_count": 36,
   "metadata": {},
   "outputs": [
    {
     "data": {
      "text/html": [
       "<div><style>\n",
       ".dataframe > thead > tr,\n",
       ".dataframe > tbody > tr {\n",
       "  text-align: right;\n",
       "  white-space: pre-wrap;\n",
       "}\n",
       "</style>\n",
       "<small>shape: (8, 3)</small><table border=\"1\" class=\"dataframe\"><thead><tr><th>assets</th><th>debt</th><th>status</th></tr><tr><td>i64</td><td>i64</td><td>str</td></tr></thead><tbody><tr><td>9000</td><td>500</td><td>&quot;ok&quot;</td></tr><tr><td>2000</td><td>1000</td><td>&quot;default&quot;</td></tr><tr><td>0</td><td>1000</td><td>&quot;default&quot;</td></tr><tr><td>5000</td><td>1000</td><td>&quot;ok&quot;</td></tr><tr><td>5000</td><td>1000</td><td>&quot;ok&quot;</td></tr><tr><td>4000</td><td>1000</td><td>&quot;ok&quot;</td></tr><tr><td>3000</td><td>2000</td><td>&quot;default&quot;</td></tr><tr><td>8000</td><td>3000</td><td>&quot;default&quot;</td></tr></tbody></table></div>"
      ],
      "text/plain": [
       "shape: (8, 3)\n",
       "┌────────┬──────┬─────────┐\n",
       "│ assets ┆ debt ┆ status  │\n",
       "│ ---    ┆ ---  ┆ ---     │\n",
       "│ i64    ┆ i64  ┆ str     │\n",
       "╞════════╪══════╪═════════╡\n",
       "│ 9000   ┆ 500  ┆ ok      │\n",
       "│ 2000   ┆ 1000 ┆ default │\n",
       "│ 0      ┆ 1000 ┆ default │\n",
       "│ 5000   ┆ 1000 ┆ ok      │\n",
       "│ 5000   ┆ 1000 ┆ ok      │\n",
       "│ 4000   ┆ 1000 ┆ ok      │\n",
       "│ 3000   ┆ 2000 ┆ default │\n",
       "│ 8000   ┆ 3000 ┆ default │\n",
       "└────────┴──────┴─────────┘"
      ]
     },
     "execution_count": 36,
     "metadata": {},
     "output_type": "execute_result"
    }
   ],
   "source": [
    "df_example.sort(\"debt\")"
   ]
  },
  {
   "cell_type": "code",
   "execution_count": 37,
   "metadata": {},
   "outputs": [],
   "source": [
    "thresholds = {\"assets\": [0, 2000, 3000, 4000, 5000, 8000], \"debt\": [500, 1000, 2000]}"
   ]
  },
  {
   "cell_type": "code",
   "execution_count": 38,
   "metadata": {},
   "outputs": [
    {
     "data": {
      "text/plain": [
       "0.5714285714285714"
      ]
     },
     "execution_count": 38,
     "metadata": {},
     "output_type": "execute_result"
    }
   ],
   "source": [
    "next(\n",
    "    iter(\n",
    "        df_left[\"status\"]\n",
    "        .value_counts(normalize=True)\n",
    "        .filter(pl.col(\"status\") == \"default\")[\"proportion\"]\n",
    "    ),\n",
    "    None,\n",
    ")"
   ]
  },
  {
   "cell_type": "code",
   "execution_count": 39,
   "metadata": {},
   "outputs": [
    {
     "data": {
      "text/html": [
       "<div><style>\n",
       ".dataframe > thead > tr,\n",
       ".dataframe > tbody > tr {\n",
       "  text-align: right;\n",
       "  white-space: pre-wrap;\n",
       "}\n",
       "</style>\n",
       "<small>shape: (1,)</small><table border=\"1\" class=\"dataframe\"><thead><tr><th>proportion</th></tr><tr><td>f64</td></tr></thead><tbody><tr><td>0.571429</td></tr></tbody></table></div>"
      ],
      "text/plain": [
       "shape: (1,)\n",
       "Series: 'proportion' [f64]\n",
       "[\n",
       "\t0.571429\n",
       "]"
      ]
     },
     "execution_count": 39,
     "metadata": {},
     "output_type": "execute_result"
    }
   ],
   "source": [
    "df_left[\"status\"].value_counts(normalize=True).filter(pl.col(\"status\") == \"default\")[\n",
    "    \"proportion\"\n",
    "]"
   ]
  },
  {
   "cell_type": "code",
   "execution_count": 40,
   "metadata": {},
   "outputs": [
    {
     "name": "stdout",
     "output_type": "stream",
     "text": [
      "assets\n",
      "0\n"
     ]
    },
    {
     "data": {
      "text/html": [
       "<div><style>\n",
       ".dataframe > thead > tr,\n",
       ".dataframe > tbody > tr {\n",
       "  text-align: right;\n",
       "  white-space: pre-wrap;\n",
       "}\n",
       "</style>\n",
       "<small>shape: (1, 3)</small><table border=\"1\" class=\"dataframe\"><thead><tr><th>assets</th><th>debt</th><th>status</th></tr><tr><td>i64</td><td>i64</td><td>str</td></tr></thead><tbody><tr><td>0</td><td>1000</td><td>&quot;default&quot;</td></tr></tbody></table></div>"
      ],
      "text/plain": [
       "shape: (1, 3)\n",
       "┌────────┬──────┬─────────┐\n",
       "│ assets ┆ debt ┆ status  │\n",
       "│ ---    ┆ ---  ┆ ---     │\n",
       "│ i64    ┆ i64  ┆ str     │\n",
       "╞════════╪══════╪═════════╡\n",
       "│ 0      ┆ 1000 ┆ default │\n",
       "└────────┴──────┴─────────┘"
      ]
     },
     "metadata": {},
     "output_type": "display_data"
    },
    {
     "name": "stdout",
     "output_type": "stream",
     "text": [
      "shape: (1, 2)\n",
      "┌─────────┬────────────┐\n",
      "│ status  ┆ proportion │\n",
      "│ ---     ┆ ---        │\n",
      "│ str     ┆ f64        │\n",
      "╞═════════╪════════════╡\n",
      "│ default ┆ 1.0        │\n",
      "└─────────┴────────────┘\n"
     ]
    },
    {
     "data": {
      "text/html": [
       "<div><style>\n",
       ".dataframe > thead > tr,\n",
       ".dataframe > tbody > tr {\n",
       "  text-align: right;\n",
       "  white-space: pre-wrap;\n",
       "}\n",
       "</style>\n",
       "<small>shape: (7, 3)</small><table border=\"1\" class=\"dataframe\"><thead><tr><th>assets</th><th>debt</th><th>status</th></tr><tr><td>i64</td><td>i64</td><td>str</td></tr></thead><tbody><tr><td>8000</td><td>3000</td><td>&quot;default&quot;</td></tr><tr><td>2000</td><td>1000</td><td>&quot;default&quot;</td></tr><tr><td>5000</td><td>1000</td><td>&quot;ok&quot;</td></tr><tr><td>5000</td><td>1000</td><td>&quot;ok&quot;</td></tr><tr><td>4000</td><td>1000</td><td>&quot;ok&quot;</td></tr><tr><td>9000</td><td>500</td><td>&quot;ok&quot;</td></tr><tr><td>3000</td><td>2000</td><td>&quot;default&quot;</td></tr></tbody></table></div>"
      ],
      "text/plain": [
       "shape: (7, 3)\n",
       "┌────────┬──────┬─────────┐\n",
       "│ assets ┆ debt ┆ status  │\n",
       "│ ---    ┆ ---  ┆ ---     │\n",
       "│ i64    ┆ i64  ┆ str     │\n",
       "╞════════╪══════╪═════════╡\n",
       "│ 8000   ┆ 3000 ┆ default │\n",
       "│ 2000   ┆ 1000 ┆ default │\n",
       "│ 5000   ┆ 1000 ┆ ok      │\n",
       "│ 5000   ┆ 1000 ┆ ok      │\n",
       "│ 4000   ┆ 1000 ┆ ok      │\n",
       "│ 9000   ┆ 500  ┆ ok      │\n",
       "│ 3000   ┆ 2000 ┆ default │\n",
       "└────────┴──────┴─────────┘"
      ]
     },
     "metadata": {},
     "output_type": "display_data"
    },
    {
     "name": "stdout",
     "output_type": "stream",
     "text": [
      "shape: (2, 2)\n",
      "┌─────────┬────────────┐\n",
      "│ status  ┆ proportion │\n",
      "│ ---     ┆ ---        │\n",
      "│ str     ┆ f64        │\n",
      "╞═════════╪════════════╡\n",
      "│ ok      ┆ 0.571429   │\n",
      "│ default ┆ 0.428571   │\n",
      "└─────────┴────────────┘\n",
      "----------------------------------------\n",
      "2000\n"
     ]
    },
    {
     "data": {
      "text/html": [
       "<div><style>\n",
       ".dataframe > thead > tr,\n",
       ".dataframe > tbody > tr {\n",
       "  text-align: right;\n",
       "  white-space: pre-wrap;\n",
       "}\n",
       "</style>\n",
       "<small>shape: (2, 3)</small><table border=\"1\" class=\"dataframe\"><thead><tr><th>assets</th><th>debt</th><th>status</th></tr><tr><td>i64</td><td>i64</td><td>str</td></tr></thead><tbody><tr><td>2000</td><td>1000</td><td>&quot;default&quot;</td></tr><tr><td>0</td><td>1000</td><td>&quot;default&quot;</td></tr></tbody></table></div>"
      ],
      "text/plain": [
       "shape: (2, 3)\n",
       "┌────────┬──────┬─────────┐\n",
       "│ assets ┆ debt ┆ status  │\n",
       "│ ---    ┆ ---  ┆ ---     │\n",
       "│ i64    ┆ i64  ┆ str     │\n",
       "╞════════╪══════╪═════════╡\n",
       "│ 2000   ┆ 1000 ┆ default │\n",
       "│ 0      ┆ 1000 ┆ default │\n",
       "└────────┴──────┴─────────┘"
      ]
     },
     "metadata": {},
     "output_type": "display_data"
    },
    {
     "name": "stdout",
     "output_type": "stream",
     "text": [
      "shape: (1, 2)\n",
      "┌─────────┬────────────┐\n",
      "│ status  ┆ proportion │\n",
      "│ ---     ┆ ---        │\n",
      "│ str     ┆ f64        │\n",
      "╞═════════╪════════════╡\n",
      "│ default ┆ 1.0        │\n",
      "└─────────┴────────────┘\n"
     ]
    },
    {
     "data": {
      "text/html": [
       "<div><style>\n",
       ".dataframe > thead > tr,\n",
       ".dataframe > tbody > tr {\n",
       "  text-align: right;\n",
       "  white-space: pre-wrap;\n",
       "}\n",
       "</style>\n",
       "<small>shape: (6, 3)</small><table border=\"1\" class=\"dataframe\"><thead><tr><th>assets</th><th>debt</th><th>status</th></tr><tr><td>i64</td><td>i64</td><td>str</td></tr></thead><tbody><tr><td>8000</td><td>3000</td><td>&quot;default&quot;</td></tr><tr><td>5000</td><td>1000</td><td>&quot;ok&quot;</td></tr><tr><td>5000</td><td>1000</td><td>&quot;ok&quot;</td></tr><tr><td>4000</td><td>1000</td><td>&quot;ok&quot;</td></tr><tr><td>9000</td><td>500</td><td>&quot;ok&quot;</td></tr><tr><td>3000</td><td>2000</td><td>&quot;default&quot;</td></tr></tbody></table></div>"
      ],
      "text/plain": [
       "shape: (6, 3)\n",
       "┌────────┬──────┬─────────┐\n",
       "│ assets ┆ debt ┆ status  │\n",
       "│ ---    ┆ ---  ┆ ---     │\n",
       "│ i64    ┆ i64  ┆ str     │\n",
       "╞════════╪══════╪═════════╡\n",
       "│ 8000   ┆ 3000 ┆ default │\n",
       "│ 5000   ┆ 1000 ┆ ok      │\n",
       "│ 5000   ┆ 1000 ┆ ok      │\n",
       "│ 4000   ┆ 1000 ┆ ok      │\n",
       "│ 9000   ┆ 500  ┆ ok      │\n",
       "│ 3000   ┆ 2000 ┆ default │\n",
       "└────────┴──────┴─────────┘"
      ]
     },
     "metadata": {},
     "output_type": "display_data"
    },
    {
     "name": "stdout",
     "output_type": "stream",
     "text": [
      "shape: (2, 2)\n",
      "┌─────────┬────────────┐\n",
      "│ status  ┆ proportion │\n",
      "│ ---     ┆ ---        │\n",
      "│ str     ┆ f64        │\n",
      "╞═════════╪════════════╡\n",
      "│ default ┆ 0.333333   │\n",
      "│ ok      ┆ 0.666667   │\n",
      "└─────────┴────────────┘\n",
      "----------------------------------------\n",
      "3000\n"
     ]
    },
    {
     "data": {
      "text/html": [
       "<div><style>\n",
       ".dataframe > thead > tr,\n",
       ".dataframe > tbody > tr {\n",
       "  text-align: right;\n",
       "  white-space: pre-wrap;\n",
       "}\n",
       "</style>\n",
       "<small>shape: (3, 3)</small><table border=\"1\" class=\"dataframe\"><thead><tr><th>assets</th><th>debt</th><th>status</th></tr><tr><td>i64</td><td>i64</td><td>str</td></tr></thead><tbody><tr><td>2000</td><td>1000</td><td>&quot;default&quot;</td></tr><tr><td>0</td><td>1000</td><td>&quot;default&quot;</td></tr><tr><td>3000</td><td>2000</td><td>&quot;default&quot;</td></tr></tbody></table></div>"
      ],
      "text/plain": [
       "shape: (3, 3)\n",
       "┌────────┬──────┬─────────┐\n",
       "│ assets ┆ debt ┆ status  │\n",
       "│ ---    ┆ ---  ┆ ---     │\n",
       "│ i64    ┆ i64  ┆ str     │\n",
       "╞════════╪══════╪═════════╡\n",
       "│ 2000   ┆ 1000 ┆ default │\n",
       "│ 0      ┆ 1000 ┆ default │\n",
       "│ 3000   ┆ 2000 ┆ default │\n",
       "└────────┴──────┴─────────┘"
      ]
     },
     "metadata": {},
     "output_type": "display_data"
    },
    {
     "name": "stdout",
     "output_type": "stream",
     "text": [
      "shape: (1, 2)\n",
      "┌─────────┬────────────┐\n",
      "│ status  ┆ proportion │\n",
      "│ ---     ┆ ---        │\n",
      "│ str     ┆ f64        │\n",
      "╞═════════╪════════════╡\n",
      "│ default ┆ 1.0        │\n",
      "└─────────┴────────────┘\n"
     ]
    },
    {
     "data": {
      "text/html": [
       "<div><style>\n",
       ".dataframe > thead > tr,\n",
       ".dataframe > tbody > tr {\n",
       "  text-align: right;\n",
       "  white-space: pre-wrap;\n",
       "}\n",
       "</style>\n",
       "<small>shape: (5, 3)</small><table border=\"1\" class=\"dataframe\"><thead><tr><th>assets</th><th>debt</th><th>status</th></tr><tr><td>i64</td><td>i64</td><td>str</td></tr></thead><tbody><tr><td>8000</td><td>3000</td><td>&quot;default&quot;</td></tr><tr><td>5000</td><td>1000</td><td>&quot;ok&quot;</td></tr><tr><td>5000</td><td>1000</td><td>&quot;ok&quot;</td></tr><tr><td>4000</td><td>1000</td><td>&quot;ok&quot;</td></tr><tr><td>9000</td><td>500</td><td>&quot;ok&quot;</td></tr></tbody></table></div>"
      ],
      "text/plain": [
       "shape: (5, 3)\n",
       "┌────────┬──────┬─────────┐\n",
       "│ assets ┆ debt ┆ status  │\n",
       "│ ---    ┆ ---  ┆ ---     │\n",
       "│ i64    ┆ i64  ┆ str     │\n",
       "╞════════╪══════╪═════════╡\n",
       "│ 8000   ┆ 3000 ┆ default │\n",
       "│ 5000   ┆ 1000 ┆ ok      │\n",
       "│ 5000   ┆ 1000 ┆ ok      │\n",
       "│ 4000   ┆ 1000 ┆ ok      │\n",
       "│ 9000   ┆ 500  ┆ ok      │\n",
       "└────────┴──────┴─────────┘"
      ]
     },
     "metadata": {},
     "output_type": "display_data"
    },
    {
     "name": "stdout",
     "output_type": "stream",
     "text": [
      "shape: (2, 2)\n",
      "┌─────────┬────────────┐\n",
      "│ status  ┆ proportion │\n",
      "│ ---     ┆ ---        │\n",
      "│ str     ┆ f64        │\n",
      "╞═════════╪════════════╡\n",
      "│ ok      ┆ 0.8        │\n",
      "│ default ┆ 0.2        │\n",
      "└─────────┴────────────┘\n",
      "----------------------------------------\n",
      "4000\n"
     ]
    },
    {
     "data": {
      "text/html": [
       "<div><style>\n",
       ".dataframe > thead > tr,\n",
       ".dataframe > tbody > tr {\n",
       "  text-align: right;\n",
       "  white-space: pre-wrap;\n",
       "}\n",
       "</style>\n",
       "<small>shape: (4, 3)</small><table border=\"1\" class=\"dataframe\"><thead><tr><th>assets</th><th>debt</th><th>status</th></tr><tr><td>i64</td><td>i64</td><td>str</td></tr></thead><tbody><tr><td>2000</td><td>1000</td><td>&quot;default&quot;</td></tr><tr><td>0</td><td>1000</td><td>&quot;default&quot;</td></tr><tr><td>4000</td><td>1000</td><td>&quot;ok&quot;</td></tr><tr><td>3000</td><td>2000</td><td>&quot;default&quot;</td></tr></tbody></table></div>"
      ],
      "text/plain": [
       "shape: (4, 3)\n",
       "┌────────┬──────┬─────────┐\n",
       "│ assets ┆ debt ┆ status  │\n",
       "│ ---    ┆ ---  ┆ ---     │\n",
       "│ i64    ┆ i64  ┆ str     │\n",
       "╞════════╪══════╪═════════╡\n",
       "│ 2000   ┆ 1000 ┆ default │\n",
       "│ 0      ┆ 1000 ┆ default │\n",
       "│ 4000   ┆ 1000 ┆ ok      │\n",
       "│ 3000   ┆ 2000 ┆ default │\n",
       "└────────┴──────┴─────────┘"
      ]
     },
     "metadata": {},
     "output_type": "display_data"
    },
    {
     "name": "stdout",
     "output_type": "stream",
     "text": [
      "shape: (2, 2)\n",
      "┌─────────┬────────────┐\n",
      "│ status  ┆ proportion │\n",
      "│ ---     ┆ ---        │\n",
      "│ str     ┆ f64        │\n",
      "╞═════════╪════════════╡\n",
      "│ default ┆ 0.75       │\n",
      "│ ok      ┆ 0.25       │\n",
      "└─────────┴────────────┘\n"
     ]
    },
    {
     "data": {
      "text/html": [
       "<div><style>\n",
       ".dataframe > thead > tr,\n",
       ".dataframe > tbody > tr {\n",
       "  text-align: right;\n",
       "  white-space: pre-wrap;\n",
       "}\n",
       "</style>\n",
       "<small>shape: (4, 3)</small><table border=\"1\" class=\"dataframe\"><thead><tr><th>assets</th><th>debt</th><th>status</th></tr><tr><td>i64</td><td>i64</td><td>str</td></tr></thead><tbody><tr><td>8000</td><td>3000</td><td>&quot;default&quot;</td></tr><tr><td>5000</td><td>1000</td><td>&quot;ok&quot;</td></tr><tr><td>5000</td><td>1000</td><td>&quot;ok&quot;</td></tr><tr><td>9000</td><td>500</td><td>&quot;ok&quot;</td></tr></tbody></table></div>"
      ],
      "text/plain": [
       "shape: (4, 3)\n",
       "┌────────┬──────┬─────────┐\n",
       "│ assets ┆ debt ┆ status  │\n",
       "│ ---    ┆ ---  ┆ ---     │\n",
       "│ i64    ┆ i64  ┆ str     │\n",
       "╞════════╪══════╪═════════╡\n",
       "│ 8000   ┆ 3000 ┆ default │\n",
       "│ 5000   ┆ 1000 ┆ ok      │\n",
       "│ 5000   ┆ 1000 ┆ ok      │\n",
       "│ 9000   ┆ 500  ┆ ok      │\n",
       "└────────┴──────┴─────────┘"
      ]
     },
     "metadata": {},
     "output_type": "display_data"
    },
    {
     "name": "stdout",
     "output_type": "stream",
     "text": [
      "shape: (2, 2)\n",
      "┌─────────┬────────────┐\n",
      "│ status  ┆ proportion │\n",
      "│ ---     ┆ ---        │\n",
      "│ str     ┆ f64        │\n",
      "╞═════════╪════════════╡\n",
      "│ default ┆ 0.25       │\n",
      "│ ok      ┆ 0.75       │\n",
      "└─────────┴────────────┘\n",
      "----------------------------------------\n",
      "5000\n"
     ]
    },
    {
     "data": {
      "text/html": [
       "<div><style>\n",
       ".dataframe > thead > tr,\n",
       ".dataframe > tbody > tr {\n",
       "  text-align: right;\n",
       "  white-space: pre-wrap;\n",
       "}\n",
       "</style>\n",
       "<small>shape: (6, 3)</small><table border=\"1\" class=\"dataframe\"><thead><tr><th>assets</th><th>debt</th><th>status</th></tr><tr><td>i64</td><td>i64</td><td>str</td></tr></thead><tbody><tr><td>2000</td><td>1000</td><td>&quot;default&quot;</td></tr><tr><td>0</td><td>1000</td><td>&quot;default&quot;</td></tr><tr><td>5000</td><td>1000</td><td>&quot;ok&quot;</td></tr><tr><td>5000</td><td>1000</td><td>&quot;ok&quot;</td></tr><tr><td>4000</td><td>1000</td><td>&quot;ok&quot;</td></tr><tr><td>3000</td><td>2000</td><td>&quot;default&quot;</td></tr></tbody></table></div>"
      ],
      "text/plain": [
       "shape: (6, 3)\n",
       "┌────────┬──────┬─────────┐\n",
       "│ assets ┆ debt ┆ status  │\n",
       "│ ---    ┆ ---  ┆ ---     │\n",
       "│ i64    ┆ i64  ┆ str     │\n",
       "╞════════╪══════╪═════════╡\n",
       "│ 2000   ┆ 1000 ┆ default │\n",
       "│ 0      ┆ 1000 ┆ default │\n",
       "│ 5000   ┆ 1000 ┆ ok      │\n",
       "│ 5000   ┆ 1000 ┆ ok      │\n",
       "│ 4000   ┆ 1000 ┆ ok      │\n",
       "│ 3000   ┆ 2000 ┆ default │\n",
       "└────────┴──────┴─────────┘"
      ]
     },
     "metadata": {},
     "output_type": "display_data"
    },
    {
     "name": "stdout",
     "output_type": "stream",
     "text": [
      "shape: (2, 2)\n",
      "┌─────────┬────────────┐\n",
      "│ status  ┆ proportion │\n",
      "│ ---     ┆ ---        │\n",
      "│ str     ┆ f64        │\n",
      "╞═════════╪════════════╡\n",
      "│ default ┆ 0.5        │\n",
      "│ ok      ┆ 0.5        │\n",
      "└─────────┴────────────┘\n"
     ]
    },
    {
     "data": {
      "text/html": [
       "<div><style>\n",
       ".dataframe > thead > tr,\n",
       ".dataframe > tbody > tr {\n",
       "  text-align: right;\n",
       "  white-space: pre-wrap;\n",
       "}\n",
       "</style>\n",
       "<small>shape: (2, 3)</small><table border=\"1\" class=\"dataframe\"><thead><tr><th>assets</th><th>debt</th><th>status</th></tr><tr><td>i64</td><td>i64</td><td>str</td></tr></thead><tbody><tr><td>8000</td><td>3000</td><td>&quot;default&quot;</td></tr><tr><td>9000</td><td>500</td><td>&quot;ok&quot;</td></tr></tbody></table></div>"
      ],
      "text/plain": [
       "shape: (2, 3)\n",
       "┌────────┬──────┬─────────┐\n",
       "│ assets ┆ debt ┆ status  │\n",
       "│ ---    ┆ ---  ┆ ---     │\n",
       "│ i64    ┆ i64  ┆ str     │\n",
       "╞════════╪══════╪═════════╡\n",
       "│ 8000   ┆ 3000 ┆ default │\n",
       "│ 9000   ┆ 500  ┆ ok      │\n",
       "└────────┴──────┴─────────┘"
      ]
     },
     "metadata": {},
     "output_type": "display_data"
    },
    {
     "name": "stdout",
     "output_type": "stream",
     "text": [
      "shape: (2, 2)\n",
      "┌─────────┬────────────┐\n",
      "│ status  ┆ proportion │\n",
      "│ ---     ┆ ---        │\n",
      "│ str     ┆ f64        │\n",
      "╞═════════╪════════════╡\n",
      "│ default ┆ 0.5        │\n",
      "│ ok      ┆ 0.5        │\n",
      "└─────────┴────────────┘\n",
      "----------------------------------------\n",
      "8000\n"
     ]
    },
    {
     "data": {
      "text/html": [
       "<div><style>\n",
       ".dataframe > thead > tr,\n",
       ".dataframe > tbody > tr {\n",
       "  text-align: right;\n",
       "  white-space: pre-wrap;\n",
       "}\n",
       "</style>\n",
       "<small>shape: (7, 3)</small><table border=\"1\" class=\"dataframe\"><thead><tr><th>assets</th><th>debt</th><th>status</th></tr><tr><td>i64</td><td>i64</td><td>str</td></tr></thead><tbody><tr><td>8000</td><td>3000</td><td>&quot;default&quot;</td></tr><tr><td>2000</td><td>1000</td><td>&quot;default&quot;</td></tr><tr><td>0</td><td>1000</td><td>&quot;default&quot;</td></tr><tr><td>5000</td><td>1000</td><td>&quot;ok&quot;</td></tr><tr><td>5000</td><td>1000</td><td>&quot;ok&quot;</td></tr><tr><td>4000</td><td>1000</td><td>&quot;ok&quot;</td></tr><tr><td>3000</td><td>2000</td><td>&quot;default&quot;</td></tr></tbody></table></div>"
      ],
      "text/plain": [
       "shape: (7, 3)\n",
       "┌────────┬──────┬─────────┐\n",
       "│ assets ┆ debt ┆ status  │\n",
       "│ ---    ┆ ---  ┆ ---     │\n",
       "│ i64    ┆ i64  ┆ str     │\n",
       "╞════════╪══════╪═════════╡\n",
       "│ 8000   ┆ 3000 ┆ default │\n",
       "│ 2000   ┆ 1000 ┆ default │\n",
       "│ 0      ┆ 1000 ┆ default │\n",
       "│ 5000   ┆ 1000 ┆ ok      │\n",
       "│ 5000   ┆ 1000 ┆ ok      │\n",
       "│ 4000   ┆ 1000 ┆ ok      │\n",
       "│ 3000   ┆ 2000 ┆ default │\n",
       "└────────┴──────┴─────────┘"
      ]
     },
     "metadata": {},
     "output_type": "display_data"
    },
    {
     "name": "stdout",
     "output_type": "stream",
     "text": [
      "shape: (2, 2)\n",
      "┌─────────┬────────────┐\n",
      "│ status  ┆ proportion │\n",
      "│ ---     ┆ ---        │\n",
      "│ str     ┆ f64        │\n",
      "╞═════════╪════════════╡\n",
      "│ default ┆ 0.571429   │\n",
      "│ ok      ┆ 0.428571   │\n",
      "└─────────┴────────────┘\n"
     ]
    },
    {
     "data": {
      "text/html": [
       "<div><style>\n",
       ".dataframe > thead > tr,\n",
       ".dataframe > tbody > tr {\n",
       "  text-align: right;\n",
       "  white-space: pre-wrap;\n",
       "}\n",
       "</style>\n",
       "<small>shape: (1, 3)</small><table border=\"1\" class=\"dataframe\"><thead><tr><th>assets</th><th>debt</th><th>status</th></tr><tr><td>i64</td><td>i64</td><td>str</td></tr></thead><tbody><tr><td>9000</td><td>500</td><td>&quot;ok&quot;</td></tr></tbody></table></div>"
      ],
      "text/plain": [
       "shape: (1, 3)\n",
       "┌────────┬──────┬────────┐\n",
       "│ assets ┆ debt ┆ status │\n",
       "│ ---    ┆ ---  ┆ ---    │\n",
       "│ i64    ┆ i64  ┆ str    │\n",
       "╞════════╪══════╪════════╡\n",
       "│ 9000   ┆ 500  ┆ ok     │\n",
       "└────────┴──────┴────────┘"
      ]
     },
     "metadata": {},
     "output_type": "display_data"
    },
    {
     "name": "stdout",
     "output_type": "stream",
     "text": [
      "shape: (1, 2)\n",
      "┌────────┬────────────┐\n",
      "│ status ┆ proportion │\n",
      "│ ---    ┆ ---        │\n",
      "│ str    ┆ f64        │\n",
      "╞════════╪════════════╡\n",
      "│ ok     ┆ 1.0        │\n",
      "└────────┴────────────┘\n",
      "----------------------------------------\n",
      "########################################\n",
      "debt\n",
      "500\n"
     ]
    },
    {
     "data": {
      "text/html": [
       "<div><style>\n",
       ".dataframe > thead > tr,\n",
       ".dataframe > tbody > tr {\n",
       "  text-align: right;\n",
       "  white-space: pre-wrap;\n",
       "}\n",
       "</style>\n",
       "<small>shape: (1, 3)</small><table border=\"1\" class=\"dataframe\"><thead><tr><th>assets</th><th>debt</th><th>status</th></tr><tr><td>i64</td><td>i64</td><td>str</td></tr></thead><tbody><tr><td>9000</td><td>500</td><td>&quot;ok&quot;</td></tr></tbody></table></div>"
      ],
      "text/plain": [
       "shape: (1, 3)\n",
       "┌────────┬──────┬────────┐\n",
       "│ assets ┆ debt ┆ status │\n",
       "│ ---    ┆ ---  ┆ ---    │\n",
       "│ i64    ┆ i64  ┆ str    │\n",
       "╞════════╪══════╪════════╡\n",
       "│ 9000   ┆ 500  ┆ ok     │\n",
       "└────────┴──────┴────────┘"
      ]
     },
     "metadata": {},
     "output_type": "display_data"
    },
    {
     "name": "stdout",
     "output_type": "stream",
     "text": [
      "shape: (1, 2)\n",
      "┌────────┬────────────┐\n",
      "│ status ┆ proportion │\n",
      "│ ---    ┆ ---        │\n",
      "│ str    ┆ f64        │\n",
      "╞════════╪════════════╡\n",
      "│ ok     ┆ 1.0        │\n",
      "└────────┴────────────┘\n"
     ]
    },
    {
     "data": {
      "text/html": [
       "<div><style>\n",
       ".dataframe > thead > tr,\n",
       ".dataframe > tbody > tr {\n",
       "  text-align: right;\n",
       "  white-space: pre-wrap;\n",
       "}\n",
       "</style>\n",
       "<small>shape: (7, 3)</small><table border=\"1\" class=\"dataframe\"><thead><tr><th>assets</th><th>debt</th><th>status</th></tr><tr><td>i64</td><td>i64</td><td>str</td></tr></thead><tbody><tr><td>8000</td><td>3000</td><td>&quot;default&quot;</td></tr><tr><td>2000</td><td>1000</td><td>&quot;default&quot;</td></tr><tr><td>0</td><td>1000</td><td>&quot;default&quot;</td></tr><tr><td>5000</td><td>1000</td><td>&quot;ok&quot;</td></tr><tr><td>5000</td><td>1000</td><td>&quot;ok&quot;</td></tr><tr><td>4000</td><td>1000</td><td>&quot;ok&quot;</td></tr><tr><td>3000</td><td>2000</td><td>&quot;default&quot;</td></tr></tbody></table></div>"
      ],
      "text/plain": [
       "shape: (7, 3)\n",
       "┌────────┬──────┬─────────┐\n",
       "│ assets ┆ debt ┆ status  │\n",
       "│ ---    ┆ ---  ┆ ---     │\n",
       "│ i64    ┆ i64  ┆ str     │\n",
       "╞════════╪══════╪═════════╡\n",
       "│ 8000   ┆ 3000 ┆ default │\n",
       "│ 2000   ┆ 1000 ┆ default │\n",
       "│ 0      ┆ 1000 ┆ default │\n",
       "│ 5000   ┆ 1000 ┆ ok      │\n",
       "│ 5000   ┆ 1000 ┆ ok      │\n",
       "│ 4000   ┆ 1000 ┆ ok      │\n",
       "│ 3000   ┆ 2000 ┆ default │\n",
       "└────────┴──────┴─────────┘"
      ]
     },
     "metadata": {},
     "output_type": "display_data"
    },
    {
     "name": "stdout",
     "output_type": "stream",
     "text": [
      "shape: (2, 2)\n",
      "┌─────────┬────────────┐\n",
      "│ status  ┆ proportion │\n",
      "│ ---     ┆ ---        │\n",
      "│ str     ┆ f64        │\n",
      "╞═════════╪════════════╡\n",
      "│ ok      ┆ 0.428571   │\n",
      "│ default ┆ 0.571429   │\n",
      "└─────────┴────────────┘\n",
      "----------------------------------------\n",
      "1000\n"
     ]
    },
    {
     "data": {
      "text/html": [
       "<div><style>\n",
       ".dataframe > thead > tr,\n",
       ".dataframe > tbody > tr {\n",
       "  text-align: right;\n",
       "  white-space: pre-wrap;\n",
       "}\n",
       "</style>\n",
       "<small>shape: (6, 3)</small><table border=\"1\" class=\"dataframe\"><thead><tr><th>assets</th><th>debt</th><th>status</th></tr><tr><td>i64</td><td>i64</td><td>str</td></tr></thead><tbody><tr><td>2000</td><td>1000</td><td>&quot;default&quot;</td></tr><tr><td>0</td><td>1000</td><td>&quot;default&quot;</td></tr><tr><td>5000</td><td>1000</td><td>&quot;ok&quot;</td></tr><tr><td>5000</td><td>1000</td><td>&quot;ok&quot;</td></tr><tr><td>4000</td><td>1000</td><td>&quot;ok&quot;</td></tr><tr><td>9000</td><td>500</td><td>&quot;ok&quot;</td></tr></tbody></table></div>"
      ],
      "text/plain": [
       "shape: (6, 3)\n",
       "┌────────┬──────┬─────────┐\n",
       "│ assets ┆ debt ┆ status  │\n",
       "│ ---    ┆ ---  ┆ ---     │\n",
       "│ i64    ┆ i64  ┆ str     │\n",
       "╞════════╪══════╪═════════╡\n",
       "│ 2000   ┆ 1000 ┆ default │\n",
       "│ 0      ┆ 1000 ┆ default │\n",
       "│ 5000   ┆ 1000 ┆ ok      │\n",
       "│ 5000   ┆ 1000 ┆ ok      │\n",
       "│ 4000   ┆ 1000 ┆ ok      │\n",
       "│ 9000   ┆ 500  ┆ ok      │\n",
       "└────────┴──────┴─────────┘"
      ]
     },
     "metadata": {},
     "output_type": "display_data"
    },
    {
     "name": "stdout",
     "output_type": "stream",
     "text": [
      "shape: (2, 2)\n",
      "┌─────────┬────────────┐\n",
      "│ status  ┆ proportion │\n",
      "│ ---     ┆ ---        │\n",
      "│ str     ┆ f64        │\n",
      "╞═════════╪════════════╡\n",
      "│ default ┆ 0.333333   │\n",
      "│ ok      ┆ 0.666667   │\n",
      "└─────────┴────────────┘\n"
     ]
    },
    {
     "data": {
      "text/html": [
       "<div><style>\n",
       ".dataframe > thead > tr,\n",
       ".dataframe > tbody > tr {\n",
       "  text-align: right;\n",
       "  white-space: pre-wrap;\n",
       "}\n",
       "</style>\n",
       "<small>shape: (2, 3)</small><table border=\"1\" class=\"dataframe\"><thead><tr><th>assets</th><th>debt</th><th>status</th></tr><tr><td>i64</td><td>i64</td><td>str</td></tr></thead><tbody><tr><td>8000</td><td>3000</td><td>&quot;default&quot;</td></tr><tr><td>3000</td><td>2000</td><td>&quot;default&quot;</td></tr></tbody></table></div>"
      ],
      "text/plain": [
       "shape: (2, 3)\n",
       "┌────────┬──────┬─────────┐\n",
       "│ assets ┆ debt ┆ status  │\n",
       "│ ---    ┆ ---  ┆ ---     │\n",
       "│ i64    ┆ i64  ┆ str     │\n",
       "╞════════╪══════╪═════════╡\n",
       "│ 8000   ┆ 3000 ┆ default │\n",
       "│ 3000   ┆ 2000 ┆ default │\n",
       "└────────┴──────┴─────────┘"
      ]
     },
     "metadata": {},
     "output_type": "display_data"
    },
    {
     "name": "stdout",
     "output_type": "stream",
     "text": [
      "shape: (1, 2)\n",
      "┌─────────┬────────────┐\n",
      "│ status  ┆ proportion │\n",
      "│ ---     ┆ ---        │\n",
      "│ str     ┆ f64        │\n",
      "╞═════════╪════════════╡\n",
      "│ default ┆ 1.0        │\n",
      "└─────────┴────────────┘\n",
      "----------------------------------------\n",
      "2000\n"
     ]
    },
    {
     "data": {
      "text/html": [
       "<div><style>\n",
       ".dataframe > thead > tr,\n",
       ".dataframe > tbody > tr {\n",
       "  text-align: right;\n",
       "  white-space: pre-wrap;\n",
       "}\n",
       "</style>\n",
       "<small>shape: (7, 3)</small><table border=\"1\" class=\"dataframe\"><thead><tr><th>assets</th><th>debt</th><th>status</th></tr><tr><td>i64</td><td>i64</td><td>str</td></tr></thead><tbody><tr><td>2000</td><td>1000</td><td>&quot;default&quot;</td></tr><tr><td>0</td><td>1000</td><td>&quot;default&quot;</td></tr><tr><td>5000</td><td>1000</td><td>&quot;ok&quot;</td></tr><tr><td>5000</td><td>1000</td><td>&quot;ok&quot;</td></tr><tr><td>4000</td><td>1000</td><td>&quot;ok&quot;</td></tr><tr><td>9000</td><td>500</td><td>&quot;ok&quot;</td></tr><tr><td>3000</td><td>2000</td><td>&quot;default&quot;</td></tr></tbody></table></div>"
      ],
      "text/plain": [
       "shape: (7, 3)\n",
       "┌────────┬──────┬─────────┐\n",
       "│ assets ┆ debt ┆ status  │\n",
       "│ ---    ┆ ---  ┆ ---     │\n",
       "│ i64    ┆ i64  ┆ str     │\n",
       "╞════════╪══════╪═════════╡\n",
       "│ 2000   ┆ 1000 ┆ default │\n",
       "│ 0      ┆ 1000 ┆ default │\n",
       "│ 5000   ┆ 1000 ┆ ok      │\n",
       "│ 5000   ┆ 1000 ┆ ok      │\n",
       "│ 4000   ┆ 1000 ┆ ok      │\n",
       "│ 9000   ┆ 500  ┆ ok      │\n",
       "│ 3000   ┆ 2000 ┆ default │\n",
       "└────────┴──────┴─────────┘"
      ]
     },
     "metadata": {},
     "output_type": "display_data"
    },
    {
     "name": "stdout",
     "output_type": "stream",
     "text": [
      "shape: (2, 2)\n",
      "┌─────────┬────────────┐\n",
      "│ status  ┆ proportion │\n",
      "│ ---     ┆ ---        │\n",
      "│ str     ┆ f64        │\n",
      "╞═════════╪════════════╡\n",
      "│ ok      ┆ 0.571429   │\n",
      "│ default ┆ 0.428571   │\n",
      "└─────────┴────────────┘\n"
     ]
    },
    {
     "data": {
      "text/html": [
       "<div><style>\n",
       ".dataframe > thead > tr,\n",
       ".dataframe > tbody > tr {\n",
       "  text-align: right;\n",
       "  white-space: pre-wrap;\n",
       "}\n",
       "</style>\n",
       "<small>shape: (1, 3)</small><table border=\"1\" class=\"dataframe\"><thead><tr><th>assets</th><th>debt</th><th>status</th></tr><tr><td>i64</td><td>i64</td><td>str</td></tr></thead><tbody><tr><td>8000</td><td>3000</td><td>&quot;default&quot;</td></tr></tbody></table></div>"
      ],
      "text/plain": [
       "shape: (1, 3)\n",
       "┌────────┬──────┬─────────┐\n",
       "│ assets ┆ debt ┆ status  │\n",
       "│ ---    ┆ ---  ┆ ---     │\n",
       "│ i64    ┆ i64  ┆ str     │\n",
       "╞════════╪══════╪═════════╡\n",
       "│ 8000   ┆ 3000 ┆ default │\n",
       "└────────┴──────┴─────────┘"
      ]
     },
     "metadata": {},
     "output_type": "display_data"
    },
    {
     "name": "stdout",
     "output_type": "stream",
     "text": [
      "shape: (1, 2)\n",
      "┌─────────┬────────────┐\n",
      "│ status  ┆ proportion │\n",
      "│ ---     ┆ ---        │\n",
      "│ str     ┆ f64        │\n",
      "╞═════════╪════════════╡\n",
      "│ default ┆ 1.0        │\n",
      "└─────────┴────────────┘\n",
      "----------------------------------------\n",
      "########################################\n"
     ]
    }
   ],
   "source": [
    "impurities = []\n",
    "for feature, Ts in thresholds.items():\n",
    "    print(feature)\n",
    "    for T in Ts:\n",
    "        print(T)\n",
    "        df_left = df_example.filter(pl.col(feature) <= T)\n",
    "        df_right = df_example.filter(pl.col(feature) > T)\n",
    "\n",
    "        display(df_left)\n",
    "        print(df_left[\"status\"].value_counts(normalize=True))\n",
    "        display(df_right)\n",
    "        print(df_right[\"status\"].value_counts(normalize=True))\n",
    "\n",
    "        decision_left = \"default\" if feature == \"assets\" else \"ok\"\n",
    "        decision_right = \"ok\" if feature == \"assets\" else \"default\"\n",
    "\n",
    "        impurity_left = next(\n",
    "            iter(\n",
    "                df_left[\"status\"]\n",
    "                .value_counts(normalize=True)\n",
    "                .filter(pl.col(\"status\") == decision_right)[\"proportion\"]\n",
    "            ),\n",
    "            0,\n",
    "        )\n",
    "        impurity_right = next(\n",
    "            iter(\n",
    "                df_right[\"status\"]\n",
    "                .value_counts(normalize=True)\n",
    "                .filter(pl.col(\"status\") == decision_left)[\"proportion\"]\n",
    "            ),\n",
    "            0,\n",
    "        )\n",
    "\n",
    "        print(\"-\" * 40)\n",
    "        impurities.append(\n",
    "            (feature, T, decision_left, impurity_left, decision_right, impurity_right)\n",
    "        )\n",
    "    print(\"#\" * 40)"
   ]
  },
  {
   "cell_type": "code",
   "execution_count": 41,
   "metadata": {},
   "outputs": [
    {
     "data": {
      "text/html": [
       "<div><style>\n",
       ".dataframe > thead > tr,\n",
       ".dataframe > tbody > tr {\n",
       "  text-align: right;\n",
       "  white-space: pre-wrap;\n",
       "}\n",
       "</style>\n",
       "<small>shape: (9, 7)</small><table border=\"1\" class=\"dataframe\"><thead><tr><th>feature</th><th>t</th><th>decision_left</th><th>impurity_left</th><th>decision_right</th><th>impurity_right</th><th>impurity_mean</th></tr><tr><td>str</td><td>i64</td><td>str</td><td>f64</td><td>str</td><td>f64</td><td>f64</td></tr></thead><tbody><tr><td>&quot;assets&quot;</td><td>0</td><td>&quot;default&quot;</td><td>0.0</td><td>&quot;ok&quot;</td><td>0.428571</td><td>0.214286</td></tr><tr><td>&quot;assets&quot;</td><td>2000</td><td>&quot;default&quot;</td><td>0.0</td><td>&quot;ok&quot;</td><td>0.333333</td><td>0.166667</td></tr><tr><td>&quot;assets&quot;</td><td>3000</td><td>&quot;default&quot;</td><td>0.0</td><td>&quot;ok&quot;</td><td>0.2</td><td>0.1</td></tr><tr><td>&quot;assets&quot;</td><td>4000</td><td>&quot;default&quot;</td><td>0.25</td><td>&quot;ok&quot;</td><td>0.25</td><td>0.25</td></tr><tr><td>&quot;assets&quot;</td><td>5000</td><td>&quot;default&quot;</td><td>0.5</td><td>&quot;ok&quot;</td><td>0.5</td><td>0.5</td></tr><tr><td>&quot;assets&quot;</td><td>8000</td><td>&quot;default&quot;</td><td>0.428571</td><td>&quot;ok&quot;</td><td>0.0</td><td>0.214286</td></tr><tr><td>&quot;debt&quot;</td><td>500</td><td>&quot;ok&quot;</td><td>0.0</td><td>&quot;default&quot;</td><td>0.428571</td><td>0.214286</td></tr><tr><td>&quot;debt&quot;</td><td>1000</td><td>&quot;ok&quot;</td><td>0.333333</td><td>&quot;default&quot;</td><td>0.0</td><td>0.166667</td></tr><tr><td>&quot;debt&quot;</td><td>2000</td><td>&quot;ok&quot;</td><td>0.428571</td><td>&quot;default&quot;</td><td>0.0</td><td>0.214286</td></tr></tbody></table></div>"
      ],
      "text/plain": [
       "shape: (9, 7)\n",
       "┌─────────┬──────┬───────────────┬───────────────┬────────────────┬────────────────┬───────────────┐\n",
       "│ feature ┆ t    ┆ decision_left ┆ impurity_left ┆ decision_right ┆ impurity_right ┆ impurity_mean │\n",
       "│ ---     ┆ ---  ┆ ---           ┆ ---           ┆ ---            ┆ ---            ┆ ---           │\n",
       "│ str     ┆ i64  ┆ str           ┆ f64           ┆ str            ┆ f64            ┆ f64           │\n",
       "╞═════════╪══════╪═══════════════╪═══════════════╪════════════════╪════════════════╪═══════════════╡\n",
       "│ assets  ┆ 0    ┆ default       ┆ 0.0           ┆ ok             ┆ 0.428571       ┆ 0.214286      │\n",
       "│ assets  ┆ 2000 ┆ default       ┆ 0.0           ┆ ok             ┆ 0.333333       ┆ 0.166667      │\n",
       "│ assets  ┆ 3000 ┆ default       ┆ 0.0           ┆ ok             ┆ 0.2            ┆ 0.1           │\n",
       "│ assets  ┆ 4000 ┆ default       ┆ 0.25          ┆ ok             ┆ 0.25           ┆ 0.25          │\n",
       "│ assets  ┆ 5000 ┆ default       ┆ 0.5           ┆ ok             ┆ 0.5            ┆ 0.5           │\n",
       "│ assets  ┆ 8000 ┆ default       ┆ 0.428571      ┆ ok             ┆ 0.0            ┆ 0.214286      │\n",
       "│ debt    ┆ 500  ┆ ok            ┆ 0.0           ┆ default        ┆ 0.428571       ┆ 0.214286      │\n",
       "│ debt    ┆ 1000 ┆ ok            ┆ 0.333333      ┆ default        ┆ 0.0            ┆ 0.166667      │\n",
       "│ debt    ┆ 2000 ┆ ok            ┆ 0.428571      ┆ default        ┆ 0.0            ┆ 0.214286      │\n",
       "└─────────┴──────┴───────────────┴───────────────┴────────────────┴────────────────┴───────────────┘"
      ]
     },
     "metadata": {},
     "output_type": "display_data"
    },
    {
     "data": {
      "text/html": [
       "<div><style>\n",
       ".dataframe > thead > tr,\n",
       ".dataframe > tbody > tr {\n",
       "  text-align: right;\n",
       "  white-space: pre-wrap;\n",
       "}\n",
       "</style>\n",
       "<small>shape: (2, 3)</small><table border=\"1\" class=\"dataframe\"><thead><tr><th>feature</th><th>t</th><th>impurity_mean</th></tr><tr><td>str</td><td>i64</td><td>f64</td></tr></thead><tbody><tr><td>&quot;assets&quot;</td><td>3000</td><td>0.1</td></tr><tr><td>&quot;debt&quot;</td><td>1000</td><td>0.166667</td></tr></tbody></table></div>"
      ],
      "text/plain": [
       "shape: (2, 3)\n",
       "┌─────────┬──────┬───────────────┐\n",
       "│ feature ┆ t    ┆ impurity_mean │\n",
       "│ ---     ┆ ---  ┆ ---           │\n",
       "│ str     ┆ i64  ┆ f64           │\n",
       "╞═════════╪══════╪═══════════════╡\n",
       "│ assets  ┆ 3000 ┆ 0.1           │\n",
       "│ debt    ┆ 1000 ┆ 0.166667      │\n",
       "└─────────┴──────┴───────────────┘"
      ]
     },
     "metadata": {},
     "output_type": "display_data"
    }
   ],
   "source": [
    "impurities_columns = (\n",
    "    \"feature\",\n",
    "    \"t\",\n",
    "    \"decision_left\",\n",
    "    \"impurity_left\",\n",
    "    \"decision_right\",\n",
    "    \"impurity_right\",\n",
    ")\n",
    "df_impurities = pl.DataFrame(\n",
    "    impurities,\n",
    "    schema=impurities_columns,\n",
    "    orient=\"row\",\n",
    ").with_columns(impurity_mean=pl.mean_horizontal(cs.contains(\"impurity\")))\n",
    "display(df_impurities)\n",
    "display(\n",
    "    df_impurities.sort(\"impurity_mean\")\n",
    "    .group_by(\"feature\")\n",
    "    .agg(pl.col(\"t\").first(), pl.col(\"impurity_mean\").min())\n",
    ")"
   ]
  },
  {
   "cell_type": "markdown",
   "metadata": {},
   "source": [
    "### Stopping criteria\n",
    "\n",
    "- Group already pure\n",
    "- Tree reached depth limit\n",
    "- Group too small to split\n"
   ]
  },
  {
   "cell_type": "markdown",
   "metadata": {},
   "source": [
    "## 7. Decision Tree Parameter Tuning\n",
    "\n",
    "- selecting `max_depth`\n",
    "- selecting `min_samples_leaf`\n"
   ]
  },
  {
   "cell_type": "code",
   "execution_count": 42,
   "metadata": {},
   "outputs": [
    {
     "name": "stdout",
     "output_type": "stream",
     "text": [
      "   1 -> 0.606\n",
      "   2 -> 0.669\n",
      "   3 -> 0.739\n",
      "   4 -> 0.761\n",
      "   5 -> 0.766\n",
      "   6 -> 0.759\n",
      "  10 -> 0.691\n",
      "  15 -> 0.678\n",
      "  20 -> 0.664\n",
      "None -> 0.651\n"
     ]
    }
   ],
   "source": [
    "for d in [1, 2, 3, 4, 5, 6, 10, 15, 20, None]:\n",
    "    dt = DecisionTreeClassifier(max_depth=d)\n",
    "    dt.fit(X_train, y_train)\n",
    "\n",
    "    y_pred = dt.predict_proba(X_val)[:, 1]\n",
    "    val_auc = roc_auc_score(y_val, y_pred)\n",
    "\n",
    "    print(\"%4s -> %.3f\" % (d, val_auc))\n",
    "    # print(\"{:>4} -> {:.3f}\".format(str(d), val_auc))\n",
    "    # print(f\"{str(d):>4} -> {val_auc:.3f}\")\n",
    "    # print(f\"{format(str(d),\">4\")} -> {format(val_auc,\".3f\")}\")"
   ]
  },
  {
   "cell_type": "code",
   "execution_count": 43,
   "metadata": {},
   "outputs": [],
   "source": [
    "scores = []\n",
    "for d in [4, 5, 6, 7, 10, 15, 20, None]:\n",
    "    for s in [1, 2, 5, 10, 15, 20, 100, 200, 500]:\n",
    "        dt = DecisionTreeClassifier(max_depth=d, min_samples_leaf=s)\n",
    "        dt.fit(X_train, y_train)\n",
    "\n",
    "        y_pred = dt.predict_proba(X_val)[:, 1]\n",
    "        val_auc = roc_auc_score(y_val, y_pred)\n",
    "\n",
    "        scores.append((d, s, val_auc))"
   ]
  },
  {
   "cell_type": "code",
   "execution_count": 44,
   "metadata": {},
   "outputs": [
    {
     "data": {
      "text/html": [
       "<div><style>\n",
       ".dataframe > thead > tr,\n",
       ".dataframe > tbody > tr {\n",
       "  text-align: right;\n",
       "  white-space: pre-wrap;\n",
       "}\n",
       "</style>\n",
       "<small>shape: (5, 3)</small><table border=\"1\" class=\"dataframe\"><thead><tr><th>max_depth</th><th>min_samples_leaf</th><th>auc</th></tr><tr><td>i64</td><td>i64</td><td>f64</td></tr></thead><tbody><tr><td>4</td><td>1</td><td>0.761283</td></tr><tr><td>4</td><td>2</td><td>0.761283</td></tr><tr><td>4</td><td>5</td><td>0.761283</td></tr><tr><td>4</td><td>10</td><td>0.761283</td></tr><tr><td>4</td><td>15</td><td>0.763726</td></tr></tbody></table></div>"
      ],
      "text/plain": [
       "shape: (5, 3)\n",
       "┌───────────┬──────────────────┬──────────┐\n",
       "│ max_depth ┆ min_samples_leaf ┆ auc      │\n",
       "│ ---       ┆ ---              ┆ ---      │\n",
       "│ i64       ┆ i64              ┆ f64      │\n",
       "╞═══════════╪══════════════════╪══════════╡\n",
       "│ 4         ┆ 1                ┆ 0.761283 │\n",
       "│ 4         ┆ 2                ┆ 0.761283 │\n",
       "│ 4         ┆ 5                ┆ 0.761283 │\n",
       "│ 4         ┆ 10               ┆ 0.761283 │\n",
       "│ 4         ┆ 15               ┆ 0.763726 │\n",
       "└───────────┴──────────────────┴──────────┘"
      ]
     },
     "execution_count": 44,
     "metadata": {},
     "output_type": "execute_result"
    }
   ],
   "source": [
    "scores_columns = (\"max_depth\", \"min_samples_leaf\", \"auc\")\n",
    "df_scores = pl.DataFrame(scores, schema=scores_columns, orient=\"row\")\n",
    "df_scores.head()"
   ]
  },
  {
   "cell_type": "code",
   "execution_count": 45,
   "metadata": {},
   "outputs": [
    {
     "data": {
      "text/html": [
       "<div><style>\n",
       ".dataframe > thead > tr,\n",
       ".dataframe > tbody > tr {\n",
       "  text-align: right;\n",
       "  white-space: pre-wrap;\n",
       "}\n",
       "</style>\n",
       "<small>shape: (5, 3)</small><table border=\"1\" class=\"dataframe\"><thead><tr><th>max_depth</th><th>min_samples_leaf</th><th>auc</th></tr><tr><td>i64</td><td>i64</td><td>f64</td></tr></thead><tbody><tr><td>10</td><td>15</td><td>0.791495</td></tr><tr><td>20</td><td>15</td><td>0.787829</td></tr><tr><td>null</td><td>15</td><td>0.78769</td></tr><tr><td>15</td><td>15</td><td>0.786875</td></tr><tr><td>6</td><td>15</td><td>0.785474</td></tr></tbody></table></div>"
      ],
      "text/plain": [
       "shape: (5, 3)\n",
       "┌───────────┬──────────────────┬──────────┐\n",
       "│ max_depth ┆ min_samples_leaf ┆ auc      │\n",
       "│ ---       ┆ ---              ┆ ---      │\n",
       "│ i64       ┆ i64              ┆ f64      │\n",
       "╞═══════════╪══════════════════╪══════════╡\n",
       "│ 10        ┆ 15               ┆ 0.791495 │\n",
       "│ 20        ┆ 15               ┆ 0.787829 │\n",
       "│ null      ┆ 15               ┆ 0.78769  │\n",
       "│ 15        ┆ 15               ┆ 0.786875 │\n",
       "│ 6         ┆ 15               ┆ 0.785474 │\n",
       "└───────────┴──────────────────┴──────────┘"
      ]
     },
     "execution_count": 45,
     "metadata": {},
     "output_type": "execute_result"
    }
   ],
   "source": [
    "df_scores.sort(pl.col(\"auc\"), descending=True).head()"
   ]
  },
  {
   "cell_type": "code",
   "execution_count": 46,
   "metadata": {},
   "outputs": [
    {
     "data": {
      "text/html": [
       "<div><style>\n",
       ".dataframe > thead > tr,\n",
       ".dataframe > tbody > tr {\n",
       "  text-align: right;\n",
       "  white-space: pre-wrap;\n",
       "}\n",
       "</style>\n",
       "<small>shape: (9, 9)</small><table border=\"1\" class=\"dataframe\"><thead><tr><th>min_samples_leaf</th><th>4</th><th>5</th><th>6</th><th>7</th><th>10</th><th>15</th><th>20</th><th>null</th></tr><tr><td>i64</td><td>f64</td><td>f64</td><td>f64</td><td>f64</td><td>f64</td><td>f64</td><td>f64</td><td>f64</td></tr></thead><tbody><tr><td>1</td><td>0.761</td><td>0.766</td><td>0.746</td><td>0.748</td><td>0.696</td><td>0.651</td><td>0.655</td><td>0.653</td></tr><tr><td>2</td><td>0.761</td><td>0.766</td><td>0.755</td><td>0.75</td><td>0.725</td><td>0.694</td><td>0.69</td><td>0.685</td></tr><tr><td>5</td><td>0.761</td><td>0.768</td><td>0.762</td><td>0.758</td><td>0.735</td><td>0.715</td><td>0.715</td><td>0.716</td></tr><tr><td>10</td><td>0.761</td><td>0.762</td><td>0.778</td><td>0.763</td><td>0.765</td><td>0.76</td><td>0.758</td><td>0.761</td></tr><tr><td>15</td><td>0.764</td><td>0.772</td><td>0.785</td><td>0.78</td><td>0.791</td><td>0.787</td><td>0.788</td><td>0.788</td></tr><tr><td>20</td><td>0.761</td><td>0.774</td><td>0.774</td><td>0.781</td><td>0.785</td><td>0.782</td><td>0.781</td><td>0.782</td></tr><tr><td>100</td><td>0.756</td><td>0.763</td><td>0.776</td><td>0.78</td><td>0.779</td><td>0.78</td><td>0.78</td><td>0.78</td></tr><tr><td>200</td><td>0.747</td><td>0.759</td><td>0.768</td><td>0.768</td><td>0.768</td><td>0.768</td><td>0.768</td><td>0.768</td></tr><tr><td>500</td><td>0.68</td><td>0.68</td><td>0.68</td><td>0.68</td><td>0.68</td><td>0.68</td><td>0.68</td><td>0.68</td></tr></tbody></table></div>"
      ],
      "text/plain": [
       "shape: (9, 9)\n",
       "┌──────────────────┬───────┬───────┬───────┬───┬───────┬───────┬───────┬───────┐\n",
       "│ min_samples_leaf ┆ 4     ┆ 5     ┆ 6     ┆ … ┆ 10    ┆ 15    ┆ 20    ┆ null  │\n",
       "│ ---              ┆ ---   ┆ ---   ┆ ---   ┆   ┆ ---   ┆ ---   ┆ ---   ┆ ---   │\n",
       "│ i64              ┆ f64   ┆ f64   ┆ f64   ┆   ┆ f64   ┆ f64   ┆ f64   ┆ f64   │\n",
       "╞══════════════════╪═══════╪═══════╪═══════╪═══╪═══════╪═══════╪═══════╪═══════╡\n",
       "│ 1                ┆ 0.761 ┆ 0.766 ┆ 0.746 ┆ … ┆ 0.696 ┆ 0.651 ┆ 0.655 ┆ 0.653 │\n",
       "│ 2                ┆ 0.761 ┆ 0.766 ┆ 0.755 ┆ … ┆ 0.725 ┆ 0.694 ┆ 0.69  ┆ 0.685 │\n",
       "│ 5                ┆ 0.761 ┆ 0.768 ┆ 0.762 ┆ … ┆ 0.735 ┆ 0.715 ┆ 0.715 ┆ 0.716 │\n",
       "│ 10               ┆ 0.761 ┆ 0.762 ┆ 0.778 ┆ … ┆ 0.765 ┆ 0.76  ┆ 0.758 ┆ 0.761 │\n",
       "│ 15               ┆ 0.764 ┆ 0.772 ┆ 0.785 ┆ … ┆ 0.791 ┆ 0.787 ┆ 0.788 ┆ 0.788 │\n",
       "│ 20               ┆ 0.761 ┆ 0.774 ┆ 0.774 ┆ … ┆ 0.785 ┆ 0.782 ┆ 0.781 ┆ 0.782 │\n",
       "│ 100              ┆ 0.756 ┆ 0.763 ┆ 0.776 ┆ … ┆ 0.779 ┆ 0.78  ┆ 0.78  ┆ 0.78  │\n",
       "│ 200              ┆ 0.747 ┆ 0.759 ┆ 0.768 ┆ … ┆ 0.768 ┆ 0.768 ┆ 0.768 ┆ 0.768 │\n",
       "│ 500              ┆ 0.68  ┆ 0.68  ┆ 0.68  ┆ … ┆ 0.68  ┆ 0.68  ┆ 0.68  ┆ 0.68  │\n",
       "└──────────────────┴───────┴───────┴───────┴───┴───────┴───────┴───────┴───────┘"
      ]
     },
     "execution_count": 46,
     "metadata": {},
     "output_type": "execute_result"
    }
   ],
   "source": [
    "df_scores_pivot = df_scores.pivot(\n",
    "    on=\"max_depth\", index=\"min_samples_leaf\", values=\"auc\"\n",
    ")\n",
    "df_scores_pivot.select(cs.all().round(3))"
   ]
  },
  {
   "cell_type": "code",
   "execution_count": 47,
   "metadata": {},
   "outputs": [
    {
     "data": {
      "text/html": [
       "\n",
       "<style>\n",
       "  #altair-viz-31e9b57e8985478397ada2c129ab6a4b.vega-embed {\n",
       "    width: 100%;\n",
       "    display: flex;\n",
       "  }\n",
       "\n",
       "  #altair-viz-31e9b57e8985478397ada2c129ab6a4b.vega-embed details,\n",
       "  #altair-viz-31e9b57e8985478397ada2c129ab6a4b.vega-embed details summary {\n",
       "    position: relative;\n",
       "  }\n",
       "</style>\n",
       "<div id=\"altair-viz-31e9b57e8985478397ada2c129ab6a4b\"></div>\n",
       "<script type=\"text/javascript\">\n",
       "  var VEGA_DEBUG = (typeof VEGA_DEBUG == \"undefined\") ? {} : VEGA_DEBUG;\n",
       "  (function(spec, embedOpt){\n",
       "    let outputDiv = document.currentScript.previousElementSibling;\n",
       "    if (outputDiv.id !== \"altair-viz-31e9b57e8985478397ada2c129ab6a4b\") {\n",
       "      outputDiv = document.getElementById(\"altair-viz-31e9b57e8985478397ada2c129ab6a4b\");\n",
       "    }\n",
       "    const paths = {\n",
       "      \"vega\": \"https://cdn.jsdelivr.net/npm/vega@5?noext\",\n",
       "      \"vega-lib\": \"https://cdn.jsdelivr.net/npm/vega-lib?noext\",\n",
       "      \"vega-lite\": \"https://cdn.jsdelivr.net/npm/vega-lite@5.20.1?noext\",\n",
       "      \"vega-embed\": \"https://cdn.jsdelivr.net/npm/vega-embed@6?noext\",\n",
       "    };\n",
       "\n",
       "    function maybeLoadScript(lib, version) {\n",
       "      var key = `${lib.replace(\"-\", \"\")}_version`;\n",
       "      return (VEGA_DEBUG[key] == version) ?\n",
       "        Promise.resolve(paths[lib]) :\n",
       "        new Promise(function(resolve, reject) {\n",
       "          var s = document.createElement('script');\n",
       "          document.getElementsByTagName(\"head\")[0].appendChild(s);\n",
       "          s.async = true;\n",
       "          s.onload = () => {\n",
       "            VEGA_DEBUG[key] = version;\n",
       "            return resolve(paths[lib]);\n",
       "          };\n",
       "          s.onerror = () => reject(`Error loading script: ${paths[lib]}`);\n",
       "          s.src = paths[lib];\n",
       "        });\n",
       "    }\n",
       "\n",
       "    function showError(err) {\n",
       "      outputDiv.innerHTML = `<div class=\"error\" style=\"color:red;\">${err}</div>`;\n",
       "      throw err;\n",
       "    }\n",
       "\n",
       "    function displayChart(vegaEmbed) {\n",
       "      vegaEmbed(outputDiv, spec, embedOpt)\n",
       "        .catch(err => showError(`Javascript Error: ${err.message}<br>This usually means there's a typo in your chart specification. See the javascript console for the full traceback.`));\n",
       "    }\n",
       "\n",
       "    if(typeof define === \"function\" && define.amd) {\n",
       "      requirejs.config({paths});\n",
       "      require([\"vega-embed\"], displayChart, err => showError(`Error loading script: ${err.message}`));\n",
       "    } else {\n",
       "      maybeLoadScript(\"vega\", \"5\")\n",
       "        .then(() => maybeLoadScript(\"vega-lite\", \"5.20.1\"))\n",
       "        .then(() => maybeLoadScript(\"vega-embed\", \"6\"))\n",
       "        .catch(showError)\n",
       "        .then(() => displayChart(vegaEmbed));\n",
       "    }\n",
       "  })({\"config\": {\"view\": {\"continuousWidth\": 300, \"continuousHeight\": 300}}, \"layer\": [{\"mark\": {\"type\": \"rect\"}, \"encoding\": {\"color\": {\"field\": \"auc\", \"scale\": {\"scheme\": \"viridis\"}, \"title\": \"AUC\", \"type\": \"quantitative\"}, \"x\": {\"field\": \"max_depth\", \"title\": \"Max Depth\", \"type\": \"ordinal\"}, \"y\": {\"field\": \"min_samples_leaf\", \"title\": \"Min Samples Leaf\", \"type\": \"ordinal\"}}}, {\"mark\": {\"type\": \"text\"}, \"encoding\": {\"color\": {\"condition\": {\"test\": \"(datum.auc > 0.73)\", \"value\": \"black\"}, \"value\": \"white\"}, \"text\": {\"field\": \"auc\", \"format\": \".3f\", \"type\": \"quantitative\"}, \"x\": {\"field\": \"max_depth\", \"title\": \"Max Depth\", \"type\": \"ordinal\"}, \"y\": {\"field\": \"min_samples_leaf\", \"title\": \"Min Samples Leaf\", \"type\": \"ordinal\"}}}], \"data\": {\"name\": \"data-86dd652e5137cb0987379edc8b1aca2b\"}, \"height\": 300, \"width\": 300, \"$schema\": \"https://vega.github.io/schema/vega-lite/v5.20.1.json\", \"datasets\": {\"data-86dd652e5137cb0987379edc8b1aca2b\": [{\"max_depth\": 4, \"min_samples_leaf\": 1, \"auc\": 0.7612827250490422}, {\"max_depth\": 4, \"min_samples_leaf\": 2, \"auc\": 0.7612827250490422}, {\"max_depth\": 4, \"min_samples_leaf\": 5, \"auc\": 0.7612827250490422}, {\"max_depth\": 4, \"min_samples_leaf\": 10, \"auc\": 0.7612827250490422}, {\"max_depth\": 4, \"min_samples_leaf\": 15, \"auc\": 0.7637257513743916}, {\"max_depth\": 4, \"min_samples_leaf\": 20, \"auc\": 0.760910367876777}, {\"max_depth\": 4, \"min_samples_leaf\": 100, \"auc\": 0.7559365236976581}, {\"max_depth\": 4, \"min_samples_leaf\": 200, \"auc\": 0.7472602988544719}, {\"max_depth\": 4, \"min_samples_leaf\": 500, \"auc\": 0.679842459615897}, {\"max_depth\": 5, \"min_samples_leaf\": 1, \"auc\": 0.7664957254607541}, {\"max_depth\": 5, \"min_samples_leaf\": 2, \"auc\": 0.7664957254607541}, {\"max_depth\": 5, \"min_samples_leaf\": 5, \"auc\": 0.7681728463829891}, {\"max_depth\": 5, \"min_samples_leaf\": 10, \"auc\": 0.7622756775084158}, {\"max_depth\": 5, \"min_samples_leaf\": 15, \"auc\": 0.7718055992831367}, {\"max_depth\": 5, \"min_samples_leaf\": 20, \"auc\": 0.7740276331403937}, {\"max_depth\": 5, \"min_samples_leaf\": 100, \"auc\": 0.7633836671429609}, {\"max_depth\": 5, \"min_samples_leaf\": 200, \"auc\": 0.7590728003681189}, {\"max_depth\": 5, \"min_samples_leaf\": 500, \"auc\": 0.679842459615897}, {\"max_depth\": 6, \"min_samples_leaf\": 1, \"auc\": 0.7462401007483472}, {\"max_depth\": 6, \"min_samples_leaf\": 2, \"auc\": 0.7547256060642755}, {\"max_depth\": 6, \"min_samples_leaf\": 5, \"auc\": 0.761985057276404}, {\"max_depth\": 6, \"min_samples_leaf\": 10, \"auc\": 0.7778026688624642}, {\"max_depth\": 6, \"min_samples_leaf\": 15, \"auc\": 0.7854738320699426}, {\"max_depth\": 6, \"min_samples_leaf\": 20, \"auc\": 0.7736340849095444}, {\"max_depth\": 6, \"min_samples_leaf\": 100, \"auc\": 0.7764343319367417}, {\"max_depth\": 6, \"min_samples_leaf\": 200, \"auc\": 0.7682666924995762}, {\"max_depth\": 6, \"min_samples_leaf\": 500, \"auc\": 0.679842459615897}, {\"max_depth\": 7, \"min_samples_leaf\": 1, \"auc\": 0.7476568743794046}, {\"max_depth\": 7, \"min_samples_leaf\": 2, \"auc\": 0.7496276428277348}, {\"max_depth\": 7, \"min_samples_leaf\": 5, \"auc\": 0.7580707660264948}, {\"max_depth\": 7, \"min_samples_leaf\": 10, \"auc\": 0.76295379138311}, {\"max_depth\": 7, \"min_samples_leaf\": 15, \"auc\": 0.7799641568380519}, {\"max_depth\": 7, \"min_samples_leaf\": 20, \"auc\": 0.7805514518902424}, {\"max_depth\": 7, \"min_samples_leaf\": 100, \"auc\": 0.7795827177835364}, {\"max_depth\": 7, \"min_samples_leaf\": 200, \"auc\": 0.7684786030854182}, {\"max_depth\": 7, \"min_samples_leaf\": 500, \"auc\": 0.679842459615897}, {\"max_depth\": 10, \"min_samples_leaf\": 1, \"auc\": 0.6961474655493932}, {\"max_depth\": 10, \"min_samples_leaf\": 2, \"auc\": 0.7245374294640479}, {\"max_depth\": 10, \"min_samples_leaf\": 5, \"auc\": 0.7351813954614806}, {\"max_depth\": 10, \"min_samples_leaf\": 10, \"auc\": 0.7653090261800393}, {\"max_depth\": 10, \"min_samples_leaf\": 15, \"auc\": 0.7914951200019376}, {\"max_depth\": 10, \"min_samples_leaf\": 20, \"auc\": 0.7848441549005837}, {\"max_depth\": 10, \"min_samples_leaf\": 100, \"auc\": 0.779473735196532}, {\"max_depth\": 10, \"min_samples_leaf\": 200, \"auc\": 0.7684786030854182}, {\"max_depth\": 10, \"min_samples_leaf\": 500, \"auc\": 0.679842459615897}, {\"max_depth\": 15, \"min_samples_leaf\": 1, \"auc\": 0.6506563173572933}, {\"max_depth\": 15, \"min_samples_leaf\": 2, \"auc\": 0.6940646872199753}, {\"max_depth\": 15, \"min_samples_leaf\": 5, \"auc\": 0.7153405100385072}, {\"max_depth\": 15, \"min_samples_leaf\": 10, \"auc\": 0.7603382092950037}, {\"max_depth\": 15, \"min_samples_leaf\": 15, \"auc\": 0.7868754692305829}, {\"max_depth\": 15, \"min_samples_leaf\": 20, \"auc\": 0.781650359642537}, {\"max_depth\": 15, \"min_samples_leaf\": 100, \"auc\": 0.7797250006054588}, {\"max_depth\": 15, \"min_samples_leaf\": 200, \"auc\": 0.7684786030854182}, {\"max_depth\": 15, \"min_samples_leaf\": 500, \"auc\": 0.679842459615897}, {\"max_depth\": 20, \"min_samples_leaf\": 1, \"auc\": 0.6545312537841176}, {\"max_depth\": 20, \"min_samples_leaf\": 2, \"auc\": 0.6897568477392167}, {\"max_depth\": 20, \"min_samples_leaf\": 5, \"auc\": 0.7148712794555714}, {\"max_depth\": 20, \"min_samples_leaf\": 10, \"auc\": 0.7580859024969122}, {\"max_depth\": 20, \"min_samples_leaf\": 15, \"auc\": 0.7878290668668717}, {\"max_depth\": 20, \"min_samples_leaf\": 20, \"auc\": 0.7810146278850112}, {\"max_depth\": 20, \"min_samples_leaf\": 100, \"auc\": 0.7797250006054588}, {\"max_depth\": 20, \"min_samples_leaf\": 200, \"auc\": 0.7684786030854182}, {\"max_depth\": 20, \"min_samples_leaf\": 500, \"auc\": 0.679842459615897}, {\"max_depth\": null, \"min_samples_leaf\": 1, \"auc\": 0.652630113099707}, {\"max_depth\": null, \"min_samples_leaf\": 2, \"auc\": 0.6854853357874596}, {\"max_depth\": null, \"min_samples_leaf\": 5, \"auc\": 0.7160095420309511}, {\"max_depth\": null, \"min_samples_leaf\": 10, \"auc\": 0.761361434695212}, {\"max_depth\": null, \"min_samples_leaf\": 15, \"auc\": 0.7876898113390327}, {\"max_depth\": null, \"min_samples_leaf\": 20, \"auc\": 0.7817260419946235}, {\"max_depth\": null, \"min_samples_leaf\": 100, \"auc\": 0.7797250006054588}, {\"max_depth\": null, \"min_samples_leaf\": 200, \"auc\": 0.7684786030854182}, {\"max_depth\": null, \"min_samples_leaf\": 500, \"auc\": 0.679842459615897}]}}, {\"mode\": \"vega-lite\"});\n",
       "</script>"
      ],
      "text/plain": [
       "alt.LayerChart(...)"
      ]
     },
     "execution_count": 47,
     "metadata": {},
     "output_type": "execute_result"
    }
   ],
   "source": [
    "heatmap = (\n",
    "    alt.Chart(df_scores)\n",
    "    .mark_rect()\n",
    "    .encode(\n",
    "        alt.X(\"max_depth:O\", title=\"Max Depth\"),\n",
    "        alt.Y(\"min_samples_leaf:O\", title=\"Min Samples Leaf\"),\n",
    "        alt.Color(\"auc:Q\", title=\"AUC\", scale=alt.Scale(scheme=\"viridis\")),\n",
    "    )\n",
    "    .properties(width=300, height=300)\n",
    ")\n",
    "\n",
    "text = heatmap.mark_text().encode(\n",
    "    text=alt.Text(\"auc:Q\", format=\".3f\"),\n",
    "    color=alt.condition(\n",
    "        alt.datum.auc > 0.73,\n",
    "        alt.value(\"black\"),\n",
    "        alt.value(\"white\"),\n",
    "    ),\n",
    ")\n",
    "\n",
    "chart = heatmap + text\n",
    "chart"
   ]
  },
  {
   "cell_type": "code",
   "execution_count": 48,
   "metadata": {},
   "outputs": [
    {
     "data": {
      "text/html": [
       "<style>#sk-container-id-3 {\n",
       "  /* Definition of color scheme common for light and dark mode */\n",
       "  --sklearn-color-text: black;\n",
       "  --sklearn-color-line: gray;\n",
       "  /* Definition of color scheme for unfitted estimators */\n",
       "  --sklearn-color-unfitted-level-0: #fff5e6;\n",
       "  --sklearn-color-unfitted-level-1: #f6e4d2;\n",
       "  --sklearn-color-unfitted-level-2: #ffe0b3;\n",
       "  --sklearn-color-unfitted-level-3: chocolate;\n",
       "  /* Definition of color scheme for fitted estimators */\n",
       "  --sklearn-color-fitted-level-0: #f0f8ff;\n",
       "  --sklearn-color-fitted-level-1: #d4ebff;\n",
       "  --sklearn-color-fitted-level-2: #b3dbfd;\n",
       "  --sklearn-color-fitted-level-3: cornflowerblue;\n",
       "\n",
       "  /* Specific color for light theme */\n",
       "  --sklearn-color-text-on-default-background: var(--sg-text-color, var(--theme-code-foreground, var(--jp-content-font-color1, black)));\n",
       "  --sklearn-color-background: var(--sg-background-color, var(--theme-background, var(--jp-layout-color0, white)));\n",
       "  --sklearn-color-border-box: var(--sg-text-color, var(--theme-code-foreground, var(--jp-content-font-color1, black)));\n",
       "  --sklearn-color-icon: #696969;\n",
       "\n",
       "  @media (prefers-color-scheme: dark) {\n",
       "    /* Redefinition of color scheme for dark theme */\n",
       "    --sklearn-color-text-on-default-background: var(--sg-text-color, var(--theme-code-foreground, var(--jp-content-font-color1, white)));\n",
       "    --sklearn-color-background: var(--sg-background-color, var(--theme-background, var(--jp-layout-color0, #111)));\n",
       "    --sklearn-color-border-box: var(--sg-text-color, var(--theme-code-foreground, var(--jp-content-font-color1, white)));\n",
       "    --sklearn-color-icon: #878787;\n",
       "  }\n",
       "}\n",
       "\n",
       "#sk-container-id-3 {\n",
       "  color: var(--sklearn-color-text);\n",
       "}\n",
       "\n",
       "#sk-container-id-3 pre {\n",
       "  padding: 0;\n",
       "}\n",
       "\n",
       "#sk-container-id-3 input.sk-hidden--visually {\n",
       "  border: 0;\n",
       "  clip: rect(1px 1px 1px 1px);\n",
       "  clip: rect(1px, 1px, 1px, 1px);\n",
       "  height: 1px;\n",
       "  margin: -1px;\n",
       "  overflow: hidden;\n",
       "  padding: 0;\n",
       "  position: absolute;\n",
       "  width: 1px;\n",
       "}\n",
       "\n",
       "#sk-container-id-3 div.sk-dashed-wrapped {\n",
       "  border: 1px dashed var(--sklearn-color-line);\n",
       "  margin: 0 0.4em 0.5em 0.4em;\n",
       "  box-sizing: border-box;\n",
       "  padding-bottom: 0.4em;\n",
       "  background-color: var(--sklearn-color-background);\n",
       "}\n",
       "\n",
       "#sk-container-id-3 div.sk-container {\n",
       "  /* jupyter's `normalize.less` sets `[hidden] { display: none; }`\n",
       "     but bootstrap.min.css set `[hidden] { display: none !important; }`\n",
       "     so we also need the `!important` here to be able to override the\n",
       "     default hidden behavior on the sphinx rendered scikit-learn.org.\n",
       "     See: https://github.com/scikit-learn/scikit-learn/issues/21755 */\n",
       "  display: inline-block !important;\n",
       "  position: relative;\n",
       "}\n",
       "\n",
       "#sk-container-id-3 div.sk-text-repr-fallback {\n",
       "  display: none;\n",
       "}\n",
       "\n",
       "div.sk-parallel-item,\n",
       "div.sk-serial,\n",
       "div.sk-item {\n",
       "  /* draw centered vertical line to link estimators */\n",
       "  background-image: linear-gradient(var(--sklearn-color-text-on-default-background), var(--sklearn-color-text-on-default-background));\n",
       "  background-size: 2px 100%;\n",
       "  background-repeat: no-repeat;\n",
       "  background-position: center center;\n",
       "}\n",
       "\n",
       "/* Parallel-specific style estimator block */\n",
       "\n",
       "#sk-container-id-3 div.sk-parallel-item::after {\n",
       "  content: \"\";\n",
       "  width: 100%;\n",
       "  border-bottom: 2px solid var(--sklearn-color-text-on-default-background);\n",
       "  flex-grow: 1;\n",
       "}\n",
       "\n",
       "#sk-container-id-3 div.sk-parallel {\n",
       "  display: flex;\n",
       "  align-items: stretch;\n",
       "  justify-content: center;\n",
       "  background-color: var(--sklearn-color-background);\n",
       "  position: relative;\n",
       "}\n",
       "\n",
       "#sk-container-id-3 div.sk-parallel-item {\n",
       "  display: flex;\n",
       "  flex-direction: column;\n",
       "}\n",
       "\n",
       "#sk-container-id-3 div.sk-parallel-item:first-child::after {\n",
       "  align-self: flex-end;\n",
       "  width: 50%;\n",
       "}\n",
       "\n",
       "#sk-container-id-3 div.sk-parallel-item:last-child::after {\n",
       "  align-self: flex-start;\n",
       "  width: 50%;\n",
       "}\n",
       "\n",
       "#sk-container-id-3 div.sk-parallel-item:only-child::after {\n",
       "  width: 0;\n",
       "}\n",
       "\n",
       "/* Serial-specific style estimator block */\n",
       "\n",
       "#sk-container-id-3 div.sk-serial {\n",
       "  display: flex;\n",
       "  flex-direction: column;\n",
       "  align-items: center;\n",
       "  background-color: var(--sklearn-color-background);\n",
       "  padding-right: 1em;\n",
       "  padding-left: 1em;\n",
       "}\n",
       "\n",
       "\n",
       "/* Toggleable style: style used for estimator/Pipeline/ColumnTransformer box that is\n",
       "clickable and can be expanded/collapsed.\n",
       "- Pipeline and ColumnTransformer use this feature and define the default style\n",
       "- Estimators will overwrite some part of the style using the `sk-estimator` class\n",
       "*/\n",
       "\n",
       "/* Pipeline and ColumnTransformer style (default) */\n",
       "\n",
       "#sk-container-id-3 div.sk-toggleable {\n",
       "  /* Default theme specific background. It is overwritten whether we have a\n",
       "  specific estimator or a Pipeline/ColumnTransformer */\n",
       "  background-color: var(--sklearn-color-background);\n",
       "}\n",
       "\n",
       "/* Toggleable label */\n",
       "#sk-container-id-3 label.sk-toggleable__label {\n",
       "  cursor: pointer;\n",
       "  display: block;\n",
       "  width: 100%;\n",
       "  margin-bottom: 0;\n",
       "  padding: 0.5em;\n",
       "  box-sizing: border-box;\n",
       "  text-align: center;\n",
       "}\n",
       "\n",
       "#sk-container-id-3 label.sk-toggleable__label-arrow:before {\n",
       "  /* Arrow on the left of the label */\n",
       "  content: \"▸\";\n",
       "  float: left;\n",
       "  margin-right: 0.25em;\n",
       "  color: var(--sklearn-color-icon);\n",
       "}\n",
       "\n",
       "#sk-container-id-3 label.sk-toggleable__label-arrow:hover:before {\n",
       "  color: var(--sklearn-color-text);\n",
       "}\n",
       "\n",
       "/* Toggleable content - dropdown */\n",
       "\n",
       "#sk-container-id-3 div.sk-toggleable__content {\n",
       "  max-height: 0;\n",
       "  max-width: 0;\n",
       "  overflow: hidden;\n",
       "  text-align: left;\n",
       "  /* unfitted */\n",
       "  background-color: var(--sklearn-color-unfitted-level-0);\n",
       "}\n",
       "\n",
       "#sk-container-id-3 div.sk-toggleable__content.fitted {\n",
       "  /* fitted */\n",
       "  background-color: var(--sklearn-color-fitted-level-0);\n",
       "}\n",
       "\n",
       "#sk-container-id-3 div.sk-toggleable__content pre {\n",
       "  margin: 0.2em;\n",
       "  border-radius: 0.25em;\n",
       "  color: var(--sklearn-color-text);\n",
       "  /* unfitted */\n",
       "  background-color: var(--sklearn-color-unfitted-level-0);\n",
       "}\n",
       "\n",
       "#sk-container-id-3 div.sk-toggleable__content.fitted pre {\n",
       "  /* unfitted */\n",
       "  background-color: var(--sklearn-color-fitted-level-0);\n",
       "}\n",
       "\n",
       "#sk-container-id-3 input.sk-toggleable__control:checked~div.sk-toggleable__content {\n",
       "  /* Expand drop-down */\n",
       "  max-height: 200px;\n",
       "  max-width: 100%;\n",
       "  overflow: auto;\n",
       "}\n",
       "\n",
       "#sk-container-id-3 input.sk-toggleable__control:checked~label.sk-toggleable__label-arrow:before {\n",
       "  content: \"▾\";\n",
       "}\n",
       "\n",
       "/* Pipeline/ColumnTransformer-specific style */\n",
       "\n",
       "#sk-container-id-3 div.sk-label input.sk-toggleable__control:checked~label.sk-toggleable__label {\n",
       "  color: var(--sklearn-color-text);\n",
       "  background-color: var(--sklearn-color-unfitted-level-2);\n",
       "}\n",
       "\n",
       "#sk-container-id-3 div.sk-label.fitted input.sk-toggleable__control:checked~label.sk-toggleable__label {\n",
       "  background-color: var(--sklearn-color-fitted-level-2);\n",
       "}\n",
       "\n",
       "/* Estimator-specific style */\n",
       "\n",
       "/* Colorize estimator box */\n",
       "#sk-container-id-3 div.sk-estimator input.sk-toggleable__control:checked~label.sk-toggleable__label {\n",
       "  /* unfitted */\n",
       "  background-color: var(--sklearn-color-unfitted-level-2);\n",
       "}\n",
       "\n",
       "#sk-container-id-3 div.sk-estimator.fitted input.sk-toggleable__control:checked~label.sk-toggleable__label {\n",
       "  /* fitted */\n",
       "  background-color: var(--sklearn-color-fitted-level-2);\n",
       "}\n",
       "\n",
       "#sk-container-id-3 div.sk-label label.sk-toggleable__label,\n",
       "#sk-container-id-3 div.sk-label label {\n",
       "  /* The background is the default theme color */\n",
       "  color: var(--sklearn-color-text-on-default-background);\n",
       "}\n",
       "\n",
       "/* On hover, darken the color of the background */\n",
       "#sk-container-id-3 div.sk-label:hover label.sk-toggleable__label {\n",
       "  color: var(--sklearn-color-text);\n",
       "  background-color: var(--sklearn-color-unfitted-level-2);\n",
       "}\n",
       "\n",
       "/* Label box, darken color on hover, fitted */\n",
       "#sk-container-id-3 div.sk-label.fitted:hover label.sk-toggleable__label.fitted {\n",
       "  color: var(--sklearn-color-text);\n",
       "  background-color: var(--sklearn-color-fitted-level-2);\n",
       "}\n",
       "\n",
       "/* Estimator label */\n",
       "\n",
       "#sk-container-id-3 div.sk-label label {\n",
       "  font-family: monospace;\n",
       "  font-weight: bold;\n",
       "  display: inline-block;\n",
       "  line-height: 1.2em;\n",
       "}\n",
       "\n",
       "#sk-container-id-3 div.sk-label-container {\n",
       "  text-align: center;\n",
       "}\n",
       "\n",
       "/* Estimator-specific */\n",
       "#sk-container-id-3 div.sk-estimator {\n",
       "  font-family: monospace;\n",
       "  border: 1px dotted var(--sklearn-color-border-box);\n",
       "  border-radius: 0.25em;\n",
       "  box-sizing: border-box;\n",
       "  margin-bottom: 0.5em;\n",
       "  /* unfitted */\n",
       "  background-color: var(--sklearn-color-unfitted-level-0);\n",
       "}\n",
       "\n",
       "#sk-container-id-3 div.sk-estimator.fitted {\n",
       "  /* fitted */\n",
       "  background-color: var(--sklearn-color-fitted-level-0);\n",
       "}\n",
       "\n",
       "/* on hover */\n",
       "#sk-container-id-3 div.sk-estimator:hover {\n",
       "  /* unfitted */\n",
       "  background-color: var(--sklearn-color-unfitted-level-2);\n",
       "}\n",
       "\n",
       "#sk-container-id-3 div.sk-estimator.fitted:hover {\n",
       "  /* fitted */\n",
       "  background-color: var(--sklearn-color-fitted-level-2);\n",
       "}\n",
       "\n",
       "/* Specification for estimator info (e.g. \"i\" and \"?\") */\n",
       "\n",
       "/* Common style for \"i\" and \"?\" */\n",
       "\n",
       ".sk-estimator-doc-link,\n",
       "a:link.sk-estimator-doc-link,\n",
       "a:visited.sk-estimator-doc-link {\n",
       "  float: right;\n",
       "  font-size: smaller;\n",
       "  line-height: 1em;\n",
       "  font-family: monospace;\n",
       "  background-color: var(--sklearn-color-background);\n",
       "  border-radius: 1em;\n",
       "  height: 1em;\n",
       "  width: 1em;\n",
       "  text-decoration: none !important;\n",
       "  margin-left: 1ex;\n",
       "  /* unfitted */\n",
       "  border: var(--sklearn-color-unfitted-level-1) 1pt solid;\n",
       "  color: var(--sklearn-color-unfitted-level-1);\n",
       "}\n",
       "\n",
       ".sk-estimator-doc-link.fitted,\n",
       "a:link.sk-estimator-doc-link.fitted,\n",
       "a:visited.sk-estimator-doc-link.fitted {\n",
       "  /* fitted */\n",
       "  border: var(--sklearn-color-fitted-level-1) 1pt solid;\n",
       "  color: var(--sklearn-color-fitted-level-1);\n",
       "}\n",
       "\n",
       "/* On hover */\n",
       "div.sk-estimator:hover .sk-estimator-doc-link:hover,\n",
       ".sk-estimator-doc-link:hover,\n",
       "div.sk-label-container:hover .sk-estimator-doc-link:hover,\n",
       ".sk-estimator-doc-link:hover {\n",
       "  /* unfitted */\n",
       "  background-color: var(--sklearn-color-unfitted-level-3);\n",
       "  color: var(--sklearn-color-background);\n",
       "  text-decoration: none;\n",
       "}\n",
       "\n",
       "div.sk-estimator.fitted:hover .sk-estimator-doc-link.fitted:hover,\n",
       ".sk-estimator-doc-link.fitted:hover,\n",
       "div.sk-label-container:hover .sk-estimator-doc-link.fitted:hover,\n",
       ".sk-estimator-doc-link.fitted:hover {\n",
       "  /* fitted */\n",
       "  background-color: var(--sklearn-color-fitted-level-3);\n",
       "  color: var(--sklearn-color-background);\n",
       "  text-decoration: none;\n",
       "}\n",
       "\n",
       "/* Span, style for the box shown on hovering the info icon */\n",
       ".sk-estimator-doc-link span {\n",
       "  display: none;\n",
       "  z-index: 9999;\n",
       "  position: relative;\n",
       "  font-weight: normal;\n",
       "  right: .2ex;\n",
       "  padding: .5ex;\n",
       "  margin: .5ex;\n",
       "  width: min-content;\n",
       "  min-width: 20ex;\n",
       "  max-width: 50ex;\n",
       "  color: var(--sklearn-color-text);\n",
       "  box-shadow: 2pt 2pt 4pt #999;\n",
       "  /* unfitted */\n",
       "  background: var(--sklearn-color-unfitted-level-0);\n",
       "  border: .5pt solid var(--sklearn-color-unfitted-level-3);\n",
       "}\n",
       "\n",
       ".sk-estimator-doc-link.fitted span {\n",
       "  /* fitted */\n",
       "  background: var(--sklearn-color-fitted-level-0);\n",
       "  border: var(--sklearn-color-fitted-level-3);\n",
       "}\n",
       "\n",
       ".sk-estimator-doc-link:hover span {\n",
       "  display: block;\n",
       "}\n",
       "\n",
       "/* \"?\"-specific style due to the `<a>` HTML tag */\n",
       "\n",
       "#sk-container-id-3 a.estimator_doc_link {\n",
       "  float: right;\n",
       "  font-size: 1rem;\n",
       "  line-height: 1em;\n",
       "  font-family: monospace;\n",
       "  background-color: var(--sklearn-color-background);\n",
       "  border-radius: 1rem;\n",
       "  height: 1rem;\n",
       "  width: 1rem;\n",
       "  text-decoration: none;\n",
       "  /* unfitted */\n",
       "  color: var(--sklearn-color-unfitted-level-1);\n",
       "  border: var(--sklearn-color-unfitted-level-1) 1pt solid;\n",
       "}\n",
       "\n",
       "#sk-container-id-3 a.estimator_doc_link.fitted {\n",
       "  /* fitted */\n",
       "  border: var(--sklearn-color-fitted-level-1) 1pt solid;\n",
       "  color: var(--sklearn-color-fitted-level-1);\n",
       "}\n",
       "\n",
       "/* On hover */\n",
       "#sk-container-id-3 a.estimator_doc_link:hover {\n",
       "  /* unfitted */\n",
       "  background-color: var(--sklearn-color-unfitted-level-3);\n",
       "  color: var(--sklearn-color-background);\n",
       "  text-decoration: none;\n",
       "}\n",
       "\n",
       "#sk-container-id-3 a.estimator_doc_link.fitted:hover {\n",
       "  /* fitted */\n",
       "  background-color: var(--sklearn-color-fitted-level-3);\n",
       "}\n",
       "</style><div id=\"sk-container-id-3\" class=\"sk-top-container\"><div class=\"sk-text-repr-fallback\"><pre>DecisionTreeClassifier(max_depth=6, min_samples_leaf=15)</pre><b>In a Jupyter environment, please rerun this cell to show the HTML representation or trust the notebook. <br />On GitHub, the HTML representation is unable to render, please try loading this page with nbviewer.org.</b></div><div class=\"sk-container\" hidden><div class=\"sk-item\"><div class=\"sk-estimator fitted sk-toggleable\"><input class=\"sk-toggleable__control sk-hidden--visually\" id=\"sk-estimator-id-3\" type=\"checkbox\" checked><label for=\"sk-estimator-id-3\" class=\"sk-toggleable__label fitted sk-toggleable__label-arrow fitted\">&nbsp;&nbsp;DecisionTreeClassifier<a class=\"sk-estimator-doc-link fitted\" rel=\"noreferrer\" target=\"_blank\" href=\"https://scikit-learn.org/1.5/modules/generated/sklearn.tree.DecisionTreeClassifier.html\">?<span>Documentation for DecisionTreeClassifier</span></a><span class=\"sk-estimator-doc-link fitted\">i<span>Fitted</span></span></label><div class=\"sk-toggleable__content fitted\"><pre>DecisionTreeClassifier(max_depth=6, min_samples_leaf=15)</pre></div> </div></div></div></div>"
      ],
      "text/plain": [
       "DecisionTreeClassifier(max_depth=6, min_samples_leaf=15)"
      ]
     },
     "execution_count": 48,
     "metadata": {},
     "output_type": "execute_result"
    }
   ],
   "source": [
    "dt = DecisionTreeClassifier(max_depth=6, min_samples_leaf=15)\n",
    "dt.fit(X_train, y_train)"
   ]
  },
  {
   "cell_type": "markdown",
   "metadata": {},
   "source": [
    "## 8. Ensemble Learning and Random Forest\n"
   ]
  },
  {
   "cell_type": "code",
   "execution_count": null,
   "metadata": {},
   "outputs": [],
   "source": []
  }
 ],
 "metadata": {
  "kernelspec": {
   "display_name": ".venv",
   "language": "python",
   "name": "python3"
  },
  "language_info": {
   "codemirror_mode": {
    "name": "ipython",
    "version": 3
   },
   "file_extension": ".py",
   "mimetype": "text/x-python",
   "name": "python",
   "nbconvert_exporter": "python",
   "pygments_lexer": "ipython3",
   "version": "3.12.6"
  }
 },
 "nbformat": 4,
 "nbformat_minor": 2
}
