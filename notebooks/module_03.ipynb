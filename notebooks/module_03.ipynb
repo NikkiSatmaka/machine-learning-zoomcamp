{
 "cells": [
  {
   "cell_type": "markdown",
   "metadata": {},
   "source": [
    "# Module 03\n"
   ]
  },
  {
   "cell_type": "code",
   "execution_count": 1,
   "metadata": {},
   "outputs": [],
   "source": [
    "from pathlib import Path\n",
    "\n",
    "import altair as alt\n",
    "import numpy as np\n",
    "import polars as pl\n",
    "import polars.selectors as cs\n",
    "from sklearn.metrics import mutual_info_score\n",
    "from sklearn.model_selection import train_test_split\n",
    "from sklearn.feature_extraction import DictVectorizer\n",
    "\n",
    "from ml_zoomcamp.utils import clean_column_names, load_data\n",
    "\n",
    "alt.data_transformers.disable_max_rows()\n",
    "\n",
    "ROOT_DIR = Path.cwd().parent\n",
    "DATA_DIR = ROOT_DIR.joinpath(\"data\")"
   ]
  },
  {
   "cell_type": "markdown",
   "metadata": {},
   "source": [
    "## 1. Data Preparation\n"
   ]
  },
  {
   "cell_type": "code",
   "execution_count": 2,
   "metadata": {},
   "outputs": [],
   "source": [
    "csv_uri = \"https://raw.githubusercontent.com/alexeygrigorev/mlbookcamp-code/master/chapter-03-churn-prediction/WA_Fn-UseC_-Telco-Customer-Churn.csv\"\n",
    "df = load_data(csv_uri, DATA_DIR)\n",
    "df = clean_column_names(df)\n",
    "\n",
    "df = df.with_columns(\n",
    "    cs.string()\n",
    "    .str.to_lowercase()\n",
    "    .str.replace_all(r\"[^\\w\\s-]\", \"\")\n",
    "    .str.replace_all(r\"\\s+|-+\", \"_\")\n",
    ")"
   ]
  },
  {
   "cell_type": "code",
   "execution_count": null,
   "metadata": {},
   "outputs": [
    {
     "data": {
      "text/plain": [
       "Schema([('customerid', String),\n",
       "        ('gender', String),\n",
       "        ('seniorcitizen', Int64),\n",
       "        ('partner', String),\n",
       "        ('dependents', String),\n",
       "        ('tenure', Int64),\n",
       "        ('phoneservice', String),\n",
       "        ('multiplelines', String),\n",
       "        ('internetservice', String),\n",
       "        ('onlinesecurity', String),\n",
       "        ('onlinebackup', String),\n",
       "        ('deviceprotection', String),\n",
       "        ('techsupport', String),\n",
       "        ('streamingtv', String),\n",
       "        ('streamingmovies', String),\n",
       "        ('contract', String),\n",
       "        ('paperlessbilling', String),\n",
       "        ('paymentmethod', String),\n",
       "        ('monthlycharges', Float64),\n",
       "        ('totalcharges', Float64),\n",
       "        ('churn', String)])"
      ]
     },
     "execution_count": 3,
     "metadata": {},
     "output_type": "execute_result"
    }
   ],
   "source": [
    "df.schema"
   ]
  },
  {
   "cell_type": "code",
   "execution_count": 4,
   "metadata": {},
   "outputs": [
    {
     "name": "stdout",
     "output_type": "stream",
     "text": [
      "Rows: 7043\n",
      "Columns: 21\n",
      "$ customerid       <str> '7590_vhveg', '5575_gnvde', '3668_qpybk', '7795_cfocw', '9237_hqitu', '9305_cdskc', '1452_kiovk', '6713_okomc', '7892_pookp', '6388_tabgu'\n",
      "$ gender           <str> 'female', 'male', 'male', 'male', 'female', 'female', 'male', 'female', 'female', 'male'\n",
      "$ seniorcitizen    <i64> 0, 0, 0, 0, 0, 0, 0, 0, 0, 0\n",
      "$ partner          <str> 'yes', 'no', 'no', 'no', 'no', 'no', 'no', 'no', 'yes', 'no'\n",
      "$ dependents       <str> 'no', 'no', 'no', 'no', 'no', 'no', 'yes', 'no', 'no', 'yes'\n",
      "$ tenure           <i64> 1, 34, 2, 45, 2, 8, 22, 10, 28, 62\n",
      "$ phoneservice     <str> 'no', 'yes', 'yes', 'no', 'yes', 'yes', 'yes', 'no', 'yes', 'yes'\n",
      "$ multiplelines    <str> 'no_phone_service', 'no', 'no', 'no_phone_service', 'no', 'yes', 'yes', 'no_phone_service', 'yes', 'no'\n",
      "$ internetservice  <str> 'dsl', 'dsl', 'dsl', 'dsl', 'fiber_optic', 'fiber_optic', 'fiber_optic', 'dsl', 'fiber_optic', 'dsl'\n",
      "$ onlinesecurity   <str> 'no', 'yes', 'yes', 'yes', 'no', 'no', 'no', 'yes', 'no', 'yes'\n",
      "$ onlinebackup     <str> 'yes', 'no', 'yes', 'no', 'no', 'no', 'yes', 'no', 'no', 'yes'\n",
      "$ deviceprotection <str> 'no', 'yes', 'no', 'yes', 'no', 'yes', 'no', 'no', 'yes', 'no'\n",
      "$ techsupport      <str> 'no', 'no', 'no', 'yes', 'no', 'no', 'no', 'no', 'yes', 'no'\n",
      "$ streamingtv      <str> 'no', 'no', 'no', 'no', 'no', 'yes', 'yes', 'no', 'yes', 'no'\n",
      "$ streamingmovies  <str> 'no', 'no', 'no', 'no', 'no', 'yes', 'no', 'no', 'yes', 'no'\n",
      "$ contract         <str> 'month_to_month', 'one_year', 'month_to_month', 'one_year', 'month_to_month', 'month_to_month', 'month_to_month', 'month_to_month', 'month_to_month', 'one_year'\n",
      "$ paperlessbilling <str> 'yes', 'no', 'yes', 'no', 'yes', 'yes', 'yes', 'no', 'yes', 'no'\n",
      "$ paymentmethod    <str> 'electronic_check', 'mailed_check', 'mailed_check', 'bank_transfer_automatic', 'electronic_check', 'electronic_check', 'credit_card_automatic', 'mailed_check', 'electronic_check', 'bank_transfer_automatic'\n",
      "$ monthlycharges   <f64> 29.85, 56.95, 53.85, 42.3, 70.7, 99.65, 89.1, 29.75, 104.8, 56.15\n",
      "$ totalcharges     <f64> 29.85, 1889.5, 108.15, 1840.75, 151.65, 820.5, 1949.4, 301.9, 3046.05, 3487.95\n",
      "$ churn            <str> 'no', 'no', 'yes', 'no', 'yes', 'yes', 'no', 'no', 'yes', 'no'\n",
      "\n"
     ]
    }
   ],
   "source": [
    "df.glimpse()"
   ]
  },
  {
   "cell_type": "code",
   "execution_count": 5,
   "metadata": {},
   "outputs": [
    {
     "data": {
      "text/html": [
       "<div><style>\n",
       ".dataframe > thead > tr,\n",
       ".dataframe > tbody > tr {\n",
       "  text-align: right;\n",
       "  white-space: pre-wrap;\n",
       "}\n",
       "</style>\n",
       "<small>shape: (9, 22)</small><table border=\"1\" class=\"dataframe\"><thead><tr><th>statistic</th><th>customerid</th><th>gender</th><th>seniorcitizen</th><th>partner</th><th>dependents</th><th>tenure</th><th>phoneservice</th><th>multiplelines</th><th>internetservice</th><th>onlinesecurity</th><th>onlinebackup</th><th>deviceprotection</th><th>techsupport</th><th>streamingtv</th><th>streamingmovies</th><th>contract</th><th>paperlessbilling</th><th>paymentmethod</th><th>monthlycharges</th><th>totalcharges</th><th>churn</th></tr><tr><td>str</td><td>str</td><td>str</td><td>f64</td><td>str</td><td>str</td><td>f64</td><td>str</td><td>str</td><td>str</td><td>str</td><td>str</td><td>str</td><td>str</td><td>str</td><td>str</td><td>str</td><td>str</td><td>str</td><td>f64</td><td>f64</td><td>str</td></tr></thead><tbody><tr><td>&quot;count&quot;</td><td>&quot;7043&quot;</td><td>&quot;7043&quot;</td><td>7043.0</td><td>&quot;7043&quot;</td><td>&quot;7043&quot;</td><td>7043.0</td><td>&quot;7043&quot;</td><td>&quot;7043&quot;</td><td>&quot;7043&quot;</td><td>&quot;7043&quot;</td><td>&quot;7043&quot;</td><td>&quot;7043&quot;</td><td>&quot;7043&quot;</td><td>&quot;7043&quot;</td><td>&quot;7043&quot;</td><td>&quot;7043&quot;</td><td>&quot;7043&quot;</td><td>&quot;7043&quot;</td><td>7043.0</td><td>7032.0</td><td>&quot;7043&quot;</td></tr><tr><td>&quot;null_count&quot;</td><td>&quot;0&quot;</td><td>&quot;0&quot;</td><td>0.0</td><td>&quot;0&quot;</td><td>&quot;0&quot;</td><td>0.0</td><td>&quot;0&quot;</td><td>&quot;0&quot;</td><td>&quot;0&quot;</td><td>&quot;0&quot;</td><td>&quot;0&quot;</td><td>&quot;0&quot;</td><td>&quot;0&quot;</td><td>&quot;0&quot;</td><td>&quot;0&quot;</td><td>&quot;0&quot;</td><td>&quot;0&quot;</td><td>&quot;0&quot;</td><td>0.0</td><td>11.0</td><td>&quot;0&quot;</td></tr><tr><td>&quot;mean&quot;</td><td>null</td><td>null</td><td>0.162147</td><td>null</td><td>null</td><td>32.371149</td><td>null</td><td>null</td><td>null</td><td>null</td><td>null</td><td>null</td><td>null</td><td>null</td><td>null</td><td>null</td><td>null</td><td>null</td><td>64.761692</td><td>2283.300441</td><td>null</td></tr><tr><td>&quot;std&quot;</td><td>null</td><td>null</td><td>0.368612</td><td>null</td><td>null</td><td>24.559481</td><td>null</td><td>null</td><td>null</td><td>null</td><td>null</td><td>null</td><td>null</td><td>null</td><td>null</td><td>null</td><td>null</td><td>null</td><td>30.090047</td><td>2266.771362</td><td>null</td></tr><tr><td>&quot;min&quot;</td><td>&quot;0002_orfbo&quot;</td><td>&quot;female&quot;</td><td>0.0</td><td>&quot;no&quot;</td><td>&quot;no&quot;</td><td>0.0</td><td>&quot;no&quot;</td><td>&quot;no&quot;</td><td>&quot;dsl&quot;</td><td>&quot;no&quot;</td><td>&quot;no&quot;</td><td>&quot;no&quot;</td><td>&quot;no&quot;</td><td>&quot;no&quot;</td><td>&quot;no&quot;</td><td>&quot;month_to_month&quot;</td><td>&quot;no&quot;</td><td>&quot;bank_transfer_automatic&quot;</td><td>18.25</td><td>18.8</td><td>&quot;no&quot;</td></tr><tr><td>&quot;25%&quot;</td><td>null</td><td>null</td><td>0.0</td><td>null</td><td>null</td><td>9.0</td><td>null</td><td>null</td><td>null</td><td>null</td><td>null</td><td>null</td><td>null</td><td>null</td><td>null</td><td>null</td><td>null</td><td>null</td><td>35.5</td><td>401.5</td><td>null</td></tr><tr><td>&quot;50%&quot;</td><td>null</td><td>null</td><td>0.0</td><td>null</td><td>null</td><td>29.0</td><td>null</td><td>null</td><td>null</td><td>null</td><td>null</td><td>null</td><td>null</td><td>null</td><td>null</td><td>null</td><td>null</td><td>null</td><td>70.35</td><td>1397.65</td><td>null</td></tr><tr><td>&quot;75%&quot;</td><td>null</td><td>null</td><td>0.0</td><td>null</td><td>null</td><td>55.0</td><td>null</td><td>null</td><td>null</td><td>null</td><td>null</td><td>null</td><td>null</td><td>null</td><td>null</td><td>null</td><td>null</td><td>null</td><td>89.85</td><td>3794.5</td><td>null</td></tr><tr><td>&quot;max&quot;</td><td>&quot;9995_hotoh&quot;</td><td>&quot;male&quot;</td><td>1.0</td><td>&quot;yes&quot;</td><td>&quot;yes&quot;</td><td>72.0</td><td>&quot;yes&quot;</td><td>&quot;yes&quot;</td><td>&quot;no&quot;</td><td>&quot;yes&quot;</td><td>&quot;yes&quot;</td><td>&quot;yes&quot;</td><td>&quot;yes&quot;</td><td>&quot;yes&quot;</td><td>&quot;yes&quot;</td><td>&quot;two_year&quot;</td><td>&quot;yes&quot;</td><td>&quot;mailed_check&quot;</td><td>118.75</td><td>8684.8</td><td>&quot;yes&quot;</td></tr></tbody></table></div>"
      ],
      "text/plain": [
       "shape: (9, 22)\n",
       "┌────────────┬────────────┬────────┬────────────┬───┬────────────┬────────────┬────────────┬───────┐\n",
       "│ statistic  ┆ customerid ┆ gender ┆ seniorciti ┆ … ┆ paymentmet ┆ monthlycha ┆ totalcharg ┆ churn │\n",
       "│ ---        ┆ ---        ┆ ---    ┆ zen        ┆   ┆ hod        ┆ rges       ┆ es         ┆ ---   │\n",
       "│ str        ┆ str        ┆ str    ┆ ---        ┆   ┆ ---        ┆ ---        ┆ ---        ┆ str   │\n",
       "│            ┆            ┆        ┆ f64        ┆   ┆ str        ┆ f64        ┆ f64        ┆       │\n",
       "╞════════════╪════════════╪════════╪════════════╪═══╪════════════╪════════════╪════════════╪═══════╡\n",
       "│ count      ┆ 7043       ┆ 7043   ┆ 7043.0     ┆ … ┆ 7043       ┆ 7043.0     ┆ 7032.0     ┆ 7043  │\n",
       "│ null_count ┆ 0          ┆ 0      ┆ 0.0        ┆ … ┆ 0          ┆ 0.0        ┆ 11.0       ┆ 0     │\n",
       "│ mean       ┆ null       ┆ null   ┆ 0.162147   ┆ … ┆ null       ┆ 64.761692  ┆ 2283.30044 ┆ null  │\n",
       "│            ┆            ┆        ┆            ┆   ┆            ┆            ┆ 1          ┆       │\n",
       "│ std        ┆ null       ┆ null   ┆ 0.368612   ┆ … ┆ null       ┆ 30.090047  ┆ 2266.77136 ┆ null  │\n",
       "│            ┆            ┆        ┆            ┆   ┆            ┆            ┆ 2          ┆       │\n",
       "│ min        ┆ 0002_orfbo ┆ female ┆ 0.0        ┆ … ┆ bank_trans ┆ 18.25      ┆ 18.8       ┆ no    │\n",
       "│            ┆            ┆        ┆            ┆   ┆ fer_automa ┆            ┆            ┆       │\n",
       "│            ┆            ┆        ┆            ┆   ┆ tic        ┆            ┆            ┆       │\n",
       "│ 25%        ┆ null       ┆ null   ┆ 0.0        ┆ … ┆ null       ┆ 35.5       ┆ 401.5      ┆ null  │\n",
       "│ 50%        ┆ null       ┆ null   ┆ 0.0        ┆ … ┆ null       ┆ 70.35      ┆ 1397.65    ┆ null  │\n",
       "│ 75%        ┆ null       ┆ null   ┆ 0.0        ┆ … ┆ null       ┆ 89.85      ┆ 3794.5     ┆ null  │\n",
       "│ max        ┆ 9995_hotoh ┆ male   ┆ 1.0        ┆ … ┆ mailed_che ┆ 118.75     ┆ 8684.8     ┆ yes   │\n",
       "│            ┆            ┆        ┆            ┆   ┆ ck         ┆            ┆            ┆       │\n",
       "└────────────┴────────────┴────────┴────────────┴───┴────────────┴────────────┴────────────┴───────┘"
      ]
     },
     "execution_count": 5,
     "metadata": {},
     "output_type": "execute_result"
    }
   ],
   "source": [
    "df.describe()"
   ]
  },
  {
   "cell_type": "code",
   "execution_count": 6,
   "metadata": {},
   "outputs": [
    {
     "data": {
      "text/html": [
       "<div><style>\n",
       ".dataframe > thead > tr,\n",
       ".dataframe > tbody > tr {\n",
       "  text-align: right;\n",
       "  white-space: pre-wrap;\n",
       "}\n",
       "</style>\n",
       "<small>shape: (1, 2)</small><table border=\"1\" class=\"dataframe\"><thead><tr><th>column</th><th>null_count</th></tr><tr><td>str</td><td>u32</td></tr></thead><tbody><tr><td>&quot;totalcharges&quot;</td><td>11</td></tr></tbody></table></div>"
      ],
      "text/plain": [
       "shape: (1, 2)\n",
       "┌──────────────┬────────────┐\n",
       "│ column       ┆ null_count │\n",
       "│ ---          ┆ ---        │\n",
       "│ str          ┆ u32        │\n",
       "╞══════════════╪════════════╡\n",
       "│ totalcharges ┆ 11         │\n",
       "└──────────────┴────────────┘"
      ]
     },
     "execution_count": 6,
     "metadata": {},
     "output_type": "execute_result"
    }
   ],
   "source": [
    "df.null_count().transpose(include_header=True, column_names=[\"null_count\"]).filter(\n",
    "    pl.col(\"null_count\") > 0\n",
    ").sort(pl.col(\"null_count\"), descending=True)"
   ]
  },
  {
   "cell_type": "code",
   "execution_count": 7,
   "metadata": {},
   "outputs": [
    {
     "data": {
      "text/html": [
       "<div><style>\n",
       ".dataframe > thead > tr,\n",
       ".dataframe > tbody > tr {\n",
       "  text-align: right;\n",
       "  white-space: pre-wrap;\n",
       "}\n",
       "</style>\n",
       "<small>shape: (11, 2)</small><table border=\"1\" class=\"dataframe\"><thead><tr><th>customerid</th><th>totalcharges</th></tr><tr><td>str</td><td>f64</td></tr></thead><tbody><tr><td>&quot;4472_lvygi&quot;</td><td>null</td></tr><tr><td>&quot;3115_czmzd&quot;</td><td>null</td></tr><tr><td>&quot;5709_lvoeq&quot;</td><td>null</td></tr><tr><td>&quot;4367_nuyao&quot;</td><td>null</td></tr><tr><td>&quot;1371_dwpaz&quot;</td><td>null</td></tr><tr><td>&hellip;</td><td>&hellip;</td></tr><tr><td>&quot;3213_vvolg&quot;</td><td>null</td></tr><tr><td>&quot;2520_sgtta&quot;</td><td>null</td></tr><tr><td>&quot;2923_arzlg&quot;</td><td>null</td></tr><tr><td>&quot;4075_wkniu&quot;</td><td>null</td></tr><tr><td>&quot;2775_sefee&quot;</td><td>null</td></tr></tbody></table></div>"
      ],
      "text/plain": [
       "shape: (11, 2)\n",
       "┌────────────┬──────────────┐\n",
       "│ customerid ┆ totalcharges │\n",
       "│ ---        ┆ ---          │\n",
       "│ str        ┆ f64          │\n",
       "╞════════════╪══════════════╡\n",
       "│ 4472_lvygi ┆ null         │\n",
       "│ 3115_czmzd ┆ null         │\n",
       "│ 5709_lvoeq ┆ null         │\n",
       "│ 4367_nuyao ┆ null         │\n",
       "│ 1371_dwpaz ┆ null         │\n",
       "│ …          ┆ …            │\n",
       "│ 3213_vvolg ┆ null         │\n",
       "│ 2520_sgtta ┆ null         │\n",
       "│ 2923_arzlg ┆ null         │\n",
       "│ 4075_wkniu ┆ null         │\n",
       "│ 2775_sefee ┆ null         │\n",
       "└────────────┴──────────────┘"
      ]
     },
     "execution_count": 7,
     "metadata": {},
     "output_type": "execute_result"
    }
   ],
   "source": [
    "df.filter(pl.col(\"totalcharges\").is_null()).select(pl.col(\"customerid\", \"totalcharges\"))"
   ]
  },
  {
   "cell_type": "code",
   "execution_count": 8,
   "metadata": {},
   "outputs": [],
   "source": [
    "df = df.with_columns(pl.col(\"totalcharges\").fill_null(0))"
   ]
  },
  {
   "cell_type": "code",
   "execution_count": 9,
   "metadata": {},
   "outputs": [],
   "source": [
    "df = df.with_columns((pl.col(\"churn\") == \"yes\").cast(pl.Int8))"
   ]
  },
  {
   "cell_type": "markdown",
   "metadata": {},
   "source": [
    "## 2. Setting Up Validation Framework\n"
   ]
  },
  {
   "cell_type": "code",
   "execution_count": 10,
   "metadata": {},
   "outputs": [],
   "source": [
    "df_full_train, df_test = train_test_split(df, test_size=0.2, random_state=1)\n",
    "df_train, df_val = train_test_split(df_full_train, test_size=0.25, random_state=1)"
   ]
  },
  {
   "cell_type": "code",
   "execution_count": 11,
   "metadata": {},
   "outputs": [
    {
     "data": {
      "text/plain": [
       "(4225, 1409, 1409)"
      ]
     },
     "execution_count": 11,
     "metadata": {},
     "output_type": "execute_result"
    }
   ],
   "source": [
    "len(df_train), len(df_val), len(df_test)"
   ]
  },
  {
   "cell_type": "code",
   "execution_count": 12,
   "metadata": {},
   "outputs": [],
   "source": [
    "y_train = df_train[\"churn\"].to_numpy()\n",
    "y_val = df_val[\"churn\"].to_numpy()\n",
    "y_test = df_test[\"churn\"].to_numpy()"
   ]
  },
  {
   "cell_type": "code",
   "execution_count": 13,
   "metadata": {},
   "outputs": [],
   "source": [
    "df_train = df_train.drop(\"churn\")\n",
    "df_val = df_val.drop(\"churn\")\n",
    "df_test = df_test.drop(\"churn\")"
   ]
  },
  {
   "cell_type": "markdown",
   "metadata": {},
   "source": [
    "## 3. Exploratory Data Analysis\n"
   ]
  },
  {
   "cell_type": "code",
   "execution_count": 14,
   "metadata": {},
   "outputs": [
    {
     "data": {
      "text/html": [
       "<div><style>\n",
       ".dataframe > thead > tr,\n",
       ".dataframe > tbody > tr {\n",
       "  text-align: right;\n",
       "  white-space: pre-wrap;\n",
       "}\n",
       "</style>\n",
       "<small>shape: (0, 2)</small><table border=\"1\" class=\"dataframe\"><thead><tr><th>column</th><th>null_count</th></tr><tr><td>str</td><td>u32</td></tr></thead><tbody></tbody></table></div>"
      ],
      "text/plain": [
       "shape: (0, 2)\n",
       "┌────────┬────────────┐\n",
       "│ column ┆ null_count │\n",
       "│ ---    ┆ ---        │\n",
       "│ str    ┆ u32        │\n",
       "╞════════╪════════════╡\n",
       "└────────┴────────────┘"
      ]
     },
     "execution_count": 14,
     "metadata": {},
     "output_type": "execute_result"
    }
   ],
   "source": [
    "df_full_train.null_count().transpose(\n",
    "    include_header=True, column_names=[\"null_count\"]\n",
    ").filter(pl.col(\"null_count\") > 0)"
   ]
  },
  {
   "cell_type": "code",
   "execution_count": 15,
   "metadata": {},
   "outputs": [
    {
     "data": {
      "text/html": [
       "<div><style>\n",
       ".dataframe > thead > tr,\n",
       ".dataframe > tbody > tr {\n",
       "  text-align: right;\n",
       "  white-space: pre-wrap;\n",
       "}\n",
       "</style>\n",
       "<small>shape: (2, 2)</small><table border=\"1\" class=\"dataframe\"><thead><tr><th>churn</th><th>proportion</th></tr><tr><td>i8</td><td>f64</td></tr></thead><tbody><tr><td>0</td><td>0.730032</td></tr><tr><td>1</td><td>0.269968</td></tr></tbody></table></div>"
      ],
      "text/plain": [
       "shape: (2, 2)\n",
       "┌───────┬────────────┐\n",
       "│ churn ┆ proportion │\n",
       "│ ---   ┆ ---        │\n",
       "│ i8    ┆ f64        │\n",
       "╞═══════╪════════════╡\n",
       "│ 0     ┆ 0.730032   │\n",
       "│ 1     ┆ 0.269968   │\n",
       "└───────┴────────────┘"
      ]
     },
     "execution_count": 15,
     "metadata": {},
     "output_type": "execute_result"
    }
   ],
   "source": [
    "df_full_train[\"churn\"].value_counts(sort=True, normalize=True)"
   ]
  },
  {
   "cell_type": "code",
   "execution_count": 16,
   "metadata": {},
   "outputs": [
    {
     "data": {
      "text/plain": [
       "0.27"
      ]
     },
     "execution_count": 16,
     "metadata": {},
     "output_type": "execute_result"
    }
   ],
   "source": [
    "global_churn_rate = df_full_train[\"churn\"].mean()\n",
    "round(global_churn_rate, 2)"
   ]
  },
  {
   "cell_type": "code",
   "execution_count": 17,
   "metadata": {},
   "outputs": [],
   "source": [
    "numerical = [\"tenure\", \"monthlycharges\", \"totalcharges\"]"
   ]
  },
  {
   "cell_type": "code",
   "execution_count": 18,
   "metadata": {},
   "outputs": [],
   "source": [
    "categorical = [\n",
    "    \"gender\",\n",
    "    \"seniorcitizen\",\n",
    "    \"partner\",\n",
    "    \"dependents\",\n",
    "    \"phoneservice\",\n",
    "    \"multiplelines\",\n",
    "    \"internetservice\",\n",
    "    \"onlinesecurity\",\n",
    "    \"onlinebackup\",\n",
    "    \"deviceprotection\",\n",
    "    \"techsupport\",\n",
    "    \"streamingtv\",\n",
    "    \"streamingmovies\",\n",
    "    \"contract\",\n",
    "    \"paperlessbilling\",\n",
    "    \"paymentmethod\",\n",
    "]"
   ]
  },
  {
   "cell_type": "code",
   "execution_count": 19,
   "metadata": {},
   "outputs": [
    {
     "data": {
      "text/html": [
       "<div><style>\n",
       ".dataframe > thead > tr,\n",
       ".dataframe > tbody > tr {\n",
       "  text-align: right;\n",
       "  white-space: pre-wrap;\n",
       "}\n",
       "</style>\n",
       "<small>shape: (1, 16)</small><table border=\"1\" class=\"dataframe\"><thead><tr><th>gender</th><th>seniorcitizen</th><th>partner</th><th>dependents</th><th>phoneservice</th><th>multiplelines</th><th>internetservice</th><th>onlinesecurity</th><th>onlinebackup</th><th>deviceprotection</th><th>techsupport</th><th>streamingtv</th><th>streamingmovies</th><th>contract</th><th>paperlessbilling</th><th>paymentmethod</th></tr><tr><td>u32</td><td>u32</td><td>u32</td><td>u32</td><td>u32</td><td>u32</td><td>u32</td><td>u32</td><td>u32</td><td>u32</td><td>u32</td><td>u32</td><td>u32</td><td>u32</td><td>u32</td><td>u32</td></tr></thead><tbody><tr><td>2</td><td>2</td><td>2</td><td>2</td><td>2</td><td>3</td><td>3</td><td>3</td><td>3</td><td>3</td><td>3</td><td>3</td><td>3</td><td>3</td><td>2</td><td>4</td></tr></tbody></table></div>"
      ],
      "text/plain": [
       "shape: (1, 16)\n",
       "┌────────┬────────────┬─────────┬────────────┬───┬────────────┬──────────┬────────────┬────────────┐\n",
       "│ gender ┆ seniorciti ┆ partner ┆ dependents ┆ … ┆ streamingm ┆ contract ┆ paperlessb ┆ paymentmet │\n",
       "│ ---    ┆ zen        ┆ ---     ┆ ---        ┆   ┆ ovies      ┆ ---      ┆ illing     ┆ hod        │\n",
       "│ u32    ┆ ---        ┆ u32     ┆ u32        ┆   ┆ ---        ┆ u32      ┆ ---        ┆ ---        │\n",
       "│        ┆ u32        ┆         ┆            ┆   ┆ u32        ┆          ┆ u32        ┆ u32        │\n",
       "╞════════╪════════════╪═════════╪════════════╪═══╪════════════╪══════════╪════════════╪════════════╡\n",
       "│ 2      ┆ 2          ┆ 2       ┆ 2          ┆ … ┆ 3          ┆ 3        ┆ 2          ┆ 4          │\n",
       "└────────┴────────────┴─────────┴────────────┴───┴────────────┴──────────┴────────────┴────────────┘"
      ]
     },
     "execution_count": 19,
     "metadata": {},
     "output_type": "execute_result"
    }
   ],
   "source": [
    "df_full_train.select(pl.col(categorical).n_unique())"
   ]
  },
  {
   "cell_type": "markdown",
   "metadata": {},
   "source": [
    "## 4. Feature importance: Churn rate and Risk ratio\n"
   ]
  },
  {
   "cell_type": "markdown",
   "metadata": {},
   "source": [
    "#### Churn rate\n"
   ]
  },
  {
   "cell_type": "code",
   "execution_count": 20,
   "metadata": {},
   "outputs": [
    {
     "data": {
      "text/html": [
       "<div><style>\n",
       ".dataframe > thead > tr,\n",
       ".dataframe > tbody > tr {\n",
       "  text-align: right;\n",
       "  white-space: pre-wrap;\n",
       "}\n",
       "</style>\n",
       "<small>shape: (5, 21)</small><table border=\"1\" class=\"dataframe\"><thead><tr><th>customerid</th><th>gender</th><th>seniorcitizen</th><th>partner</th><th>dependents</th><th>tenure</th><th>phoneservice</th><th>multiplelines</th><th>internetservice</th><th>onlinesecurity</th><th>onlinebackup</th><th>deviceprotection</th><th>techsupport</th><th>streamingtv</th><th>streamingmovies</th><th>contract</th><th>paperlessbilling</th><th>paymentmethod</th><th>monthlycharges</th><th>totalcharges</th><th>churn</th></tr><tr><td>str</td><td>str</td><td>i64</td><td>str</td><td>str</td><td>i64</td><td>str</td><td>str</td><td>str</td><td>str</td><td>str</td><td>str</td><td>str</td><td>str</td><td>str</td><td>str</td><td>str</td><td>str</td><td>f64</td><td>f64</td><td>i8</td></tr></thead><tbody><tr><td>&quot;5442_pptjy&quot;</td><td>&quot;male&quot;</td><td>0</td><td>&quot;yes&quot;</td><td>&quot;yes&quot;</td><td>12</td><td>&quot;yes&quot;</td><td>&quot;no&quot;</td><td>&quot;no&quot;</td><td>&quot;no_internet_service&quot;</td><td>&quot;no_internet_service&quot;</td><td>&quot;no_internet_service&quot;</td><td>&quot;no_internet_service&quot;</td><td>&quot;no_internet_service&quot;</td><td>&quot;no_internet_service&quot;</td><td>&quot;two_year&quot;</td><td>&quot;no&quot;</td><td>&quot;mailed_check&quot;</td><td>19.7</td><td>258.35</td><td>0</td></tr><tr><td>&quot;6261_rcvns&quot;</td><td>&quot;female&quot;</td><td>0</td><td>&quot;no&quot;</td><td>&quot;no&quot;</td><td>42</td><td>&quot;yes&quot;</td><td>&quot;no&quot;</td><td>&quot;dsl&quot;</td><td>&quot;yes&quot;</td><td>&quot;yes&quot;</td><td>&quot;yes&quot;</td><td>&quot;yes&quot;</td><td>&quot;no&quot;</td><td>&quot;yes&quot;</td><td>&quot;one_year&quot;</td><td>&quot;no&quot;</td><td>&quot;credit_card_automatic&quot;</td><td>73.9</td><td>3160.55</td><td>1</td></tr><tr><td>&quot;2176_osjuv&quot;</td><td>&quot;male&quot;</td><td>0</td><td>&quot;yes&quot;</td><td>&quot;no&quot;</td><td>71</td><td>&quot;yes&quot;</td><td>&quot;yes&quot;</td><td>&quot;dsl&quot;</td><td>&quot;yes&quot;</td><td>&quot;yes&quot;</td><td>&quot;no&quot;</td><td>&quot;yes&quot;</td><td>&quot;no&quot;</td><td>&quot;no&quot;</td><td>&quot;two_year&quot;</td><td>&quot;no&quot;</td><td>&quot;bank_transfer_automatic&quot;</td><td>65.15</td><td>4681.75</td><td>0</td></tr><tr><td>&quot;6161_erdgd&quot;</td><td>&quot;male&quot;</td><td>0</td><td>&quot;yes&quot;</td><td>&quot;yes&quot;</td><td>71</td><td>&quot;yes&quot;</td><td>&quot;yes&quot;</td><td>&quot;dsl&quot;</td><td>&quot;yes&quot;</td><td>&quot;no&quot;</td><td>&quot;yes&quot;</td><td>&quot;yes&quot;</td><td>&quot;yes&quot;</td><td>&quot;yes&quot;</td><td>&quot;one_year&quot;</td><td>&quot;no&quot;</td><td>&quot;electronic_check&quot;</td><td>85.45</td><td>6300.85</td><td>0</td></tr><tr><td>&quot;2364_ufrom&quot;</td><td>&quot;male&quot;</td><td>0</td><td>&quot;no&quot;</td><td>&quot;no&quot;</td><td>30</td><td>&quot;yes&quot;</td><td>&quot;no&quot;</td><td>&quot;dsl&quot;</td><td>&quot;yes&quot;</td><td>&quot;yes&quot;</td><td>&quot;no&quot;</td><td>&quot;yes&quot;</td><td>&quot;yes&quot;</td><td>&quot;no&quot;</td><td>&quot;one_year&quot;</td><td>&quot;no&quot;</td><td>&quot;electronic_check&quot;</td><td>70.4</td><td>2044.75</td><td>0</td></tr></tbody></table></div>"
      ],
      "text/plain": [
       "shape: (5, 21)\n",
       "┌────────────┬────────┬─────────────┬─────────┬───┬─────────────┬─────────────┬────────────┬───────┐\n",
       "│ customerid ┆ gender ┆ seniorcitiz ┆ partner ┆ … ┆ paymentmeth ┆ monthlychar ┆ totalcharg ┆ churn │\n",
       "│ ---        ┆ ---    ┆ en          ┆ ---     ┆   ┆ od          ┆ ges         ┆ es         ┆ ---   │\n",
       "│ str        ┆ str    ┆ ---         ┆ str     ┆   ┆ ---         ┆ ---         ┆ ---        ┆ i8    │\n",
       "│            ┆        ┆ i64         ┆         ┆   ┆ str         ┆ f64         ┆ f64        ┆       │\n",
       "╞════════════╪════════╪═════════════╪═════════╪═══╪═════════════╪═════════════╪════════════╪═══════╡\n",
       "│ 5442_pptjy ┆ male   ┆ 0           ┆ yes     ┆ … ┆ mailed_chec ┆ 19.7        ┆ 258.35     ┆ 0     │\n",
       "│            ┆        ┆             ┆         ┆   ┆ k           ┆             ┆            ┆       │\n",
       "│ 6261_rcvns ┆ female ┆ 0           ┆ no      ┆ … ┆ credit_card ┆ 73.9        ┆ 3160.55    ┆ 1     │\n",
       "│            ┆        ┆             ┆         ┆   ┆ _automatic  ┆             ┆            ┆       │\n",
       "│ 2176_osjuv ┆ male   ┆ 0           ┆ yes     ┆ … ┆ bank_transf ┆ 65.15       ┆ 4681.75    ┆ 0     │\n",
       "│            ┆        ┆             ┆         ┆   ┆ er_automati ┆             ┆            ┆       │\n",
       "│            ┆        ┆             ┆         ┆   ┆ c           ┆             ┆            ┆       │\n",
       "│ 6161_erdgd ┆ male   ┆ 0           ┆ yes     ┆ … ┆ electronic_ ┆ 85.45       ┆ 6300.85    ┆ 0     │\n",
       "│            ┆        ┆             ┆         ┆   ┆ check       ┆             ┆            ┆       │\n",
       "│ 2364_ufrom ┆ male   ┆ 0           ┆ no      ┆ … ┆ electronic_ ┆ 70.4        ┆ 2044.75    ┆ 0     │\n",
       "│            ┆        ┆             ┆         ┆   ┆ check       ┆             ┆            ┆       │\n",
       "└────────────┴────────┴─────────────┴─────────┴───┴─────────────┴─────────────┴────────────┴───────┘"
      ]
     },
     "execution_count": 20,
     "metadata": {},
     "output_type": "execute_result"
    }
   ],
   "source": [
    "df_full_train.head()"
   ]
  },
  {
   "cell_type": "code",
   "execution_count": 21,
   "metadata": {},
   "outputs": [
    {
     "data": {
      "text/plain": [
       "0.27682403433476394"
      ]
     },
     "execution_count": 21,
     "metadata": {},
     "output_type": "execute_result"
    }
   ],
   "source": [
    "churn_female = df_full_train.filter(pl.col(\"gender\") == \"female\")[\"churn\"].mean()\n",
    "churn_female"
   ]
  },
  {
   "cell_type": "code",
   "execution_count": 22,
   "metadata": {},
   "outputs": [
    {
     "data": {
      "text/plain": [
       "0.2632135306553911"
      ]
     },
     "execution_count": 22,
     "metadata": {},
     "output_type": "execute_result"
    }
   ],
   "source": [
    "churn_male = df_full_train.filter(pl.col(\"gender\") == \"male\")[\"churn\"].mean()\n",
    "churn_male"
   ]
  },
  {
   "cell_type": "code",
   "execution_count": null,
   "metadata": {},
   "outputs": [
    {
     "data": {
      "text/plain": [
       "0.26996805111821087"
      ]
     },
     "execution_count": 23,
     "metadata": {},
     "output_type": "execute_result"
    }
   ],
   "source": [
    "global_churn_rate"
   ]
  },
  {
   "cell_type": "code",
   "execution_count": 24,
   "metadata": {},
   "outputs": [
    {
     "data": {
      "text/html": [
       "<div><style>\n",
       ".dataframe > thead > tr,\n",
       ".dataframe > tbody > tr {\n",
       "  text-align: right;\n",
       "  white-space: pre-wrap;\n",
       "}\n",
       "</style>\n",
       "<small>shape: (2, 2)</small><table border=\"1\" class=\"dataframe\"><thead><tr><th>partner</th><th>count</th></tr><tr><td>str</td><td>u32</td></tr></thead><tbody><tr><td>&quot;no&quot;</td><td>2932</td></tr><tr><td>&quot;yes&quot;</td><td>2702</td></tr></tbody></table></div>"
      ],
      "text/plain": [
       "shape: (2, 2)\n",
       "┌─────────┬───────┐\n",
       "│ partner ┆ count │\n",
       "│ ---     ┆ ---   │\n",
       "│ str     ┆ u32   │\n",
       "╞═════════╪═══════╡\n",
       "│ no      ┆ 2932  │\n",
       "│ yes     ┆ 2702  │\n",
       "└─────────┴───────┘"
      ]
     },
     "execution_count": 24,
     "metadata": {},
     "output_type": "execute_result"
    }
   ],
   "source": [
    "df_full_train[\"partner\"].value_counts()"
   ]
  },
  {
   "cell_type": "code",
   "execution_count": null,
   "metadata": {},
   "outputs": [
    {
     "data": {
      "text/plain": [
       "0.20503330866025166"
      ]
     },
     "execution_count": 25,
     "metadata": {},
     "output_type": "execute_result"
    }
   ],
   "source": [
    "churn_partner = df_full_train.filter(pl.col(\"partner\") == \"yes\")[\"churn\"].mean()\n",
    "churn_partner"
   ]
  },
  {
   "cell_type": "code",
   "execution_count": 26,
   "metadata": {},
   "outputs": [
    {
     "data": {
      "text/plain": [
       "0.06493474245795922"
      ]
     },
     "execution_count": 26,
     "metadata": {},
     "output_type": "execute_result"
    }
   ],
   "source": [
    "global_churn_rate - churn_partner"
   ]
  },
  {
   "cell_type": "code",
   "execution_count": 27,
   "metadata": {},
   "outputs": [
    {
     "data": {
      "text/plain": [
       "0.3298090040927694"
      ]
     },
     "execution_count": 27,
     "metadata": {},
     "output_type": "execute_result"
    }
   ],
   "source": [
    "churn_no_partner = df_full_train.filter(pl.col(\"partner\") == \"no\")[\"churn\"].mean()\n",
    "churn_no_partner"
   ]
  },
  {
   "cell_type": "code",
   "execution_count": 28,
   "metadata": {},
   "outputs": [
    {
     "data": {
      "text/plain": [
       "-0.05984095297455855"
      ]
     },
     "execution_count": 28,
     "metadata": {},
     "output_type": "execute_result"
    }
   ],
   "source": [
    "global_churn_rate - churn_no_partner"
   ]
  },
  {
   "cell_type": "markdown",
   "metadata": {},
   "source": [
    "`partner` may have a greater importance than `gender` in affecting churn\n",
    "\n",
    "1. Difference (group - global)\n",
    "\n",
    "   - difference < 0 -> less likely to churn\n",
    "   - difference > 0 -> more likely to churn\n",
    "\n",
    "1. Risk ratio (group / global)\n",
    "   - risk < 1 -> less likely to churn\n",
    "   - risk > 1 -> more likely to churn\n"
   ]
  },
  {
   "cell_type": "code",
   "execution_count": 29,
   "metadata": {},
   "outputs": [
    {
     "data": {
      "text/plain": [
       "1.2216593879412643"
      ]
     },
     "execution_count": 29,
     "metadata": {},
     "output_type": "execute_result"
    }
   ],
   "source": [
    "churn_no_partner / global_churn_rate"
   ]
  },
  {
   "cell_type": "code",
   "execution_count": 30,
   "metadata": {},
   "outputs": [
    {
     "data": {
      "text/plain": [
       "0.7594724924338315"
      ]
     },
     "execution_count": 30,
     "metadata": {},
     "output_type": "execute_result"
    }
   ],
   "source": [
    "churn_partner / global_churn_rate"
   ]
  },
  {
   "cell_type": "code",
   "execution_count": null,
   "metadata": {},
   "outputs": [
    {
     "data": {
      "text/html": [
       "<div><style>\n",
       ".dataframe > thead > tr,\n",
       ".dataframe > tbody > tr {\n",
       "  text-align: right;\n",
       "  white-space: pre-wrap;\n",
       "}\n",
       "</style>\n",
       "<small>shape: (2, 5)</small><table border=\"1\" class=\"dataframe\"><thead><tr><th>gender</th><th>mean</th><th>count</th><th>diff</th><th>risk</th></tr><tr><td>str</td><td>f64</td><td>u32</td><td>f64</td><td>f64</td></tr></thead><tbody><tr><td>&quot;female&quot;</td><td>0.276824</td><td>2796</td><td>0.006856</td><td>1.025396</td></tr><tr><td>&quot;male&quot;</td><td>0.263214</td><td>2838</td><td>-0.006755</td><td>0.97498</td></tr></tbody></table></div>"
      ],
      "text/plain": [
       "shape: (2, 5)\n",
       "┌────────┬──────────┬───────┬───────────┬──────────┐\n",
       "│ gender ┆ mean     ┆ count ┆ diff      ┆ risk     │\n",
       "│ ---    ┆ ---      ┆ ---   ┆ ---       ┆ ---      │\n",
       "│ str    ┆ f64      ┆ u32   ┆ f64       ┆ f64      │\n",
       "╞════════╪══════════╪═══════╪═══════════╪══════════╡\n",
       "│ female ┆ 0.276824 ┆ 2796  ┆ 0.006856  ┆ 1.025396 │\n",
       "│ male   ┆ 0.263214 ┆ 2838  ┆ -0.006755 ┆ 0.97498  │\n",
       "└────────┴──────────┴───────┴───────────┴──────────┘"
      ]
     },
     "execution_count": 31,
     "metadata": {},
     "output_type": "execute_result"
    }
   ],
   "source": [
    "df_full_train.group_by(pl.col(\"gender\")).agg(\n",
    "    pl.col(\"churn\").mean().alias(\"mean\"),\n",
    "    pl.col(\"churn\").count().alias(\"count\"),\n",
    "    (pl.col(\"churn\").mean() - global_churn_rate).alias(\"diff\"),\n",
    "    (pl.col(\"churn\").mean() / global_churn_rate).alias(\"risk\"),\n",
    ")"
   ]
  },
  {
   "cell_type": "code",
   "execution_count": null,
   "metadata": {},
   "outputs": [
    {
     "name": "stdout",
     "output_type": "stream",
     "text": [
      "gender\n",
      "shape: (2, 5)\n",
      "┌────────┬──────────┬───────┬───────────┬──────────┐\n",
      "│ gender ┆ mean     ┆ count ┆ diff      ┆ risk     │\n",
      "│ ---    ┆ ---      ┆ ---   ┆ ---       ┆ ---      │\n",
      "│ str    ┆ f64      ┆ u32   ┆ f64       ┆ f64      │\n",
      "╞════════╪══════════╪═══════╪═══════════╪══════════╡\n",
      "│ male   ┆ 0.263214 ┆ 2838  ┆ -0.006755 ┆ 0.97498  │\n",
      "│ female ┆ 0.276824 ┆ 2796  ┆ 0.006856  ┆ 1.025396 │\n",
      "└────────┴──────────┴───────┴───────────┴──────────┘\n",
      "seniorcitizen\n",
      "shape: (2, 5)\n",
      "┌───────────────┬──────────┬───────┬───────────┬──────────┐\n",
      "│ seniorcitizen ┆ mean     ┆ count ┆ diff      ┆ risk     │\n",
      "│ ---           ┆ ---      ┆ ---   ┆ ---       ┆ ---      │\n",
      "│ i64           ┆ f64      ┆ u32   ┆ f64       ┆ f64      │\n",
      "╞═══════════════╪══════════╪═══════╪═══════════╪══════════╡\n",
      "│ 0             ┆ 0.24227  ┆ 4722  ┆ -0.027698 ┆ 0.897403 │\n",
      "│ 1             ┆ 0.413377 ┆ 912   ┆ 0.143409  ┆ 1.531208 │\n",
      "└───────────────┴──────────┴───────┴───────────┴──────────┘\n",
      "partner\n",
      "shape: (2, 5)\n",
      "┌─────────┬──────────┬───────┬───────────┬──────────┐\n",
      "│ partner ┆ mean     ┆ count ┆ diff      ┆ risk     │\n",
      "│ ---     ┆ ---      ┆ ---   ┆ ---       ┆ ---      │\n",
      "│ str     ┆ f64      ┆ u32   ┆ f64       ┆ f64      │\n",
      "╞═════════╪══════════╪═══════╪═══════════╪══════════╡\n",
      "│ no      ┆ 0.329809 ┆ 2932  ┆ 0.059841  ┆ 1.221659 │\n",
      "│ yes     ┆ 0.205033 ┆ 2702  ┆ -0.064935 ┆ 0.759472 │\n",
      "└─────────┴──────────┴───────┴───────────┴──────────┘\n",
      "dependents\n",
      "shape: (2, 5)\n",
      "┌────────────┬──────────┬───────┬───────────┬──────────┐\n",
      "│ dependents ┆ mean     ┆ count ┆ diff      ┆ risk     │\n",
      "│ ---        ┆ ---      ┆ ---   ┆ ---       ┆ ---      │\n",
      "│ str        ┆ f64      ┆ u32   ┆ f64       ┆ f64      │\n",
      "╞════════════╪══════════╪═══════╪═══════════╪══════════╡\n",
      "│ no         ┆ 0.31376  ┆ 3968  ┆ 0.043792  ┆ 1.162212 │\n",
      "│ yes        ┆ 0.165666 ┆ 1666  ┆ -0.104302 ┆ 0.613651 │\n",
      "└────────────┴──────────┴───────┴───────────┴──────────┘\n",
      "phoneservice\n",
      "shape: (2, 5)\n",
      "┌──────────────┬──────────┬───────┬───────────┬──────────┐\n",
      "│ phoneservice ┆ mean     ┆ count ┆ diff      ┆ risk     │\n",
      "│ ---          ┆ ---      ┆ ---   ┆ ---       ┆ ---      │\n",
      "│ str          ┆ f64      ┆ u32   ┆ f64       ┆ f64      │\n",
      "╞══════════════╪══════════╪═══════╪═══════════╪══════════╡\n",
      "│ no           ┆ 0.241316 ┆ 547   ┆ -0.028652 ┆ 0.89387  │\n",
      "│ yes          ┆ 0.273049 ┆ 5087  ┆ 0.003081  ┆ 1.011412 │\n",
      "└──────────────┴──────────┴───────┴───────────┴──────────┘\n",
      "multiplelines\n",
      "shape: (3, 5)\n",
      "┌──────────────────┬──────────┬───────┬───────────┬──────────┐\n",
      "│ multiplelines    ┆ mean     ┆ count ┆ diff      ┆ risk     │\n",
      "│ ---              ┆ ---      ┆ ---   ┆ ---       ┆ ---      │\n",
      "│ str              ┆ f64      ┆ u32   ┆ f64       ┆ f64      │\n",
      "╞══════════════════╪══════════╪═══════╪═══════════╪══════════╡\n",
      "│ yes              ┆ 0.290742 ┆ 2387  ┆ 0.020773  ┆ 1.076948 │\n",
      "│ no               ┆ 0.257407 ┆ 2700  ┆ -0.012561 ┆ 0.953474 │\n",
      "│ no_phone_service ┆ 0.241316 ┆ 547   ┆ -0.028652 ┆ 0.89387  │\n",
      "└──────────────────┴──────────┴───────┴───────────┴──────────┘\n",
      "internetservice\n",
      "shape: (3, 5)\n",
      "┌─────────────────┬──────────┬───────┬───────────┬──────────┐\n",
      "│ internetservice ┆ mean     ┆ count ┆ diff      ┆ risk     │\n",
      "│ ---             ┆ ---      ┆ ---   ┆ ---       ┆ ---      │\n",
      "│ str             ┆ f64      ┆ u32   ┆ f64       ┆ f64      │\n",
      "╞═════════════════╪══════════╪═══════╪═══════════╪══════════╡\n",
      "│ fiber_optic     ┆ 0.425171 ┆ 2479  ┆ 0.155203  ┆ 1.574895 │\n",
      "│ no              ┆ 0.077805 ┆ 1221  ┆ -0.192163 ┆ 0.288201 │\n",
      "│ dsl             ┆ 0.192347 ┆ 1934  ┆ -0.077621 ┆ 0.712482 │\n",
      "└─────────────────┴──────────┴───────┴───────────┴──────────┘\n",
      "onlinesecurity\n",
      "shape: (3, 5)\n",
      "┌─────────────────────┬──────────┬───────┬───────────┬──────────┐\n",
      "│ onlinesecurity      ┆ mean     ┆ count ┆ diff      ┆ risk     │\n",
      "│ ---                 ┆ ---      ┆ ---   ┆ ---       ┆ ---      │\n",
      "│ str                 ┆ f64      ┆ u32   ┆ f64       ┆ f64      │\n",
      "╞═════════════════════╪══════════╪═══════╪═══════════╪══════════╡\n",
      "│ yes                 ┆ 0.153226 ┆ 1612  ┆ -0.116742 ┆ 0.56757  │\n",
      "│ no_internet_service ┆ 0.077805 ┆ 1221  ┆ -0.192163 ┆ 0.288201 │\n",
      "│ no                  ┆ 0.420921 ┆ 2801  ┆ 0.150953  ┆ 1.559152 │\n",
      "└─────────────────────┴──────────┴───────┴───────────┴──────────┘\n",
      "onlinebackup\n",
      "shape: (3, 5)\n",
      "┌─────────────────────┬──────────┬───────┬───────────┬──────────┐\n",
      "│ onlinebackup        ┆ mean     ┆ count ┆ diff      ┆ risk     │\n",
      "│ ---                 ┆ ---      ┆ ---   ┆ ---       ┆ ---      │\n",
      "│ str                 ┆ f64      ┆ u32   ┆ f64       ┆ f64      │\n",
      "╞═════════════════════╪══════════╪═══════╪═══════════╪══════════╡\n",
      "│ no_internet_service ┆ 0.077805 ┆ 1221  ┆ -0.192163 ┆ 0.288201 │\n",
      "│ no                  ┆ 0.404323 ┆ 2498  ┆ 0.134355  ┆ 1.497672 │\n",
      "│ yes                 ┆ 0.217232 ┆ 1915  ┆ -0.052736 ┆ 0.80466  │\n",
      "└─────────────────────┴──────────┴───────┴───────────┴──────────┘\n",
      "deviceprotection\n",
      "shape: (3, 5)\n",
      "┌─────────────────────┬──────────┬───────┬───────────┬──────────┐\n",
      "│ deviceprotection    ┆ mean     ┆ count ┆ diff      ┆ risk     │\n",
      "│ ---                 ┆ ---      ┆ ---   ┆ ---       ┆ ---      │\n",
      "│ str                 ┆ f64      ┆ u32   ┆ f64       ┆ f64      │\n",
      "╞═════════════════════╪══════════╪═══════╪═══════════╪══════════╡\n",
      "│ no                  ┆ 0.395875 ┆ 2473  ┆ 0.125907  ┆ 1.466379 │\n",
      "│ yes                 ┆ 0.230412 ┆ 1940  ┆ -0.039556 ┆ 0.85348  │\n",
      "│ no_internet_service ┆ 0.077805 ┆ 1221  ┆ -0.192163 ┆ 0.288201 │\n",
      "└─────────────────────┴──────────┴───────┴───────────┴──────────┘\n",
      "techsupport\n",
      "shape: (3, 5)\n",
      "┌─────────────────────┬──────────┬───────┬───────────┬──────────┐\n",
      "│ techsupport         ┆ mean     ┆ count ┆ diff      ┆ risk     │\n",
      "│ ---                 ┆ ---      ┆ ---   ┆ ---       ┆ ---      │\n",
      "│ str                 ┆ f64      ┆ u32   ┆ f64       ┆ f64      │\n",
      "╞═════════════════════╪══════════╪═══════╪═══════════╪══════════╡\n",
      "│ yes                 ┆ 0.159926 ┆ 1632  ┆ -0.110042 ┆ 0.59239  │\n",
      "│ no_internet_service ┆ 0.077805 ┆ 1221  ┆ -0.192163 ┆ 0.288201 │\n",
      "│ no                  ┆ 0.418914 ┆ 2781  ┆ 0.148946  ┆ 1.551717 │\n",
      "└─────────────────────┴──────────┴───────┴───────────┴──────────┘\n",
      "streamingtv\n",
      "shape: (3, 5)\n",
      "┌─────────────────────┬──────────┬───────┬───────────┬──────────┐\n",
      "│ streamingtv         ┆ mean     ┆ count ┆ diff      ┆ risk     │\n",
      "│ ---                 ┆ ---      ┆ ---   ┆ ---       ┆ ---      │\n",
      "│ str                 ┆ f64      ┆ u32   ┆ f64       ┆ f64      │\n",
      "╞═════════════════════╪══════════╪═══════╪═══════════╪══════════╡\n",
      "│ yes                 ┆ 0.302723 ┆ 2167  ┆ 0.032755  ┆ 1.121328 │\n",
      "│ no                  ┆ 0.342832 ┆ 2246  ┆ 0.072864  ┆ 1.269897 │\n",
      "│ no_internet_service ┆ 0.077805 ┆ 1221  ┆ -0.192163 ┆ 0.288201 │\n",
      "└─────────────────────┴──────────┴───────┴───────────┴──────────┘\n",
      "streamingmovies\n",
      "shape: (3, 5)\n",
      "┌─────────────────────┬──────────┬───────┬───────────┬──────────┐\n",
      "│ streamingmovies     ┆ mean     ┆ count ┆ diff      ┆ risk     │\n",
      "│ ---                 ┆ ---      ┆ ---   ┆ ---       ┆ ---      │\n",
      "│ str                 ┆ f64      ┆ u32   ┆ f64       ┆ f64      │\n",
      "╞═════════════════════╪══════════╪═══════╪═══════════╪══════════╡\n",
      "│ yes                 ┆ 0.307273 ┆ 2200  ┆ 0.037305  ┆ 1.138182 │\n",
      "│ no_internet_service ┆ 0.077805 ┆ 1221  ┆ -0.192163 ┆ 0.288201 │\n",
      "│ no                  ┆ 0.338906 ┆ 2213  ┆ 0.068938  ┆ 1.255358 │\n",
      "└─────────────────────┴──────────┴───────┴───────────┴──────────┘\n",
      "contract\n",
      "shape: (3, 5)\n",
      "┌────────────────┬──────────┬───────┬───────────┬──────────┐\n",
      "│ contract       ┆ mean     ┆ count ┆ diff      ┆ risk     │\n",
      "│ ---            ┆ ---      ┆ ---   ┆ ---       ┆ ---      │\n",
      "│ str            ┆ f64      ┆ u32   ┆ f64       ┆ f64      │\n",
      "╞════════════════╪══════════╪═══════╪═══════════╪══════════╡\n",
      "│ one_year       ┆ 0.120573 ┆ 1186  ┆ -0.149395 ┆ 0.446621 │\n",
      "│ two_year       ┆ 0.028274 ┆ 1344  ┆ -0.241694 ┆ 0.10473  │\n",
      "│ month_to_month ┆ 0.431701 ┆ 3104  ┆ 0.161733  ┆ 1.599082 │\n",
      "└────────────────┴──────────┴───────┴───────────┴──────────┘\n",
      "paperlessbilling\n",
      "shape: (2, 5)\n",
      "┌──────────────────┬──────────┬───────┬───────────┬──────────┐\n",
      "│ paperlessbilling ┆ mean     ┆ count ┆ diff      ┆ risk     │\n",
      "│ ---              ┆ ---      ┆ ---   ┆ ---       ┆ ---      │\n",
      "│ str              ┆ f64      ┆ u32   ┆ f64       ┆ f64      │\n",
      "╞══════════════════╪══════════╪═══════╪═══════════╪══════════╡\n",
      "│ yes              ┆ 0.338151 ┆ 3321  ┆ 0.068183  ┆ 1.25256  │\n",
      "│ no               ┆ 0.172071 ┆ 2313  ┆ -0.097897 ┆ 0.637375 │\n",
      "└──────────────────┴──────────┴───────┴───────────┴──────────┘\n",
      "paymentmethod\n",
      "shape: (4, 5)\n",
      "┌─────────────────────────┬──────────┬───────┬───────────┬──────────┐\n",
      "│ paymentmethod           ┆ mean     ┆ count ┆ diff      ┆ risk     │\n",
      "│ ---                     ┆ ---      ┆ ---   ┆ ---       ┆ ---      │\n",
      "│ str                     ┆ f64      ┆ u32   ┆ f64       ┆ f64      │\n",
      "╞═════════════════════════╪══════════╪═══════╪═══════════╪══════════╡\n",
      "│ credit_card_automatic   ┆ 0.164339 ┆ 1217  ┆ -0.10563  ┆ 0.608733 │\n",
      "│ bank_transfer_automatic ┆ 0.168171 ┆ 1219  ┆ -0.101797 ┆ 0.622928 │\n",
      "│ electronic_check        ┆ 0.45589  ┆ 1893  ┆ 0.185922  ┆ 1.688682 │\n",
      "│ mailed_check            ┆ 0.19387  ┆ 1305  ┆ -0.076098 ┆ 0.718121 │\n",
      "└─────────────────────────┴──────────┴───────┴───────────┴──────────┘\n"
     ]
    }
   ],
   "source": [
    "for c in categorical:\n",
    "    print(c)\n",
    "    df_group = df_full_train.group_by(pl.col(c)).agg(\n",
    "        pl.col(\"churn\").mean().alias(\"mean\"),\n",
    "        pl.col(\"churn\").count().alias(\"count\"),\n",
    "        (pl.col(\"churn\").mean() - global_churn_rate).alias(\"diff\"),\n",
    "        (pl.col(\"churn\").mean() / global_churn_rate).alias(\"risk\"),\n",
    "    )\n",
    "    print(df_group)"
   ]
  },
  {
   "cell_type": "markdown",
   "metadata": {},
   "source": [
    "## 5. Feature importance: Mutual Information\n",
    "\n",
    "- https://en.wikipedia.org/wiki/Mutual_information\n"
   ]
  },
  {
   "cell_type": "code",
   "execution_count": null,
   "metadata": {},
   "outputs": [
    {
     "data": {
      "text/plain": [
       "np.float64(0.0983203874041556)"
      ]
     },
     "execution_count": 33,
     "metadata": {},
     "output_type": "execute_result"
    }
   ],
   "source": [
    "mutual_info_score(df_full_train[\"churn\"], df_full_train[\"contract\"])"
   ]
  },
  {
   "cell_type": "code",
   "execution_count": 34,
   "metadata": {},
   "outputs": [
    {
     "data": {
      "text/plain": [
       "np.float64(0.0983203874041556)"
      ]
     },
     "execution_count": 34,
     "metadata": {},
     "output_type": "execute_result"
    }
   ],
   "source": [
    "mutual_info_score(df_full_train[\"contract\"], df_full_train[\"churn\"])"
   ]
  },
  {
   "cell_type": "code",
   "execution_count": null,
   "metadata": {},
   "outputs": [
    {
     "data": {
      "text/plain": [
       "np.float64(0.0001174846211139946)"
      ]
     },
     "execution_count": 35,
     "metadata": {},
     "output_type": "execute_result"
    }
   ],
   "source": [
    "mutual_info_score(df_full_train[\"gender\"], df_full_train[\"churn\"])"
   ]
  },
  {
   "cell_type": "code",
   "execution_count": 36,
   "metadata": {},
   "outputs": [],
   "source": [
    "def mutual_info_churn_scores(series):\n",
    "    return mutual_info_score(series, df_full_train[\"churn\"])"
   ]
  },
  {
   "cell_type": "code",
   "execution_count": 37,
   "metadata": {},
   "outputs": [
    {
     "data": {
      "text/html": [
       "<div><style>\n",
       ".dataframe > thead > tr,\n",
       ".dataframe > tbody > tr {\n",
       "  text-align: right;\n",
       "  white-space: pre-wrap;\n",
       "}\n",
       "</style>\n",
       "<small>shape: (16, 2)</small><table border=\"1\" class=\"dataframe\"><thead><tr><th>column</th><th>score</th></tr><tr><td>str</td><td>f64</td></tr></thead><tbody><tr><td>&quot;contract&quot;</td><td>0.09832</td></tr><tr><td>&quot;onlinesecurity&quot;</td><td>0.063085</td></tr><tr><td>&quot;techsupport&quot;</td><td>0.061032</td></tr><tr><td>&quot;internetservice&quot;</td><td>0.055868</td></tr><tr><td>&quot;onlinebackup&quot;</td><td>0.046923</td></tr><tr><td>&hellip;</td><td>&hellip;</td></tr><tr><td>&quot;partner&quot;</td><td>0.009968</td></tr><tr><td>&quot;seniorcitizen&quot;</td><td>0.00941</td></tr><tr><td>&quot;multiplelines&quot;</td><td>0.000857</td></tr><tr><td>&quot;phoneservice&quot;</td><td>0.000229</td></tr><tr><td>&quot;gender&quot;</td><td>0.000117</td></tr></tbody></table></div>"
      ],
      "text/plain": [
       "shape: (16, 2)\n",
       "┌─────────────────┬──────────┐\n",
       "│ column          ┆ score    │\n",
       "│ ---             ┆ ---      │\n",
       "│ str             ┆ f64      │\n",
       "╞═════════════════╪══════════╡\n",
       "│ contract        ┆ 0.09832  │\n",
       "│ onlinesecurity  ┆ 0.063085 │\n",
       "│ techsupport     ┆ 0.061032 │\n",
       "│ internetservice ┆ 0.055868 │\n",
       "│ onlinebackup    ┆ 0.046923 │\n",
       "│ …               ┆ …        │\n",
       "│ partner         ┆ 0.009968 │\n",
       "│ seniorcitizen   ┆ 0.00941  │\n",
       "│ multiplelines   ┆ 0.000857 │\n",
       "│ phoneservice    ┆ 0.000229 │\n",
       "│ gender          ┆ 0.000117 │\n",
       "└─────────────────┴──────────┘"
      ]
     },
     "execution_count": 37,
     "metadata": {},
     "output_type": "execute_result"
    }
   ],
   "source": [
    "df_full_train.select(\n",
    "    pl.col(categorical).map_batches(mutual_info_churn_scores, return_dtype=pl.Float64)\n",
    ").transpose(include_header=True, column_names=[\"score\"]).sort(\n",
    "    pl.col(\"score\"), descending=True\n",
    ")"
   ]
  },
  {
   "cell_type": "markdown",
   "metadata": {},
   "source": [
    "## 6. Feature importance: Correlation\n",
    "\n",
    "- https://en.wikipedia.org/wiki/Pearson_correlation_coefficient\n"
   ]
  },
  {
   "cell_type": "code",
   "execution_count": null,
   "metadata": {},
   "outputs": [
    {
     "data": {
      "text/plain": [
       "72"
      ]
     },
     "execution_count": 38,
     "metadata": {},
     "output_type": "execute_result"
    }
   ],
   "source": [
    "df_full_train[\"tenure\"].max()"
   ]
  },
  {
   "cell_type": "code",
   "execution_count": null,
   "metadata": {},
   "outputs": [
    {
     "data": {
      "text/html": [
       "<div><style>\n",
       ".dataframe > thead > tr,\n",
       ".dataframe > tbody > tr {\n",
       "  text-align: right;\n",
       "  white-space: pre-wrap;\n",
       "}\n",
       "</style>\n",
       "<small>shape: (1, 1)</small><table border=\"1\" class=\"dataframe\"><thead><tr><th>tenure</th></tr><tr><td>f64</td></tr></thead><tbody><tr><td>-0.351885</td></tr></tbody></table></div>"
      ],
      "text/plain": [
       "shape: (1, 1)\n",
       "┌───────────┐\n",
       "│ tenure    │\n",
       "│ ---       │\n",
       "│ f64       │\n",
       "╞═══════════╡\n",
       "│ -0.351885 │\n",
       "└───────────┘"
      ]
     },
     "execution_count": 39,
     "metadata": {},
     "output_type": "execute_result"
    }
   ],
   "source": [
    "df_full_train.select(\n",
    "    pl.corr(\"tenure\", \"churn\"),\n",
    ")"
   ]
  },
  {
   "cell_type": "code",
   "execution_count": null,
   "metadata": {},
   "outputs": [
    {
     "data": {
      "text/html": [
       "<div><style>\n",
       ".dataframe > thead > tr,\n",
       ".dataframe > tbody > tr {\n",
       "  text-align: right;\n",
       "  white-space: pre-wrap;\n",
       "}\n",
       "</style>\n",
       "<small>shape: (1, 3)</small><table border=\"1\" class=\"dataframe\"><thead><tr><th>tenure</th><th>monthlycharges</th><th>totalcharges</th></tr><tr><td>f64</td><td>f64</td><td>f64</td></tr></thead><tbody><tr><td>-0.351885</td><td>0.196805</td><td>-0.196353</td></tr></tbody></table></div>"
      ],
      "text/plain": [
       "shape: (1, 3)\n",
       "┌───────────┬────────────────┬──────────────┐\n",
       "│ tenure    ┆ monthlycharges ┆ totalcharges │\n",
       "│ ---       ┆ ---            ┆ ---          │\n",
       "│ f64       ┆ f64            ┆ f64          │\n",
       "╞═══════════╪════════════════╪══════════════╡\n",
       "│ -0.351885 ┆ 0.196805       ┆ -0.196353    │\n",
       "└───────────┴────────────────┴──────────────┘"
      ]
     },
     "execution_count": 40,
     "metadata": {},
     "output_type": "execute_result"
    }
   ],
   "source": [
    "df_full_train.select([pl.corr(n, \"churn\") for n in numerical])"
   ]
  },
  {
   "cell_type": "code",
   "execution_count": null,
   "metadata": {},
   "outputs": [
    {
     "data": {
      "text/plain": [
       "0.5953420669577875"
      ]
     },
     "execution_count": 41,
     "metadata": {},
     "output_type": "execute_result"
    }
   ],
   "source": [
    "df_full_train.filter(pl.col(\"tenure\") <= 2)[\"churn\"].mean()"
   ]
  },
  {
   "cell_type": "code",
   "execution_count": null,
   "metadata": {},
   "outputs": [
    {
     "data": {
      "text/plain": [
       "0.3994413407821229"
      ]
     },
     "execution_count": 42,
     "metadata": {},
     "output_type": "execute_result"
    }
   ],
   "source": [
    "df_full_train.filter((pl.col(\"tenure\") > 2) & (pl.col(\"tenure\") <= 12))[\"churn\"].mean()"
   ]
  },
  {
   "cell_type": "code",
   "execution_count": 43,
   "metadata": {},
   "outputs": [
    {
     "data": {
      "text/plain": [
       "0.17634908339788277"
      ]
     },
     "execution_count": 43,
     "metadata": {},
     "output_type": "execute_result"
    }
   ],
   "source": [
    "df_full_train.filter(pl.col(\"tenure\") > 12)[\"churn\"].mean()"
   ]
  },
  {
   "cell_type": "code",
   "execution_count": null,
   "metadata": {},
   "outputs": [
    {
     "data": {
      "text/plain": [
       "0.08795411089866156"
      ]
     },
     "execution_count": 44,
     "metadata": {},
     "output_type": "execute_result"
    }
   ],
   "source": [
    "df_full_train.filter(pl.col(\"monthlycharges\") <= 20)[\"churn\"].mean()"
   ]
  },
  {
   "cell_type": "code",
   "execution_count": 45,
   "metadata": {},
   "outputs": [
    {
     "data": {
      "text/plain": [
       "0.18340943683409436"
      ]
     },
     "execution_count": 45,
     "metadata": {},
     "output_type": "execute_result"
    }
   ],
   "source": [
    "df_full_train.filter(\n",
    "    (pl.col(\"monthlycharges\") > 20) & (pl.col(\"monthlycharges\") <= 50)\n",
    ")[\"churn\"].mean()"
   ]
  },
  {
   "cell_type": "code",
   "execution_count": null,
   "metadata": {},
   "outputs": [
    {
     "data": {
      "text/plain": [
       "0.32499341585462205"
      ]
     },
     "execution_count": 46,
     "metadata": {},
     "output_type": "execute_result"
    }
   ],
   "source": [
    "df_full_train.filter(pl.col(\"monthlycharges\") > 50)[\"churn\"].mean()"
   ]
  },
  {
   "cell_type": "code",
   "execution_count": 47,
   "metadata": {},
   "outputs": [
    {
     "data": {
      "text/html": [
       "<div><style>\n",
       ".dataframe > thead > tr,\n",
       ".dataframe > tbody > tr {\n",
       "  text-align: right;\n",
       "  white-space: pre-wrap;\n",
       "}\n",
       "</style>\n",
       "<small>shape: (3, 3)</small><table border=\"1\" class=\"dataframe\"><thead><tr><th>tenure</th><th>monthlycharges</th><th>totalcharges</th></tr><tr><td>f64</td><td>f64</td><td>f64</td></tr></thead><tbody><tr><td>1.0</td><td>0.251072</td><td>0.828268</td></tr><tr><td>0.251072</td><td>1.0</td><td>0.650913</td></tr><tr><td>0.828268</td><td>0.650913</td><td>1.0</td></tr></tbody></table></div>"
      ],
      "text/plain": [
       "shape: (3, 3)\n",
       "┌──────────┬────────────────┬──────────────┐\n",
       "│ tenure   ┆ monthlycharges ┆ totalcharges │\n",
       "│ ---      ┆ ---            ┆ ---          │\n",
       "│ f64      ┆ f64            ┆ f64          │\n",
       "╞══════════╪════════════════╪══════════════╡\n",
       "│ 1.0      ┆ 0.251072       ┆ 0.828268     │\n",
       "│ 0.251072 ┆ 1.0            ┆ 0.650913     │\n",
       "│ 0.828268 ┆ 0.650913       ┆ 1.0          │\n",
       "└──────────┴────────────────┴──────────────┘"
      ]
     },
     "execution_count": 47,
     "metadata": {},
     "output_type": "execute_result"
    }
   ],
   "source": [
    "df_full_train.select(pl.col(numerical)).corr()"
   ]
  },
  {
   "cell_type": "markdown",
   "metadata": {},
   "source": [
    "## 7. One-hot encoding\n"
   ]
  },
  {
   "cell_type": "code",
   "execution_count": 48,
   "metadata": {},
   "outputs": [],
   "source": [
    "train_dicts = df_train.select(pl.col(categorical + numerical)).to_dicts()"
   ]
  },
  {
   "cell_type": "code",
   "execution_count": 49,
   "metadata": {},
   "outputs": [],
   "source": [
    "dv = DictVectorizer(sparse=False)"
   ]
  },
  {
   "cell_type": "code",
   "execution_count": 50,
   "metadata": {},
   "outputs": [],
   "source": [
    "X_train = dv.fit_transform(train_dicts)"
   ]
  },
  {
   "cell_type": "code",
   "execution_count": 51,
   "metadata": {},
   "outputs": [
    {
     "data": {
      "text/plain": [
       "['contract=month_to_month',\n",
       " 'contract=one_year',\n",
       " 'contract=two_year',\n",
       " 'dependents=no',\n",
       " 'dependents=yes',\n",
       " 'deviceprotection=no',\n",
       " 'deviceprotection=no_internet_service',\n",
       " 'deviceprotection=yes',\n",
       " 'gender=female',\n",
       " 'gender=male']"
      ]
     },
     "execution_count": 51,
     "metadata": {},
     "output_type": "execute_result"
    }
   ],
   "source": [
    "dv.feature_names_[:10]"
   ]
  },
  {
   "cell_type": "code",
   "execution_count": 52,
   "metadata": {},
   "outputs": [],
   "source": [
    "val_dicts = df_val.select(pl.col(categorical + numerical)).to_dicts()"
   ]
  },
  {
   "cell_type": "code",
   "execution_count": 53,
   "metadata": {},
   "outputs": [],
   "source": [
    "X_val = dv.transform(val_dicts)"
   ]
  },
  {
   "cell_type": "markdown",
   "metadata": {},
   "source": [
    "## 8. Logistic regression\n"
   ]
  },
  {
   "cell_type": "code",
   "execution_count": 54,
   "metadata": {},
   "outputs": [],
   "source": [
    "def sigmoid(z):\n",
    "    return 1 / (1 + np.exp(-z))"
   ]
  },
  {
   "cell_type": "code",
   "execution_count": 55,
   "metadata": {},
   "outputs": [],
   "source": [
    "z = np.linspace(-5, 5, 51)"
   ]
  },
  {
   "cell_type": "code",
   "execution_count": 56,
   "metadata": {},
   "outputs": [
    {
     "data": {
      "text/plain": [
       "array([0.00669285, 0.00816257, 0.0099518 , 0.01212843, 0.01477403,\n",
       "       0.01798621, 0.02188127, 0.02659699, 0.03229546, 0.03916572,\n",
       "       0.04742587, 0.05732418, 0.06913842, 0.0831727 , 0.09975049,\n",
       "       0.11920292, 0.14185106, 0.16798161, 0.19781611, 0.23147522,\n",
       "       0.26894142, 0.31002552, 0.35434369, 0.40131234, 0.450166  ,\n",
       "       0.5       , 0.549834  , 0.59868766, 0.64565631, 0.68997448,\n",
       "       0.73105858, 0.76852478, 0.80218389, 0.83201839, 0.85814894,\n",
       "       0.88079708, 0.90024951, 0.9168273 , 0.93086158, 0.94267582,\n",
       "       0.95257413, 0.96083428, 0.96770454, 0.97340301, 0.97811873,\n",
       "       0.98201379, 0.98522597, 0.98787157, 0.9900482 , 0.99183743,\n",
       "       0.99330715])"
      ]
     },
     "execution_count": 56,
     "metadata": {},
     "output_type": "execute_result"
    }
   ],
   "source": [
    "sigmoid(z)"
   ]
  },
  {
   "cell_type": "code",
   "execution_count": 57,
   "metadata": {},
   "outputs": [
    {
     "data": {
      "text/html": [
       "\n",
       "<style>\n",
       "  #altair-viz-bcedb58d24704c3abd80173ab956f885.vega-embed {\n",
       "    width: 100%;\n",
       "    display: flex;\n",
       "  }\n",
       "\n",
       "  #altair-viz-bcedb58d24704c3abd80173ab956f885.vega-embed details,\n",
       "  #altair-viz-bcedb58d24704c3abd80173ab956f885.vega-embed details summary {\n",
       "    position: relative;\n",
       "  }\n",
       "</style>\n",
       "<div id=\"altair-viz-bcedb58d24704c3abd80173ab956f885\"></div>\n",
       "<script type=\"text/javascript\">\n",
       "  var VEGA_DEBUG = (typeof VEGA_DEBUG == \"undefined\") ? {} : VEGA_DEBUG;\n",
       "  (function(spec, embedOpt){\n",
       "    let outputDiv = document.currentScript.previousElementSibling;\n",
       "    if (outputDiv.id !== \"altair-viz-bcedb58d24704c3abd80173ab956f885\") {\n",
       "      outputDiv = document.getElementById(\"altair-viz-bcedb58d24704c3abd80173ab956f885\");\n",
       "    }\n",
       "    const paths = {\n",
       "      \"vega\": \"https://cdn.jsdelivr.net/npm/vega@5?noext\",\n",
       "      \"vega-lib\": \"https://cdn.jsdelivr.net/npm/vega-lib?noext\",\n",
       "      \"vega-lite\": \"https://cdn.jsdelivr.net/npm/vega-lite@5.20.1?noext\",\n",
       "      \"vega-embed\": \"https://cdn.jsdelivr.net/npm/vega-embed@6?noext\",\n",
       "    };\n",
       "\n",
       "    function maybeLoadScript(lib, version) {\n",
       "      var key = `${lib.replace(\"-\", \"\")}_version`;\n",
       "      return (VEGA_DEBUG[key] == version) ?\n",
       "        Promise.resolve(paths[lib]) :\n",
       "        new Promise(function(resolve, reject) {\n",
       "          var s = document.createElement('script');\n",
       "          document.getElementsByTagName(\"head\")[0].appendChild(s);\n",
       "          s.async = true;\n",
       "          s.onload = () => {\n",
       "            VEGA_DEBUG[key] = version;\n",
       "            return resolve(paths[lib]);\n",
       "          };\n",
       "          s.onerror = () => reject(`Error loading script: ${paths[lib]}`);\n",
       "          s.src = paths[lib];\n",
       "        });\n",
       "    }\n",
       "\n",
       "    function showError(err) {\n",
       "      outputDiv.innerHTML = `<div class=\"error\" style=\"color:red;\">${err}</div>`;\n",
       "      throw err;\n",
       "    }\n",
       "\n",
       "    function displayChart(vegaEmbed) {\n",
       "      vegaEmbed(outputDiv, spec, embedOpt)\n",
       "        .catch(err => showError(`Javascript Error: ${err.message}<br>This usually means there's a typo in your chart specification. See the javascript console for the full traceback.`));\n",
       "    }\n",
       "\n",
       "    if(typeof define === \"function\" && define.amd) {\n",
       "      requirejs.config({paths});\n",
       "      require([\"vega-embed\"], displayChart, err => showError(`Error loading script: ${err.message}`));\n",
       "    } else {\n",
       "      maybeLoadScript(\"vega\", \"5\")\n",
       "        .then(() => maybeLoadScript(\"vega-lite\", \"5.20.1\"))\n",
       "        .then(() => maybeLoadScript(\"vega-embed\", \"6\"))\n",
       "        .catch(showError)\n",
       "        .then(() => displayChart(vegaEmbed));\n",
       "    }\n",
       "  })({\"config\": {\"view\": {\"continuousWidth\": 300, \"continuousHeight\": 300}}, \"data\": {\"name\": \"data-7b709e00665eb19addadd2e08b50a201\"}, \"mark\": {\"type\": \"line\"}, \"encoding\": {\"x\": {\"field\": \"value\", \"type\": \"quantitative\"}, \"y\": {\"field\": \"sigmoid\", \"type\": \"quantitative\"}}, \"$schema\": \"https://vega.github.io/schema/vega-lite/v5.20.1.json\", \"datasets\": {\"data-7b709e00665eb19addadd2e08b50a201\": [{\"value\": -5.0, \"sigmoid\": 0.0066928509242848554}, {\"value\": -4.8, \"sigmoid\": 0.008162571153159897}, {\"value\": -4.6, \"sigmoid\": 0.009951801866904324}, {\"value\": -4.4, \"sigmoid\": 0.012128434984274237}, {\"value\": -4.2, \"sigmoid\": 0.014774031693273055}, {\"value\": -4.0, \"sigmoid\": 0.01798620996209156}, {\"value\": -3.8, \"sigmoid\": 0.021881270936130476}, {\"value\": -3.5999999999999996, \"sigmoid\": 0.026596993576865863}, {\"value\": -3.4, \"sigmoid\": 0.032295464698450516}, {\"value\": -3.2, \"sigmoid\": 0.039165722796764356}, {\"value\": -3.0, \"sigmoid\": 0.04742587317756678}, {\"value\": -2.8, \"sigmoid\": 0.057324175898868755}, {\"value\": -2.5999999999999996, \"sigmoid\": 0.06913842034334684}, {\"value\": -2.4, \"sigmoid\": 0.08317269649392238}, {\"value\": -2.1999999999999997, \"sigmoid\": 0.09975048911968518}, {\"value\": -2.0, \"sigmoid\": 0.11920292202211755}, {\"value\": -1.7999999999999998, \"sigmoid\": 0.14185106490048782}, {\"value\": -1.5999999999999996, \"sigmoid\": 0.16798161486607557}, {\"value\": -1.4, \"sigmoid\": 0.19781611144141825}, {\"value\": -1.1999999999999997, \"sigmoid\": 0.23147521650098238}, {\"value\": -1.0, \"sigmoid\": 0.2689414213699951}, {\"value\": -0.7999999999999998, \"sigmoid\": 0.31002551887238755}, {\"value\": -0.5999999999999996, \"sigmoid\": 0.35434369377420466}, {\"value\": -0.39999999999999947, \"sigmoid\": 0.40131233988754816}, {\"value\": -0.1999999999999993, \"sigmoid\": 0.4501660026875223}, {\"value\": 0.0, \"sigmoid\": 0.5}, {\"value\": 0.20000000000000018, \"sigmoid\": 0.549833997312478}, {\"value\": 0.40000000000000036, \"sigmoid\": 0.5986876601124521}, {\"value\": 0.6000000000000005, \"sigmoid\": 0.6456563062257956}, {\"value\": 0.8000000000000007, \"sigmoid\": 0.6899744811276126}, {\"value\": 1.0, \"sigmoid\": 0.7310585786300049}, {\"value\": 1.2000000000000002, \"sigmoid\": 0.7685247834990178}, {\"value\": 1.4000000000000004, \"sigmoid\": 0.8021838885585818}, {\"value\": 1.6000000000000005, \"sigmoid\": 0.8320183851339246}, {\"value\": 1.8000000000000007, \"sigmoid\": 0.8581489350995123}, {\"value\": 2.0, \"sigmoid\": 0.8807970779778823}, {\"value\": 2.2, \"sigmoid\": 0.9002495108803148}, {\"value\": 2.4000000000000004, \"sigmoid\": 0.9168273035060777}, {\"value\": 2.6000000000000005, \"sigmoid\": 0.9308615796566533}, {\"value\": 2.8000000000000007, \"sigmoid\": 0.9426758241011313}, {\"value\": 3.0, \"sigmoid\": 0.9525741268224334}, {\"value\": 3.200000000000001, \"sigmoid\": 0.9608342772032357}, {\"value\": 3.4000000000000004, \"sigmoid\": 0.9677045353015495}, {\"value\": 3.5999999999999996, \"sigmoid\": 0.973403006423134}, {\"value\": 3.8000000000000007, \"sigmoid\": 0.9781187290638694}, {\"value\": 4.0, \"sigmoid\": 0.9820137900379085}, {\"value\": 4.200000000000001, \"sigmoid\": 0.9852259683067269}, {\"value\": 4.4, \"sigmoid\": 0.9878715650157257}, {\"value\": 4.600000000000001, \"sigmoid\": 0.9900481981330957}, {\"value\": 4.800000000000001, \"sigmoid\": 0.9918374288468401}, {\"value\": 5.0, \"sigmoid\": 0.9933071490757153}]}}, {\"mode\": \"vega-lite\"});\n",
       "</script>"
      ],
      "text/plain": [
       "alt.Chart(...)"
      ]
     },
     "execution_count": 57,
     "metadata": {},
     "output_type": "execute_result"
    }
   ],
   "source": [
    "alt.Chart(pl.DataFrame({\"value\": z, \"sigmoid\": sigmoid(z)})).mark_line().encode(\n",
    "    alt.X(\"value\"), alt.Y(\"sigmoid\")\n",
    ")"
   ]
  },
  {
   "cell_type": "code",
   "execution_count": 58,
   "metadata": {},
   "outputs": [],
   "source": [
    "def linear_regression(xi, w0, w):\n",
    "    result = w0\n",
    "\n",
    "    for j in range(len(w)):\n",
    "        result = result + xi[j] * w[j]\n",
    "\n",
    "    return result"
   ]
  },
  {
   "cell_type": "code",
   "execution_count": 59,
   "metadata": {},
   "outputs": [],
   "source": [
    "def logistic_regression(xi, w0, w):\n",
    "    score = w0\n",
    "\n",
    "    for j in range(len(w)):\n",
    "        score = score + xi[j] * w[j]\n",
    "\n",
    "    result = sigmoid(score)\n",
    "    return result"
   ]
  },
  {
   "cell_type": "code",
   "execution_count": null,
   "metadata": {},
   "outputs": [],
   "source": []
  }
 ],
 "metadata": {
  "kernelspec": {
   "display_name": ".venv",
   "language": "python",
   "name": "python3"
  },
  "language_info": {
   "codemirror_mode": {
    "name": "ipython",
    "version": 3
   },
   "file_extension": ".py",
   "mimetype": "text/x-python",
   "name": "python",
   "nbconvert_exporter": "python",
   "pygments_lexer": "ipython3",
   "version": "3.12.6"
  }
 },
 "nbformat": 4,
 "nbformat_minor": 2
}
