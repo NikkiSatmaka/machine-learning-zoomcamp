{
 "cells": [
  {
   "cell_type": "markdown",
   "metadata": {},
   "source": [
    "# Module 03\n"
   ]
  },
  {
   "cell_type": "code",
   "execution_count": 1,
   "metadata": {},
   "outputs": [],
   "source": [
    "from pathlib import Path\n",
    "\n",
    "import altair as alt\n",
    "import numpy as np\n",
    "import pandas as pd\n",
    "import polars as pl\n",
    "import polars.selectors as cs\n",
    "\n",
    "from ml_zoomcamp.utils import clean_column_names, load_data\n",
    "\n",
    "alt.data_transformers.disable_max_rows()\n",
    "\n",
    "ROOT_DIR = Path.cwd().parent\n",
    "DATA_DIR = ROOT_DIR.joinpath(\"data\")"
   ]
  },
  {
   "cell_type": "markdown",
   "metadata": {},
   "source": [
    "## 1. Data Preparation\n"
   ]
  },
  {
   "cell_type": "code",
   "execution_count": 2,
   "metadata": {},
   "outputs": [],
   "source": [
    "csv_uri = \"https://raw.githubusercontent.com/alexeygrigorev/mlbookcamp-code/master/chapter-03-churn-prediction/WA_Fn-UseC_-Telco-Customer-Churn.csv\"\n",
    "df = load_data(csv_uri, DATA_DIR)\n",
    "df = clean_column_names(df)"
   ]
  },
  {
   "cell_type": "code",
   "execution_count": 3,
   "metadata": {},
   "outputs": [
    {
     "data": {
      "text/plain": [
       "Schema([('customerid', String),\n",
       "        ('gender', String),\n",
       "        ('seniorcitizen', Int64),\n",
       "        ('partner', String),\n",
       "        ('dependents', String),\n",
       "        ('tenure', Int64),\n",
       "        ('phoneservice', String),\n",
       "        ('multiplelines', String),\n",
       "        ('internetservice', String),\n",
       "        ('onlinesecurity', String),\n",
       "        ('onlinebackup', String),\n",
       "        ('deviceprotection', String),\n",
       "        ('techsupport', String),\n",
       "        ('streamingtv', String),\n",
       "        ('streamingmovies', String),\n",
       "        ('contract', String),\n",
       "        ('paperlessbilling', String),\n",
       "        ('paymentmethod', String),\n",
       "        ('monthlycharges', Float64),\n",
       "        ('totalcharges', Float64),\n",
       "        ('churn', String)])"
      ]
     },
     "execution_count": 3,
     "metadata": {},
     "output_type": "execute_result"
    }
   ],
   "source": [
    "df.schema"
   ]
  },
  {
   "cell_type": "code",
   "execution_count": 4,
   "metadata": {},
   "outputs": [
    {
     "name": "stdout",
     "output_type": "stream",
     "text": [
      "Rows: 7043\n",
      "Columns: 21\n",
      "$ customerid       <str> '7590-VHVEG', '5575-GNVDE', '3668-QPYBK', '7795-CFOCW', '9237-HQITU', '9305-CDSKC', '1452-KIOVK', '6713-OKOMC', '7892-POOKP', '6388-TABGU'\n",
      "$ gender           <str> 'Female', 'Male', 'Male', 'Male', 'Female', 'Female', 'Male', 'Female', 'Female', 'Male'\n",
      "$ seniorcitizen    <i64> 0, 0, 0, 0, 0, 0, 0, 0, 0, 0\n",
      "$ partner          <str> 'Yes', 'No', 'No', 'No', 'No', 'No', 'No', 'No', 'Yes', 'No'\n",
      "$ dependents       <str> 'No', 'No', 'No', 'No', 'No', 'No', 'Yes', 'No', 'No', 'Yes'\n",
      "$ tenure           <i64> 1, 34, 2, 45, 2, 8, 22, 10, 28, 62\n",
      "$ phoneservice     <str> 'No', 'Yes', 'Yes', 'No', 'Yes', 'Yes', 'Yes', 'No', 'Yes', 'Yes'\n",
      "$ multiplelines    <str> 'No phone service', 'No', 'No', 'No phone service', 'No', 'Yes', 'Yes', 'No phone service', 'Yes', 'No'\n",
      "$ internetservice  <str> 'DSL', 'DSL', 'DSL', 'DSL', 'Fiber optic', 'Fiber optic', 'Fiber optic', 'DSL', 'Fiber optic', 'DSL'\n",
      "$ onlinesecurity   <str> 'No', 'Yes', 'Yes', 'Yes', 'No', 'No', 'No', 'Yes', 'No', 'Yes'\n",
      "$ onlinebackup     <str> 'Yes', 'No', 'Yes', 'No', 'No', 'No', 'Yes', 'No', 'No', 'Yes'\n",
      "$ deviceprotection <str> 'No', 'Yes', 'No', 'Yes', 'No', 'Yes', 'No', 'No', 'Yes', 'No'\n",
      "$ techsupport      <str> 'No', 'No', 'No', 'Yes', 'No', 'No', 'No', 'No', 'Yes', 'No'\n",
      "$ streamingtv      <str> 'No', 'No', 'No', 'No', 'No', 'Yes', 'Yes', 'No', 'Yes', 'No'\n",
      "$ streamingmovies  <str> 'No', 'No', 'No', 'No', 'No', 'Yes', 'No', 'No', 'Yes', 'No'\n",
      "$ contract         <str> 'Month-to-month', 'One year', 'Month-to-month', 'One year', 'Month-to-month', 'Month-to-month', 'Month-to-month', 'Month-to-month', 'Month-to-month', 'One year'\n",
      "$ paperlessbilling <str> 'Yes', 'No', 'Yes', 'No', 'Yes', 'Yes', 'Yes', 'No', 'Yes', 'No'\n",
      "$ paymentmethod    <str> 'Electronic check', 'Mailed check', 'Mailed check', 'Bank transfer (automatic)', 'Electronic check', 'Electronic check', 'Credit card (automatic)', 'Mailed check', 'Electronic check', 'Bank transfer (automatic)'\n",
      "$ monthlycharges   <f64> 29.85, 56.95, 53.85, 42.3, 70.7, 99.65, 89.1, 29.75, 104.8, 56.15\n",
      "$ totalcharges     <f64> 29.85, 1889.5, 108.15, 1840.75, 151.65, 820.5, 1949.4, 301.9, 3046.05, 3487.95\n",
      "$ churn            <str> 'No', 'No', 'Yes', 'No', 'Yes', 'Yes', 'No', 'No', 'Yes', 'No'\n",
      "\n"
     ]
    }
   ],
   "source": [
    "df.glimpse()"
   ]
  },
  {
   "cell_type": "code",
   "execution_count": 6,
   "metadata": {},
   "outputs": [
    {
     "data": {
      "text/html": [
       "<div><style>\n",
       ".dataframe > thead > tr,\n",
       ".dataframe > tbody > tr {\n",
       "  text-align: right;\n",
       "  white-space: pre-wrap;\n",
       "}\n",
       "</style>\n",
       "<small>shape: (9, 22)</small><table border=\"1\" class=\"dataframe\"><thead><tr><th>statistic</th><th>customerid</th><th>gender</th><th>seniorcitizen</th><th>partner</th><th>dependents</th><th>tenure</th><th>phoneservice</th><th>multiplelines</th><th>internetservice</th><th>onlinesecurity</th><th>onlinebackup</th><th>deviceprotection</th><th>techsupport</th><th>streamingtv</th><th>streamingmovies</th><th>contract</th><th>paperlessbilling</th><th>paymentmethod</th><th>monthlycharges</th><th>totalcharges</th><th>churn</th></tr><tr><td>str</td><td>str</td><td>str</td><td>f64</td><td>str</td><td>str</td><td>f64</td><td>str</td><td>str</td><td>str</td><td>str</td><td>str</td><td>str</td><td>str</td><td>str</td><td>str</td><td>str</td><td>str</td><td>str</td><td>f64</td><td>f64</td><td>str</td></tr></thead><tbody><tr><td>&quot;count&quot;</td><td>&quot;7043&quot;</td><td>&quot;7043&quot;</td><td>7043.0</td><td>&quot;7043&quot;</td><td>&quot;7043&quot;</td><td>7043.0</td><td>&quot;7043&quot;</td><td>&quot;7043&quot;</td><td>&quot;7043&quot;</td><td>&quot;7043&quot;</td><td>&quot;7043&quot;</td><td>&quot;7043&quot;</td><td>&quot;7043&quot;</td><td>&quot;7043&quot;</td><td>&quot;7043&quot;</td><td>&quot;7043&quot;</td><td>&quot;7043&quot;</td><td>&quot;7043&quot;</td><td>7043.0</td><td>7032.0</td><td>&quot;7043&quot;</td></tr><tr><td>&quot;null_count&quot;</td><td>&quot;0&quot;</td><td>&quot;0&quot;</td><td>0.0</td><td>&quot;0&quot;</td><td>&quot;0&quot;</td><td>0.0</td><td>&quot;0&quot;</td><td>&quot;0&quot;</td><td>&quot;0&quot;</td><td>&quot;0&quot;</td><td>&quot;0&quot;</td><td>&quot;0&quot;</td><td>&quot;0&quot;</td><td>&quot;0&quot;</td><td>&quot;0&quot;</td><td>&quot;0&quot;</td><td>&quot;0&quot;</td><td>&quot;0&quot;</td><td>0.0</td><td>11.0</td><td>&quot;0&quot;</td></tr><tr><td>&quot;mean&quot;</td><td>null</td><td>null</td><td>0.162147</td><td>null</td><td>null</td><td>32.371149</td><td>null</td><td>null</td><td>null</td><td>null</td><td>null</td><td>null</td><td>null</td><td>null</td><td>null</td><td>null</td><td>null</td><td>null</td><td>64.761692</td><td>2283.300441</td><td>null</td></tr><tr><td>&quot;std&quot;</td><td>null</td><td>null</td><td>0.368612</td><td>null</td><td>null</td><td>24.559481</td><td>null</td><td>null</td><td>null</td><td>null</td><td>null</td><td>null</td><td>null</td><td>null</td><td>null</td><td>null</td><td>null</td><td>null</td><td>30.090047</td><td>2266.771362</td><td>null</td></tr><tr><td>&quot;min&quot;</td><td>&quot;0002-ORFBO&quot;</td><td>&quot;Female&quot;</td><td>0.0</td><td>&quot;No&quot;</td><td>&quot;No&quot;</td><td>0.0</td><td>&quot;No&quot;</td><td>&quot;No&quot;</td><td>&quot;DSL&quot;</td><td>&quot;No&quot;</td><td>&quot;No&quot;</td><td>&quot;No&quot;</td><td>&quot;No&quot;</td><td>&quot;No&quot;</td><td>&quot;No&quot;</td><td>&quot;Month-to-month&quot;</td><td>&quot;No&quot;</td><td>&quot;Bank transfer (automatic)&quot;</td><td>18.25</td><td>18.8</td><td>&quot;No&quot;</td></tr><tr><td>&quot;25%&quot;</td><td>null</td><td>null</td><td>0.0</td><td>null</td><td>null</td><td>9.0</td><td>null</td><td>null</td><td>null</td><td>null</td><td>null</td><td>null</td><td>null</td><td>null</td><td>null</td><td>null</td><td>null</td><td>null</td><td>35.5</td><td>401.5</td><td>null</td></tr><tr><td>&quot;50%&quot;</td><td>null</td><td>null</td><td>0.0</td><td>null</td><td>null</td><td>29.0</td><td>null</td><td>null</td><td>null</td><td>null</td><td>null</td><td>null</td><td>null</td><td>null</td><td>null</td><td>null</td><td>null</td><td>null</td><td>70.35</td><td>1397.65</td><td>null</td></tr><tr><td>&quot;75%&quot;</td><td>null</td><td>null</td><td>0.0</td><td>null</td><td>null</td><td>55.0</td><td>null</td><td>null</td><td>null</td><td>null</td><td>null</td><td>null</td><td>null</td><td>null</td><td>null</td><td>null</td><td>null</td><td>null</td><td>89.85</td><td>3794.5</td><td>null</td></tr><tr><td>&quot;max&quot;</td><td>&quot;9995-HOTOH&quot;</td><td>&quot;Male&quot;</td><td>1.0</td><td>&quot;Yes&quot;</td><td>&quot;Yes&quot;</td><td>72.0</td><td>&quot;Yes&quot;</td><td>&quot;Yes&quot;</td><td>&quot;No&quot;</td><td>&quot;Yes&quot;</td><td>&quot;Yes&quot;</td><td>&quot;Yes&quot;</td><td>&quot;Yes&quot;</td><td>&quot;Yes&quot;</td><td>&quot;Yes&quot;</td><td>&quot;Two year&quot;</td><td>&quot;Yes&quot;</td><td>&quot;Mailed check&quot;</td><td>118.75</td><td>8684.8</td><td>&quot;Yes&quot;</td></tr></tbody></table></div>"
      ],
      "text/plain": [
       "shape: (9, 22)\n",
       "┌────────────┬────────────┬────────┬────────────┬───┬────────────┬────────────┬────────────┬───────┐\n",
       "│ statistic  ┆ customerid ┆ gender ┆ seniorciti ┆ … ┆ paymentmet ┆ monthlycha ┆ totalcharg ┆ churn │\n",
       "│ ---        ┆ ---        ┆ ---    ┆ zen        ┆   ┆ hod        ┆ rges       ┆ es         ┆ ---   │\n",
       "│ str        ┆ str        ┆ str    ┆ ---        ┆   ┆ ---        ┆ ---        ┆ ---        ┆ str   │\n",
       "│            ┆            ┆        ┆ f64        ┆   ┆ str        ┆ f64        ┆ f64        ┆       │\n",
       "╞════════════╪════════════╪════════╪════════════╪═══╪════════════╪════════════╪════════════╪═══════╡\n",
       "│ count      ┆ 7043       ┆ 7043   ┆ 7043.0     ┆ … ┆ 7043       ┆ 7043.0     ┆ 7032.0     ┆ 7043  │\n",
       "│ null_count ┆ 0          ┆ 0      ┆ 0.0        ┆ … ┆ 0          ┆ 0.0        ┆ 11.0       ┆ 0     │\n",
       "│ mean       ┆ null       ┆ null   ┆ 0.162147   ┆ … ┆ null       ┆ 64.761692  ┆ 2283.30044 ┆ null  │\n",
       "│            ┆            ┆        ┆            ┆   ┆            ┆            ┆ 1          ┆       │\n",
       "│ std        ┆ null       ┆ null   ┆ 0.368612   ┆ … ┆ null       ┆ 30.090047  ┆ 2266.77136 ┆ null  │\n",
       "│            ┆            ┆        ┆            ┆   ┆            ┆            ┆ 2          ┆       │\n",
       "│ min        ┆ 0002-ORFBO ┆ Female ┆ 0.0        ┆ … ┆ Bank       ┆ 18.25      ┆ 18.8       ┆ No    │\n",
       "│            ┆            ┆        ┆            ┆   ┆ transfer   ┆            ┆            ┆       │\n",
       "│            ┆            ┆        ┆            ┆   ┆ (automatic ┆            ┆            ┆       │\n",
       "│            ┆            ┆        ┆            ┆   ┆ )          ┆            ┆            ┆       │\n",
       "│ 25%        ┆ null       ┆ null   ┆ 0.0        ┆ … ┆ null       ┆ 35.5       ┆ 401.5      ┆ null  │\n",
       "│ 50%        ┆ null       ┆ null   ┆ 0.0        ┆ … ┆ null       ┆ 70.35      ┆ 1397.65    ┆ null  │\n",
       "│ 75%        ┆ null       ┆ null   ┆ 0.0        ┆ … ┆ null       ┆ 89.85      ┆ 3794.5     ┆ null  │\n",
       "│ max        ┆ 9995-HOTOH ┆ Male   ┆ 1.0        ┆ … ┆ Mailed     ┆ 118.75     ┆ 8684.8     ┆ Yes   │\n",
       "│            ┆            ┆        ┆            ┆   ┆ check      ┆            ┆            ┆       │\n",
       "└────────────┴────────────┴────────┴────────────┴───┴────────────┴────────────┴────────────┴───────┘"
      ]
     },
     "execution_count": 6,
     "metadata": {},
     "output_type": "execute_result"
    }
   ],
   "source": [
    "df.describe()"
   ]
  },
  {
   "cell_type": "code",
   "execution_count": 14,
   "metadata": {},
   "outputs": [
    {
     "data": {
      "text/html": [
       "<div><style>\n",
       ".dataframe > thead > tr,\n",
       ".dataframe > tbody > tr {\n",
       "  text-align: right;\n",
       "  white-space: pre-wrap;\n",
       "}\n",
       "</style>\n",
       "<small>shape: (1, 2)</small><table border=\"1\" class=\"dataframe\"><thead><tr><th>column</th><th>null_count</th></tr><tr><td>str</td><td>u32</td></tr></thead><tbody><tr><td>&quot;totalcharges&quot;</td><td>11</td></tr></tbody></table></div>"
      ],
      "text/plain": [
       "shape: (1, 2)\n",
       "┌──────────────┬────────────┐\n",
       "│ column       ┆ null_count │\n",
       "│ ---          ┆ ---        │\n",
       "│ str          ┆ u32        │\n",
       "╞══════════════╪════════════╡\n",
       "│ totalcharges ┆ 11         │\n",
       "└──────────────┴────────────┘"
      ]
     },
     "execution_count": 14,
     "metadata": {},
     "output_type": "execute_result"
    }
   ],
   "source": [
    "df.null_count().transpose(include_header=True, column_names=[\"null_count\"]).filter(\n",
    "    pl.col(\"null_count\") > 0\n",
    ").sort(pl.col(\"null_count\"), descending=True)"
   ]
  },
  {
   "cell_type": "code",
   "execution_count": 17,
   "metadata": {},
   "outputs": [],
   "source": [
    "df = df.with_columns(pl.col(\"totalcharges\").fill_null(0))"
   ]
  }
 ],
 "metadata": {
  "kernelspec": {
   "display_name": ".venv",
   "language": "python",
   "name": "python3"
  },
  "language_info": {
   "codemirror_mode": {
    "name": "ipython",
    "version": 3
   },
   "file_extension": ".py",
   "mimetype": "text/x-python",
   "name": "python",
   "nbconvert_exporter": "python",
   "pygments_lexer": "ipython3",
   "version": "3.12.5"
  }
 },
 "nbformat": 4,
 "nbformat_minor": 2
}
