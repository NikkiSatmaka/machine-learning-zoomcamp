{
 "cells": [
  {
   "cell_type": "markdown",
   "metadata": {},
   "source": [
    "# Module 03\n"
   ]
  },
  {
   "cell_type": "code",
   "execution_count": 1,
   "metadata": {},
   "outputs": [],
   "source": [
    "from pathlib import Path\n",
    "\n",
    "import altair as alt\n",
    "import numpy as np\n",
    "import polars as pl\n",
    "import polars.selectors as cs\n",
    "from sklearn.model_selection import train_test_split\n",
    "\n",
    "from ml_zoomcamp.utils import clean_column_names, load_data\n",
    "\n",
    "alt.data_transformers.disable_max_rows()\n",
    "\n",
    "ROOT_DIR = Path.cwd().parent\n",
    "DATA_DIR = ROOT_DIR.joinpath(\"data\")"
   ]
  },
  {
   "cell_type": "markdown",
   "metadata": {},
   "source": [
    "## 1. Data Preparation\n"
   ]
  },
  {
   "cell_type": "code",
   "execution_count": 2,
   "metadata": {},
   "outputs": [],
   "source": [
    "csv_uri = \"https://raw.githubusercontent.com/alexeygrigorev/mlbookcamp-code/master/chapter-03-churn-prediction/WA_Fn-UseC_-Telco-Customer-Churn.csv\"\n",
    "df = load_data(csv_uri, DATA_DIR)\n",
    "df = clean_column_names(df)\n",
    "\n",
    "df = df.with_columns(\n",
    "    cs.string()\n",
    "    .str.to_lowercase()\n",
    "    .str.replace_all(r\"[^\\w\\s-]\", \"\")\n",
    "    .str.replace_all(r\"\\s+|-+\", \"_\")\n",
    ")"
   ]
  },
  {
   "cell_type": "code",
   "execution_count": 3,
   "metadata": {},
   "outputs": [
    {
     "data": {
      "text/plain": [
       "Schema([('customerid', String),\n",
       "        ('gender', String),\n",
       "        ('seniorcitizen', Int64),\n",
       "        ('partner', String),\n",
       "        ('dependents', String),\n",
       "        ('tenure', Int64),\n",
       "        ('phoneservice', String),\n",
       "        ('multiplelines', String),\n",
       "        ('internetservice', String),\n",
       "        ('onlinesecurity', String),\n",
       "        ('onlinebackup', String),\n",
       "        ('deviceprotection', String),\n",
       "        ('techsupport', String),\n",
       "        ('streamingtv', String),\n",
       "        ('streamingmovies', String),\n",
       "        ('contract', String),\n",
       "        ('paperlessbilling', String),\n",
       "        ('paymentmethod', String),\n",
       "        ('monthlycharges', Float64),\n",
       "        ('totalcharges', Float64),\n",
       "        ('churn', String)])"
      ]
     },
     "execution_count": 3,
     "metadata": {},
     "output_type": "execute_result"
    }
   ],
   "source": [
    "df.schema"
   ]
  },
  {
   "cell_type": "code",
   "execution_count": 4,
   "metadata": {},
   "outputs": [
    {
     "name": "stdout",
     "output_type": "stream",
     "text": [
      "Rows: 7043\n",
      "Columns: 21\n",
      "$ customerid       <str> '7590_vhveg', '5575_gnvde', '3668_qpybk', '7795_cfocw', '9237_hqitu', '9305_cdskc', '1452_kiovk', '6713_okomc', '7892_pookp', '6388_tabgu'\n",
      "$ gender           <str> 'female', 'male', 'male', 'male', 'female', 'female', 'male', 'female', 'female', 'male'\n",
      "$ seniorcitizen    <i64> 0, 0, 0, 0, 0, 0, 0, 0, 0, 0\n",
      "$ partner          <str> 'yes', 'no', 'no', 'no', 'no', 'no', 'no', 'no', 'yes', 'no'\n",
      "$ dependents       <str> 'no', 'no', 'no', 'no', 'no', 'no', 'yes', 'no', 'no', 'yes'\n",
      "$ tenure           <i64> 1, 34, 2, 45, 2, 8, 22, 10, 28, 62\n",
      "$ phoneservice     <str> 'no', 'yes', 'yes', 'no', 'yes', 'yes', 'yes', 'no', 'yes', 'yes'\n",
      "$ multiplelines    <str> 'no_phone_service', 'no', 'no', 'no_phone_service', 'no', 'yes', 'yes', 'no_phone_service', 'yes', 'no'\n",
      "$ internetservice  <str> 'dsl', 'dsl', 'dsl', 'dsl', 'fiber_optic', 'fiber_optic', 'fiber_optic', 'dsl', 'fiber_optic', 'dsl'\n",
      "$ onlinesecurity   <str> 'no', 'yes', 'yes', 'yes', 'no', 'no', 'no', 'yes', 'no', 'yes'\n",
      "$ onlinebackup     <str> 'yes', 'no', 'yes', 'no', 'no', 'no', 'yes', 'no', 'no', 'yes'\n",
      "$ deviceprotection <str> 'no', 'yes', 'no', 'yes', 'no', 'yes', 'no', 'no', 'yes', 'no'\n",
      "$ techsupport      <str> 'no', 'no', 'no', 'yes', 'no', 'no', 'no', 'no', 'yes', 'no'\n",
      "$ streamingtv      <str> 'no', 'no', 'no', 'no', 'no', 'yes', 'yes', 'no', 'yes', 'no'\n",
      "$ streamingmovies  <str> 'no', 'no', 'no', 'no', 'no', 'yes', 'no', 'no', 'yes', 'no'\n",
      "$ contract         <str> 'month_to_month', 'one_year', 'month_to_month', 'one_year', 'month_to_month', 'month_to_month', 'month_to_month', 'month_to_month', 'month_to_month', 'one_year'\n",
      "$ paperlessbilling <str> 'yes', 'no', 'yes', 'no', 'yes', 'yes', 'yes', 'no', 'yes', 'no'\n",
      "$ paymentmethod    <str> 'electronic_check', 'mailed_check', 'mailed_check', 'bank_transfer_automatic', 'electronic_check', 'electronic_check', 'credit_card_automatic', 'mailed_check', 'electronic_check', 'bank_transfer_automatic'\n",
      "$ monthlycharges   <f64> 29.85, 56.95, 53.85, 42.3, 70.7, 99.65, 89.1, 29.75, 104.8, 56.15\n",
      "$ totalcharges     <f64> 29.85, 1889.5, 108.15, 1840.75, 151.65, 820.5, 1949.4, 301.9, 3046.05, 3487.95\n",
      "$ churn            <str> 'no', 'no', 'yes', 'no', 'yes', 'yes', 'no', 'no', 'yes', 'no'\n",
      "\n"
     ]
    }
   ],
   "source": [
    "df.glimpse()"
   ]
  },
  {
   "cell_type": "code",
   "execution_count": 5,
   "metadata": {},
   "outputs": [
    {
     "data": {
      "text/html": [
       "<div><style>\n",
       ".dataframe > thead > tr,\n",
       ".dataframe > tbody > tr {\n",
       "  text-align: right;\n",
       "  white-space: pre-wrap;\n",
       "}\n",
       "</style>\n",
       "<small>shape: (9, 22)</small><table border=\"1\" class=\"dataframe\"><thead><tr><th>statistic</th><th>customerid</th><th>gender</th><th>seniorcitizen</th><th>partner</th><th>dependents</th><th>tenure</th><th>phoneservice</th><th>multiplelines</th><th>internetservice</th><th>onlinesecurity</th><th>onlinebackup</th><th>deviceprotection</th><th>techsupport</th><th>streamingtv</th><th>streamingmovies</th><th>contract</th><th>paperlessbilling</th><th>paymentmethod</th><th>monthlycharges</th><th>totalcharges</th><th>churn</th></tr><tr><td>str</td><td>str</td><td>str</td><td>f64</td><td>str</td><td>str</td><td>f64</td><td>str</td><td>str</td><td>str</td><td>str</td><td>str</td><td>str</td><td>str</td><td>str</td><td>str</td><td>str</td><td>str</td><td>str</td><td>f64</td><td>f64</td><td>str</td></tr></thead><tbody><tr><td>&quot;count&quot;</td><td>&quot;7043&quot;</td><td>&quot;7043&quot;</td><td>7043.0</td><td>&quot;7043&quot;</td><td>&quot;7043&quot;</td><td>7043.0</td><td>&quot;7043&quot;</td><td>&quot;7043&quot;</td><td>&quot;7043&quot;</td><td>&quot;7043&quot;</td><td>&quot;7043&quot;</td><td>&quot;7043&quot;</td><td>&quot;7043&quot;</td><td>&quot;7043&quot;</td><td>&quot;7043&quot;</td><td>&quot;7043&quot;</td><td>&quot;7043&quot;</td><td>&quot;7043&quot;</td><td>7043.0</td><td>7032.0</td><td>&quot;7043&quot;</td></tr><tr><td>&quot;null_count&quot;</td><td>&quot;0&quot;</td><td>&quot;0&quot;</td><td>0.0</td><td>&quot;0&quot;</td><td>&quot;0&quot;</td><td>0.0</td><td>&quot;0&quot;</td><td>&quot;0&quot;</td><td>&quot;0&quot;</td><td>&quot;0&quot;</td><td>&quot;0&quot;</td><td>&quot;0&quot;</td><td>&quot;0&quot;</td><td>&quot;0&quot;</td><td>&quot;0&quot;</td><td>&quot;0&quot;</td><td>&quot;0&quot;</td><td>&quot;0&quot;</td><td>0.0</td><td>11.0</td><td>&quot;0&quot;</td></tr><tr><td>&quot;mean&quot;</td><td>null</td><td>null</td><td>0.162147</td><td>null</td><td>null</td><td>32.371149</td><td>null</td><td>null</td><td>null</td><td>null</td><td>null</td><td>null</td><td>null</td><td>null</td><td>null</td><td>null</td><td>null</td><td>null</td><td>64.761692</td><td>2283.300441</td><td>null</td></tr><tr><td>&quot;std&quot;</td><td>null</td><td>null</td><td>0.368612</td><td>null</td><td>null</td><td>24.559481</td><td>null</td><td>null</td><td>null</td><td>null</td><td>null</td><td>null</td><td>null</td><td>null</td><td>null</td><td>null</td><td>null</td><td>null</td><td>30.090047</td><td>2266.771362</td><td>null</td></tr><tr><td>&quot;min&quot;</td><td>&quot;0002_orfbo&quot;</td><td>&quot;female&quot;</td><td>0.0</td><td>&quot;no&quot;</td><td>&quot;no&quot;</td><td>0.0</td><td>&quot;no&quot;</td><td>&quot;no&quot;</td><td>&quot;dsl&quot;</td><td>&quot;no&quot;</td><td>&quot;no&quot;</td><td>&quot;no&quot;</td><td>&quot;no&quot;</td><td>&quot;no&quot;</td><td>&quot;no&quot;</td><td>&quot;month_to_month&quot;</td><td>&quot;no&quot;</td><td>&quot;bank_transfer_automatic&quot;</td><td>18.25</td><td>18.8</td><td>&quot;no&quot;</td></tr><tr><td>&quot;25%&quot;</td><td>null</td><td>null</td><td>0.0</td><td>null</td><td>null</td><td>9.0</td><td>null</td><td>null</td><td>null</td><td>null</td><td>null</td><td>null</td><td>null</td><td>null</td><td>null</td><td>null</td><td>null</td><td>null</td><td>35.5</td><td>401.5</td><td>null</td></tr><tr><td>&quot;50%&quot;</td><td>null</td><td>null</td><td>0.0</td><td>null</td><td>null</td><td>29.0</td><td>null</td><td>null</td><td>null</td><td>null</td><td>null</td><td>null</td><td>null</td><td>null</td><td>null</td><td>null</td><td>null</td><td>null</td><td>70.35</td><td>1397.65</td><td>null</td></tr><tr><td>&quot;75%&quot;</td><td>null</td><td>null</td><td>0.0</td><td>null</td><td>null</td><td>55.0</td><td>null</td><td>null</td><td>null</td><td>null</td><td>null</td><td>null</td><td>null</td><td>null</td><td>null</td><td>null</td><td>null</td><td>null</td><td>89.85</td><td>3794.5</td><td>null</td></tr><tr><td>&quot;max&quot;</td><td>&quot;9995_hotoh&quot;</td><td>&quot;male&quot;</td><td>1.0</td><td>&quot;yes&quot;</td><td>&quot;yes&quot;</td><td>72.0</td><td>&quot;yes&quot;</td><td>&quot;yes&quot;</td><td>&quot;no&quot;</td><td>&quot;yes&quot;</td><td>&quot;yes&quot;</td><td>&quot;yes&quot;</td><td>&quot;yes&quot;</td><td>&quot;yes&quot;</td><td>&quot;yes&quot;</td><td>&quot;two_year&quot;</td><td>&quot;yes&quot;</td><td>&quot;mailed_check&quot;</td><td>118.75</td><td>8684.8</td><td>&quot;yes&quot;</td></tr></tbody></table></div>"
      ],
      "text/plain": [
       "shape: (9, 22)\n",
       "┌────────────┬────────────┬────────┬────────────┬───┬────────────┬────────────┬────────────┬───────┐\n",
       "│ statistic  ┆ customerid ┆ gender ┆ seniorciti ┆ … ┆ paymentmet ┆ monthlycha ┆ totalcharg ┆ churn │\n",
       "│ ---        ┆ ---        ┆ ---    ┆ zen        ┆   ┆ hod        ┆ rges       ┆ es         ┆ ---   │\n",
       "│ str        ┆ str        ┆ str    ┆ ---        ┆   ┆ ---        ┆ ---        ┆ ---        ┆ str   │\n",
       "│            ┆            ┆        ┆ f64        ┆   ┆ str        ┆ f64        ┆ f64        ┆       │\n",
       "╞════════════╪════════════╪════════╪════════════╪═══╪════════════╪════════════╪════════════╪═══════╡\n",
       "│ count      ┆ 7043       ┆ 7043   ┆ 7043.0     ┆ … ┆ 7043       ┆ 7043.0     ┆ 7032.0     ┆ 7043  │\n",
       "│ null_count ┆ 0          ┆ 0      ┆ 0.0        ┆ … ┆ 0          ┆ 0.0        ┆ 11.0       ┆ 0     │\n",
       "│ mean       ┆ null       ┆ null   ┆ 0.162147   ┆ … ┆ null       ┆ 64.761692  ┆ 2283.30044 ┆ null  │\n",
       "│            ┆            ┆        ┆            ┆   ┆            ┆            ┆ 1          ┆       │\n",
       "│ std        ┆ null       ┆ null   ┆ 0.368612   ┆ … ┆ null       ┆ 30.090047  ┆ 2266.77136 ┆ null  │\n",
       "│            ┆            ┆        ┆            ┆   ┆            ┆            ┆ 2          ┆       │\n",
       "│ min        ┆ 0002_orfbo ┆ female ┆ 0.0        ┆ … ┆ bank_trans ┆ 18.25      ┆ 18.8       ┆ no    │\n",
       "│            ┆            ┆        ┆            ┆   ┆ fer_automa ┆            ┆            ┆       │\n",
       "│            ┆            ┆        ┆            ┆   ┆ tic        ┆            ┆            ┆       │\n",
       "│ 25%        ┆ null       ┆ null   ┆ 0.0        ┆ … ┆ null       ┆ 35.5       ┆ 401.5      ┆ null  │\n",
       "│ 50%        ┆ null       ┆ null   ┆ 0.0        ┆ … ┆ null       ┆ 70.35      ┆ 1397.65    ┆ null  │\n",
       "│ 75%        ┆ null       ┆ null   ┆ 0.0        ┆ … ┆ null       ┆ 89.85      ┆ 3794.5     ┆ null  │\n",
       "│ max        ┆ 9995_hotoh ┆ male   ┆ 1.0        ┆ … ┆ mailed_che ┆ 118.75     ┆ 8684.8     ┆ yes   │\n",
       "│            ┆            ┆        ┆            ┆   ┆ ck         ┆            ┆            ┆       │\n",
       "└────────────┴────────────┴────────┴────────────┴───┴────────────┴────────────┴────────────┴───────┘"
      ]
     },
     "execution_count": 5,
     "metadata": {},
     "output_type": "execute_result"
    }
   ],
   "source": [
    "df.describe()"
   ]
  },
  {
   "cell_type": "code",
   "execution_count": 6,
   "metadata": {},
   "outputs": [
    {
     "data": {
      "text/html": [
       "<div><style>\n",
       ".dataframe > thead > tr,\n",
       ".dataframe > tbody > tr {\n",
       "  text-align: right;\n",
       "  white-space: pre-wrap;\n",
       "}\n",
       "</style>\n",
       "<small>shape: (1, 2)</small><table border=\"1\" class=\"dataframe\"><thead><tr><th>column</th><th>null_count</th></tr><tr><td>str</td><td>u32</td></tr></thead><tbody><tr><td>&quot;totalcharges&quot;</td><td>11</td></tr></tbody></table></div>"
      ],
      "text/plain": [
       "shape: (1, 2)\n",
       "┌──────────────┬────────────┐\n",
       "│ column       ┆ null_count │\n",
       "│ ---          ┆ ---        │\n",
       "│ str          ┆ u32        │\n",
       "╞══════════════╪════════════╡\n",
       "│ totalcharges ┆ 11         │\n",
       "└──────────────┴────────────┘"
      ]
     },
     "execution_count": 6,
     "metadata": {},
     "output_type": "execute_result"
    }
   ],
   "source": [
    "df.null_count().transpose(include_header=True, column_names=[\"null_count\"]).filter(\n",
    "    pl.col(\"null_count\") > 0\n",
    ").sort(pl.col(\"null_count\"), descending=True)"
   ]
  },
  {
   "cell_type": "code",
   "execution_count": 7,
   "metadata": {},
   "outputs": [
    {
     "data": {
      "text/html": [
       "<div><style>\n",
       ".dataframe > thead > tr,\n",
       ".dataframe > tbody > tr {\n",
       "  text-align: right;\n",
       "  white-space: pre-wrap;\n",
       "}\n",
       "</style>\n",
       "<small>shape: (11, 2)</small><table border=\"1\" class=\"dataframe\"><thead><tr><th>customerid</th><th>totalcharges</th></tr><tr><td>str</td><td>f64</td></tr></thead><tbody><tr><td>&quot;4472_lvygi&quot;</td><td>null</td></tr><tr><td>&quot;3115_czmzd&quot;</td><td>null</td></tr><tr><td>&quot;5709_lvoeq&quot;</td><td>null</td></tr><tr><td>&quot;4367_nuyao&quot;</td><td>null</td></tr><tr><td>&quot;1371_dwpaz&quot;</td><td>null</td></tr><tr><td>&hellip;</td><td>&hellip;</td></tr><tr><td>&quot;3213_vvolg&quot;</td><td>null</td></tr><tr><td>&quot;2520_sgtta&quot;</td><td>null</td></tr><tr><td>&quot;2923_arzlg&quot;</td><td>null</td></tr><tr><td>&quot;4075_wkniu&quot;</td><td>null</td></tr><tr><td>&quot;2775_sefee&quot;</td><td>null</td></tr></tbody></table></div>"
      ],
      "text/plain": [
       "shape: (11, 2)\n",
       "┌────────────┬──────────────┐\n",
       "│ customerid ┆ totalcharges │\n",
       "│ ---        ┆ ---          │\n",
       "│ str        ┆ f64          │\n",
       "╞════════════╪══════════════╡\n",
       "│ 4472_lvygi ┆ null         │\n",
       "│ 3115_czmzd ┆ null         │\n",
       "│ 5709_lvoeq ┆ null         │\n",
       "│ 4367_nuyao ┆ null         │\n",
       "│ 1371_dwpaz ┆ null         │\n",
       "│ …          ┆ …            │\n",
       "│ 3213_vvolg ┆ null         │\n",
       "│ 2520_sgtta ┆ null         │\n",
       "│ 2923_arzlg ┆ null         │\n",
       "│ 4075_wkniu ┆ null         │\n",
       "│ 2775_sefee ┆ null         │\n",
       "└────────────┴──────────────┘"
      ]
     },
     "execution_count": 7,
     "metadata": {},
     "output_type": "execute_result"
    }
   ],
   "source": [
    "df.filter(pl.col(\"totalcharges\").is_null()).select(pl.col(\"customerid\", \"totalcharges\"))"
   ]
  },
  {
   "cell_type": "code",
   "execution_count": 8,
   "metadata": {},
   "outputs": [],
   "source": [
    "df = df.with_columns(pl.col(\"totalcharges\").fill_null(0))"
   ]
  },
  {
   "cell_type": "code",
   "execution_count": 9,
   "metadata": {},
   "outputs": [],
   "source": [
    "df = df.with_columns((pl.col(\"churn\") == \"yes\").cast(pl.Int8))"
   ]
  },
  {
   "cell_type": "markdown",
   "metadata": {},
   "source": [
    "## 2. Setting Up Validation Framework\n"
   ]
  },
  {
   "cell_type": "code",
   "execution_count": 10,
   "metadata": {},
   "outputs": [],
   "source": [
    "df_full_train, df_test = train_test_split(df, test_size=0.2, random_state=1)\n",
    "df_train, df_val = train_test_split(df_full_train, test_size=0.25, random_state=1)"
   ]
  },
  {
   "cell_type": "code",
   "execution_count": 11,
   "metadata": {},
   "outputs": [
    {
     "data": {
      "text/plain": [
       "(4225, 1409, 1409)"
      ]
     },
     "execution_count": 11,
     "metadata": {},
     "output_type": "execute_result"
    }
   ],
   "source": [
    "len(df_train), len(df_val), len(df_test)"
   ]
  },
  {
   "cell_type": "code",
   "execution_count": 12,
   "metadata": {},
   "outputs": [],
   "source": [
    "y_train = df_train[\"churn\"].to_numpy()\n",
    "y_val = df_val[\"churn\"].to_numpy()\n",
    "y_test = df_test[\"churn\"].to_numpy()"
   ]
  },
  {
   "cell_type": "code",
   "execution_count": 13,
   "metadata": {},
   "outputs": [],
   "source": [
    "df_train = df_train.drop(\"churn\")\n",
    "df_val = df_val.drop(\"churn\")\n",
    "df_test = df_test.drop(\"churn\")"
   ]
  },
  {
   "cell_type": "markdown",
   "metadata": {},
   "source": [
    "## 3. Exploratory Data Analysis\n"
   ]
  },
  {
   "cell_type": "code",
   "execution_count": 14,
   "metadata": {},
   "outputs": [
    {
     "data": {
      "text/html": [
       "<div><style>\n",
       ".dataframe > thead > tr,\n",
       ".dataframe > tbody > tr {\n",
       "  text-align: right;\n",
       "  white-space: pre-wrap;\n",
       "}\n",
       "</style>\n",
       "<small>shape: (0, 2)</small><table border=\"1\" class=\"dataframe\"><thead><tr><th>column</th><th>null_count</th></tr><tr><td>str</td><td>u32</td></tr></thead><tbody></tbody></table></div>"
      ],
      "text/plain": [
       "shape: (0, 2)\n",
       "┌────────┬────────────┐\n",
       "│ column ┆ null_count │\n",
       "│ ---    ┆ ---        │\n",
       "│ str    ┆ u32        │\n",
       "╞════════╪════════════╡\n",
       "└────────┴────────────┘"
      ]
     },
     "execution_count": 14,
     "metadata": {},
     "output_type": "execute_result"
    }
   ],
   "source": [
    "df_full_train.null_count().transpose(\n",
    "    include_header=True, column_names=[\"null_count\"]\n",
    ").filter(pl.col(\"null_count\") > 0)"
   ]
  },
  {
   "cell_type": "code",
   "execution_count": 15,
   "metadata": {},
   "outputs": [
    {
     "data": {
      "text/html": [
       "<div><style>\n",
       ".dataframe > thead > tr,\n",
       ".dataframe > tbody > tr {\n",
       "  text-align: right;\n",
       "  white-space: pre-wrap;\n",
       "}\n",
       "</style>\n",
       "<small>shape: (2, 2)</small><table border=\"1\" class=\"dataframe\"><thead><tr><th>churn</th><th>proportion</th></tr><tr><td>i8</td><td>f64</td></tr></thead><tbody><tr><td>0</td><td>0.730032</td></tr><tr><td>1</td><td>0.269968</td></tr></tbody></table></div>"
      ],
      "text/plain": [
       "shape: (2, 2)\n",
       "┌───────┬────────────┐\n",
       "│ churn ┆ proportion │\n",
       "│ ---   ┆ ---        │\n",
       "│ i8    ┆ f64        │\n",
       "╞═══════╪════════════╡\n",
       "│ 0     ┆ 0.730032   │\n",
       "│ 1     ┆ 0.269968   │\n",
       "└───────┴────────────┘"
      ]
     },
     "execution_count": 15,
     "metadata": {},
     "output_type": "execute_result"
    }
   ],
   "source": [
    "df_full_train[\"churn\"].value_counts(sort=True, normalize=True)"
   ]
  },
  {
   "cell_type": "code",
   "execution_count": 16,
   "metadata": {},
   "outputs": [
    {
     "data": {
      "text/plain": [
       "0.27"
      ]
     },
     "execution_count": 16,
     "metadata": {},
     "output_type": "execute_result"
    }
   ],
   "source": [
    "global_churn_rate = df_full_train[\"churn\"].mean()\n",
    "round(global_churn_rate, 2)"
   ]
  },
  {
   "cell_type": "code",
   "execution_count": 17,
   "metadata": {},
   "outputs": [],
   "source": [
    "numerical = [\"tenure\", \"monthlycharges\", \"totalcharges\"]"
   ]
  },
  {
   "cell_type": "code",
   "execution_count": 18,
   "metadata": {},
   "outputs": [],
   "source": [
    "categorical = [\n",
    "    \"gender\",\n",
    "    \"seniorcitizen\",\n",
    "    \"partner\",\n",
    "    \"dependents\",\n",
    "    \"phoneservice\",\n",
    "    \"multiplelines\",\n",
    "    \"internetservice\",\n",
    "    \"onlinesecurity\",\n",
    "    \"onlinebackup\",\n",
    "    \"deviceprotection\",\n",
    "    \"techsupport\",\n",
    "    \"streamingtv\",\n",
    "    \"streamingmovies\",\n",
    "    \"contract\",\n",
    "    \"paperlessbilling\",\n",
    "    \"paymentmethod\",\n",
    "]"
   ]
  },
  {
   "cell_type": "code",
   "execution_count": 19,
   "metadata": {},
   "outputs": [
    {
     "data": {
      "text/html": [
       "<div><style>\n",
       ".dataframe > thead > tr,\n",
       ".dataframe > tbody > tr {\n",
       "  text-align: right;\n",
       "  white-space: pre-wrap;\n",
       "}\n",
       "</style>\n",
       "<small>shape: (1, 16)</small><table border=\"1\" class=\"dataframe\"><thead><tr><th>gender</th><th>seniorcitizen</th><th>partner</th><th>dependents</th><th>phoneservice</th><th>multiplelines</th><th>internetservice</th><th>onlinesecurity</th><th>onlinebackup</th><th>deviceprotection</th><th>techsupport</th><th>streamingtv</th><th>streamingmovies</th><th>contract</th><th>paperlessbilling</th><th>paymentmethod</th></tr><tr><td>u32</td><td>u32</td><td>u32</td><td>u32</td><td>u32</td><td>u32</td><td>u32</td><td>u32</td><td>u32</td><td>u32</td><td>u32</td><td>u32</td><td>u32</td><td>u32</td><td>u32</td><td>u32</td></tr></thead><tbody><tr><td>2</td><td>2</td><td>2</td><td>2</td><td>2</td><td>3</td><td>3</td><td>3</td><td>3</td><td>3</td><td>3</td><td>3</td><td>3</td><td>3</td><td>2</td><td>4</td></tr></tbody></table></div>"
      ],
      "text/plain": [
       "shape: (1, 16)\n",
       "┌────────┬────────────┬─────────┬────────────┬───┬────────────┬──────────┬────────────┬────────────┐\n",
       "│ gender ┆ seniorciti ┆ partner ┆ dependents ┆ … ┆ streamingm ┆ contract ┆ paperlessb ┆ paymentmet │\n",
       "│ ---    ┆ zen        ┆ ---     ┆ ---        ┆   ┆ ovies      ┆ ---      ┆ illing     ┆ hod        │\n",
       "│ u32    ┆ ---        ┆ u32     ┆ u32        ┆   ┆ ---        ┆ u32      ┆ ---        ┆ ---        │\n",
       "│        ┆ u32        ┆         ┆            ┆   ┆ u32        ┆          ┆ u32        ┆ u32        │\n",
       "╞════════╪════════════╪═════════╪════════════╪═══╪════════════╪══════════╪════════════╪════════════╡\n",
       "│ 2      ┆ 2          ┆ 2       ┆ 2          ┆ … ┆ 3          ┆ 3        ┆ 2          ┆ 4          │\n",
       "└────────┴────────────┴─────────┴────────────┴───┴────────────┴──────────┴────────────┴────────────┘"
      ]
     },
     "execution_count": 19,
     "metadata": {},
     "output_type": "execute_result"
    }
   ],
   "source": [
    "df_full_train.select(pl.col(categorical).n_unique())"
   ]
  },
  {
   "cell_type": "code",
   "execution_count": null,
   "metadata": {},
   "outputs": [],
   "source": []
  },
  {
   "cell_type": "code",
   "execution_count": null,
   "metadata": {},
   "outputs": [],
   "source": []
  },
  {
   "cell_type": "code",
   "execution_count": null,
   "metadata": {},
   "outputs": [],
   "source": []
  }
 ],
 "metadata": {
  "kernelspec": {
   "display_name": ".venv",
   "language": "python",
   "name": "python3"
  },
  "language_info": {
   "codemirror_mode": {
    "name": "ipython",
    "version": 3
   },
   "file_extension": ".py",
   "mimetype": "text/x-python",
   "name": "python",
   "nbconvert_exporter": "python",
   "pygments_lexer": "ipython3",
   "version": "3.12.6"
  }
 },
 "nbformat": 4,
 "nbformat_minor": 2
}
