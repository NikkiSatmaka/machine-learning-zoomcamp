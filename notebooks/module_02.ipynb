{
 "cells": [
  {
   "cell_type": "code",
   "execution_count": 1,
   "metadata": {},
   "outputs": [],
   "source": [
    "from pathlib import Path\n",
    "\n",
    "import numpy as np\n",
    "import pandas as pd\n",
    "import polars as pl\n",
    "\n",
    "from ml_zoomcamp.utils import load_data\n",
    "\n",
    "ROOT_DIR = Path.cwd().parent\n",
    "DATA_DIR = ROOT_DIR.joinpath(\"data\")"
   ]
  },
  {
   "cell_type": "code",
   "execution_count": 2,
   "metadata": {},
   "outputs": [],
   "source": [
    "csv_uri = \"https://raw.githubusercontent.com/alexeygrigorev/mlbookcamp-code/refs/heads/master/chapter-02-car-price/data.csv\"\n",
    "df = load_data(csv_uri, DATA_DIR)"
   ]
  },
  {
   "cell_type": "code",
   "execution_count": 3,
   "metadata": {},
   "outputs": [
    {
     "data": {
      "text/plain": [
       "Schema([('Make', String),\n",
       "        ('Model', String),\n",
       "        ('Year', Int64),\n",
       "        ('Engine Fuel Type', String),\n",
       "        ('Engine HP', Int64),\n",
       "        ('Engine Cylinders', Int64),\n",
       "        ('Transmission Type', String),\n",
       "        ('Driven_Wheels', String),\n",
       "        ('Number of Doors', Int64),\n",
       "        ('Market Category', String),\n",
       "        ('Vehicle Size', String),\n",
       "        ('Vehicle Style', String),\n",
       "        ('highway MPG', Int64),\n",
       "        ('city mpg', Int64),\n",
       "        ('Popularity', Int64),\n",
       "        ('MSRP', Int64)])"
      ]
     },
     "execution_count": 3,
     "metadata": {},
     "output_type": "execute_result"
    }
   ],
   "source": [
    "df.schema"
   ]
  },
  {
   "cell_type": "code",
   "execution_count": 5,
   "metadata": {},
   "outputs": [
    {
     "name": "stdout",
     "output_type": "stream",
     "text": [
      "Rows: 11914\n",
      "Columns: 16\n",
      "$ Make              <str> 'BMW', 'BMW', 'BMW', 'BMW', 'BMW', 'BMW', 'BMW', 'BMW', 'BMW', 'BMW'\n",
      "$ Model             <str> '1 Series M', '1 Series', '1 Series', '1 Series', '1 Series', '1 Series', '1 Series', '1 Series', '1 Series', '1 Series'\n",
      "$ Year              <i64> 2011, 2011, 2011, 2011, 2011, 2012, 2012, 2012, 2012, 2013\n",
      "$ Engine Fuel Type  <str> 'premium unleaded (required)', 'premium unleaded (required)', 'premium unleaded (required)', 'premium unleaded (required)', 'premium unleaded (required)', 'premium unleaded (required)', 'premium unleaded (required)', 'premium unleaded (required)', 'premium unleaded (required)', 'premium unleaded (required)'\n",
      "$ Engine HP         <i64> 335, 300, 300, 230, 230, 230, 300, 300, 230, 230\n",
      "$ Engine Cylinders  <i64> 6, 6, 6, 6, 6, 6, 6, 6, 6, 6\n",
      "$ Transmission Type <str> 'MANUAL', 'MANUAL', 'MANUAL', 'MANUAL', 'MANUAL', 'MANUAL', 'MANUAL', 'MANUAL', 'MANUAL', 'MANUAL'\n",
      "$ Driven_Wheels     <str> 'rear wheel drive', 'rear wheel drive', 'rear wheel drive', 'rear wheel drive', 'rear wheel drive', 'rear wheel drive', 'rear wheel drive', 'rear wheel drive', 'rear wheel drive', 'rear wheel drive'\n",
      "$ Number of Doors   <i64> 2, 2, 2, 2, 2, 2, 2, 2, 2, 2\n",
      "$ Market Category   <str> 'Factory Tuner,Luxury,High-Performance', 'Luxury,Performance', 'Luxury,High-Performance', 'Luxury,Performance', 'Luxury', 'Luxury,Performance', 'Luxury,Performance', 'Luxury,High-Performance', 'Luxury', 'Luxury'\n",
      "$ Vehicle Size      <str> 'Compact', 'Compact', 'Compact', 'Compact', 'Compact', 'Compact', 'Compact', 'Compact', 'Compact', 'Compact'\n",
      "$ Vehicle Style     <str> 'Coupe', 'Convertible', 'Coupe', 'Coupe', 'Convertible', 'Coupe', 'Convertible', 'Coupe', 'Convertible', 'Convertible'\n",
      "$ highway MPG       <i64> 26, 28, 28, 28, 28, 28, 26, 28, 28, 27\n",
      "$ city mpg          <i64> 19, 19, 20, 18, 18, 18, 17, 20, 18, 18\n",
      "$ Popularity        <i64> 3916, 3916, 3916, 3916, 3916, 3916, 3916, 3916, 3916, 3916\n",
      "$ MSRP              <i64> 46135, 40650, 36350, 29450, 34500, 31200, 44100, 39300, 36900, 37200\n",
      "\n"
     ]
    }
   ],
   "source": [
    "df.glimpse()"
   ]
  },
  {
   "cell_type": "code",
   "execution_count": 6,
   "metadata": {},
   "outputs": [
    {
     "data": {
      "text/html": [
       "<div><style>\n",
       ".dataframe > thead > tr,\n",
       ".dataframe > tbody > tr {\n",
       "  text-align: right;\n",
       "  white-space: pre-wrap;\n",
       "}\n",
       "</style>\n",
       "<small>shape: (9, 17)</small><table border=\"1\" class=\"dataframe\"><thead><tr><th>statistic</th><th>Make</th><th>Model</th><th>Year</th><th>Engine Fuel Type</th><th>Engine HP</th><th>Engine Cylinders</th><th>Transmission Type</th><th>Driven_Wheels</th><th>Number of Doors</th><th>Market Category</th><th>Vehicle Size</th><th>Vehicle Style</th><th>highway MPG</th><th>city mpg</th><th>Popularity</th><th>MSRP</th></tr><tr><td>str</td><td>str</td><td>str</td><td>f64</td><td>str</td><td>f64</td><td>f64</td><td>str</td><td>str</td><td>f64</td><td>str</td><td>str</td><td>str</td><td>f64</td><td>f64</td><td>f64</td><td>f64</td></tr></thead><tbody><tr><td>&quot;count&quot;</td><td>&quot;11914&quot;</td><td>&quot;11914&quot;</td><td>11914.0</td><td>&quot;11911&quot;</td><td>11845.0</td><td>11884.0</td><td>&quot;11914&quot;</td><td>&quot;11914&quot;</td><td>11908.0</td><td>&quot;11914&quot;</td><td>&quot;11914&quot;</td><td>&quot;11914&quot;</td><td>11914.0</td><td>11914.0</td><td>11914.0</td><td>11914.0</td></tr><tr><td>&quot;null_count&quot;</td><td>&quot;0&quot;</td><td>&quot;0&quot;</td><td>0.0</td><td>&quot;3&quot;</td><td>69.0</td><td>30.0</td><td>&quot;0&quot;</td><td>&quot;0&quot;</td><td>6.0</td><td>&quot;0&quot;</td><td>&quot;0&quot;</td><td>&quot;0&quot;</td><td>0.0</td><td>0.0</td><td>0.0</td><td>0.0</td></tr><tr><td>&quot;mean&quot;</td><td>null</td><td>null</td><td>2010.384338</td><td>null</td><td>249.38607</td><td>5.628829</td><td>null</td><td>null</td><td>3.436093</td><td>null</td><td>null</td><td>null</td><td>26.637485</td><td>19.733255</td><td>1554.911197</td><td>40594.737032</td></tr><tr><td>&quot;std&quot;</td><td>null</td><td>null</td><td>7.57974</td><td>null</td><td>109.19187</td><td>1.780559</td><td>null</td><td>null</td><td>0.881315</td><td>null</td><td>null</td><td>null</td><td>8.863001</td><td>8.987798</td><td>1441.855347</td><td>60109.103604</td></tr><tr><td>&quot;min&quot;</td><td>&quot;Acura&quot;</td><td>&quot;1 Series&quot;</td><td>1990.0</td><td>&quot;diesel&quot;</td><td>55.0</td><td>0.0</td><td>&quot;AUTOMATED_MANUAL&quot;</td><td>&quot;all wheel drive&quot;</td><td>2.0</td><td>&quot;Crossover&quot;</td><td>&quot;Compact&quot;</td><td>&quot;2dr Hatchback&quot;</td><td>12.0</td><td>7.0</td><td>2.0</td><td>2000.0</td></tr><tr><td>&quot;25%&quot;</td><td>null</td><td>null</td><td>2007.0</td><td>null</td><td>170.0</td><td>4.0</td><td>null</td><td>null</td><td>2.0</td><td>null</td><td>null</td><td>null</td><td>22.0</td><td>16.0</td><td>549.0</td><td>21000.0</td></tr><tr><td>&quot;50%&quot;</td><td>null</td><td>null</td><td>2015.0</td><td>null</td><td>227.0</td><td>6.0</td><td>null</td><td>null</td><td>4.0</td><td>null</td><td>null</td><td>null</td><td>26.0</td><td>18.0</td><td>1385.0</td><td>29995.0</td></tr><tr><td>&quot;75%&quot;</td><td>null</td><td>null</td><td>2016.0</td><td>null</td><td>300.0</td><td>6.0</td><td>null</td><td>null</td><td>4.0</td><td>null</td><td>null</td><td>null</td><td>30.0</td><td>22.0</td><td>2009.0</td><td>42235.0</td></tr><tr><td>&quot;max&quot;</td><td>&quot;Volvo&quot;</td><td>&quot;xD&quot;</td><td>2017.0</td><td>&quot;regular unleaded&quot;</td><td>1001.0</td><td>16.0</td><td>&quot;UNKNOWN&quot;</td><td>&quot;rear wheel drive&quot;</td><td>4.0</td><td>&quot;Performance,Hybrid&quot;</td><td>&quot;Midsize&quot;</td><td>&quot;Wagon&quot;</td><td>354.0</td><td>137.0</td><td>5657.0</td><td>2.065902e6</td></tr></tbody></table></div>"
      ],
      "text/plain": [
       "shape: (9, 17)\n",
       "┌────────────┬───────┬──────────┬────────────┬───┬────────────┬───────────┬────────────┬───────────┐\n",
       "│ statistic  ┆ Make  ┆ Model    ┆ Year       ┆ … ┆ highway    ┆ city mpg  ┆ Popularity ┆ MSRP      │\n",
       "│ ---        ┆ ---   ┆ ---      ┆ ---        ┆   ┆ MPG        ┆ ---       ┆ ---        ┆ ---       │\n",
       "│ str        ┆ str   ┆ str      ┆ f64        ┆   ┆ ---        ┆ f64       ┆ f64        ┆ f64       │\n",
       "│            ┆       ┆          ┆            ┆   ┆ f64        ┆           ┆            ┆           │\n",
       "╞════════════╪═══════╪══════════╪════════════╪═══╪════════════╪═══════════╪════════════╪═══════════╡\n",
       "│ count      ┆ 11914 ┆ 11914    ┆ 11914.0    ┆ … ┆ 11914.0    ┆ 11914.0   ┆ 11914.0    ┆ 11914.0   │\n",
       "│ null_count ┆ 0     ┆ 0        ┆ 0.0        ┆ … ┆ 0.0        ┆ 0.0       ┆ 0.0        ┆ 0.0       │\n",
       "│ mean       ┆ null  ┆ null     ┆ 2010.38433 ┆ … ┆ 26.637485  ┆ 19.733255 ┆ 1554.91119 ┆ 40594.737 │\n",
       "│            ┆       ┆          ┆ 8          ┆   ┆            ┆           ┆ 7          ┆ 032       │\n",
       "│ std        ┆ null  ┆ null     ┆ 7.57974    ┆ … ┆ 8.863001   ┆ 8.987798  ┆ 1441.85534 ┆ 60109.103 │\n",
       "│            ┆       ┆          ┆            ┆   ┆            ┆           ┆ 7          ┆ 604       │\n",
       "│ min        ┆ Acura ┆ 1 Series ┆ 1990.0     ┆ … ┆ 12.0       ┆ 7.0       ┆ 2.0        ┆ 2000.0    │\n",
       "│ 25%        ┆ null  ┆ null     ┆ 2007.0     ┆ … ┆ 22.0       ┆ 16.0      ┆ 549.0      ┆ 21000.0   │\n",
       "│ 50%        ┆ null  ┆ null     ┆ 2015.0     ┆ … ┆ 26.0       ┆ 18.0      ┆ 1385.0     ┆ 29995.0   │\n",
       "│ 75%        ┆ null  ┆ null     ┆ 2016.0     ┆ … ┆ 30.0       ┆ 22.0      ┆ 2009.0     ┆ 42235.0   │\n",
       "│ max        ┆ Volvo ┆ xD       ┆ 2017.0     ┆ … ┆ 354.0      ┆ 137.0     ┆ 5657.0     ┆ 2.065902e │\n",
       "│            ┆       ┆          ┆            ┆   ┆            ┆           ┆            ┆ 6         │\n",
       "└────────────┴───────┴──────────┴────────────┴───┴────────────┴───────────┴────────────┴───────────┘"
      ]
     },
     "execution_count": 6,
     "metadata": {},
     "output_type": "execute_result"
    }
   ],
   "source": [
    "df.describe()"
   ]
  },
  {
   "cell_type": "code",
   "execution_count": 7,
   "metadata": {},
   "outputs": [
    {
     "data": {
      "text/html": [
       "<div><style>\n",
       ".dataframe > thead > tr,\n",
       ".dataframe > tbody > tr {\n",
       "  text-align: right;\n",
       "  white-space: pre-wrap;\n",
       "}\n",
       "</style>\n",
       "<small>shape: (5, 16)</small><table border=\"1\" class=\"dataframe\"><thead><tr><th>Make</th><th>Model</th><th>Year</th><th>Engine Fuel Type</th><th>Engine HP</th><th>Engine Cylinders</th><th>Transmission Type</th><th>Driven_Wheels</th><th>Number of Doors</th><th>Market Category</th><th>Vehicle Size</th><th>Vehicle Style</th><th>highway MPG</th><th>city mpg</th><th>Popularity</th><th>MSRP</th></tr><tr><td>str</td><td>str</td><td>i64</td><td>str</td><td>i64</td><td>i64</td><td>str</td><td>str</td><td>i64</td><td>str</td><td>str</td><td>str</td><td>i64</td><td>i64</td><td>i64</td><td>i64</td></tr></thead><tbody><tr><td>&quot;BMW&quot;</td><td>&quot;1 Series M&quot;</td><td>2011</td><td>&quot;premium unleaded (required)&quot;</td><td>335</td><td>6</td><td>&quot;MANUAL&quot;</td><td>&quot;rear wheel drive&quot;</td><td>2</td><td>&quot;Factory Tuner,Luxury,High-Perf…</td><td>&quot;Compact&quot;</td><td>&quot;Coupe&quot;</td><td>26</td><td>19</td><td>3916</td><td>46135</td></tr><tr><td>&quot;BMW&quot;</td><td>&quot;1 Series&quot;</td><td>2011</td><td>&quot;premium unleaded (required)&quot;</td><td>300</td><td>6</td><td>&quot;MANUAL&quot;</td><td>&quot;rear wheel drive&quot;</td><td>2</td><td>&quot;Luxury,Performance&quot;</td><td>&quot;Compact&quot;</td><td>&quot;Convertible&quot;</td><td>28</td><td>19</td><td>3916</td><td>40650</td></tr><tr><td>&quot;BMW&quot;</td><td>&quot;1 Series&quot;</td><td>2011</td><td>&quot;premium unleaded (required)&quot;</td><td>300</td><td>6</td><td>&quot;MANUAL&quot;</td><td>&quot;rear wheel drive&quot;</td><td>2</td><td>&quot;Luxury,High-Performance&quot;</td><td>&quot;Compact&quot;</td><td>&quot;Coupe&quot;</td><td>28</td><td>20</td><td>3916</td><td>36350</td></tr><tr><td>&quot;BMW&quot;</td><td>&quot;1 Series&quot;</td><td>2011</td><td>&quot;premium unleaded (required)&quot;</td><td>230</td><td>6</td><td>&quot;MANUAL&quot;</td><td>&quot;rear wheel drive&quot;</td><td>2</td><td>&quot;Luxury,Performance&quot;</td><td>&quot;Compact&quot;</td><td>&quot;Coupe&quot;</td><td>28</td><td>18</td><td>3916</td><td>29450</td></tr><tr><td>&quot;BMW&quot;</td><td>&quot;1 Series&quot;</td><td>2011</td><td>&quot;premium unleaded (required)&quot;</td><td>230</td><td>6</td><td>&quot;MANUAL&quot;</td><td>&quot;rear wheel drive&quot;</td><td>2</td><td>&quot;Luxury&quot;</td><td>&quot;Compact&quot;</td><td>&quot;Convertible&quot;</td><td>28</td><td>18</td><td>3916</td><td>34500</td></tr></tbody></table></div>"
      ],
      "text/plain": [
       "shape: (5, 16)\n",
       "┌──────┬────────────┬──────┬──────────────────┬───┬─────────────┬──────────┬────────────┬───────┐\n",
       "│ Make ┆ Model      ┆ Year ┆ Engine Fuel Type ┆ … ┆ highway MPG ┆ city mpg ┆ Popularity ┆ MSRP  │\n",
       "│ ---  ┆ ---        ┆ ---  ┆ ---              ┆   ┆ ---         ┆ ---      ┆ ---        ┆ ---   │\n",
       "│ str  ┆ str        ┆ i64  ┆ str              ┆   ┆ i64         ┆ i64      ┆ i64        ┆ i64   │\n",
       "╞══════╪════════════╪══════╪══════════════════╪═══╪═════════════╪══════════╪════════════╪═══════╡\n",
       "│ BMW  ┆ 1 Series M ┆ 2011 ┆ premium unleaded ┆ … ┆ 26          ┆ 19       ┆ 3916       ┆ 46135 │\n",
       "│      ┆            ┆      ┆ (required)       ┆   ┆             ┆          ┆            ┆       │\n",
       "│ BMW  ┆ 1 Series   ┆ 2011 ┆ premium unleaded ┆ … ┆ 28          ┆ 19       ┆ 3916       ┆ 40650 │\n",
       "│      ┆            ┆      ┆ (required)       ┆   ┆             ┆          ┆            ┆       │\n",
       "│ BMW  ┆ 1 Series   ┆ 2011 ┆ premium unleaded ┆ … ┆ 28          ┆ 20       ┆ 3916       ┆ 36350 │\n",
       "│      ┆            ┆      ┆ (required)       ┆   ┆             ┆          ┆            ┆       │\n",
       "│ BMW  ┆ 1 Series   ┆ 2011 ┆ premium unleaded ┆ … ┆ 28          ┆ 18       ┆ 3916       ┆ 29450 │\n",
       "│      ┆            ┆      ┆ (required)       ┆   ┆             ┆          ┆            ┆       │\n",
       "│ BMW  ┆ 1 Series   ┆ 2011 ┆ premium unleaded ┆ … ┆ 28          ┆ 18       ┆ 3916       ┆ 34500 │\n",
       "│      ┆            ┆      ┆ (required)       ┆   ┆             ┆          ┆            ┆       │\n",
       "└──────┴────────────┴──────┴──────────────────┴───┴─────────────┴──────────┴────────────┴───────┘"
      ]
     },
     "execution_count": 7,
     "metadata": {},
     "output_type": "execute_result"
    }
   ],
   "source": [
    "df.head()"
   ]
  },
  {
   "cell_type": "code",
   "execution_count": 16,
   "metadata": {},
   "outputs": [
    {
     "data": {
      "text/html": [
       "<div><style>\n",
       ".dataframe > thead > tr,\n",
       ".dataframe > tbody > tr {\n",
       "  text-align: right;\n",
       "  white-space: pre-wrap;\n",
       "}\n",
       "</style>\n",
       "<small>shape: (4, 2)</small><table border=\"1\" class=\"dataframe\"><thead><tr><th>column</th><th>null_count</th></tr><tr><td>str</td><td>u32</td></tr></thead><tbody><tr><td>&quot;Engine HP&quot;</td><td>69</td></tr><tr><td>&quot;Engine Cylinders&quot;</td><td>30</td></tr><tr><td>&quot;Number of Doors&quot;</td><td>6</td></tr><tr><td>&quot;Engine Fuel Type&quot;</td><td>3</td></tr></tbody></table></div>"
      ],
      "text/plain": [
       "shape: (4, 2)\n",
       "┌──────────────────┬────────────┐\n",
       "│ column           ┆ null_count │\n",
       "│ ---              ┆ ---        │\n",
       "│ str              ┆ u32        │\n",
       "╞══════════════════╪════════════╡\n",
       "│ Engine HP        ┆ 69         │\n",
       "│ Engine Cylinders ┆ 30         │\n",
       "│ Number of Doors  ┆ 6          │\n",
       "│ Engine Fuel Type ┆ 3          │\n",
       "└──────────────────┴────────────┘"
      ]
     },
     "execution_count": 16,
     "metadata": {},
     "output_type": "execute_result"
    }
   ],
   "source": [
    "df.null_count().transpose(include_header=True, column_names=[\"null_count\"]).filter(\n",
    "    pl.col(\"null_count\") != 0\n",
    ").sort(pl.col(\"null_count\"), descending=True)"
   ]
  }
 ],
 "metadata": {
  "kernelspec": {
   "display_name": ".venv",
   "language": "python",
   "name": "python3"
  },
  "language_info": {
   "codemirror_mode": {
    "name": "ipython",
    "version": 3
   },
   "file_extension": ".py",
   "mimetype": "text/x-python",
   "name": "python",
   "nbconvert_exporter": "python",
   "pygments_lexer": "ipython3",
   "version": "3.12.6"
  }
 },
 "nbformat": 4,
 "nbformat_minor": 2
}
