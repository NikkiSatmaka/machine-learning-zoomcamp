{
 "cells": [
  {
   "cell_type": "code",
   "execution_count": 1,
   "metadata": {},
   "outputs": [],
   "source": [
    "from pathlib import Path\n",
    "\n",
    "import numpy as np\n",
    "import pandas as pd\n",
    "import polars as pl\n",
    "import polars.selectors as cs\n",
    "\n",
    "from ml_zoomcamp.utils import clean_column_names, load_data\n",
    "\n",
    "ROOT_DIR = Path.cwd().parent\n",
    "DATA_DIR = ROOT_DIR.joinpath(\"data\")"
   ]
  },
  {
   "cell_type": "markdown",
   "metadata": {},
   "source": [
    "## Data Preparation\n"
   ]
  },
  {
   "cell_type": "code",
   "execution_count": 2,
   "metadata": {},
   "outputs": [],
   "source": [
    "csv_uri = \"https://raw.githubusercontent.com/alexeygrigorev/mlbookcamp-code/refs/heads/master/chapter-02-car-price/data.csv\"\n",
    "df = load_data(csv_uri, DATA_DIR)\n",
    "df = clean_column_names(df)"
   ]
  },
  {
   "cell_type": "code",
   "execution_count": 3,
   "metadata": {},
   "outputs": [
    {
     "data": {
      "text/plain": [
       "Schema([('make', String),\n",
       "        ('model', String),\n",
       "        ('year', Int64),\n",
       "        ('engine_fuel_type', String),\n",
       "        ('engine_hp', Int64),\n",
       "        ('engine_cylinders', Int64),\n",
       "        ('transmission_type', String),\n",
       "        ('driven_wheels', String),\n",
       "        ('number_of_doors', Int64),\n",
       "        ('market_category', String),\n",
       "        ('vehicle_size', String),\n",
       "        ('vehicle_style', String),\n",
       "        ('highway_mpg', Int64),\n",
       "        ('city_mpg', Int64),\n",
       "        ('popularity', Int64),\n",
       "        ('msrp', Int64)])"
      ]
     },
     "execution_count": 3,
     "metadata": {},
     "output_type": "execute_result"
    }
   ],
   "source": [
    "df.schema"
   ]
  },
  {
   "cell_type": "code",
   "execution_count": 4,
   "metadata": {},
   "outputs": [
    {
     "name": "stdout",
     "output_type": "stream",
     "text": [
      "Rows: 11914\n",
      "Columns: 16\n",
      "$ make              <str> 'BMW', 'BMW', 'BMW', 'BMW', 'BMW', 'BMW', 'BMW', 'BMW', 'BMW', 'BMW'\n",
      "$ model             <str> '1 Series M', '1 Series', '1 Series', '1 Series', '1 Series', '1 Series', '1 Series', '1 Series', '1 Series', '1 Series'\n",
      "$ year              <i64> 2011, 2011, 2011, 2011, 2011, 2012, 2012, 2012, 2012, 2013\n",
      "$ engine_fuel_type  <str> 'premium unleaded (required)', 'premium unleaded (required)', 'premium unleaded (required)', 'premium unleaded (required)', 'premium unleaded (required)', 'premium unleaded (required)', 'premium unleaded (required)', 'premium unleaded (required)', 'premium unleaded (required)', 'premium unleaded (required)'\n",
      "$ engine_hp         <i64> 335, 300, 300, 230, 230, 230, 300, 300, 230, 230\n",
      "$ engine_cylinders  <i64> 6, 6, 6, 6, 6, 6, 6, 6, 6, 6\n",
      "$ transmission_type <str> 'MANUAL', 'MANUAL', 'MANUAL', 'MANUAL', 'MANUAL', 'MANUAL', 'MANUAL', 'MANUAL', 'MANUAL', 'MANUAL'\n",
      "$ driven_wheels     <str> 'rear wheel drive', 'rear wheel drive', 'rear wheel drive', 'rear wheel drive', 'rear wheel drive', 'rear wheel drive', 'rear wheel drive', 'rear wheel drive', 'rear wheel drive', 'rear wheel drive'\n",
      "$ number_of_doors   <i64> 2, 2, 2, 2, 2, 2, 2, 2, 2, 2\n",
      "$ market_category   <str> 'Factory Tuner,Luxury,High-Performance', 'Luxury,Performance', 'Luxury,High-Performance', 'Luxury,Performance', 'Luxury', 'Luxury,Performance', 'Luxury,Performance', 'Luxury,High-Performance', 'Luxury', 'Luxury'\n",
      "$ vehicle_size      <str> 'Compact', 'Compact', 'Compact', 'Compact', 'Compact', 'Compact', 'Compact', 'Compact', 'Compact', 'Compact'\n",
      "$ vehicle_style     <str> 'Coupe', 'Convertible', 'Coupe', 'Coupe', 'Convertible', 'Coupe', 'Convertible', 'Coupe', 'Convertible', 'Convertible'\n",
      "$ highway_mpg       <i64> 26, 28, 28, 28, 28, 28, 26, 28, 28, 27\n",
      "$ city_mpg          <i64> 19, 19, 20, 18, 18, 18, 17, 20, 18, 18\n",
      "$ popularity        <i64> 3916, 3916, 3916, 3916, 3916, 3916, 3916, 3916, 3916, 3916\n",
      "$ msrp              <i64> 46135, 40650, 36350, 29450, 34500, 31200, 44100, 39300, 36900, 37200\n",
      "\n"
     ]
    }
   ],
   "source": [
    "df.glimpse()"
   ]
  },
  {
   "cell_type": "code",
   "execution_count": 5,
   "metadata": {},
   "outputs": [
    {
     "data": {
      "text/html": [
       "<div><style>\n",
       ".dataframe > thead > tr,\n",
       ".dataframe > tbody > tr {\n",
       "  text-align: right;\n",
       "  white-space: pre-wrap;\n",
       "}\n",
       "</style>\n",
       "<small>shape: (9, 17)</small><table border=\"1\" class=\"dataframe\"><thead><tr><th>statistic</th><th>make</th><th>model</th><th>year</th><th>engine_fuel_type</th><th>engine_hp</th><th>engine_cylinders</th><th>transmission_type</th><th>driven_wheels</th><th>number_of_doors</th><th>market_category</th><th>vehicle_size</th><th>vehicle_style</th><th>highway_mpg</th><th>city_mpg</th><th>popularity</th><th>msrp</th></tr><tr><td>str</td><td>str</td><td>str</td><td>f64</td><td>str</td><td>f64</td><td>f64</td><td>str</td><td>str</td><td>f64</td><td>str</td><td>str</td><td>str</td><td>f64</td><td>f64</td><td>f64</td><td>f64</td></tr></thead><tbody><tr><td>&quot;count&quot;</td><td>&quot;11914&quot;</td><td>&quot;11914&quot;</td><td>11914.0</td><td>&quot;11911&quot;</td><td>11845.0</td><td>11884.0</td><td>&quot;11914&quot;</td><td>&quot;11914&quot;</td><td>11908.0</td><td>&quot;11914&quot;</td><td>&quot;11914&quot;</td><td>&quot;11914&quot;</td><td>11914.0</td><td>11914.0</td><td>11914.0</td><td>11914.0</td></tr><tr><td>&quot;null_count&quot;</td><td>&quot;0&quot;</td><td>&quot;0&quot;</td><td>0.0</td><td>&quot;3&quot;</td><td>69.0</td><td>30.0</td><td>&quot;0&quot;</td><td>&quot;0&quot;</td><td>6.0</td><td>&quot;0&quot;</td><td>&quot;0&quot;</td><td>&quot;0&quot;</td><td>0.0</td><td>0.0</td><td>0.0</td><td>0.0</td></tr><tr><td>&quot;mean&quot;</td><td>null</td><td>null</td><td>2010.384338</td><td>null</td><td>249.38607</td><td>5.628829</td><td>null</td><td>null</td><td>3.436093</td><td>null</td><td>null</td><td>null</td><td>26.637485</td><td>19.733255</td><td>1554.911197</td><td>40594.737032</td></tr><tr><td>&quot;std&quot;</td><td>null</td><td>null</td><td>7.57974</td><td>null</td><td>109.19187</td><td>1.780559</td><td>null</td><td>null</td><td>0.881315</td><td>null</td><td>null</td><td>null</td><td>8.863001</td><td>8.987798</td><td>1441.855347</td><td>60109.103604</td></tr><tr><td>&quot;min&quot;</td><td>&quot;Acura&quot;</td><td>&quot;1 Series&quot;</td><td>1990.0</td><td>&quot;diesel&quot;</td><td>55.0</td><td>0.0</td><td>&quot;AUTOMATED_MANUAL&quot;</td><td>&quot;all wheel drive&quot;</td><td>2.0</td><td>&quot;Crossover&quot;</td><td>&quot;Compact&quot;</td><td>&quot;2dr Hatchback&quot;</td><td>12.0</td><td>7.0</td><td>2.0</td><td>2000.0</td></tr><tr><td>&quot;25%&quot;</td><td>null</td><td>null</td><td>2007.0</td><td>null</td><td>170.0</td><td>4.0</td><td>null</td><td>null</td><td>2.0</td><td>null</td><td>null</td><td>null</td><td>22.0</td><td>16.0</td><td>549.0</td><td>21000.0</td></tr><tr><td>&quot;50%&quot;</td><td>null</td><td>null</td><td>2015.0</td><td>null</td><td>227.0</td><td>6.0</td><td>null</td><td>null</td><td>4.0</td><td>null</td><td>null</td><td>null</td><td>26.0</td><td>18.0</td><td>1385.0</td><td>29995.0</td></tr><tr><td>&quot;75%&quot;</td><td>null</td><td>null</td><td>2016.0</td><td>null</td><td>300.0</td><td>6.0</td><td>null</td><td>null</td><td>4.0</td><td>null</td><td>null</td><td>null</td><td>30.0</td><td>22.0</td><td>2009.0</td><td>42235.0</td></tr><tr><td>&quot;max&quot;</td><td>&quot;Volvo&quot;</td><td>&quot;xD&quot;</td><td>2017.0</td><td>&quot;regular unleaded&quot;</td><td>1001.0</td><td>16.0</td><td>&quot;UNKNOWN&quot;</td><td>&quot;rear wheel drive&quot;</td><td>4.0</td><td>&quot;Performance,Hybrid&quot;</td><td>&quot;Midsize&quot;</td><td>&quot;Wagon&quot;</td><td>354.0</td><td>137.0</td><td>5657.0</td><td>2.065902e6</td></tr></tbody></table></div>"
      ],
      "text/plain": [
       "shape: (9, 17)\n",
       "┌────────────┬───────┬──────────┬────────────┬───┬────────────┬───────────┬────────────┬───────────┐\n",
       "│ statistic  ┆ make  ┆ model    ┆ year       ┆ … ┆ highway_mp ┆ city_mpg  ┆ popularity ┆ msrp      │\n",
       "│ ---        ┆ ---   ┆ ---      ┆ ---        ┆   ┆ g          ┆ ---       ┆ ---        ┆ ---       │\n",
       "│ str        ┆ str   ┆ str      ┆ f64        ┆   ┆ ---        ┆ f64       ┆ f64        ┆ f64       │\n",
       "│            ┆       ┆          ┆            ┆   ┆ f64        ┆           ┆            ┆           │\n",
       "╞════════════╪═══════╪══════════╪════════════╪═══╪════════════╪═══════════╪════════════╪═══════════╡\n",
       "│ count      ┆ 11914 ┆ 11914    ┆ 11914.0    ┆ … ┆ 11914.0    ┆ 11914.0   ┆ 11914.0    ┆ 11914.0   │\n",
       "│ null_count ┆ 0     ┆ 0        ┆ 0.0        ┆ … ┆ 0.0        ┆ 0.0       ┆ 0.0        ┆ 0.0       │\n",
       "│ mean       ┆ null  ┆ null     ┆ 2010.38433 ┆ … ┆ 26.637485  ┆ 19.733255 ┆ 1554.91119 ┆ 40594.737 │\n",
       "│            ┆       ┆          ┆ 8          ┆   ┆            ┆           ┆ 7          ┆ 032       │\n",
       "│ std        ┆ null  ┆ null     ┆ 7.57974    ┆ … ┆ 8.863001   ┆ 8.987798  ┆ 1441.85534 ┆ 60109.103 │\n",
       "│            ┆       ┆          ┆            ┆   ┆            ┆           ┆ 7          ┆ 604       │\n",
       "│ min        ┆ Acura ┆ 1 Series ┆ 1990.0     ┆ … ┆ 12.0       ┆ 7.0       ┆ 2.0        ┆ 2000.0    │\n",
       "│ 25%        ┆ null  ┆ null     ┆ 2007.0     ┆ … ┆ 22.0       ┆ 16.0      ┆ 549.0      ┆ 21000.0   │\n",
       "│ 50%        ┆ null  ┆ null     ┆ 2015.0     ┆ … ┆ 26.0       ┆ 18.0      ┆ 1385.0     ┆ 29995.0   │\n",
       "│ 75%        ┆ null  ┆ null     ┆ 2016.0     ┆ … ┆ 30.0       ┆ 22.0      ┆ 2009.0     ┆ 42235.0   │\n",
       "│ max        ┆ Volvo ┆ xD       ┆ 2017.0     ┆ … ┆ 354.0      ┆ 137.0     ┆ 5657.0     ┆ 2.065902e │\n",
       "│            ┆       ┆          ┆            ┆   ┆            ┆           ┆            ┆ 6         │\n",
       "└────────────┴───────┴──────────┴────────────┴───┴────────────┴───────────┴────────────┴───────────┘"
      ]
     },
     "execution_count": 5,
     "metadata": {},
     "output_type": "execute_result"
    }
   ],
   "source": [
    "df.describe()"
   ]
  },
  {
   "cell_type": "code",
   "execution_count": 6,
   "metadata": {},
   "outputs": [
    {
     "data": {
      "text/html": [
       "<div><style>\n",
       ".dataframe > thead > tr,\n",
       ".dataframe > tbody > tr {\n",
       "  text-align: right;\n",
       "  white-space: pre-wrap;\n",
       "}\n",
       "</style>\n",
       "<small>shape: (5, 16)</small><table border=\"1\" class=\"dataframe\"><thead><tr><th>make</th><th>model</th><th>year</th><th>engine_fuel_type</th><th>engine_hp</th><th>engine_cylinders</th><th>transmission_type</th><th>driven_wheels</th><th>number_of_doors</th><th>market_category</th><th>vehicle_size</th><th>vehicle_style</th><th>highway_mpg</th><th>city_mpg</th><th>popularity</th><th>msrp</th></tr><tr><td>str</td><td>str</td><td>i64</td><td>str</td><td>i64</td><td>i64</td><td>str</td><td>str</td><td>i64</td><td>str</td><td>str</td><td>str</td><td>i64</td><td>i64</td><td>i64</td><td>i64</td></tr></thead><tbody><tr><td>&quot;BMW&quot;</td><td>&quot;1 Series M&quot;</td><td>2011</td><td>&quot;premium unleaded (required)&quot;</td><td>335</td><td>6</td><td>&quot;MANUAL&quot;</td><td>&quot;rear wheel drive&quot;</td><td>2</td><td>&quot;Factory Tuner,Luxury,High-Perf…</td><td>&quot;Compact&quot;</td><td>&quot;Coupe&quot;</td><td>26</td><td>19</td><td>3916</td><td>46135</td></tr><tr><td>&quot;BMW&quot;</td><td>&quot;1 Series&quot;</td><td>2011</td><td>&quot;premium unleaded (required)&quot;</td><td>300</td><td>6</td><td>&quot;MANUAL&quot;</td><td>&quot;rear wheel drive&quot;</td><td>2</td><td>&quot;Luxury,Performance&quot;</td><td>&quot;Compact&quot;</td><td>&quot;Convertible&quot;</td><td>28</td><td>19</td><td>3916</td><td>40650</td></tr><tr><td>&quot;BMW&quot;</td><td>&quot;1 Series&quot;</td><td>2011</td><td>&quot;premium unleaded (required)&quot;</td><td>300</td><td>6</td><td>&quot;MANUAL&quot;</td><td>&quot;rear wheel drive&quot;</td><td>2</td><td>&quot;Luxury,High-Performance&quot;</td><td>&quot;Compact&quot;</td><td>&quot;Coupe&quot;</td><td>28</td><td>20</td><td>3916</td><td>36350</td></tr><tr><td>&quot;BMW&quot;</td><td>&quot;1 Series&quot;</td><td>2011</td><td>&quot;premium unleaded (required)&quot;</td><td>230</td><td>6</td><td>&quot;MANUAL&quot;</td><td>&quot;rear wheel drive&quot;</td><td>2</td><td>&quot;Luxury,Performance&quot;</td><td>&quot;Compact&quot;</td><td>&quot;Coupe&quot;</td><td>28</td><td>18</td><td>3916</td><td>29450</td></tr><tr><td>&quot;BMW&quot;</td><td>&quot;1 Series&quot;</td><td>2011</td><td>&quot;premium unleaded (required)&quot;</td><td>230</td><td>6</td><td>&quot;MANUAL&quot;</td><td>&quot;rear wheel drive&quot;</td><td>2</td><td>&quot;Luxury&quot;</td><td>&quot;Compact&quot;</td><td>&quot;Convertible&quot;</td><td>28</td><td>18</td><td>3916</td><td>34500</td></tr></tbody></table></div>"
      ],
      "text/plain": [
       "shape: (5, 16)\n",
       "┌──────┬────────────┬──────┬──────────────────┬───┬─────────────┬──────────┬────────────┬───────┐\n",
       "│ make ┆ model      ┆ year ┆ engine_fuel_type ┆ … ┆ highway_mpg ┆ city_mpg ┆ popularity ┆ msrp  │\n",
       "│ ---  ┆ ---        ┆ ---  ┆ ---              ┆   ┆ ---         ┆ ---      ┆ ---        ┆ ---   │\n",
       "│ str  ┆ str        ┆ i64  ┆ str              ┆   ┆ i64         ┆ i64      ┆ i64        ┆ i64   │\n",
       "╞══════╪════════════╪══════╪══════════════════╪═══╪═════════════╪══════════╪════════════╪═══════╡\n",
       "│ BMW  ┆ 1 Series M ┆ 2011 ┆ premium unleaded ┆ … ┆ 26          ┆ 19       ┆ 3916       ┆ 46135 │\n",
       "│      ┆            ┆      ┆ (required)       ┆   ┆             ┆          ┆            ┆       │\n",
       "│ BMW  ┆ 1 Series   ┆ 2011 ┆ premium unleaded ┆ … ┆ 28          ┆ 19       ┆ 3916       ┆ 40650 │\n",
       "│      ┆            ┆      ┆ (required)       ┆   ┆             ┆          ┆            ┆       │\n",
       "│ BMW  ┆ 1 Series   ┆ 2011 ┆ premium unleaded ┆ … ┆ 28          ┆ 20       ┆ 3916       ┆ 36350 │\n",
       "│      ┆            ┆      ┆ (required)       ┆   ┆             ┆          ┆            ┆       │\n",
       "│ BMW  ┆ 1 Series   ┆ 2011 ┆ premium unleaded ┆ … ┆ 28          ┆ 18       ┆ 3916       ┆ 29450 │\n",
       "│      ┆            ┆      ┆ (required)       ┆   ┆             ┆          ┆            ┆       │\n",
       "│ BMW  ┆ 1 Series   ┆ 2011 ┆ premium unleaded ┆ … ┆ 28          ┆ 18       ┆ 3916       ┆ 34500 │\n",
       "│      ┆            ┆      ┆ (required)       ┆   ┆             ┆          ┆            ┆       │\n",
       "└──────┴────────────┴──────┴──────────────────┴───┴─────────────┴──────────┴────────────┴───────┘"
      ]
     },
     "execution_count": 6,
     "metadata": {},
     "output_type": "execute_result"
    }
   ],
   "source": [
    "df.head()"
   ]
  },
  {
   "cell_type": "code",
   "execution_count": 7,
   "metadata": {},
   "outputs": [
    {
     "data": {
      "text/html": [
       "<div><style>\n",
       ".dataframe > thead > tr,\n",
       ".dataframe > tbody > tr {\n",
       "  text-align: right;\n",
       "  white-space: pre-wrap;\n",
       "}\n",
       "</style>\n",
       "<small>shape: (4, 2)</small><table border=\"1\" class=\"dataframe\"><thead><tr><th>column</th><th>null_count</th></tr><tr><td>str</td><td>u32</td></tr></thead><tbody><tr><td>&quot;engine_hp&quot;</td><td>69</td></tr><tr><td>&quot;engine_cylinders&quot;</td><td>30</td></tr><tr><td>&quot;number_of_doors&quot;</td><td>6</td></tr><tr><td>&quot;engine_fuel_type&quot;</td><td>3</td></tr></tbody></table></div>"
      ],
      "text/plain": [
       "shape: (4, 2)\n",
       "┌──────────────────┬────────────┐\n",
       "│ column           ┆ null_count │\n",
       "│ ---              ┆ ---        │\n",
       "│ str              ┆ u32        │\n",
       "╞══════════════════╪════════════╡\n",
       "│ engine_hp        ┆ 69         │\n",
       "│ engine_cylinders ┆ 30         │\n",
       "│ number_of_doors  ┆ 6          │\n",
       "│ engine_fuel_type ┆ 3          │\n",
       "└──────────────────┴────────────┘"
      ]
     },
     "execution_count": 7,
     "metadata": {},
     "output_type": "execute_result"
    }
   ],
   "source": [
    "df.null_count().transpose(include_header=True, column_names=[\"null_count\"]).filter(\n",
    "    pl.col(\"null_count\") != 0\n",
    ").sort(pl.col(\"null_count\"), descending=True)"
   ]
  },
  {
   "cell_type": "markdown",
   "metadata": {},
   "source": [
    "## Exploratory Data Analysis\n"
   ]
  },
  {
   "cell_type": "code",
   "execution_count": 31,
   "metadata": {},
   "outputs": [
    {
     "data": {
      "text/html": [
       "<div><style>\n",
       ".dataframe > thead > tr,\n",
       ".dataframe > tbody > tr {\n",
       "  text-align: right;\n",
       "  white-space: pre-wrap;\n",
       "}\n",
       "</style>\n",
       "<small>shape: (16, 2)</small><table border=\"1\" class=\"dataframe\"><thead><tr><th>column</th><th>unique_count</th></tr><tr><td>str</td><td>u32</td></tr></thead><tbody><tr><td>&quot;make&quot;</td><td>48</td></tr><tr><td>&quot;model&quot;</td><td>915</td></tr><tr><td>&quot;year&quot;</td><td>28</td></tr><tr><td>&quot;engine_fuel_type&quot;</td><td>11</td></tr><tr><td>&quot;engine_hp&quot;</td><td>357</td></tr><tr><td>&hellip;</td><td>&hellip;</td></tr><tr><td>&quot;vehicle_style&quot;</td><td>16</td></tr><tr><td>&quot;highway_mpg&quot;</td><td>59</td></tr><tr><td>&quot;city_mpg&quot;</td><td>69</td></tr><tr><td>&quot;popularity&quot;</td><td>48</td></tr><tr><td>&quot;msrp&quot;</td><td>6049</td></tr></tbody></table></div>"
      ],
      "text/plain": [
       "shape: (16, 2)\n",
       "┌──────────────────┬──────────────┐\n",
       "│ column           ┆ unique_count │\n",
       "│ ---              ┆ ---          │\n",
       "│ str              ┆ u32          │\n",
       "╞══════════════════╪══════════════╡\n",
       "│ make             ┆ 48           │\n",
       "│ model            ┆ 915          │\n",
       "│ year             ┆ 28           │\n",
       "│ engine_fuel_type ┆ 11           │\n",
       "│ engine_hp        ┆ 357          │\n",
       "│ …                ┆ …            │\n",
       "│ vehicle_style    ┆ 16           │\n",
       "│ highway_mpg      ┆ 59           │\n",
       "│ city_mpg         ┆ 69           │\n",
       "│ popularity       ┆ 48           │\n",
       "│ msrp             ┆ 6049         │\n",
       "└──────────────────┴──────────────┘"
      ]
     },
     "execution_count": 31,
     "metadata": {},
     "output_type": "execute_result"
    }
   ],
   "source": [
    "df.select(pl.all().n_unique()).transpose(\n",
    "    include_header=True, column_names=[\"unique_count\"]\n",
    ")"
   ]
  },
  {
   "cell_type": "code",
   "execution_count": 21,
   "metadata": {},
   "outputs": [
    {
     "name": "stdout",
     "output_type": "stream",
     "text": [
      "make\n",
      "['Acura', 'Alfa Romeo', 'Aston Martin', 'Audi', 'BMW']\n",
      "48\n",
      "\n",
      "model\n",
      "['1 Series', '1 Series M', '100', '124 Spider', '190-Class']\n",
      "915\n",
      "\n",
      "year\n",
      "[1990, 1991, 1992, 1993, 1994]\n",
      "28\n",
      "\n",
      "engine_fuel_type\n",
      "[None, 'diesel', 'electric', 'flex-fuel (premium unleaded recommended/E85)', 'flex-fuel (premium unleaded required/E85)']\n",
      "11\n",
      "\n",
      "engine_hp\n",
      "[None, 55, 62, 63, 66]\n",
      "357\n",
      "\n",
      "engine_cylinders\n",
      "[None, 0, 3, 4, 5]\n",
      "10\n",
      "\n",
      "transmission_type\n",
      "['AUTOMATED_MANUAL', 'AUTOMATIC', 'DIRECT_DRIVE', 'MANUAL', 'UNKNOWN']\n",
      "5\n",
      "\n",
      "driven_wheels\n",
      "['all wheel drive', 'four wheel drive', 'front wheel drive', 'rear wheel drive']\n",
      "4\n",
      "\n",
      "number_of_doors\n",
      "[None, 2, 3, 4]\n",
      "4\n",
      "\n",
      "market_category\n",
      "['Crossover', 'Crossover,Diesel', 'Crossover,Exotic,Luxury,High-Performance', 'Crossover,Exotic,Luxury,Performance', 'Crossover,Factory Tuner,Luxury,High-Performance']\n",
      "72\n",
      "\n",
      "vehicle_size\n",
      "['Compact', 'Large', 'Midsize']\n",
      "3\n",
      "\n",
      "vehicle_style\n",
      "['2dr Hatchback', '2dr SUV', '4dr Hatchback', '4dr SUV', 'Cargo Minivan']\n",
      "16\n",
      "\n",
      "highway_mpg\n",
      "[12, 13, 14, 15, 16]\n",
      "59\n",
      "\n",
      "city_mpg\n",
      "[7, 8, 9, 10, 11]\n",
      "69\n",
      "\n",
      "popularity\n",
      "[2, 21, 26, 61, 67]\n",
      "48\n",
      "\n",
      "msrp\n",
      "[2000, 2002, 2003, 2008, 2012]\n",
      "6049\n",
      "\n"
     ]
    }
   ],
   "source": [
    "for col in df.columns:\n",
    "    print(col)\n",
    "    print(df.get_column(col).unique().sort().head(5).to_list())\n",
    "    print(df.get_column(col).n_unique())\n",
    "    print()"
   ]
  }
 ],
 "metadata": {
  "kernelspec": {
   "display_name": ".venv",
   "language": "python",
   "name": "python3"
  },
  "language_info": {
   "codemirror_mode": {
    "name": "ipython",
    "version": 3
   },
   "file_extension": ".py",
   "mimetype": "text/x-python",
   "name": "python",
   "nbconvert_exporter": "python",
   "pygments_lexer": "ipython3",
   "version": "3.12.6"
  }
 },
 "nbformat": 4,
 "nbformat_minor": 2
}
