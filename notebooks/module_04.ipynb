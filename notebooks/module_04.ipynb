{
 "cells": [
  {
   "cell_type": "markdown",
   "metadata": {},
   "source": [
    "# Module 04\n"
   ]
  },
  {
   "cell_type": "code",
   "execution_count": 1,
   "metadata": {},
   "outputs": [
    {
     "name": "stderr",
     "output_type": "stream",
     "text": [
      "/home/nikki/workspace/ml-zoomcamp/.venv/lib/python3.12/site-packages/tqdm/auto.py:21: TqdmWarning: IProgress not found. Please update jupyter and ipywidgets. See https://ipywidgets.readthedocs.io/en/stable/user_install.html\n",
      "  from .autonotebook import tqdm as notebook_tqdm\n"
     ]
    }
   ],
   "source": [
    "import random\n",
    "from collections import Counter\n",
    "from pathlib import Path\n",
    "\n",
    "import altair as alt\n",
    "import matplotlib.pyplot as plt\n",
    "import numpy as np\n",
    "import polars as pl\n",
    "import polars.selectors as cs\n",
    "from sklearn.feature_extraction import DictVectorizer\n",
    "from sklearn.linear_model import LogisticRegression\n",
    "from sklearn.metrics import (\n",
    "    accuracy_score,\n",
    "    auc,\n",
    "    mutual_info_score,\n",
    "    roc_auc_score,\n",
    "    roc_curve,\n",
    ")\n",
    "from sklearn.model_selection import KFold, train_test_split\n",
    "from tqdm.auto import tqdm\n",
    "\n",
    "from ml_zoomcamp.utils import clean_column_names, load_data\n",
    "\n",
    "alt.data_transformers.disable_max_rows()\n",
    "\n",
    "ROOT_DIR = Path.cwd().parent\n",
    "DATA_DIR = ROOT_DIR.joinpath(\"data\")"
   ]
  },
  {
   "cell_type": "markdown",
   "metadata": {},
   "source": [
    "## 1. Data Preparation\n"
   ]
  },
  {
   "cell_type": "code",
   "execution_count": 2,
   "metadata": {},
   "outputs": [],
   "source": [
    "csv_uri = \"https://raw.githubusercontent.com/alexeygrigorev/mlbookcamp-code/master/chapter-03-churn-prediction/WA_Fn-UseC_-Telco-Customer-Churn.csv\"\n",
    "df = load_data(csv_uri, DATA_DIR)\n",
    "df = clean_column_names(df)\n",
    "\n",
    "df = df.with_columns(\n",
    "    cs.string()\n",
    "    .str.to_lowercase()\n",
    "    .str.replace_all(r\"[^\\w\\s-]\", \"\")\n",
    "    .str.replace_all(r\"\\s+|-+\", \"_\")\n",
    ")"
   ]
  },
  {
   "cell_type": "code",
   "execution_count": 3,
   "metadata": {},
   "outputs": [
    {
     "data": {
      "text/plain": [
       "Schema([('customerid', String),\n",
       "        ('gender', String),\n",
       "        ('seniorcitizen', Int64),\n",
       "        ('partner', String),\n",
       "        ('dependents', String),\n",
       "        ('tenure', Int64),\n",
       "        ('phoneservice', String),\n",
       "        ('multiplelines', String),\n",
       "        ('internetservice', String),\n",
       "        ('onlinesecurity', String),\n",
       "        ('onlinebackup', String),\n",
       "        ('deviceprotection', String),\n",
       "        ('techsupport', String),\n",
       "        ('streamingtv', String),\n",
       "        ('streamingmovies', String),\n",
       "        ('contract', String),\n",
       "        ('paperlessbilling', String),\n",
       "        ('paymentmethod', String),\n",
       "        ('monthlycharges', Float64),\n",
       "        ('totalcharges', Float64),\n",
       "        ('churn', String)])"
      ]
     },
     "execution_count": 3,
     "metadata": {},
     "output_type": "execute_result"
    }
   ],
   "source": [
    "df.schema"
   ]
  },
  {
   "cell_type": "code",
   "execution_count": 4,
   "metadata": {},
   "outputs": [
    {
     "name": "stdout",
     "output_type": "stream",
     "text": [
      "Rows: 7043\n",
      "Columns: 21\n",
      "$ customerid       <str> '7590_vhveg', '5575_gnvde', '3668_qpybk', '7795_cfocw', '9237_hqitu', '9305_cdskc', '1452_kiovk', '6713_okomc', '7892_pookp', '6388_tabgu'\n",
      "$ gender           <str> 'female', 'male', 'male', 'male', 'female', 'female', 'male', 'female', 'female', 'male'\n",
      "$ seniorcitizen    <i64> 0, 0, 0, 0, 0, 0, 0, 0, 0, 0\n",
      "$ partner          <str> 'yes', 'no', 'no', 'no', 'no', 'no', 'no', 'no', 'yes', 'no'\n",
      "$ dependents       <str> 'no', 'no', 'no', 'no', 'no', 'no', 'yes', 'no', 'no', 'yes'\n",
      "$ tenure           <i64> 1, 34, 2, 45, 2, 8, 22, 10, 28, 62\n",
      "$ phoneservice     <str> 'no', 'yes', 'yes', 'no', 'yes', 'yes', 'yes', 'no', 'yes', 'yes'\n",
      "$ multiplelines    <str> 'no_phone_service', 'no', 'no', 'no_phone_service', 'no', 'yes', 'yes', 'no_phone_service', 'yes', 'no'\n",
      "$ internetservice  <str> 'dsl', 'dsl', 'dsl', 'dsl', 'fiber_optic', 'fiber_optic', 'fiber_optic', 'dsl', 'fiber_optic', 'dsl'\n",
      "$ onlinesecurity   <str> 'no', 'yes', 'yes', 'yes', 'no', 'no', 'no', 'yes', 'no', 'yes'\n",
      "$ onlinebackup     <str> 'yes', 'no', 'yes', 'no', 'no', 'no', 'yes', 'no', 'no', 'yes'\n",
      "$ deviceprotection <str> 'no', 'yes', 'no', 'yes', 'no', 'yes', 'no', 'no', 'yes', 'no'\n",
      "$ techsupport      <str> 'no', 'no', 'no', 'yes', 'no', 'no', 'no', 'no', 'yes', 'no'\n",
      "$ streamingtv      <str> 'no', 'no', 'no', 'no', 'no', 'yes', 'yes', 'no', 'yes', 'no'\n",
      "$ streamingmovies  <str> 'no', 'no', 'no', 'no', 'no', 'yes', 'no', 'no', 'yes', 'no'\n",
      "$ contract         <str> 'month_to_month', 'one_year', 'month_to_month', 'one_year', 'month_to_month', 'month_to_month', 'month_to_month', 'month_to_month', 'month_to_month', 'one_year'\n",
      "$ paperlessbilling <str> 'yes', 'no', 'yes', 'no', 'yes', 'yes', 'yes', 'no', 'yes', 'no'\n",
      "$ paymentmethod    <str> 'electronic_check', 'mailed_check', 'mailed_check', 'bank_transfer_automatic', 'electronic_check', 'electronic_check', 'credit_card_automatic', 'mailed_check', 'electronic_check', 'bank_transfer_automatic'\n",
      "$ monthlycharges   <f64> 29.85, 56.95, 53.85, 42.3, 70.7, 99.65, 89.1, 29.75, 104.8, 56.15\n",
      "$ totalcharges     <f64> 29.85, 1889.5, 108.15, 1840.75, 151.65, 820.5, 1949.4, 301.9, 3046.05, 3487.95\n",
      "$ churn            <str> 'no', 'no', 'yes', 'no', 'yes', 'yes', 'no', 'no', 'yes', 'no'\n",
      "\n"
     ]
    }
   ],
   "source": [
    "df.glimpse()"
   ]
  },
  {
   "cell_type": "code",
   "execution_count": null,
   "metadata": {},
   "outputs": [
    {
     "data": {
      "text/html": [
       "<div><style>\n",
       ".dataframe > thead > tr,\n",
       ".dataframe > tbody > tr {\n",
       "  text-align: right;\n",
       "  white-space: pre-wrap;\n",
       "}\n",
       "</style>\n",
       "<small>shape: (9, 22)</small><table border=\"1\" class=\"dataframe\"><thead><tr><th>statistic</th><th>customerid</th><th>gender</th><th>seniorcitizen</th><th>partner</th><th>dependents</th><th>tenure</th><th>phoneservice</th><th>multiplelines</th><th>internetservice</th><th>onlinesecurity</th><th>onlinebackup</th><th>deviceprotection</th><th>techsupport</th><th>streamingtv</th><th>streamingmovies</th><th>contract</th><th>paperlessbilling</th><th>paymentmethod</th><th>monthlycharges</th><th>totalcharges</th><th>churn</th></tr><tr><td>str</td><td>str</td><td>str</td><td>f64</td><td>str</td><td>str</td><td>f64</td><td>str</td><td>str</td><td>str</td><td>str</td><td>str</td><td>str</td><td>str</td><td>str</td><td>str</td><td>str</td><td>str</td><td>str</td><td>f64</td><td>f64</td><td>str</td></tr></thead><tbody><tr><td>&quot;count&quot;</td><td>&quot;7043&quot;</td><td>&quot;7043&quot;</td><td>7043.0</td><td>&quot;7043&quot;</td><td>&quot;7043&quot;</td><td>7043.0</td><td>&quot;7043&quot;</td><td>&quot;7043&quot;</td><td>&quot;7043&quot;</td><td>&quot;7043&quot;</td><td>&quot;7043&quot;</td><td>&quot;7043&quot;</td><td>&quot;7043&quot;</td><td>&quot;7043&quot;</td><td>&quot;7043&quot;</td><td>&quot;7043&quot;</td><td>&quot;7043&quot;</td><td>&quot;7043&quot;</td><td>7043.0</td><td>7032.0</td><td>&quot;7043&quot;</td></tr><tr><td>&quot;null_count&quot;</td><td>&quot;0&quot;</td><td>&quot;0&quot;</td><td>0.0</td><td>&quot;0&quot;</td><td>&quot;0&quot;</td><td>0.0</td><td>&quot;0&quot;</td><td>&quot;0&quot;</td><td>&quot;0&quot;</td><td>&quot;0&quot;</td><td>&quot;0&quot;</td><td>&quot;0&quot;</td><td>&quot;0&quot;</td><td>&quot;0&quot;</td><td>&quot;0&quot;</td><td>&quot;0&quot;</td><td>&quot;0&quot;</td><td>&quot;0&quot;</td><td>0.0</td><td>11.0</td><td>&quot;0&quot;</td></tr><tr><td>&quot;mean&quot;</td><td>null</td><td>null</td><td>0.162147</td><td>null</td><td>null</td><td>32.371149</td><td>null</td><td>null</td><td>null</td><td>null</td><td>null</td><td>null</td><td>null</td><td>null</td><td>null</td><td>null</td><td>null</td><td>null</td><td>64.761692</td><td>2283.300441</td><td>null</td></tr><tr><td>&quot;std&quot;</td><td>null</td><td>null</td><td>0.368612</td><td>null</td><td>null</td><td>24.559481</td><td>null</td><td>null</td><td>null</td><td>null</td><td>null</td><td>null</td><td>null</td><td>null</td><td>null</td><td>null</td><td>null</td><td>null</td><td>30.090047</td><td>2266.771362</td><td>null</td></tr><tr><td>&quot;min&quot;</td><td>&quot;0002_orfbo&quot;</td><td>&quot;female&quot;</td><td>0.0</td><td>&quot;no&quot;</td><td>&quot;no&quot;</td><td>0.0</td><td>&quot;no&quot;</td><td>&quot;no&quot;</td><td>&quot;dsl&quot;</td><td>&quot;no&quot;</td><td>&quot;no&quot;</td><td>&quot;no&quot;</td><td>&quot;no&quot;</td><td>&quot;no&quot;</td><td>&quot;no&quot;</td><td>&quot;month_to_month&quot;</td><td>&quot;no&quot;</td><td>&quot;bank_transfer_automatic&quot;</td><td>18.25</td><td>18.8</td><td>&quot;no&quot;</td></tr><tr><td>&quot;25%&quot;</td><td>null</td><td>null</td><td>0.0</td><td>null</td><td>null</td><td>9.0</td><td>null</td><td>null</td><td>null</td><td>null</td><td>null</td><td>null</td><td>null</td><td>null</td><td>null</td><td>null</td><td>null</td><td>null</td><td>35.5</td><td>401.5</td><td>null</td></tr><tr><td>&quot;50%&quot;</td><td>null</td><td>null</td><td>0.0</td><td>null</td><td>null</td><td>29.0</td><td>null</td><td>null</td><td>null</td><td>null</td><td>null</td><td>null</td><td>null</td><td>null</td><td>null</td><td>null</td><td>null</td><td>null</td><td>70.35</td><td>1397.65</td><td>null</td></tr><tr><td>&quot;75%&quot;</td><td>null</td><td>null</td><td>0.0</td><td>null</td><td>null</td><td>55.0</td><td>null</td><td>null</td><td>null</td><td>null</td><td>null</td><td>null</td><td>null</td><td>null</td><td>null</td><td>null</td><td>null</td><td>null</td><td>89.85</td><td>3794.5</td><td>null</td></tr><tr><td>&quot;max&quot;</td><td>&quot;9995_hotoh&quot;</td><td>&quot;male&quot;</td><td>1.0</td><td>&quot;yes&quot;</td><td>&quot;yes&quot;</td><td>72.0</td><td>&quot;yes&quot;</td><td>&quot;yes&quot;</td><td>&quot;no&quot;</td><td>&quot;yes&quot;</td><td>&quot;yes&quot;</td><td>&quot;yes&quot;</td><td>&quot;yes&quot;</td><td>&quot;yes&quot;</td><td>&quot;yes&quot;</td><td>&quot;two_year&quot;</td><td>&quot;yes&quot;</td><td>&quot;mailed_check&quot;</td><td>118.75</td><td>8684.8</td><td>&quot;yes&quot;</td></tr></tbody></table></div>"
      ],
      "text/plain": [
       "shape: (9, 22)\n",
       "┌────────────┬────────────┬────────┬────────────┬───┬────────────┬────────────┬────────────┬───────┐\n",
       "│ statistic  ┆ customerid ┆ gender ┆ seniorciti ┆ … ┆ paymentmet ┆ monthlycha ┆ totalcharg ┆ churn │\n",
       "│ ---        ┆ ---        ┆ ---    ┆ zen        ┆   ┆ hod        ┆ rges       ┆ es         ┆ ---   │\n",
       "│ str        ┆ str        ┆ str    ┆ ---        ┆   ┆ ---        ┆ ---        ┆ ---        ┆ str   │\n",
       "│            ┆            ┆        ┆ f64        ┆   ┆ str        ┆ f64        ┆ f64        ┆       │\n",
       "╞════════════╪════════════╪════════╪════════════╪═══╪════════════╪════════════╪════════════╪═══════╡\n",
       "│ count      ┆ 7043       ┆ 7043   ┆ 7043.0     ┆ … ┆ 7043       ┆ 7043.0     ┆ 7032.0     ┆ 7043  │\n",
       "│ null_count ┆ 0          ┆ 0      ┆ 0.0        ┆ … ┆ 0          ┆ 0.0        ┆ 11.0       ┆ 0     │\n",
       "│ mean       ┆ null       ┆ null   ┆ 0.162147   ┆ … ┆ null       ┆ 64.761692  ┆ 2283.30044 ┆ null  │\n",
       "│            ┆            ┆        ┆            ┆   ┆            ┆            ┆ 1          ┆       │\n",
       "│ std        ┆ null       ┆ null   ┆ 0.368612   ┆ … ┆ null       ┆ 30.090047  ┆ 2266.77136 ┆ null  │\n",
       "│            ┆            ┆        ┆            ┆   ┆            ┆            ┆ 2          ┆       │\n",
       "│ min        ┆ 0002_orfbo ┆ female ┆ 0.0        ┆ … ┆ bank_trans ┆ 18.25      ┆ 18.8       ┆ no    │\n",
       "│            ┆            ┆        ┆            ┆   ┆ fer_automa ┆            ┆            ┆       │\n",
       "│            ┆            ┆        ┆            ┆   ┆ tic        ┆            ┆            ┆       │\n",
       "│ 25%        ┆ null       ┆ null   ┆ 0.0        ┆ … ┆ null       ┆ 35.5       ┆ 401.5      ┆ null  │\n",
       "│ 50%        ┆ null       ┆ null   ┆ 0.0        ┆ … ┆ null       ┆ 70.35      ┆ 1397.65    ┆ null  │\n",
       "│ 75%        ┆ null       ┆ null   ┆ 0.0        ┆ … ┆ null       ┆ 89.85      ┆ 3794.5     ┆ null  │\n",
       "│ max        ┆ 9995_hotoh ┆ male   ┆ 1.0        ┆ … ┆ mailed_che ┆ 118.75     ┆ 8684.8     ┆ yes   │\n",
       "│            ┆            ┆        ┆            ┆   ┆ ck         ┆            ┆            ┆       │\n",
       "└────────────┴────────────┴────────┴────────────┴───┴────────────┴────────────┴────────────┴───────┘"
      ]
     },
     "execution_count": 5,
     "metadata": {},
     "output_type": "execute_result"
    }
   ],
   "source": [
    "df.describe()"
   ]
  },
  {
   "cell_type": "code",
   "execution_count": null,
   "metadata": {},
   "outputs": [
    {
     "data": {
      "text/html": [
       "<div><style>\n",
       ".dataframe > thead > tr,\n",
       ".dataframe > tbody > tr {\n",
       "  text-align: right;\n",
       "  white-space: pre-wrap;\n",
       "}\n",
       "</style>\n",
       "<small>shape: (1, 2)</small><table border=\"1\" class=\"dataframe\"><thead><tr><th>column</th><th>null_count</th></tr><tr><td>str</td><td>u32</td></tr></thead><tbody><tr><td>&quot;totalcharges&quot;</td><td>11</td></tr></tbody></table></div>"
      ],
      "text/plain": [
       "shape: (1, 2)\n",
       "┌──────────────┬────────────┐\n",
       "│ column       ┆ null_count │\n",
       "│ ---          ┆ ---        │\n",
       "│ str          ┆ u32        │\n",
       "╞══════════════╪════════════╡\n",
       "│ totalcharges ┆ 11         │\n",
       "└──────────────┴────────────┘"
      ]
     },
     "execution_count": 6,
     "metadata": {},
     "output_type": "execute_result"
    }
   ],
   "source": [
    "df.null_count().transpose(include_header=True, column_names=[\"null_count\"]).filter(\n",
    "    pl.col(\"null_count\") > 0\n",
    ").sort(pl.col(\"null_count\"), descending=True)"
   ]
  },
  {
   "cell_type": "code",
   "execution_count": null,
   "metadata": {},
   "outputs": [
    {
     "data": {
      "text/html": [
       "<div><style>\n",
       ".dataframe > thead > tr,\n",
       ".dataframe > tbody > tr {\n",
       "  text-align: right;\n",
       "  white-space: pre-wrap;\n",
       "}\n",
       "</style>\n",
       "<small>shape: (11, 2)</small><table border=\"1\" class=\"dataframe\"><thead><tr><th>customerid</th><th>totalcharges</th></tr><tr><td>str</td><td>f64</td></tr></thead><tbody><tr><td>&quot;4472_lvygi&quot;</td><td>null</td></tr><tr><td>&quot;3115_czmzd&quot;</td><td>null</td></tr><tr><td>&quot;5709_lvoeq&quot;</td><td>null</td></tr><tr><td>&quot;4367_nuyao&quot;</td><td>null</td></tr><tr><td>&quot;1371_dwpaz&quot;</td><td>null</td></tr><tr><td>&hellip;</td><td>&hellip;</td></tr><tr><td>&quot;3213_vvolg&quot;</td><td>null</td></tr><tr><td>&quot;2520_sgtta&quot;</td><td>null</td></tr><tr><td>&quot;2923_arzlg&quot;</td><td>null</td></tr><tr><td>&quot;4075_wkniu&quot;</td><td>null</td></tr><tr><td>&quot;2775_sefee&quot;</td><td>null</td></tr></tbody></table></div>"
      ],
      "text/plain": [
       "shape: (11, 2)\n",
       "┌────────────┬──────────────┐\n",
       "│ customerid ┆ totalcharges │\n",
       "│ ---        ┆ ---          │\n",
       "│ str        ┆ f64          │\n",
       "╞════════════╪══════════════╡\n",
       "│ 4472_lvygi ┆ null         │\n",
       "│ 3115_czmzd ┆ null         │\n",
       "│ 5709_lvoeq ┆ null         │\n",
       "│ 4367_nuyao ┆ null         │\n",
       "│ 1371_dwpaz ┆ null         │\n",
       "│ …          ┆ …            │\n",
       "│ 3213_vvolg ┆ null         │\n",
       "│ 2520_sgtta ┆ null         │\n",
       "│ 2923_arzlg ┆ null         │\n",
       "│ 4075_wkniu ┆ null         │\n",
       "│ 2775_sefee ┆ null         │\n",
       "└────────────┴──────────────┘"
      ]
     },
     "execution_count": 7,
     "metadata": {},
     "output_type": "execute_result"
    }
   ],
   "source": [
    "df.filter(pl.col(\"totalcharges\").is_null()).select(pl.col(\"customerid\", \"totalcharges\"))"
   ]
  },
  {
   "cell_type": "code",
   "execution_count": 8,
   "metadata": {},
   "outputs": [],
   "source": [
    "df = df.with_columns(pl.col(\"totalcharges\").fill_null(0))"
   ]
  },
  {
   "cell_type": "code",
   "execution_count": 9,
   "metadata": {},
   "outputs": [],
   "source": [
    "df = df.with_columns((pl.col(\"churn\") == \"yes\").cast(pl.Int8))"
   ]
  },
  {
   "cell_type": "markdown",
   "metadata": {},
   "source": [
    "## 2. Setting Up Validation Framework\n"
   ]
  },
  {
   "cell_type": "code",
   "execution_count": 10,
   "metadata": {},
   "outputs": [],
   "source": [
    "df_full_train, df_test = train_test_split(df, test_size=0.2, random_state=1)\n",
    "df_train, df_val = train_test_split(df_full_train, test_size=0.25, random_state=1)"
   ]
  },
  {
   "cell_type": "code",
   "execution_count": 11,
   "metadata": {},
   "outputs": [
    {
     "data": {
      "text/plain": [
       "(4225, 1409, 1409)"
      ]
     },
     "execution_count": 11,
     "metadata": {},
     "output_type": "execute_result"
    }
   ],
   "source": [
    "len(df_train), len(df_val), len(df_test)"
   ]
  },
  {
   "cell_type": "code",
   "execution_count": 12,
   "metadata": {},
   "outputs": [],
   "source": [
    "y_train = df_train[\"churn\"].to_numpy()\n",
    "y_val = df_val[\"churn\"].to_numpy()\n",
    "y_test = df_test[\"churn\"].to_numpy()"
   ]
  },
  {
   "cell_type": "code",
   "execution_count": 13,
   "metadata": {},
   "outputs": [],
   "source": [
    "df_train = df_train.drop(\"churn\")\n",
    "df_val = df_val.drop(\"churn\")\n",
    "df_test = df_test.drop(\"churn\")"
   ]
  },
  {
   "cell_type": "markdown",
   "metadata": {},
   "source": [
    "## 3. Exploratory Data Analysis\n"
   ]
  },
  {
   "cell_type": "code",
   "execution_count": 14,
   "metadata": {},
   "outputs": [
    {
     "data": {
      "text/html": [
       "<div><style>\n",
       ".dataframe > thead > tr,\n",
       ".dataframe > tbody > tr {\n",
       "  text-align: right;\n",
       "  white-space: pre-wrap;\n",
       "}\n",
       "</style>\n",
       "<small>shape: (0, 2)</small><table border=\"1\" class=\"dataframe\"><thead><tr><th>column</th><th>null_count</th></tr><tr><td>str</td><td>u32</td></tr></thead><tbody></tbody></table></div>"
      ],
      "text/plain": [
       "shape: (0, 2)\n",
       "┌────────┬────────────┐\n",
       "│ column ┆ null_count │\n",
       "│ ---    ┆ ---        │\n",
       "│ str    ┆ u32        │\n",
       "╞════════╪════════════╡\n",
       "└────────┴────────────┘"
      ]
     },
     "execution_count": 14,
     "metadata": {},
     "output_type": "execute_result"
    }
   ],
   "source": [
    "df_full_train.null_count().transpose(\n",
    "    include_header=True, column_names=[\"null_count\"]\n",
    ").filter(pl.col(\"null_count\") > 0)"
   ]
  },
  {
   "cell_type": "code",
   "execution_count": null,
   "metadata": {},
   "outputs": [
    {
     "data": {
      "text/html": [
       "<div><style>\n",
       ".dataframe > thead > tr,\n",
       ".dataframe > tbody > tr {\n",
       "  text-align: right;\n",
       "  white-space: pre-wrap;\n",
       "}\n",
       "</style>\n",
       "<small>shape: (2, 2)</small><table border=\"1\" class=\"dataframe\"><thead><tr><th>churn</th><th>proportion</th></tr><tr><td>i8</td><td>f64</td></tr></thead><tbody><tr><td>0</td><td>0.730032</td></tr><tr><td>1</td><td>0.269968</td></tr></tbody></table></div>"
      ],
      "text/plain": [
       "shape: (2, 2)\n",
       "┌───────┬────────────┐\n",
       "│ churn ┆ proportion │\n",
       "│ ---   ┆ ---        │\n",
       "│ i8    ┆ f64        │\n",
       "╞═══════╪════════════╡\n",
       "│ 0     ┆ 0.730032   │\n",
       "│ 1     ┆ 0.269968   │\n",
       "└───────┴────────────┘"
      ]
     },
     "execution_count": 15,
     "metadata": {},
     "output_type": "execute_result"
    }
   ],
   "source": [
    "df_full_train[\"churn\"].value_counts(sort=True, normalize=True)"
   ]
  },
  {
   "cell_type": "code",
   "execution_count": 16,
   "metadata": {},
   "outputs": [
    {
     "data": {
      "text/plain": [
       "0.27"
      ]
     },
     "execution_count": 16,
     "metadata": {},
     "output_type": "execute_result"
    }
   ],
   "source": [
    "global_churn_rate = df_full_train[\"churn\"].mean()\n",
    "round(global_churn_rate, 2)"
   ]
  },
  {
   "cell_type": "code",
   "execution_count": 17,
   "metadata": {},
   "outputs": [],
   "source": [
    "numerical = [\"tenure\", \"monthlycharges\", \"totalcharges\"]"
   ]
  },
  {
   "cell_type": "code",
   "execution_count": 18,
   "metadata": {},
   "outputs": [],
   "source": [
    "categorical = [\n",
    "    \"gender\",\n",
    "    \"seniorcitizen\",\n",
    "    \"partner\",\n",
    "    \"dependents\",\n",
    "    \"phoneservice\",\n",
    "    \"multiplelines\",\n",
    "    \"internetservice\",\n",
    "    \"onlinesecurity\",\n",
    "    \"onlinebackup\",\n",
    "    \"deviceprotection\",\n",
    "    \"techsupport\",\n",
    "    \"streamingtv\",\n",
    "    \"streamingmovies\",\n",
    "    \"contract\",\n",
    "    \"paperlessbilling\",\n",
    "    \"paymentmethod\",\n",
    "]"
   ]
  },
  {
   "cell_type": "code",
   "execution_count": 19,
   "metadata": {},
   "outputs": [
    {
     "data": {
      "text/html": [
       "<div><style>\n",
       ".dataframe > thead > tr,\n",
       ".dataframe > tbody > tr {\n",
       "  text-align: right;\n",
       "  white-space: pre-wrap;\n",
       "}\n",
       "</style>\n",
       "<small>shape: (1, 16)</small><table border=\"1\" class=\"dataframe\"><thead><tr><th>gender</th><th>seniorcitizen</th><th>partner</th><th>dependents</th><th>phoneservice</th><th>multiplelines</th><th>internetservice</th><th>onlinesecurity</th><th>onlinebackup</th><th>deviceprotection</th><th>techsupport</th><th>streamingtv</th><th>streamingmovies</th><th>contract</th><th>paperlessbilling</th><th>paymentmethod</th></tr><tr><td>u32</td><td>u32</td><td>u32</td><td>u32</td><td>u32</td><td>u32</td><td>u32</td><td>u32</td><td>u32</td><td>u32</td><td>u32</td><td>u32</td><td>u32</td><td>u32</td><td>u32</td><td>u32</td></tr></thead><tbody><tr><td>2</td><td>2</td><td>2</td><td>2</td><td>2</td><td>3</td><td>3</td><td>3</td><td>3</td><td>3</td><td>3</td><td>3</td><td>3</td><td>3</td><td>2</td><td>4</td></tr></tbody></table></div>"
      ],
      "text/plain": [
       "shape: (1, 16)\n",
       "┌────────┬────────────┬─────────┬────────────┬───┬────────────┬──────────┬────────────┬────────────┐\n",
       "│ gender ┆ seniorciti ┆ partner ┆ dependents ┆ … ┆ streamingm ┆ contract ┆ paperlessb ┆ paymentmet │\n",
       "│ ---    ┆ zen        ┆ ---     ┆ ---        ┆   ┆ ovies      ┆ ---      ┆ illing     ┆ hod        │\n",
       "│ u32    ┆ ---        ┆ u32     ┆ u32        ┆   ┆ ---        ┆ u32      ┆ ---        ┆ ---        │\n",
       "│        ┆ u32        ┆         ┆            ┆   ┆ u32        ┆          ┆ u32        ┆ u32        │\n",
       "╞════════╪════════════╪═════════╪════════════╪═══╪════════════╪══════════╪════════════╪════════════╡\n",
       "│ 2      ┆ 2          ┆ 2       ┆ 2          ┆ … ┆ 3          ┆ 3        ┆ 2          ┆ 4          │\n",
       "└────────┴────────────┴─────────┴────────────┴───┴────────────┴──────────┴────────────┴────────────┘"
      ]
     },
     "execution_count": 19,
     "metadata": {},
     "output_type": "execute_result"
    }
   ],
   "source": [
    "df_full_train.select(pl.col(categorical).n_unique())"
   ]
  },
  {
   "cell_type": "markdown",
   "metadata": {},
   "source": [
    "## 4. Feature importance: Churn rate and Risk ratio\n"
   ]
  },
  {
   "cell_type": "markdown",
   "metadata": {},
   "source": [
    "#### Churn rate\n"
   ]
  },
  {
   "cell_type": "code",
   "execution_count": 20,
   "metadata": {},
   "outputs": [
    {
     "data": {
      "text/html": [
       "<div><style>\n",
       ".dataframe > thead > tr,\n",
       ".dataframe > tbody > tr {\n",
       "  text-align: right;\n",
       "  white-space: pre-wrap;\n",
       "}\n",
       "</style>\n",
       "<small>shape: (5, 21)</small><table border=\"1\" class=\"dataframe\"><thead><tr><th>customerid</th><th>gender</th><th>seniorcitizen</th><th>partner</th><th>dependents</th><th>tenure</th><th>phoneservice</th><th>multiplelines</th><th>internetservice</th><th>onlinesecurity</th><th>onlinebackup</th><th>deviceprotection</th><th>techsupport</th><th>streamingtv</th><th>streamingmovies</th><th>contract</th><th>paperlessbilling</th><th>paymentmethod</th><th>monthlycharges</th><th>totalcharges</th><th>churn</th></tr><tr><td>str</td><td>str</td><td>i64</td><td>str</td><td>str</td><td>i64</td><td>str</td><td>str</td><td>str</td><td>str</td><td>str</td><td>str</td><td>str</td><td>str</td><td>str</td><td>str</td><td>str</td><td>str</td><td>f64</td><td>f64</td><td>i8</td></tr></thead><tbody><tr><td>&quot;5442_pptjy&quot;</td><td>&quot;male&quot;</td><td>0</td><td>&quot;yes&quot;</td><td>&quot;yes&quot;</td><td>12</td><td>&quot;yes&quot;</td><td>&quot;no&quot;</td><td>&quot;no&quot;</td><td>&quot;no_internet_service&quot;</td><td>&quot;no_internet_service&quot;</td><td>&quot;no_internet_service&quot;</td><td>&quot;no_internet_service&quot;</td><td>&quot;no_internet_service&quot;</td><td>&quot;no_internet_service&quot;</td><td>&quot;two_year&quot;</td><td>&quot;no&quot;</td><td>&quot;mailed_check&quot;</td><td>19.7</td><td>258.35</td><td>0</td></tr><tr><td>&quot;6261_rcvns&quot;</td><td>&quot;female&quot;</td><td>0</td><td>&quot;no&quot;</td><td>&quot;no&quot;</td><td>42</td><td>&quot;yes&quot;</td><td>&quot;no&quot;</td><td>&quot;dsl&quot;</td><td>&quot;yes&quot;</td><td>&quot;yes&quot;</td><td>&quot;yes&quot;</td><td>&quot;yes&quot;</td><td>&quot;no&quot;</td><td>&quot;yes&quot;</td><td>&quot;one_year&quot;</td><td>&quot;no&quot;</td><td>&quot;credit_card_automatic&quot;</td><td>73.9</td><td>3160.55</td><td>1</td></tr><tr><td>&quot;2176_osjuv&quot;</td><td>&quot;male&quot;</td><td>0</td><td>&quot;yes&quot;</td><td>&quot;no&quot;</td><td>71</td><td>&quot;yes&quot;</td><td>&quot;yes&quot;</td><td>&quot;dsl&quot;</td><td>&quot;yes&quot;</td><td>&quot;yes&quot;</td><td>&quot;no&quot;</td><td>&quot;yes&quot;</td><td>&quot;no&quot;</td><td>&quot;no&quot;</td><td>&quot;two_year&quot;</td><td>&quot;no&quot;</td><td>&quot;bank_transfer_automatic&quot;</td><td>65.15</td><td>4681.75</td><td>0</td></tr><tr><td>&quot;6161_erdgd&quot;</td><td>&quot;male&quot;</td><td>0</td><td>&quot;yes&quot;</td><td>&quot;yes&quot;</td><td>71</td><td>&quot;yes&quot;</td><td>&quot;yes&quot;</td><td>&quot;dsl&quot;</td><td>&quot;yes&quot;</td><td>&quot;no&quot;</td><td>&quot;yes&quot;</td><td>&quot;yes&quot;</td><td>&quot;yes&quot;</td><td>&quot;yes&quot;</td><td>&quot;one_year&quot;</td><td>&quot;no&quot;</td><td>&quot;electronic_check&quot;</td><td>85.45</td><td>6300.85</td><td>0</td></tr><tr><td>&quot;2364_ufrom&quot;</td><td>&quot;male&quot;</td><td>0</td><td>&quot;no&quot;</td><td>&quot;no&quot;</td><td>30</td><td>&quot;yes&quot;</td><td>&quot;no&quot;</td><td>&quot;dsl&quot;</td><td>&quot;yes&quot;</td><td>&quot;yes&quot;</td><td>&quot;no&quot;</td><td>&quot;yes&quot;</td><td>&quot;yes&quot;</td><td>&quot;no&quot;</td><td>&quot;one_year&quot;</td><td>&quot;no&quot;</td><td>&quot;electronic_check&quot;</td><td>70.4</td><td>2044.75</td><td>0</td></tr></tbody></table></div>"
      ],
      "text/plain": [
       "shape: (5, 21)\n",
       "┌────────────┬────────┬─────────────┬─────────┬───┬─────────────┬─────────────┬────────────┬───────┐\n",
       "│ customerid ┆ gender ┆ seniorcitiz ┆ partner ┆ … ┆ paymentmeth ┆ monthlychar ┆ totalcharg ┆ churn │\n",
       "│ ---        ┆ ---    ┆ en          ┆ ---     ┆   ┆ od          ┆ ges         ┆ es         ┆ ---   │\n",
       "│ str        ┆ str    ┆ ---         ┆ str     ┆   ┆ ---         ┆ ---         ┆ ---        ┆ i8    │\n",
       "│            ┆        ┆ i64         ┆         ┆   ┆ str         ┆ f64         ┆ f64        ┆       │\n",
       "╞════════════╪════════╪═════════════╪═════════╪═══╪═════════════╪═════════════╪════════════╪═══════╡\n",
       "│ 5442_pptjy ┆ male   ┆ 0           ┆ yes     ┆ … ┆ mailed_chec ┆ 19.7        ┆ 258.35     ┆ 0     │\n",
       "│            ┆        ┆             ┆         ┆   ┆ k           ┆             ┆            ┆       │\n",
       "│ 6261_rcvns ┆ female ┆ 0           ┆ no      ┆ … ┆ credit_card ┆ 73.9        ┆ 3160.55    ┆ 1     │\n",
       "│            ┆        ┆             ┆         ┆   ┆ _automatic  ┆             ┆            ┆       │\n",
       "│ 2176_osjuv ┆ male   ┆ 0           ┆ yes     ┆ … ┆ bank_transf ┆ 65.15       ┆ 4681.75    ┆ 0     │\n",
       "│            ┆        ┆             ┆         ┆   ┆ er_automati ┆             ┆            ┆       │\n",
       "│            ┆        ┆             ┆         ┆   ┆ c           ┆             ┆            ┆       │\n",
       "│ 6161_erdgd ┆ male   ┆ 0           ┆ yes     ┆ … ┆ electronic_ ┆ 85.45       ┆ 6300.85    ┆ 0     │\n",
       "│            ┆        ┆             ┆         ┆   ┆ check       ┆             ┆            ┆       │\n",
       "│ 2364_ufrom ┆ male   ┆ 0           ┆ no      ┆ … ┆ electronic_ ┆ 70.4        ┆ 2044.75    ┆ 0     │\n",
       "│            ┆        ┆             ┆         ┆   ┆ check       ┆             ┆            ┆       │\n",
       "└────────────┴────────┴─────────────┴─────────┴───┴─────────────┴─────────────┴────────────┴───────┘"
      ]
     },
     "execution_count": 20,
     "metadata": {},
     "output_type": "execute_result"
    }
   ],
   "source": [
    "df_full_train.head()"
   ]
  },
  {
   "cell_type": "code",
   "execution_count": null,
   "metadata": {},
   "outputs": [
    {
     "data": {
      "text/plain": [
       "0.27682403433476394"
      ]
     },
     "execution_count": 21,
     "metadata": {},
     "output_type": "execute_result"
    }
   ],
   "source": [
    "churn_female = df_full_train.filter(pl.col(\"gender\") == \"female\")[\"churn\"].mean()\n",
    "churn_female"
   ]
  },
  {
   "cell_type": "code",
   "execution_count": 22,
   "metadata": {},
   "outputs": [
    {
     "data": {
      "text/plain": [
       "0.2632135306553911"
      ]
     },
     "execution_count": 22,
     "metadata": {},
     "output_type": "execute_result"
    }
   ],
   "source": [
    "churn_male = df_full_train.filter(pl.col(\"gender\") == \"male\")[\"churn\"].mean()\n",
    "churn_male"
   ]
  },
  {
   "cell_type": "code",
   "execution_count": null,
   "metadata": {},
   "outputs": [
    {
     "data": {
      "text/plain": [
       "0.26996805111821087"
      ]
     },
     "execution_count": 23,
     "metadata": {},
     "output_type": "execute_result"
    }
   ],
   "source": [
    "global_churn_rate"
   ]
  },
  {
   "cell_type": "code",
   "execution_count": null,
   "metadata": {},
   "outputs": [
    {
     "data": {
      "text/html": [
       "<div><style>\n",
       ".dataframe > thead > tr,\n",
       ".dataframe > tbody > tr {\n",
       "  text-align: right;\n",
       "  white-space: pre-wrap;\n",
       "}\n",
       "</style>\n",
       "<small>shape: (2, 2)</small><table border=\"1\" class=\"dataframe\"><thead><tr><th>partner</th><th>count</th></tr><tr><td>str</td><td>u32</td></tr></thead><tbody><tr><td>&quot;no&quot;</td><td>2932</td></tr><tr><td>&quot;yes&quot;</td><td>2702</td></tr></tbody></table></div>"
      ],
      "text/plain": [
       "shape: (2, 2)\n",
       "┌─────────┬───────┐\n",
       "│ partner ┆ count │\n",
       "│ ---     ┆ ---   │\n",
       "│ str     ┆ u32   │\n",
       "╞═════════╪═══════╡\n",
       "│ no      ┆ 2932  │\n",
       "│ yes     ┆ 2702  │\n",
       "└─────────┴───────┘"
      ]
     },
     "execution_count": 24,
     "metadata": {},
     "output_type": "execute_result"
    }
   ],
   "source": [
    "df_full_train[\"partner\"].value_counts()"
   ]
  },
  {
   "cell_type": "code",
   "execution_count": 25,
   "metadata": {},
   "outputs": [
    {
     "data": {
      "text/plain": [
       "0.20503330866025166"
      ]
     },
     "execution_count": 25,
     "metadata": {},
     "output_type": "execute_result"
    }
   ],
   "source": [
    "churn_partner = df_full_train.filter(pl.col(\"partner\") == \"yes\")[\"churn\"].mean()\n",
    "churn_partner"
   ]
  },
  {
   "cell_type": "code",
   "execution_count": null,
   "metadata": {},
   "outputs": [
    {
     "data": {
      "text/plain": [
       "0.06493474245795922"
      ]
     },
     "execution_count": 26,
     "metadata": {},
     "output_type": "execute_result"
    }
   ],
   "source": [
    "global_churn_rate - churn_partner"
   ]
  },
  {
   "cell_type": "code",
   "execution_count": 27,
   "metadata": {},
   "outputs": [
    {
     "data": {
      "text/plain": [
       "0.3298090040927694"
      ]
     },
     "execution_count": 27,
     "metadata": {},
     "output_type": "execute_result"
    }
   ],
   "source": [
    "churn_no_partner = df_full_train.filter(pl.col(\"partner\") == \"no\")[\"churn\"].mean()\n",
    "churn_no_partner"
   ]
  },
  {
   "cell_type": "code",
   "execution_count": null,
   "metadata": {},
   "outputs": [
    {
     "data": {
      "text/plain": [
       "-0.05984095297455855"
      ]
     },
     "execution_count": 28,
     "metadata": {},
     "output_type": "execute_result"
    }
   ],
   "source": [
    "global_churn_rate - churn_no_partner"
   ]
  },
  {
   "cell_type": "markdown",
   "metadata": {},
   "source": [
    "`partner` may have a greater importance than `gender` in affecting churn\n",
    "\n",
    "1. Difference (group - global)\n",
    "\n",
    "   - difference < 0 -> less likely to churn\n",
    "   - difference > 0 -> more likely to churn\n",
    "\n",
    "1. Risk ratio (group / global)\n",
    "   - risk < 1 -> less likely to churn\n",
    "   - risk > 1 -> more likely to churn\n"
   ]
  },
  {
   "cell_type": "code",
   "execution_count": null,
   "metadata": {},
   "outputs": [
    {
     "data": {
      "text/plain": [
       "1.2216593879412643"
      ]
     },
     "execution_count": 29,
     "metadata": {},
     "output_type": "execute_result"
    }
   ],
   "source": [
    "churn_no_partner / global_churn_rate"
   ]
  },
  {
   "cell_type": "code",
   "execution_count": 30,
   "metadata": {},
   "outputs": [
    {
     "data": {
      "text/plain": [
       "0.7594724924338315"
      ]
     },
     "execution_count": 30,
     "metadata": {},
     "output_type": "execute_result"
    }
   ],
   "source": [
    "churn_partner / global_churn_rate"
   ]
  },
  {
   "cell_type": "code",
   "execution_count": null,
   "metadata": {},
   "outputs": [
    {
     "data": {
      "text/html": [
       "<div><style>\n",
       ".dataframe > thead > tr,\n",
       ".dataframe > tbody > tr {\n",
       "  text-align: right;\n",
       "  white-space: pre-wrap;\n",
       "}\n",
       "</style>\n",
       "<small>shape: (2, 5)</small><table border=\"1\" class=\"dataframe\"><thead><tr><th>gender</th><th>mean</th><th>count</th><th>diff</th><th>risk</th></tr><tr><td>str</td><td>f64</td><td>u32</td><td>f64</td><td>f64</td></tr></thead><tbody><tr><td>&quot;male&quot;</td><td>0.263214</td><td>2838</td><td>-0.006755</td><td>0.97498</td></tr><tr><td>&quot;female&quot;</td><td>0.276824</td><td>2796</td><td>0.006856</td><td>1.025396</td></tr></tbody></table></div>"
      ],
      "text/plain": [
       "shape: (2, 5)\n",
       "┌────────┬──────────┬───────┬───────────┬──────────┐\n",
       "│ gender ┆ mean     ┆ count ┆ diff      ┆ risk     │\n",
       "│ ---    ┆ ---      ┆ ---   ┆ ---       ┆ ---      │\n",
       "│ str    ┆ f64      ┆ u32   ┆ f64       ┆ f64      │\n",
       "╞════════╪══════════╪═══════╪═══════════╪══════════╡\n",
       "│ male   ┆ 0.263214 ┆ 2838  ┆ -0.006755 ┆ 0.97498  │\n",
       "│ female ┆ 0.276824 ┆ 2796  ┆ 0.006856  ┆ 1.025396 │\n",
       "└────────┴──────────┴───────┴───────────┴──────────┘"
      ]
     },
     "execution_count": 31,
     "metadata": {},
     "output_type": "execute_result"
    }
   ],
   "source": [
    "df_full_train.group_by(pl.col(\"gender\")).agg(\n",
    "    pl.col(\"churn\").mean().alias(\"mean\"),\n",
    "    pl.col(\"churn\").count().alias(\"count\"),\n",
    "    (pl.col(\"churn\").mean() - global_churn_rate).alias(\"diff\"),\n",
    "    (pl.col(\"churn\").mean() / global_churn_rate).alias(\"risk\"),\n",
    ")"
   ]
  },
  {
   "cell_type": "code",
   "execution_count": null,
   "metadata": {},
   "outputs": [
    {
     "name": "stdout",
     "output_type": "stream",
     "text": [
      "gender\n",
      "shape: (2, 5)\n",
      "┌────────┬──────────┬───────┬───────────┬──────────┐\n",
      "│ gender ┆ mean     ┆ count ┆ diff      ┆ risk     │\n",
      "│ ---    ┆ ---      ┆ ---   ┆ ---       ┆ ---      │\n",
      "│ str    ┆ f64      ┆ u32   ┆ f64       ┆ f64      │\n",
      "╞════════╪══════════╪═══════╪═══════════╪══════════╡\n",
      "│ male   ┆ 0.263214 ┆ 2838  ┆ -0.006755 ┆ 0.97498  │\n",
      "│ female ┆ 0.276824 ┆ 2796  ┆ 0.006856  ┆ 1.025396 │\n",
      "└────────┴──────────┴───────┴───────────┴──────────┘\n",
      "seniorcitizen\n",
      "shape: (2, 5)\n",
      "┌───────────────┬──────────┬───────┬───────────┬──────────┐\n",
      "│ seniorcitizen ┆ mean     ┆ count ┆ diff      ┆ risk     │\n",
      "│ ---           ┆ ---      ┆ ---   ┆ ---       ┆ ---      │\n",
      "│ i64           ┆ f64      ┆ u32   ┆ f64       ┆ f64      │\n",
      "╞═══════════════╪══════════╪═══════╪═══════════╪══════════╡\n",
      "│ 0             ┆ 0.24227  ┆ 4722  ┆ -0.027698 ┆ 0.897403 │\n",
      "│ 1             ┆ 0.413377 ┆ 912   ┆ 0.143409  ┆ 1.531208 │\n",
      "└───────────────┴──────────┴───────┴───────────┴──────────┘\n",
      "partner\n",
      "shape: (2, 5)\n",
      "┌─────────┬──────────┬───────┬───────────┬──────────┐\n",
      "│ partner ┆ mean     ┆ count ┆ diff      ┆ risk     │\n",
      "│ ---     ┆ ---      ┆ ---   ┆ ---       ┆ ---      │\n",
      "│ str     ┆ f64      ┆ u32   ┆ f64       ┆ f64      │\n",
      "╞═════════╪══════════╪═══════╪═══════════╪══════════╡\n",
      "│ yes     ┆ 0.205033 ┆ 2702  ┆ -0.064935 ┆ 0.759472 │\n",
      "│ no      ┆ 0.329809 ┆ 2932  ┆ 0.059841  ┆ 1.221659 │\n",
      "└─────────┴──────────┴───────┴───────────┴──────────┘\n",
      "dependents\n",
      "shape: (2, 5)\n",
      "┌────────────┬──────────┬───────┬───────────┬──────────┐\n",
      "│ dependents ┆ mean     ┆ count ┆ diff      ┆ risk     │\n",
      "│ ---        ┆ ---      ┆ ---   ┆ ---       ┆ ---      │\n",
      "│ str        ┆ f64      ┆ u32   ┆ f64       ┆ f64      │\n",
      "╞════════════╪══════════╪═══════╪═══════════╪══════════╡\n",
      "│ no         ┆ 0.31376  ┆ 3968  ┆ 0.043792  ┆ 1.162212 │\n",
      "│ yes        ┆ 0.165666 ┆ 1666  ┆ -0.104302 ┆ 0.613651 │\n",
      "└────────────┴──────────┴───────┴───────────┴──────────┘\n",
      "phoneservice\n",
      "shape: (2, 5)\n",
      "┌──────────────┬──────────┬───────┬───────────┬──────────┐\n",
      "│ phoneservice ┆ mean     ┆ count ┆ diff      ┆ risk     │\n",
      "│ ---          ┆ ---      ┆ ---   ┆ ---       ┆ ---      │\n",
      "│ str          ┆ f64      ┆ u32   ┆ f64       ┆ f64      │\n",
      "╞══════════════╪══════════╪═══════╪═══════════╪══════════╡\n",
      "│ yes          ┆ 0.273049 ┆ 5087  ┆ 0.003081  ┆ 1.011412 │\n",
      "│ no           ┆ 0.241316 ┆ 547   ┆ -0.028652 ┆ 0.89387  │\n",
      "└──────────────┴──────────┴───────┴───────────┴──────────┘\n",
      "multiplelines\n",
      "shape: (3, 5)\n",
      "┌──────────────────┬──────────┬───────┬───────────┬──────────┐\n",
      "│ multiplelines    ┆ mean     ┆ count ┆ diff      ┆ risk     │\n",
      "│ ---              ┆ ---      ┆ ---   ┆ ---       ┆ ---      │\n",
      "│ str              ┆ f64      ┆ u32   ┆ f64       ┆ f64      │\n",
      "╞══════════════════╪══════════╪═══════╪═══════════╪══════════╡\n",
      "│ yes              ┆ 0.290742 ┆ 2387  ┆ 0.020773  ┆ 1.076948 │\n",
      "│ no_phone_service ┆ 0.241316 ┆ 547   ┆ -0.028652 ┆ 0.89387  │\n",
      "│ no               ┆ 0.257407 ┆ 2700  ┆ -0.012561 ┆ 0.953474 │\n",
      "└──────────────────┴──────────┴───────┴───────────┴──────────┘\n",
      "internetservice\n",
      "shape: (3, 5)\n",
      "┌─────────────────┬──────────┬───────┬───────────┬──────────┐\n",
      "│ internetservice ┆ mean     ┆ count ┆ diff      ┆ risk     │\n",
      "│ ---             ┆ ---      ┆ ---   ┆ ---       ┆ ---      │\n",
      "│ str             ┆ f64      ┆ u32   ┆ f64       ┆ f64      │\n",
      "╞═════════════════╪══════════╪═══════╪═══════════╪══════════╡\n",
      "│ dsl             ┆ 0.192347 ┆ 1934  ┆ -0.077621 ┆ 0.712482 │\n",
      "│ no              ┆ 0.077805 ┆ 1221  ┆ -0.192163 ┆ 0.288201 │\n",
      "│ fiber_optic     ┆ 0.425171 ┆ 2479  ┆ 0.155203  ┆ 1.574895 │\n",
      "└─────────────────┴──────────┴───────┴───────────┴──────────┘\n",
      "onlinesecurity\n",
      "shape: (3, 5)\n",
      "┌─────────────────────┬──────────┬───────┬───────────┬──────────┐\n",
      "│ onlinesecurity      ┆ mean     ┆ count ┆ diff      ┆ risk     │\n",
      "│ ---                 ┆ ---      ┆ ---   ┆ ---       ┆ ---      │\n",
      "│ str                 ┆ f64      ┆ u32   ┆ f64       ┆ f64      │\n",
      "╞═════════════════════╪══════════╪═══════╪═══════════╪══════════╡\n",
      "│ yes                 ┆ 0.153226 ┆ 1612  ┆ -0.116742 ┆ 0.56757  │\n",
      "│ no_internet_service ┆ 0.077805 ┆ 1221  ┆ -0.192163 ┆ 0.288201 │\n",
      "│ no                  ┆ 0.420921 ┆ 2801  ┆ 0.150953  ┆ 1.559152 │\n",
      "└─────────────────────┴──────────┴───────┴───────────┴──────────┘\n",
      "onlinebackup\n",
      "shape: (3, 5)\n",
      "┌─────────────────────┬──────────┬───────┬───────────┬──────────┐\n",
      "│ onlinebackup        ┆ mean     ┆ count ┆ diff      ┆ risk     │\n",
      "│ ---                 ┆ ---      ┆ ---   ┆ ---       ┆ ---      │\n",
      "│ str                 ┆ f64      ┆ u32   ┆ f64       ┆ f64      │\n",
      "╞═════════════════════╪══════════╪═══════╪═══════════╪══════════╡\n",
      "│ no_internet_service ┆ 0.077805 ┆ 1221  ┆ -0.192163 ┆ 0.288201 │\n",
      "│ yes                 ┆ 0.217232 ┆ 1915  ┆ -0.052736 ┆ 0.80466  │\n",
      "│ no                  ┆ 0.404323 ┆ 2498  ┆ 0.134355  ┆ 1.497672 │\n",
      "└─────────────────────┴──────────┴───────┴───────────┴──────────┘\n",
      "deviceprotection\n",
      "shape: (3, 5)\n",
      "┌─────────────────────┬──────────┬───────┬───────────┬──────────┐\n",
      "│ deviceprotection    ┆ mean     ┆ count ┆ diff      ┆ risk     │\n",
      "│ ---                 ┆ ---      ┆ ---   ┆ ---       ┆ ---      │\n",
      "│ str                 ┆ f64      ┆ u32   ┆ f64       ┆ f64      │\n",
      "╞═════════════════════╪══════════╪═══════╪═══════════╪══════════╡\n",
      "│ no_internet_service ┆ 0.077805 ┆ 1221  ┆ -0.192163 ┆ 0.288201 │\n",
      "│ yes                 ┆ 0.230412 ┆ 1940  ┆ -0.039556 ┆ 0.85348  │\n",
      "│ no                  ┆ 0.395875 ┆ 2473  ┆ 0.125907  ┆ 1.466379 │\n",
      "└─────────────────────┴──────────┴───────┴───────────┴──────────┘\n",
      "techsupport\n",
      "shape: (3, 5)\n",
      "┌─────────────────────┬──────────┬───────┬───────────┬──────────┐\n",
      "│ techsupport         ┆ mean     ┆ count ┆ diff      ┆ risk     │\n",
      "│ ---                 ┆ ---      ┆ ---   ┆ ---       ┆ ---      │\n",
      "│ str                 ┆ f64      ┆ u32   ┆ f64       ┆ f64      │\n",
      "╞═════════════════════╪══════════╪═══════╪═══════════╪══════════╡\n",
      "│ yes                 ┆ 0.159926 ┆ 1632  ┆ -0.110042 ┆ 0.59239  │\n",
      "│ no                  ┆ 0.418914 ┆ 2781  ┆ 0.148946  ┆ 1.551717 │\n",
      "│ no_internet_service ┆ 0.077805 ┆ 1221  ┆ -0.192163 ┆ 0.288201 │\n",
      "└─────────────────────┴──────────┴───────┴───────────┴──────────┘\n",
      "streamingtv\n",
      "shape: (3, 5)\n",
      "┌─────────────────────┬──────────┬───────┬───────────┬──────────┐\n",
      "│ streamingtv         ┆ mean     ┆ count ┆ diff      ┆ risk     │\n",
      "│ ---                 ┆ ---      ┆ ---   ┆ ---       ┆ ---      │\n",
      "│ str                 ┆ f64      ┆ u32   ┆ f64       ┆ f64      │\n",
      "╞═════════════════════╪══════════╪═══════╪═══════════╪══════════╡\n",
      "│ yes                 ┆ 0.302723 ┆ 2167  ┆ 0.032755  ┆ 1.121328 │\n",
      "│ no_internet_service ┆ 0.077805 ┆ 1221  ┆ -0.192163 ┆ 0.288201 │\n",
      "│ no                  ┆ 0.342832 ┆ 2246  ┆ 0.072864  ┆ 1.269897 │\n",
      "└─────────────────────┴──────────┴───────┴───────────┴──────────┘\n",
      "streamingmovies\n",
      "shape: (3, 5)\n",
      "┌─────────────────────┬──────────┬───────┬───────────┬──────────┐\n",
      "│ streamingmovies     ┆ mean     ┆ count ┆ diff      ┆ risk     │\n",
      "│ ---                 ┆ ---      ┆ ---   ┆ ---       ┆ ---      │\n",
      "│ str                 ┆ f64      ┆ u32   ┆ f64       ┆ f64      │\n",
      "╞═════════════════════╪══════════╪═══════╪═══════════╪══════════╡\n",
      "│ yes                 ┆ 0.307273 ┆ 2200  ┆ 0.037305  ┆ 1.138182 │\n",
      "│ no                  ┆ 0.338906 ┆ 2213  ┆ 0.068938  ┆ 1.255358 │\n",
      "│ no_internet_service ┆ 0.077805 ┆ 1221  ┆ -0.192163 ┆ 0.288201 │\n",
      "└─────────────────────┴──────────┴───────┴───────────┴──────────┘\n",
      "contract\n",
      "shape: (3, 5)\n",
      "┌────────────────┬──────────┬───────┬───────────┬──────────┐\n",
      "│ contract       ┆ mean     ┆ count ┆ diff      ┆ risk     │\n",
      "│ ---            ┆ ---      ┆ ---   ┆ ---       ┆ ---      │\n",
      "│ str            ┆ f64      ┆ u32   ┆ f64       ┆ f64      │\n",
      "╞════════════════╪══════════╪═══════╪═══════════╪══════════╡\n",
      "│ two_year       ┆ 0.028274 ┆ 1344  ┆ -0.241694 ┆ 0.10473  │\n",
      "│ one_year       ┆ 0.120573 ┆ 1186  ┆ -0.149395 ┆ 0.446621 │\n",
      "│ month_to_month ┆ 0.431701 ┆ 3104  ┆ 0.161733  ┆ 1.599082 │\n",
      "└────────────────┴──────────┴───────┴───────────┴──────────┘\n",
      "paperlessbilling\n",
      "shape: (2, 5)\n",
      "┌──────────────────┬──────────┬───────┬───────────┬──────────┐\n",
      "│ paperlessbilling ┆ mean     ┆ count ┆ diff      ┆ risk     │\n",
      "│ ---              ┆ ---      ┆ ---   ┆ ---       ┆ ---      │\n",
      "│ str              ┆ f64      ┆ u32   ┆ f64       ┆ f64      │\n",
      "╞══════════════════╪══════════╪═══════╪═══════════╪══════════╡\n",
      "│ yes              ┆ 0.338151 ┆ 3321  ┆ 0.068183  ┆ 1.25256  │\n",
      "│ no               ┆ 0.172071 ┆ 2313  ┆ -0.097897 ┆ 0.637375 │\n",
      "└──────────────────┴──────────┴───────┴───────────┴──────────┘\n",
      "paymentmethod\n",
      "shape: (4, 5)\n",
      "┌─────────────────────────┬──────────┬───────┬───────────┬──────────┐\n",
      "│ paymentmethod           ┆ mean     ┆ count ┆ diff      ┆ risk     │\n",
      "│ ---                     ┆ ---      ┆ ---   ┆ ---       ┆ ---      │\n",
      "│ str                     ┆ f64      ┆ u32   ┆ f64       ┆ f64      │\n",
      "╞═════════════════════════╪══════════╪═══════╪═══════════╪══════════╡\n",
      "│ credit_card_automatic   ┆ 0.164339 ┆ 1217  ┆ -0.10563  ┆ 0.608733 │\n",
      "│ mailed_check            ┆ 0.19387  ┆ 1305  ┆ -0.076098 ┆ 0.718121 │\n",
      "│ bank_transfer_automatic ┆ 0.168171 ┆ 1219  ┆ -0.101797 ┆ 0.622928 │\n",
      "│ electronic_check        ┆ 0.45589  ┆ 1893  ┆ 0.185922  ┆ 1.688682 │\n",
      "└─────────────────────────┴──────────┴───────┴───────────┴──────────┘\n"
     ]
    }
   ],
   "source": [
    "for c in categorical:\n",
    "    print(c)\n",
    "    df_group = df_full_train.group_by(pl.col(c)).agg(\n",
    "        pl.col(\"churn\").mean().alias(\"mean\"),\n",
    "        pl.col(\"churn\").count().alias(\"count\"),\n",
    "        (pl.col(\"churn\").mean() - global_churn_rate).alias(\"diff\"),\n",
    "        (pl.col(\"churn\").mean() / global_churn_rate).alias(\"risk\"),\n",
    "    )\n",
    "    print(df_group)"
   ]
  },
  {
   "cell_type": "markdown",
   "metadata": {},
   "source": [
    "## 5. Feature importance: Mutual Information\n",
    "\n",
    "- https://en.wikipedia.org/wiki/Mutual_information\n"
   ]
  },
  {
   "cell_type": "code",
   "execution_count": 33,
   "metadata": {},
   "outputs": [
    {
     "data": {
      "text/plain": [
       "np.float64(0.0983203874041556)"
      ]
     },
     "execution_count": 33,
     "metadata": {},
     "output_type": "execute_result"
    }
   ],
   "source": [
    "mutual_info_score(df_full_train[\"churn\"], df_full_train[\"contract\"])"
   ]
  },
  {
   "cell_type": "code",
   "execution_count": 34,
   "metadata": {},
   "outputs": [
    {
     "data": {
      "text/plain": [
       "np.float64(0.0983203874041556)"
      ]
     },
     "execution_count": 34,
     "metadata": {},
     "output_type": "execute_result"
    }
   ],
   "source": [
    "mutual_info_score(df_full_train[\"contract\"], df_full_train[\"churn\"])"
   ]
  },
  {
   "cell_type": "code",
   "execution_count": 35,
   "metadata": {},
   "outputs": [
    {
     "data": {
      "text/plain": [
       "np.float64(0.0001174846211139946)"
      ]
     },
     "execution_count": 35,
     "metadata": {},
     "output_type": "execute_result"
    }
   ],
   "source": [
    "mutual_info_score(df_full_train[\"gender\"], df_full_train[\"churn\"])"
   ]
  },
  {
   "cell_type": "code",
   "execution_count": 36,
   "metadata": {},
   "outputs": [],
   "source": [
    "def mutual_info_churn_scores(series):\n",
    "    return mutual_info_score(series, df_full_train[\"churn\"])"
   ]
  },
  {
   "cell_type": "code",
   "execution_count": 37,
   "metadata": {},
   "outputs": [
    {
     "data": {
      "text/html": [
       "<div><style>\n",
       ".dataframe > thead > tr,\n",
       ".dataframe > tbody > tr {\n",
       "  text-align: right;\n",
       "  white-space: pre-wrap;\n",
       "}\n",
       "</style>\n",
       "<small>shape: (16, 2)</small><table border=\"1\" class=\"dataframe\"><thead><tr><th>column</th><th>score</th></tr><tr><td>str</td><td>f64</td></tr></thead><tbody><tr><td>&quot;contract&quot;</td><td>0.09832</td></tr><tr><td>&quot;onlinesecurity&quot;</td><td>0.063085</td></tr><tr><td>&quot;techsupport&quot;</td><td>0.061032</td></tr><tr><td>&quot;internetservice&quot;</td><td>0.055868</td></tr><tr><td>&quot;onlinebackup&quot;</td><td>0.046923</td></tr><tr><td>&hellip;</td><td>&hellip;</td></tr><tr><td>&quot;partner&quot;</td><td>0.009968</td></tr><tr><td>&quot;seniorcitizen&quot;</td><td>0.00941</td></tr><tr><td>&quot;multiplelines&quot;</td><td>0.000857</td></tr><tr><td>&quot;phoneservice&quot;</td><td>0.000229</td></tr><tr><td>&quot;gender&quot;</td><td>0.000117</td></tr></tbody></table></div>"
      ],
      "text/plain": [
       "shape: (16, 2)\n",
       "┌─────────────────┬──────────┐\n",
       "│ column          ┆ score    │\n",
       "│ ---             ┆ ---      │\n",
       "│ str             ┆ f64      │\n",
       "╞═════════════════╪══════════╡\n",
       "│ contract        ┆ 0.09832  │\n",
       "│ onlinesecurity  ┆ 0.063085 │\n",
       "│ techsupport     ┆ 0.061032 │\n",
       "│ internetservice ┆ 0.055868 │\n",
       "│ onlinebackup    ┆ 0.046923 │\n",
       "│ …               ┆ …        │\n",
       "│ partner         ┆ 0.009968 │\n",
       "│ seniorcitizen   ┆ 0.00941  │\n",
       "│ multiplelines   ┆ 0.000857 │\n",
       "│ phoneservice    ┆ 0.000229 │\n",
       "│ gender          ┆ 0.000117 │\n",
       "└─────────────────┴──────────┘"
      ]
     },
     "execution_count": 37,
     "metadata": {},
     "output_type": "execute_result"
    }
   ],
   "source": [
    "df_full_train.select(\n",
    "    pl.col(categorical).map_batches(mutual_info_churn_scores, return_dtype=pl.Float64)\n",
    ").transpose(include_header=True, column_names=[\"score\"]).sort(\n",
    "    pl.col(\"score\"), descending=True\n",
    ")"
   ]
  },
  {
   "cell_type": "markdown",
   "metadata": {},
   "source": [
    "## 6. Feature importance: Correlation\n",
    "\n",
    "- https://en.wikipedia.org/wiki/Pearson_correlation_coefficient\n"
   ]
  },
  {
   "cell_type": "code",
   "execution_count": 38,
   "metadata": {},
   "outputs": [
    {
     "data": {
      "text/plain": [
       "72"
      ]
     },
     "execution_count": 38,
     "metadata": {},
     "output_type": "execute_result"
    }
   ],
   "source": [
    "df_full_train[\"tenure\"].max()"
   ]
  },
  {
   "cell_type": "code",
   "execution_count": 39,
   "metadata": {},
   "outputs": [
    {
     "data": {
      "text/html": [
       "<div><style>\n",
       ".dataframe > thead > tr,\n",
       ".dataframe > tbody > tr {\n",
       "  text-align: right;\n",
       "  white-space: pre-wrap;\n",
       "}\n",
       "</style>\n",
       "<small>shape: (1, 1)</small><table border=\"1\" class=\"dataframe\"><thead><tr><th>tenure</th></tr><tr><td>f64</td></tr></thead><tbody><tr><td>-0.351885</td></tr></tbody></table></div>"
      ],
      "text/plain": [
       "shape: (1, 1)\n",
       "┌───────────┐\n",
       "│ tenure    │\n",
       "│ ---       │\n",
       "│ f64       │\n",
       "╞═══════════╡\n",
       "│ -0.351885 │\n",
       "└───────────┘"
      ]
     },
     "execution_count": 39,
     "metadata": {},
     "output_type": "execute_result"
    }
   ],
   "source": [
    "df_full_train.select(\n",
    "    pl.corr(\"tenure\", \"churn\"),\n",
    ")"
   ]
  },
  {
   "cell_type": "code",
   "execution_count": 40,
   "metadata": {},
   "outputs": [
    {
     "data": {
      "text/html": [
       "<div><style>\n",
       ".dataframe > thead > tr,\n",
       ".dataframe > tbody > tr {\n",
       "  text-align: right;\n",
       "  white-space: pre-wrap;\n",
       "}\n",
       "</style>\n",
       "<small>shape: (1, 3)</small><table border=\"1\" class=\"dataframe\"><thead><tr><th>tenure</th><th>monthlycharges</th><th>totalcharges</th></tr><tr><td>f64</td><td>f64</td><td>f64</td></tr></thead><tbody><tr><td>-0.351885</td><td>0.196805</td><td>-0.196353</td></tr></tbody></table></div>"
      ],
      "text/plain": [
       "shape: (1, 3)\n",
       "┌───────────┬────────────────┬──────────────┐\n",
       "│ tenure    ┆ monthlycharges ┆ totalcharges │\n",
       "│ ---       ┆ ---            ┆ ---          │\n",
       "│ f64       ┆ f64            ┆ f64          │\n",
       "╞═══════════╪════════════════╪══════════════╡\n",
       "│ -0.351885 ┆ 0.196805       ┆ -0.196353    │\n",
       "└───────────┴────────────────┴──────────────┘"
      ]
     },
     "execution_count": 40,
     "metadata": {},
     "output_type": "execute_result"
    }
   ],
   "source": [
    "df_full_train.select([pl.corr(n, \"churn\") for n in numerical])"
   ]
  },
  {
   "cell_type": "code",
   "execution_count": 41,
   "metadata": {},
   "outputs": [
    {
     "data": {
      "text/plain": [
       "0.5953420669577875"
      ]
     },
     "execution_count": 41,
     "metadata": {},
     "output_type": "execute_result"
    }
   ],
   "source": [
    "df_full_train.filter(pl.col(\"tenure\") <= 2)[\"churn\"].mean()"
   ]
  },
  {
   "cell_type": "code",
   "execution_count": 42,
   "metadata": {},
   "outputs": [
    {
     "data": {
      "text/plain": [
       "0.3994413407821229"
      ]
     },
     "execution_count": 42,
     "metadata": {},
     "output_type": "execute_result"
    }
   ],
   "source": [
    "df_full_train.filter((pl.col(\"tenure\") > 2) & (pl.col(\"tenure\") <= 12))[\"churn\"].mean()"
   ]
  },
  {
   "cell_type": "code",
   "execution_count": 43,
   "metadata": {},
   "outputs": [
    {
     "data": {
      "text/plain": [
       "0.17634908339788277"
      ]
     },
     "execution_count": 43,
     "metadata": {},
     "output_type": "execute_result"
    }
   ],
   "source": [
    "df_full_train.filter(pl.col(\"tenure\") > 12)[\"churn\"].mean()"
   ]
  },
  {
   "cell_type": "code",
   "execution_count": 44,
   "metadata": {},
   "outputs": [
    {
     "data": {
      "text/plain": [
       "0.08795411089866156"
      ]
     },
     "execution_count": 44,
     "metadata": {},
     "output_type": "execute_result"
    }
   ],
   "source": [
    "df_full_train.filter(pl.col(\"monthlycharges\") <= 20)[\"churn\"].mean()"
   ]
  },
  {
   "cell_type": "code",
   "execution_count": 45,
   "metadata": {},
   "outputs": [
    {
     "data": {
      "text/plain": [
       "0.18340943683409436"
      ]
     },
     "execution_count": 45,
     "metadata": {},
     "output_type": "execute_result"
    }
   ],
   "source": [
    "df_full_train.filter(\n",
    "    (pl.col(\"monthlycharges\") > 20) & (pl.col(\"monthlycharges\") <= 50)\n",
    ")[\"churn\"].mean()"
   ]
  },
  {
   "cell_type": "code",
   "execution_count": 46,
   "metadata": {},
   "outputs": [
    {
     "data": {
      "text/plain": [
       "0.32499341585462205"
      ]
     },
     "execution_count": 46,
     "metadata": {},
     "output_type": "execute_result"
    }
   ],
   "source": [
    "df_full_train.filter(pl.col(\"monthlycharges\") > 50)[\"churn\"].mean()"
   ]
  },
  {
   "cell_type": "code",
   "execution_count": 47,
   "metadata": {},
   "outputs": [
    {
     "data": {
      "text/html": [
       "<div><style>\n",
       ".dataframe > thead > tr,\n",
       ".dataframe > tbody > tr {\n",
       "  text-align: right;\n",
       "  white-space: pre-wrap;\n",
       "}\n",
       "</style>\n",
       "<small>shape: (3, 3)</small><table border=\"1\" class=\"dataframe\"><thead><tr><th>tenure</th><th>monthlycharges</th><th>totalcharges</th></tr><tr><td>f64</td><td>f64</td><td>f64</td></tr></thead><tbody><tr><td>1.0</td><td>0.251072</td><td>0.828268</td></tr><tr><td>0.251072</td><td>1.0</td><td>0.650913</td></tr><tr><td>0.828268</td><td>0.650913</td><td>1.0</td></tr></tbody></table></div>"
      ],
      "text/plain": [
       "shape: (3, 3)\n",
       "┌──────────┬────────────────┬──────────────┐\n",
       "│ tenure   ┆ monthlycharges ┆ totalcharges │\n",
       "│ ---      ┆ ---            ┆ ---          │\n",
       "│ f64      ┆ f64            ┆ f64          │\n",
       "╞══════════╪════════════════╪══════════════╡\n",
       "│ 1.0      ┆ 0.251072       ┆ 0.828268     │\n",
       "│ 0.251072 ┆ 1.0            ┆ 0.650913     │\n",
       "│ 0.828268 ┆ 0.650913       ┆ 1.0          │\n",
       "└──────────┴────────────────┴──────────────┘"
      ]
     },
     "execution_count": 47,
     "metadata": {},
     "output_type": "execute_result"
    }
   ],
   "source": [
    "df_full_train.select(pl.col(numerical)).corr()"
   ]
  },
  {
   "cell_type": "markdown",
   "metadata": {},
   "source": [
    "## 7. One-hot encoding\n"
   ]
  },
  {
   "cell_type": "code",
   "execution_count": 48,
   "metadata": {},
   "outputs": [],
   "source": [
    "train_dicts = df_train.select(pl.col(categorical + numerical)).to_dicts()"
   ]
  },
  {
   "cell_type": "code",
   "execution_count": 49,
   "metadata": {},
   "outputs": [],
   "source": [
    "dv = DictVectorizer(sparse=False)"
   ]
  },
  {
   "cell_type": "code",
   "execution_count": 50,
   "metadata": {},
   "outputs": [],
   "source": [
    "X_train = dv.fit_transform(train_dicts)"
   ]
  },
  {
   "cell_type": "code",
   "execution_count": 51,
   "metadata": {},
   "outputs": [
    {
     "data": {
      "text/plain": [
       "['contract=month_to_month',\n",
       " 'contract=one_year',\n",
       " 'contract=two_year',\n",
       " 'dependents=no',\n",
       " 'dependents=yes',\n",
       " 'deviceprotection=no',\n",
       " 'deviceprotection=no_internet_service',\n",
       " 'deviceprotection=yes',\n",
       " 'gender=female',\n",
       " 'gender=male']"
      ]
     },
     "execution_count": 51,
     "metadata": {},
     "output_type": "execute_result"
    }
   ],
   "source": [
    "dv.feature_names_[:10]"
   ]
  },
  {
   "cell_type": "code",
   "execution_count": 52,
   "metadata": {},
   "outputs": [],
   "source": [
    "val_dicts = df_val.select(pl.col(categorical + numerical)).to_dicts()"
   ]
  },
  {
   "cell_type": "code",
   "execution_count": 53,
   "metadata": {},
   "outputs": [],
   "source": [
    "X_val = dv.transform(val_dicts)"
   ]
  },
  {
   "cell_type": "markdown",
   "metadata": {},
   "source": [
    "## 8. Logistic regression\n"
   ]
  },
  {
   "cell_type": "code",
   "execution_count": 54,
   "metadata": {},
   "outputs": [],
   "source": [
    "def sigmoid(z):\n",
    "    return 1 / (1 + np.exp(-z))"
   ]
  },
  {
   "cell_type": "code",
   "execution_count": 55,
   "metadata": {},
   "outputs": [],
   "source": [
    "z = np.linspace(-5, 5, 51)"
   ]
  },
  {
   "cell_type": "code",
   "execution_count": 56,
   "metadata": {},
   "outputs": [
    {
     "data": {
      "text/plain": [
       "array([0.00669285, 0.00816257, 0.0099518 , 0.01212843, 0.01477403,\n",
       "       0.01798621, 0.02188127, 0.02659699, 0.03229546, 0.03916572,\n",
       "       0.04742587, 0.05732418, 0.06913842, 0.0831727 , 0.09975049,\n",
       "       0.11920292, 0.14185106, 0.16798161, 0.19781611, 0.23147522,\n",
       "       0.26894142, 0.31002552, 0.35434369, 0.40131234, 0.450166  ,\n",
       "       0.5       , 0.549834  , 0.59868766, 0.64565631, 0.68997448,\n",
       "       0.73105858, 0.76852478, 0.80218389, 0.83201839, 0.85814894,\n",
       "       0.88079708, 0.90024951, 0.9168273 , 0.93086158, 0.94267582,\n",
       "       0.95257413, 0.96083428, 0.96770454, 0.97340301, 0.97811873,\n",
       "       0.98201379, 0.98522597, 0.98787157, 0.9900482 , 0.99183743,\n",
       "       0.99330715])"
      ]
     },
     "execution_count": 56,
     "metadata": {},
     "output_type": "execute_result"
    }
   ],
   "source": [
    "sigmoid(z)"
   ]
  },
  {
   "cell_type": "code",
   "execution_count": 57,
   "metadata": {},
   "outputs": [
    {
     "data": {
      "text/plain": [
       "[<matplotlib.lines.Line2D at 0x7f77a9143560>]"
      ]
     },
     "execution_count": 57,
     "metadata": {},
     "output_type": "execute_result"
    },
    {
     "data": {
      "image/png": "[encoded data removed]",
      "text/plain": [
       "<Figure size 640x480 with 1 Axes>"
      ]
     },
     "metadata": {},
     "output_type": "display_data"
    }
   ],
   "source": [
    "plt.plot(z, sigmoid(z))"
   ]
  },
  {
   "cell_type": "code",
   "execution_count": null,
   "metadata": {},
   "outputs": [
    {
     "data": {
      "text/html": [
       "\n",
       "<style>\n",
       "  #altair-viz-bfc1daa696334780b397271759a6ffd5.vega-embed {\n",
       "    width: 100%;\n",
       "    display: flex;\n",
       "  }\n",
       "\n",
       "  #altair-viz-bfc1daa696334780b397271759a6ffd5.vega-embed details,\n",
       "  #altair-viz-bfc1daa696334780b397271759a6ffd5.vega-embed details summary {\n",
       "    position: relative;\n",
       "  }\n",
       "</style>\n",
       "<div id=\"altair-viz-bfc1daa696334780b397271759a6ffd5\"></div>\n",
       "<script type=\"text/javascript\">\n",
       "  var VEGA_DEBUG = (typeof VEGA_DEBUG == \"undefined\") ? {} : VEGA_DEBUG;\n",
       "  (function(spec, embedOpt){\n",
       "    let outputDiv = document.currentScript.previousElementSibling;\n",
       "    if (outputDiv.id !== \"altair-viz-bfc1daa696334780b397271759a6ffd5\") {\n",
       "      outputDiv = document.getElementById(\"altair-viz-bfc1daa696334780b397271759a6ffd5\");\n",
       "    }\n",
       "    const paths = {\n",
       "      \"vega\": \"https://cdn.jsdelivr.net/npm/vega@5?noext\",\n",
       "      \"vega-lib\": \"https://cdn.jsdelivr.net/npm/vega-lib?noext\",\n",
       "      \"vega-lite\": \"https://cdn.jsdelivr.net/npm/vega-lite@5.20.1?noext\",\n",
       "      \"vega-embed\": \"https://cdn.jsdelivr.net/npm/vega-embed@6?noext\",\n",
       "    };\n",
       "\n",
       "    function maybeLoadScript(lib, version) {\n",
       "      var key = `${lib.replace(\"-\", \"\")}_version`;\n",
       "      return (VEGA_DEBUG[key] == version) ?\n",
       "        Promise.resolve(paths[lib]) :\n",
       "        new Promise(function(resolve, reject) {\n",
       "          var s = document.createElement('script');\n",
       "          document.getElementsByTagName(\"head\")[0].appendChild(s);\n",
       "          s.async = true;\n",
       "          s.onload = () => {\n",
       "            VEGA_DEBUG[key] = version;\n",
       "            return resolve(paths[lib]);\n",
       "          };\n",
       "          s.onerror = () => reject(`Error loading script: ${paths[lib]}`);\n",
       "          s.src = paths[lib];\n",
       "        });\n",
       "    }\n",
       "\n",
       "    function showError(err) {\n",
       "      outputDiv.innerHTML = `<div class=\"error\" style=\"color:red;\">${err}</div>`;\n",
       "      throw err;\n",
       "    }\n",
       "\n",
       "    function displayChart(vegaEmbed) {\n",
       "      vegaEmbed(outputDiv, spec, embedOpt)\n",
       "        .catch(err => showError(`Javascript Error: ${err.message}<br>This usually means there's a typo in your chart specification. See the javascript console for the full traceback.`));\n",
       "    }\n",
       "\n",
       "    if(typeof define === \"function\" && define.amd) {\n",
       "      requirejs.config({paths});\n",
       "      require([\"vega-embed\"], displayChart, err => showError(`Error loading script: ${err.message}`));\n",
       "    } else {\n",
       "      maybeLoadScript(\"vega\", \"5\")\n",
       "        .then(() => maybeLoadScript(\"vega-lite\", \"5.20.1\"))\n",
       "        .then(() => maybeLoadScript(\"vega-embed\", \"6\"))\n",
       "        .catch(showError)\n",
       "        .then(() => displayChart(vegaEmbed));\n",
       "    }\n",
       "  })({\"config\": {\"view\": {\"continuousWidth\": 300, \"continuousHeight\": 300}}, \"data\": {\"name\": \"data-7b709e00665eb19addadd2e08b50a201\"}, \"mark\": {\"type\": \"line\"}, \"encoding\": {\"x\": {\"field\": \"value\", \"type\": \"quantitative\"}, \"y\": {\"field\": \"sigmoid\", \"type\": \"quantitative\"}}, \"$schema\": \"https://vega.github.io/schema/vega-lite/v5.20.1.json\", \"datasets\": {\"data-7b709e00665eb19addadd2e08b50a201\": [{\"value\": -5.0, \"sigmoid\": 0.0066928509242848554}, {\"value\": -4.8, \"sigmoid\": 0.008162571153159897}, {\"value\": -4.6, \"sigmoid\": 0.009951801866904324}, {\"value\": -4.4, \"sigmoid\": 0.012128434984274237}, {\"value\": -4.2, \"sigmoid\": 0.014774031693273055}, {\"value\": -4.0, \"sigmoid\": 0.01798620996209156}, {\"value\": -3.8, \"sigmoid\": 0.021881270936130476}, {\"value\": -3.5999999999999996, \"sigmoid\": 0.026596993576865863}, {\"value\": -3.4, \"sigmoid\": 0.032295464698450516}, {\"value\": -3.2, \"sigmoid\": 0.039165722796764356}, {\"value\": -3.0, \"sigmoid\": 0.04742587317756678}, {\"value\": -2.8, \"sigmoid\": 0.057324175898868755}, {\"value\": -2.5999999999999996, \"sigmoid\": 0.06913842034334684}, {\"value\": -2.4, \"sigmoid\": 0.08317269649392238}, {\"value\": -2.1999999999999997, \"sigmoid\": 0.09975048911968518}, {\"value\": -2.0, \"sigmoid\": 0.11920292202211755}, {\"value\": -1.7999999999999998, \"sigmoid\": 0.14185106490048782}, {\"value\": -1.5999999999999996, \"sigmoid\": 0.16798161486607557}, {\"value\": -1.4, \"sigmoid\": 0.19781611144141825}, {\"value\": -1.1999999999999997, \"sigmoid\": 0.23147521650098238}, {\"value\": -1.0, \"sigmoid\": 0.2689414213699951}, {\"value\": -0.7999999999999998, \"sigmoid\": 0.31002551887238755}, {\"value\": -0.5999999999999996, \"sigmoid\": 0.35434369377420466}, {\"value\": -0.39999999999999947, \"sigmoid\": 0.40131233988754816}, {\"value\": -0.1999999999999993, \"sigmoid\": 0.4501660026875223}, {\"value\": 0.0, \"sigmoid\": 0.5}, {\"value\": 0.20000000000000018, \"sigmoid\": 0.549833997312478}, {\"value\": 0.40000000000000036, \"sigmoid\": 0.5986876601124521}, {\"value\": 0.6000000000000005, \"sigmoid\": 0.6456563062257956}, {\"value\": 0.8000000000000007, \"sigmoid\": 0.6899744811276126}, {\"value\": 1.0, \"sigmoid\": 0.7310585786300049}, {\"value\": 1.2000000000000002, \"sigmoid\": 0.7685247834990178}, {\"value\": 1.4000000000000004, \"sigmoid\": 0.8021838885585818}, {\"value\": 1.6000000000000005, \"sigmoid\": 0.8320183851339246}, {\"value\": 1.8000000000000007, \"sigmoid\": 0.8581489350995123}, {\"value\": 2.0, \"sigmoid\": 0.8807970779778823}, {\"value\": 2.2, \"sigmoid\": 0.9002495108803148}, {\"value\": 2.4000000000000004, \"sigmoid\": 0.9168273035060777}, {\"value\": 2.6000000000000005, \"sigmoid\": 0.9308615796566533}, {\"value\": 2.8000000000000007, \"sigmoid\": 0.9426758241011313}, {\"value\": 3.0, \"sigmoid\": 0.9525741268224334}, {\"value\": 3.200000000000001, \"sigmoid\": 0.9608342772032357}, {\"value\": 3.4000000000000004, \"sigmoid\": 0.9677045353015495}, {\"value\": 3.5999999999999996, \"sigmoid\": 0.973403006423134}, {\"value\": 3.8000000000000007, \"sigmoid\": 0.9781187290638694}, {\"value\": 4.0, \"sigmoid\": 0.9820137900379085}, {\"value\": 4.200000000000001, \"sigmoid\": 0.9852259683067269}, {\"value\": 4.4, \"sigmoid\": 0.9878715650157257}, {\"value\": 4.600000000000001, \"sigmoid\": 0.9900481981330957}, {\"value\": 4.800000000000001, \"sigmoid\": 0.9918374288468401}, {\"value\": 5.0, \"sigmoid\": 0.9933071490757153}]}}, {\"mode\": \"vega-lite\"});\n",
       "</script>"
      ],
      "text/plain": [
       "alt.Chart(...)"
      ]
     },
     "execution_count": 58,
     "metadata": {},
     "output_type": "execute_result"
    }
   ],
   "source": [
    "alt.Chart(pl.DataFrame({\"value\": z, \"sigmoid\": sigmoid(z)})).mark_line().encode(\n",
    "    alt.X(\"value\"), alt.Y(\"sigmoid\")\n",
    ")"
   ]
  },
  {
   "cell_type": "code",
   "execution_count": 59,
   "metadata": {},
   "outputs": [],
   "source": [
    "def linear_regression(xi, w0, w):\n",
    "    result = w0\n",
    "\n",
    "    for j in range(len(w)):\n",
    "        result = result + xi[j] * w[j]\n",
    "\n",
    "    return result"
   ]
  },
  {
   "cell_type": "code",
   "execution_count": 60,
   "metadata": {},
   "outputs": [],
   "source": [
    "def logistic_regression(xi, w0, w):\n",
    "    score = w0\n",
    "\n",
    "    for j in range(len(w)):\n",
    "        score = score + xi[j] * w[j]\n",
    "\n",
    "    result = sigmoid(score)\n",
    "    return result"
   ]
  },
  {
   "cell_type": "markdown",
   "metadata": {},
   "source": [
    "## 9. Training logistic regression with Scikit-Learn\n"
   ]
  },
  {
   "cell_type": "code",
   "execution_count": 61,
   "metadata": {},
   "outputs": [
    {
     "name": "stderr",
     "output_type": "stream",
     "text": [
      "/home/nikki/workspace/ml-zoomcamp/.venv/lib/python3.12/site-packages/sklearn/linear_model/_logistic.py:469: ConvergenceWarning: lbfgs failed to converge (status=1):\n",
      "STOP: TOTAL NO. of ITERATIONS REACHED LIMIT.\n",
      "\n",
      "Increase the number of iterations (max_iter) or scale the data as shown in:\n",
      "    https://scikit-learn.org/stable/modules/preprocessing.html\n",
      "Please also refer to the documentation for alternative solver options:\n",
      "    https://scikit-learn.org/stable/modules/linear_model.html#logistic-regression\n",
      "  n_iter_i = _check_optimize_result(\n"
     ]
    },
    {
     "data": {
      "text/html": [
       "<style>#sk-container-id-1 {\n",
       "  /* Definition of color scheme common for light and dark mode */\n",
       "  --sklearn-color-text: black;\n",
       "  --sklearn-color-line: gray;\n",
       "  /* Definition of color scheme for unfitted estimators */\n",
       "  --sklearn-color-unfitted-level-0: #fff5e6;\n",
       "  --sklearn-color-unfitted-level-1: #f6e4d2;\n",
       "  --sklearn-color-unfitted-level-2: #ffe0b3;\n",
       "  --sklearn-color-unfitted-level-3: chocolate;\n",
       "  /* Definition of color scheme for fitted estimators */\n",
       "  --sklearn-color-fitted-level-0: #f0f8ff;\n",
       "  --sklearn-color-fitted-level-1: #d4ebff;\n",
       "  --sklearn-color-fitted-level-2: #b3dbfd;\n",
       "  --sklearn-color-fitted-level-3: cornflowerblue;\n",
       "\n",
       "  /* Specific color for light theme */\n",
       "  --sklearn-color-text-on-default-background: var(--sg-text-color, var(--theme-code-foreground, var(--jp-content-font-color1, black)));\n",
       "  --sklearn-color-background: var(--sg-background-color, var(--theme-background, var(--jp-layout-color0, white)));\n",
       "  --sklearn-color-border-box: var(--sg-text-color, var(--theme-code-foreground, var(--jp-content-font-color1, black)));\n",
       "  --sklearn-color-icon: #696969;\n",
       "\n",
       "  @media (prefers-color-scheme: dark) {\n",
       "    /* Redefinition of color scheme for dark theme */\n",
       "    --sklearn-color-text-on-default-background: var(--sg-text-color, var(--theme-code-foreground, var(--jp-content-font-color1, white)));\n",
       "    --sklearn-color-background: var(--sg-background-color, var(--theme-background, var(--jp-layout-color0, #111)));\n",
       "    --sklearn-color-border-box: var(--sg-text-color, var(--theme-code-foreground, var(--jp-content-font-color1, white)));\n",
       "    --sklearn-color-icon: #878787;\n",
       "  }\n",
       "}\n",
       "\n",
       "#sk-container-id-1 {\n",
       "  color: var(--sklearn-color-text);\n",
       "}\n",
       "\n",
       "#sk-container-id-1 pre {\n",
       "  padding: 0;\n",
       "}\n",
       "\n",
       "#sk-container-id-1 input.sk-hidden--visually {\n",
       "  border: 0;\n",
       "  clip: rect(1px 1px 1px 1px);\n",
       "  clip: rect(1px, 1px, 1px, 1px);\n",
       "  height: 1px;\n",
       "  margin: -1px;\n",
       "  overflow: hidden;\n",
       "  padding: 0;\n",
       "  position: absolute;\n",
       "  width: 1px;\n",
       "}\n",
       "\n",
       "#sk-container-id-1 div.sk-dashed-wrapped {\n",
       "  border: 1px dashed var(--sklearn-color-line);\n",
       "  margin: 0 0.4em 0.5em 0.4em;\n",
       "  box-sizing: border-box;\n",
       "  padding-bottom: 0.4em;\n",
       "  background-color: var(--sklearn-color-background);\n",
       "}\n",
       "\n",
       "#sk-container-id-1 div.sk-container {\n",
       "  /* jupyter's `normalize.less` sets `[hidden] { display: none; }`\n",
       "     but bootstrap.min.css set `[hidden] { display: none !important; }`\n",
       "     so we also need the `!important` here to be able to override the\n",
       "     default hidden behavior on the sphinx rendered scikit-learn.org.\n",
       "     See: https://github.com/scikit-learn/scikit-learn/issues/21755 */\n",
       "  display: inline-block !important;\n",
       "  position: relative;\n",
       "}\n",
       "\n",
       "#sk-container-id-1 div.sk-text-repr-fallback {\n",
       "  display: none;\n",
       "}\n",
       "\n",
       "div.sk-parallel-item,\n",
       "div.sk-serial,\n",
       "div.sk-item {\n",
       "  /* draw centered vertical line to link estimators */\n",
       "  background-image: linear-gradient(var(--sklearn-color-text-on-default-background), var(--sklearn-color-text-on-default-background));\n",
       "  background-size: 2px 100%;\n",
       "  background-repeat: no-repeat;\n",
       "  background-position: center center;\n",
       "}\n",
       "\n",
       "/* Parallel-specific style estimator block */\n",
       "\n",
       "#sk-container-id-1 div.sk-parallel-item::after {\n",
       "  content: \"\";\n",
       "  width: 100%;\n",
       "  border-bottom: 2px solid var(--sklearn-color-text-on-default-background);\n",
       "  flex-grow: 1;\n",
       "}\n",
       "\n",
       "#sk-container-id-1 div.sk-parallel {\n",
       "  display: flex;\n",
       "  align-items: stretch;\n",
       "  justify-content: center;\n",
       "  background-color: var(--sklearn-color-background);\n",
       "  position: relative;\n",
       "}\n",
       "\n",
       "#sk-container-id-1 div.sk-parallel-item {\n",
       "  display: flex;\n",
       "  flex-direction: column;\n",
       "}\n",
       "\n",
       "#sk-container-id-1 div.sk-parallel-item:first-child::after {\n",
       "  align-self: flex-end;\n",
       "  width: 50%;\n",
       "}\n",
       "\n",
       "#sk-container-id-1 div.sk-parallel-item:last-child::after {\n",
       "  align-self: flex-start;\n",
       "  width: 50%;\n",
       "}\n",
       "\n",
       "#sk-container-id-1 div.sk-parallel-item:only-child::after {\n",
       "  width: 0;\n",
       "}\n",
       "\n",
       "/* Serial-specific style estimator block */\n",
       "\n",
       "#sk-container-id-1 div.sk-serial {\n",
       "  display: flex;\n",
       "  flex-direction: column;\n",
       "  align-items: center;\n",
       "  background-color: var(--sklearn-color-background);\n",
       "  padding-right: 1em;\n",
       "  padding-left: 1em;\n",
       "}\n",
       "\n",
       "\n",
       "/* Toggleable style: style used for estimator/Pipeline/ColumnTransformer box that is\n",
       "clickable and can be expanded/collapsed.\n",
       "- Pipeline and ColumnTransformer use this feature and define the default style\n",
       "- Estimators will overwrite some part of the style using the `sk-estimator` class\n",
       "*/\n",
       "\n",
       "/* Pipeline and ColumnTransformer style (default) */\n",
       "\n",
       "#sk-container-id-1 div.sk-toggleable {\n",
       "  /* Default theme specific background. It is overwritten whether we have a\n",
       "  specific estimator or a Pipeline/ColumnTransformer */\n",
       "  background-color: var(--sklearn-color-background);\n",
       "}\n",
       "\n",
       "/* Toggleable label */\n",
       "#sk-container-id-1 label.sk-toggleable__label {\n",
       "  cursor: pointer;\n",
       "  display: block;\n",
       "  width: 100%;\n",
       "  margin-bottom: 0;\n",
       "  padding: 0.5em;\n",
       "  box-sizing: border-box;\n",
       "  text-align: center;\n",
       "}\n",
       "\n",
       "#sk-container-id-1 label.sk-toggleable__label-arrow:before {\n",
       "  /* Arrow on the left of the label */\n",
       "  content: \"▸\";\n",
       "  float: left;\n",
       "  margin-right: 0.25em;\n",
       "  color: var(--sklearn-color-icon);\n",
       "}\n",
       "\n",
       "#sk-container-id-1 label.sk-toggleable__label-arrow:hover:before {\n",
       "  color: var(--sklearn-color-text);\n",
       "}\n",
       "\n",
       "/* Toggleable content - dropdown */\n",
       "\n",
       "#sk-container-id-1 div.sk-toggleable__content {\n",
       "  max-height: 0;\n",
       "  max-width: 0;\n",
       "  overflow: hidden;\n",
       "  text-align: left;\n",
       "  /* unfitted */\n",
       "  background-color: var(--sklearn-color-unfitted-level-0);\n",
       "}\n",
       "\n",
       "#sk-container-id-1 div.sk-toggleable__content.fitted {\n",
       "  /* fitted */\n",
       "  background-color: var(--sklearn-color-fitted-level-0);\n",
       "}\n",
       "\n",
       "#sk-container-id-1 div.sk-toggleable__content pre {\n",
       "  margin: 0.2em;\n",
       "  border-radius: 0.25em;\n",
       "  color: var(--sklearn-color-text);\n",
       "  /* unfitted */\n",
       "  background-color: var(--sklearn-color-unfitted-level-0);\n",
       "}\n",
       "\n",
       "#sk-container-id-1 div.sk-toggleable__content.fitted pre {\n",
       "  /* unfitted */\n",
       "  background-color: var(--sklearn-color-fitted-level-0);\n",
       "}\n",
       "\n",
       "#sk-container-id-1 input.sk-toggleable__control:checked~div.sk-toggleable__content {\n",
       "  /* Expand drop-down */\n",
       "  max-height: 200px;\n",
       "  max-width: 100%;\n",
       "  overflow: auto;\n",
       "}\n",
       "\n",
       "#sk-container-id-1 input.sk-toggleable__control:checked~label.sk-toggleable__label-arrow:before {\n",
       "  content: \"▾\";\n",
       "}\n",
       "\n",
       "/* Pipeline/ColumnTransformer-specific style */\n",
       "\n",
       "#sk-container-id-1 div.sk-label input.sk-toggleable__control:checked~label.sk-toggleable__label {\n",
       "  color: var(--sklearn-color-text);\n",
       "  background-color: var(--sklearn-color-unfitted-level-2);\n",
       "}\n",
       "\n",
       "#sk-container-id-1 div.sk-label.fitted input.sk-toggleable__control:checked~label.sk-toggleable__label {\n",
       "  background-color: var(--sklearn-color-fitted-level-2);\n",
       "}\n",
       "\n",
       "/* Estimator-specific style */\n",
       "\n",
       "/* Colorize estimator box */\n",
       "#sk-container-id-1 div.sk-estimator input.sk-toggleable__control:checked~label.sk-toggleable__label {\n",
       "  /* unfitted */\n",
       "  background-color: var(--sklearn-color-unfitted-level-2);\n",
       "}\n",
       "\n",
       "#sk-container-id-1 div.sk-estimator.fitted input.sk-toggleable__control:checked~label.sk-toggleable__label {\n",
       "  /* fitted */\n",
       "  background-color: var(--sklearn-color-fitted-level-2);\n",
       "}\n",
       "\n",
       "#sk-container-id-1 div.sk-label label.sk-toggleable__label,\n",
       "#sk-container-id-1 div.sk-label label {\n",
       "  /* The background is the default theme color */\n",
       "  color: var(--sklearn-color-text-on-default-background);\n",
       "}\n",
       "\n",
       "/* On hover, darken the color of the background */\n",
       "#sk-container-id-1 div.sk-label:hover label.sk-toggleable__label {\n",
       "  color: var(--sklearn-color-text);\n",
       "  background-color: var(--sklearn-color-unfitted-level-2);\n",
       "}\n",
       "\n",
       "/* Label box, darken color on hover, fitted */\n",
       "#sk-container-id-1 div.sk-label.fitted:hover label.sk-toggleable__label.fitted {\n",
       "  color: var(--sklearn-color-text);\n",
       "  background-color: var(--sklearn-color-fitted-level-2);\n",
       "}\n",
       "\n",
       "/* Estimator label */\n",
       "\n",
       "#sk-container-id-1 div.sk-label label {\n",
       "  font-family: monospace;\n",
       "  font-weight: bold;\n",
       "  display: inline-block;\n",
       "  line-height: 1.2em;\n",
       "}\n",
       "\n",
       "#sk-container-id-1 div.sk-label-container {\n",
       "  text-align: center;\n",
       "}\n",
       "\n",
       "/* Estimator-specific */\n",
       "#sk-container-id-1 div.sk-estimator {\n",
       "  font-family: monospace;\n",
       "  border: 1px dotted var(--sklearn-color-border-box);\n",
       "  border-radius: 0.25em;\n",
       "  box-sizing: border-box;\n",
       "  margin-bottom: 0.5em;\n",
       "  /* unfitted */\n",
       "  background-color: var(--sklearn-color-unfitted-level-0);\n",
       "}\n",
       "\n",
       "#sk-container-id-1 div.sk-estimator.fitted {\n",
       "  /* fitted */\n",
       "  background-color: var(--sklearn-color-fitted-level-0);\n",
       "}\n",
       "\n",
       "/* on hover */\n",
       "#sk-container-id-1 div.sk-estimator:hover {\n",
       "  /* unfitted */\n",
       "  background-color: var(--sklearn-color-unfitted-level-2);\n",
       "}\n",
       "\n",
       "#sk-container-id-1 div.sk-estimator.fitted:hover {\n",
       "  /* fitted */\n",
       "  background-color: var(--sklearn-color-fitted-level-2);\n",
       "}\n",
       "\n",
       "/* Specification for estimator info (e.g. \"i\" and \"?\") */\n",
       "\n",
       "/* Common style for \"i\" and \"?\" */\n",
       "\n",
       ".sk-estimator-doc-link,\n",
       "a:link.sk-estimator-doc-link,\n",
       "a:visited.sk-estimator-doc-link {\n",
       "  float: right;\n",
       "  font-size: smaller;\n",
       "  line-height: 1em;\n",
       "  font-family: monospace;\n",
       "  background-color: var(--sklearn-color-background);\n",
       "  border-radius: 1em;\n",
       "  height: 1em;\n",
       "  width: 1em;\n",
       "  text-decoration: none !important;\n",
       "  margin-left: 1ex;\n",
       "  /* unfitted */\n",
       "  border: var(--sklearn-color-unfitted-level-1) 1pt solid;\n",
       "  color: var(--sklearn-color-unfitted-level-1);\n",
       "}\n",
       "\n",
       ".sk-estimator-doc-link.fitted,\n",
       "a:link.sk-estimator-doc-link.fitted,\n",
       "a:visited.sk-estimator-doc-link.fitted {\n",
       "  /* fitted */\n",
       "  border: var(--sklearn-color-fitted-level-1) 1pt solid;\n",
       "  color: var(--sklearn-color-fitted-level-1);\n",
       "}\n",
       "\n",
       "/* On hover */\n",
       "div.sk-estimator:hover .sk-estimator-doc-link:hover,\n",
       ".sk-estimator-doc-link:hover,\n",
       "div.sk-label-container:hover .sk-estimator-doc-link:hover,\n",
       ".sk-estimator-doc-link:hover {\n",
       "  /* unfitted */\n",
       "  background-color: var(--sklearn-color-unfitted-level-3);\n",
       "  color: var(--sklearn-color-background);\n",
       "  text-decoration: none;\n",
       "}\n",
       "\n",
       "div.sk-estimator.fitted:hover .sk-estimator-doc-link.fitted:hover,\n",
       ".sk-estimator-doc-link.fitted:hover,\n",
       "div.sk-label-container:hover .sk-estimator-doc-link.fitted:hover,\n",
       ".sk-estimator-doc-link.fitted:hover {\n",
       "  /* fitted */\n",
       "  background-color: var(--sklearn-color-fitted-level-3);\n",
       "  color: var(--sklearn-color-background);\n",
       "  text-decoration: none;\n",
       "}\n",
       "\n",
       "/* Span, style for the box shown on hovering the info icon */\n",
       ".sk-estimator-doc-link span {\n",
       "  display: none;\n",
       "  z-index: 9999;\n",
       "  position: relative;\n",
       "  font-weight: normal;\n",
       "  right: .2ex;\n",
       "  padding: .5ex;\n",
       "  margin: .5ex;\n",
       "  width: min-content;\n",
       "  min-width: 20ex;\n",
       "  max-width: 50ex;\n",
       "  color: var(--sklearn-color-text);\n",
       "  box-shadow: 2pt 2pt 4pt #999;\n",
       "  /* unfitted */\n",
       "  background: var(--sklearn-color-unfitted-level-0);\n",
       "  border: .5pt solid var(--sklearn-color-unfitted-level-3);\n",
       "}\n",
       "\n",
       ".sk-estimator-doc-link.fitted span {\n",
       "  /* fitted */\n",
       "  background: var(--sklearn-color-fitted-level-0);\n",
       "  border: var(--sklearn-color-fitted-level-3);\n",
       "}\n",
       "\n",
       ".sk-estimator-doc-link:hover span {\n",
       "  display: block;\n",
       "}\n",
       "\n",
       "/* \"?\"-specific style due to the `<a>` HTML tag */\n",
       "\n",
       "#sk-container-id-1 a.estimator_doc_link {\n",
       "  float: right;\n",
       "  font-size: 1rem;\n",
       "  line-height: 1em;\n",
       "  font-family: monospace;\n",
       "  background-color: var(--sklearn-color-background);\n",
       "  border-radius: 1rem;\n",
       "  height: 1rem;\n",
       "  width: 1rem;\n",
       "  text-decoration: none;\n",
       "  /* unfitted */\n",
       "  color: var(--sklearn-color-unfitted-level-1);\n",
       "  border: var(--sklearn-color-unfitted-level-1) 1pt solid;\n",
       "}\n",
       "\n",
       "#sk-container-id-1 a.estimator_doc_link.fitted {\n",
       "  /* fitted */\n",
       "  border: var(--sklearn-color-fitted-level-1) 1pt solid;\n",
       "  color: var(--sklearn-color-fitted-level-1);\n",
       "}\n",
       "\n",
       "/* On hover */\n",
       "#sk-container-id-1 a.estimator_doc_link:hover {\n",
       "  /* unfitted */\n",
       "  background-color: var(--sklearn-color-unfitted-level-3);\n",
       "  color: var(--sklearn-color-background);\n",
       "  text-decoration: none;\n",
       "}\n",
       "\n",
       "#sk-container-id-1 a.estimator_doc_link.fitted:hover {\n",
       "  /* fitted */\n",
       "  background-color: var(--sklearn-color-fitted-level-3);\n",
       "}\n",
       "</style><div id=\"sk-container-id-1\" class=\"sk-top-container\"><div class=\"sk-text-repr-fallback\"><pre>LogisticRegression()</pre><b>In a Jupyter environment, please rerun this cell to show the HTML representation or trust the notebook. <br />On GitHub, the HTML representation is unable to render, please try loading this page with nbviewer.org.</b></div><div class=\"sk-container\" hidden><div class=\"sk-item\"><div class=\"sk-estimator fitted sk-toggleable\"><input class=\"sk-toggleable__control sk-hidden--visually\" id=\"sk-estimator-id-1\" type=\"checkbox\" checked><label for=\"sk-estimator-id-1\" class=\"sk-toggleable__label fitted sk-toggleable__label-arrow fitted\">&nbsp;&nbsp;LogisticRegression<a class=\"sk-estimator-doc-link fitted\" rel=\"noreferrer\" target=\"_blank\" href=\"https://scikit-learn.org/1.5/modules/generated/sklearn.linear_model.LogisticRegression.html\">?<span>Documentation for LogisticRegression</span></a><span class=\"sk-estimator-doc-link fitted\">i<span>Fitted</span></span></label><div class=\"sk-toggleable__content fitted\"><pre>LogisticRegression()</pre></div> </div></div></div></div>"
      ],
      "text/plain": [
       "LogisticRegression()"
      ]
     },
     "execution_count": 61,
     "metadata": {},
     "output_type": "execute_result"
    }
   ],
   "source": [
    "model = LogisticRegression()\n",
    "model.fit(X_train, y_train)"
   ]
  },
  {
   "cell_type": "markdown",
   "metadata": {},
   "source": [
    "This warning is because the data has not been scaled properly, with `totalcharges` having a higher amount compared to the others\n"
   ]
  },
  {
   "cell_type": "code",
   "execution_count": 62,
   "metadata": {},
   "outputs": [
    {
     "data": {
      "text/plain": [
       "np.float64(-0.10819072735550182)"
      ]
     },
     "execution_count": 62,
     "metadata": {},
     "output_type": "execute_result"
    }
   ],
   "source": [
    "model.intercept_[0]"
   ]
  },
  {
   "cell_type": "code",
   "execution_count": null,
   "metadata": {},
   "outputs": [
    {
     "data": {
      "text/plain": [
       "array([ 0.471, -0.174, -0.404, -0.028, -0.079,  0.063, -0.088, -0.082,\n",
       "       -0.034, -0.073, -0.334,  0.315, -0.088,  0.004, -0.257,  0.14 ,\n",
       "        0.01 ,  0.062, -0.088, -0.081,  0.265, -0.088, -0.284, -0.231,\n",
       "        0.124, -0.164,  0.057, -0.087, -0.032,  0.072, -0.06 ,  0.14 ,\n",
       "       -0.246,  0.215, -0.12 , -0.088,  0.101, -0.071, -0.088,  0.051,\n",
       "        0.213, -0.088, -0.232, -0.071,  0.   ])"
      ]
     },
     "execution_count": 63,
     "metadata": {},
     "output_type": "execute_result"
    }
   ],
   "source": [
    "model.coef_[0].round(3)"
   ]
  },
  {
   "cell_type": "code",
   "execution_count": 64,
   "metadata": {},
   "outputs": [
    {
     "data": {
      "text/plain": [
       "array([0, 1, 1, ..., 1, 0, 1], dtype=int8)"
      ]
     },
     "execution_count": 64,
     "metadata": {},
     "output_type": "execute_result"
    }
   ],
   "source": [
    "# hard prediction\n",
    "model.predict(X_train)"
   ]
  },
  {
   "cell_type": "markdown",
   "metadata": {},
   "source": [
    "- Hard prediction\n",
    "- Not churning or churning\n"
   ]
  },
  {
   "cell_type": "code",
   "execution_count": 65,
   "metadata": {},
   "outputs": [
    {
     "data": {
      "text/plain": [
       "array([[0.903815  , 0.096185  ],\n",
       "       [0.32091512, 0.67908488],\n",
       "       [0.36627175, 0.63372825],\n",
       "       ...,\n",
       "       [0.47110439, 0.52889561],\n",
       "       [0.95699186, 0.04300814],\n",
       "       [0.30148157, 0.69851843]])"
      ]
     },
     "execution_count": 65,
     "metadata": {},
     "output_type": "execute_result"
    }
   ],
   "source": [
    "# soft prediction\n",
    "model.predict_proba(X_train)"
   ]
  },
  {
   "cell_type": "markdown",
   "metadata": {},
   "source": [
    "- Soft prediction\n",
    "- The probability of not churning and churning\n"
   ]
  },
  {
   "cell_type": "code",
   "execution_count": 66,
   "metadata": {},
   "outputs": [],
   "source": [
    "y_pred = model.predict_proba(X_val)[:, 1]"
   ]
  },
  {
   "cell_type": "code",
   "execution_count": 67,
   "metadata": {},
   "outputs": [],
   "source": [
    "churn_decision = y_pred >= 0.5"
   ]
  },
  {
   "cell_type": "code",
   "execution_count": null,
   "metadata": {},
   "outputs": [
    {
     "data": {
      "text/html": [
       "<div><style>\n",
       ".dataframe > thead > tr,\n",
       ".dataframe > tbody > tr {\n",
       "  text-align: right;\n",
       "  white-space: pre-wrap;\n",
       "}\n",
       "</style>\n",
       "<small>shape: (312,)</small><table border=\"1\" class=\"dataframe\"><thead><tr><th>customerid</th></tr><tr><td>str</td></tr></thead><tbody><tr><td>&quot;8433_wxgna&quot;</td></tr><tr><td>&quot;3440_jpscl&quot;</td></tr><tr><td>&quot;2637_fkfsy&quot;</td></tr><tr><td>&quot;7228_omtpn&quot;</td></tr><tr><td>&quot;6711_fldfb&quot;</td></tr><tr><td>&hellip;</td></tr><tr><td>&quot;5976_jcjrh&quot;</td></tr><tr><td>&quot;2034_cgrhz&quot;</td></tr><tr><td>&quot;5276_kqwhg&quot;</td></tr><tr><td>&quot;6521_yytyi&quot;</td></tr><tr><td>&quot;3049_solay&quot;</td></tr></tbody></table></div>"
      ],
      "text/plain": [
       "shape: (312,)\n",
       "Series: 'customerid' [str]\n",
       "[\n",
       "\t\"8433_wxgna\"\n",
       "\t\"3440_jpscl\"\n",
       "\t\"2637_fkfsy\"\n",
       "\t\"7228_omtpn\"\n",
       "\t\"6711_fldfb\"\n",
       "\t…\n",
       "\t\"5976_jcjrh\"\n",
       "\t\"2034_cgrhz\"\n",
       "\t\"5276_kqwhg\"\n",
       "\t\"6521_yytyi\"\n",
       "\t\"3049_solay\"\n",
       "]"
      ]
     },
     "execution_count": 68,
     "metadata": {},
     "output_type": "execute_result"
    }
   ],
   "source": [
    "df_val.filter(pl.lit(churn_decision))[\"customerid\"]"
   ]
  },
  {
   "cell_type": "code",
   "execution_count": 69,
   "metadata": {},
   "outputs": [
    {
     "data": {
      "text/plain": [
       "array([0, 0, 0, ..., 0, 1, 1], dtype=int8)"
      ]
     },
     "execution_count": 69,
     "metadata": {},
     "output_type": "execute_result"
    }
   ],
   "source": [
    "y_val"
   ]
  },
  {
   "cell_type": "code",
   "execution_count": 70,
   "metadata": {},
   "outputs": [
    {
     "data": {
      "text/plain": [
       "array([0, 0, 0, ..., 0, 1, 1])"
      ]
     },
     "execution_count": 70,
     "metadata": {},
     "output_type": "execute_result"
    }
   ],
   "source": [
    "churn_decision.astype(int)"
   ]
  },
  {
   "cell_type": "code",
   "execution_count": 71,
   "metadata": {},
   "outputs": [
    {
     "data": {
      "text/plain": [
       "np.float64(0.8026969481902059)"
      ]
     },
     "execution_count": 71,
     "metadata": {},
     "output_type": "execute_result"
    }
   ],
   "source": [
    "(y_val == churn_decision).mean()"
   ]
  },
  {
   "cell_type": "code",
   "execution_count": null,
   "metadata": {},
   "outputs": [
    {
     "data": {
      "text/html": [
       "<div><style>\n",
       ".dataframe > thead > tr,\n",
       ".dataframe > tbody > tr {\n",
       "  text-align: right;\n",
       "  white-space: pre-wrap;\n",
       "}\n",
       "</style>\n",
       "<small>shape: (1_409, 4)</small><table border=\"1\" class=\"dataframe\"><thead><tr><th>probability</th><th>prediction</th><th>actual</th><th>correct</th></tr><tr><td>f64</td><td>i64</td><td>i8</td><td>bool</td></tr></thead><tbody><tr><td>0.009034</td><td>0</td><td>0</td><td>true</td></tr><tr><td>0.206096</td><td>0</td><td>0</td><td>true</td></tr><tr><td>0.214327</td><td>0</td><td>0</td><td>true</td></tr><tr><td>0.543724</td><td>1</td><td>1</td><td>true</td></tr><tr><td>0.215992</td><td>0</td><td>0</td><td>true</td></tr><tr><td>&hellip;</td><td>&hellip;</td><td>&hellip;</td><td>&hellip;</td></tr><tr><td>0.310837</td><td>0</td><td>0</td><td>true</td></tr><tr><td>0.039368</td><td>0</td><td>1</td><td>false</td></tr><tr><td>0.136715</td><td>0</td><td>0</td><td>true</td></tr><tr><td>0.798797</td><td>1</td><td>1</td><td>true</td></tr><tr><td>0.836373</td><td>1</td><td>1</td><td>true</td></tr></tbody></table></div>"
      ],
      "text/plain": [
       "shape: (1_409, 4)\n",
       "┌─────────────┬────────────┬────────┬─────────┐\n",
       "│ probability ┆ prediction ┆ actual ┆ correct │\n",
       "│ ---         ┆ ---        ┆ ---    ┆ ---     │\n",
       "│ f64         ┆ i64        ┆ i8     ┆ bool    │\n",
       "╞═════════════╪════════════╪════════╪═════════╡\n",
       "│ 0.009034    ┆ 0          ┆ 0      ┆ true    │\n",
       "│ 0.206096    ┆ 0          ┆ 0      ┆ true    │\n",
       "│ 0.214327    ┆ 0          ┆ 0      ┆ true    │\n",
       "│ 0.543724    ┆ 1          ┆ 1      ┆ true    │\n",
       "│ 0.215992    ┆ 0          ┆ 0      ┆ true    │\n",
       "│ …           ┆ …          ┆ …      ┆ …       │\n",
       "│ 0.310837    ┆ 0          ┆ 0      ┆ true    │\n",
       "│ 0.039368    ┆ 0          ┆ 1      ┆ false   │\n",
       "│ 0.136715    ┆ 0          ┆ 0      ┆ true    │\n",
       "│ 0.798797    ┆ 1          ┆ 1      ┆ true    │\n",
       "│ 0.836373    ┆ 1          ┆ 1      ┆ true    │\n",
       "└─────────────┴────────────┴────────┴─────────┘"
      ]
     },
     "execution_count": 72,
     "metadata": {},
     "output_type": "execute_result"
    }
   ],
   "source": [
    "df_pred = pl.DataFrame()\n",
    "df_pred = df_pred.with_columns(\n",
    "    pl.lit(y_pred).alias(\"probability\"),\n",
    "    pl.lit(churn_decision.astype(int)).alias(\"prediction\"),\n",
    "    pl.lit(y_val).alias(\"actual\"),\n",
    ")\n",
    "df_pred = df_pred.with_columns(\n",
    "    (pl.col(\"prediction\") == pl.col(\"actual\")).alias(\"correct\"),\n",
    ")\n",
    "df_pred"
   ]
  },
  {
   "cell_type": "code",
   "execution_count": null,
   "metadata": {},
   "outputs": [
    {
     "data": {
      "text/plain": [
       "0.8026969481902059"
      ]
     },
     "execution_count": 73,
     "metadata": {},
     "output_type": "execute_result"
    }
   ],
   "source": [
    "df_pred[\"correct\"].mean()"
   ]
  },
  {
   "cell_type": "markdown",
   "metadata": {},
   "source": [
    "## 10. Accuracy and dummy model\n"
   ]
  },
  {
   "cell_type": "code",
   "execution_count": 74,
   "metadata": {},
   "outputs": [
    {
     "data": {
      "text/plain": [
       "1409"
      ]
     },
     "execution_count": 74,
     "metadata": {},
     "output_type": "execute_result"
    }
   ],
   "source": [
    "len(y_val)"
   ]
  },
  {
   "cell_type": "code",
   "execution_count": null,
   "metadata": {},
   "outputs": [
    {
     "data": {
      "text/plain": [
       "np.float64(0.8026969481902059)"
      ]
     },
     "execution_count": 75,
     "metadata": {},
     "output_type": "execute_result"
    }
   ],
   "source": [
    "(y_val == churn_decision).mean()"
   ]
  },
  {
   "cell_type": "code",
   "execution_count": null,
   "metadata": {},
   "outputs": [
    {
     "data": {
      "text/plain": [
       "np.float64(0.0005696926530803448)"
      ]
     },
     "execution_count": 76,
     "metadata": {},
     "output_type": "execute_result"
    }
   ],
   "source": [
    "(y_val == churn_decision).mean() / len(y_val)"
   ]
  },
  {
   "cell_type": "code",
   "execution_count": null,
   "metadata": {},
   "outputs": [
    {
     "name": "stdout",
     "output_type": "stream",
     "text": [
      "0.00 0.274\n",
      "0.05 0.508\n",
      "0.10 0.591\n",
      "0.15 0.666\n",
      "0.20 0.709\n",
      "0.25 0.737\n",
      "0.30 0.760\n",
      "0.35 0.773\n",
      "0.40 0.785\n",
      "0.45 0.792\n",
      "0.50 0.803\n",
      "0.55 0.801\n",
      "0.60 0.795\n",
      "0.65 0.786\n",
      "0.70 0.766\n",
      "0.75 0.744\n",
      "0.80 0.734\n",
      "0.85 0.726\n",
      "0.90 0.726\n",
      "0.95 0.726\n",
      "1.00 0.726\n"
     ]
    }
   ],
   "source": [
    "thresholds = np.linspace(0, 1, 21)\n",
    "\n",
    "scores = []\n",
    "for t in thresholds:\n",
    "    score = accuracy_score(y_val, y_pred >= t)\n",
    "    print(f\"{t:.2f} {score:.3f}\")\n",
    "    scores.append(score)"
   ]
  },
  {
   "cell_type": "code",
   "execution_count": null,
   "metadata": {},
   "outputs": [
    {
     "data": {
      "text/plain": [
       "[<matplotlib.lines.Line2D at 0x7f779b586540>]"
      ]
     },
     "execution_count": 78,
     "metadata": {},
     "output_type": "execute_result"
    },
    {
     "data": {
      "image/png": "[encoded data removed]",
      "text/plain": [
       "<Figure size 640x480 with 1 Axes>"
      ]
     },
     "metadata": {},
     "output_type": "display_data"
    }
   ],
   "source": [
    "plt.plot(thresholds, scores)"
   ]
  },
  {
   "cell_type": "code",
   "execution_count": 79,
   "metadata": {},
   "outputs": [
    {
     "data": {
      "text/plain": [
       "Counter({np.False_: 1409})"
      ]
     },
     "execution_count": 79,
     "metadata": {},
     "output_type": "execute_result"
    }
   ],
   "source": [
    "Counter(y_pred >= 1.0)"
   ]
  },
  {
   "cell_type": "code",
   "execution_count": 80,
   "metadata": {},
   "outputs": [
    {
     "data": {
      "text/plain": [
       "np.float64(0.7260468417317246)"
      ]
     },
     "execution_count": 80,
     "metadata": {},
     "output_type": "execute_result"
    }
   ],
   "source": [
    "1 - y_val.mean()"
   ]
  },
  {
   "cell_type": "markdown",
   "metadata": {},
   "source": [
    "## 11. Confusion table\n"
   ]
  },
  {
   "cell_type": "code",
   "execution_count": 81,
   "metadata": {},
   "outputs": [],
   "source": [
    "actual_positive = y_val == 1\n",
    "actual_negative = y_val == 0"
   ]
  },
  {
   "cell_type": "code",
   "execution_count": 82,
   "metadata": {},
   "outputs": [],
   "source": [
    "t = 0.5\n",
    "predict_positive = y_pred >= t\n",
    "predict_negative = y_pred < t"
   ]
  },
  {
   "cell_type": "code",
   "execution_count": 83,
   "metadata": {},
   "outputs": [],
   "source": [
    "tp = (predict_positive & actual_positive).sum()\n",
    "tn = (predict_negative & actual_negative).sum()"
   ]
  },
  {
   "cell_type": "code",
   "execution_count": 84,
   "metadata": {},
   "outputs": [],
   "source": [
    "fp = (predict_positive & actual_negative).sum()\n",
    "fn = (predict_negative & actual_positive).sum()"
   ]
  },
  {
   "cell_type": "code",
   "execution_count": null,
   "metadata": {},
   "outputs": [
    {
     "data": {
      "text/plain": [
       "array([[921, 102],\n",
       "       [176, 210]])"
      ]
     },
     "execution_count": 85,
     "metadata": {},
     "output_type": "execute_result"
    }
   ],
   "source": [
    "confusion_table = np.array(\n",
    "    [\n",
    "        [tn, fp],\n",
    "        [fn, tp],\n",
    "    ]\n",
    ")\n",
    "confusion_table"
   ]
  },
  {
   "cell_type": "markdown",
   "metadata": {},
   "source": [
    "- `fp`: we're losing money, because these people will not churn, but we give them email discounts anyway\n",
    "- `fn`: we're losing profit, because these people churn and we failed to give them email discounts. Seems to be more difficult to catch in this case\n"
   ]
  },
  {
   "cell_type": "code",
   "execution_count": 86,
   "metadata": {},
   "outputs": [
    {
     "data": {
      "text/plain": [
       "array([[0.65, 0.07],\n",
       "       [0.12, 0.15]])"
      ]
     },
     "execution_count": 86,
     "metadata": {},
     "output_type": "execute_result"
    }
   ],
   "source": [
    "(confusion_table / confusion_table.sum()).round(2)"
   ]
  },
  {
   "cell_type": "markdown",
   "metadata": {},
   "source": [
    "## 12. Precision and Recall\n"
   ]
  },
  {
   "cell_type": "code",
   "execution_count": 87,
   "metadata": {},
   "outputs": [
    {
     "data": {
      "text/plain": [
       "np.float64(0.8026969481902059)"
      ]
     },
     "execution_count": 87,
     "metadata": {},
     "output_type": "execute_result"
    }
   ],
   "source": [
    "accuracy = (tp + tn) / (tp + tn + fp + fn)\n",
    "accuracy"
   ]
  },
  {
   "cell_type": "markdown",
   "metadata": {},
   "source": [
    "`Precision` = fraction of positive prections that are correct (`true positive` / `predict positive`)\n"
   ]
  },
  {
   "cell_type": "code",
   "execution_count": 88,
   "metadata": {},
   "outputs": [
    {
     "data": {
      "text/plain": [
       "np.float64(0.6730769230769231)"
      ]
     },
     "execution_count": 88,
     "metadata": {},
     "output_type": "execute_result"
    }
   ],
   "source": [
    "tp / predict_positive.sum()"
   ]
  },
  {
   "cell_type": "code",
   "execution_count": 89,
   "metadata": {},
   "outputs": [
    {
     "data": {
      "text/plain": [
       "np.float64(0.6730769230769231)"
      ]
     },
     "execution_count": 89,
     "metadata": {},
     "output_type": "execute_result"
    }
   ],
   "source": [
    "precision = tp / (tp + fp)\n",
    "precision\n"
   ]
  },
  {
   "cell_type": "markdown",
   "metadata": {},
   "source": [
    "`Recall` = fraction of correctly identified positive (`true positive` / `actual positive`)\n",
    "\n",
    "- Important when we identifying positive is so important\n",
    "- Like detecting a disease\n"
   ]
  },
  {
   "cell_type": "code",
   "execution_count": 90,
   "metadata": {},
   "outputs": [
    {
     "data": {
      "text/plain": [
       "np.float64(0.5440414507772021)"
      ]
     },
     "execution_count": 90,
     "metadata": {},
     "output_type": "execute_result"
    }
   ],
   "source": [
    "tp / actual_positive.sum()"
   ]
  },
  {
   "cell_type": "code",
   "execution_count": 91,
   "metadata": {},
   "outputs": [
    {
     "data": {
      "text/plain": [
       "np.float64(0.5440414507772021)"
      ]
     },
     "execution_count": 91,
     "metadata": {},
     "output_type": "execute_result"
    }
   ],
   "source": [
    "recall = tp / (tp + fn)\n",
    "recall\n"
   ]
  },
  {
   "cell_type": "markdown",
   "metadata": {},
   "source": [
    "## 13. ROC Curves\n",
    "\n",
    "- False Positive Rate - minimize\n",
    "- True Positive Rate (Recall) - maximize\n"
   ]
  },
  {
   "cell_type": "code",
   "execution_count": 92,
   "metadata": {},
   "outputs": [
    {
     "data": {
      "text/plain": [
       "np.float64(0.5440414507772021)"
      ]
     },
     "execution_count": 92,
     "metadata": {},
     "output_type": "execute_result"
    }
   ],
   "source": [
    "tpr = tp / (tp + fn)\n",
    "tpr"
   ]
  },
  {
   "cell_type": "code",
   "execution_count": 93,
   "metadata": {},
   "outputs": [
    {
     "data": {
      "text/plain": [
       "np.float64(0.09970674486803519)"
      ]
     },
     "execution_count": 93,
     "metadata": {},
     "output_type": "execute_result"
    }
   ],
   "source": [
    "fpr = fp / (fp + tn)\n",
    "fpr"
   ]
  },
  {
   "cell_type": "code",
   "execution_count": 94,
   "metadata": {},
   "outputs": [],
   "source": [
    "thresholds = np.linspace(0, 1, 101)\n",
    "\n",
    "scores = []\n",
    "\n",
    "for t in thresholds:\n",
    "    actual_positive = y_val == 1\n",
    "    actual_negative = y_val == 0\n",
    "\n",
    "    predict_positive = y_pred >= t\n",
    "    predict_negative = y_pred < t\n",
    "\n",
    "    tp = (predict_positive & actual_positive).sum()\n",
    "    tn = (predict_negative & actual_negative).sum()\n",
    "\n",
    "    fp = (predict_positive & actual_negative).sum()\n",
    "    fn = (predict_negative & actual_positive).sum()\n",
    "\n",
    "    scores.append((t, tp, fp, fn, tn))\n"
   ]
  },
  {
   "cell_type": "code",
   "execution_count": 95,
   "metadata": {},
   "outputs": [],
   "source": [
    "cols = [\"threshold\", \"tp\", \"fp\", \"fn\", \"tn\"]\n",
    "df_scores = pl.DataFrame(scores, schema=cols, orient=\"row\")"
   ]
  },
  {
   "cell_type": "code",
   "execution_count": 96,
   "metadata": {},
   "outputs": [
    {
     "data": {
      "text/html": [
       "<div><style>\n",
       ".dataframe > thead > tr,\n",
       ".dataframe > tbody > tr {\n",
       "  text-align: right;\n",
       "  white-space: pre-wrap;\n",
       "}\n",
       "</style>\n",
       "<small>shape: (11, 5)</small><table border=\"1\" class=\"dataframe\"><thead><tr><th>threshold</th><th>tp</th><th>fp</th><th>fn</th><th>tn</th></tr><tr><td>f64</td><td>i64</td><td>i64</td><td>i64</td><td>i64</td></tr></thead><tbody><tr><td>0.0</td><td>386</td><td>1023</td><td>0</td><td>0</td></tr><tr><td>0.1</td><td>366</td><td>556</td><td>20</td><td>467</td></tr><tr><td>0.2</td><td>333</td><td>357</td><td>53</td><td>666</td></tr><tr><td>0.3</td><td>284</td><td>236</td><td>102</td><td>787</td></tr><tr><td>0.4</td><td>249</td><td>166</td><td>137</td><td>857</td></tr><tr><td>&hellip;</td><td>&hellip;</td><td>&hellip;</td><td>&hellip;</td><td>&hellip;</td></tr><tr><td>0.6</td><td>150</td><td>53</td><td>236</td><td>970</td></tr><tr><td>0.7</td><td>75</td><td>19</td><td>311</td><td>1004</td></tr><tr><td>0.8</td><td>12</td><td>1</td><td>374</td><td>1022</td></tr><tr><td>0.9</td><td>0</td><td>0</td><td>386</td><td>1023</td></tr><tr><td>1.0</td><td>0</td><td>0</td><td>386</td><td>1023</td></tr></tbody></table></div>"
      ],
      "text/plain": [
       "shape: (11, 5)\n",
       "┌───────────┬─────┬──────┬─────┬──────┐\n",
       "│ threshold ┆ tp  ┆ fp   ┆ fn  ┆ tn   │\n",
       "│ ---       ┆ --- ┆ ---  ┆ --- ┆ ---  │\n",
       "│ f64       ┆ i64 ┆ i64  ┆ i64 ┆ i64  │\n",
       "╞═══════════╪═════╪══════╪═════╪══════╡\n",
       "│ 0.0       ┆ 386 ┆ 1023 ┆ 0   ┆ 0    │\n",
       "│ 0.1       ┆ 366 ┆ 556  ┆ 20  ┆ 467  │\n",
       "│ 0.2       ┆ 333 ┆ 357  ┆ 53  ┆ 666  │\n",
       "│ 0.3       ┆ 284 ┆ 236  ┆ 102 ┆ 787  │\n",
       "│ 0.4       ┆ 249 ┆ 166  ┆ 137 ┆ 857  │\n",
       "│ …         ┆ …   ┆ …    ┆ …   ┆ …    │\n",
       "│ 0.6       ┆ 150 ┆ 53   ┆ 236 ┆ 970  │\n",
       "│ 0.7       ┆ 75  ┆ 19   ┆ 311 ┆ 1004 │\n",
       "│ 0.8       ┆ 12  ┆ 1    ┆ 374 ┆ 1022 │\n",
       "│ 0.9       ┆ 0   ┆ 0    ┆ 386 ┆ 1023 │\n",
       "│ 1.0       ┆ 0   ┆ 0    ┆ 386 ┆ 1023 │\n",
       "└───────────┴─────┴──────┴─────┴──────┘"
      ]
     },
     "execution_count": 96,
     "metadata": {},
     "output_type": "execute_result"
    }
   ],
   "source": [
    "df_scores[::10]"
   ]
  },
  {
   "cell_type": "code",
   "execution_count": 97,
   "metadata": {},
   "outputs": [],
   "source": [
    "df_scores = df_scores.with_columns(\n",
    "    (pl.col(\"tp\") / (pl.col(\"tp\") + pl.col(\"fn\"))).alias(\"tpr\"),\n",
    "    (pl.col(\"fp\") / (pl.col(\"fp\") + pl.col(\"tn\"))).alias(\"fpr\"),\n",
    ")"
   ]
  },
  {
   "cell_type": "code",
   "execution_count": 98,
   "metadata": {},
   "outputs": [
    {
     "data": {
      "text/html": [
       "<div><style>\n",
       ".dataframe > thead > tr,\n",
       ".dataframe > tbody > tr {\n",
       "  text-align: right;\n",
       "  white-space: pre-wrap;\n",
       "}\n",
       "</style>\n",
       "<small>shape: (11, 7)</small><table border=\"1\" class=\"dataframe\"><thead><tr><th>threshold</th><th>tp</th><th>fp</th><th>fn</th><th>tn</th><th>tpr</th><th>fpr</th></tr><tr><td>f64</td><td>i64</td><td>i64</td><td>i64</td><td>i64</td><td>f64</td><td>f64</td></tr></thead><tbody><tr><td>0.0</td><td>386</td><td>1023</td><td>0</td><td>0</td><td>1.0</td><td>1.0</td></tr><tr><td>0.1</td><td>366</td><td>556</td><td>20</td><td>467</td><td>0.948187</td><td>0.5435</td></tr><tr><td>0.2</td><td>333</td><td>357</td><td>53</td><td>666</td><td>0.862694</td><td>0.348974</td></tr><tr><td>0.3</td><td>284</td><td>236</td><td>102</td><td>787</td><td>0.735751</td><td>0.230694</td></tr><tr><td>0.4</td><td>249</td><td>166</td><td>137</td><td>857</td><td>0.645078</td><td>0.162268</td></tr><tr><td>&hellip;</td><td>&hellip;</td><td>&hellip;</td><td>&hellip;</td><td>&hellip;</td><td>&hellip;</td><td>&hellip;</td></tr><tr><td>0.6</td><td>150</td><td>53</td><td>236</td><td>970</td><td>0.388601</td><td>0.051808</td></tr><tr><td>0.7</td><td>75</td><td>19</td><td>311</td><td>1004</td><td>0.194301</td><td>0.018573</td></tr><tr><td>0.8</td><td>12</td><td>1</td><td>374</td><td>1022</td><td>0.031088</td><td>0.000978</td></tr><tr><td>0.9</td><td>0</td><td>0</td><td>386</td><td>1023</td><td>0.0</td><td>0.0</td></tr><tr><td>1.0</td><td>0</td><td>0</td><td>386</td><td>1023</td><td>0.0</td><td>0.0</td></tr></tbody></table></div>"
      ],
      "text/plain": [
       "shape: (11, 7)\n",
       "┌───────────┬─────┬──────┬─────┬──────┬──────────┬──────────┐\n",
       "│ threshold ┆ tp  ┆ fp   ┆ fn  ┆ tn   ┆ tpr      ┆ fpr      │\n",
       "│ ---       ┆ --- ┆ ---  ┆ --- ┆ ---  ┆ ---      ┆ ---      │\n",
       "│ f64       ┆ i64 ┆ i64  ┆ i64 ┆ i64  ┆ f64      ┆ f64      │\n",
       "╞═══════════╪═════╪══════╪═════╪══════╪══════════╪══════════╡\n",
       "│ 0.0       ┆ 386 ┆ 1023 ┆ 0   ┆ 0    ┆ 1.0      ┆ 1.0      │\n",
       "│ 0.1       ┆ 366 ┆ 556  ┆ 20  ┆ 467  ┆ 0.948187 ┆ 0.5435   │\n",
       "│ 0.2       ┆ 333 ┆ 357  ┆ 53  ┆ 666  ┆ 0.862694 ┆ 0.348974 │\n",
       "│ 0.3       ┆ 284 ┆ 236  ┆ 102 ┆ 787  ┆ 0.735751 ┆ 0.230694 │\n",
       "│ 0.4       ┆ 249 ┆ 166  ┆ 137 ┆ 857  ┆ 0.645078 ┆ 0.162268 │\n",
       "│ …         ┆ …   ┆ …    ┆ …   ┆ …    ┆ …        ┆ …        │\n",
       "│ 0.6       ┆ 150 ┆ 53   ┆ 236 ┆ 970  ┆ 0.388601 ┆ 0.051808 │\n",
       "│ 0.7       ┆ 75  ┆ 19   ┆ 311 ┆ 1004 ┆ 0.194301 ┆ 0.018573 │\n",
       "│ 0.8       ┆ 12  ┆ 1    ┆ 374 ┆ 1022 ┆ 0.031088 ┆ 0.000978 │\n",
       "│ 0.9       ┆ 0   ┆ 0    ┆ 386 ┆ 1023 ┆ 0.0      ┆ 0.0      │\n",
       "│ 1.0       ┆ 0   ┆ 0    ┆ 386 ┆ 1023 ┆ 0.0      ┆ 0.0      │\n",
       "└───────────┴─────┴──────┴─────┴──────┴──────────┴──────────┘"
      ]
     },
     "execution_count": 98,
     "metadata": {},
     "output_type": "execute_result"
    }
   ],
   "source": [
    "df_scores[::10]"
   ]
  },
  {
   "cell_type": "code",
   "execution_count": 99,
   "metadata": {},
   "outputs": [
    {
     "data": {
      "text/html": [
       "\n",
       "<style>\n",
       "  #altair-viz-108e850a28e8496eb7718cdef0d64002.vega-embed {\n",
       "    width: 100%;\n",
       "    display: flex;\n",
       "  }\n",
       "\n",
       "  #altair-viz-108e850a28e8496eb7718cdef0d64002.vega-embed details,\n",
       "  #altair-viz-108e850a28e8496eb7718cdef0d64002.vega-embed details summary {\n",
       "    position: relative;\n",
       "  }\n",
       "</style>\n",
       "<div id=\"altair-viz-108e850a28e8496eb7718cdef0d64002\"></div>\n",
       "<script type=\"text/javascript\">\n",
       "  var VEGA_DEBUG = (typeof VEGA_DEBUG == \"undefined\") ? {} : VEGA_DEBUG;\n",
       "  (function(spec, embedOpt){\n",
       "    let outputDiv = document.currentScript.previousElementSibling;\n",
       "    if (outputDiv.id !== \"altair-viz-108e850a28e8496eb7718cdef0d64002\") {\n",
       "      outputDiv = document.getElementById(\"altair-viz-108e850a28e8496eb7718cdef0d64002\");\n",
       "    }\n",
       "    const paths = {\n",
       "      \"vega\": \"https://cdn.jsdelivr.net/npm/vega@5?noext\",\n",
       "      \"vega-lib\": \"https://cdn.jsdelivr.net/npm/vega-lib?noext\",\n",
       "      \"vega-lite\": \"https://cdn.jsdelivr.net/npm/vega-lite@5.20.1?noext\",\n",
       "      \"vega-embed\": \"https://cdn.jsdelivr.net/npm/vega-embed@6?noext\",\n",
       "    };\n",
       "\n",
       "    function maybeLoadScript(lib, version) {\n",
       "      var key = `${lib.replace(\"-\", \"\")}_version`;\n",
       "      return (VEGA_DEBUG[key] == version) ?\n",
       "        Promise.resolve(paths[lib]) :\n",
       "        new Promise(function(resolve, reject) {\n",
       "          var s = document.createElement('script');\n",
       "          document.getElementsByTagName(\"head\")[0].appendChild(s);\n",
       "          s.async = true;\n",
       "          s.onload = () => {\n",
       "            VEGA_DEBUG[key] = version;\n",
       "            return resolve(paths[lib]);\n",
       "          };\n",
       "          s.onerror = () => reject(`Error loading script: ${paths[lib]}`);\n",
       "          s.src = paths[lib];\n",
       "        });\n",
       "    }\n",
       "\n",
       "    function showError(err) {\n",
       "      outputDiv.innerHTML = `<div class=\"error\" style=\"color:red;\">${err}</div>`;\n",
       "      throw err;\n",
       "    }\n",
       "\n",
       "    function displayChart(vegaEmbed) {\n",
       "      vegaEmbed(outputDiv, spec, embedOpt)\n",
       "        .catch(err => showError(`Javascript Error: ${err.message}<br>This usually means there's a typo in your chart specification. See the javascript console for the full traceback.`));\n",
       "    }\n",
       "\n",
       "    if(typeof define === \"function\" && define.amd) {\n",
       "      requirejs.config({paths});\n",
       "      require([\"vega-embed\"], displayChart, err => showError(`Error loading script: ${err.message}`));\n",
       "    } else {\n",
       "      maybeLoadScript(\"vega\", \"5\")\n",
       "        .then(() => maybeLoadScript(\"vega-lite\", \"5.20.1\"))\n",
       "        .then(() => maybeLoadScript(\"vega-embed\", \"6\"))\n",
       "        .catch(showError)\n",
       "        .then(() => displayChart(vegaEmbed));\n",
       "    }\n",
       "  })({\"config\": {\"view\": {\"continuousWidth\": 300, \"continuousHeight\": 300}}, \"data\": {\"name\": \"data-e69ae8b9f723ffbc4dcf470f2afc992f\"}, \"mark\": {\"type\": \"line\"}, \"encoding\": {\"color\": {\"field\": \"key\", \"type\": \"nominal\"}, \"x\": {\"field\": \"threshold\", \"type\": \"quantitative\"}, \"y\": {\"field\": \"value\", \"type\": \"quantitative\"}}, \"transform\": [{\"fold\": [\"tpr\", \"fpr\"]}], \"$schema\": \"https://vega.github.io/schema/vega-lite/v5.20.1.json\", \"datasets\": {\"data-e69ae8b9f723ffbc4dcf470f2afc992f\": [{\"threshold\": 0.0, \"tp\": 386, \"fp\": 1023, \"fn\": 0, \"tn\": 0, \"tpr\": 1.0, \"fpr\": 1.0}, {\"threshold\": 0.01, \"tp\": 385, \"fp\": 916, \"fn\": 1, \"tn\": 107, \"tpr\": 0.9974093264248705, \"fpr\": 0.895405669599218}, {\"threshold\": 0.02, \"tp\": 384, \"fp\": 831, \"fn\": 2, \"tn\": 192, \"tpr\": 0.9948186528497409, \"fpr\": 0.8123167155425219}, {\"threshold\": 0.03, \"tp\": 383, \"fp\": 766, \"fn\": 3, \"tn\": 257, \"tpr\": 0.9922279792746114, \"fpr\": 0.7487781036168133}, {\"threshold\": 0.04, \"tp\": 381, \"fp\": 715, \"fn\": 5, \"tn\": 308, \"tpr\": 0.9870466321243523, \"fpr\": 0.6989247311827957}, {\"threshold\": 0.05, \"tp\": 379, \"fp\": 686, \"fn\": 7, \"tn\": 337, \"tpr\": 0.9818652849740933, \"fpr\": 0.6705767350928641}, {\"threshold\": 0.06, \"tp\": 377, \"fp\": 661, \"fn\": 9, \"tn\": 362, \"tpr\": 0.9766839378238342, \"fpr\": 0.64613880742913}, {\"threshold\": 0.07, \"tp\": 372, \"fp\": 643, \"fn\": 14, \"tn\": 380, \"tpr\": 0.9637305699481865, \"fpr\": 0.6285434995112414}, {\"threshold\": 0.08, \"tp\": 371, \"fp\": 615, \"fn\": 15, \"tn\": 408, \"tpr\": 0.961139896373057, \"fpr\": 0.6011730205278593}, {\"threshold\": 0.09, \"tp\": 369, \"fp\": 582, \"fn\": 17, \"tn\": 441, \"tpr\": 0.9559585492227979, \"fpr\": 0.5689149560117303}, {\"threshold\": 0.1, \"tp\": 366, \"fp\": 556, \"fn\": 20, \"tn\": 467, \"tpr\": 0.9481865284974094, \"fpr\": 0.5434995112414467}, {\"threshold\": 0.11, \"tp\": 365, \"fp\": 528, \"fn\": 21, \"tn\": 495, \"tpr\": 0.9455958549222798, \"fpr\": 0.5161290322580645}, {\"threshold\": 0.12, \"tp\": 364, \"fp\": 512, \"fn\": 22, \"tn\": 511, \"tpr\": 0.9430051813471503, \"fpr\": 0.5004887585532747}, {\"threshold\": 0.13, \"tp\": 360, \"fp\": 477, \"fn\": 26, \"tn\": 546, \"tpr\": 0.9326424870466321, \"fpr\": 0.4662756598240469}, {\"threshold\": 0.14, \"tp\": 355, \"fp\": 453, \"fn\": 31, \"tn\": 570, \"tpr\": 0.9196891191709845, \"fpr\": 0.44281524926686217}, {\"threshold\": 0.15, \"tp\": 351, \"fp\": 435, \"fn\": 35, \"tn\": 588, \"tpr\": 0.9093264248704663, \"fpr\": 0.4252199413489736}, {\"threshold\": 0.16, \"tp\": 347, \"fp\": 424, \"fn\": 39, \"tn\": 599, \"tpr\": 0.8989637305699482, \"fpr\": 0.4144672531769306}, {\"threshold\": 0.17, \"tp\": 346, \"fp\": 401, \"fn\": 40, \"tn\": 622, \"tpr\": 0.8963730569948186, \"fpr\": 0.3919843597262952}, {\"threshold\": 0.18, \"tp\": 344, \"fp\": 384, \"fn\": 42, \"tn\": 639, \"tpr\": 0.8911917098445595, \"fpr\": 0.375366568914956}, {\"threshold\": 0.19, \"tp\": 339, \"fp\": 368, \"fn\": 47, \"tn\": 655, \"tpr\": 0.8782383419689119, \"fpr\": 0.3597262952101662}, {\"threshold\": 0.2, \"tp\": 333, \"fp\": 357, \"fn\": 53, \"tn\": 666, \"tpr\": 0.8626943005181347, \"fpr\": 0.3489736070381232}, {\"threshold\": 0.21, \"tp\": 329, \"fp\": 341, \"fn\": 57, \"tn\": 682, \"tpr\": 0.8523316062176166, \"fpr\": 0.3333333333333333}, {\"threshold\": 0.22, \"tp\": 323, \"fp\": 323, \"fn\": 63, \"tn\": 700, \"tpr\": 0.8367875647668394, \"fpr\": 0.31573802541544477}, {\"threshold\": 0.23, \"tp\": 320, \"fp\": 313, \"fn\": 66, \"tn\": 710, \"tpr\": 0.8290155440414507, \"fpr\": 0.30596285434995113}, {\"threshold\": 0.24, \"tp\": 315, \"fp\": 304, \"fn\": 71, \"tn\": 719, \"tpr\": 0.8160621761658031, \"fpr\": 0.29716520039100686}, {\"threshold\": 0.25, \"tp\": 309, \"fp\": 294, \"fn\": 77, \"tn\": 729, \"tpr\": 0.8005181347150259, \"fpr\": 0.2873900293255132}, {\"threshold\": 0.26, \"tp\": 304, \"fp\": 281, \"fn\": 82, \"tn\": 742, \"tpr\": 0.7875647668393783, \"fpr\": 0.27468230694037143}, {\"threshold\": 0.27, \"tp\": 303, \"fp\": 270, \"fn\": 83, \"tn\": 753, \"tpr\": 0.7849740932642487, \"fpr\": 0.26392961876832843}, {\"threshold\": 0.28, \"tp\": 295, \"fp\": 257, \"fn\": 91, \"tn\": 766, \"tpr\": 0.7642487046632125, \"fpr\": 0.2512218963831867}, {\"threshold\": 0.29, \"tp\": 292, \"fp\": 245, \"fn\": 94, \"tn\": 778, \"tpr\": 0.7564766839378239, \"fpr\": 0.23949169110459434}, {\"threshold\": 0.3, \"tp\": 284, \"fp\": 236, \"fn\": 102, \"tn\": 787, \"tpr\": 0.7357512953367875, \"fpr\": 0.23069403714565004}, {\"threshold\": 0.31, \"tp\": 280, \"fp\": 230, \"fn\": 106, \"tn\": 793, \"tpr\": 0.7253886010362695, \"fpr\": 0.22482893450635386}, {\"threshold\": 0.32, \"tp\": 278, \"fp\": 226, \"fn\": 108, \"tn\": 797, \"tpr\": 0.7202072538860104, \"fpr\": 0.2209188660801564}, {\"threshold\": 0.33, \"tp\": 276, \"fp\": 221, \"fn\": 110, \"tn\": 802, \"tpr\": 0.7150259067357513, \"fpr\": 0.21603128054740958}, {\"threshold\": 0.34, \"tp\": 274, \"fp\": 212, \"fn\": 112, \"tn\": 811, \"tpr\": 0.7098445595854922, \"fpr\": 0.2072336265884653}, {\"threshold\": 0.35000000000000003, \"tp\": 272, \"fp\": 206, \"fn\": 114, \"tn\": 817, \"tpr\": 0.7046632124352331, \"fpr\": 0.2013685239491691}, {\"threshold\": 0.36, \"tp\": 267, \"fp\": 201, \"fn\": 119, \"tn\": 822, \"tpr\": 0.6917098445595855, \"fpr\": 0.19648093841642228}, {\"threshold\": 0.37, \"tp\": 265, \"fp\": 198, \"fn\": 121, \"tn\": 825, \"tpr\": 0.6865284974093264, \"fpr\": 0.1935483870967742}, {\"threshold\": 0.38, \"tp\": 260, \"fp\": 186, \"fn\": 126, \"tn\": 837, \"tpr\": 0.6735751295336787, \"fpr\": 0.18181818181818182}, {\"threshold\": 0.39, \"tp\": 254, \"fp\": 178, \"fn\": 132, \"tn\": 845, \"tpr\": 0.6580310880829016, \"fpr\": 0.1739980449657869}, {\"threshold\": 0.4, \"tp\": 249, \"fp\": 166, \"fn\": 137, \"tn\": 857, \"tpr\": 0.6450777202072538, \"fpr\": 0.16226783968719452}, {\"threshold\": 0.41000000000000003, \"tp\": 246, \"fp\": 159, \"fn\": 140, \"tn\": 864, \"tpr\": 0.6373056994818653, \"fpr\": 0.15542521994134897}, {\"threshold\": 0.42, \"tp\": 243, \"fp\": 156, \"fn\": 143, \"tn\": 867, \"tpr\": 0.6295336787564767, \"fpr\": 0.15249266862170088}, {\"threshold\": 0.43, \"tp\": 241, \"fp\": 150, \"fn\": 145, \"tn\": 873, \"tpr\": 0.6243523316062176, \"fpr\": 0.1466275659824047}, {\"threshold\": 0.44, \"tp\": 234, \"fp\": 147, \"fn\": 152, \"tn\": 876, \"tpr\": 0.6062176165803109, \"fpr\": 0.1436950146627566}, {\"threshold\": 0.45, \"tp\": 228, \"fp\": 135, \"fn\": 158, \"tn\": 888, \"tpr\": 0.5906735751295337, \"fpr\": 0.13196480938416422}, {\"threshold\": 0.46, \"tp\": 224, \"fp\": 125, \"fn\": 162, \"tn\": 898, \"tpr\": 0.5803108808290155, \"fpr\": 0.12218963831867058}, {\"threshold\": 0.47000000000000003, \"tp\": 218, \"fp\": 119, \"fn\": 168, \"tn\": 904, \"tpr\": 0.5647668393782384, \"fpr\": 0.11632453567937438}, {\"threshold\": 0.48, \"tp\": 217, \"fp\": 115, \"fn\": 169, \"tn\": 908, \"tpr\": 0.5621761658031088, \"fpr\": 0.11241446725317693}, {\"threshold\": 0.49, \"tp\": 213, \"fp\": 109, \"fn\": 173, \"tn\": 914, \"tpr\": 0.5518134715025906, \"fpr\": 0.10654936461388075}, {\"threshold\": 0.5, \"tp\": 210, \"fp\": 102, \"fn\": 176, \"tn\": 921, \"tpr\": 0.5440414507772021, \"fpr\": 0.09970674486803519}, {\"threshold\": 0.51, \"tp\": 207, \"fp\": 99, \"fn\": 179, \"tn\": 924, \"tpr\": 0.5362694300518135, \"fpr\": 0.0967741935483871}, {\"threshold\": 0.52, \"tp\": 204, \"fp\": 93, \"fn\": 182, \"tn\": 930, \"tpr\": 0.5284974093264249, \"fpr\": 0.09090909090909091}, {\"threshold\": 0.53, \"tp\": 195, \"fp\": 91, \"fn\": 191, \"tn\": 932, \"tpr\": 0.5051813471502591, \"fpr\": 0.08895405669599218}, {\"threshold\": 0.54, \"tp\": 193, \"fp\": 85, \"fn\": 193, \"tn\": 938, \"tpr\": 0.5, \"fpr\": 0.08308895405669599}, {\"threshold\": 0.55, \"tp\": 185, \"fp\": 79, \"fn\": 201, \"tn\": 944, \"tpr\": 0.4792746113989637, \"fpr\": 0.0772238514173998}, {\"threshold\": 0.56, \"tp\": 182, \"fp\": 75, \"fn\": 204, \"tn\": 948, \"tpr\": 0.47150259067357514, \"fpr\": 0.07331378299120235}, {\"threshold\": 0.5700000000000001, \"tp\": 177, \"fp\": 67, \"fn\": 209, \"tn\": 956, \"tpr\": 0.4585492227979275, \"fpr\": 0.06549364613880743}, {\"threshold\": 0.58, \"tp\": 170, \"fp\": 61, \"fn\": 216, \"tn\": 962, \"tpr\": 0.44041450777202074, \"fpr\": 0.059628543499511244}, {\"threshold\": 0.59, \"tp\": 161, \"fp\": 59, \"fn\": 225, \"tn\": 964, \"tpr\": 0.4170984455958549, \"fpr\": 0.05767350928641251}, {\"threshold\": 0.6, \"tp\": 150, \"fp\": 53, \"fn\": 236, \"tn\": 970, \"tpr\": 0.38860103626943004, \"fpr\": 0.05180840664711633}, {\"threshold\": 0.61, \"tp\": 145, \"fp\": 49, \"fn\": 241, \"tn\": 974, \"tpr\": 0.3756476683937824, \"fpr\": 0.047898338220918865}, {\"threshold\": 0.62, \"tp\": 140, \"fp\": 46, \"fn\": 246, \"tn\": 977, \"tpr\": 0.3626943005181347, \"fpr\": 0.044965786901270774}, {\"threshold\": 0.63, \"tp\": 132, \"fp\": 39, \"fn\": 254, \"tn\": 984, \"tpr\": 0.34196891191709844, \"fpr\": 0.03812316715542522}, {\"threshold\": 0.64, \"tp\": 123, \"fp\": 37, \"fn\": 263, \"tn\": 986, \"tpr\": 0.31865284974093266, \"fpr\": 0.03616813294232649}, {\"threshold\": 0.65, \"tp\": 119, \"fp\": 34, \"fn\": 267, \"tn\": 989, \"tpr\": 0.3082901554404145, \"fpr\": 0.033235581622678395}, {\"threshold\": 0.66, \"tp\": 114, \"fp\": 30, \"fn\": 272, \"tn\": 993, \"tpr\": 0.29533678756476683, \"fpr\": 0.02932551319648094}, {\"threshold\": 0.67, \"tp\": 103, \"fp\": 29, \"fn\": 283, \"tn\": 994, \"tpr\": 0.266839378238342, \"fpr\": 0.028347996089931573}, {\"threshold\": 0.68, \"tp\": 93, \"fp\": 26, \"fn\": 293, \"tn\": 997, \"tpr\": 0.24093264248704663, \"fpr\": 0.02541544477028348}, {\"threshold\": 0.6900000000000001, \"tp\": 87, \"fp\": 25, \"fn\": 299, \"tn\": 998, \"tpr\": 0.22538860103626943, \"fpr\": 0.024437927663734114}, {\"threshold\": 0.7000000000000001, \"tp\": 75, \"fp\": 19, \"fn\": 311, \"tn\": 1004, \"tpr\": 0.19430051813471502, \"fpr\": 0.01857282502443793}, {\"threshold\": 0.71, \"tp\": 63, \"fp\": 13, \"fn\": 323, \"tn\": 1010, \"tpr\": 0.16321243523316062, \"fpr\": 0.01270772238514174}, {\"threshold\": 0.72, \"tp\": 57, \"fp\": 11, \"fn\": 329, \"tn\": 1012, \"tpr\": 0.14766839378238342, \"fpr\": 0.010752688172043012}, {\"threshold\": 0.73, \"tp\": 47, \"fp\": 8, \"fn\": 339, \"tn\": 1015, \"tpr\": 0.12176165803108809, \"fpr\": 0.007820136852394917}, {\"threshold\": 0.74, \"tp\": 40, \"fp\": 8, \"fn\": 346, \"tn\": 1015, \"tpr\": 0.10362694300518134, \"fpr\": 0.007820136852394917}, {\"threshold\": 0.75, \"tp\": 33, \"fp\": 7, \"fn\": 353, \"tn\": 1016, \"tpr\": 0.08549222797927461, \"fpr\": 0.006842619745845552}, {\"threshold\": 0.76, \"tp\": 30, \"fp\": 6, \"fn\": 356, \"tn\": 1017, \"tpr\": 0.07772020725388601, \"fpr\": 0.005865102639296188}, {\"threshold\": 0.77, \"tp\": 24, \"fp\": 5, \"fn\": 362, \"tn\": 1018, \"tpr\": 0.06217616580310881, \"fpr\": 0.004887585532746823}, {\"threshold\": 0.78, \"tp\": 18, \"fp\": 3, \"fn\": 368, \"tn\": 1020, \"tpr\": 0.046632124352331605, \"fpr\": 0.002932551319648094}, {\"threshold\": 0.79, \"tp\": 15, \"fp\": 2, \"fn\": 371, \"tn\": 1021, \"tpr\": 0.038860103626943004, \"fpr\": 0.0019550342130987292}, {\"threshold\": 0.8, \"tp\": 12, \"fp\": 1, \"fn\": 374, \"tn\": 1022, \"tpr\": 0.031088082901554404, \"fpr\": 0.0009775171065493646}, {\"threshold\": 0.81, \"tp\": 6, \"fp\": 0, \"fn\": 380, \"tn\": 1023, \"tpr\": 0.015544041450777202, \"fpr\": 0.0}, {\"threshold\": 0.8200000000000001, \"tp\": 5, \"fp\": 0, \"fn\": 381, \"tn\": 1023, \"tpr\": 0.012953367875647668, \"fpr\": 0.0}, {\"threshold\": 0.8300000000000001, \"tp\": 3, \"fp\": 0, \"fn\": 383, \"tn\": 1023, \"tpr\": 0.007772020725388601, \"fpr\": 0.0}, {\"threshold\": 0.84, \"tp\": 0, \"fp\": 0, \"fn\": 386, \"tn\": 1023, \"tpr\": 0.0, \"fpr\": 0.0}, {\"threshold\": 0.85, \"tp\": 0, \"fp\": 0, \"fn\": 386, \"tn\": 1023, \"tpr\": 0.0, \"fpr\": 0.0}, {\"threshold\": 0.86, \"tp\": 0, \"fp\": 0, \"fn\": 386, \"tn\": 1023, \"tpr\": 0.0, \"fpr\": 0.0}, {\"threshold\": 0.87, \"tp\": 0, \"fp\": 0, \"fn\": 386, \"tn\": 1023, \"tpr\": 0.0, \"fpr\": 0.0}, {\"threshold\": 0.88, \"tp\": 0, \"fp\": 0, \"fn\": 386, \"tn\": 1023, \"tpr\": 0.0, \"fpr\": 0.0}, {\"threshold\": 0.89, \"tp\": 0, \"fp\": 0, \"fn\": 386, \"tn\": 1023, \"tpr\": 0.0, \"fpr\": 0.0}, {\"threshold\": 0.9, \"tp\": 0, \"fp\": 0, \"fn\": 386, \"tn\": 1023, \"tpr\": 0.0, \"fpr\": 0.0}, {\"threshold\": 0.91, \"tp\": 0, \"fp\": 0, \"fn\": 386, \"tn\": 1023, \"tpr\": 0.0, \"fpr\": 0.0}, {\"threshold\": 0.92, \"tp\": 0, \"fp\": 0, \"fn\": 386, \"tn\": 1023, \"tpr\": 0.0, \"fpr\": 0.0}, {\"threshold\": 0.93, \"tp\": 0, \"fp\": 0, \"fn\": 386, \"tn\": 1023, \"tpr\": 0.0, \"fpr\": 0.0}, {\"threshold\": 0.9400000000000001, \"tp\": 0, \"fp\": 0, \"fn\": 386, \"tn\": 1023, \"tpr\": 0.0, \"fpr\": 0.0}, {\"threshold\": 0.9500000000000001, \"tp\": 0, \"fp\": 0, \"fn\": 386, \"tn\": 1023, \"tpr\": 0.0, \"fpr\": 0.0}, {\"threshold\": 0.96, \"tp\": 0, \"fp\": 0, \"fn\": 386, \"tn\": 1023, \"tpr\": 0.0, \"fpr\": 0.0}, {\"threshold\": 0.97, \"tp\": 0, \"fp\": 0, \"fn\": 386, \"tn\": 1023, \"tpr\": 0.0, \"fpr\": 0.0}, {\"threshold\": 0.98, \"tp\": 0, \"fp\": 0, \"fn\": 386, \"tn\": 1023, \"tpr\": 0.0, \"fpr\": 0.0}, {\"threshold\": 0.99, \"tp\": 0, \"fp\": 0, \"fn\": 386, \"tn\": 1023, \"tpr\": 0.0, \"fpr\": 0.0}, {\"threshold\": 1.0, \"tp\": 0, \"fp\": 0, \"fn\": 386, \"tn\": 1023, \"tpr\": 0.0, \"fpr\": 0.0}]}}, {\"mode\": \"vega-lite\"});\n",
       "</script>"
      ],
      "text/plain": [
       "alt.Chart(...)"
      ]
     },
     "execution_count": 99,
     "metadata": {},
     "output_type": "execute_result"
    }
   ],
   "source": [
    "alt.Chart(df_scores).transform_fold([\"tpr\", \"fpr\"]).mark_line().encode(\n",
    "    alt.X(\"threshold:Q\"), alt.Y(\"value:Q\"), alt.Color(\"key:N\")\n",
    ")"
   ]
  },
  {
   "cell_type": "markdown",
   "metadata": {},
   "source": [
    "### Random model\n"
   ]
  },
  {
   "cell_type": "code",
   "execution_count": 100,
   "metadata": {},
   "outputs": [],
   "source": [
    "np.random.seed(1)\n",
    "y_rand = np.random.uniform(0, 1, size=len(y_val))"
   ]
  },
  {
   "cell_type": "code",
   "execution_count": 101,
   "metadata": {},
   "outputs": [
    {
     "data": {
      "text/plain": [
       "np.float64(0.5017743080198722)"
      ]
     },
     "execution_count": 101,
     "metadata": {},
     "output_type": "execute_result"
    }
   ],
   "source": [
    "((y_rand >= 0.5) == y_val).mean()"
   ]
  },
  {
   "cell_type": "code",
   "execution_count": 102,
   "metadata": {},
   "outputs": [],
   "source": [
    "def tpr_fpr_dataframe(y_val, y_pred):\n",
    "    thresholds = np.linspace(0, 1, 101)\n",
    "\n",
    "    scores = []\n",
    "\n",
    "    for t in thresholds:\n",
    "        actual_positive = y_val == 1\n",
    "        actual_negative = y_val == 0\n",
    "\n",
    "        predict_positive = y_pred >= t\n",
    "        predict_negative = y_pred < t\n",
    "\n",
    "        tp = (predict_positive & actual_positive).sum()\n",
    "        tn = (predict_negative & actual_negative).sum()\n",
    "\n",
    "        fp = (predict_positive & actual_negative).sum()\n",
    "        fn = (predict_negative & actual_positive).sum()\n",
    "\n",
    "        scores.append((t, tp, fp, fn, tn))\n",
    "\n",
    "    cols = [\"threshold\", \"tp\", \"fp\", \"fn\", \"tn\"]\n",
    "    df_scores = pl.DataFrame(scores, schema=cols, orient=\"row\")\n",
    "\n",
    "    df_scores = df_scores.with_columns(\n",
    "        (pl.col(\"tp\") / (pl.col(\"tp\") + pl.col(\"fn\"))).alias(\"tpr\"),\n",
    "        (pl.col(\"fp\") / (pl.col(\"fp\") + pl.col(\"tn\"))).alias(\"fpr\"),\n",
    "    )\n",
    "\n",
    "    return df_scores"
   ]
  },
  {
   "cell_type": "code",
   "execution_count": null,
   "metadata": {},
   "outputs": [
    {
     "data": {
      "text/html": [
       "<div><style>\n",
       ".dataframe > thead > tr,\n",
       ".dataframe > tbody > tr {\n",
       "  text-align: right;\n",
       "  white-space: pre-wrap;\n",
       "}\n",
       "</style>\n",
       "<small>shape: (11, 7)</small><table border=\"1\" class=\"dataframe\"><thead><tr><th>threshold</th><th>tp</th><th>fp</th><th>fn</th><th>tn</th><th>tpr</th><th>fpr</th></tr><tr><td>f64</td><td>i64</td><td>i64</td><td>i64</td><td>i64</td><td>f64</td><td>f64</td></tr></thead><tbody><tr><td>0.0</td><td>386</td><td>1023</td><td>0</td><td>0</td><td>1.0</td><td>1.0</td></tr><tr><td>0.1</td><td>347</td><td>923</td><td>39</td><td>100</td><td>0.898964</td><td>0.902248</td></tr><tr><td>0.2</td><td>307</td><td>822</td><td>79</td><td>201</td><td>0.795337</td><td>0.803519</td></tr><tr><td>0.3</td><td>276</td><td>724</td><td>110</td><td>299</td><td>0.715026</td><td>0.707722</td></tr><tr><td>0.4</td><td>237</td><td>624</td><td>149</td><td>399</td><td>0.61399</td><td>0.609971</td></tr><tr><td>&hellip;</td><td>&hellip;</td><td>&hellip;</td><td>&hellip;</td><td>&hellip;</td><td>&hellip;</td><td>&hellip;</td></tr><tr><td>0.6</td><td>161</td><td>409</td><td>225</td><td>614</td><td>0.417098</td><td>0.399804</td></tr><tr><td>0.7</td><td>121</td><td>302</td><td>265</td><td>721</td><td>0.313472</td><td>0.29521</td></tr><tr><td>0.8</td><td>78</td><td>206</td><td>308</td><td>817</td><td>0.202073</td><td>0.201369</td></tr><tr><td>0.9</td><td>40</td><td>101</td><td>346</td><td>922</td><td>0.103627</td><td>0.098729</td></tr><tr><td>1.0</td><td>0</td><td>0</td><td>386</td><td>1023</td><td>0.0</td><td>0.0</td></tr></tbody></table></div>"
      ],
      "text/plain": [
       "shape: (11, 7)\n",
       "┌───────────┬─────┬──────┬─────┬──────┬──────────┬──────────┐\n",
       "│ threshold ┆ tp  ┆ fp   ┆ fn  ┆ tn   ┆ tpr      ┆ fpr      │\n",
       "│ ---       ┆ --- ┆ ---  ┆ --- ┆ ---  ┆ ---      ┆ ---      │\n",
       "│ f64       ┆ i64 ┆ i64  ┆ i64 ┆ i64  ┆ f64      ┆ f64      │\n",
       "╞═══════════╪═════╪══════╪═════╪══════╪══════════╪══════════╡\n",
       "│ 0.0       ┆ 386 ┆ 1023 ┆ 0   ┆ 0    ┆ 1.0      ┆ 1.0      │\n",
       "│ 0.1       ┆ 347 ┆ 923  ┆ 39  ┆ 100  ┆ 0.898964 ┆ 0.902248 │\n",
       "│ 0.2       ┆ 307 ┆ 822  ┆ 79  ┆ 201  ┆ 0.795337 ┆ 0.803519 │\n",
       "│ 0.3       ┆ 276 ┆ 724  ┆ 110 ┆ 299  ┆ 0.715026 ┆ 0.707722 │\n",
       "│ 0.4       ┆ 237 ┆ 624  ┆ 149 ┆ 399  ┆ 0.61399  ┆ 0.609971 │\n",
       "│ …         ┆ …   ┆ …    ┆ …   ┆ …    ┆ …        ┆ …        │\n",
       "│ 0.6       ┆ 161 ┆ 409  ┆ 225 ┆ 614  ┆ 0.417098 ┆ 0.399804 │\n",
       "│ 0.7       ┆ 121 ┆ 302  ┆ 265 ┆ 721  ┆ 0.313472 ┆ 0.29521  │\n",
       "│ 0.8       ┆ 78  ┆ 206  ┆ 308 ┆ 817  ┆ 0.202073 ┆ 0.201369 │\n",
       "│ 0.9       ┆ 40  ┆ 101  ┆ 346 ┆ 922  ┆ 0.103627 ┆ 0.098729 │\n",
       "│ 1.0       ┆ 0   ┆ 0    ┆ 386 ┆ 1023 ┆ 0.0      ┆ 0.0      │\n",
       "└───────────┴─────┴──────┴─────┴──────┴──────────┴──────────┘"
      ]
     },
     "execution_count": 103,
     "metadata": {},
     "output_type": "execute_result"
    }
   ],
   "source": [
    "df_rand = tpr_fpr_dataframe(y_val, y_rand)\n",
    "df_rand[::10]"
   ]
  },
  {
   "cell_type": "code",
   "execution_count": null,
   "metadata": {},
   "outputs": [
    {
     "data": {
      "text/html": [
       "\n",
       "<style>\n",
       "  #altair-viz-25bf26a7e7084b14b309f51e6882fe84.vega-embed {\n",
       "    width: 100%;\n",
       "    display: flex;\n",
       "  }\n",
       "\n",
       "  #altair-viz-25bf26a7e7084b14b309f51e6882fe84.vega-embed details,\n",
       "  #altair-viz-25bf26a7e7084b14b309f51e6882fe84.vega-embed details summary {\n",
       "    position: relative;\n",
       "  }\n",
       "</style>\n",
       "<div id=\"altair-viz-25bf26a7e7084b14b309f51e6882fe84\"></div>\n",
       "<script type=\"text/javascript\">\n",
       "  var VEGA_DEBUG = (typeof VEGA_DEBUG == \"undefined\") ? {} : VEGA_DEBUG;\n",
       "  (function(spec, embedOpt){\n",
       "    let outputDiv = document.currentScript.previousElementSibling;\n",
       "    if (outputDiv.id !== \"altair-viz-25bf26a7e7084b14b309f51e6882fe84\") {\n",
       "      outputDiv = document.getElementById(\"altair-viz-25bf26a7e7084b14b309f51e6882fe84\");\n",
       "    }\n",
       "    const paths = {\n",
       "      \"vega\": \"https://cdn.jsdelivr.net/npm/vega@5?noext\",\n",
       "      \"vega-lib\": \"https://cdn.jsdelivr.net/npm/vega-lib?noext\",\n",
       "      \"vega-lite\": \"https://cdn.jsdelivr.net/npm/vega-lite@5.20.1?noext\",\n",
       "      \"vega-embed\": \"https://cdn.jsdelivr.net/npm/vega-embed@6?noext\",\n",
       "    };\n",
       "\n",
       "    function maybeLoadScript(lib, version) {\n",
       "      var key = `${lib.replace(\"-\", \"\")}_version`;\n",
       "      return (VEGA_DEBUG[key] == version) ?\n",
       "        Promise.resolve(paths[lib]) :\n",
       "        new Promise(function(resolve, reject) {\n",
       "          var s = document.createElement('script');\n",
       "          document.getElementsByTagName(\"head\")[0].appendChild(s);\n",
       "          s.async = true;\n",
       "          s.onload = () => {\n",
       "            VEGA_DEBUG[key] = version;\n",
       "            return resolve(paths[lib]);\n",
       "          };\n",
       "          s.onerror = () => reject(`Error loading script: ${paths[lib]}`);\n",
       "          s.src = paths[lib];\n",
       "        });\n",
       "    }\n",
       "\n",
       "    function showError(err) {\n",
       "      outputDiv.innerHTML = `<div class=\"error\" style=\"color:red;\">${err}</div>`;\n",
       "      throw err;\n",
       "    }\n",
       "\n",
       "    function displayChart(vegaEmbed) {\n",
       "      vegaEmbed(outputDiv, spec, embedOpt)\n",
       "        .catch(err => showError(`Javascript Error: ${err.message}<br>This usually means there's a typo in your chart specification. See the javascript console for the full traceback.`));\n",
       "    }\n",
       "\n",
       "    if(typeof define === \"function\" && define.amd) {\n",
       "      requirejs.config({paths});\n",
       "      require([\"vega-embed\"], displayChart, err => showError(`Error loading script: ${err.message}`));\n",
       "    } else {\n",
       "      maybeLoadScript(\"vega\", \"5\")\n",
       "        .then(() => maybeLoadScript(\"vega-lite\", \"5.20.1\"))\n",
       "        .then(() => maybeLoadScript(\"vega-embed\", \"6\"))\n",
       "        .catch(showError)\n",
       "        .then(() => displayChart(vegaEmbed));\n",
       "    }\n",
       "  })({\"config\": {\"view\": {\"continuousWidth\": 300, \"continuousHeight\": 300}}, \"data\": {\"name\": \"data-308e0400440692798be4f2828cbf5e86\"}, \"mark\": {\"type\": \"line\"}, \"encoding\": {\"color\": {\"field\": \"key\", \"type\": \"nominal\"}, \"x\": {\"field\": \"threshold\", \"type\": \"quantitative\"}, \"y\": {\"field\": \"value\", \"type\": \"quantitative\"}}, \"transform\": [{\"fold\": [\"tpr\", \"fpr\"]}], \"$schema\": \"https://vega.github.io/schema/vega-lite/v5.20.1.json\", \"datasets\": {\"data-308e0400440692798be4f2828cbf5e86\": [{\"threshold\": 0.0, \"tp\": 386, \"fp\": 1023, \"fn\": 0, \"tn\": 0, \"tpr\": 1.0, \"fpr\": 1.0}, {\"threshold\": 0.01, \"tp\": 382, \"fp\": 1013, \"fn\": 4, \"tn\": 10, \"tpr\": 0.9896373056994818, \"fpr\": 0.9902248289345064}, {\"threshold\": 0.02, \"tp\": 379, \"fp\": 993, \"fn\": 7, \"tn\": 30, \"tpr\": 0.9818652849740933, \"fpr\": 0.9706744868035191}, {\"threshold\": 0.03, \"tp\": 375, \"fp\": 979, \"fn\": 11, \"tn\": 44, \"tpr\": 0.9715025906735751, \"fpr\": 0.956989247311828}, {\"threshold\": 0.04, \"tp\": 372, \"fp\": 969, \"fn\": 14, \"tn\": 54, \"tpr\": 0.9637305699481865, \"fpr\": 0.9472140762463344}, {\"threshold\": 0.05, \"tp\": 368, \"fp\": 966, \"fn\": 18, \"tn\": 57, \"tpr\": 0.9533678756476683, \"fpr\": 0.9442815249266863}, {\"threshold\": 0.06, \"tp\": 361, \"fp\": 959, \"fn\": 25, \"tn\": 64, \"tpr\": 0.9352331606217616, \"fpr\": 0.9374389051808406}, {\"threshold\": 0.07, \"tp\": 354, \"fp\": 952, \"fn\": 32, \"tn\": 71, \"tpr\": 0.917098445595855, \"fpr\": 0.9305962854349951}, {\"threshold\": 0.08, \"tp\": 353, \"fp\": 935, \"fn\": 33, \"tn\": 88, \"tpr\": 0.9145077720207254, \"fpr\": 0.9139784946236559}, {\"threshold\": 0.09, \"tp\": 350, \"fp\": 927, \"fn\": 36, \"tn\": 96, \"tpr\": 0.9067357512953368, \"fpr\": 0.906158357771261}, {\"threshold\": 0.1, \"tp\": 347, \"fp\": 923, \"fn\": 39, \"tn\": 100, \"tpr\": 0.8989637305699482, \"fpr\": 0.9022482893450635}, {\"threshold\": 0.11, \"tp\": 342, \"fp\": 916, \"fn\": 44, \"tn\": 107, \"tpr\": 0.8860103626943006, \"fpr\": 0.895405669599218}, {\"threshold\": 0.12, \"tp\": 339, \"fp\": 910, \"fn\": 47, \"tn\": 113, \"tpr\": 0.8782383419689119, \"fpr\": 0.8895405669599218}, {\"threshold\": 0.13, \"tp\": 334, \"fp\": 900, \"fn\": 52, \"tn\": 123, \"tpr\": 0.8652849740932642, \"fpr\": 0.8797653958944281}, {\"threshold\": 0.14, \"tp\": 327, \"fp\": 888, \"fn\": 59, \"tn\": 135, \"tpr\": 0.8471502590673575, \"fpr\": 0.8680351906158358}, {\"threshold\": 0.15, \"tp\": 320, \"fp\": 875, \"fn\": 66, \"tn\": 148, \"tpr\": 0.8290155440414507, \"fpr\": 0.855327468230694}, {\"threshold\": 0.16, \"tp\": 320, \"fp\": 866, \"fn\": 66, \"tn\": 157, \"tpr\": 0.8290155440414507, \"fpr\": 0.8465298142717498}, {\"threshold\": 0.17, \"tp\": 318, \"fp\": 859, \"fn\": 68, \"tn\": 164, \"tpr\": 0.8238341968911918, \"fpr\": 0.8396871945259042}, {\"threshold\": 0.18, \"tp\": 316, \"fp\": 847, \"fn\": 70, \"tn\": 176, \"tpr\": 0.8186528497409327, \"fpr\": 0.8279569892473119}, {\"threshold\": 0.19, \"tp\": 312, \"fp\": 835, \"fn\": 74, \"tn\": 188, \"tpr\": 0.8082901554404145, \"fpr\": 0.8162267839687195}, {\"threshold\": 0.2, \"tp\": 307, \"fp\": 822, \"fn\": 79, \"tn\": 201, \"tpr\": 0.7953367875647669, \"fpr\": 0.8035190615835777}, {\"threshold\": 0.21, \"tp\": 303, \"fp\": 815, \"fn\": 83, \"tn\": 208, \"tpr\": 0.7849740932642487, \"fpr\": 0.7966764418377321}, {\"threshold\": 0.22, \"tp\": 300, \"fp\": 807, \"fn\": 86, \"tn\": 216, \"tpr\": 0.7772020725388601, \"fpr\": 0.7888563049853372}, {\"threshold\": 0.23, \"tp\": 296, \"fp\": 794, \"fn\": 90, \"tn\": 229, \"tpr\": 0.7668393782383419, \"fpr\": 0.7761485826001955}, {\"threshold\": 0.24, \"tp\": 295, \"fp\": 779, \"fn\": 91, \"tn\": 244, \"tpr\": 0.7642487046632125, \"fpr\": 0.761485826001955}, {\"threshold\": 0.25, \"tp\": 291, \"fp\": 771, \"fn\": 95, \"tn\": 252, \"tpr\": 0.7538860103626943, \"fpr\": 0.7536656891495601}, {\"threshold\": 0.26, \"tp\": 287, \"fp\": 761, \"fn\": 99, \"tn\": 262, \"tpr\": 0.7435233160621761, \"fpr\": 0.7438905180840665}, {\"threshold\": 0.27, \"tp\": 285, \"fp\": 747, \"fn\": 101, \"tn\": 276, \"tpr\": 0.7383419689119171, \"fpr\": 0.7302052785923754}, {\"threshold\": 0.28, \"tp\": 283, \"fp\": 740, \"fn\": 103, \"tn\": 283, \"tpr\": 0.7331606217616581, \"fpr\": 0.7233626588465298}, {\"threshold\": 0.29, \"tp\": 280, \"fp\": 733, \"fn\": 106, \"tn\": 290, \"tpr\": 0.7253886010362695, \"fpr\": 0.7165200391006843}, {\"threshold\": 0.3, \"tp\": 276, \"fp\": 724, \"fn\": 110, \"tn\": 299, \"tpr\": 0.7150259067357513, \"fpr\": 0.70772238514174}, {\"threshold\": 0.31, \"tp\": 270, \"fp\": 718, \"fn\": 116, \"tn\": 305, \"tpr\": 0.6994818652849741, \"fpr\": 0.7018572825024438}, {\"threshold\": 0.32, \"tp\": 267, \"fp\": 707, \"fn\": 119, \"tn\": 316, \"tpr\": 0.6917098445595855, \"fpr\": 0.6911045943304008}, {\"threshold\": 0.33, \"tp\": 264, \"fp\": 690, \"fn\": 122, \"tn\": 333, \"tpr\": 0.6839378238341969, \"fpr\": 0.6744868035190615}, {\"threshold\": 0.34, \"tp\": 262, \"fp\": 682, \"fn\": 124, \"tn\": 341, \"tpr\": 0.6787564766839378, \"fpr\": 0.6666666666666666}, {\"threshold\": 0.35000000000000003, \"tp\": 253, \"fp\": 670, \"fn\": 133, \"tn\": 353, \"tpr\": 0.655440414507772, \"fpr\": 0.6549364613880743}, {\"threshold\": 0.36, \"tp\": 250, \"fp\": 660, \"fn\": 136, \"tn\": 363, \"tpr\": 0.6476683937823834, \"fpr\": 0.6451612903225806}, {\"threshold\": 0.37, \"tp\": 250, \"fp\": 654, \"fn\": 136, \"tn\": 369, \"tpr\": 0.6476683937823834, \"fpr\": 0.6392961876832844}, {\"threshold\": 0.38, \"tp\": 245, \"fp\": 643, \"fn\": 141, \"tn\": 380, \"tpr\": 0.6347150259067358, \"fpr\": 0.6285434995112414}, {\"threshold\": 0.39, \"tp\": 241, \"fp\": 635, \"fn\": 145, \"tn\": 388, \"tpr\": 0.6243523316062176, \"fpr\": 0.6207233626588465}, {\"threshold\": 0.4, \"tp\": 237, \"fp\": 624, \"fn\": 149, \"tn\": 399, \"tpr\": 0.6139896373056994, \"fpr\": 0.6099706744868035}, {\"threshold\": 0.41000000000000003, \"tp\": 234, \"fp\": 614, \"fn\": 152, \"tn\": 409, \"tpr\": 0.6062176165803109, \"fpr\": 0.6001955034213099}, {\"threshold\": 0.42, \"tp\": 230, \"fp\": 605, \"fn\": 156, \"tn\": 418, \"tpr\": 0.5958549222797928, \"fpr\": 0.5913978494623656}, {\"threshold\": 0.43, \"tp\": 224, \"fp\": 590, \"fn\": 162, \"tn\": 433, \"tpr\": 0.5803108808290155, \"fpr\": 0.5767350928641252}, {\"threshold\": 0.44, \"tp\": 219, \"fp\": 583, \"fn\": 167, \"tn\": 440, \"tpr\": 0.5673575129533679, \"fpr\": 0.5698924731182796}, {\"threshold\": 0.45, \"tp\": 217, \"fp\": 571, \"fn\": 169, \"tn\": 452, \"tpr\": 0.5621761658031088, \"fpr\": 0.5581622678396871}, {\"threshold\": 0.46, \"tp\": 216, \"fp\": 555, \"fn\": 170, \"tn\": 468, \"tpr\": 0.5595854922279793, \"fpr\": 0.5425219941348973}, {\"threshold\": 0.47000000000000003, \"tp\": 213, \"fp\": 545, \"fn\": 173, \"tn\": 478, \"tpr\": 0.5518134715025906, \"fpr\": 0.5327468230694037}, {\"threshold\": 0.48, \"tp\": 210, \"fp\": 537, \"fn\": 176, \"tn\": 486, \"tpr\": 0.5440414507772021, \"fpr\": 0.5249266862170088}, {\"threshold\": 0.49, \"tp\": 208, \"fp\": 527, \"fn\": 178, \"tn\": 496, \"tpr\": 0.538860103626943, \"fpr\": 0.5151515151515151}, {\"threshold\": 0.5, \"tp\": 202, \"fp\": 518, \"fn\": 184, \"tn\": 505, \"tpr\": 0.5233160621761658, \"fpr\": 0.5063538611925709}, {\"threshold\": 0.51, \"tp\": 197, \"fp\": 511, \"fn\": 189, \"tn\": 512, \"tpr\": 0.5103626943005182, \"fpr\": 0.4995112414467253}, {\"threshold\": 0.52, \"tp\": 190, \"fp\": 501, \"fn\": 196, \"tn\": 522, \"tpr\": 0.49222797927461137, \"fpr\": 0.4897360703812317}, {\"threshold\": 0.53, \"tp\": 184, \"fp\": 492, \"fn\": 202, \"tn\": 531, \"tpr\": 0.47668393782383417, \"fpr\": 0.4809384164222874}, {\"threshold\": 0.54, \"tp\": 178, \"fp\": 482, \"fn\": 208, \"tn\": 541, \"tpr\": 0.46113989637305697, \"fpr\": 0.47116324535679377}, {\"threshold\": 0.55, \"tp\": 176, \"fp\": 471, \"fn\": 210, \"tn\": 552, \"tpr\": 0.45595854922279794, \"fpr\": 0.4604105571847507}, {\"threshold\": 0.56, \"tp\": 176, \"fp\": 456, \"fn\": 210, \"tn\": 567, \"tpr\": 0.45595854922279794, \"fpr\": 0.44574780058651026}, {\"threshold\": 0.5700000000000001, \"tp\": 172, \"fp\": 449, \"fn\": 214, \"tn\": 574, \"tpr\": 0.44559585492227977, \"fpr\": 0.4389051808406647}, {\"threshold\": 0.58, \"tp\": 168, \"fp\": 437, \"fn\": 218, \"tn\": 586, \"tpr\": 0.43523316062176165, \"fpr\": 0.42717497556207235}, {\"threshold\": 0.59, \"tp\": 164, \"fp\": 424, \"fn\": 222, \"tn\": 599, \"tpr\": 0.42487046632124353, \"fpr\": 0.4144672531769306}, {\"threshold\": 0.6, \"tp\": 161, \"fp\": 409, \"fn\": 225, \"tn\": 614, \"tpr\": 0.4170984455958549, \"fpr\": 0.3998044965786901}, {\"threshold\": 0.61, \"tp\": 160, \"fp\": 395, \"fn\": 226, \"tn\": 628, \"tpr\": 0.41450777202072536, \"fpr\": 0.386119257086999}, {\"threshold\": 0.62, \"tp\": 156, \"fp\": 380, \"fn\": 230, \"tn\": 643, \"tpr\": 0.40414507772020725, \"fpr\": 0.37145650048875856}, {\"threshold\": 0.63, \"tp\": 151, \"fp\": 369, \"fn\": 235, \"tn\": 654, \"tpr\": 0.3911917098445596, \"fpr\": 0.36070381231671556}, {\"threshold\": 0.64, \"tp\": 147, \"fp\": 359, \"fn\": 239, \"tn\": 664, \"tpr\": 0.38082901554404147, \"fpr\": 0.3509286412512219}, {\"threshold\": 0.65, \"tp\": 144, \"fp\": 352, \"fn\": 242, \"tn\": 671, \"tpr\": 0.37305699481865284, \"fpr\": 0.34408602150537637}, {\"threshold\": 0.66, \"tp\": 143, \"fp\": 346, \"fn\": 243, \"tn\": 677, \"tpr\": 0.3704663212435233, \"fpr\": 0.33822091886608013}, {\"threshold\": 0.67, \"tp\": 140, \"fp\": 339, \"fn\": 246, \"tn\": 684, \"tpr\": 0.3626943005181347, \"fpr\": 0.3313782991202346}, {\"threshold\": 0.68, \"tp\": 132, \"fp\": 328, \"fn\": 254, \"tn\": 695, \"tpr\": 0.34196891191709844, \"fpr\": 0.3206256109481916}, {\"threshold\": 0.6900000000000001, \"tp\": 129, \"fp\": 315, \"fn\": 257, \"tn\": 708, \"tpr\": 0.33419689119170987, \"fpr\": 0.30791788856304986}, {\"threshold\": 0.7000000000000001, \"tp\": 121, \"fp\": 302, \"fn\": 265, \"tn\": 721, \"tpr\": 0.3134715025906736, \"fpr\": 0.29521016617790813}, {\"threshold\": 0.71, \"tp\": 117, \"fp\": 293, \"fn\": 269, \"tn\": 730, \"tpr\": 0.30310880829015546, \"fpr\": 0.28641251221896386}, {\"threshold\": 0.72, \"tp\": 113, \"fp\": 287, \"fn\": 273, \"tn\": 736, \"tpr\": 0.2927461139896373, \"fpr\": 0.2805474095796676}, {\"threshold\": 0.73, \"tp\": 110, \"fp\": 279, \"fn\": 276, \"tn\": 744, \"tpr\": 0.2849740932642487, \"fpr\": 0.2727272727272727}, {\"threshold\": 0.74, \"tp\": 107, \"fp\": 273, \"fn\": 279, \"tn\": 750, \"tpr\": 0.2772020725388601, \"fpr\": 0.2668621700879765}, {\"threshold\": 0.75, \"tp\": 105, \"fp\": 260, \"fn\": 281, \"tn\": 763, \"tpr\": 0.27202072538860106, \"fpr\": 0.2541544477028348}, {\"threshold\": 0.76, \"tp\": 96, \"fp\": 246, \"fn\": 290, \"tn\": 777, \"tpr\": 0.24870466321243523, \"fpr\": 0.2404692082111437}, {\"threshold\": 0.77, \"tp\": 94, \"fp\": 235, \"fn\": 292, \"tn\": 788, \"tpr\": 0.24352331606217617, \"fpr\": 0.22971652003910067}, {\"threshold\": 0.78, \"tp\": 92, \"fp\": 220, \"fn\": 294, \"tn\": 803, \"tpr\": 0.23834196891191708, \"fpr\": 0.21505376344086022}, {\"threshold\": 0.79, \"tp\": 85, \"fp\": 213, \"fn\": 301, \"tn\": 810, \"tpr\": 0.22020725388601037, \"fpr\": 0.20821114369501467}, {\"threshold\": 0.8, \"tp\": 78, \"fp\": 206, \"fn\": 308, \"tn\": 817, \"tpr\": 0.20207253886010362, \"fpr\": 0.2013685239491691}, {\"threshold\": 0.81, \"tp\": 73, \"fp\": 193, \"fn\": 313, \"tn\": 830, \"tpr\": 0.18911917098445596, \"fpr\": 0.18866080156402737}, {\"threshold\": 0.8200000000000001, \"tp\": 71, \"fp\": 186, \"fn\": 315, \"tn\": 837, \"tpr\": 0.18393782383419688, \"fpr\": 0.18181818181818182}, {\"threshold\": 0.8300000000000001, \"tp\": 68, \"fp\": 174, \"fn\": 318, \"tn\": 849, \"tpr\": 0.17616580310880828, \"fpr\": 0.17008797653958943}, {\"threshold\": 0.84, \"tp\": 67, \"fp\": 167, \"fn\": 319, \"tn\": 856, \"tpr\": 0.17357512953367876, \"fpr\": 0.16324535679374388}, {\"threshold\": 0.85, \"tp\": 64, \"fp\": 150, \"fn\": 322, \"tn\": 873, \"tpr\": 0.16580310880829016, \"fpr\": 0.1466275659824047}, {\"threshold\": 0.86, \"tp\": 60, \"fp\": 140, \"fn\": 326, \"tn\": 883, \"tpr\": 0.15544041450777202, \"fpr\": 0.13685239491691104}, {\"threshold\": 0.87, \"tp\": 57, \"fp\": 132, \"fn\": 329, \"tn\": 891, \"tpr\": 0.14766839378238342, \"fpr\": 0.12903225806451613}, {\"threshold\": 0.88, \"tp\": 51, \"fp\": 118, \"fn\": 335, \"tn\": 905, \"tpr\": 0.13212435233160622, \"fpr\": 0.11534701857282502}, {\"threshold\": 0.89, \"tp\": 46, \"fp\": 109, \"fn\": 340, \"tn\": 914, \"tpr\": 0.11917098445595854, \"fpr\": 0.10654936461388075}, {\"threshold\": 0.9, \"tp\": 40, \"fp\": 101, \"fn\": 346, \"tn\": 922, \"tpr\": 0.10362694300518134, \"fpr\": 0.09872922776148582}, {\"threshold\": 0.91, \"tp\": 34, \"fp\": 89, \"fn\": 352, \"tn\": 934, \"tpr\": 0.08808290155440414, \"fpr\": 0.08699902248289346}, {\"threshold\": 0.92, \"tp\": 27, \"fp\": 80, \"fn\": 359, \"tn\": 943, \"tpr\": 0.06994818652849741, \"fpr\": 0.07820136852394917}, {\"threshold\": 0.93, \"tp\": 23, \"fp\": 69, \"fn\": 363, \"tn\": 954, \"tpr\": 0.05958549222797927, \"fpr\": 0.06744868035190615}, {\"threshold\": 0.9400000000000001, \"tp\": 22, \"fp\": 59, \"fn\": 364, \"tn\": 964, \"tpr\": 0.05699481865284974, \"fpr\": 0.05767350928641251}, {\"threshold\": 0.9500000000000001, \"tp\": 17, \"fp\": 49, \"fn\": 369, \"tn\": 974, \"tpr\": 0.04404145077720207, \"fpr\": 0.047898338220918865}, {\"threshold\": 0.96, \"tp\": 14, \"fp\": 41, \"fn\": 372, \"tn\": 982, \"tpr\": 0.03626943005181347, \"fpr\": 0.04007820136852395}, {\"threshold\": 0.97, \"tp\": 11, \"fp\": 36, \"fn\": 375, \"tn\": 987, \"tpr\": 0.02849740932642487, \"fpr\": 0.03519061583577713}, {\"threshold\": 0.98, \"tp\": 8, \"fp\": 19, \"fn\": 378, \"tn\": 1004, \"tpr\": 0.02072538860103627, \"fpr\": 0.01857282502443793}, {\"threshold\": 0.99, \"tp\": 6, \"fp\": 7, \"fn\": 380, \"tn\": 1016, \"tpr\": 0.015544041450777202, \"fpr\": 0.006842619745845552}, {\"threshold\": 1.0, \"tp\": 0, \"fp\": 0, \"fn\": 386, \"tn\": 1023, \"tpr\": 0.0, \"fpr\": 0.0}]}}, {\"mode\": \"vega-lite\"});\n",
       "</script>"
      ],
      "text/plain": [
       "alt.Chart(...)"
      ]
     },
     "execution_count": 104,
     "metadata": {},
     "output_type": "execute_result"
    }
   ],
   "source": [
    "alt.Chart(df_rand).transform_fold([\"tpr\", \"fpr\"]).mark_line().encode(\n",
    "    alt.X(\"threshold:Q\"), alt.Y(\"value:Q\"), alt.Color(\"key:N\")\n",
    ")\n"
   ]
  },
  {
   "cell_type": "markdown",
   "metadata": {},
   "source": [
    "### Ideal model\n"
   ]
  },
  {
   "cell_type": "code",
   "execution_count": 105,
   "metadata": {},
   "outputs": [
    {
     "data": {
      "text/plain": [
       "(np.int64(1023), np.int64(386))"
      ]
     },
     "execution_count": 105,
     "metadata": {},
     "output_type": "execute_result"
    }
   ],
   "source": [
    "num_neg = (y_val == 0).sum()\n",
    "num_pos = (y_val == 1).sum()\n",
    "num_neg, num_pos"
   ]
  },
  {
   "cell_type": "code",
   "execution_count": 106,
   "metadata": {},
   "outputs": [
    {
     "data": {
      "text/plain": [
       "array([0, 0, 0, ..., 1, 1, 1])"
      ]
     },
     "execution_count": 106,
     "metadata": {},
     "output_type": "execute_result"
    }
   ],
   "source": [
    "y_ideal = np.repeat([0, 1], [num_neg, num_pos])\n",
    "y_ideal"
   ]
  },
  {
   "cell_type": "code",
   "execution_count": 107,
   "metadata": {},
   "outputs": [],
   "source": [
    "y_ideal_pred = np.linspace(0, 1, len(y_val))"
   ]
  },
  {
   "cell_type": "code",
   "execution_count": 108,
   "metadata": {},
   "outputs": [
    {
     "data": {
      "text/plain": [
       "np.float64(0.7260468417317246)"
      ]
     },
     "execution_count": 108,
     "metadata": {},
     "output_type": "execute_result"
    }
   ],
   "source": [
    "1 - y_val.mean()"
   ]
  },
  {
   "cell_type": "code",
   "execution_count": 109,
   "metadata": {},
   "outputs": [
    {
     "data": {
      "text/plain": [
       "np.float64(1.0)"
      ]
     },
     "execution_count": 109,
     "metadata": {},
     "output_type": "execute_result"
    }
   ],
   "source": [
    "((y_ideal_pred >= 0.726) == y_ideal).mean()\n"
   ]
  },
  {
   "cell_type": "code",
   "execution_count": 110,
   "metadata": {},
   "outputs": [],
   "source": [
    "df_ideal = tpr_fpr_dataframe(y_ideal, y_ideal_pred)"
   ]
  },
  {
   "cell_type": "code",
   "execution_count": 111,
   "metadata": {},
   "outputs": [
    {
     "data": {
      "text/html": [
       "<div><style>\n",
       ".dataframe > thead > tr,\n",
       ".dataframe > tbody > tr {\n",
       "  text-align: right;\n",
       "  white-space: pre-wrap;\n",
       "}\n",
       "</style>\n",
       "<small>shape: (11, 7)</small><table border=\"1\" class=\"dataframe\"><thead><tr><th>threshold</th><th>tp</th><th>fp</th><th>fn</th><th>tn</th><th>tpr</th><th>fpr</th></tr><tr><td>f64</td><td>i64</td><td>i64</td><td>i64</td><td>i64</td><td>f64</td><td>f64</td></tr></thead><tbody><tr><td>0.0</td><td>386</td><td>1023</td><td>0</td><td>0</td><td>1.0</td><td>1.0</td></tr><tr><td>0.1</td><td>386</td><td>882</td><td>0</td><td>141</td><td>1.0</td><td>0.86217</td></tr><tr><td>0.2</td><td>386</td><td>741</td><td>0</td><td>282</td><td>1.0</td><td>0.72434</td></tr><tr><td>0.3</td><td>386</td><td>600</td><td>0</td><td>423</td><td>1.0</td><td>0.58651</td></tr><tr><td>0.4</td><td>386</td><td>459</td><td>0</td><td>564</td><td>1.0</td><td>0.44868</td></tr><tr><td>&hellip;</td><td>&hellip;</td><td>&hellip;</td><td>&hellip;</td><td>&hellip;</td><td>&hellip;</td><td>&hellip;</td></tr><tr><td>0.6</td><td>386</td><td>178</td><td>0</td><td>845</td><td>1.0</td><td>0.173998</td></tr><tr><td>0.7</td><td>386</td><td>37</td><td>0</td><td>986</td><td>1.0</td><td>0.036168</td></tr><tr><td>0.8</td><td>282</td><td>0</td><td>104</td><td>1023</td><td>0.73057</td><td>0.0</td></tr><tr><td>0.9</td><td>141</td><td>0</td><td>245</td><td>1023</td><td>0.365285</td><td>0.0</td></tr><tr><td>1.0</td><td>1</td><td>0</td><td>385</td><td>1023</td><td>0.002591</td><td>0.0</td></tr></tbody></table></div>"
      ],
      "text/plain": [
       "shape: (11, 7)\n",
       "┌───────────┬─────┬──────┬─────┬──────┬──────────┬──────────┐\n",
       "│ threshold ┆ tp  ┆ fp   ┆ fn  ┆ tn   ┆ tpr      ┆ fpr      │\n",
       "│ ---       ┆ --- ┆ ---  ┆ --- ┆ ---  ┆ ---      ┆ ---      │\n",
       "│ f64       ┆ i64 ┆ i64  ┆ i64 ┆ i64  ┆ f64      ┆ f64      │\n",
       "╞═══════════╪═════╪══════╪═════╪══════╪══════════╪══════════╡\n",
       "│ 0.0       ┆ 386 ┆ 1023 ┆ 0   ┆ 0    ┆ 1.0      ┆ 1.0      │\n",
       "│ 0.1       ┆ 386 ┆ 882  ┆ 0   ┆ 141  ┆ 1.0      ┆ 0.86217  │\n",
       "│ 0.2       ┆ 386 ┆ 741  ┆ 0   ┆ 282  ┆ 1.0      ┆ 0.72434  │\n",
       "│ 0.3       ┆ 386 ┆ 600  ┆ 0   ┆ 423  ┆ 1.0      ┆ 0.58651  │\n",
       "│ 0.4       ┆ 386 ┆ 459  ┆ 0   ┆ 564  ┆ 1.0      ┆ 0.44868  │\n",
       "│ …         ┆ …   ┆ …    ┆ …   ┆ …    ┆ …        ┆ …        │\n",
       "│ 0.6       ┆ 386 ┆ 178  ┆ 0   ┆ 845  ┆ 1.0      ┆ 0.173998 │\n",
       "│ 0.7       ┆ 386 ┆ 37   ┆ 0   ┆ 986  ┆ 1.0      ┆ 0.036168 │\n",
       "│ 0.8       ┆ 282 ┆ 0    ┆ 104 ┆ 1023 ┆ 0.73057  ┆ 0.0      │\n",
       "│ 0.9       ┆ 141 ┆ 0    ┆ 245 ┆ 1023 ┆ 0.365285 ┆ 0.0      │\n",
       "│ 1.0       ┆ 1   ┆ 0    ┆ 385 ┆ 1023 ┆ 0.002591 ┆ 0.0      │\n",
       "└───────────┴─────┴──────┴─────┴──────┴──────────┴──────────┘"
      ]
     },
     "execution_count": 111,
     "metadata": {},
     "output_type": "execute_result"
    }
   ],
   "source": [
    "df_ideal[::10]"
   ]
  },
  {
   "cell_type": "code",
   "execution_count": null,
   "metadata": {},
   "outputs": [
    {
     "data": {
      "text/html": [
       "\n",
       "<style>\n",
       "  #altair-viz-d4677032c3eb419eaca455f80441c7d0.vega-embed {\n",
       "    width: 100%;\n",
       "    display: flex;\n",
       "  }\n",
       "\n",
       "  #altair-viz-d4677032c3eb419eaca455f80441c7d0.vega-embed details,\n",
       "  #altair-viz-d4677032c3eb419eaca455f80441c7d0.vega-embed details summary {\n",
       "    position: relative;\n",
       "  }\n",
       "</style>\n",
       "<div id=\"altair-viz-d4677032c3eb419eaca455f80441c7d0\"></div>\n",
       "<script type=\"text/javascript\">\n",
       "  var VEGA_DEBUG = (typeof VEGA_DEBUG == \"undefined\") ? {} : VEGA_DEBUG;\n",
       "  (function(spec, embedOpt){\n",
       "    let outputDiv = document.currentScript.previousElementSibling;\n",
       "    if (outputDiv.id !== \"altair-viz-d4677032c3eb419eaca455f80441c7d0\") {\n",
       "      outputDiv = document.getElementById(\"altair-viz-d4677032c3eb419eaca455f80441c7d0\");\n",
       "    }\n",
       "    const paths = {\n",
       "      \"vega\": \"https://cdn.jsdelivr.net/npm/vega@5?noext\",\n",
       "      \"vega-lib\": \"https://cdn.jsdelivr.net/npm/vega-lib?noext\",\n",
       "      \"vega-lite\": \"https://cdn.jsdelivr.net/npm/vega-lite@5.20.1?noext\",\n",
       "      \"vega-embed\": \"https://cdn.jsdelivr.net/npm/vega-embed@6?noext\",\n",
       "    };\n",
       "\n",
       "    function maybeLoadScript(lib, version) {\n",
       "      var key = `${lib.replace(\"-\", \"\")}_version`;\n",
       "      return (VEGA_DEBUG[key] == version) ?\n",
       "        Promise.resolve(paths[lib]) :\n",
       "        new Promise(function(resolve, reject) {\n",
       "          var s = document.createElement('script');\n",
       "          document.getElementsByTagName(\"head\")[0].appendChild(s);\n",
       "          s.async = true;\n",
       "          s.onload = () => {\n",
       "            VEGA_DEBUG[key] = version;\n",
       "            return resolve(paths[lib]);\n",
       "          };\n",
       "          s.onerror = () => reject(`Error loading script: ${paths[lib]}`);\n",
       "          s.src = paths[lib];\n",
       "        });\n",
       "    }\n",
       "\n",
       "    function showError(err) {\n",
       "      outputDiv.innerHTML = `<div class=\"error\" style=\"color:red;\">${err}</div>`;\n",
       "      throw err;\n",
       "    }\n",
       "\n",
       "    function displayChart(vegaEmbed) {\n",
       "      vegaEmbed(outputDiv, spec, embedOpt)\n",
       "        .catch(err => showError(`Javascript Error: ${err.message}<br>This usually means there's a typo in your chart specification. See the javascript console for the full traceback.`));\n",
       "    }\n",
       "\n",
       "    if(typeof define === \"function\" && define.amd) {\n",
       "      requirejs.config({paths});\n",
       "      require([\"vega-embed\"], displayChart, err => showError(`Error loading script: ${err.message}`));\n",
       "    } else {\n",
       "      maybeLoadScript(\"vega\", \"5\")\n",
       "        .then(() => maybeLoadScript(\"vega-lite\", \"5.20.1\"))\n",
       "        .then(() => maybeLoadScript(\"vega-embed\", \"6\"))\n",
       "        .catch(showError)\n",
       "        .then(() => displayChart(vegaEmbed));\n",
       "    }\n",
       "  })({\"config\": {\"view\": {\"continuousWidth\": 300, \"continuousHeight\": 300}}, \"data\": {\"name\": \"data-50de49770efe7fdd44a2bd600e5161cd\"}, \"mark\": {\"type\": \"line\"}, \"encoding\": {\"color\": {\"field\": \"key\", \"type\": \"nominal\"}, \"x\": {\"field\": \"threshold\", \"type\": \"quantitative\"}, \"y\": {\"field\": \"value\", \"type\": \"quantitative\"}}, \"transform\": [{\"fold\": [\"tpr\", \"fpr\"]}], \"$schema\": \"https://vega.github.io/schema/vega-lite/v5.20.1.json\", \"datasets\": {\"data-50de49770efe7fdd44a2bd600e5161cd\": [{\"threshold\": 0.0, \"tp\": 386, \"fp\": 1023, \"fn\": 0, \"tn\": 0, \"tpr\": 1.0, \"fpr\": 1.0}, {\"threshold\": 0.01, \"tp\": 386, \"fp\": 1008, \"fn\": 0, \"tn\": 15, \"tpr\": 1.0, \"fpr\": 0.9853372434017595}, {\"threshold\": 0.02, \"tp\": 386, \"fp\": 994, \"fn\": 0, \"tn\": 29, \"tpr\": 1.0, \"fpr\": 0.9716520039100685}, {\"threshold\": 0.03, \"tp\": 386, \"fp\": 980, \"fn\": 0, \"tn\": 43, \"tpr\": 1.0, \"fpr\": 0.9579667644183774}, {\"threshold\": 0.04, \"tp\": 386, \"fp\": 966, \"fn\": 0, \"tn\": 57, \"tpr\": 1.0, \"fpr\": 0.9442815249266863}, {\"threshold\": 0.05, \"tp\": 386, \"fp\": 952, \"fn\": 0, \"tn\": 71, \"tpr\": 1.0, \"fpr\": 0.9305962854349951}, {\"threshold\": 0.06, \"tp\": 386, \"fp\": 938, \"fn\": 0, \"tn\": 85, \"tpr\": 1.0, \"fpr\": 0.916911045943304}, {\"threshold\": 0.07, \"tp\": 386, \"fp\": 924, \"fn\": 0, \"tn\": 99, \"tpr\": 1.0, \"fpr\": 0.9032258064516129}, {\"threshold\": 0.08, \"tp\": 386, \"fp\": 910, \"fn\": 0, \"tn\": 113, \"tpr\": 1.0, \"fpr\": 0.8895405669599218}, {\"threshold\": 0.09, \"tp\": 386, \"fp\": 896, \"fn\": 0, \"tn\": 127, \"tpr\": 1.0, \"fpr\": 0.8758553274682307}, {\"threshold\": 0.1, \"tp\": 386, \"fp\": 882, \"fn\": 0, \"tn\": 141, \"tpr\": 1.0, \"fpr\": 0.8621700879765396}, {\"threshold\": 0.11, \"tp\": 386, \"fp\": 868, \"fn\": 0, \"tn\": 155, \"tpr\": 1.0, \"fpr\": 0.8484848484848485}, {\"threshold\": 0.12, \"tp\": 386, \"fp\": 854, \"fn\": 0, \"tn\": 169, \"tpr\": 1.0, \"fpr\": 0.8347996089931574}, {\"threshold\": 0.13, \"tp\": 386, \"fp\": 839, \"fn\": 0, \"tn\": 184, \"tpr\": 1.0, \"fpr\": 0.820136852394917}, {\"threshold\": 0.14, \"tp\": 386, \"fp\": 825, \"fn\": 0, \"tn\": 198, \"tpr\": 1.0, \"fpr\": 0.8064516129032258}, {\"threshold\": 0.15, \"tp\": 386, \"fp\": 811, \"fn\": 0, \"tn\": 212, \"tpr\": 1.0, \"fpr\": 0.7927663734115347}, {\"threshold\": 0.16, \"tp\": 386, \"fp\": 797, \"fn\": 0, \"tn\": 226, \"tpr\": 1.0, \"fpr\": 0.7790811339198436}, {\"threshold\": 0.17, \"tp\": 386, \"fp\": 783, \"fn\": 0, \"tn\": 240, \"tpr\": 1.0, \"fpr\": 0.7653958944281525}, {\"threshold\": 0.18, \"tp\": 386, \"fp\": 769, \"fn\": 0, \"tn\": 254, \"tpr\": 1.0, \"fpr\": 0.7517106549364614}, {\"threshold\": 0.19, \"tp\": 386, \"fp\": 755, \"fn\": 0, \"tn\": 268, \"tpr\": 1.0, \"fpr\": 0.7380254154447703}, {\"threshold\": 0.2, \"tp\": 386, \"fp\": 741, \"fn\": 0, \"tn\": 282, \"tpr\": 1.0, \"fpr\": 0.7243401759530792}, {\"threshold\": 0.21, \"tp\": 386, \"fp\": 727, \"fn\": 0, \"tn\": 296, \"tpr\": 1.0, \"fpr\": 0.7106549364613881}, {\"threshold\": 0.22, \"tp\": 386, \"fp\": 713, \"fn\": 0, \"tn\": 310, \"tpr\": 1.0, \"fpr\": 0.696969696969697}, {\"threshold\": 0.23, \"tp\": 386, \"fp\": 699, \"fn\": 0, \"tn\": 324, \"tpr\": 1.0, \"fpr\": 0.6832844574780058}, {\"threshold\": 0.24, \"tp\": 386, \"fp\": 685, \"fn\": 0, \"tn\": 338, \"tpr\": 1.0, \"fpr\": 0.6695992179863147}, {\"threshold\": 0.25, \"tp\": 386, \"fp\": 671, \"fn\": 0, \"tn\": 352, \"tpr\": 1.0, \"fpr\": 0.6559139784946236}, {\"threshold\": 0.26, \"tp\": 386, \"fp\": 656, \"fn\": 0, \"tn\": 367, \"tpr\": 1.0, \"fpr\": 0.6412512218963832}, {\"threshold\": 0.27, \"tp\": 386, \"fp\": 642, \"fn\": 0, \"tn\": 381, \"tpr\": 1.0, \"fpr\": 0.6275659824046921}, {\"threshold\": 0.28, \"tp\": 386, \"fp\": 628, \"fn\": 0, \"tn\": 395, \"tpr\": 1.0, \"fpr\": 0.613880742913001}, {\"threshold\": 0.29, \"tp\": 386, \"fp\": 614, \"fn\": 0, \"tn\": 409, \"tpr\": 1.0, \"fpr\": 0.6001955034213099}, {\"threshold\": 0.3, \"tp\": 386, \"fp\": 600, \"fn\": 0, \"tn\": 423, \"tpr\": 1.0, \"fpr\": 0.5865102639296188}, {\"threshold\": 0.31, \"tp\": 386, \"fp\": 586, \"fn\": 0, \"tn\": 437, \"tpr\": 1.0, \"fpr\": 0.5728250244379277}, {\"threshold\": 0.32, \"tp\": 386, \"fp\": 572, \"fn\": 0, \"tn\": 451, \"tpr\": 1.0, \"fpr\": 0.5591397849462365}, {\"threshold\": 0.33, \"tp\": 386, \"fp\": 558, \"fn\": 0, \"tn\": 465, \"tpr\": 1.0, \"fpr\": 0.5454545454545454}, {\"threshold\": 0.34, \"tp\": 386, \"fp\": 544, \"fn\": 0, \"tn\": 479, \"tpr\": 1.0, \"fpr\": 0.5317693059628543}, {\"threshold\": 0.35000000000000003, \"tp\": 386, \"fp\": 530, \"fn\": 0, \"tn\": 493, \"tpr\": 1.0, \"fpr\": 0.5180840664711632}, {\"threshold\": 0.36, \"tp\": 386, \"fp\": 516, \"fn\": 0, \"tn\": 507, \"tpr\": 1.0, \"fpr\": 0.5043988269794721}, {\"threshold\": 0.37, \"tp\": 386, \"fp\": 502, \"fn\": 0, \"tn\": 521, \"tpr\": 1.0, \"fpr\": 0.49071358748778104}, {\"threshold\": 0.38, \"tp\": 386, \"fp\": 487, \"fn\": 0, \"tn\": 536, \"tpr\": 1.0, \"fpr\": 0.4760508308895406}, {\"threshold\": 0.39, \"tp\": 386, \"fp\": 473, \"fn\": 0, \"tn\": 550, \"tpr\": 1.0, \"fpr\": 0.46236559139784944}, {\"threshold\": 0.4, \"tp\": 386, \"fp\": 459, \"fn\": 0, \"tn\": 564, \"tpr\": 1.0, \"fpr\": 0.44868035190615835}, {\"threshold\": 0.41000000000000003, \"tp\": 386, \"fp\": 445, \"fn\": 0, \"tn\": 578, \"tpr\": 1.0, \"fpr\": 0.43499511241446726}, {\"threshold\": 0.42, \"tp\": 386, \"fp\": 431, \"fn\": 0, \"tn\": 592, \"tpr\": 1.0, \"fpr\": 0.42130987292277616}, {\"threshold\": 0.43, \"tp\": 386, \"fp\": 417, \"fn\": 0, \"tn\": 606, \"tpr\": 1.0, \"fpr\": 0.40762463343108507}, {\"threshold\": 0.44, \"tp\": 386, \"fp\": 403, \"fn\": 0, \"tn\": 620, \"tpr\": 1.0, \"fpr\": 0.3939393939393939}, {\"threshold\": 0.45, \"tp\": 386, \"fp\": 389, \"fn\": 0, \"tn\": 634, \"tpr\": 1.0, \"fpr\": 0.38025415444770283}, {\"threshold\": 0.46, \"tp\": 386, \"fp\": 375, \"fn\": 0, \"tn\": 648, \"tpr\": 1.0, \"fpr\": 0.36656891495601174}, {\"threshold\": 0.47000000000000003, \"tp\": 386, \"fp\": 361, \"fn\": 0, \"tn\": 662, \"tpr\": 1.0, \"fpr\": 0.35288367546432065}, {\"threshold\": 0.48, \"tp\": 386, \"fp\": 347, \"fn\": 0, \"tn\": 676, \"tpr\": 1.0, \"fpr\": 0.3391984359726295}, {\"threshold\": 0.49, \"tp\": 386, \"fp\": 333, \"fn\": 0, \"tn\": 690, \"tpr\": 1.0, \"fpr\": 0.3255131964809384}, {\"threshold\": 0.5, \"tp\": 386, \"fp\": 319, \"fn\": 0, \"tn\": 704, \"tpr\": 1.0, \"fpr\": 0.3118279569892473}, {\"threshold\": 0.51, \"tp\": 386, \"fp\": 304, \"fn\": 0, \"tn\": 719, \"tpr\": 1.0, \"fpr\": 0.29716520039100686}, {\"threshold\": 0.52, \"tp\": 386, \"fp\": 290, \"fn\": 0, \"tn\": 733, \"tpr\": 1.0, \"fpr\": 0.28347996089931576}, {\"threshold\": 0.53, \"tp\": 386, \"fp\": 276, \"fn\": 0, \"tn\": 747, \"tpr\": 1.0, \"fpr\": 0.2697947214076246}, {\"threshold\": 0.54, \"tp\": 386, \"fp\": 262, \"fn\": 0, \"tn\": 761, \"tpr\": 1.0, \"fpr\": 0.2561094819159335}, {\"threshold\": 0.55, \"tp\": 386, \"fp\": 248, \"fn\": 0, \"tn\": 775, \"tpr\": 1.0, \"fpr\": 0.24242424242424243}, {\"threshold\": 0.56, \"tp\": 386, \"fp\": 234, \"fn\": 0, \"tn\": 789, \"tpr\": 1.0, \"fpr\": 0.2287390029325513}, {\"threshold\": 0.5700000000000001, \"tp\": 386, \"fp\": 220, \"fn\": 0, \"tn\": 803, \"tpr\": 1.0, \"fpr\": 0.21505376344086022}, {\"threshold\": 0.58, \"tp\": 386, \"fp\": 206, \"fn\": 0, \"tn\": 817, \"tpr\": 1.0, \"fpr\": 0.2013685239491691}, {\"threshold\": 0.59, \"tp\": 386, \"fp\": 192, \"fn\": 0, \"tn\": 831, \"tpr\": 1.0, \"fpr\": 0.187683284457478}, {\"threshold\": 0.6, \"tp\": 386, \"fp\": 178, \"fn\": 0, \"tn\": 845, \"tpr\": 1.0, \"fpr\": 0.1739980449657869}, {\"threshold\": 0.61, \"tp\": 386, \"fp\": 164, \"fn\": 0, \"tn\": 859, \"tpr\": 1.0, \"fpr\": 0.1603128054740958}, {\"threshold\": 0.62, \"tp\": 386, \"fp\": 150, \"fn\": 0, \"tn\": 873, \"tpr\": 1.0, \"fpr\": 0.1466275659824047}, {\"threshold\": 0.63, \"tp\": 386, \"fp\": 135, \"fn\": 0, \"tn\": 888, \"tpr\": 1.0, \"fpr\": 0.13196480938416422}, {\"threshold\": 0.64, \"tp\": 386, \"fp\": 121, \"fn\": 0, \"tn\": 902, \"tpr\": 1.0, \"fpr\": 0.11827956989247312}, {\"threshold\": 0.65, \"tp\": 386, \"fp\": 107, \"fn\": 0, \"tn\": 916, \"tpr\": 1.0, \"fpr\": 0.10459433040078202}, {\"threshold\": 0.66, \"tp\": 386, \"fp\": 93, \"fn\": 0, \"tn\": 930, \"tpr\": 1.0, \"fpr\": 0.09090909090909091}, {\"threshold\": 0.67, \"tp\": 386, \"fp\": 79, \"fn\": 0, \"tn\": 944, \"tpr\": 1.0, \"fpr\": 0.0772238514173998}, {\"threshold\": 0.68, \"tp\": 386, \"fp\": 65, \"fn\": 0, \"tn\": 958, \"tpr\": 1.0, \"fpr\": 0.0635386119257087}, {\"threshold\": 0.6900000000000001, \"tp\": 386, \"fp\": 51, \"fn\": 0, \"tn\": 972, \"tpr\": 1.0, \"fpr\": 0.04985337243401759}, {\"threshold\": 0.7000000000000001, \"tp\": 386, \"fp\": 37, \"fn\": 0, \"tn\": 986, \"tpr\": 1.0, \"fpr\": 0.03616813294232649}, {\"threshold\": 0.71, \"tp\": 386, \"fp\": 23, \"fn\": 0, \"tn\": 1000, \"tpr\": 1.0, \"fpr\": 0.022482893450635387}, {\"threshold\": 0.72, \"tp\": 386, \"fp\": 9, \"fn\": 0, \"tn\": 1014, \"tpr\": 1.0, \"fpr\": 0.008797653958944282}, {\"threshold\": 0.73, \"tp\": 381, \"fp\": 0, \"fn\": 5, \"tn\": 1023, \"tpr\": 0.9870466321243523, \"fpr\": 0.0}, {\"threshold\": 0.74, \"tp\": 367, \"fp\": 0, \"fn\": 19, \"tn\": 1023, \"tpr\": 0.9507772020725389, \"fpr\": 0.0}, {\"threshold\": 0.75, \"tp\": 353, \"fp\": 0, \"fn\": 33, \"tn\": 1023, \"tpr\": 0.9145077720207254, \"fpr\": 0.0}, {\"threshold\": 0.76, \"tp\": 338, \"fp\": 0, \"fn\": 48, \"tn\": 1023, \"tpr\": 0.8756476683937824, \"fpr\": 0.0}, {\"threshold\": 0.77, \"tp\": 324, \"fp\": 0, \"fn\": 62, \"tn\": 1023, \"tpr\": 0.8393782383419689, \"fpr\": 0.0}, {\"threshold\": 0.78, \"tp\": 310, \"fp\": 0, \"fn\": 76, \"tn\": 1023, \"tpr\": 0.8031088082901554, \"fpr\": 0.0}, {\"threshold\": 0.79, \"tp\": 296, \"fp\": 0, \"fn\": 90, \"tn\": 1023, \"tpr\": 0.7668393782383419, \"fpr\": 0.0}, {\"threshold\": 0.8, \"tp\": 282, \"fp\": 0, \"fn\": 104, \"tn\": 1023, \"tpr\": 0.7305699481865285, \"fpr\": 0.0}, {\"threshold\": 0.81, \"tp\": 268, \"fp\": 0, \"fn\": 118, \"tn\": 1023, \"tpr\": 0.694300518134715, \"fpr\": 0.0}, {\"threshold\": 0.8200000000000001, \"tp\": 254, \"fp\": 0, \"fn\": 132, \"tn\": 1023, \"tpr\": 0.6580310880829016, \"fpr\": 0.0}, {\"threshold\": 0.8300000000000001, \"tp\": 240, \"fp\": 0, \"fn\": 146, \"tn\": 1023, \"tpr\": 0.6217616580310881, \"fpr\": 0.0}, {\"threshold\": 0.84, \"tp\": 226, \"fp\": 0, \"fn\": 160, \"tn\": 1023, \"tpr\": 0.5854922279792746, \"fpr\": 0.0}, {\"threshold\": 0.85, \"tp\": 212, \"fp\": 0, \"fn\": 174, \"tn\": 1023, \"tpr\": 0.5492227979274611, \"fpr\": 0.0}, {\"threshold\": 0.86, \"tp\": 198, \"fp\": 0, \"fn\": 188, \"tn\": 1023, \"tpr\": 0.5129533678756477, \"fpr\": 0.0}, {\"threshold\": 0.87, \"tp\": 184, \"fp\": 0, \"fn\": 202, \"tn\": 1023, \"tpr\": 0.47668393782383417, \"fpr\": 0.0}, {\"threshold\": 0.88, \"tp\": 169, \"fp\": 0, \"fn\": 217, \"tn\": 1023, \"tpr\": 0.4378238341968912, \"fpr\": 0.0}, {\"threshold\": 0.89, \"tp\": 155, \"fp\": 0, \"fn\": 231, \"tn\": 1023, \"tpr\": 0.4015544041450777, \"fpr\": 0.0}, {\"threshold\": 0.9, \"tp\": 141, \"fp\": 0, \"fn\": 245, \"tn\": 1023, \"tpr\": 0.36528497409326427, \"fpr\": 0.0}, {\"threshold\": 0.91, \"tp\": 127, \"fp\": 0, \"fn\": 259, \"tn\": 1023, \"tpr\": 0.3290155440414508, \"fpr\": 0.0}, {\"threshold\": 0.92, \"tp\": 113, \"fp\": 0, \"fn\": 273, \"tn\": 1023, \"tpr\": 0.2927461139896373, \"fpr\": 0.0}, {\"threshold\": 0.93, \"tp\": 99, \"fp\": 0, \"fn\": 287, \"tn\": 1023, \"tpr\": 0.25647668393782386, \"fpr\": 0.0}, {\"threshold\": 0.9400000000000001, \"tp\": 85, \"fp\": 0, \"fn\": 301, \"tn\": 1023, \"tpr\": 0.22020725388601037, \"fpr\": 0.0}, {\"threshold\": 0.9500000000000001, \"tp\": 71, \"fp\": 0, \"fn\": 315, \"tn\": 1023, \"tpr\": 0.18393782383419688, \"fpr\": 0.0}, {\"threshold\": 0.96, \"tp\": 57, \"fp\": 0, \"fn\": 329, \"tn\": 1023, \"tpr\": 0.14766839378238342, \"fpr\": 0.0}, {\"threshold\": 0.97, \"tp\": 43, \"fp\": 0, \"fn\": 343, \"tn\": 1023, \"tpr\": 0.11139896373056994, \"fpr\": 0.0}, {\"threshold\": 0.98, \"tp\": 29, \"fp\": 0, \"fn\": 357, \"tn\": 1023, \"tpr\": 0.07512953367875648, \"fpr\": 0.0}, {\"threshold\": 0.99, \"tp\": 15, \"fp\": 0, \"fn\": 371, \"tn\": 1023, \"tpr\": 0.038860103626943004, \"fpr\": 0.0}, {\"threshold\": 1.0, \"tp\": 1, \"fp\": 0, \"fn\": 385, \"tn\": 1023, \"tpr\": 0.0025906735751295338, \"fpr\": 0.0}]}}, {\"mode\": \"vega-lite\"});\n",
       "</script>"
      ],
      "text/plain": [
       "alt.Chart(...)"
      ]
     },
     "execution_count": 112,
     "metadata": {},
     "output_type": "execute_result"
    }
   ],
   "source": [
    "alt.Chart(df_ideal).transform_fold([\"tpr\", \"fpr\"]).mark_line().encode(\n",
    "    alt.X(\"threshold:Q\"), alt.Y(\"value:Q\"), alt.Color(\"key:N\")\n",
    ")\n"
   ]
  },
  {
   "cell_type": "markdown",
   "metadata": {},
   "source": [
    "### Putting everything together\n"
   ]
  },
  {
   "cell_type": "code",
   "execution_count": null,
   "metadata": {},
   "outputs": [
    {
     "data": {
      "text/html": [
       "\n",
       "<style>\n",
       "  #altair-viz-d2d2702f220d4cdb8bf17e1678ec1c8e.vega-embed {\n",
       "    width: 100%;\n",
       "    display: flex;\n",
       "  }\n",
       "\n",
       "  #altair-viz-d2d2702f220d4cdb8bf17e1678ec1c8e.vega-embed details,\n",
       "  #altair-viz-d2d2702f220d4cdb8bf17e1678ec1c8e.vega-embed details summary {\n",
       "    position: relative;\n",
       "  }\n",
       "</style>\n",
       "<div id=\"altair-viz-d2d2702f220d4cdb8bf17e1678ec1c8e\"></div>\n",
       "<script type=\"text/javascript\">\n",
       "  var VEGA_DEBUG = (typeof VEGA_DEBUG == \"undefined\") ? {} : VEGA_DEBUG;\n",
       "  (function(spec, embedOpt){\n",
       "    let outputDiv = document.currentScript.previousElementSibling;\n",
       "    if (outputDiv.id !== \"altair-viz-d2d2702f220d4cdb8bf17e1678ec1c8e\") {\n",
       "      outputDiv = document.getElementById(\"altair-viz-d2d2702f220d4cdb8bf17e1678ec1c8e\");\n",
       "    }\n",
       "    const paths = {\n",
       "      \"vega\": \"https://cdn.jsdelivr.net/npm/vega@5?noext\",\n",
       "      \"vega-lib\": \"https://cdn.jsdelivr.net/npm/vega-lib?noext\",\n",
       "      \"vega-lite\": \"https://cdn.jsdelivr.net/npm/vega-lite@5.20.1?noext\",\n",
       "      \"vega-embed\": \"https://cdn.jsdelivr.net/npm/vega-embed@6?noext\",\n",
       "    };\n",
       "\n",
       "    function maybeLoadScript(lib, version) {\n",
       "      var key = `${lib.replace(\"-\", \"\")}_version`;\n",
       "      return (VEGA_DEBUG[key] == version) ?\n",
       "        Promise.resolve(paths[lib]) :\n",
       "        new Promise(function(resolve, reject) {\n",
       "          var s = document.createElement('script');\n",
       "          document.getElementsByTagName(\"head\")[0].appendChild(s);\n",
       "          s.async = true;\n",
       "          s.onload = () => {\n",
       "            VEGA_DEBUG[key] = version;\n",
       "            return resolve(paths[lib]);\n",
       "          };\n",
       "          s.onerror = () => reject(`Error loading script: ${paths[lib]}`);\n",
       "          s.src = paths[lib];\n",
       "        });\n",
       "    }\n",
       "\n",
       "    function showError(err) {\n",
       "      outputDiv.innerHTML = `<div class=\"error\" style=\"color:red;\">${err}</div>`;\n",
       "      throw err;\n",
       "    }\n",
       "\n",
       "    function displayChart(vegaEmbed) {\n",
       "      vegaEmbed(outputDiv, spec, embedOpt)\n",
       "        .catch(err => showError(`Javascript Error: ${err.message}<br>This usually means there's a typo in your chart specification. See the javascript console for the full traceback.`));\n",
       "    }\n",
       "\n",
       "    if(typeof define === \"function\" && define.amd) {\n",
       "      requirejs.config({paths});\n",
       "      require([\"vega-embed\"], displayChart, err => showError(`Error loading script: ${err.message}`));\n",
       "    } else {\n",
       "      maybeLoadScript(\"vega\", \"5\")\n",
       "        .then(() => maybeLoadScript(\"vega-lite\", \"5.20.1\"))\n",
       "        .then(() => maybeLoadScript(\"vega-embed\", \"6\"))\n",
       "        .catch(showError)\n",
       "        .then(() => displayChart(vegaEmbed));\n",
       "    }\n",
       "  })({\"config\": {\"view\": {\"continuousWidth\": 300, \"continuousHeight\": 300}}, \"layer\": [{\"data\": {\"name\": \"data-e69ae8b9f723ffbc4dcf470f2afc992f\"}, \"mark\": {\"type\": \"line\"}, \"encoding\": {\"color\": {\"field\": \"key\", \"type\": \"nominal\"}, \"x\": {\"field\": \"threshold\", \"type\": \"quantitative\"}, \"y\": {\"field\": \"value\", \"type\": \"quantitative\"}}, \"transform\": [{\"fold\": [\"tpr\", \"fpr\"]}]}, {\"data\": {\"name\": \"data-50de49770efe7fdd44a2bd600e5161cd\"}, \"mark\": {\"type\": \"line\", \"color\": \"black\"}, \"encoding\": {\"color\": {\"field\": \"key\", \"type\": \"nominal\"}, \"x\": {\"field\": \"threshold\", \"type\": \"quantitative\"}, \"y\": {\"field\": \"value\", \"type\": \"quantitative\"}}, \"transform\": [{\"fold\": [\"tpr\", \"fpr\"]}]}], \"$schema\": \"https://vega.github.io/schema/vega-lite/v5.20.1.json\", \"datasets\": {\"data-e69ae8b9f723ffbc4dcf470f2afc992f\": [{\"threshold\": 0.0, \"tp\": 386, \"fp\": 1023, \"fn\": 0, \"tn\": 0, \"tpr\": 1.0, \"fpr\": 1.0}, {\"threshold\": 0.01, \"tp\": 385, \"fp\": 916, \"fn\": 1, \"tn\": 107, \"tpr\": 0.9974093264248705, \"fpr\": 0.895405669599218}, {\"threshold\": 0.02, \"tp\": 384, \"fp\": 831, \"fn\": 2, \"tn\": 192, \"tpr\": 0.9948186528497409, \"fpr\": 0.8123167155425219}, {\"threshold\": 0.03, \"tp\": 383, \"fp\": 766, \"fn\": 3, \"tn\": 257, \"tpr\": 0.9922279792746114, \"fpr\": 0.7487781036168133}, {\"threshold\": 0.04, \"tp\": 381, \"fp\": 715, \"fn\": 5, \"tn\": 308, \"tpr\": 0.9870466321243523, \"fpr\": 0.6989247311827957}, {\"threshold\": 0.05, \"tp\": 379, \"fp\": 686, \"fn\": 7, \"tn\": 337, \"tpr\": 0.9818652849740933, \"fpr\": 0.6705767350928641}, {\"threshold\": 0.06, \"tp\": 377, \"fp\": 661, \"fn\": 9, \"tn\": 362, \"tpr\": 0.9766839378238342, \"fpr\": 0.64613880742913}, {\"threshold\": 0.07, \"tp\": 372, \"fp\": 643, \"fn\": 14, \"tn\": 380, \"tpr\": 0.9637305699481865, \"fpr\": 0.6285434995112414}, {\"threshold\": 0.08, \"tp\": 371, \"fp\": 615, \"fn\": 15, \"tn\": 408, \"tpr\": 0.961139896373057, \"fpr\": 0.6011730205278593}, {\"threshold\": 0.09, \"tp\": 369, \"fp\": 582, \"fn\": 17, \"tn\": 441, \"tpr\": 0.9559585492227979, \"fpr\": 0.5689149560117303}, {\"threshold\": 0.1, \"tp\": 366, \"fp\": 556, \"fn\": 20, \"tn\": 467, \"tpr\": 0.9481865284974094, \"fpr\": 0.5434995112414467}, {\"threshold\": 0.11, \"tp\": 365, \"fp\": 528, \"fn\": 21, \"tn\": 495, \"tpr\": 0.9455958549222798, \"fpr\": 0.5161290322580645}, {\"threshold\": 0.12, \"tp\": 364, \"fp\": 512, \"fn\": 22, \"tn\": 511, \"tpr\": 0.9430051813471503, \"fpr\": 0.5004887585532747}, {\"threshold\": 0.13, \"tp\": 360, \"fp\": 477, \"fn\": 26, \"tn\": 546, \"tpr\": 0.9326424870466321, \"fpr\": 0.4662756598240469}, {\"threshold\": 0.14, \"tp\": 355, \"fp\": 453, \"fn\": 31, \"tn\": 570, \"tpr\": 0.9196891191709845, \"fpr\": 0.44281524926686217}, {\"threshold\": 0.15, \"tp\": 351, \"fp\": 435, \"fn\": 35, \"tn\": 588, \"tpr\": 0.9093264248704663, \"fpr\": 0.4252199413489736}, {\"threshold\": 0.16, \"tp\": 347, \"fp\": 424, \"fn\": 39, \"tn\": 599, \"tpr\": 0.8989637305699482, \"fpr\": 0.4144672531769306}, {\"threshold\": 0.17, \"tp\": 346, \"fp\": 401, \"fn\": 40, \"tn\": 622, \"tpr\": 0.8963730569948186, \"fpr\": 0.3919843597262952}, {\"threshold\": 0.18, \"tp\": 344, \"fp\": 384, \"fn\": 42, \"tn\": 639, \"tpr\": 0.8911917098445595, \"fpr\": 0.375366568914956}, {\"threshold\": 0.19, \"tp\": 339, \"fp\": 368, \"fn\": 47, \"tn\": 655, \"tpr\": 0.8782383419689119, \"fpr\": 0.3597262952101662}, {\"threshold\": 0.2, \"tp\": 333, \"fp\": 357, \"fn\": 53, \"tn\": 666, \"tpr\": 0.8626943005181347, \"fpr\": 0.3489736070381232}, {\"threshold\": 0.21, \"tp\": 329, \"fp\": 341, \"fn\": 57, \"tn\": 682, \"tpr\": 0.8523316062176166, \"fpr\": 0.3333333333333333}, {\"threshold\": 0.22, \"tp\": 323, \"fp\": 323, \"fn\": 63, \"tn\": 700, \"tpr\": 0.8367875647668394, \"fpr\": 0.31573802541544477}, {\"threshold\": 0.23, \"tp\": 320, \"fp\": 313, \"fn\": 66, \"tn\": 710, \"tpr\": 0.8290155440414507, \"fpr\": 0.30596285434995113}, {\"threshold\": 0.24, \"tp\": 315, \"fp\": 304, \"fn\": 71, \"tn\": 719, \"tpr\": 0.8160621761658031, \"fpr\": 0.29716520039100686}, {\"threshold\": 0.25, \"tp\": 309, \"fp\": 294, \"fn\": 77, \"tn\": 729, \"tpr\": 0.8005181347150259, \"fpr\": 0.2873900293255132}, {\"threshold\": 0.26, \"tp\": 304, \"fp\": 281, \"fn\": 82, \"tn\": 742, \"tpr\": 0.7875647668393783, \"fpr\": 0.27468230694037143}, {\"threshold\": 0.27, \"tp\": 303, \"fp\": 270, \"fn\": 83, \"tn\": 753, \"tpr\": 0.7849740932642487, \"fpr\": 0.26392961876832843}, {\"threshold\": 0.28, \"tp\": 295, \"fp\": 257, \"fn\": 91, \"tn\": 766, \"tpr\": 0.7642487046632125, \"fpr\": 0.2512218963831867}, {\"threshold\": 0.29, \"tp\": 292, \"fp\": 245, \"fn\": 94, \"tn\": 778, \"tpr\": 0.7564766839378239, \"fpr\": 0.23949169110459434}, {\"threshold\": 0.3, \"tp\": 284, \"fp\": 236, \"fn\": 102, \"tn\": 787, \"tpr\": 0.7357512953367875, \"fpr\": 0.23069403714565004}, {\"threshold\": 0.31, \"tp\": 280, \"fp\": 230, \"fn\": 106, \"tn\": 793, \"tpr\": 0.7253886010362695, \"fpr\": 0.22482893450635386}, {\"threshold\": 0.32, \"tp\": 278, \"fp\": 226, \"fn\": 108, \"tn\": 797, \"tpr\": 0.7202072538860104, \"fpr\": 0.2209188660801564}, {\"threshold\": 0.33, \"tp\": 276, \"fp\": 221, \"fn\": 110, \"tn\": 802, \"tpr\": 0.7150259067357513, \"fpr\": 0.21603128054740958}, {\"threshold\": 0.34, \"tp\": 274, \"fp\": 212, \"fn\": 112, \"tn\": 811, \"tpr\": 0.7098445595854922, \"fpr\": 0.2072336265884653}, {\"threshold\": 0.35000000000000003, \"tp\": 272, \"fp\": 206, \"fn\": 114, \"tn\": 817, \"tpr\": 0.7046632124352331, \"fpr\": 0.2013685239491691}, {\"threshold\": 0.36, \"tp\": 267, \"fp\": 201, \"fn\": 119, \"tn\": 822, \"tpr\": 0.6917098445595855, \"fpr\": 0.19648093841642228}, {\"threshold\": 0.37, \"tp\": 265, \"fp\": 198, \"fn\": 121, \"tn\": 825, \"tpr\": 0.6865284974093264, \"fpr\": 0.1935483870967742}, {\"threshold\": 0.38, \"tp\": 260, \"fp\": 186, \"fn\": 126, \"tn\": 837, \"tpr\": 0.6735751295336787, \"fpr\": 0.18181818181818182}, {\"threshold\": 0.39, \"tp\": 254, \"fp\": 178, \"fn\": 132, \"tn\": 845, \"tpr\": 0.6580310880829016, \"fpr\": 0.1739980449657869}, {\"threshold\": 0.4, \"tp\": 249, \"fp\": 166, \"fn\": 137, \"tn\": 857, \"tpr\": 0.6450777202072538, \"fpr\": 0.16226783968719452}, {\"threshold\": 0.41000000000000003, \"tp\": 246, \"fp\": 159, \"fn\": 140, \"tn\": 864, \"tpr\": 0.6373056994818653, \"fpr\": 0.15542521994134897}, {\"threshold\": 0.42, \"tp\": 243, \"fp\": 156, \"fn\": 143, \"tn\": 867, \"tpr\": 0.6295336787564767, \"fpr\": 0.15249266862170088}, {\"threshold\": 0.43, \"tp\": 241, \"fp\": 150, \"fn\": 145, \"tn\": 873, \"tpr\": 0.6243523316062176, \"fpr\": 0.1466275659824047}, {\"threshold\": 0.44, \"tp\": 234, \"fp\": 147, \"fn\": 152, \"tn\": 876, \"tpr\": 0.6062176165803109, \"fpr\": 0.1436950146627566}, {\"threshold\": 0.45, \"tp\": 228, \"fp\": 135, \"fn\": 158, \"tn\": 888, \"tpr\": 0.5906735751295337, \"fpr\": 0.13196480938416422}, {\"threshold\": 0.46, \"tp\": 224, \"fp\": 125, \"fn\": 162, \"tn\": 898, \"tpr\": 0.5803108808290155, \"fpr\": 0.12218963831867058}, {\"threshold\": 0.47000000000000003, \"tp\": 218, \"fp\": 119, \"fn\": 168, \"tn\": 904, \"tpr\": 0.5647668393782384, \"fpr\": 0.11632453567937438}, {\"threshold\": 0.48, \"tp\": 217, \"fp\": 115, \"fn\": 169, \"tn\": 908, \"tpr\": 0.5621761658031088, \"fpr\": 0.11241446725317693}, {\"threshold\": 0.49, \"tp\": 213, \"fp\": 109, \"fn\": 173, \"tn\": 914, \"tpr\": 0.5518134715025906, \"fpr\": 0.10654936461388075}, {\"threshold\": 0.5, \"tp\": 210, \"fp\": 102, \"fn\": 176, \"tn\": 921, \"tpr\": 0.5440414507772021, \"fpr\": 0.09970674486803519}, {\"threshold\": 0.51, \"tp\": 207, \"fp\": 99, \"fn\": 179, \"tn\": 924, \"tpr\": 0.5362694300518135, \"fpr\": 0.0967741935483871}, {\"threshold\": 0.52, \"tp\": 204, \"fp\": 93, \"fn\": 182, \"tn\": 930, \"tpr\": 0.5284974093264249, \"fpr\": 0.09090909090909091}, {\"threshold\": 0.53, \"tp\": 195, \"fp\": 91, \"fn\": 191, \"tn\": 932, \"tpr\": 0.5051813471502591, \"fpr\": 0.08895405669599218}, {\"threshold\": 0.54, \"tp\": 193, \"fp\": 85, \"fn\": 193, \"tn\": 938, \"tpr\": 0.5, \"fpr\": 0.08308895405669599}, {\"threshold\": 0.55, \"tp\": 185, \"fp\": 79, \"fn\": 201, \"tn\": 944, \"tpr\": 0.4792746113989637, \"fpr\": 0.0772238514173998}, {\"threshold\": 0.56, \"tp\": 182, \"fp\": 75, \"fn\": 204, \"tn\": 948, \"tpr\": 0.47150259067357514, \"fpr\": 0.07331378299120235}, {\"threshold\": 0.5700000000000001, \"tp\": 177, \"fp\": 67, \"fn\": 209, \"tn\": 956, \"tpr\": 0.4585492227979275, \"fpr\": 0.06549364613880743}, {\"threshold\": 0.58, \"tp\": 170, \"fp\": 61, \"fn\": 216, \"tn\": 962, \"tpr\": 0.44041450777202074, \"fpr\": 0.059628543499511244}, {\"threshold\": 0.59, \"tp\": 161, \"fp\": 59, \"fn\": 225, \"tn\": 964, \"tpr\": 0.4170984455958549, \"fpr\": 0.05767350928641251}, {\"threshold\": 0.6, \"tp\": 150, \"fp\": 53, \"fn\": 236, \"tn\": 970, \"tpr\": 0.38860103626943004, \"fpr\": 0.05180840664711633}, {\"threshold\": 0.61, \"tp\": 145, \"fp\": 49, \"fn\": 241, \"tn\": 974, \"tpr\": 0.3756476683937824, \"fpr\": 0.047898338220918865}, {\"threshold\": 0.62, \"tp\": 140, \"fp\": 46, \"fn\": 246, \"tn\": 977, \"tpr\": 0.3626943005181347, \"fpr\": 0.044965786901270774}, {\"threshold\": 0.63, \"tp\": 132, \"fp\": 39, \"fn\": 254, \"tn\": 984, \"tpr\": 0.34196891191709844, \"fpr\": 0.03812316715542522}, {\"threshold\": 0.64, \"tp\": 123, \"fp\": 37, \"fn\": 263, \"tn\": 986, \"tpr\": 0.31865284974093266, \"fpr\": 0.03616813294232649}, {\"threshold\": 0.65, \"tp\": 119, \"fp\": 34, \"fn\": 267, \"tn\": 989, \"tpr\": 0.3082901554404145, \"fpr\": 0.033235581622678395}, {\"threshold\": 0.66, \"tp\": 114, \"fp\": 30, \"fn\": 272, \"tn\": 993, \"tpr\": 0.29533678756476683, \"fpr\": 0.02932551319648094}, {\"threshold\": 0.67, \"tp\": 103, \"fp\": 29, \"fn\": 283, \"tn\": 994, \"tpr\": 0.266839378238342, \"fpr\": 0.028347996089931573}, {\"threshold\": 0.68, \"tp\": 93, \"fp\": 26, \"fn\": 293, \"tn\": 997, \"tpr\": 0.24093264248704663, \"fpr\": 0.02541544477028348}, {\"threshold\": 0.6900000000000001, \"tp\": 87, \"fp\": 25, \"fn\": 299, \"tn\": 998, \"tpr\": 0.22538860103626943, \"fpr\": 0.024437927663734114}, {\"threshold\": 0.7000000000000001, \"tp\": 75, \"fp\": 19, \"fn\": 311, \"tn\": 1004, \"tpr\": 0.19430051813471502, \"fpr\": 0.01857282502443793}, {\"threshold\": 0.71, \"tp\": 63, \"fp\": 13, \"fn\": 323, \"tn\": 1010, \"tpr\": 0.16321243523316062, \"fpr\": 0.01270772238514174}, {\"threshold\": 0.72, \"tp\": 57, \"fp\": 11, \"fn\": 329, \"tn\": 1012, \"tpr\": 0.14766839378238342, \"fpr\": 0.010752688172043012}, {\"threshold\": 0.73, \"tp\": 47, \"fp\": 8, \"fn\": 339, \"tn\": 1015, \"tpr\": 0.12176165803108809, \"fpr\": 0.007820136852394917}, {\"threshold\": 0.74, \"tp\": 40, \"fp\": 8, \"fn\": 346, \"tn\": 1015, \"tpr\": 0.10362694300518134, \"fpr\": 0.007820136852394917}, {\"threshold\": 0.75, \"tp\": 33, \"fp\": 7, \"fn\": 353, \"tn\": 1016, \"tpr\": 0.08549222797927461, \"fpr\": 0.006842619745845552}, {\"threshold\": 0.76, \"tp\": 30, \"fp\": 6, \"fn\": 356, \"tn\": 1017, \"tpr\": 0.07772020725388601, \"fpr\": 0.005865102639296188}, {\"threshold\": 0.77, \"tp\": 24, \"fp\": 5, \"fn\": 362, \"tn\": 1018, \"tpr\": 0.06217616580310881, \"fpr\": 0.004887585532746823}, {\"threshold\": 0.78, \"tp\": 18, \"fp\": 3, \"fn\": 368, \"tn\": 1020, \"tpr\": 0.046632124352331605, \"fpr\": 0.002932551319648094}, {\"threshold\": 0.79, \"tp\": 15, \"fp\": 2, \"fn\": 371, \"tn\": 1021, \"tpr\": 0.038860103626943004, \"fpr\": 0.0019550342130987292}, {\"threshold\": 0.8, \"tp\": 12, \"fp\": 1, \"fn\": 374, \"tn\": 1022, \"tpr\": 0.031088082901554404, \"fpr\": 0.0009775171065493646}, {\"threshold\": 0.81, \"tp\": 6, \"fp\": 0, \"fn\": 380, \"tn\": 1023, \"tpr\": 0.015544041450777202, \"fpr\": 0.0}, {\"threshold\": 0.8200000000000001, \"tp\": 5, \"fp\": 0, \"fn\": 381, \"tn\": 1023, \"tpr\": 0.012953367875647668, \"fpr\": 0.0}, {\"threshold\": 0.8300000000000001, \"tp\": 3, \"fp\": 0, \"fn\": 383, \"tn\": 1023, \"tpr\": 0.007772020725388601, \"fpr\": 0.0}, {\"threshold\": 0.84, \"tp\": 0, \"fp\": 0, \"fn\": 386, \"tn\": 1023, \"tpr\": 0.0, \"fpr\": 0.0}, {\"threshold\": 0.85, \"tp\": 0, \"fp\": 0, \"fn\": 386, \"tn\": 1023, \"tpr\": 0.0, \"fpr\": 0.0}, {\"threshold\": 0.86, \"tp\": 0, \"fp\": 0, \"fn\": 386, \"tn\": 1023, \"tpr\": 0.0, \"fpr\": 0.0}, {\"threshold\": 0.87, \"tp\": 0, \"fp\": 0, \"fn\": 386, \"tn\": 1023, \"tpr\": 0.0, \"fpr\": 0.0}, {\"threshold\": 0.88, \"tp\": 0, \"fp\": 0, \"fn\": 386, \"tn\": 1023, \"tpr\": 0.0, \"fpr\": 0.0}, {\"threshold\": 0.89, \"tp\": 0, \"fp\": 0, \"fn\": 386, \"tn\": 1023, \"tpr\": 0.0, \"fpr\": 0.0}, {\"threshold\": 0.9, \"tp\": 0, \"fp\": 0, \"fn\": 386, \"tn\": 1023, \"tpr\": 0.0, \"fpr\": 0.0}, {\"threshold\": 0.91, \"tp\": 0, \"fp\": 0, \"fn\": 386, \"tn\": 1023, \"tpr\": 0.0, \"fpr\": 0.0}, {\"threshold\": 0.92, \"tp\": 0, \"fp\": 0, \"fn\": 386, \"tn\": 1023, \"tpr\": 0.0, \"fpr\": 0.0}, {\"threshold\": 0.93, \"tp\": 0, \"fp\": 0, \"fn\": 386, \"tn\": 1023, \"tpr\": 0.0, \"fpr\": 0.0}, {\"threshold\": 0.9400000000000001, \"tp\": 0, \"fp\": 0, \"fn\": 386, \"tn\": 1023, \"tpr\": 0.0, \"fpr\": 0.0}, {\"threshold\": 0.9500000000000001, \"tp\": 0, \"fp\": 0, \"fn\": 386, \"tn\": 1023, \"tpr\": 0.0, \"fpr\": 0.0}, {\"threshold\": 0.96, \"tp\": 0, \"fp\": 0, \"fn\": 386, \"tn\": 1023, \"tpr\": 0.0, \"fpr\": 0.0}, {\"threshold\": 0.97, \"tp\": 0, \"fp\": 0, \"fn\": 386, \"tn\": 1023, \"tpr\": 0.0, \"fpr\": 0.0}, {\"threshold\": 0.98, \"tp\": 0, \"fp\": 0, \"fn\": 386, \"tn\": 1023, \"tpr\": 0.0, \"fpr\": 0.0}, {\"threshold\": 0.99, \"tp\": 0, \"fp\": 0, \"fn\": 386, \"tn\": 1023, \"tpr\": 0.0, \"fpr\": 0.0}, {\"threshold\": 1.0, \"tp\": 0, \"fp\": 0, \"fn\": 386, \"tn\": 1023, \"tpr\": 0.0, \"fpr\": 0.0}], \"data-50de49770efe7fdd44a2bd600e5161cd\": [{\"threshold\": 0.0, \"tp\": 386, \"fp\": 1023, \"fn\": 0, \"tn\": 0, \"tpr\": 1.0, \"fpr\": 1.0}, {\"threshold\": 0.01, \"tp\": 386, \"fp\": 1008, \"fn\": 0, \"tn\": 15, \"tpr\": 1.0, \"fpr\": 0.9853372434017595}, {\"threshold\": 0.02, \"tp\": 386, \"fp\": 994, \"fn\": 0, \"tn\": 29, \"tpr\": 1.0, \"fpr\": 0.9716520039100685}, {\"threshold\": 0.03, \"tp\": 386, \"fp\": 980, \"fn\": 0, \"tn\": 43, \"tpr\": 1.0, \"fpr\": 0.9579667644183774}, {\"threshold\": 0.04, \"tp\": 386, \"fp\": 966, \"fn\": 0, \"tn\": 57, \"tpr\": 1.0, \"fpr\": 0.9442815249266863}, {\"threshold\": 0.05, \"tp\": 386, \"fp\": 952, \"fn\": 0, \"tn\": 71, \"tpr\": 1.0, \"fpr\": 0.9305962854349951}, {\"threshold\": 0.06, \"tp\": 386, \"fp\": 938, \"fn\": 0, \"tn\": 85, \"tpr\": 1.0, \"fpr\": 0.916911045943304}, {\"threshold\": 0.07, \"tp\": 386, \"fp\": 924, \"fn\": 0, \"tn\": 99, \"tpr\": 1.0, \"fpr\": 0.9032258064516129}, {\"threshold\": 0.08, \"tp\": 386, \"fp\": 910, \"fn\": 0, \"tn\": 113, \"tpr\": 1.0, \"fpr\": 0.8895405669599218}, {\"threshold\": 0.09, \"tp\": 386, \"fp\": 896, \"fn\": 0, \"tn\": 127, \"tpr\": 1.0, \"fpr\": 0.8758553274682307}, {\"threshold\": 0.1, \"tp\": 386, \"fp\": 882, \"fn\": 0, \"tn\": 141, \"tpr\": 1.0, \"fpr\": 0.8621700879765396}, {\"threshold\": 0.11, \"tp\": 386, \"fp\": 868, \"fn\": 0, \"tn\": 155, \"tpr\": 1.0, \"fpr\": 0.8484848484848485}, {\"threshold\": 0.12, \"tp\": 386, \"fp\": 854, \"fn\": 0, \"tn\": 169, \"tpr\": 1.0, \"fpr\": 0.8347996089931574}, {\"threshold\": 0.13, \"tp\": 386, \"fp\": 839, \"fn\": 0, \"tn\": 184, \"tpr\": 1.0, \"fpr\": 0.820136852394917}, {\"threshold\": 0.14, \"tp\": 386, \"fp\": 825, \"fn\": 0, \"tn\": 198, \"tpr\": 1.0, \"fpr\": 0.8064516129032258}, {\"threshold\": 0.15, \"tp\": 386, \"fp\": 811, \"fn\": 0, \"tn\": 212, \"tpr\": 1.0, \"fpr\": 0.7927663734115347}, {\"threshold\": 0.16, \"tp\": 386, \"fp\": 797, \"fn\": 0, \"tn\": 226, \"tpr\": 1.0, \"fpr\": 0.7790811339198436}, {\"threshold\": 0.17, \"tp\": 386, \"fp\": 783, \"fn\": 0, \"tn\": 240, \"tpr\": 1.0, \"fpr\": 0.7653958944281525}, {\"threshold\": 0.18, \"tp\": 386, \"fp\": 769, \"fn\": 0, \"tn\": 254, \"tpr\": 1.0, \"fpr\": 0.7517106549364614}, {\"threshold\": 0.19, \"tp\": 386, \"fp\": 755, \"fn\": 0, \"tn\": 268, \"tpr\": 1.0, \"fpr\": 0.7380254154447703}, {\"threshold\": 0.2, \"tp\": 386, \"fp\": 741, \"fn\": 0, \"tn\": 282, \"tpr\": 1.0, \"fpr\": 0.7243401759530792}, {\"threshold\": 0.21, \"tp\": 386, \"fp\": 727, \"fn\": 0, \"tn\": 296, \"tpr\": 1.0, \"fpr\": 0.7106549364613881}, {\"threshold\": 0.22, \"tp\": 386, \"fp\": 713, \"fn\": 0, \"tn\": 310, \"tpr\": 1.0, \"fpr\": 0.696969696969697}, {\"threshold\": 0.23, \"tp\": 386, \"fp\": 699, \"fn\": 0, \"tn\": 324, \"tpr\": 1.0, \"fpr\": 0.6832844574780058}, {\"threshold\": 0.24, \"tp\": 386, \"fp\": 685, \"fn\": 0, \"tn\": 338, \"tpr\": 1.0, \"fpr\": 0.6695992179863147}, {\"threshold\": 0.25, \"tp\": 386, \"fp\": 671, \"fn\": 0, \"tn\": 352, \"tpr\": 1.0, \"fpr\": 0.6559139784946236}, {\"threshold\": 0.26, \"tp\": 386, \"fp\": 656, \"fn\": 0, \"tn\": 367, \"tpr\": 1.0, \"fpr\": 0.6412512218963832}, {\"threshold\": 0.27, \"tp\": 386, \"fp\": 642, \"fn\": 0, \"tn\": 381, \"tpr\": 1.0, \"fpr\": 0.6275659824046921}, {\"threshold\": 0.28, \"tp\": 386, \"fp\": 628, \"fn\": 0, \"tn\": 395, \"tpr\": 1.0, \"fpr\": 0.613880742913001}, {\"threshold\": 0.29, \"tp\": 386, \"fp\": 614, \"fn\": 0, \"tn\": 409, \"tpr\": 1.0, \"fpr\": 0.6001955034213099}, {\"threshold\": 0.3, \"tp\": 386, \"fp\": 600, \"fn\": 0, \"tn\": 423, \"tpr\": 1.0, \"fpr\": 0.5865102639296188}, {\"threshold\": 0.31, \"tp\": 386, \"fp\": 586, \"fn\": 0, \"tn\": 437, \"tpr\": 1.0, \"fpr\": 0.5728250244379277}, {\"threshold\": 0.32, \"tp\": 386, \"fp\": 572, \"fn\": 0, \"tn\": 451, \"tpr\": 1.0, \"fpr\": 0.5591397849462365}, {\"threshold\": 0.33, \"tp\": 386, \"fp\": 558, \"fn\": 0, \"tn\": 465, \"tpr\": 1.0, \"fpr\": 0.5454545454545454}, {\"threshold\": 0.34, \"tp\": 386, \"fp\": 544, \"fn\": 0, \"tn\": 479, \"tpr\": 1.0, \"fpr\": 0.5317693059628543}, {\"threshold\": 0.35000000000000003, \"tp\": 386, \"fp\": 530, \"fn\": 0, \"tn\": 493, \"tpr\": 1.0, \"fpr\": 0.5180840664711632}, {\"threshold\": 0.36, \"tp\": 386, \"fp\": 516, \"fn\": 0, \"tn\": 507, \"tpr\": 1.0, \"fpr\": 0.5043988269794721}, {\"threshold\": 0.37, \"tp\": 386, \"fp\": 502, \"fn\": 0, \"tn\": 521, \"tpr\": 1.0, \"fpr\": 0.49071358748778104}, {\"threshold\": 0.38, \"tp\": 386, \"fp\": 487, \"fn\": 0, \"tn\": 536, \"tpr\": 1.0, \"fpr\": 0.4760508308895406}, {\"threshold\": 0.39, \"tp\": 386, \"fp\": 473, \"fn\": 0, \"tn\": 550, \"tpr\": 1.0, \"fpr\": 0.46236559139784944}, {\"threshold\": 0.4, \"tp\": 386, \"fp\": 459, \"fn\": 0, \"tn\": 564, \"tpr\": 1.0, \"fpr\": 0.44868035190615835}, {\"threshold\": 0.41000000000000003, \"tp\": 386, \"fp\": 445, \"fn\": 0, \"tn\": 578, \"tpr\": 1.0, \"fpr\": 0.43499511241446726}, {\"threshold\": 0.42, \"tp\": 386, \"fp\": 431, \"fn\": 0, \"tn\": 592, \"tpr\": 1.0, \"fpr\": 0.42130987292277616}, {\"threshold\": 0.43, \"tp\": 386, \"fp\": 417, \"fn\": 0, \"tn\": 606, \"tpr\": 1.0, \"fpr\": 0.40762463343108507}, {\"threshold\": 0.44, \"tp\": 386, \"fp\": 403, \"fn\": 0, \"tn\": 620, \"tpr\": 1.0, \"fpr\": 0.3939393939393939}, {\"threshold\": 0.45, \"tp\": 386, \"fp\": 389, \"fn\": 0, \"tn\": 634, \"tpr\": 1.0, \"fpr\": 0.38025415444770283}, {\"threshold\": 0.46, \"tp\": 386, \"fp\": 375, \"fn\": 0, \"tn\": 648, \"tpr\": 1.0, \"fpr\": 0.36656891495601174}, {\"threshold\": 0.47000000000000003, \"tp\": 386, \"fp\": 361, \"fn\": 0, \"tn\": 662, \"tpr\": 1.0, \"fpr\": 0.35288367546432065}, {\"threshold\": 0.48, \"tp\": 386, \"fp\": 347, \"fn\": 0, \"tn\": 676, \"tpr\": 1.0, \"fpr\": 0.3391984359726295}, {\"threshold\": 0.49, \"tp\": 386, \"fp\": 333, \"fn\": 0, \"tn\": 690, \"tpr\": 1.0, \"fpr\": 0.3255131964809384}, {\"threshold\": 0.5, \"tp\": 386, \"fp\": 319, \"fn\": 0, \"tn\": 704, \"tpr\": 1.0, \"fpr\": 0.3118279569892473}, {\"threshold\": 0.51, \"tp\": 386, \"fp\": 304, \"fn\": 0, \"tn\": 719, \"tpr\": 1.0, \"fpr\": 0.29716520039100686}, {\"threshold\": 0.52, \"tp\": 386, \"fp\": 290, \"fn\": 0, \"tn\": 733, \"tpr\": 1.0, \"fpr\": 0.28347996089931576}, {\"threshold\": 0.53, \"tp\": 386, \"fp\": 276, \"fn\": 0, \"tn\": 747, \"tpr\": 1.0, \"fpr\": 0.2697947214076246}, {\"threshold\": 0.54, \"tp\": 386, \"fp\": 262, \"fn\": 0, \"tn\": 761, \"tpr\": 1.0, \"fpr\": 0.2561094819159335}, {\"threshold\": 0.55, \"tp\": 386, \"fp\": 248, \"fn\": 0, \"tn\": 775, \"tpr\": 1.0, \"fpr\": 0.24242424242424243}, {\"threshold\": 0.56, \"tp\": 386, \"fp\": 234, \"fn\": 0, \"tn\": 789, \"tpr\": 1.0, \"fpr\": 0.2287390029325513}, {\"threshold\": 0.5700000000000001, \"tp\": 386, \"fp\": 220, \"fn\": 0, \"tn\": 803, \"tpr\": 1.0, \"fpr\": 0.21505376344086022}, {\"threshold\": 0.58, \"tp\": 386, \"fp\": 206, \"fn\": 0, \"tn\": 817, \"tpr\": 1.0, \"fpr\": 0.2013685239491691}, {\"threshold\": 0.59, \"tp\": 386, \"fp\": 192, \"fn\": 0, \"tn\": 831, \"tpr\": 1.0, \"fpr\": 0.187683284457478}, {\"threshold\": 0.6, \"tp\": 386, \"fp\": 178, \"fn\": 0, \"tn\": 845, \"tpr\": 1.0, \"fpr\": 0.1739980449657869}, {\"threshold\": 0.61, \"tp\": 386, \"fp\": 164, \"fn\": 0, \"tn\": 859, \"tpr\": 1.0, \"fpr\": 0.1603128054740958}, {\"threshold\": 0.62, \"tp\": 386, \"fp\": 150, \"fn\": 0, \"tn\": 873, \"tpr\": 1.0, \"fpr\": 0.1466275659824047}, {\"threshold\": 0.63, \"tp\": 386, \"fp\": 135, \"fn\": 0, \"tn\": 888, \"tpr\": 1.0, \"fpr\": 0.13196480938416422}, {\"threshold\": 0.64, \"tp\": 386, \"fp\": 121, \"fn\": 0, \"tn\": 902, \"tpr\": 1.0, \"fpr\": 0.11827956989247312}, {\"threshold\": 0.65, \"tp\": 386, \"fp\": 107, \"fn\": 0, \"tn\": 916, \"tpr\": 1.0, \"fpr\": 0.10459433040078202}, {\"threshold\": 0.66, \"tp\": 386, \"fp\": 93, \"fn\": 0, \"tn\": 930, \"tpr\": 1.0, \"fpr\": 0.09090909090909091}, {\"threshold\": 0.67, \"tp\": 386, \"fp\": 79, \"fn\": 0, \"tn\": 944, \"tpr\": 1.0, \"fpr\": 0.0772238514173998}, {\"threshold\": 0.68, \"tp\": 386, \"fp\": 65, \"fn\": 0, \"tn\": 958, \"tpr\": 1.0, \"fpr\": 0.0635386119257087}, {\"threshold\": 0.6900000000000001, \"tp\": 386, \"fp\": 51, \"fn\": 0, \"tn\": 972, \"tpr\": 1.0, \"fpr\": 0.04985337243401759}, {\"threshold\": 0.7000000000000001, \"tp\": 386, \"fp\": 37, \"fn\": 0, \"tn\": 986, \"tpr\": 1.0, \"fpr\": 0.03616813294232649}, {\"threshold\": 0.71, \"tp\": 386, \"fp\": 23, \"fn\": 0, \"tn\": 1000, \"tpr\": 1.0, \"fpr\": 0.022482893450635387}, {\"threshold\": 0.72, \"tp\": 386, \"fp\": 9, \"fn\": 0, \"tn\": 1014, \"tpr\": 1.0, \"fpr\": 0.008797653958944282}, {\"threshold\": 0.73, \"tp\": 381, \"fp\": 0, \"fn\": 5, \"tn\": 1023, \"tpr\": 0.9870466321243523, \"fpr\": 0.0}, {\"threshold\": 0.74, \"tp\": 367, \"fp\": 0, \"fn\": 19, \"tn\": 1023, \"tpr\": 0.9507772020725389, \"fpr\": 0.0}, {\"threshold\": 0.75, \"tp\": 353, \"fp\": 0, \"fn\": 33, \"tn\": 1023, \"tpr\": 0.9145077720207254, \"fpr\": 0.0}, {\"threshold\": 0.76, \"tp\": 338, \"fp\": 0, \"fn\": 48, \"tn\": 1023, \"tpr\": 0.8756476683937824, \"fpr\": 0.0}, {\"threshold\": 0.77, \"tp\": 324, \"fp\": 0, \"fn\": 62, \"tn\": 1023, \"tpr\": 0.8393782383419689, \"fpr\": 0.0}, {\"threshold\": 0.78, \"tp\": 310, \"fp\": 0, \"fn\": 76, \"tn\": 1023, \"tpr\": 0.8031088082901554, \"fpr\": 0.0}, {\"threshold\": 0.79, \"tp\": 296, \"fp\": 0, \"fn\": 90, \"tn\": 1023, \"tpr\": 0.7668393782383419, \"fpr\": 0.0}, {\"threshold\": 0.8, \"tp\": 282, \"fp\": 0, \"fn\": 104, \"tn\": 1023, \"tpr\": 0.7305699481865285, \"fpr\": 0.0}, {\"threshold\": 0.81, \"tp\": 268, \"fp\": 0, \"fn\": 118, \"tn\": 1023, \"tpr\": 0.694300518134715, \"fpr\": 0.0}, {\"threshold\": 0.8200000000000001, \"tp\": 254, \"fp\": 0, \"fn\": 132, \"tn\": 1023, \"tpr\": 0.6580310880829016, \"fpr\": 0.0}, {\"threshold\": 0.8300000000000001, \"tp\": 240, \"fp\": 0, \"fn\": 146, \"tn\": 1023, \"tpr\": 0.6217616580310881, \"fpr\": 0.0}, {\"threshold\": 0.84, \"tp\": 226, \"fp\": 0, \"fn\": 160, \"tn\": 1023, \"tpr\": 0.5854922279792746, \"fpr\": 0.0}, {\"threshold\": 0.85, \"tp\": 212, \"fp\": 0, \"fn\": 174, \"tn\": 1023, \"tpr\": 0.5492227979274611, \"fpr\": 0.0}, {\"threshold\": 0.86, \"tp\": 198, \"fp\": 0, \"fn\": 188, \"tn\": 1023, \"tpr\": 0.5129533678756477, \"fpr\": 0.0}, {\"threshold\": 0.87, \"tp\": 184, \"fp\": 0, \"fn\": 202, \"tn\": 1023, \"tpr\": 0.47668393782383417, \"fpr\": 0.0}, {\"threshold\": 0.88, \"tp\": 169, \"fp\": 0, \"fn\": 217, \"tn\": 1023, \"tpr\": 0.4378238341968912, \"fpr\": 0.0}, {\"threshold\": 0.89, \"tp\": 155, \"fp\": 0, \"fn\": 231, \"tn\": 1023, \"tpr\": 0.4015544041450777, \"fpr\": 0.0}, {\"threshold\": 0.9, \"tp\": 141, \"fp\": 0, \"fn\": 245, \"tn\": 1023, \"tpr\": 0.36528497409326427, \"fpr\": 0.0}, {\"threshold\": 0.91, \"tp\": 127, \"fp\": 0, \"fn\": 259, \"tn\": 1023, \"tpr\": 0.3290155440414508, \"fpr\": 0.0}, {\"threshold\": 0.92, \"tp\": 113, \"fp\": 0, \"fn\": 273, \"tn\": 1023, \"tpr\": 0.2927461139896373, \"fpr\": 0.0}, {\"threshold\": 0.93, \"tp\": 99, \"fp\": 0, \"fn\": 287, \"tn\": 1023, \"tpr\": 0.25647668393782386, \"fpr\": 0.0}, {\"threshold\": 0.9400000000000001, \"tp\": 85, \"fp\": 0, \"fn\": 301, \"tn\": 1023, \"tpr\": 0.22020725388601037, \"fpr\": 0.0}, {\"threshold\": 0.9500000000000001, \"tp\": 71, \"fp\": 0, \"fn\": 315, \"tn\": 1023, \"tpr\": 0.18393782383419688, \"fpr\": 0.0}, {\"threshold\": 0.96, \"tp\": 57, \"fp\": 0, \"fn\": 329, \"tn\": 1023, \"tpr\": 0.14766839378238342, \"fpr\": 0.0}, {\"threshold\": 0.97, \"tp\": 43, \"fp\": 0, \"fn\": 343, \"tn\": 1023, \"tpr\": 0.11139896373056994, \"fpr\": 0.0}, {\"threshold\": 0.98, \"tp\": 29, \"fp\": 0, \"fn\": 357, \"tn\": 1023, \"tpr\": 0.07512953367875648, \"fpr\": 0.0}, {\"threshold\": 0.99, \"tp\": 15, \"fp\": 0, \"fn\": 371, \"tn\": 1023, \"tpr\": 0.038860103626943004, \"fpr\": 0.0}, {\"threshold\": 1.0, \"tp\": 1, \"fp\": 0, \"fn\": 385, \"tn\": 1023, \"tpr\": 0.0025906735751295338, \"fpr\": 0.0}]}}, {\"mode\": \"vega-lite\"});\n",
       "</script>"
      ],
      "text/plain": [
       "alt.LayerChart(...)"
      ]
     },
     "execution_count": 113,
     "metadata": {},
     "output_type": "execute_result"
    }
   ],
   "source": [
    "alt.layer(\n",
    "    alt.Chart(df_scores)\n",
    "    .transform_fold([\"tpr\", \"fpr\"])\n",
    "    .mark_line()\n",
    "    .encode(alt.X(\"threshold:Q\"), alt.Y(\"value:Q\"), alt.Color(\"key:N\")),\n",
    "    # alt.Chart(df_rand)\n",
    "    # .transform_fold([\"tpr\", \"fpr\"])\n",
    "    # .mark_line()\n",
    "    # .encode(alt.X(\"threshold:Q\"), alt.Y(\"value:Q\"), alt.Color(\"key:N\")),\n",
    "    alt.Chart(df_ideal)\n",
    "    .transform_fold([\"tpr\", \"fpr\"])\n",
    "    .mark_line(color=\"black\")\n",
    "    .encode(alt.X(\"threshold:Q\"), alt.Y(\"value:Q\"), alt.Color(\"key:N\")),\n",
    ")"
   ]
  },
  {
   "cell_type": "code",
   "execution_count": 114,
   "metadata": {},
   "outputs": [
    {
     "data": {
      "text/html": [
       "\n",
       "<style>\n",
       "  #altair-viz-9c1f7d3bba054f1aabadfd182ef5fd5c.vega-embed {\n",
       "    width: 100%;\n",
       "    display: flex;\n",
       "  }\n",
       "\n",
       "  #altair-viz-9c1f7d3bba054f1aabadfd182ef5fd5c.vega-embed details,\n",
       "  #altair-viz-9c1f7d3bba054f1aabadfd182ef5fd5c.vega-embed details summary {\n",
       "    position: relative;\n",
       "  }\n",
       "</style>\n",
       "<div id=\"altair-viz-9c1f7d3bba054f1aabadfd182ef5fd5c\"></div>\n",
       "<script type=\"text/javascript\">\n",
       "  var VEGA_DEBUG = (typeof VEGA_DEBUG == \"undefined\") ? {} : VEGA_DEBUG;\n",
       "  (function(spec, embedOpt){\n",
       "    let outputDiv = document.currentScript.previousElementSibling;\n",
       "    if (outputDiv.id !== \"altair-viz-9c1f7d3bba054f1aabadfd182ef5fd5c\") {\n",
       "      outputDiv = document.getElementById(\"altair-viz-9c1f7d3bba054f1aabadfd182ef5fd5c\");\n",
       "    }\n",
       "    const paths = {\n",
       "      \"vega\": \"https://cdn.jsdelivr.net/npm/vega@5?noext\",\n",
       "      \"vega-lib\": \"https://cdn.jsdelivr.net/npm/vega-lib?noext\",\n",
       "      \"vega-lite\": \"https://cdn.jsdelivr.net/npm/vega-lite@5.20.1?noext\",\n",
       "      \"vega-embed\": \"https://cdn.jsdelivr.net/npm/vega-embed@6?noext\",\n",
       "    };\n",
       "\n",
       "    function maybeLoadScript(lib, version) {\n",
       "      var key = `${lib.replace(\"-\", \"\")}_version`;\n",
       "      return (VEGA_DEBUG[key] == version) ?\n",
       "        Promise.resolve(paths[lib]) :\n",
       "        new Promise(function(resolve, reject) {\n",
       "          var s = document.createElement('script');\n",
       "          document.getElementsByTagName(\"head\")[0].appendChild(s);\n",
       "          s.async = true;\n",
       "          s.onload = () => {\n",
       "            VEGA_DEBUG[key] = version;\n",
       "            return resolve(paths[lib]);\n",
       "          };\n",
       "          s.onerror = () => reject(`Error loading script: ${paths[lib]}`);\n",
       "          s.src = paths[lib];\n",
       "        });\n",
       "    }\n",
       "\n",
       "    function showError(err) {\n",
       "      outputDiv.innerHTML = `<div class=\"error\" style=\"color:red;\">${err}</div>`;\n",
       "      throw err;\n",
       "    }\n",
       "\n",
       "    function displayChart(vegaEmbed) {\n",
       "      vegaEmbed(outputDiv, spec, embedOpt)\n",
       "        .catch(err => showError(`Javascript Error: ${err.message}<br>This usually means there's a typo in your chart specification. See the javascript console for the full traceback.`));\n",
       "    }\n",
       "\n",
       "    if(typeof define === \"function\" && define.amd) {\n",
       "      requirejs.config({paths});\n",
       "      require([\"vega-embed\"], displayChart, err => showError(`Error loading script: ${err.message}`));\n",
       "    } else {\n",
       "      maybeLoadScript(\"vega\", \"5\")\n",
       "        .then(() => maybeLoadScript(\"vega-lite\", \"5.20.1\"))\n",
       "        .then(() => maybeLoadScript(\"vega-embed\", \"6\"))\n",
       "        .catch(showError)\n",
       "        .then(() => displayChart(vegaEmbed));\n",
       "    }\n",
       "  })({\"config\": {\"view\": {\"continuousWidth\": 300, \"continuousHeight\": 300}}, \"layer\": [{\"data\": {\"name\": \"data-e69ae8b9f723ffbc4dcf470f2afc992f\"}, \"mark\": {\"type\": \"line\"}, \"encoding\": {\"color\": {}, \"x\": {\"field\": \"fpr\", \"type\": \"quantitative\"}, \"y\": {\"field\": \"tpr\", \"type\": \"quantitative\"}}}, {\"data\": {\"name\": \"data-308e0400440692798be4f2828cbf5e86\"}, \"mark\": {\"type\": \"line\", \"color\": \"orange\"}, \"encoding\": {\"color\": {}, \"x\": {\"field\": \"fpr\", \"type\": \"quantitative\"}, \"y\": {\"field\": \"tpr\", \"type\": \"quantitative\"}}}], \"$schema\": \"https://vega.github.io/schema/vega-lite/v5.20.1.json\", \"datasets\": {\"data-e69ae8b9f723ffbc4dcf470f2afc992f\": [{\"threshold\": 0.0, \"tp\": 386, \"fp\": 1023, \"fn\": 0, \"tn\": 0, \"tpr\": 1.0, \"fpr\": 1.0}, {\"threshold\": 0.01, \"tp\": 385, \"fp\": 916, \"fn\": 1, \"tn\": 107, \"tpr\": 0.9974093264248705, \"fpr\": 0.895405669599218}, {\"threshold\": 0.02, \"tp\": 384, \"fp\": 831, \"fn\": 2, \"tn\": 192, \"tpr\": 0.9948186528497409, \"fpr\": 0.8123167155425219}, {\"threshold\": 0.03, \"tp\": 383, \"fp\": 766, \"fn\": 3, \"tn\": 257, \"tpr\": 0.9922279792746114, \"fpr\": 0.7487781036168133}, {\"threshold\": 0.04, \"tp\": 381, \"fp\": 715, \"fn\": 5, \"tn\": 308, \"tpr\": 0.9870466321243523, \"fpr\": 0.6989247311827957}, {\"threshold\": 0.05, \"tp\": 379, \"fp\": 686, \"fn\": 7, \"tn\": 337, \"tpr\": 0.9818652849740933, \"fpr\": 0.6705767350928641}, {\"threshold\": 0.06, \"tp\": 377, \"fp\": 661, \"fn\": 9, \"tn\": 362, \"tpr\": 0.9766839378238342, \"fpr\": 0.64613880742913}, {\"threshold\": 0.07, \"tp\": 372, \"fp\": 643, \"fn\": 14, \"tn\": 380, \"tpr\": 0.9637305699481865, \"fpr\": 0.6285434995112414}, {\"threshold\": 0.08, \"tp\": 371, \"fp\": 615, \"fn\": 15, \"tn\": 408, \"tpr\": 0.961139896373057, \"fpr\": 0.6011730205278593}, {\"threshold\": 0.09, \"tp\": 369, \"fp\": 582, \"fn\": 17, \"tn\": 441, \"tpr\": 0.9559585492227979, \"fpr\": 0.5689149560117303}, {\"threshold\": 0.1, \"tp\": 366, \"fp\": 556, \"fn\": 20, \"tn\": 467, \"tpr\": 0.9481865284974094, \"fpr\": 0.5434995112414467}, {\"threshold\": 0.11, \"tp\": 365, \"fp\": 528, \"fn\": 21, \"tn\": 495, \"tpr\": 0.9455958549222798, \"fpr\": 0.5161290322580645}, {\"threshold\": 0.12, \"tp\": 364, \"fp\": 512, \"fn\": 22, \"tn\": 511, \"tpr\": 0.9430051813471503, \"fpr\": 0.5004887585532747}, {\"threshold\": 0.13, \"tp\": 360, \"fp\": 477, \"fn\": 26, \"tn\": 546, \"tpr\": 0.9326424870466321, \"fpr\": 0.4662756598240469}, {\"threshold\": 0.14, \"tp\": 355, \"fp\": 453, \"fn\": 31, \"tn\": 570, \"tpr\": 0.9196891191709845, \"fpr\": 0.44281524926686217}, {\"threshold\": 0.15, \"tp\": 351, \"fp\": 435, \"fn\": 35, \"tn\": 588, \"tpr\": 0.9093264248704663, \"fpr\": 0.4252199413489736}, {\"threshold\": 0.16, \"tp\": 347, \"fp\": 424, \"fn\": 39, \"tn\": 599, \"tpr\": 0.8989637305699482, \"fpr\": 0.4144672531769306}, {\"threshold\": 0.17, \"tp\": 346, \"fp\": 401, \"fn\": 40, \"tn\": 622, \"tpr\": 0.8963730569948186, \"fpr\": 0.3919843597262952}, {\"threshold\": 0.18, \"tp\": 344, \"fp\": 384, \"fn\": 42, \"tn\": 639, \"tpr\": 0.8911917098445595, \"fpr\": 0.375366568914956}, {\"threshold\": 0.19, \"tp\": 339, \"fp\": 368, \"fn\": 47, \"tn\": 655, \"tpr\": 0.8782383419689119, \"fpr\": 0.3597262952101662}, {\"threshold\": 0.2, \"tp\": 333, \"fp\": 357, \"fn\": 53, \"tn\": 666, \"tpr\": 0.8626943005181347, \"fpr\": 0.3489736070381232}, {\"threshold\": 0.21, \"tp\": 329, \"fp\": 341, \"fn\": 57, \"tn\": 682, \"tpr\": 0.8523316062176166, \"fpr\": 0.3333333333333333}, {\"threshold\": 0.22, \"tp\": 323, \"fp\": 323, \"fn\": 63, \"tn\": 700, \"tpr\": 0.8367875647668394, \"fpr\": 0.31573802541544477}, {\"threshold\": 0.23, \"tp\": 320, \"fp\": 313, \"fn\": 66, \"tn\": 710, \"tpr\": 0.8290155440414507, \"fpr\": 0.30596285434995113}, {\"threshold\": 0.24, \"tp\": 315, \"fp\": 304, \"fn\": 71, \"tn\": 719, \"tpr\": 0.8160621761658031, \"fpr\": 0.29716520039100686}, {\"threshold\": 0.25, \"tp\": 309, \"fp\": 294, \"fn\": 77, \"tn\": 729, \"tpr\": 0.8005181347150259, \"fpr\": 0.2873900293255132}, {\"threshold\": 0.26, \"tp\": 304, \"fp\": 281, \"fn\": 82, \"tn\": 742, \"tpr\": 0.7875647668393783, \"fpr\": 0.27468230694037143}, {\"threshold\": 0.27, \"tp\": 303, \"fp\": 270, \"fn\": 83, \"tn\": 753, \"tpr\": 0.7849740932642487, \"fpr\": 0.26392961876832843}, {\"threshold\": 0.28, \"tp\": 295, \"fp\": 257, \"fn\": 91, \"tn\": 766, \"tpr\": 0.7642487046632125, \"fpr\": 0.2512218963831867}, {\"threshold\": 0.29, \"tp\": 292, \"fp\": 245, \"fn\": 94, \"tn\": 778, \"tpr\": 0.7564766839378239, \"fpr\": 0.23949169110459434}, {\"threshold\": 0.3, \"tp\": 284, \"fp\": 236, \"fn\": 102, \"tn\": 787, \"tpr\": 0.7357512953367875, \"fpr\": 0.23069403714565004}, {\"threshold\": 0.31, \"tp\": 280, \"fp\": 230, \"fn\": 106, \"tn\": 793, \"tpr\": 0.7253886010362695, \"fpr\": 0.22482893450635386}, {\"threshold\": 0.32, \"tp\": 278, \"fp\": 226, \"fn\": 108, \"tn\": 797, \"tpr\": 0.7202072538860104, \"fpr\": 0.2209188660801564}, {\"threshold\": 0.33, \"tp\": 276, \"fp\": 221, \"fn\": 110, \"tn\": 802, \"tpr\": 0.7150259067357513, \"fpr\": 0.21603128054740958}, {\"threshold\": 0.34, \"tp\": 274, \"fp\": 212, \"fn\": 112, \"tn\": 811, \"tpr\": 0.7098445595854922, \"fpr\": 0.2072336265884653}, {\"threshold\": 0.35000000000000003, \"tp\": 272, \"fp\": 206, \"fn\": 114, \"tn\": 817, \"tpr\": 0.7046632124352331, \"fpr\": 0.2013685239491691}, {\"threshold\": 0.36, \"tp\": 267, \"fp\": 201, \"fn\": 119, \"tn\": 822, \"tpr\": 0.6917098445595855, \"fpr\": 0.19648093841642228}, {\"threshold\": 0.37, \"tp\": 265, \"fp\": 198, \"fn\": 121, \"tn\": 825, \"tpr\": 0.6865284974093264, \"fpr\": 0.1935483870967742}, {\"threshold\": 0.38, \"tp\": 260, \"fp\": 186, \"fn\": 126, \"tn\": 837, \"tpr\": 0.6735751295336787, \"fpr\": 0.18181818181818182}, {\"threshold\": 0.39, \"tp\": 254, \"fp\": 178, \"fn\": 132, \"tn\": 845, \"tpr\": 0.6580310880829016, \"fpr\": 0.1739980449657869}, {\"threshold\": 0.4, \"tp\": 249, \"fp\": 166, \"fn\": 137, \"tn\": 857, \"tpr\": 0.6450777202072538, \"fpr\": 0.16226783968719452}, {\"threshold\": 0.41000000000000003, \"tp\": 246, \"fp\": 159, \"fn\": 140, \"tn\": 864, \"tpr\": 0.6373056994818653, \"fpr\": 0.15542521994134897}, {\"threshold\": 0.42, \"tp\": 243, \"fp\": 156, \"fn\": 143, \"tn\": 867, \"tpr\": 0.6295336787564767, \"fpr\": 0.15249266862170088}, {\"threshold\": 0.43, \"tp\": 241, \"fp\": 150, \"fn\": 145, \"tn\": 873, \"tpr\": 0.6243523316062176, \"fpr\": 0.1466275659824047}, {\"threshold\": 0.44, \"tp\": 234, \"fp\": 147, \"fn\": 152, \"tn\": 876, \"tpr\": 0.6062176165803109, \"fpr\": 0.1436950146627566}, {\"threshold\": 0.45, \"tp\": 228, \"fp\": 135, \"fn\": 158, \"tn\": 888, \"tpr\": 0.5906735751295337, \"fpr\": 0.13196480938416422}, {\"threshold\": 0.46, \"tp\": 224, \"fp\": 125, \"fn\": 162, \"tn\": 898, \"tpr\": 0.5803108808290155, \"fpr\": 0.12218963831867058}, {\"threshold\": 0.47000000000000003, \"tp\": 218, \"fp\": 119, \"fn\": 168, \"tn\": 904, \"tpr\": 0.5647668393782384, \"fpr\": 0.11632453567937438}, {\"threshold\": 0.48, \"tp\": 217, \"fp\": 115, \"fn\": 169, \"tn\": 908, \"tpr\": 0.5621761658031088, \"fpr\": 0.11241446725317693}, {\"threshold\": 0.49, \"tp\": 213, \"fp\": 109, \"fn\": 173, \"tn\": 914, \"tpr\": 0.5518134715025906, \"fpr\": 0.10654936461388075}, {\"threshold\": 0.5, \"tp\": 210, \"fp\": 102, \"fn\": 176, \"tn\": 921, \"tpr\": 0.5440414507772021, \"fpr\": 0.09970674486803519}, {\"threshold\": 0.51, \"tp\": 207, \"fp\": 99, \"fn\": 179, \"tn\": 924, \"tpr\": 0.5362694300518135, \"fpr\": 0.0967741935483871}, {\"threshold\": 0.52, \"tp\": 204, \"fp\": 93, \"fn\": 182, \"tn\": 930, \"tpr\": 0.5284974093264249, \"fpr\": 0.09090909090909091}, {\"threshold\": 0.53, \"tp\": 195, \"fp\": 91, \"fn\": 191, \"tn\": 932, \"tpr\": 0.5051813471502591, \"fpr\": 0.08895405669599218}, {\"threshold\": 0.54, \"tp\": 193, \"fp\": 85, \"fn\": 193, \"tn\": 938, \"tpr\": 0.5, \"fpr\": 0.08308895405669599}, {\"threshold\": 0.55, \"tp\": 185, \"fp\": 79, \"fn\": 201, \"tn\": 944, \"tpr\": 0.4792746113989637, \"fpr\": 0.0772238514173998}, {\"threshold\": 0.56, \"tp\": 182, \"fp\": 75, \"fn\": 204, \"tn\": 948, \"tpr\": 0.47150259067357514, \"fpr\": 0.07331378299120235}, {\"threshold\": 0.5700000000000001, \"tp\": 177, \"fp\": 67, \"fn\": 209, \"tn\": 956, \"tpr\": 0.4585492227979275, \"fpr\": 0.06549364613880743}, {\"threshold\": 0.58, \"tp\": 170, \"fp\": 61, \"fn\": 216, \"tn\": 962, \"tpr\": 0.44041450777202074, \"fpr\": 0.059628543499511244}, {\"threshold\": 0.59, \"tp\": 161, \"fp\": 59, \"fn\": 225, \"tn\": 964, \"tpr\": 0.4170984455958549, \"fpr\": 0.05767350928641251}, {\"threshold\": 0.6, \"tp\": 150, \"fp\": 53, \"fn\": 236, \"tn\": 970, \"tpr\": 0.38860103626943004, \"fpr\": 0.05180840664711633}, {\"threshold\": 0.61, \"tp\": 145, \"fp\": 49, \"fn\": 241, \"tn\": 974, \"tpr\": 0.3756476683937824, \"fpr\": 0.047898338220918865}, {\"threshold\": 0.62, \"tp\": 140, \"fp\": 46, \"fn\": 246, \"tn\": 977, \"tpr\": 0.3626943005181347, \"fpr\": 0.044965786901270774}, {\"threshold\": 0.63, \"tp\": 132, \"fp\": 39, \"fn\": 254, \"tn\": 984, \"tpr\": 0.34196891191709844, \"fpr\": 0.03812316715542522}, {\"threshold\": 0.64, \"tp\": 123, \"fp\": 37, \"fn\": 263, \"tn\": 986, \"tpr\": 0.31865284974093266, \"fpr\": 0.03616813294232649}, {\"threshold\": 0.65, \"tp\": 119, \"fp\": 34, \"fn\": 267, \"tn\": 989, \"tpr\": 0.3082901554404145, \"fpr\": 0.033235581622678395}, {\"threshold\": 0.66, \"tp\": 114, \"fp\": 30, \"fn\": 272, \"tn\": 993, \"tpr\": 0.29533678756476683, \"fpr\": 0.02932551319648094}, {\"threshold\": 0.67, \"tp\": 103, \"fp\": 29, \"fn\": 283, \"tn\": 994, \"tpr\": 0.266839378238342, \"fpr\": 0.028347996089931573}, {\"threshold\": 0.68, \"tp\": 93, \"fp\": 26, \"fn\": 293, \"tn\": 997, \"tpr\": 0.24093264248704663, \"fpr\": 0.02541544477028348}, {\"threshold\": 0.6900000000000001, \"tp\": 87, \"fp\": 25, \"fn\": 299, \"tn\": 998, \"tpr\": 0.22538860103626943, \"fpr\": 0.024437927663734114}, {\"threshold\": 0.7000000000000001, \"tp\": 75, \"fp\": 19, \"fn\": 311, \"tn\": 1004, \"tpr\": 0.19430051813471502, \"fpr\": 0.01857282502443793}, {\"threshold\": 0.71, \"tp\": 63, \"fp\": 13, \"fn\": 323, \"tn\": 1010, \"tpr\": 0.16321243523316062, \"fpr\": 0.01270772238514174}, {\"threshold\": 0.72, \"tp\": 57, \"fp\": 11, \"fn\": 329, \"tn\": 1012, \"tpr\": 0.14766839378238342, \"fpr\": 0.010752688172043012}, {\"threshold\": 0.73, \"tp\": 47, \"fp\": 8, \"fn\": 339, \"tn\": 1015, \"tpr\": 0.12176165803108809, \"fpr\": 0.007820136852394917}, {\"threshold\": 0.74, \"tp\": 40, \"fp\": 8, \"fn\": 346, \"tn\": 1015, \"tpr\": 0.10362694300518134, \"fpr\": 0.007820136852394917}, {\"threshold\": 0.75, \"tp\": 33, \"fp\": 7, \"fn\": 353, \"tn\": 1016, \"tpr\": 0.08549222797927461, \"fpr\": 0.006842619745845552}, {\"threshold\": 0.76, \"tp\": 30, \"fp\": 6, \"fn\": 356, \"tn\": 1017, \"tpr\": 0.07772020725388601, \"fpr\": 0.005865102639296188}, {\"threshold\": 0.77, \"tp\": 24, \"fp\": 5, \"fn\": 362, \"tn\": 1018, \"tpr\": 0.06217616580310881, \"fpr\": 0.004887585532746823}, {\"threshold\": 0.78, \"tp\": 18, \"fp\": 3, \"fn\": 368, \"tn\": 1020, \"tpr\": 0.046632124352331605, \"fpr\": 0.002932551319648094}, {\"threshold\": 0.79, \"tp\": 15, \"fp\": 2, \"fn\": 371, \"tn\": 1021, \"tpr\": 0.038860103626943004, \"fpr\": 0.0019550342130987292}, {\"threshold\": 0.8, \"tp\": 12, \"fp\": 1, \"fn\": 374, \"tn\": 1022, \"tpr\": 0.031088082901554404, \"fpr\": 0.0009775171065493646}, {\"threshold\": 0.81, \"tp\": 6, \"fp\": 0, \"fn\": 380, \"tn\": 1023, \"tpr\": 0.015544041450777202, \"fpr\": 0.0}, {\"threshold\": 0.8200000000000001, \"tp\": 5, \"fp\": 0, \"fn\": 381, \"tn\": 1023, \"tpr\": 0.012953367875647668, \"fpr\": 0.0}, {\"threshold\": 0.8300000000000001, \"tp\": 3, \"fp\": 0, \"fn\": 383, \"tn\": 1023, \"tpr\": 0.007772020725388601, \"fpr\": 0.0}, {\"threshold\": 0.84, \"tp\": 0, \"fp\": 0, \"fn\": 386, \"tn\": 1023, \"tpr\": 0.0, \"fpr\": 0.0}, {\"threshold\": 0.85, \"tp\": 0, \"fp\": 0, \"fn\": 386, \"tn\": 1023, \"tpr\": 0.0, \"fpr\": 0.0}, {\"threshold\": 0.86, \"tp\": 0, \"fp\": 0, \"fn\": 386, \"tn\": 1023, \"tpr\": 0.0, \"fpr\": 0.0}, {\"threshold\": 0.87, \"tp\": 0, \"fp\": 0, \"fn\": 386, \"tn\": 1023, \"tpr\": 0.0, \"fpr\": 0.0}, {\"threshold\": 0.88, \"tp\": 0, \"fp\": 0, \"fn\": 386, \"tn\": 1023, \"tpr\": 0.0, \"fpr\": 0.0}, {\"threshold\": 0.89, \"tp\": 0, \"fp\": 0, \"fn\": 386, \"tn\": 1023, \"tpr\": 0.0, \"fpr\": 0.0}, {\"threshold\": 0.9, \"tp\": 0, \"fp\": 0, \"fn\": 386, \"tn\": 1023, \"tpr\": 0.0, \"fpr\": 0.0}, {\"threshold\": 0.91, \"tp\": 0, \"fp\": 0, \"fn\": 386, \"tn\": 1023, \"tpr\": 0.0, \"fpr\": 0.0}, {\"threshold\": 0.92, \"tp\": 0, \"fp\": 0, \"fn\": 386, \"tn\": 1023, \"tpr\": 0.0, \"fpr\": 0.0}, {\"threshold\": 0.93, \"tp\": 0, \"fp\": 0, \"fn\": 386, \"tn\": 1023, \"tpr\": 0.0, \"fpr\": 0.0}, {\"threshold\": 0.9400000000000001, \"tp\": 0, \"fp\": 0, \"fn\": 386, \"tn\": 1023, \"tpr\": 0.0, \"fpr\": 0.0}, {\"threshold\": 0.9500000000000001, \"tp\": 0, \"fp\": 0, \"fn\": 386, \"tn\": 1023, \"tpr\": 0.0, \"fpr\": 0.0}, {\"threshold\": 0.96, \"tp\": 0, \"fp\": 0, \"fn\": 386, \"tn\": 1023, \"tpr\": 0.0, \"fpr\": 0.0}, {\"threshold\": 0.97, \"tp\": 0, \"fp\": 0, \"fn\": 386, \"tn\": 1023, \"tpr\": 0.0, \"fpr\": 0.0}, {\"threshold\": 0.98, \"tp\": 0, \"fp\": 0, \"fn\": 386, \"tn\": 1023, \"tpr\": 0.0, \"fpr\": 0.0}, {\"threshold\": 0.99, \"tp\": 0, \"fp\": 0, \"fn\": 386, \"tn\": 1023, \"tpr\": 0.0, \"fpr\": 0.0}, {\"threshold\": 1.0, \"tp\": 0, \"fp\": 0, \"fn\": 386, \"tn\": 1023, \"tpr\": 0.0, \"fpr\": 0.0}], \"data-308e0400440692798be4f2828cbf5e86\": [{\"threshold\": 0.0, \"tp\": 386, \"fp\": 1023, \"fn\": 0, \"tn\": 0, \"tpr\": 1.0, \"fpr\": 1.0}, {\"threshold\": 0.01, \"tp\": 382, \"fp\": 1013, \"fn\": 4, \"tn\": 10, \"tpr\": 0.9896373056994818, \"fpr\": 0.9902248289345064}, {\"threshold\": 0.02, \"tp\": 379, \"fp\": 993, \"fn\": 7, \"tn\": 30, \"tpr\": 0.9818652849740933, \"fpr\": 0.9706744868035191}, {\"threshold\": 0.03, \"tp\": 375, \"fp\": 979, \"fn\": 11, \"tn\": 44, \"tpr\": 0.9715025906735751, \"fpr\": 0.956989247311828}, {\"threshold\": 0.04, \"tp\": 372, \"fp\": 969, \"fn\": 14, \"tn\": 54, \"tpr\": 0.9637305699481865, \"fpr\": 0.9472140762463344}, {\"threshold\": 0.05, \"tp\": 368, \"fp\": 966, \"fn\": 18, \"tn\": 57, \"tpr\": 0.9533678756476683, \"fpr\": 0.9442815249266863}, {\"threshold\": 0.06, \"tp\": 361, \"fp\": 959, \"fn\": 25, \"tn\": 64, \"tpr\": 0.9352331606217616, \"fpr\": 0.9374389051808406}, {\"threshold\": 0.07, \"tp\": 354, \"fp\": 952, \"fn\": 32, \"tn\": 71, \"tpr\": 0.917098445595855, \"fpr\": 0.9305962854349951}, {\"threshold\": 0.08, \"tp\": 353, \"fp\": 935, \"fn\": 33, \"tn\": 88, \"tpr\": 0.9145077720207254, \"fpr\": 0.9139784946236559}, {\"threshold\": 0.09, \"tp\": 350, \"fp\": 927, \"fn\": 36, \"tn\": 96, \"tpr\": 0.9067357512953368, \"fpr\": 0.906158357771261}, {\"threshold\": 0.1, \"tp\": 347, \"fp\": 923, \"fn\": 39, \"tn\": 100, \"tpr\": 0.8989637305699482, \"fpr\": 0.9022482893450635}, {\"threshold\": 0.11, \"tp\": 342, \"fp\": 916, \"fn\": 44, \"tn\": 107, \"tpr\": 0.8860103626943006, \"fpr\": 0.895405669599218}, {\"threshold\": 0.12, \"tp\": 339, \"fp\": 910, \"fn\": 47, \"tn\": 113, \"tpr\": 0.8782383419689119, \"fpr\": 0.8895405669599218}, {\"threshold\": 0.13, \"tp\": 334, \"fp\": 900, \"fn\": 52, \"tn\": 123, \"tpr\": 0.8652849740932642, \"fpr\": 0.8797653958944281}, {\"threshold\": 0.14, \"tp\": 327, \"fp\": 888, \"fn\": 59, \"tn\": 135, \"tpr\": 0.8471502590673575, \"fpr\": 0.8680351906158358}, {\"threshold\": 0.15, \"tp\": 320, \"fp\": 875, \"fn\": 66, \"tn\": 148, \"tpr\": 0.8290155440414507, \"fpr\": 0.855327468230694}, {\"threshold\": 0.16, \"tp\": 320, \"fp\": 866, \"fn\": 66, \"tn\": 157, \"tpr\": 0.8290155440414507, \"fpr\": 0.8465298142717498}, {\"threshold\": 0.17, \"tp\": 318, \"fp\": 859, \"fn\": 68, \"tn\": 164, \"tpr\": 0.8238341968911918, \"fpr\": 0.8396871945259042}, {\"threshold\": 0.18, \"tp\": 316, \"fp\": 847, \"fn\": 70, \"tn\": 176, \"tpr\": 0.8186528497409327, \"fpr\": 0.8279569892473119}, {\"threshold\": 0.19, \"tp\": 312, \"fp\": 835, \"fn\": 74, \"tn\": 188, \"tpr\": 0.8082901554404145, \"fpr\": 0.8162267839687195}, {\"threshold\": 0.2, \"tp\": 307, \"fp\": 822, \"fn\": 79, \"tn\": 201, \"tpr\": 0.7953367875647669, \"fpr\": 0.8035190615835777}, {\"threshold\": 0.21, \"tp\": 303, \"fp\": 815, \"fn\": 83, \"tn\": 208, \"tpr\": 0.7849740932642487, \"fpr\": 0.7966764418377321}, {\"threshold\": 0.22, \"tp\": 300, \"fp\": 807, \"fn\": 86, \"tn\": 216, \"tpr\": 0.7772020725388601, \"fpr\": 0.7888563049853372}, {\"threshold\": 0.23, \"tp\": 296, \"fp\": 794, \"fn\": 90, \"tn\": 229, \"tpr\": 0.7668393782383419, \"fpr\": 0.7761485826001955}, {\"threshold\": 0.24, \"tp\": 295, \"fp\": 779, \"fn\": 91, \"tn\": 244, \"tpr\": 0.7642487046632125, \"fpr\": 0.761485826001955}, {\"threshold\": 0.25, \"tp\": 291, \"fp\": 771, \"fn\": 95, \"tn\": 252, \"tpr\": 0.7538860103626943, \"fpr\": 0.7536656891495601}, {\"threshold\": 0.26, \"tp\": 287, \"fp\": 761, \"fn\": 99, \"tn\": 262, \"tpr\": 0.7435233160621761, \"fpr\": 0.7438905180840665}, {\"threshold\": 0.27, \"tp\": 285, \"fp\": 747, \"fn\": 101, \"tn\": 276, \"tpr\": 0.7383419689119171, \"fpr\": 0.7302052785923754}, {\"threshold\": 0.28, \"tp\": 283, \"fp\": 740, \"fn\": 103, \"tn\": 283, \"tpr\": 0.7331606217616581, \"fpr\": 0.7233626588465298}, {\"threshold\": 0.29, \"tp\": 280, \"fp\": 733, \"fn\": 106, \"tn\": 290, \"tpr\": 0.7253886010362695, \"fpr\": 0.7165200391006843}, {\"threshold\": 0.3, \"tp\": 276, \"fp\": 724, \"fn\": 110, \"tn\": 299, \"tpr\": 0.7150259067357513, \"fpr\": 0.70772238514174}, {\"threshold\": 0.31, \"tp\": 270, \"fp\": 718, \"fn\": 116, \"tn\": 305, \"tpr\": 0.6994818652849741, \"fpr\": 0.7018572825024438}, {\"threshold\": 0.32, \"tp\": 267, \"fp\": 707, \"fn\": 119, \"tn\": 316, \"tpr\": 0.6917098445595855, \"fpr\": 0.6911045943304008}, {\"threshold\": 0.33, \"tp\": 264, \"fp\": 690, \"fn\": 122, \"tn\": 333, \"tpr\": 0.6839378238341969, \"fpr\": 0.6744868035190615}, {\"threshold\": 0.34, \"tp\": 262, \"fp\": 682, \"fn\": 124, \"tn\": 341, \"tpr\": 0.6787564766839378, \"fpr\": 0.6666666666666666}, {\"threshold\": 0.35000000000000003, \"tp\": 253, \"fp\": 670, \"fn\": 133, \"tn\": 353, \"tpr\": 0.655440414507772, \"fpr\": 0.6549364613880743}, {\"threshold\": 0.36, \"tp\": 250, \"fp\": 660, \"fn\": 136, \"tn\": 363, \"tpr\": 0.6476683937823834, \"fpr\": 0.6451612903225806}, {\"threshold\": 0.37, \"tp\": 250, \"fp\": 654, \"fn\": 136, \"tn\": 369, \"tpr\": 0.6476683937823834, \"fpr\": 0.6392961876832844}, {\"threshold\": 0.38, \"tp\": 245, \"fp\": 643, \"fn\": 141, \"tn\": 380, \"tpr\": 0.6347150259067358, \"fpr\": 0.6285434995112414}, {\"threshold\": 0.39, \"tp\": 241, \"fp\": 635, \"fn\": 145, \"tn\": 388, \"tpr\": 0.6243523316062176, \"fpr\": 0.6207233626588465}, {\"threshold\": 0.4, \"tp\": 237, \"fp\": 624, \"fn\": 149, \"tn\": 399, \"tpr\": 0.6139896373056994, \"fpr\": 0.6099706744868035}, {\"threshold\": 0.41000000000000003, \"tp\": 234, \"fp\": 614, \"fn\": 152, \"tn\": 409, \"tpr\": 0.6062176165803109, \"fpr\": 0.6001955034213099}, {\"threshold\": 0.42, \"tp\": 230, \"fp\": 605, \"fn\": 156, \"tn\": 418, \"tpr\": 0.5958549222797928, \"fpr\": 0.5913978494623656}, {\"threshold\": 0.43, \"tp\": 224, \"fp\": 590, \"fn\": 162, \"tn\": 433, \"tpr\": 0.5803108808290155, \"fpr\": 0.5767350928641252}, {\"threshold\": 0.44, \"tp\": 219, \"fp\": 583, \"fn\": 167, \"tn\": 440, \"tpr\": 0.5673575129533679, \"fpr\": 0.5698924731182796}, {\"threshold\": 0.45, \"tp\": 217, \"fp\": 571, \"fn\": 169, \"tn\": 452, \"tpr\": 0.5621761658031088, \"fpr\": 0.5581622678396871}, {\"threshold\": 0.46, \"tp\": 216, \"fp\": 555, \"fn\": 170, \"tn\": 468, \"tpr\": 0.5595854922279793, \"fpr\": 0.5425219941348973}, {\"threshold\": 0.47000000000000003, \"tp\": 213, \"fp\": 545, \"fn\": 173, \"tn\": 478, \"tpr\": 0.5518134715025906, \"fpr\": 0.5327468230694037}, {\"threshold\": 0.48, \"tp\": 210, \"fp\": 537, \"fn\": 176, \"tn\": 486, \"tpr\": 0.5440414507772021, \"fpr\": 0.5249266862170088}, {\"threshold\": 0.49, \"tp\": 208, \"fp\": 527, \"fn\": 178, \"tn\": 496, \"tpr\": 0.538860103626943, \"fpr\": 0.5151515151515151}, {\"threshold\": 0.5, \"tp\": 202, \"fp\": 518, \"fn\": 184, \"tn\": 505, \"tpr\": 0.5233160621761658, \"fpr\": 0.5063538611925709}, {\"threshold\": 0.51, \"tp\": 197, \"fp\": 511, \"fn\": 189, \"tn\": 512, \"tpr\": 0.5103626943005182, \"fpr\": 0.4995112414467253}, {\"threshold\": 0.52, \"tp\": 190, \"fp\": 501, \"fn\": 196, \"tn\": 522, \"tpr\": 0.49222797927461137, \"fpr\": 0.4897360703812317}, {\"threshold\": 0.53, \"tp\": 184, \"fp\": 492, \"fn\": 202, \"tn\": 531, \"tpr\": 0.47668393782383417, \"fpr\": 0.4809384164222874}, {\"threshold\": 0.54, \"tp\": 178, \"fp\": 482, \"fn\": 208, \"tn\": 541, \"tpr\": 0.46113989637305697, \"fpr\": 0.47116324535679377}, {\"threshold\": 0.55, \"tp\": 176, \"fp\": 471, \"fn\": 210, \"tn\": 552, \"tpr\": 0.45595854922279794, \"fpr\": 0.4604105571847507}, {\"threshold\": 0.56, \"tp\": 176, \"fp\": 456, \"fn\": 210, \"tn\": 567, \"tpr\": 0.45595854922279794, \"fpr\": 0.44574780058651026}, {\"threshold\": 0.5700000000000001, \"tp\": 172, \"fp\": 449, \"fn\": 214, \"tn\": 574, \"tpr\": 0.44559585492227977, \"fpr\": 0.4389051808406647}, {\"threshold\": 0.58, \"tp\": 168, \"fp\": 437, \"fn\": 218, \"tn\": 586, \"tpr\": 0.43523316062176165, \"fpr\": 0.42717497556207235}, {\"threshold\": 0.59, \"tp\": 164, \"fp\": 424, \"fn\": 222, \"tn\": 599, \"tpr\": 0.42487046632124353, \"fpr\": 0.4144672531769306}, {\"threshold\": 0.6, \"tp\": 161, \"fp\": 409, \"fn\": 225, \"tn\": 614, \"tpr\": 0.4170984455958549, \"fpr\": 0.3998044965786901}, {\"threshold\": 0.61, \"tp\": 160, \"fp\": 395, \"fn\": 226, \"tn\": 628, \"tpr\": 0.41450777202072536, \"fpr\": 0.386119257086999}, {\"threshold\": 0.62, \"tp\": 156, \"fp\": 380, \"fn\": 230, \"tn\": 643, \"tpr\": 0.40414507772020725, \"fpr\": 0.37145650048875856}, {\"threshold\": 0.63, \"tp\": 151, \"fp\": 369, \"fn\": 235, \"tn\": 654, \"tpr\": 0.3911917098445596, \"fpr\": 0.36070381231671556}, {\"threshold\": 0.64, \"tp\": 147, \"fp\": 359, \"fn\": 239, \"tn\": 664, \"tpr\": 0.38082901554404147, \"fpr\": 0.3509286412512219}, {\"threshold\": 0.65, \"tp\": 144, \"fp\": 352, \"fn\": 242, \"tn\": 671, \"tpr\": 0.37305699481865284, \"fpr\": 0.34408602150537637}, {\"threshold\": 0.66, \"tp\": 143, \"fp\": 346, \"fn\": 243, \"tn\": 677, \"tpr\": 0.3704663212435233, \"fpr\": 0.33822091886608013}, {\"threshold\": 0.67, \"tp\": 140, \"fp\": 339, \"fn\": 246, \"tn\": 684, \"tpr\": 0.3626943005181347, \"fpr\": 0.3313782991202346}, {\"threshold\": 0.68, \"tp\": 132, \"fp\": 328, \"fn\": 254, \"tn\": 695, \"tpr\": 0.34196891191709844, \"fpr\": 0.3206256109481916}, {\"threshold\": 0.6900000000000001, \"tp\": 129, \"fp\": 315, \"fn\": 257, \"tn\": 708, \"tpr\": 0.33419689119170987, \"fpr\": 0.30791788856304986}, {\"threshold\": 0.7000000000000001, \"tp\": 121, \"fp\": 302, \"fn\": 265, \"tn\": 721, \"tpr\": 0.3134715025906736, \"fpr\": 0.29521016617790813}, {\"threshold\": 0.71, \"tp\": 117, \"fp\": 293, \"fn\": 269, \"tn\": 730, \"tpr\": 0.30310880829015546, \"fpr\": 0.28641251221896386}, {\"threshold\": 0.72, \"tp\": 113, \"fp\": 287, \"fn\": 273, \"tn\": 736, \"tpr\": 0.2927461139896373, \"fpr\": 0.2805474095796676}, {\"threshold\": 0.73, \"tp\": 110, \"fp\": 279, \"fn\": 276, \"tn\": 744, \"tpr\": 0.2849740932642487, \"fpr\": 0.2727272727272727}, {\"threshold\": 0.74, \"tp\": 107, \"fp\": 273, \"fn\": 279, \"tn\": 750, \"tpr\": 0.2772020725388601, \"fpr\": 0.2668621700879765}, {\"threshold\": 0.75, \"tp\": 105, \"fp\": 260, \"fn\": 281, \"tn\": 763, \"tpr\": 0.27202072538860106, \"fpr\": 0.2541544477028348}, {\"threshold\": 0.76, \"tp\": 96, \"fp\": 246, \"fn\": 290, \"tn\": 777, \"tpr\": 0.24870466321243523, \"fpr\": 0.2404692082111437}, {\"threshold\": 0.77, \"tp\": 94, \"fp\": 235, \"fn\": 292, \"tn\": 788, \"tpr\": 0.24352331606217617, \"fpr\": 0.22971652003910067}, {\"threshold\": 0.78, \"tp\": 92, \"fp\": 220, \"fn\": 294, \"tn\": 803, \"tpr\": 0.23834196891191708, \"fpr\": 0.21505376344086022}, {\"threshold\": 0.79, \"tp\": 85, \"fp\": 213, \"fn\": 301, \"tn\": 810, \"tpr\": 0.22020725388601037, \"fpr\": 0.20821114369501467}, {\"threshold\": 0.8, \"tp\": 78, \"fp\": 206, \"fn\": 308, \"tn\": 817, \"tpr\": 0.20207253886010362, \"fpr\": 0.2013685239491691}, {\"threshold\": 0.81, \"tp\": 73, \"fp\": 193, \"fn\": 313, \"tn\": 830, \"tpr\": 0.18911917098445596, \"fpr\": 0.18866080156402737}, {\"threshold\": 0.8200000000000001, \"tp\": 71, \"fp\": 186, \"fn\": 315, \"tn\": 837, \"tpr\": 0.18393782383419688, \"fpr\": 0.18181818181818182}, {\"threshold\": 0.8300000000000001, \"tp\": 68, \"fp\": 174, \"fn\": 318, \"tn\": 849, \"tpr\": 0.17616580310880828, \"fpr\": 0.17008797653958943}, {\"threshold\": 0.84, \"tp\": 67, \"fp\": 167, \"fn\": 319, \"tn\": 856, \"tpr\": 0.17357512953367876, \"fpr\": 0.16324535679374388}, {\"threshold\": 0.85, \"tp\": 64, \"fp\": 150, \"fn\": 322, \"tn\": 873, \"tpr\": 0.16580310880829016, \"fpr\": 0.1466275659824047}, {\"threshold\": 0.86, \"tp\": 60, \"fp\": 140, \"fn\": 326, \"tn\": 883, \"tpr\": 0.15544041450777202, \"fpr\": 0.13685239491691104}, {\"threshold\": 0.87, \"tp\": 57, \"fp\": 132, \"fn\": 329, \"tn\": 891, \"tpr\": 0.14766839378238342, \"fpr\": 0.12903225806451613}, {\"threshold\": 0.88, \"tp\": 51, \"fp\": 118, \"fn\": 335, \"tn\": 905, \"tpr\": 0.13212435233160622, \"fpr\": 0.11534701857282502}, {\"threshold\": 0.89, \"tp\": 46, \"fp\": 109, \"fn\": 340, \"tn\": 914, \"tpr\": 0.11917098445595854, \"fpr\": 0.10654936461388075}, {\"threshold\": 0.9, \"tp\": 40, \"fp\": 101, \"fn\": 346, \"tn\": 922, \"tpr\": 0.10362694300518134, \"fpr\": 0.09872922776148582}, {\"threshold\": 0.91, \"tp\": 34, \"fp\": 89, \"fn\": 352, \"tn\": 934, \"tpr\": 0.08808290155440414, \"fpr\": 0.08699902248289346}, {\"threshold\": 0.92, \"tp\": 27, \"fp\": 80, \"fn\": 359, \"tn\": 943, \"tpr\": 0.06994818652849741, \"fpr\": 0.07820136852394917}, {\"threshold\": 0.93, \"tp\": 23, \"fp\": 69, \"fn\": 363, \"tn\": 954, \"tpr\": 0.05958549222797927, \"fpr\": 0.06744868035190615}, {\"threshold\": 0.9400000000000001, \"tp\": 22, \"fp\": 59, \"fn\": 364, \"tn\": 964, \"tpr\": 0.05699481865284974, \"fpr\": 0.05767350928641251}, {\"threshold\": 0.9500000000000001, \"tp\": 17, \"fp\": 49, \"fn\": 369, \"tn\": 974, \"tpr\": 0.04404145077720207, \"fpr\": 0.047898338220918865}, {\"threshold\": 0.96, \"tp\": 14, \"fp\": 41, \"fn\": 372, \"tn\": 982, \"tpr\": 0.03626943005181347, \"fpr\": 0.04007820136852395}, {\"threshold\": 0.97, \"tp\": 11, \"fp\": 36, \"fn\": 375, \"tn\": 987, \"tpr\": 0.02849740932642487, \"fpr\": 0.03519061583577713}, {\"threshold\": 0.98, \"tp\": 8, \"fp\": 19, \"fn\": 378, \"tn\": 1004, \"tpr\": 0.02072538860103627, \"fpr\": 0.01857282502443793}, {\"threshold\": 0.99, \"tp\": 6, \"fp\": 7, \"fn\": 380, \"tn\": 1016, \"tpr\": 0.015544041450777202, \"fpr\": 0.006842619745845552}, {\"threshold\": 1.0, \"tp\": 0, \"fp\": 0, \"fn\": 386, \"tn\": 1023, \"tpr\": 0.0, \"fpr\": 0.0}]}}, {\"mode\": \"vega-lite\"});\n",
       "</script>"
      ],
      "text/plain": [
       "alt.LayerChart(...)"
      ]
     },
     "execution_count": 114,
     "metadata": {},
     "output_type": "execute_result"
    }
   ],
   "source": [
    "alt.layer(\n",
    "    alt.Chart(df_scores)\n",
    "    .mark_line()\n",
    "    .encode(alt.X(\"fpr:Q\"), alt.Y(\"tpr:Q\"), alt.Color()),\n",
    "    alt.Chart(df_rand)\n",
    "    .mark_line(color=\"orange\")\n",
    "    .encode(alt.X(\"fpr:Q\"), alt.Y(\"tpr:Q\"), alt.Color()),\n",
    ")"
   ]
  },
  {
   "cell_type": "code",
   "execution_count": 115,
   "metadata": {},
   "outputs": [],
   "source": [
    "fpr, tpr, thresholds = roc_curve(y_val, y_pred)"
   ]
  },
  {
   "cell_type": "code",
   "execution_count": 116,
   "metadata": {},
   "outputs": [
    {
     "data": {
      "image/png": "[encoded data removed]",
      "text/plain": [
       "<Figure size 500x500 with 1 Axes>"
      ]
     },
     "metadata": {},
     "output_type": "display_data"
    }
   ],
   "source": [
    "plt.figure(figsize=(5, 5))\n",
    "plt.plot(fpr, tpr, label=\"Model\")\n",
    "plt.plot([0, 1], [0, 1], label=\"Random\", linestyle=\"--\")\n",
    "\n",
    "plt.xlabel(\"FPR\")\n",
    "plt.ylabel(\"TPR\")\n",
    "\n",
    "plt.legend()\n",
    "\n",
    "plt.show()"
   ]
  },
  {
   "cell_type": "markdown",
   "metadata": {},
   "source": [
    "## 14. ROC AUC\n"
   ]
  },
  {
   "cell_type": "code",
   "execution_count": null,
   "metadata": {},
   "outputs": [
    {
     "data": {
      "text/plain": [
       "np.float64(0.8438884921418767)"
      ]
     },
     "execution_count": 117,
     "metadata": {},
     "output_type": "execute_result"
    }
   ],
   "source": [
    "auc(fpr, tpr)"
   ]
  },
  {
   "cell_type": "code",
   "execution_count": 118,
   "metadata": {},
   "outputs": [
    {
     "data": {
      "text/plain": [
       "np.float64(0.8436415804375021)"
      ]
     },
     "execution_count": 118,
     "metadata": {},
     "output_type": "execute_result"
    }
   ],
   "source": [
    "auc(df_scores[\"fpr\"], df_scores[\"tpr\"])"
   ]
  },
  {
   "cell_type": "code",
   "execution_count": 119,
   "metadata": {},
   "outputs": [
    {
     "data": {
      "text/plain": [
       "np.float64(0.9999430203759136)"
      ]
     },
     "execution_count": 119,
     "metadata": {},
     "output_type": "execute_result"
    }
   ],
   "source": [
    "auc(df_ideal[\"fpr\"], df_ideal[\"tpr\"])"
   ]
  },
  {
   "cell_type": "code",
   "execution_count": 120,
   "metadata": {},
   "outputs": [
    {
     "data": {
      "text/plain": [
       "np.float64(0.8438884921418767)"
      ]
     },
     "execution_count": 120,
     "metadata": {},
     "output_type": "execute_result"
    }
   ],
   "source": [
    "roc_auc_score(y_val, y_pred)"
   ]
  },
  {
   "cell_type": "code",
   "execution_count": 121,
   "metadata": {},
   "outputs": [],
   "source": [
    "neg = y_pred[y_val == 0]\n",
    "pos = y_pred[y_val == 1]"
   ]
  },
  {
   "cell_type": "code",
   "execution_count": 122,
   "metadata": {},
   "outputs": [
    {
     "data": {
      "text/plain": [
       "0.84376"
      ]
     },
     "execution_count": 122,
     "metadata": {},
     "output_type": "execute_result"
    }
   ],
   "source": [
    "random.seed(1)\n",
    "n = 100000\n",
    "success = 0\n",
    "\n",
    "for i in range(n):\n",
    "    pos_ind = random.randint(0, len(pos) - 1)\n",
    "    neg_ind = random.randint(0, len(neg) - 1)\n",
    "\n",
    "    if pos[pos_ind] > neg[neg_ind]:\n",
    "        success += 1\n",
    "\n",
    "success / n"
   ]
  },
  {
   "cell_type": "code",
   "execution_count": 123,
   "metadata": {},
   "outputs": [
    {
     "data": {
      "text/plain": [
       "np.float64(0.84287)"
      ]
     },
     "execution_count": 123,
     "metadata": {},
     "output_type": "execute_result"
    }
   ],
   "source": [
    "np.random.seed(1)\n",
    "n = 100000\n",
    "pos_ind = np.random.randint(0, len(pos), size=n)\n",
    "neg_ind = np.random.randint(0, len(neg), size=n)\n",
    "\n",
    "(pos[pos_ind] > neg[neg_ind]).mean()"
   ]
  },
  {
   "cell_type": "markdown",
   "metadata": {},
   "source": [
    "## 15. Cross-Validation\n"
   ]
  },
  {
   "cell_type": "code",
   "execution_count": 124,
   "metadata": {},
   "outputs": [],
   "source": [
    "def train(df, y_train, C=1.0):\n",
    "    dicts = df.select(pl.col(categorical + numerical)).to_dicts()\n",
    "\n",
    "    dv = DictVectorizer(sparse=False)\n",
    "    X_train = dv.fit_transform(dicts)\n",
    "\n",
    "    model = LogisticRegression(C=C, max_iter=10000)\n",
    "    model.fit(X_train, y_train)\n",
    "\n",
    "    return dv, model"
   ]
  },
  {
   "cell_type": "code",
   "execution_count": 125,
   "metadata": {},
   "outputs": [],
   "source": [
    "dv, model = train(df_train, y_train, C=0.001)"
   ]
  },
  {
   "cell_type": "code",
   "execution_count": 126,
   "metadata": {},
   "outputs": [],
   "source": [
    "def predict(df, dv, model):\n",
    "    dicts = df.select(pl.col(categorical + numerical)).to_dicts()\n",
    "\n",
    "    X = dv.transform(dicts)\n",
    "    y_pred = model.predict_proba(X)[:, 1]\n",
    "\n",
    "    return y_pred"
   ]
  },
  {
   "cell_type": "code",
   "execution_count": 127,
   "metadata": {},
   "outputs": [],
   "source": [
    "y_pred = predict(df_val, dv, model)"
   ]
  },
  {
   "cell_type": "code",
   "execution_count": 128,
   "metadata": {},
   "outputs": [
    {
     "name": "stderr",
     "output_type": "stream",
     "text": [
      "  0%|          | 0/7 [00:00<?, ?it/s]"
     ]
    },
    {
     "name": "stderr",
     "output_type": "stream",
     "text": [
      " 14%|█▍        | 1/7 [00:03<00:18,  3.01s/it]"
     ]
    },
    {
     "name": "stdout",
     "output_type": "stream",
     "text": [
      "C=0.001 0.825 +- 0.009\n"
     ]
    },
    {
     "name": "stderr",
     "output_type": "stream",
     "text": [
      " 29%|██▊       | 2/7 [00:15<00:41,  8.35s/it]"
     ]
    },
    {
     "name": "stdout",
     "output_type": "stream",
     "text": [
      "C=0.01 0.840 +- 0.008\n"
     ]
    },
    {
     "name": "stderr",
     "output_type": "stream",
     "text": [
      " 43%|████▎     | 3/7 [00:42<01:07, 16.82s/it]"
     ]
    },
    {
     "name": "stdout",
     "output_type": "stream",
     "text": [
      "C=0.1 0.842 +- 0.007\n"
     ]
    },
    {
     "name": "stderr",
     "output_type": "stream",
     "text": [
      " 57%|█████▋    | 4/7 [00:57<00:48, 16.18s/it]"
     ]
    },
    {
     "name": "stdout",
     "output_type": "stream",
     "text": [
      "C=0.5 0.842 +- 0.007\n"
     ]
    },
    {
     "name": "stderr",
     "output_type": "stream",
     "text": [
      " 71%|███████▏  | 5/7 [01:16<00:34, 17.25s/it]"
     ]
    },
    {
     "name": "stdout",
     "output_type": "stream",
     "text": [
      "C=1 0.842 +- 0.007\n"
     ]
    },
    {
     "name": "stderr",
     "output_type": "stream",
     "text": [
      " 86%|████████▌ | 6/7 [01:37<00:18, 18.46s/it]"
     ]
    },
    {
     "name": "stdout",
     "output_type": "stream",
     "text": [
      "C=5 0.842 +- 0.007\n"
     ]
    },
    {
     "name": "stderr",
     "output_type": "stream",
     "text": [
      "100%|██████████| 7/7 [01:58<00:00, 16.94s/it]"
     ]
    },
    {
     "name": "stdout",
     "output_type": "stream",
     "text": [
      "C=10 0.842 +- 0.007\n"
     ]
    },
    {
     "name": "stderr",
     "output_type": "stream",
     "text": [
      "\n"
     ]
    }
   ],
   "source": [
    "n_splits = 5\n",
    "\n",
    "for C in tqdm([0.001, 0.01, 0.1, 0.5, 1, 5, 10]):\n",
    "    scores = []\n",
    "\n",
    "    kfold = KFold(n_splits=n_splits, shuffle=True, random_state=1)\n",
    "\n",
    "    for train_idx, val_idx in kfold.split(df_full_train):\n",
    "        df_train = df_full_train[train_idx]\n",
    "        df_val = df_full_train[val_idx]\n",
    "\n",
    "        y_train = df_train[\"churn\"].to_numpy()\n",
    "        y_val = df_val[\"churn\"].to_numpy()\n",
    "\n",
    "        dv, model = train(df_train, y_train, C)\n",
    "        y_pred = predict(df_val, dv, model)\n",
    "\n",
    "        auc = roc_auc_score(y_val, y_pred)\n",
    "        scores.append(auc)\n",
    "\n",
    "    print(\"C=%s %.3f +- %.3f\" % (C, np.mean(scores), np.std(scores)))"
   ]
  },
  {
   "cell_type": "code",
   "execution_count": 129,
   "metadata": {},
   "outputs": [
    {
     "data": {
      "text/plain": [
       "[np.float64(0.8439018454992897),\n",
       " np.float64(0.8447246225665475),\n",
       " np.float64(0.8336343568131647),\n",
       " np.float64(0.8347848852081603),\n",
       " np.float64(0.8519853471808226)]"
      ]
     },
     "execution_count": 129,
     "metadata": {},
     "output_type": "execute_result"
    }
   ],
   "source": [
    "scores"
   ]
  },
  {
   "cell_type": "code",
   "execution_count": 130,
   "metadata": {},
   "outputs": [
    {
     "data": {
      "text/plain": [
       "np.float64(0.8584005005037537)"
      ]
     },
     "execution_count": 130,
     "metadata": {},
     "output_type": "execute_result"
    }
   ],
   "source": [
    "dv, model = train(df_full_train, df_full_train[\"churn\"].to_numpy(), C=1.0)\n",
    "y_pred = predict(df_test, dv, model)\n",
    "\n",
    "auc = roc_auc_score(y_test, y_pred)\n",
    "auc\n"
   ]
  }
 ],
 "metadata": {
  "kernelspec": {
   "display_name": ".venv",
   "language": "python",
   "name": "python3"
  },
  "language_info": {
   "codemirror_mode": {
    "name": "ipython",
    "version": 3
   },
   "file_extension": ".py",
   "mimetype": "text/x-python",
   "name": "python",
   "nbconvert_exporter": "python",
   "pygments_lexer": "ipython3",
   "version": "3.12.6"
  }
 },
 "nbformat": 4,
 "nbformat_minor": 2
}
