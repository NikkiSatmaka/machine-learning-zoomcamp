{
 "cells": [
  {
   "cell_type": "markdown",
   "metadata": {},
   "source": [
    "# Module 01\n"
   ]
  },
  {
   "cell_type": "code",
   "execution_count": 1,
   "metadata": {},
   "outputs": [],
   "source": [
    "import arrow\n",
    "import numpy as np\n",
    "import pandas as pd\n",
    "import polars as pl"
   ]
  },
  {
   "cell_type": "code",
   "execution_count": 2,
   "metadata": {},
   "outputs": [],
   "source": [
    "df = pl.DataFrame(\n",
    "    {\n",
    "        \"integer\": [1, 2, 3],\n",
    "        \"date\": [\n",
    "            arrow.get(2025, 1, 1).datetime,\n",
    "            arrow.get(2025, 1, 2).datetime,\n",
    "            arrow.get(2025, 1, 3).datetime,\n",
    "        ],\n",
    "        \"float\": [4.0, 5.0, 6.0],\n",
    "        \"string\": [\"a\", \"b\", \"c\"],\n",
    "    }\n",
    ")"
   ]
  },
  {
   "cell_type": "code",
   "execution_count": 3,
   "metadata": {},
   "outputs": [
    {
     "data": {
      "text/html": [
       "<div><style>\n",
       ".dataframe > thead > tr,\n",
       ".dataframe > tbody > tr {\n",
       "  text-align: right;\n",
       "  white-space: pre-wrap;\n",
       "}\n",
       "</style>\n",
       "<small>shape: (3, 4)</small><table border=\"1\" class=\"dataframe\"><thead><tr><th>integer</th><th>date</th><th>float</th><th>string</th></tr><tr><td>i64</td><td>datetime[μs, UTC]</td><td>f64</td><td>str</td></tr></thead><tbody><tr><td>1</td><td>2025-01-01 00:00:00 UTC</td><td>4.0</td><td>&quot;a&quot;</td></tr><tr><td>2</td><td>2025-01-02 00:00:00 UTC</td><td>5.0</td><td>&quot;b&quot;</td></tr><tr><td>3</td><td>2025-01-03 00:00:00 UTC</td><td>6.0</td><td>&quot;c&quot;</td></tr></tbody></table></div>"
      ],
      "text/plain": [
       "shape: (3, 4)\n",
       "┌─────────┬─────────────────────────┬───────┬────────┐\n",
       "│ integer ┆ date                    ┆ float ┆ string │\n",
       "│ ---     ┆ ---                     ┆ ---   ┆ ---    │\n",
       "│ i64     ┆ datetime[μs, UTC]       ┆ f64   ┆ str    │\n",
       "╞═════════╪═════════════════════════╪═══════╪════════╡\n",
       "│ 1       ┆ 2025-01-01 00:00:00 UTC ┆ 4.0   ┆ a      │\n",
       "│ 2       ┆ 2025-01-02 00:00:00 UTC ┆ 5.0   ┆ b      │\n",
       "│ 3       ┆ 2025-01-03 00:00:00 UTC ┆ 6.0   ┆ c      │\n",
       "└─────────┴─────────────────────────┴───────┴────────┘"
      ]
     },
     "execution_count": 3,
     "metadata": {},
     "output_type": "execute_result"
    }
   ],
   "source": [
    "df"
   ]
  },
  {
   "cell_type": "code",
   "execution_count": 4,
   "metadata": {},
   "outputs": [],
   "source": [
    "df.write_csv(\"../data/output.csv\")"
   ]
  },
  {
   "cell_type": "code",
   "execution_count": 5,
   "metadata": {},
   "outputs": [],
   "source": [
    "df_csv = pl.read_csv(\"../data/output.csv\")"
   ]
  },
  {
   "cell_type": "code",
   "execution_count": 6,
   "metadata": {},
   "outputs": [
    {
     "name": "stdout",
     "output_type": "stream",
     "text": [
      "shape: (3, 4)\n",
      "┌─────────┬─────────────────────────────────┬───────┬────────┐\n",
      "│ integer ┆ date                            ┆ float ┆ string │\n",
      "│ ---     ┆ ---                             ┆ ---   ┆ ---    │\n",
      "│ i64     ┆ str                             ┆ f64   ┆ str    │\n",
      "╞═════════╪═════════════════════════════════╪═══════╪════════╡\n",
      "│ 1       ┆ 2025-01-01T00:00:00.000000+000… ┆ 4.0   ┆ a      │\n",
      "│ 2       ┆ 2025-01-02T00:00:00.000000+000… ┆ 5.0   ┆ b      │\n",
      "│ 3       ┆ 2025-01-03T00:00:00.000000+000… ┆ 6.0   ┆ c      │\n",
      "└─────────┴─────────────────────────────────┴───────┴────────┘\n"
     ]
    }
   ],
   "source": [
    "print(df_csv)"
   ]
  },
  {
   "cell_type": "code",
   "execution_count": 7,
   "metadata": {},
   "outputs": [],
   "source": [
    "df.write_parquet(\"../data/output.parquet\")"
   ]
  },
  {
   "cell_type": "code",
   "execution_count": 8,
   "metadata": {},
   "outputs": [
    {
     "data": {
      "text/html": [
       "<div><style>\n",
       ".dataframe > thead > tr,\n",
       ".dataframe > tbody > tr {\n",
       "  text-align: right;\n",
       "  white-space: pre-wrap;\n",
       "}\n",
       "</style>\n",
       "<small>shape: (3, 4)</small><table border=\"1\" class=\"dataframe\"><thead><tr><th>integer</th><th>date</th><th>float</th><th>string</th></tr><tr><td>i64</td><td>datetime[μs, UTC]</td><td>f64</td><td>str</td></tr></thead><tbody><tr><td>1</td><td>2025-01-01 00:00:00 UTC</td><td>4.0</td><td>&quot;a&quot;</td></tr><tr><td>2</td><td>2025-01-02 00:00:00 UTC</td><td>5.0</td><td>&quot;b&quot;</td></tr><tr><td>3</td><td>2025-01-03 00:00:00 UTC</td><td>6.0</td><td>&quot;c&quot;</td></tr></tbody></table></div>"
      ],
      "text/plain": [
       "shape: (3, 4)\n",
       "┌─────────┬─────────────────────────┬───────┬────────┐\n",
       "│ integer ┆ date                    ┆ float ┆ string │\n",
       "│ ---     ┆ ---                     ┆ ---   ┆ ---    │\n",
       "│ i64     ┆ datetime[μs, UTC]       ┆ f64   ┆ str    │\n",
       "╞═════════╪═════════════════════════╪═══════╪════════╡\n",
       "│ 1       ┆ 2025-01-01 00:00:00 UTC ┆ 4.0   ┆ a      │\n",
       "│ 2       ┆ 2025-01-02 00:00:00 UTC ┆ 5.0   ┆ b      │\n",
       "│ 3       ┆ 2025-01-03 00:00:00 UTC ┆ 6.0   ┆ c      │\n",
       "└─────────┴─────────────────────────┴───────┴────────┘"
      ]
     },
     "execution_count": 8,
     "metadata": {},
     "output_type": "execute_result"
    }
   ],
   "source": [
    "pl.read_parquet(\"../data/output.parquet\")"
   ]
  },
  {
   "cell_type": "code",
   "execution_count": 9,
   "metadata": {},
   "outputs": [
    {
     "data": {
      "text/html": [
       "<div><style>\n",
       ".dataframe > thead > tr,\n",
       ".dataframe > tbody > tr {\n",
       "  text-align: right;\n",
       "  white-space: pre-wrap;\n",
       "}\n",
       "</style>\n",
       "<small>shape: (3, 4)</small><table border=\"1\" class=\"dataframe\"><thead><tr><th>integer</th><th>date</th><th>float</th><th>string</th></tr><tr><td>i64</td><td>datetime[μs, UTC]</td><td>f64</td><td>str</td></tr></thead><tbody><tr><td>1</td><td>2025-01-01 00:00:00 UTC</td><td>4.0</td><td>&quot;a&quot;</td></tr><tr><td>2</td><td>2025-01-02 00:00:00 UTC</td><td>5.0</td><td>&quot;b&quot;</td></tr><tr><td>3</td><td>2025-01-03 00:00:00 UTC</td><td>6.0</td><td>&quot;c&quot;</td></tr></tbody></table></div>"
      ],
      "text/plain": [
       "shape: (3, 4)\n",
       "┌─────────┬─────────────────────────┬───────┬────────┐\n",
       "│ integer ┆ date                    ┆ float ┆ string │\n",
       "│ ---     ┆ ---                     ┆ ---   ┆ ---    │\n",
       "│ i64     ┆ datetime[μs, UTC]       ┆ f64   ┆ str    │\n",
       "╞═════════╪═════════════════════════╪═══════╪════════╡\n",
       "│ 1       ┆ 2025-01-01 00:00:00 UTC ┆ 4.0   ┆ a      │\n",
       "│ 2       ┆ 2025-01-02 00:00:00 UTC ┆ 5.0   ┆ b      │\n",
       "│ 3       ┆ 2025-01-03 00:00:00 UTC ┆ 6.0   ┆ c      │\n",
       "└─────────┴─────────────────────────┴───────┴────────┘"
      ]
     },
     "execution_count": 9,
     "metadata": {},
     "output_type": "execute_result"
    }
   ],
   "source": [
    "df.select(\"*\")"
   ]
  },
  {
   "cell_type": "code",
   "execution_count": 10,
   "metadata": {},
   "outputs": [
    {
     "data": {
      "text/html": [
       "<div><style>\n",
       ".dataframe > thead > tr,\n",
       ".dataframe > tbody > tr {\n",
       "  text-align: right;\n",
       "  white-space: pre-wrap;\n",
       "}\n",
       "</style>\n",
       "<small>shape: (3, 2)</small><table border=\"1\" class=\"dataframe\"><thead><tr><th>date</th><th>integer</th></tr><tr><td>datetime[μs, UTC]</td><td>i64</td></tr></thead><tbody><tr><td>2025-01-01 00:00:00 UTC</td><td>1</td></tr><tr><td>2025-01-02 00:00:00 UTC</td><td>2</td></tr><tr><td>2025-01-03 00:00:00 UTC</td><td>3</td></tr></tbody></table></div>"
      ],
      "text/plain": [
       "shape: (3, 2)\n",
       "┌─────────────────────────┬─────────┐\n",
       "│ date                    ┆ integer │\n",
       "│ ---                     ┆ ---     │\n",
       "│ datetime[μs, UTC]       ┆ i64     │\n",
       "╞═════════════════════════╪═════════╡\n",
       "│ 2025-01-01 00:00:00 UTC ┆ 1       │\n",
       "│ 2025-01-02 00:00:00 UTC ┆ 2       │\n",
       "│ 2025-01-03 00:00:00 UTC ┆ 3       │\n",
       "└─────────────────────────┴─────────┘"
      ]
     },
     "execution_count": 10,
     "metadata": {},
     "output_type": "execute_result"
    }
   ],
   "source": [
    "df.select(\"date\", \"integer\")"
   ]
  },
  {
   "cell_type": "code",
   "execution_count": 11,
   "metadata": {},
   "outputs": [
    {
     "data": {
      "text/html": [
       "<div><style>\n",
       ".dataframe > thead > tr,\n",
       ".dataframe > tbody > tr {\n",
       "  text-align: right;\n",
       "  white-space: pre-wrap;\n",
       "}\n",
       "</style>\n",
       "<small>shape: (3, 2)</small><table border=\"1\" class=\"dataframe\"><thead><tr><th>date</th><th>integer</th></tr><tr><td>datetime[μs, UTC]</td><td>i64</td></tr></thead><tbody><tr><td>2025-01-01 00:00:00 UTC</td><td>1</td></tr><tr><td>2025-01-02 00:00:00 UTC</td><td>2</td></tr><tr><td>2025-01-03 00:00:00 UTC</td><td>3</td></tr></tbody></table></div>"
      ],
      "text/plain": [
       "shape: (3, 2)\n",
       "┌─────────────────────────┬─────────┐\n",
       "│ date                    ┆ integer │\n",
       "│ ---                     ┆ ---     │\n",
       "│ datetime[μs, UTC]       ┆ i64     │\n",
       "╞═════════════════════════╪═════════╡\n",
       "│ 2025-01-01 00:00:00 UTC ┆ 1       │\n",
       "│ 2025-01-02 00:00:00 UTC ┆ 2       │\n",
       "│ 2025-01-03 00:00:00 UTC ┆ 3       │\n",
       "└─────────────────────────┴─────────┘"
      ]
     },
     "execution_count": 11,
     "metadata": {},
     "output_type": "execute_result"
    }
   ],
   "source": [
    "df.select([\"date\", \"integer\"])"
   ]
  },
  {
   "cell_type": "code",
   "execution_count": 12,
   "metadata": {},
   "outputs": [
    {
     "data": {
      "text/html": [
       "<div><style>\n",
       ".dataframe > thead > tr,\n",
       ".dataframe > tbody > tr {\n",
       "  text-align: right;\n",
       "  white-space: pre-wrap;\n",
       "}\n",
       "</style>\n",
       "<small>shape: (3, 2)</small><table border=\"1\" class=\"dataframe\"><thead><tr><th>date</th><th>integer</th></tr><tr><td>datetime[μs, UTC]</td><td>i64</td></tr></thead><tbody><tr><td>2025-01-01 00:00:00 UTC</td><td>1</td></tr><tr><td>2025-01-02 00:00:00 UTC</td><td>2</td></tr><tr><td>2025-01-03 00:00:00 UTC</td><td>3</td></tr></tbody></table></div>"
      ],
      "text/plain": [
       "shape: (3, 2)\n",
       "┌─────────────────────────┬─────────┐\n",
       "│ date                    ┆ integer │\n",
       "│ ---                     ┆ ---     │\n",
       "│ datetime[μs, UTC]       ┆ i64     │\n",
       "╞═════════════════════════╪═════════╡\n",
       "│ 2025-01-01 00:00:00 UTC ┆ 1       │\n",
       "│ 2025-01-02 00:00:00 UTC ┆ 2       │\n",
       "│ 2025-01-03 00:00:00 UTC ┆ 3       │\n",
       "└─────────────────────────┴─────────┘"
      ]
     },
     "execution_count": 12,
     "metadata": {},
     "output_type": "execute_result"
    }
   ],
   "source": [
    "df.select(pl.col(\"date\", \"integer\"))"
   ]
  },
  {
   "cell_type": "code",
   "execution_count": 13,
   "metadata": {},
   "outputs": [
    {
     "data": {
      "text/html": [
       "<div><style>\n",
       ".dataframe > thead > tr,\n",
       ".dataframe > tbody > tr {\n",
       "  text-align: right;\n",
       "  white-space: pre-wrap;\n",
       "}\n",
       "</style>\n",
       "<small>shape: (3, 2)</small><table border=\"1\" class=\"dataframe\"><thead><tr><th>date</th><th>integer</th></tr><tr><td>datetime[μs, UTC]</td><td>i64</td></tr></thead><tbody><tr><td>2025-01-01 00:00:00 UTC</td><td>1</td></tr><tr><td>2025-01-02 00:00:00 UTC</td><td>2</td></tr><tr><td>2025-01-03 00:00:00 UTC</td><td>3</td></tr></tbody></table></div>"
      ],
      "text/plain": [
       "shape: (3, 2)\n",
       "┌─────────────────────────┬─────────┐\n",
       "│ date                    ┆ integer │\n",
       "│ ---                     ┆ ---     │\n",
       "│ datetime[μs, UTC]       ┆ i64     │\n",
       "╞═════════════════════════╪═════════╡\n",
       "│ 2025-01-01 00:00:00 UTC ┆ 1       │\n",
       "│ 2025-01-02 00:00:00 UTC ┆ 2       │\n",
       "│ 2025-01-03 00:00:00 UTC ┆ 3       │\n",
       "└─────────────────────────┴─────────┘"
      ]
     },
     "execution_count": 13,
     "metadata": {},
     "output_type": "execute_result"
    }
   ],
   "source": [
    "df.select(pl.col([\"date\", \"integer\"]))"
   ]
  },
  {
   "cell_type": "code",
   "execution_count": 14,
   "metadata": {},
   "outputs": [
    {
     "data": {
      "text/html": [
       "<div><style>\n",
       ".dataframe > thead > tr,\n",
       ".dataframe > tbody > tr {\n",
       "  text-align: right;\n",
       "  white-space: pre-wrap;\n",
       "}\n",
       "</style>\n",
       "<small>shape: (3, 3)</small><table border=\"1\" class=\"dataframe\"><thead><tr><th>string</th><th>float</th><th>date</th></tr><tr><td>str</td><td>f64</td><td>datetime[μs, UTC]</td></tr></thead><tbody><tr><td>&quot;a1&quot;</td><td>5.0</td><td>2025-01-01 00:00:00 UTC</td></tr><tr><td>&quot;b1&quot;</td><td>6.0</td><td>2025-01-02 00:00:00 UTC</td></tr><tr><td>&quot;c1&quot;</td><td>7.0</td><td>2025-01-03 00:00:00 UTC</td></tr></tbody></table></div>"
      ],
      "text/plain": [
       "shape: (3, 3)\n",
       "┌────────┬───────┬─────────────────────────┐\n",
       "│ string ┆ float ┆ date                    │\n",
       "│ ---    ┆ ---   ┆ ---                     │\n",
       "│ str    ┆ f64   ┆ datetime[μs, UTC]       │\n",
       "╞════════╪═══════╪═════════════════════════╡\n",
       "│ a1     ┆ 5.0   ┆ 2025-01-01 00:00:00 UTC │\n",
       "│ b1     ┆ 6.0   ┆ 2025-01-02 00:00:00 UTC │\n",
       "│ c1     ┆ 7.0   ┆ 2025-01-03 00:00:00 UTC │\n",
       "└────────┴───────┴─────────────────────────┘"
      ]
     },
     "execution_count": 14,
     "metadata": {},
     "output_type": "execute_result"
    }
   ],
   "source": [
    "df.select(pl.col(\"string\") + \"1\", pl.col(\"float\") + 1, \"date\")"
   ]
  },
  {
   "cell_type": "code",
   "execution_count": 15,
   "metadata": {},
   "outputs": [
    {
     "data": {
      "text/html": [
       "<div><style>\n",
       ".dataframe > thead > tr,\n",
       ".dataframe > tbody > tr {\n",
       "  text-align: right;\n",
       "  white-space: pre-wrap;\n",
       "}\n",
       "</style>\n",
       "<small>shape: (0, 4)</small><table border=\"1\" class=\"dataframe\"><thead><tr><th>integer</th><th>date</th><th>float</th><th>string</th></tr><tr><td>i64</td><td>datetime[μs, UTC]</td><td>f64</td><td>str</td></tr></thead><tbody></tbody></table></div>"
      ],
      "text/plain": [
       "shape: (0, 4)\n",
       "┌─────────┬───────────────────┬───────┬────────┐\n",
       "│ integer ┆ date              ┆ float ┆ string │\n",
       "│ ---     ┆ ---               ┆ ---   ┆ ---    │\n",
       "│ i64     ┆ datetime[μs, UTC] ┆ f64   ┆ str    │\n",
       "╞═════════╪═══════════════════╪═══════╪════════╡\n",
       "└─────────┴───────────────────┴───────┴────────┘"
      ]
     },
     "execution_count": 15,
     "metadata": {},
     "output_type": "execute_result"
    }
   ],
   "source": [
    "df.filter(\"string\" == \"a\")"
   ]
  },
  {
   "cell_type": "code",
   "execution_count": 16,
   "metadata": {},
   "outputs": [
    {
     "data": {
      "text/html": [
       "<div><style>\n",
       ".dataframe > thead > tr,\n",
       ".dataframe > tbody > tr {\n",
       "  text-align: right;\n",
       "  white-space: pre-wrap;\n",
       "}\n",
       "</style>\n",
       "<small>shape: (1, 4)</small><table border=\"1\" class=\"dataframe\"><thead><tr><th>integer</th><th>date</th><th>float</th><th>string</th></tr><tr><td>i64</td><td>datetime[μs, UTC]</td><td>f64</td><td>str</td></tr></thead><tbody><tr><td>1</td><td>2025-01-01 00:00:00 UTC</td><td>4.0</td><td>&quot;a&quot;</td></tr></tbody></table></div>"
      ],
      "text/plain": [
       "shape: (1, 4)\n",
       "┌─────────┬─────────────────────────┬───────┬────────┐\n",
       "│ integer ┆ date                    ┆ float ┆ string │\n",
       "│ ---     ┆ ---                     ┆ ---   ┆ ---    │\n",
       "│ i64     ┆ datetime[μs, UTC]       ┆ f64   ┆ str    │\n",
       "╞═════════╪═════════════════════════╪═══════╪════════╡\n",
       "│ 1       ┆ 2025-01-01 00:00:00 UTC ┆ 4.0   ┆ a      │\n",
       "└─────────┴─────────────────────────┴───────┴────────┘"
      ]
     },
     "execution_count": 16,
     "metadata": {},
     "output_type": "execute_result"
    }
   ],
   "source": [
    "df.filter(pl.col(\"string\") == \"a\")"
   ]
  },
  {
   "cell_type": "code",
   "execution_count": 17,
   "metadata": {},
   "outputs": [
    {
     "data": {
      "text/html": [
       "<div><style>\n",
       ".dataframe > thead > tr,\n",
       ".dataframe > tbody > tr {\n",
       "  text-align: right;\n",
       "  white-space: pre-wrap;\n",
       "}\n",
       "</style>\n",
       "<small>shape: (3, 1)</small><table border=\"1\" class=\"dataframe\"><thead><tr><th>string</th></tr><tr><td>bool</td></tr></thead><tbody><tr><td>true</td></tr><tr><td>false</td></tr><tr><td>false</td></tr></tbody></table></div>"
      ],
      "text/plain": [
       "shape: (3, 1)\n",
       "┌────────┐\n",
       "│ string │\n",
       "│ ---    │\n",
       "│ bool   │\n",
       "╞════════╡\n",
       "│ true   │\n",
       "│ false  │\n",
       "│ false  │\n",
       "└────────┘"
      ]
     },
     "execution_count": 17,
     "metadata": {},
     "output_type": "execute_result"
    }
   ],
   "source": [
    "df.select(pl.col(\"string\") == \"a\")"
   ]
  },
  {
   "cell_type": "code",
   "execution_count": 18,
   "metadata": {},
   "outputs": [
    {
     "ename": "TypeError",
     "evalue": "invalid predicate for `filter`: shape: (3, 1)\n┌────────┐\n│ string │\n│ ---    │\n│ bool   │\n╞════════╡\n│ true   │\n│ false  │\n│ false  │\n└────────┘",
     "output_type": "error",
     "traceback": [
      "\u001b[0;31m---------------------------------------------------------------------------\u001b[0m",
      "\u001b[0;31mTypeError\u001b[0m                                 Traceback (most recent call last)",
      "Cell \u001b[0;32mIn[18], line 1\u001b[0m\n\u001b[0;32m----> 1\u001b[0m \u001b[43mdf\u001b[49m\u001b[38;5;241;43m.\u001b[39;49m\u001b[43mfilter\u001b[49m\u001b[43m(\u001b[49m\u001b[43mdf\u001b[49m\u001b[38;5;241;43m.\u001b[39;49m\u001b[43mselect\u001b[49m\u001b[43m(\u001b[49m\u001b[43mpl\u001b[49m\u001b[38;5;241;43m.\u001b[39;49m\u001b[43mcol\u001b[49m\u001b[43m(\u001b[49m\u001b[38;5;124;43m\"\u001b[39;49m\u001b[38;5;124;43mstring\u001b[39;49m\u001b[38;5;124;43m\"\u001b[39;49m\u001b[43m)\u001b[49m\u001b[43m \u001b[49m\u001b[38;5;241;43m==\u001b[39;49m\u001b[43m \u001b[49m\u001b[38;5;124;43m\"\u001b[39;49m\u001b[38;5;124;43ma\u001b[39;49m\u001b[38;5;124;43m\"\u001b[39;49m\u001b[43m)\u001b[49m\u001b[43m)\u001b[49m\n",
      "File \u001b[0;32m~/workspace/ml-zoomcamp/.venv/lib/python3.12/site-packages/polars/dataframe/frame.py:4713\u001b[0m, in \u001b[0;36mDataFrame.filter\u001b[0;34m(self, *predicates, **constraints)\u001b[0m\n\u001b[1;32m   4559\u001b[0m \u001b[38;5;28;01mdef\u001b[39;00m \u001b[38;5;21mfilter\u001b[39m(\n\u001b[1;32m   4560\u001b[0m     \u001b[38;5;28mself\u001b[39m,\n\u001b[1;32m   4561\u001b[0m     \u001b[38;5;241m*\u001b[39mpredicates: (\n\u001b[0;32m   (...)\u001b[0m\n\u001b[1;32m   4568\u001b[0m     \u001b[38;5;241m*\u001b[39m\u001b[38;5;241m*\u001b[39mconstraints: Any,\n\u001b[1;32m   4569\u001b[0m ) \u001b[38;5;241m-\u001b[39m\u001b[38;5;241m>\u001b[39m DataFrame:\n\u001b[1;32m   4570\u001b[0m \u001b[38;5;250m    \u001b[39m\u001b[38;5;124;03m\"\"\"\u001b[39;00m\n\u001b[1;32m   4571\u001b[0m \u001b[38;5;124;03m    Filter the rows in the DataFrame based on one or more predicate expressions.\u001b[39;00m\n\u001b[1;32m   4572\u001b[0m \n\u001b[0;32m   (...)\u001b[0m\n\u001b[1;32m   4711\u001b[0m \n\u001b[1;32m   4712\u001b[0m \u001b[38;5;124;03m    \"\"\"\u001b[39;00m\n\u001b[0;32m-> 4713\u001b[0m     \u001b[38;5;28;01mreturn\u001b[39;00m \u001b[38;5;28;43mself\u001b[39;49m\u001b[38;5;241;43m.\u001b[39;49m\u001b[43mlazy\u001b[49m\u001b[43m(\u001b[49m\u001b[43m)\u001b[49m\u001b[38;5;241;43m.\u001b[39;49m\u001b[43mfilter\u001b[49m\u001b[43m(\u001b[49m\u001b[38;5;241;43m*\u001b[39;49m\u001b[43mpredicates\u001b[49m\u001b[43m,\u001b[49m\u001b[43m \u001b[49m\u001b[38;5;241;43m*\u001b[39;49m\u001b[38;5;241;43m*\u001b[39;49m\u001b[43mconstraints\u001b[49m\u001b[43m)\u001b[49m\u001b[38;5;241m.\u001b[39mcollect(_eager\u001b[38;5;241m=\u001b[39m\u001b[38;5;28;01mTrue\u001b[39;00m)\n",
      "File \u001b[0;32m~/workspace/ml-zoomcamp/.venv/lib/python3.12/site-packages/polars/lazyframe/frame.py:3233\u001b[0m, in \u001b[0;36mLazyFrame.filter\u001b[0;34m(self, *predicates, **constraints)\u001b[0m\n\u001b[1;32m   3227\u001b[0m     err \u001b[38;5;241m=\u001b[39m (\n\u001b[1;32m   3228\u001b[0m         \u001b[38;5;124mf\u001b[39m\u001b[38;5;124m\"\u001b[39m\u001b[38;5;124mSeries(…, dtype=\u001b[39m\u001b[38;5;132;01m{\u001b[39;00mp\u001b[38;5;241m.\u001b[39mdtype\u001b[38;5;132;01m}\u001b[39;00m\u001b[38;5;124m)\u001b[39m\u001b[38;5;124m\"\u001b[39m\n\u001b[1;32m   3229\u001b[0m         \u001b[38;5;28;01mif\u001b[39;00m \u001b[38;5;28misinstance\u001b[39m(p, pl\u001b[38;5;241m.\u001b[39mSeries)\n\u001b[1;32m   3230\u001b[0m         \u001b[38;5;28;01melse\u001b[39;00m \u001b[38;5;28mrepr\u001b[39m(p)\n\u001b[1;32m   3231\u001b[0m     )\n\u001b[1;32m   3232\u001b[0m     msg \u001b[38;5;241m=\u001b[39m \u001b[38;5;124mf\u001b[39m\u001b[38;5;124m\"\u001b[39m\u001b[38;5;124minvalid predicate for `filter`: \u001b[39m\u001b[38;5;132;01m{\u001b[39;00merr\u001b[38;5;132;01m}\u001b[39;00m\u001b[38;5;124m\"\u001b[39m\n\u001b[0;32m-> 3233\u001b[0m     \u001b[38;5;28;01mraise\u001b[39;00m \u001b[38;5;167;01mTypeError\u001b[39;00m(msg)\n\u001b[1;32m   3234\u001b[0m \u001b[38;5;28;01melse\u001b[39;00m:\n\u001b[1;32m   3235\u001b[0m     all_predicates\u001b[38;5;241m.\u001b[39mextend(\n\u001b[1;32m   3236\u001b[0m         wrap_expr(x) \u001b[38;5;28;01mfor\u001b[39;00m x \u001b[38;5;129;01min\u001b[39;00m parse_into_list_of_expressions(p)\n\u001b[1;32m   3237\u001b[0m     )\n",
      "\u001b[0;31mTypeError\u001b[0m: invalid predicate for `filter`: shape: (3, 1)\n┌────────┐\n│ string │\n│ ---    │\n│ bool   │\n╞════════╡\n│ true   │\n│ false  │\n│ false  │\n└────────┘"
     ]
    }
   ],
   "source": [
    "df.filter(df.select(pl.col(\"string\") == \"a\"))"
   ]
  },
  {
   "cell_type": "code",
   "execution_count": 19,
   "metadata": {},
   "outputs": [
    {
     "data": {
      "text/html": [
       "<div><style>\n",
       ".dataframe > thead > tr,\n",
       ".dataframe > tbody > tr {\n",
       "  text-align: right;\n",
       "  white-space: pre-wrap;\n",
       "}\n",
       "</style>\n",
       "<small>shape: (2, 4)</small><table border=\"1\" class=\"dataframe\"><thead><tr><th>integer</th><th>date</th><th>float</th><th>string</th></tr><tr><td>i64</td><td>datetime[μs, UTC]</td><td>f64</td><td>str</td></tr></thead><tbody><tr><td>1</td><td>2025-01-01 00:00:00 UTC</td><td>4.0</td><td>&quot;a&quot;</td></tr><tr><td>2</td><td>2025-01-02 00:00:00 UTC</td><td>5.0</td><td>&quot;b&quot;</td></tr></tbody></table></div>"
      ],
      "text/plain": [
       "shape: (2, 4)\n",
       "┌─────────┬─────────────────────────┬───────┬────────┐\n",
       "│ integer ┆ date                    ┆ float ┆ string │\n",
       "│ ---     ┆ ---                     ┆ ---   ┆ ---    │\n",
       "│ i64     ┆ datetime[μs, UTC]       ┆ f64   ┆ str    │\n",
       "╞═════════╪═════════════════════════╪═══════╪════════╡\n",
       "│ 1       ┆ 2025-01-01 00:00:00 UTC ┆ 4.0   ┆ a      │\n",
       "│ 2       ┆ 2025-01-02 00:00:00 UTC ┆ 5.0   ┆ b      │\n",
       "└─────────┴─────────────────────────┴───────┴────────┘"
      ]
     },
     "execution_count": 19,
     "metadata": {},
     "output_type": "execute_result"
    }
   ],
   "source": [
    "df.filter((pl.col(\"string\") <= \"b\") & (pl.col(\"float\").is_not_nan()))"
   ]
  },
  {
   "cell_type": "code",
   "execution_count": 20,
   "metadata": {},
   "outputs": [
    {
     "data": {
      "text/html": [
       "<div><style>\n",
       ".dataframe > thead > tr,\n",
       ".dataframe > tbody > tr {\n",
       "  text-align: right;\n",
       "  white-space: pre-wrap;\n",
       "}\n",
       "</style>\n",
       "<small>shape: (2, 1)</small><table border=\"1\" class=\"dataframe\"><thead><tr><th>float</th></tr><tr><td>f64</td></tr></thead><tbody><tr><td>4.0</td></tr><tr><td>5.0</td></tr></tbody></table></div>"
      ],
      "text/plain": [
       "shape: (2, 1)\n",
       "┌───────┐\n",
       "│ float │\n",
       "│ ---   │\n",
       "│ f64   │\n",
       "╞═══════╡\n",
       "│ 4.0   │\n",
       "│ 5.0   │\n",
       "└───────┘"
      ]
     },
     "execution_count": 20,
     "metadata": {},
     "output_type": "execute_result"
    }
   ],
   "source": [
    "df.filter((pl.col(\"string\") <= \"b\") & (pl.col(\"float\").is_not_nan())).select(\n",
    "    pl.col(\"float\")\n",
    ")"
   ]
  },
  {
   "cell_type": "code",
   "execution_count": 21,
   "metadata": {},
   "outputs": [
    {
     "data": {
      "text/html": [
       "<div><style>\n",
       ".dataframe > thead > tr,\n",
       ".dataframe > tbody > tr {\n",
       "  text-align: right;\n",
       "  white-space: pre-wrap;\n",
       "}\n",
       "</style>\n",
       "<small>shape: (3, 6)</small><table border=\"1\" class=\"dataframe\"><thead><tr><th>integer</th><th>date</th><th>float</th><th>string</th><th>sum_int</th><th>float + 10</th></tr><tr><td>i64</td><td>datetime[μs, UTC]</td><td>f64</td><td>str</td><td>i64</td><td>f64</td></tr></thead><tbody><tr><td>1</td><td>2025-01-01 00:00:00 UTC</td><td>4.0</td><td>&quot;a&quot;</td><td>6</td><td>14.0</td></tr><tr><td>2</td><td>2025-01-02 00:00:00 UTC</td><td>5.0</td><td>&quot;b&quot;</td><td>6</td><td>15.0</td></tr><tr><td>3</td><td>2025-01-03 00:00:00 UTC</td><td>6.0</td><td>&quot;c&quot;</td><td>6</td><td>16.0</td></tr></tbody></table></div>"
      ],
      "text/plain": [
       "shape: (3, 6)\n",
       "┌─────────┬─────────────────────────┬───────┬────────┬─────────┬────────────┐\n",
       "│ integer ┆ date                    ┆ float ┆ string ┆ sum_int ┆ float + 10 │\n",
       "│ ---     ┆ ---                     ┆ ---   ┆ ---    ┆ ---     ┆ ---        │\n",
       "│ i64     ┆ datetime[μs, UTC]       ┆ f64   ┆ str    ┆ i64     ┆ f64        │\n",
       "╞═════════╪═════════════════════════╪═══════╪════════╪═════════╪════════════╡\n",
       "│ 1       ┆ 2025-01-01 00:00:00 UTC ┆ 4.0   ┆ a      ┆ 6       ┆ 14.0       │\n",
       "│ 2       ┆ 2025-01-02 00:00:00 UTC ┆ 5.0   ┆ b      ┆ 6       ┆ 15.0       │\n",
       "│ 3       ┆ 2025-01-03 00:00:00 UTC ┆ 6.0   ┆ c      ┆ 6       ┆ 16.0       │\n",
       "└─────────┴─────────────────────────┴───────┴────────┴─────────┴────────────┘"
      ]
     },
     "execution_count": 21,
     "metadata": {},
     "output_type": "execute_result"
    }
   ],
   "source": [
    "df.with_columns(\n",
    "    pl.col(\"integer\").sum().alias(\"sum_int\"), (pl.col(\"float\") + 10).alias(\"float + 10\")\n",
    ")"
   ]
  },
  {
   "cell_type": "code",
   "execution_count": 22,
   "metadata": {},
   "outputs": [],
   "source": [
    "df2 = pl.DataFrame(\n",
    "    {\n",
    "        \"x\": range(8),\n",
    "        \"y\": [\"A\", \"A\", \"A\", \"B\", \"B\", \"C\", \"X\", \"X\"],\n",
    "    }\n",
    ")"
   ]
  },
  {
   "cell_type": "code",
   "execution_count": 23,
   "metadata": {},
   "outputs": [
    {
     "data": {
      "text/html": [
       "<div><style>\n",
       ".dataframe > thead > tr,\n",
       ".dataframe > tbody > tr {\n",
       "  text-align: right;\n",
       "  white-space: pre-wrap;\n",
       "}\n",
       "</style>\n",
       "<small>shape: (8, 2)</small><table border=\"1\" class=\"dataframe\"><thead><tr><th>x</th><th>y</th></tr><tr><td>i64</td><td>str</td></tr></thead><tbody><tr><td>0</td><td>&quot;A&quot;</td></tr><tr><td>1</td><td>&quot;A&quot;</td></tr><tr><td>2</td><td>&quot;A&quot;</td></tr><tr><td>3</td><td>&quot;B&quot;</td></tr><tr><td>4</td><td>&quot;B&quot;</td></tr><tr><td>5</td><td>&quot;C&quot;</td></tr><tr><td>6</td><td>&quot;X&quot;</td></tr><tr><td>7</td><td>&quot;X&quot;</td></tr></tbody></table></div>"
      ],
      "text/plain": [
       "shape: (8, 2)\n",
       "┌─────┬─────┐\n",
       "│ x   ┆ y   │\n",
       "│ --- ┆ --- │\n",
       "│ i64 ┆ str │\n",
       "╞═════╪═════╡\n",
       "│ 0   ┆ A   │\n",
       "│ 1   ┆ A   │\n",
       "│ 2   ┆ A   │\n",
       "│ 3   ┆ B   │\n",
       "│ 4   ┆ B   │\n",
       "│ 5   ┆ C   │\n",
       "│ 6   ┆ X   │\n",
       "│ 7   ┆ X   │\n",
       "└─────┴─────┘"
      ]
     },
     "execution_count": 23,
     "metadata": {},
     "output_type": "execute_result"
    }
   ],
   "source": [
    "df2"
   ]
  },
  {
   "cell_type": "code",
   "execution_count": 24,
   "metadata": {},
   "outputs": [
    {
     "data": {
      "text/html": [
       "<div><style>\n",
       ".dataframe > thead > tr,\n",
       ".dataframe > tbody > tr {\n",
       "  text-align: right;\n",
       "  white-space: pre-wrap;\n",
       "}\n",
       "</style>\n",
       "<small>shape: (4, 2)</small><table border=\"1\" class=\"dataframe\"><thead><tr><th>y</th><th>len</th></tr><tr><td>str</td><td>u32</td></tr></thead><tbody><tr><td>&quot;A&quot;</td><td>3</td></tr><tr><td>&quot;B&quot;</td><td>2</td></tr><tr><td>&quot;C&quot;</td><td>1</td></tr><tr><td>&quot;X&quot;</td><td>2</td></tr></tbody></table></div>"
      ],
      "text/plain": [
       "shape: (4, 2)\n",
       "┌─────┬─────┐\n",
       "│ y   ┆ len │\n",
       "│ --- ┆ --- │\n",
       "│ str ┆ u32 │\n",
       "╞═════╪═════╡\n",
       "│ A   ┆ 3   │\n",
       "│ B   ┆ 2   │\n",
       "│ C   ┆ 1   │\n",
       "│ X   ┆ 2   │\n",
       "└─────┴─────┘"
      ]
     },
     "execution_count": 24,
     "metadata": {},
     "output_type": "execute_result"
    }
   ],
   "source": [
    "df2.group_by(\"y\", maintain_order=True).len()"
   ]
  },
  {
   "cell_type": "code",
   "execution_count": 25,
   "metadata": {},
   "outputs": [
    {
     "data": {
      "text/html": [
       "<div><style>\n",
       ".dataframe > thead > tr,\n",
       ".dataframe > tbody > tr {\n",
       "  text-align: right;\n",
       "  white-space: pre-wrap;\n",
       "}\n",
       "</style>\n",
       "<small>shape: (8, 3)</small><table border=\"1\" class=\"dataframe\"><thead><tr><th>y</th><th>x</th><th>len</th></tr><tr><td>str</td><td>i64</td><td>u32</td></tr></thead><tbody><tr><td>&quot;A&quot;</td><td>0</td><td>1</td></tr><tr><td>&quot;A&quot;</td><td>1</td><td>1</td></tr><tr><td>&quot;A&quot;</td><td>2</td><td>1</td></tr><tr><td>&quot;B&quot;</td><td>3</td><td>1</td></tr><tr><td>&quot;B&quot;</td><td>4</td><td>1</td></tr><tr><td>&quot;C&quot;</td><td>5</td><td>1</td></tr><tr><td>&quot;X&quot;</td><td>6</td><td>1</td></tr><tr><td>&quot;X&quot;</td><td>7</td><td>1</td></tr></tbody></table></div>"
      ],
      "text/plain": [
       "shape: (8, 3)\n",
       "┌─────┬─────┬─────┐\n",
       "│ y   ┆ x   ┆ len │\n",
       "│ --- ┆ --- ┆ --- │\n",
       "│ str ┆ i64 ┆ u32 │\n",
       "╞═════╪═════╪═════╡\n",
       "│ A   ┆ 0   ┆ 1   │\n",
       "│ A   ┆ 1   ┆ 1   │\n",
       "│ A   ┆ 2   ┆ 1   │\n",
       "│ B   ┆ 3   ┆ 1   │\n",
       "│ B   ┆ 4   ┆ 1   │\n",
       "│ C   ┆ 5   ┆ 1   │\n",
       "│ X   ┆ 6   ┆ 1   │\n",
       "│ X   ┆ 7   ┆ 1   │\n",
       "└─────┴─────┴─────┘"
      ]
     },
     "execution_count": 25,
     "metadata": {},
     "output_type": "execute_result"
    }
   ],
   "source": [
    "df2.group_by(\"y\", \"x\", maintain_order=True).len()"
   ]
  },
  {
   "cell_type": "code",
   "execution_count": 26,
   "metadata": {},
   "outputs": [
    {
     "name": "stderr",
     "output_type": "stream",
     "text": [
      "/tmp/ipykernel_117587/653479329.py:1: DeprecationWarning: `GroupBy.count` is deprecated. It has been renamed to `len`.\n",
      "  df2.group_by(\"y\", maintain_order=True).count()\n"
     ]
    },
    {
     "data": {
      "text/html": [
       "<div><style>\n",
       ".dataframe > thead > tr,\n",
       ".dataframe > tbody > tr {\n",
       "  text-align: right;\n",
       "  white-space: pre-wrap;\n",
       "}\n",
       "</style>\n",
       "<small>shape: (4, 2)</small><table border=\"1\" class=\"dataframe\"><thead><tr><th>y</th><th>count</th></tr><tr><td>str</td><td>u32</td></tr></thead><tbody><tr><td>&quot;A&quot;</td><td>3</td></tr><tr><td>&quot;B&quot;</td><td>2</td></tr><tr><td>&quot;C&quot;</td><td>1</td></tr><tr><td>&quot;X&quot;</td><td>2</td></tr></tbody></table></div>"
      ],
      "text/plain": [
       "shape: (4, 2)\n",
       "┌─────┬───────┐\n",
       "│ y   ┆ count │\n",
       "│ --- ┆ ---   │\n",
       "│ str ┆ u32   │\n",
       "╞═════╪═══════╡\n",
       "│ A   ┆ 3     │\n",
       "│ B   ┆ 2     │\n",
       "│ C   ┆ 1     │\n",
       "│ X   ┆ 2     │\n",
       "└─────┴───────┘"
      ]
     },
     "execution_count": 26,
     "metadata": {},
     "output_type": "execute_result"
    }
   ],
   "source": [
    "df2.group_by(\"y\", maintain_order=True).count()"
   ]
  },
  {
   "cell_type": "code",
   "execution_count": 27,
   "metadata": {},
   "outputs": [
    {
     "data": {
      "text/html": [
       "<div><style>\n",
       ".dataframe > thead > tr,\n",
       ".dataframe > tbody > tr {\n",
       "  text-align: right;\n",
       "  white-space: pre-wrap;\n",
       "}\n",
       "</style>\n",
       "<small>shape: (4, 3)</small><table border=\"1\" class=\"dataframe\"><thead><tr><th>y</th><th>count</th><th>sum</th></tr><tr><td>str</td><td>u32</td><td>i64</td></tr></thead><tbody><tr><td>&quot;A&quot;</td><td>3</td><td>3</td></tr><tr><td>&quot;B&quot;</td><td>2</td><td>7</td></tr><tr><td>&quot;C&quot;</td><td>1</td><td>5</td></tr><tr><td>&quot;X&quot;</td><td>2</td><td>13</td></tr></tbody></table></div>"
      ],
      "text/plain": [
       "shape: (4, 3)\n",
       "┌─────┬───────┬─────┐\n",
       "│ y   ┆ count ┆ sum │\n",
       "│ --- ┆ ---   ┆ --- │\n",
       "│ str ┆ u32   ┆ i64 │\n",
       "╞═════╪═══════╪═════╡\n",
       "│ A   ┆ 3     ┆ 3   │\n",
       "│ B   ┆ 2     ┆ 7   │\n",
       "│ C   ┆ 1     ┆ 5   │\n",
       "│ X   ┆ 2     ┆ 13  │\n",
       "└─────┴───────┴─────┘"
      ]
     },
     "execution_count": 27,
     "metadata": {},
     "output_type": "execute_result"
    }
   ],
   "source": [
    "df2.group_by(\"y\", maintain_order=True).agg(\n",
    "    pl.col(\"*\").count().alias(\"count\"), pl.col(\"*\").sum().alias(\"sum\")\n",
    ")"
   ]
  },
  {
   "cell_type": "code",
   "execution_count": 28,
   "metadata": {},
   "outputs": [
    {
     "data": {
      "text/html": [
       "<div><style>\n",
       ".dataframe > thead > tr,\n",
       ".dataframe > tbody > tr {\n",
       "  text-align: right;\n",
       "  white-space: pre-wrap;\n",
       "}\n",
       "</style>\n",
       "<small>shape: (3, 4)</small><table border=\"1\" class=\"dataframe\"><thead><tr><th>integer</th><th>date</th><th>float</th><th>string</th></tr><tr><td>i64</td><td>datetime[μs, UTC]</td><td>f64</td><td>str</td></tr></thead><tbody><tr><td>1</td><td>2025-01-01 00:00:00 UTC</td><td>4.0</td><td>&quot;a&quot;</td></tr><tr><td>2</td><td>2025-01-02 00:00:00 UTC</td><td>5.0</td><td>&quot;b&quot;</td></tr><tr><td>3</td><td>2025-01-03 00:00:00 UTC</td><td>6.0</td><td>&quot;c&quot;</td></tr></tbody></table></div>"
      ],
      "text/plain": [
       "shape: (3, 4)\n",
       "┌─────────┬─────────────────────────┬───────┬────────┐\n",
       "│ integer ┆ date                    ┆ float ┆ string │\n",
       "│ ---     ┆ ---                     ┆ ---   ┆ ---    │\n",
       "│ i64     ┆ datetime[μs, UTC]       ┆ f64   ┆ str    │\n",
       "╞═════════╪═════════════════════════╪═══════╪════════╡\n",
       "│ 1       ┆ 2025-01-01 00:00:00 UTC ┆ 4.0   ┆ a      │\n",
       "│ 2       ┆ 2025-01-02 00:00:00 UTC ┆ 5.0   ┆ b      │\n",
       "│ 3       ┆ 2025-01-03 00:00:00 UTC ┆ 6.0   ┆ c      │\n",
       "└─────────┴─────────────────────────┴───────┴────────┘"
      ]
     },
     "execution_count": 28,
     "metadata": {},
     "output_type": "execute_result"
    }
   ],
   "source": [
    "df.select(pl.all())"
   ]
  },
  {
   "cell_type": "code",
   "execution_count": 29,
   "metadata": {},
   "outputs": [],
   "source": [
    "df = pl.DataFrame(\n",
    "    {\n",
    "        \"a\": range(8),\n",
    "        \"b\": np.random.rand(8),\n",
    "        \"d\": [1.0, 2.0, float(\"nan\"), float(\"nan\"), 0.0, -5.0, -42.0, None],\n",
    "    }\n",
    ")\n",
    "\n",
    "df2 = pl.DataFrame(\n",
    "    {\n",
    "        \"x\": range(8),\n",
    "        \"y\": [\"A\", \"A\", \"A\", \"B\", \"B\", \"C\", \"X\", \"X\"],\n",
    "    }\n",
    ")"
   ]
  },
  {
   "cell_type": "code",
   "execution_count": 30,
   "metadata": {},
   "outputs": [
    {
     "data": {
      "text/html": [
       "<div><style>\n",
       ".dataframe > thead > tr,\n",
       ".dataframe > tbody > tr {\n",
       "  text-align: right;\n",
       "  white-space: pre-wrap;\n",
       "}\n",
       "</style>\n",
       "<small>shape: (8, 3)</small><table border=\"1\" class=\"dataframe\"><thead><tr><th>a</th><th>b</th><th>d</th></tr><tr><td>i64</td><td>f64</td><td>f64</td></tr></thead><tbody><tr><td>0</td><td>0.822403</td><td>1.0</td></tr><tr><td>1</td><td>0.963259</td><td>2.0</td></tr><tr><td>2</td><td>0.303286</td><td>NaN</td></tr><tr><td>3</td><td>0.981165</td><td>NaN</td></tr><tr><td>4</td><td>0.436694</td><td>0.0</td></tr><tr><td>5</td><td>0.67776</td><td>-5.0</td></tr><tr><td>6</td><td>0.974445</td><td>-42.0</td></tr><tr><td>7</td><td>0.595284</td><td>null</td></tr></tbody></table></div>"
      ],
      "text/plain": [
       "shape: (8, 3)\n",
       "┌─────┬──────────┬───────┐\n",
       "│ a   ┆ b        ┆ d     │\n",
       "│ --- ┆ ---      ┆ ---   │\n",
       "│ i64 ┆ f64      ┆ f64   │\n",
       "╞═════╪══════════╪═══════╡\n",
       "│ 0   ┆ 0.822403 ┆ 1.0   │\n",
       "│ 1   ┆ 0.963259 ┆ 2.0   │\n",
       "│ 2   ┆ 0.303286 ┆ NaN   │\n",
       "│ 3   ┆ 0.981165 ┆ NaN   │\n",
       "│ 4   ┆ 0.436694 ┆ 0.0   │\n",
       "│ 5   ┆ 0.67776  ┆ -5.0  │\n",
       "│ 6   ┆ 0.974445 ┆ -42.0 │\n",
       "│ 7   ┆ 0.595284 ┆ null  │\n",
       "└─────┴──────────┴───────┘"
      ]
     },
     "execution_count": 30,
     "metadata": {},
     "output_type": "execute_result"
    }
   ],
   "source": [
    "df"
   ]
  },
  {
   "cell_type": "code",
   "execution_count": 31,
   "metadata": {},
   "outputs": [
    {
     "data": {
      "text/html": [
       "<div><style>\n",
       ".dataframe > thead > tr,\n",
       ".dataframe > tbody > tr {\n",
       "  text-align: right;\n",
       "  white-space: pre-wrap;\n",
       "}\n",
       "</style>\n",
       "<small>shape: (8, 2)</small><table border=\"1\" class=\"dataframe\"><thead><tr><th>x</th><th>y</th></tr><tr><td>i64</td><td>str</td></tr></thead><tbody><tr><td>0</td><td>&quot;A&quot;</td></tr><tr><td>1</td><td>&quot;A&quot;</td></tr><tr><td>2</td><td>&quot;A&quot;</td></tr><tr><td>3</td><td>&quot;B&quot;</td></tr><tr><td>4</td><td>&quot;B&quot;</td></tr><tr><td>5</td><td>&quot;C&quot;</td></tr><tr><td>6</td><td>&quot;X&quot;</td></tr><tr><td>7</td><td>&quot;X&quot;</td></tr></tbody></table></div>"
      ],
      "text/plain": [
       "shape: (8, 2)\n",
       "┌─────┬─────┐\n",
       "│ x   ┆ y   │\n",
       "│ --- ┆ --- │\n",
       "│ i64 ┆ str │\n",
       "╞═════╪═════╡\n",
       "│ 0   ┆ A   │\n",
       "│ 1   ┆ A   │\n",
       "│ 2   ┆ A   │\n",
       "│ 3   ┆ B   │\n",
       "│ 4   ┆ B   │\n",
       "│ 5   ┆ C   │\n",
       "│ 6   ┆ X   │\n",
       "│ 7   ┆ X   │\n",
       "└─────┴─────┘"
      ]
     },
     "execution_count": 31,
     "metadata": {},
     "output_type": "execute_result"
    }
   ],
   "source": [
    "df2"
   ]
  },
  {
   "cell_type": "code",
   "execution_count": 32,
   "metadata": {},
   "outputs": [
    {
     "data": {
      "text/html": [
       "<div><style>\n",
       ".dataframe > thead > tr,\n",
       ".dataframe > tbody > tr {\n",
       "  text-align: right;\n",
       "  white-space: pre-wrap;\n",
       "}\n",
       "</style>\n",
       "<small>shape: (8, 4)</small><table border=\"1\" class=\"dataframe\"><thead><tr><th>a</th><th>b</th><th>d</th><th>y</th></tr><tr><td>i64</td><td>f64</td><td>f64</td><td>str</td></tr></thead><tbody><tr><td>0</td><td>0.822403</td><td>1.0</td><td>&quot;A&quot;</td></tr><tr><td>1</td><td>0.963259</td><td>2.0</td><td>&quot;A&quot;</td></tr><tr><td>2</td><td>0.303286</td><td>NaN</td><td>&quot;A&quot;</td></tr><tr><td>3</td><td>0.981165</td><td>NaN</td><td>&quot;B&quot;</td></tr><tr><td>4</td><td>0.436694</td><td>0.0</td><td>&quot;B&quot;</td></tr><tr><td>5</td><td>0.67776</td><td>-5.0</td><td>&quot;C&quot;</td></tr><tr><td>6</td><td>0.974445</td><td>-42.0</td><td>&quot;X&quot;</td></tr><tr><td>7</td><td>0.595284</td><td>null</td><td>&quot;X&quot;</td></tr></tbody></table></div>"
      ],
      "text/plain": [
       "shape: (8, 4)\n",
       "┌─────┬──────────┬───────┬─────┐\n",
       "│ a   ┆ b        ┆ d     ┆ y   │\n",
       "│ --- ┆ ---      ┆ ---   ┆ --- │\n",
       "│ i64 ┆ f64      ┆ f64   ┆ str │\n",
       "╞═════╪══════════╪═══════╪═════╡\n",
       "│ 0   ┆ 0.822403 ┆ 1.0   ┆ A   │\n",
       "│ 1   ┆ 0.963259 ┆ 2.0   ┆ A   │\n",
       "│ 2   ┆ 0.303286 ┆ NaN   ┆ A   │\n",
       "│ 3   ┆ 0.981165 ┆ NaN   ┆ B   │\n",
       "│ 4   ┆ 0.436694 ┆ 0.0   ┆ B   │\n",
       "│ 5   ┆ 0.67776  ┆ -5.0  ┆ C   │\n",
       "│ 6   ┆ 0.974445 ┆ -42.0 ┆ X   │\n",
       "│ 7   ┆ 0.595284 ┆ null  ┆ X   │\n",
       "└─────┴──────────┴───────┴─────┘"
      ]
     },
     "execution_count": 32,
     "metadata": {},
     "output_type": "execute_result"
    }
   ],
   "source": [
    "df.join(df2, left_on=pl.col(\"a\"), right_on=pl.col(\"x\"))"
   ]
  },
  {
   "cell_type": "code",
   "execution_count": 33,
   "metadata": {},
   "outputs": [
    {
     "data": {
      "text/html": [
       "<div><style>\n",
       ".dataframe > thead > tr,\n",
       ".dataframe > tbody > tr {\n",
       "  text-align: right;\n",
       "  white-space: pre-wrap;\n",
       "}\n",
       "</style>\n",
       "<small>shape: (8, 5)</small><table border=\"1\" class=\"dataframe\"><thead><tr><th>a</th><th>b</th><th>d</th><th>x</th><th>y</th></tr><tr><td>i64</td><td>f64</td><td>f64</td><td>i64</td><td>str</td></tr></thead><tbody><tr><td>0</td><td>0.822403</td><td>1.0</td><td>0</td><td>&quot;A&quot;</td></tr><tr><td>1</td><td>0.963259</td><td>2.0</td><td>1</td><td>&quot;A&quot;</td></tr><tr><td>2</td><td>0.303286</td><td>NaN</td><td>2</td><td>&quot;A&quot;</td></tr><tr><td>3</td><td>0.981165</td><td>NaN</td><td>3</td><td>&quot;B&quot;</td></tr><tr><td>4</td><td>0.436694</td><td>0.0</td><td>4</td><td>&quot;B&quot;</td></tr><tr><td>5</td><td>0.67776</td><td>-5.0</td><td>5</td><td>&quot;C&quot;</td></tr><tr><td>6</td><td>0.974445</td><td>-42.0</td><td>6</td><td>&quot;X&quot;</td></tr><tr><td>7</td><td>0.595284</td><td>null</td><td>7</td><td>&quot;X&quot;</td></tr></tbody></table></div>"
      ],
      "text/plain": [
       "shape: (8, 5)\n",
       "┌─────┬──────────┬───────┬─────┬─────┐\n",
       "│ a   ┆ b        ┆ d     ┆ x   ┆ y   │\n",
       "│ --- ┆ ---      ┆ ---   ┆ --- ┆ --- │\n",
       "│ i64 ┆ f64      ┆ f64   ┆ i64 ┆ str │\n",
       "╞═════╪══════════╪═══════╪═════╪═════╡\n",
       "│ 0   ┆ 0.822403 ┆ 1.0   ┆ 0   ┆ A   │\n",
       "│ 1   ┆ 0.963259 ┆ 2.0   ┆ 1   ┆ A   │\n",
       "│ 2   ┆ 0.303286 ┆ NaN   ┆ 2   ┆ A   │\n",
       "│ 3   ┆ 0.981165 ┆ NaN   ┆ 3   ┆ B   │\n",
       "│ 4   ┆ 0.436694 ┆ 0.0   ┆ 4   ┆ B   │\n",
       "│ 5   ┆ 0.67776  ┆ -5.0  ┆ 5   ┆ C   │\n",
       "│ 6   ┆ 0.974445 ┆ -42.0 ┆ 6   ┆ X   │\n",
       "│ 7   ┆ 0.595284 ┆ null  ┆ 7   ┆ X   │\n",
       "└─────┴──────────┴───────┴─────┴─────┘"
      ]
     },
     "execution_count": 33,
     "metadata": {},
     "output_type": "execute_result"
    }
   ],
   "source": [
    "df.hstack(df2)"
   ]
  },
  {
   "cell_type": "code",
   "execution_count": 35,
   "metadata": {},
   "outputs": [
    {
     "ename": "SchemaError",
     "evalue": "type String is incompatible with expected type Float64",
     "output_type": "error",
     "traceback": [
      "\u001b[0;31m---------------------------------------------------------------------------\u001b[0m",
      "\u001b[0;31mSchemaError\u001b[0m                               Traceback (most recent call last)",
      "\u001b[0;32m/tmp/ipykernel_117587/1715919081.py\u001b[0m in \u001b[0;36m?\u001b[0;34m()\u001b[0m\n\u001b[0;32m----> 1\u001b[0;31m \u001b[0mdf\u001b[0m\u001b[0;34m.\u001b[0m\u001b[0mselect\u001b[0m\u001b[0;34m(\u001b[0m\u001b[0mpl\u001b[0m\u001b[0;34m.\u001b[0m\u001b[0mcol\u001b[0m\u001b[0;34m(\u001b[0m\u001b[0;34m\"a\"\u001b[0m\u001b[0;34m,\u001b[0m \u001b[0;34m\"b\"\u001b[0m\u001b[0;34m)\u001b[0m\u001b[0;34m)\u001b[0m\u001b[0;34m.\u001b[0m\u001b[0mvstack\u001b[0m\u001b[0;34m(\u001b[0m\u001b[0mdf2\u001b[0m\u001b[0;34m.\u001b[0m\u001b[0mrename\u001b[0m\u001b[0;34m(\u001b[0m\u001b[0;34m{\u001b[0m\u001b[0;34m\"x\"\u001b[0m\u001b[0;34m:\u001b[0m \u001b[0;34m\"a\"\u001b[0m\u001b[0;34m,\u001b[0m \u001b[0;34m\"y\"\u001b[0m\u001b[0;34m:\u001b[0m \u001b[0;34m\"b\"\u001b[0m\u001b[0;34m}\u001b[0m\u001b[0;34m)\u001b[0m\u001b[0;34m)\u001b[0m\u001b[0;34m\u001b[0m\u001b[0;34m\u001b[0m\u001b[0m\n\u001b[0m",
      "\u001b[0;32m~/workspace/ml-zoomcamp/.venv/lib/python3.12/site-packages/polars/dataframe/frame.py\u001b[0m in \u001b[0;36m?\u001b[0;34m(self, other, in_place)\u001b[0m\n\u001b[1;32m   7378\u001b[0m                     \u001b[0;32mraise\u001b[0m\u001b[0;34m\u001b[0m\u001b[0;34m\u001b[0m\u001b[0m\n\u001b[1;32m   7379\u001b[0m             \u001b[0;32melse\u001b[0m\u001b[0;34m:\u001b[0m\u001b[0;34m\u001b[0m\u001b[0;34m\u001b[0m\u001b[0m\n\u001b[1;32m   7380\u001b[0m                 \u001b[0;32mreturn\u001b[0m \u001b[0mself\u001b[0m\u001b[0;34m\u001b[0m\u001b[0;34m\u001b[0m\u001b[0m\n\u001b[1;32m   7381\u001b[0m \u001b[0;34m\u001b[0m\u001b[0m\n\u001b[0;32m-> 7382\u001b[0;31m         \u001b[0;32mreturn\u001b[0m \u001b[0mself\u001b[0m\u001b[0;34m.\u001b[0m\u001b[0m_from_pydf\u001b[0m\u001b[0;34m(\u001b[0m\u001b[0mself\u001b[0m\u001b[0;34m.\u001b[0m\u001b[0m_df\u001b[0m\u001b[0;34m.\u001b[0m\u001b[0mvstack\u001b[0m\u001b[0;34m(\u001b[0m\u001b[0mother\u001b[0m\u001b[0;34m.\u001b[0m\u001b[0m_df\u001b[0m\u001b[0;34m)\u001b[0m\u001b[0;34m)\u001b[0m\u001b[0;34m\u001b[0m\u001b[0;34m\u001b[0m\u001b[0m\n\u001b[0m",
      "\u001b[0;31mSchemaError\u001b[0m: type String is incompatible with expected type Float64"
     ]
    }
   ],
   "source": [
    "df.select(pl.col(\"a\", \"b\")).vstack(df2.rename({\"x\": \"a\", \"y\": \"b\"}))"
   ]
  },
  {
   "cell_type": "code",
   "execution_count": 36,
   "metadata": {},
   "outputs": [
    {
     "data": {
      "text/html": [
       "<div><style>\n",
       ".dataframe > thead > tr,\n",
       ".dataframe > tbody > tr {\n",
       "  text-align: right;\n",
       "  white-space: pre-wrap;\n",
       "}\n",
       "</style>\n",
       "<small>shape: (9, 4)</small><table border=\"1\" class=\"dataframe\"><thead><tr><th>statistic</th><th>a</th><th>b</th><th>d</th></tr><tr><td>str</td><td>f64</td><td>f64</td><td>f64</td></tr></thead><tbody><tr><td>&quot;count&quot;</td><td>8.0</td><td>8.0</td><td>7.0</td></tr><tr><td>&quot;null_count&quot;</td><td>0.0</td><td>0.0</td><td>1.0</td></tr><tr><td>&quot;mean&quot;</td><td>3.5</td><td>0.719287</td><td>NaN</td></tr><tr><td>&quot;std&quot;</td><td>2.44949</td><td>0.260181</td><td>NaN</td></tr><tr><td>&quot;min&quot;</td><td>0.0</td><td>0.303286</td><td>-42.0</td></tr><tr><td>&quot;25%&quot;</td><td>2.0</td><td>0.595284</td><td>0.0</td></tr><tr><td>&quot;50%&quot;</td><td>4.0</td><td>0.822403</td><td>1.0</td></tr><tr><td>&quot;75%&quot;</td><td>5.0</td><td>0.963259</td><td>NaN</td></tr><tr><td>&quot;max&quot;</td><td>7.0</td><td>0.981165</td><td>2.0</td></tr></tbody></table></div>"
      ],
      "text/plain": [
       "shape: (9, 4)\n",
       "┌────────────┬─────────┬──────────┬───────┐\n",
       "│ statistic  ┆ a       ┆ b        ┆ d     │\n",
       "│ ---        ┆ ---     ┆ ---      ┆ ---   │\n",
       "│ str        ┆ f64     ┆ f64      ┆ f64   │\n",
       "╞════════════╪═════════╪══════════╪═══════╡\n",
       "│ count      ┆ 8.0     ┆ 8.0      ┆ 7.0   │\n",
       "│ null_count ┆ 0.0     ┆ 0.0      ┆ 1.0   │\n",
       "│ mean       ┆ 3.5     ┆ 0.719287 ┆ NaN   │\n",
       "│ std        ┆ 2.44949 ┆ 0.260181 ┆ NaN   │\n",
       "│ min        ┆ 0.0     ┆ 0.303286 ┆ -42.0 │\n",
       "│ 25%        ┆ 2.0     ┆ 0.595284 ┆ 0.0   │\n",
       "│ 50%        ┆ 4.0     ┆ 0.822403 ┆ 1.0   │\n",
       "│ 75%        ┆ 5.0     ┆ 0.963259 ┆ NaN   │\n",
       "│ max        ┆ 7.0     ┆ 0.981165 ┆ 2.0   │\n",
       "└────────────┴─────────┴──────────┴───────┘"
      ]
     },
     "execution_count": 36,
     "metadata": {},
     "output_type": "execute_result"
    }
   ],
   "source": [
    "df.describe()"
   ]
  },
  {
   "cell_type": "code",
   "execution_count": 37,
   "metadata": {},
   "outputs": [
    {
     "data": {
      "text/plain": [
       "(8, 3)"
      ]
     },
     "execution_count": 37,
     "metadata": {},
     "output_type": "execute_result"
    }
   ],
   "source": [
    "df.shape"
   ]
  },
  {
   "cell_type": "code",
   "execution_count": 40,
   "metadata": {},
   "outputs": [
    {
     "data": {
      "text/html": [
       "<div><style>\n",
       ".dataframe > thead > tr,\n",
       ".dataframe > tbody > tr {\n",
       "  text-align: right;\n",
       "  white-space: pre-wrap;\n",
       "}\n",
       "</style>\n",
       "<small>shape: (8, 3)</small><table border=\"1\" class=\"dataframe\"><thead><tr><th>a</th><th>b</th><th>d</th></tr><tr><td>i64</td><td>f64</td><td>f64</td></tr></thead><tbody><tr><td>0</td><td>0.822403</td><td>1.0</td></tr><tr><td>1</td><td>0.963259</td><td>2.0</td></tr><tr><td>2</td><td>0.303286</td><td>NaN</td></tr><tr><td>3</td><td>0.981165</td><td>NaN</td></tr><tr><td>4</td><td>0.436694</td><td>0.0</td></tr><tr><td>5</td><td>0.67776</td><td>-5.0</td></tr><tr><td>6</td><td>0.974445</td><td>-42.0</td></tr><tr><td>7</td><td>0.595284</td><td>null</td></tr></tbody></table></div>"
      ],
      "text/plain": [
       "shape: (8, 3)\n",
       "┌─────┬──────────┬───────┐\n",
       "│ a   ┆ b        ┆ d     │\n",
       "│ --- ┆ ---      ┆ ---   │\n",
       "│ i64 ┆ f64      ┆ f64   │\n",
       "╞═════╪══════════╪═══════╡\n",
       "│ 0   ┆ 0.822403 ┆ 1.0   │\n",
       "│ 1   ┆ 0.963259 ┆ 2.0   │\n",
       "│ 2   ┆ 0.303286 ┆ NaN   │\n",
       "│ 3   ┆ 0.981165 ┆ NaN   │\n",
       "│ 4   ┆ 0.436694 ┆ 0.0   │\n",
       "│ 5   ┆ 0.67776  ┆ -5.0  │\n",
       "│ 6   ┆ 0.974445 ┆ -42.0 │\n",
       "│ 7   ┆ 0.595284 ┆ null  │\n",
       "└─────┴──────────┴───────┘"
      ]
     },
     "execution_count": 40,
     "metadata": {},
     "output_type": "execute_result"
    }
   ],
   "source": [
    "df"
   ]
  },
  {
   "cell_type": "code",
   "execution_count": 101,
   "metadata": {},
   "outputs": [],
   "source": [
    "u = np.array([2, 7, 5, 6])\n",
    "v = np.array([3, 4, 8, 6])\n",
    "\n",
    "V = np.array(\n",
    "    [\n",
    "        [1, 1, 2, 0],\n",
    "        [0, 0.5, 1, 2],\n",
    "        [0, 2, 1, 0.5],\n",
    "    ]\n",
    ")"
   ]
  },
  {
   "cell_type": "code",
   "execution_count": 67,
   "metadata": {},
   "outputs": [
    {
     "data": {
      "text/plain": [
       "array([ 5, 11, 13, 12])"
      ]
     },
     "execution_count": 67,
     "metadata": {},
     "output_type": "execute_result"
    }
   ],
   "source": [
    "# addition\n",
    "u + v"
   ]
  },
  {
   "cell_type": "code",
   "execution_count": 68,
   "metadata": {},
   "outputs": [
    {
     "data": {
      "text/plain": [
       "array([-1,  3, -3,  0])"
      ]
     },
     "execution_count": 68,
     "metadata": {},
     "output_type": "execute_result"
    }
   ],
   "source": [
    "# subtraction\n",
    "u - v"
   ]
  },
  {
   "cell_type": "code",
   "execution_count": 69,
   "metadata": {},
   "outputs": [
    {
     "data": {
      "text/plain": [
       "array([ 6,  8, 16, 12])"
      ]
     },
     "execution_count": 69,
     "metadata": {},
     "output_type": "execute_result"
    }
   ],
   "source": [
    "# scalar multiplication\n",
    "2 * v"
   ]
  },
  {
   "cell_type": "code",
   "execution_count": 70,
   "metadata": {},
   "outputs": [
    {
     "data": {
      "text/plain": [
       "np.int64(110)"
      ]
     },
     "execution_count": 70,
     "metadata": {},
     "output_type": "execute_result"
    }
   ],
   "source": [
    "u @ v"
   ]
  },
  {
   "cell_type": "code",
   "execution_count": 71,
   "metadata": {},
   "outputs": [
    {
     "data": {
      "text/plain": [
       "4"
      ]
     },
     "execution_count": 71,
     "metadata": {},
     "output_type": "execute_result"
    }
   ],
   "source": [
    "u.shape[0]"
   ]
  },
  {
   "cell_type": "code",
   "execution_count": 76,
   "metadata": {},
   "outputs": [
    {
     "data": {
      "text/plain": [
       "np.int64(110)"
      ]
     },
     "execution_count": 76,
     "metadata": {},
     "output_type": "execute_result"
    }
   ],
   "source": [
    "def vector_vector_multiplication(u, v):\n",
    "    assert u.shape[0] == v.shape[0]\n",
    "    n = u.shape[0]\n",
    "    result = 0\n",
    "    for i in range(n):\n",
    "        result += u[i] * v[i]\n",
    "    return result\n",
    "\n",
    "\n",
    "vector_vector_multiplication(u, v)"
   ]
  },
  {
   "cell_type": "code",
   "execution_count": 102,
   "metadata": {},
   "outputs": [
    {
     "data": {
      "text/plain": [
       "array([2, 7, 5, 6])"
      ]
     },
     "execution_count": 102,
     "metadata": {},
     "output_type": "execute_result"
    }
   ],
   "source": [
    "u"
   ]
  },
  {
   "cell_type": "code",
   "execution_count": 103,
   "metadata": {},
   "outputs": [
    {
     "data": {
      "text/plain": [
       "array([[1. , 1. , 2. , 0. ],\n",
       "       [0. , 0.5, 1. , 2. ],\n",
       "       [0. , 2. , 1. , 0.5]])"
      ]
     },
     "execution_count": 103,
     "metadata": {},
     "output_type": "execute_result"
    }
   ],
   "source": [
    "V"
   ]
  },
  {
   "cell_type": "code",
   "execution_count": 105,
   "metadata": {},
   "outputs": [
    {
     "data": {
      "text/plain": [
       "array([19. , 20.5, 22. ])"
      ]
     },
     "execution_count": 105,
     "metadata": {},
     "output_type": "execute_result"
    }
   ],
   "source": [
    "V @ u"
   ]
  },
  {
   "cell_type": "code",
   "execution_count": 106,
   "metadata": {},
   "outputs": [
    {
     "data": {
      "text/plain": [
       "(4,)"
      ]
     },
     "execution_count": 106,
     "metadata": {},
     "output_type": "execute_result"
    }
   ],
   "source": [
    "u.shape"
   ]
  },
  {
   "cell_type": "code",
   "execution_count": 107,
   "metadata": {},
   "outputs": [
    {
     "data": {
      "text/plain": [
       "(3, 4)"
      ]
     },
     "execution_count": 107,
     "metadata": {},
     "output_type": "execute_result"
    }
   ],
   "source": [
    "V.shape"
   ]
  },
  {
   "cell_type": "code",
   "execution_count": 114,
   "metadata": {},
   "outputs": [
    {
     "data": {
      "text/plain": [
       "array([19. , 20.5, 22. ])"
      ]
     },
     "execution_count": 114,
     "metadata": {},
     "output_type": "execute_result"
    }
   ],
   "source": [
    "def matrix_vector_multiplication(U, v):\n",
    "    assert U.shape[1] == v.shape[0]\n",
    "    num_rows = U.shape[0]\n",
    "    result = np.zeros(num_rows)\n",
    "    for i in range(num_rows):\n",
    "        result[i] = vector_vector_multiplication(U[i], v)\n",
    "    return result\n",
    "\n",
    "\n",
    "matrix_vector_multiplication(V, u)\n"
   ]
  },
  {
   "cell_type": "code",
   "execution_count": 130,
   "metadata": {},
   "outputs": [
    {
     "data": {
      "text/plain": [
       "array([[6.  , 2.5 , 4.  ],\n",
       "       [2.5 , 5.25, 3.  ],\n",
       "       [4.  , 3.  , 5.25]])"
      ]
     },
     "execution_count": 130,
     "metadata": {},
     "output_type": "execute_result"
    }
   ],
   "source": [
    "V @ np.transpose(V)"
   ]
  },
  {
   "cell_type": "code",
   "execution_count": 131,
   "metadata": {},
   "outputs": [
    {
     "data": {
      "text/plain": [
       "array([[1. , 1. , 2. , 0. ],\n",
       "       [0. , 0.5, 1. , 2. ],\n",
       "       [0. , 2. , 1. , 0.5]])"
      ]
     },
     "execution_count": 131,
     "metadata": {},
     "output_type": "execute_result"
    }
   ],
   "source": [
    "V"
   ]
  },
  {
   "cell_type": "code",
   "execution_count": 132,
   "metadata": {},
   "outputs": [
    {
     "data": {
      "text/plain": [
       "array([[1. , 0. , 0. ],\n",
       "       [1. , 0.5, 2. ],\n",
       "       [2. , 1. , 1. ],\n",
       "       [0. , 2. , 0.5]])"
      ]
     },
     "execution_count": 132,
     "metadata": {},
     "output_type": "execute_result"
    }
   ],
   "source": [
    "V.transpose()"
   ]
  },
  {
   "cell_type": "code",
   "execution_count": 141,
   "metadata": {},
   "outputs": [
    {
     "data": {
      "text/plain": [
       "(4, 3)"
      ]
     },
     "execution_count": 141,
     "metadata": {},
     "output_type": "execute_result"
    }
   ],
   "source": [
    "V.transpose().shape"
   ]
  },
  {
   "cell_type": "code",
   "execution_count": 142,
   "metadata": {},
   "outputs": [
    {
     "data": {
      "text/plain": [
       "array([1., 1., 2., 0.])"
      ]
     },
     "execution_count": 142,
     "metadata": {},
     "output_type": "execute_result"
    }
   ],
   "source": [
    "V.transpose()[:, 0]"
   ]
  },
  {
   "cell_type": "code",
   "execution_count": null,
   "metadata": {},
   "outputs": [],
   "source": []
  }
 ],
 "metadata": {
  "kernelspec": {
   "display_name": ".venv",
   "language": "python",
   "name": "python3"
  },
  "language_info": {
   "codemirror_mode": {
    "name": "ipython",
    "version": 3
   },
   "file_extension": ".py",
   "mimetype": "text/x-python",
   "name": "python",
   "nbconvert_exporter": "python",
   "pygments_lexer": "ipython3",
   "version": "3.12.5"
  }
 },
 "nbformat": 4,
 "nbformat_minor": 2
}
