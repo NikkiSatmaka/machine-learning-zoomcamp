{
 "cells": [
  {
   "cell_type": "markdown",
   "metadata": {},
   "source": [
    "# Homework 04\n"
   ]
  },
  {
   "cell_type": "code",
   "execution_count": 1,
   "metadata": {},
   "outputs": [
    {
     "name": "stderr",
     "output_type": "stream",
     "text": [
      "/home/nikki/workspace/ml-zoomcamp/.venv/lib/python3.12/site-packages/tqdm/auto.py:21: TqdmWarning: IProgress not found. Please update jupyter and ipywidgets. See https://ipywidgets.readthedocs.io/en/stable/user_install.html\n",
      "  from .autonotebook import tqdm as notebook_tqdm\n"
     ]
    }
   ],
   "source": [
    "from pathlib import Path\n",
    "\n",
    "import altair as alt\n",
    "import numpy as np\n",
    "import polars as pl\n",
    "from sklearn.feature_extraction import DictVectorizer\n",
    "from sklearn.linear_model import LogisticRegression\n",
    "from sklearn.metrics import roc_auc_score\n",
    "from sklearn.model_selection import KFold, train_test_split\n",
    "from tqdm.auto import tqdm\n",
    "\n",
    "from ml_zoomcamp.churn import (\n",
    "    get_churn_score_dv_pipeline,\n",
    ")\n",
    "from ml_zoomcamp.utils import clean_column_names, load_data\n",
    "\n",
    "ROOT_DIR = Path.cwd().parent\n",
    "DATA_DIR = ROOT_DIR.joinpath(\"data\")"
   ]
  },
  {
   "cell_type": "code",
   "execution_count": 2,
   "metadata": {},
   "outputs": [],
   "source": [
    "SEED = 1"
   ]
  },
  {
   "cell_type": "markdown",
   "metadata": {},
   "source": [
    "### Getting the data\n"
   ]
  },
  {
   "cell_type": "code",
   "execution_count": 3,
   "metadata": {},
   "outputs": [],
   "source": [
    "csv_path = DATA_DIR.joinpath(\"bank_marketing/bank/bank-full.csv\")\n",
    "df = load_data(csv_path, DATA_DIR, separator=\";\")\n",
    "df = clean_column_names(df)"
   ]
  },
  {
   "cell_type": "markdown",
   "metadata": {},
   "source": [
    "#### Cleanup Columns\n"
   ]
  },
  {
   "cell_type": "code",
   "execution_count": 4,
   "metadata": {},
   "outputs": [],
   "source": [
    "base = [\n",
    "    \"age\",\n",
    "    \"job\",\n",
    "    \"marital\",\n",
    "    \"education\",\n",
    "    \"balance\",\n",
    "    \"housing\",\n",
    "    \"contact\",\n",
    "    \"day\",\n",
    "    \"month\",\n",
    "    \"duration\",\n",
    "    \"campaign\",\n",
    "    \"pdays\",\n",
    "    \"previous\",\n",
    "    \"poutcome\",\n",
    "    \"y\",\n",
    "]"
   ]
  },
  {
   "cell_type": "code",
   "execution_count": 5,
   "metadata": {},
   "outputs": [],
   "source": [
    "df = df.select(pl.col(base))"
   ]
  },
  {
   "cell_type": "markdown",
   "metadata": {},
   "source": [
    "### Data Preparation\n"
   ]
  },
  {
   "cell_type": "code",
   "execution_count": 6,
   "metadata": {},
   "outputs": [
    {
     "data": {
      "text/plain": [
       "Schema([('age', Int64),\n",
       "        ('job', String),\n",
       "        ('marital', String),\n",
       "        ('education', String),\n",
       "        ('balance', Int64),\n",
       "        ('housing', String),\n",
       "        ('contact', String),\n",
       "        ('day', Int64),\n",
       "        ('month', String),\n",
       "        ('duration', Int64),\n",
       "        ('campaign', Int64),\n",
       "        ('pdays', Int64),\n",
       "        ('previous', Int64),\n",
       "        ('poutcome', String),\n",
       "        ('y', String)])"
      ]
     },
     "execution_count": 6,
     "metadata": {},
     "output_type": "execute_result"
    }
   ],
   "source": [
    "df.schema"
   ]
  },
  {
   "cell_type": "code",
   "execution_count": 7,
   "metadata": {},
   "outputs": [
    {
     "name": "stdout",
     "output_type": "stream",
     "text": [
      "Rows: 45211\n",
      "Columns: 15\n",
      "$ age       <i64> 58, 44, 33, 47, 33, 35, 28, 42, 58, 43\n",
      "$ job       <str> 'management', 'technician', 'entrepreneur', 'blue-collar', 'unknown', 'management', 'management', 'entrepreneur', 'retired', 'technician'\n",
      "$ marital   <str> 'married', 'single', 'married', 'married', 'single', 'married', 'single', 'divorced', 'married', 'single'\n",
      "$ education <str> 'tertiary', 'secondary', 'secondary', 'unknown', 'unknown', 'tertiary', 'tertiary', 'tertiary', 'primary', 'secondary'\n",
      "$ balance   <i64> 2143, 29, 2, 1506, 1, 231, 447, 2, 121, 593\n",
      "$ housing   <str> 'yes', 'yes', 'yes', 'yes', 'no', 'yes', 'yes', 'yes', 'yes', 'yes'\n",
      "$ contact   <str> 'unknown', 'unknown', 'unknown', 'unknown', 'unknown', 'unknown', 'unknown', 'unknown', 'unknown', 'unknown'\n",
      "$ day       <i64> 5, 5, 5, 5, 5, 5, 5, 5, 5, 5\n",
      "$ month     <str> 'may', 'may', 'may', 'may', 'may', 'may', 'may', 'may', 'may', 'may'\n",
      "$ duration  <i64> 261, 151, 76, 92, 198, 139, 217, 380, 50, 55\n",
      "$ campaign  <i64> 1, 1, 1, 1, 1, 1, 1, 1, 1, 1\n",
      "$ pdays     <i64> -1, -1, -1, -1, -1, -1, -1, -1, -1, -1\n",
      "$ previous  <i64> 0, 0, 0, 0, 0, 0, 0, 0, 0, 0\n",
      "$ poutcome  <str> 'unknown', 'unknown', 'unknown', 'unknown', 'unknown', 'unknown', 'unknown', 'unknown', 'unknown', 'unknown'\n",
      "$ y         <str> 'no', 'no', 'no', 'no', 'no', 'no', 'no', 'no', 'no', 'no'\n",
      "\n"
     ]
    }
   ],
   "source": [
    "df.glimpse()"
   ]
  },
  {
   "cell_type": "code",
   "execution_count": null,
   "metadata": {},
   "outputs": [
    {
     "data": {
      "text/html": [
       "<div><style>\n",
       ".dataframe > thead > tr,\n",
       ".dataframe > tbody > tr {\n",
       "  text-align: right;\n",
       "  white-space: pre-wrap;\n",
       "}\n",
       "</style>\n",
       "<small>shape: (9, 16)</small><table border=\"1\" class=\"dataframe\"><thead><tr><th>statistic</th><th>age</th><th>job</th><th>marital</th><th>education</th><th>balance</th><th>housing</th><th>contact</th><th>day</th><th>month</th><th>duration</th><th>campaign</th><th>pdays</th><th>previous</th><th>poutcome</th><th>y</th></tr><tr><td>str</td><td>f64</td><td>str</td><td>str</td><td>str</td><td>f64</td><td>str</td><td>str</td><td>f64</td><td>str</td><td>f64</td><td>f64</td><td>f64</td><td>f64</td><td>str</td><td>str</td></tr></thead><tbody><tr><td>&quot;count&quot;</td><td>45211.0</td><td>&quot;45211&quot;</td><td>&quot;45211&quot;</td><td>&quot;45211&quot;</td><td>45211.0</td><td>&quot;45211&quot;</td><td>&quot;45211&quot;</td><td>45211.0</td><td>&quot;45211&quot;</td><td>45211.0</td><td>45211.0</td><td>45211.0</td><td>45211.0</td><td>&quot;45211&quot;</td><td>&quot;45211&quot;</td></tr><tr><td>&quot;null_count&quot;</td><td>0.0</td><td>&quot;0&quot;</td><td>&quot;0&quot;</td><td>&quot;0&quot;</td><td>0.0</td><td>&quot;0&quot;</td><td>&quot;0&quot;</td><td>0.0</td><td>&quot;0&quot;</td><td>0.0</td><td>0.0</td><td>0.0</td><td>0.0</td><td>&quot;0&quot;</td><td>&quot;0&quot;</td></tr><tr><td>&quot;mean&quot;</td><td>40.93621</td><td>null</td><td>null</td><td>null</td><td>1362.272058</td><td>null</td><td>null</td><td>15.806419</td><td>null</td><td>258.16308</td><td>2.763841</td><td>40.197828</td><td>0.580323</td><td>null</td><td>null</td></tr><tr><td>&quot;std&quot;</td><td>10.618762</td><td>null</td><td>null</td><td>null</td><td>3044.765829</td><td>null</td><td>null</td><td>8.322476</td><td>null</td><td>257.527812</td><td>3.098021</td><td>100.128746</td><td>2.303441</td><td>null</td><td>null</td></tr><tr><td>&quot;min&quot;</td><td>18.0</td><td>&quot;admin.&quot;</td><td>&quot;divorced&quot;</td><td>&quot;primary&quot;</td><td>-8019.0</td><td>&quot;no&quot;</td><td>&quot;cellular&quot;</td><td>1.0</td><td>&quot;apr&quot;</td><td>0.0</td><td>1.0</td><td>-1.0</td><td>0.0</td><td>&quot;failure&quot;</td><td>&quot;no&quot;</td></tr><tr><td>&quot;25%&quot;</td><td>33.0</td><td>null</td><td>null</td><td>null</td><td>72.0</td><td>null</td><td>null</td><td>8.0</td><td>null</td><td>103.0</td><td>1.0</td><td>-1.0</td><td>0.0</td><td>null</td><td>null</td></tr><tr><td>&quot;50%&quot;</td><td>39.0</td><td>null</td><td>null</td><td>null</td><td>448.0</td><td>null</td><td>null</td><td>16.0</td><td>null</td><td>180.0</td><td>2.0</td><td>-1.0</td><td>0.0</td><td>null</td><td>null</td></tr><tr><td>&quot;75%&quot;</td><td>48.0</td><td>null</td><td>null</td><td>null</td><td>1428.0</td><td>null</td><td>null</td><td>21.0</td><td>null</td><td>319.0</td><td>3.0</td><td>-1.0</td><td>0.0</td><td>null</td><td>null</td></tr><tr><td>&quot;max&quot;</td><td>95.0</td><td>&quot;unknown&quot;</td><td>&quot;single&quot;</td><td>&quot;unknown&quot;</td><td>102127.0</td><td>&quot;yes&quot;</td><td>&quot;unknown&quot;</td><td>31.0</td><td>&quot;sep&quot;</td><td>4918.0</td><td>63.0</td><td>871.0</td><td>275.0</td><td>&quot;unknown&quot;</td><td>&quot;yes&quot;</td></tr></tbody></table></div>"
      ],
      "text/plain": [
       "shape: (9, 16)\n",
       "┌────────────┬───────────┬─────────┬──────────┬───┬────────────┬──────────┬──────────┬───────┐\n",
       "│ statistic  ┆ age       ┆ job     ┆ marital  ┆ … ┆ pdays      ┆ previous ┆ poutcome ┆ y     │\n",
       "│ ---        ┆ ---       ┆ ---     ┆ ---      ┆   ┆ ---        ┆ ---      ┆ ---      ┆ ---   │\n",
       "│ str        ┆ f64       ┆ str     ┆ str      ┆   ┆ f64        ┆ f64      ┆ str      ┆ str   │\n",
       "╞════════════╪═══════════╪═════════╪══════════╪═══╪════════════╪══════════╪══════════╪═══════╡\n",
       "│ count      ┆ 45211.0   ┆ 45211   ┆ 45211    ┆ … ┆ 45211.0    ┆ 45211.0  ┆ 45211    ┆ 45211 │\n",
       "│ null_count ┆ 0.0       ┆ 0       ┆ 0        ┆ … ┆ 0.0        ┆ 0.0      ┆ 0        ┆ 0     │\n",
       "│ mean       ┆ 40.93621  ┆ null    ┆ null     ┆ … ┆ 40.197828  ┆ 0.580323 ┆ null     ┆ null  │\n",
       "│ std        ┆ 10.618762 ┆ null    ┆ null     ┆ … ┆ 100.128746 ┆ 2.303441 ┆ null     ┆ null  │\n",
       "│ min        ┆ 18.0      ┆ admin.  ┆ divorced ┆ … ┆ -1.0       ┆ 0.0      ┆ failure  ┆ no    │\n",
       "│ 25%        ┆ 33.0      ┆ null    ┆ null     ┆ … ┆ -1.0       ┆ 0.0      ┆ null     ┆ null  │\n",
       "│ 50%        ┆ 39.0      ┆ null    ┆ null     ┆ … ┆ -1.0       ┆ 0.0      ┆ null     ┆ null  │\n",
       "│ 75%        ┆ 48.0      ┆ null    ┆ null     ┆ … ┆ -1.0       ┆ 0.0      ┆ null     ┆ null  │\n",
       "│ max        ┆ 95.0      ┆ unknown ┆ single   ┆ … ┆ 871.0      ┆ 275.0    ┆ unknown  ┆ yes   │\n",
       "└────────────┴───────────┴─────────┴──────────┴───┴────────────┴──────────┴──────────┴───────┘"
      ]
     },
     "execution_count": 8,
     "metadata": {},
     "output_type": "execute_result"
    }
   ],
   "source": [
    "df.describe()"
   ]
  },
  {
   "cell_type": "code",
   "execution_count": 9,
   "metadata": {},
   "outputs": [
    {
     "data": {
      "text/html": [
       "<div><style>\n",
       ".dataframe > thead > tr,\n",
       ".dataframe > tbody > tr {\n",
       "  text-align: right;\n",
       "  white-space: pre-wrap;\n",
       "}\n",
       "</style>\n",
       "<small>shape: (0, 2)</small><table border=\"1\" class=\"dataframe\"><thead><tr><th>column</th><th>null_count</th></tr><tr><td>str</td><td>u32</td></tr></thead><tbody></tbody></table></div>"
      ],
      "text/plain": [
       "shape: (0, 2)\n",
       "┌────────┬────────────┐\n",
       "│ column ┆ null_count │\n",
       "│ ---    ┆ ---        │\n",
       "│ str    ┆ u32        │\n",
       "╞════════╪════════════╡\n",
       "└────────┴────────────┘"
      ]
     },
     "execution_count": 9,
     "metadata": {},
     "output_type": "execute_result"
    }
   ],
   "source": [
    "df.null_count().transpose(include_header=True, column_names=[\"null_count\"]).filter(\n",
    "    pl.col(\"null_count\") > 0\n",
    ").sort(pl.col(\"null_count\"), descending=True)"
   ]
  },
  {
   "cell_type": "markdown",
   "metadata": {},
   "source": [
    "There are no missing features\n"
   ]
  },
  {
   "cell_type": "code",
   "execution_count": 10,
   "metadata": {},
   "outputs": [],
   "source": [
    "categorical = [\"job\", \"marital\", \"education\", \"housing\", \"contact\", \"month\", \"poutcome\"]\n",
    "numerical = [\"age\", \"balance\", \"day\", \"duration\", \"campaign\", \"pdays\", \"previous\"]"
   ]
  },
  {
   "cell_type": "markdown",
   "metadata": {},
   "source": [
    "## EDA\n"
   ]
  },
  {
   "cell_type": "code",
   "execution_count": null,
   "metadata": {},
   "outputs": [
    {
     "data": {
      "text/html": [
       "<div><style>\n",
       ".dataframe > thead > tr,\n",
       ".dataframe > tbody > tr {\n",
       "  text-align: right;\n",
       "  white-space: pre-wrap;\n",
       "}\n",
       "</style>\n",
       "<small>shape: (2, 2)</small><table border=\"1\" class=\"dataframe\"><thead><tr><th>y</th><th>proportion</th></tr><tr><td>str</td><td>f64</td></tr></thead><tbody><tr><td>&quot;no&quot;</td><td>0.883015</td></tr><tr><td>&quot;yes&quot;</td><td>0.116985</td></tr></tbody></table></div>"
      ],
      "text/plain": [
       "shape: (2, 2)\n",
       "┌─────┬────────────┐\n",
       "│ y   ┆ proportion │\n",
       "│ --- ┆ ---        │\n",
       "│ str ┆ f64        │\n",
       "╞═════╪════════════╡\n",
       "│ no  ┆ 0.883015   │\n",
       "│ yes ┆ 0.116985   │\n",
       "└─────┴────────────┘"
      ]
     },
     "execution_count": 11,
     "metadata": {},
     "output_type": "execute_result"
    }
   ],
   "source": [
    "df[\"y\"].value_counts(sort=True, normalize=True)"
   ]
  },
  {
   "cell_type": "markdown",
   "metadata": {},
   "source": [
    "Dataset is imbalanced and most clients are not subscirebt to a term deposit\n"
   ]
  },
  {
   "cell_type": "markdown",
   "metadata": {},
   "source": [
    "## Target encoding\n"
   ]
  },
  {
   "cell_type": "code",
   "execution_count": 12,
   "metadata": {},
   "outputs": [],
   "source": [
    "df = df.with_columns((pl.col(\"y\") == \"yes\").cast(pl.Int8))"
   ]
  },
  {
   "cell_type": "markdown",
   "metadata": {},
   "source": [
    "## Setting Up Validation Framework\n"
   ]
  },
  {
   "cell_type": "code",
   "execution_count": 13,
   "metadata": {},
   "outputs": [],
   "source": [
    "df_full_train, df_test = train_test_split(df, test_size=0.2, random_state=SEED)\n",
    "df_train, df_val = train_test_split(df_full_train, test_size=0.25, random_state=SEED)\n",
    "\n",
    "assert len(df) == len(df_train) + len(df_val) + len(df_test)"
   ]
  },
  {
   "cell_type": "code",
   "execution_count": 14,
   "metadata": {},
   "outputs": [
    {
     "data": {
      "text/plain": [
       "(27126, 9042, 9043)"
      ]
     },
     "execution_count": 14,
     "metadata": {},
     "output_type": "execute_result"
    }
   ],
   "source": [
    "len(df_train), len(df_val), len(df_test)"
   ]
  },
  {
   "cell_type": "code",
   "execution_count": 15,
   "metadata": {},
   "outputs": [],
   "source": [
    "y_train = df_train[\"y\"].to_numpy()\n",
    "y_val = df_val[\"y\"].to_numpy()\n",
    "y_test = df_test[\"y\"].to_numpy()"
   ]
  },
  {
   "cell_type": "code",
   "execution_count": 16,
   "metadata": {},
   "outputs": [],
   "source": [
    "df_train = df_train.drop(\"y\")\n",
    "df_val = df_val.drop(\"y\")\n",
    "df_test = df_test.drop(\"y\")"
   ]
  },
  {
   "cell_type": "markdown",
   "metadata": {},
   "source": [
    "## 1. ROC AUC feature importance\n"
   ]
  },
  {
   "cell_type": "code",
   "execution_count": 17,
   "metadata": {},
   "outputs": [
    {
     "name": "stdout",
     "output_type": "stream",
     "text": [
      "age 0.512\n",
      "balance 0.589\n",
      "day 0.526\n",
      "duration 0.815\n",
      "campaign 0.571\n",
      "pdays 0.590\n",
      "previous 0.599\n"
     ]
    }
   ],
   "source": [
    "auc_scores = []\n",
    "for num in numerical:\n",
    "    auc_score = roc_auc_score(y_train, df_train[num])\n",
    "    if auc_score < 0.5:\n",
    "        auc_score = roc_auc_score(y_train, -df_train[num])\n",
    "\n",
    "    auc_scores.append((num, auc_score))\n",
    "    print(num, \"%.3f\" % auc_score)"
   ]
  },
  {
   "cell_type": "code",
   "execution_count": 18,
   "metadata": {},
   "outputs": [
    {
     "data": {
      "text/html": [
       "<div><style>\n",
       ".dataframe > thead > tr,\n",
       ".dataframe > tbody > tr {\n",
       "  text-align: right;\n",
       "  white-space: pre-wrap;\n",
       "}\n",
       "</style>\n",
       "<small>shape: (7, 2)</small><table border=\"1\" class=\"dataframe\"><thead><tr><th>feature</th><th>auc_score</th></tr><tr><td>str</td><td>f64</td></tr></thead><tbody><tr><td>&quot;age&quot;</td><td>0.512186</td></tr><tr><td>&quot;balance&quot;</td><td>0.588831</td></tr><tr><td>&quot;day&quot;</td><td>0.525958</td></tr><tr><td>&quot;duration&quot;</td><td>0.8147</td></tr><tr><td>&quot;campaign&quot;</td><td>0.571454</td></tr><tr><td>&quot;pdays&quot;</td><td>0.590128</td></tr><tr><td>&quot;previous&quot;</td><td>0.598565</td></tr></tbody></table></div>"
      ],
      "text/plain": [
       "shape: (7, 2)\n",
       "┌──────────┬───────────┐\n",
       "│ feature  ┆ auc_score │\n",
       "│ ---      ┆ ---       │\n",
       "│ str      ┆ f64       │\n",
       "╞══════════╪═══════════╡\n",
       "│ age      ┆ 0.512186  │\n",
       "│ balance  ┆ 0.588831  │\n",
       "│ day      ┆ 0.525958  │\n",
       "│ duration ┆ 0.8147    │\n",
       "│ campaign ┆ 0.571454  │\n",
       "│ pdays    ┆ 0.590128  │\n",
       "│ previous ┆ 0.598565  │\n",
       "└──────────┴───────────┘"
      ]
     },
     "execution_count": 18,
     "metadata": {},
     "output_type": "execute_result"
    }
   ],
   "source": [
    "df_auc_scores = pl.DataFrame(auc_scores, schema=[\"feature\", \"auc_score\"], orient=\"row\")\n",
    "df_auc_scores"
   ]
  },
  {
   "cell_type": "code",
   "execution_count": 19,
   "metadata": {},
   "outputs": [
    {
     "data": {
      "text/html": [
       "<div><style>\n",
       ".dataframe > thead > tr,\n",
       ".dataframe > tbody > tr {\n",
       "  text-align: right;\n",
       "  white-space: pre-wrap;\n",
       "}\n",
       "</style>\n",
       "<small>shape: (1, 2)</small><table border=\"1\" class=\"dataframe\"><thead><tr><th>feature</th><th>auc_score</th></tr><tr><td>str</td><td>f64</td></tr></thead><tbody><tr><td>&quot;duration&quot;</td><td>0.8147</td></tr></tbody></table></div>"
      ],
      "text/plain": [
       "shape: (1, 2)\n",
       "┌──────────┬───────────┐\n",
       "│ feature  ┆ auc_score │\n",
       "│ ---      ┆ ---       │\n",
       "│ str      ┆ f64       │\n",
       "╞══════════╪═══════════╡\n",
       "│ duration ┆ 0.8147    │\n",
       "└──────────┴───────────┘"
      ]
     },
     "execution_count": 19,
     "metadata": {},
     "output_type": "execute_result"
    }
   ],
   "source": [
    "df_auc_scores.filter(pl.col(\"auc_score\") == pl.col(\"auc_score\").max())"
   ]
  },
  {
   "cell_type": "markdown",
   "metadata": {},
   "source": [
    "`duration`\n"
   ]
  },
  {
   "cell_type": "markdown",
   "metadata": {},
   "source": [
    "## 2. Train model\n"
   ]
  },
  {
   "cell_type": "markdown",
   "metadata": {},
   "source": [
    "#### Encoding\n"
   ]
  },
  {
   "cell_type": "code",
   "execution_count": 20,
   "metadata": {},
   "outputs": [],
   "source": [
    "dicts_train = df_train.select(pl.col(categorical + numerical)).to_dicts()\n",
    "dv = DictVectorizer(sparse=False)\n",
    "\n",
    "X_train = dv.fit_transform(dicts_train, y_train)\n",
    "\n",
    "dicts_val = df_val.select(pl.col(categorical + numerical)).to_dicts()\n",
    "X_val = dv.transform(dicts_val)"
   ]
  },
  {
   "cell_type": "markdown",
   "metadata": {},
   "source": [
    "#### Model training\n"
   ]
  },
  {
   "cell_type": "code",
   "execution_count": 21,
   "metadata": {},
   "outputs": [
    {
     "data": {
      "text/html": [
       "<style>#sk-container-id-1 {\n",
       "  /* Definition of color scheme common for light and dark mode */\n",
       "  --sklearn-color-text: black;\n",
       "  --sklearn-color-line: gray;\n",
       "  /* Definition of color scheme for unfitted estimators */\n",
       "  --sklearn-color-unfitted-level-0: #fff5e6;\n",
       "  --sklearn-color-unfitted-level-1: #f6e4d2;\n",
       "  --sklearn-color-unfitted-level-2: #ffe0b3;\n",
       "  --sklearn-color-unfitted-level-3: chocolate;\n",
       "  /* Definition of color scheme for fitted estimators */\n",
       "  --sklearn-color-fitted-level-0: #f0f8ff;\n",
       "  --sklearn-color-fitted-level-1: #d4ebff;\n",
       "  --sklearn-color-fitted-level-2: #b3dbfd;\n",
       "  --sklearn-color-fitted-level-3: cornflowerblue;\n",
       "\n",
       "  /* Specific color for light theme */\n",
       "  --sklearn-color-text-on-default-background: var(--sg-text-color, var(--theme-code-foreground, var(--jp-content-font-color1, black)));\n",
       "  --sklearn-color-background: var(--sg-background-color, var(--theme-background, var(--jp-layout-color0, white)));\n",
       "  --sklearn-color-border-box: var(--sg-text-color, var(--theme-code-foreground, var(--jp-content-font-color1, black)));\n",
       "  --sklearn-color-icon: #696969;\n",
       "\n",
       "  @media (prefers-color-scheme: dark) {\n",
       "    /* Redefinition of color scheme for dark theme */\n",
       "    --sklearn-color-text-on-default-background: var(--sg-text-color, var(--theme-code-foreground, var(--jp-content-font-color1, white)));\n",
       "    --sklearn-color-background: var(--sg-background-color, var(--theme-background, var(--jp-layout-color0, #111)));\n",
       "    --sklearn-color-border-box: var(--sg-text-color, var(--theme-code-foreground, var(--jp-content-font-color1, white)));\n",
       "    --sklearn-color-icon: #878787;\n",
       "  }\n",
       "}\n",
       "\n",
       "#sk-container-id-1 {\n",
       "  color: var(--sklearn-color-text);\n",
       "}\n",
       "\n",
       "#sk-container-id-1 pre {\n",
       "  padding: 0;\n",
       "}\n",
       "\n",
       "#sk-container-id-1 input.sk-hidden--visually {\n",
       "  border: 0;\n",
       "  clip: rect(1px 1px 1px 1px);\n",
       "  clip: rect(1px, 1px, 1px, 1px);\n",
       "  height: 1px;\n",
       "  margin: -1px;\n",
       "  overflow: hidden;\n",
       "  padding: 0;\n",
       "  position: absolute;\n",
       "  width: 1px;\n",
       "}\n",
       "\n",
       "#sk-container-id-1 div.sk-dashed-wrapped {\n",
       "  border: 1px dashed var(--sklearn-color-line);\n",
       "  margin: 0 0.4em 0.5em 0.4em;\n",
       "  box-sizing: border-box;\n",
       "  padding-bottom: 0.4em;\n",
       "  background-color: var(--sklearn-color-background);\n",
       "}\n",
       "\n",
       "#sk-container-id-1 div.sk-container {\n",
       "  /* jupyter's `normalize.less` sets `[hidden] { display: none; }`\n",
       "     but bootstrap.min.css set `[hidden] { display: none !important; }`\n",
       "     so we also need the `!important` here to be able to override the\n",
       "     default hidden behavior on the sphinx rendered scikit-learn.org.\n",
       "     See: https://github.com/scikit-learn/scikit-learn/issues/21755 */\n",
       "  display: inline-block !important;\n",
       "  position: relative;\n",
       "}\n",
       "\n",
       "#sk-container-id-1 div.sk-text-repr-fallback {\n",
       "  display: none;\n",
       "}\n",
       "\n",
       "div.sk-parallel-item,\n",
       "div.sk-serial,\n",
       "div.sk-item {\n",
       "  /* draw centered vertical line to link estimators */\n",
       "  background-image: linear-gradient(var(--sklearn-color-text-on-default-background), var(--sklearn-color-text-on-default-background));\n",
       "  background-size: 2px 100%;\n",
       "  background-repeat: no-repeat;\n",
       "  background-position: center center;\n",
       "}\n",
       "\n",
       "/* Parallel-specific style estimator block */\n",
       "\n",
       "#sk-container-id-1 div.sk-parallel-item::after {\n",
       "  content: \"\";\n",
       "  width: 100%;\n",
       "  border-bottom: 2px solid var(--sklearn-color-text-on-default-background);\n",
       "  flex-grow: 1;\n",
       "}\n",
       "\n",
       "#sk-container-id-1 div.sk-parallel {\n",
       "  display: flex;\n",
       "  align-items: stretch;\n",
       "  justify-content: center;\n",
       "  background-color: var(--sklearn-color-background);\n",
       "  position: relative;\n",
       "}\n",
       "\n",
       "#sk-container-id-1 div.sk-parallel-item {\n",
       "  display: flex;\n",
       "  flex-direction: column;\n",
       "}\n",
       "\n",
       "#sk-container-id-1 div.sk-parallel-item:first-child::after {\n",
       "  align-self: flex-end;\n",
       "  width: 50%;\n",
       "}\n",
       "\n",
       "#sk-container-id-1 div.sk-parallel-item:last-child::after {\n",
       "  align-self: flex-start;\n",
       "  width: 50%;\n",
       "}\n",
       "\n",
       "#sk-container-id-1 div.sk-parallel-item:only-child::after {\n",
       "  width: 0;\n",
       "}\n",
       "\n",
       "/* Serial-specific style estimator block */\n",
       "\n",
       "#sk-container-id-1 div.sk-serial {\n",
       "  display: flex;\n",
       "  flex-direction: column;\n",
       "  align-items: center;\n",
       "  background-color: var(--sklearn-color-background);\n",
       "  padding-right: 1em;\n",
       "  padding-left: 1em;\n",
       "}\n",
       "\n",
       "\n",
       "/* Toggleable style: style used for estimator/Pipeline/ColumnTransformer box that is\n",
       "clickable and can be expanded/collapsed.\n",
       "- Pipeline and ColumnTransformer use this feature and define the default style\n",
       "- Estimators will overwrite some part of the style using the `sk-estimator` class\n",
       "*/\n",
       "\n",
       "/* Pipeline and ColumnTransformer style (default) */\n",
       "\n",
       "#sk-container-id-1 div.sk-toggleable {\n",
       "  /* Default theme specific background. It is overwritten whether we have a\n",
       "  specific estimator or a Pipeline/ColumnTransformer */\n",
       "  background-color: var(--sklearn-color-background);\n",
       "}\n",
       "\n",
       "/* Toggleable label */\n",
       "#sk-container-id-1 label.sk-toggleable__label {\n",
       "  cursor: pointer;\n",
       "  display: block;\n",
       "  width: 100%;\n",
       "  margin-bottom: 0;\n",
       "  padding: 0.5em;\n",
       "  box-sizing: border-box;\n",
       "  text-align: center;\n",
       "}\n",
       "\n",
       "#sk-container-id-1 label.sk-toggleable__label-arrow:before {\n",
       "  /* Arrow on the left of the label */\n",
       "  content: \"▸\";\n",
       "  float: left;\n",
       "  margin-right: 0.25em;\n",
       "  color: var(--sklearn-color-icon);\n",
       "}\n",
       "\n",
       "#sk-container-id-1 label.sk-toggleable__label-arrow:hover:before {\n",
       "  color: var(--sklearn-color-text);\n",
       "}\n",
       "\n",
       "/* Toggleable content - dropdown */\n",
       "\n",
       "#sk-container-id-1 div.sk-toggleable__content {\n",
       "  max-height: 0;\n",
       "  max-width: 0;\n",
       "  overflow: hidden;\n",
       "  text-align: left;\n",
       "  /* unfitted */\n",
       "  background-color: var(--sklearn-color-unfitted-level-0);\n",
       "}\n",
       "\n",
       "#sk-container-id-1 div.sk-toggleable__content.fitted {\n",
       "  /* fitted */\n",
       "  background-color: var(--sklearn-color-fitted-level-0);\n",
       "}\n",
       "\n",
       "#sk-container-id-1 div.sk-toggleable__content pre {\n",
       "  margin: 0.2em;\n",
       "  border-radius: 0.25em;\n",
       "  color: var(--sklearn-color-text);\n",
       "  /* unfitted */\n",
       "  background-color: var(--sklearn-color-unfitted-level-0);\n",
       "}\n",
       "\n",
       "#sk-container-id-1 div.sk-toggleable__content.fitted pre {\n",
       "  /* unfitted */\n",
       "  background-color: var(--sklearn-color-fitted-level-0);\n",
       "}\n",
       "\n",
       "#sk-container-id-1 input.sk-toggleable__control:checked~div.sk-toggleable__content {\n",
       "  /* Expand drop-down */\n",
       "  max-height: 200px;\n",
       "  max-width: 100%;\n",
       "  overflow: auto;\n",
       "}\n",
       "\n",
       "#sk-container-id-1 input.sk-toggleable__control:checked~label.sk-toggleable__label-arrow:before {\n",
       "  content: \"▾\";\n",
       "}\n",
       "\n",
       "/* Pipeline/ColumnTransformer-specific style */\n",
       "\n",
       "#sk-container-id-1 div.sk-label input.sk-toggleable__control:checked~label.sk-toggleable__label {\n",
       "  color: var(--sklearn-color-text);\n",
       "  background-color: var(--sklearn-color-unfitted-level-2);\n",
       "}\n",
       "\n",
       "#sk-container-id-1 div.sk-label.fitted input.sk-toggleable__control:checked~label.sk-toggleable__label {\n",
       "  background-color: var(--sklearn-color-fitted-level-2);\n",
       "}\n",
       "\n",
       "/* Estimator-specific style */\n",
       "\n",
       "/* Colorize estimator box */\n",
       "#sk-container-id-1 div.sk-estimator input.sk-toggleable__control:checked~label.sk-toggleable__label {\n",
       "  /* unfitted */\n",
       "  background-color: var(--sklearn-color-unfitted-level-2);\n",
       "}\n",
       "\n",
       "#sk-container-id-1 div.sk-estimator.fitted input.sk-toggleable__control:checked~label.sk-toggleable__label {\n",
       "  /* fitted */\n",
       "  background-color: var(--sklearn-color-fitted-level-2);\n",
       "}\n",
       "\n",
       "#sk-container-id-1 div.sk-label label.sk-toggleable__label,\n",
       "#sk-container-id-1 div.sk-label label {\n",
       "  /* The background is the default theme color */\n",
       "  color: var(--sklearn-color-text-on-default-background);\n",
       "}\n",
       "\n",
       "/* On hover, darken the color of the background */\n",
       "#sk-container-id-1 div.sk-label:hover label.sk-toggleable__label {\n",
       "  color: var(--sklearn-color-text);\n",
       "  background-color: var(--sklearn-color-unfitted-level-2);\n",
       "}\n",
       "\n",
       "/* Label box, darken color on hover, fitted */\n",
       "#sk-container-id-1 div.sk-label.fitted:hover label.sk-toggleable__label.fitted {\n",
       "  color: var(--sklearn-color-text);\n",
       "  background-color: var(--sklearn-color-fitted-level-2);\n",
       "}\n",
       "\n",
       "/* Estimator label */\n",
       "\n",
       "#sk-container-id-1 div.sk-label label {\n",
       "  font-family: monospace;\n",
       "  font-weight: bold;\n",
       "  display: inline-block;\n",
       "  line-height: 1.2em;\n",
       "}\n",
       "\n",
       "#sk-container-id-1 div.sk-label-container {\n",
       "  text-align: center;\n",
       "}\n",
       "\n",
       "/* Estimator-specific */\n",
       "#sk-container-id-1 div.sk-estimator {\n",
       "  font-family: monospace;\n",
       "  border: 1px dotted var(--sklearn-color-border-box);\n",
       "  border-radius: 0.25em;\n",
       "  box-sizing: border-box;\n",
       "  margin-bottom: 0.5em;\n",
       "  /* unfitted */\n",
       "  background-color: var(--sklearn-color-unfitted-level-0);\n",
       "}\n",
       "\n",
       "#sk-container-id-1 div.sk-estimator.fitted {\n",
       "  /* fitted */\n",
       "  background-color: var(--sklearn-color-fitted-level-0);\n",
       "}\n",
       "\n",
       "/* on hover */\n",
       "#sk-container-id-1 div.sk-estimator:hover {\n",
       "  /* unfitted */\n",
       "  background-color: var(--sklearn-color-unfitted-level-2);\n",
       "}\n",
       "\n",
       "#sk-container-id-1 div.sk-estimator.fitted:hover {\n",
       "  /* fitted */\n",
       "  background-color: var(--sklearn-color-fitted-level-2);\n",
       "}\n",
       "\n",
       "/* Specification for estimator info (e.g. \"i\" and \"?\") */\n",
       "\n",
       "/* Common style for \"i\" and \"?\" */\n",
       "\n",
       ".sk-estimator-doc-link,\n",
       "a:link.sk-estimator-doc-link,\n",
       "a:visited.sk-estimator-doc-link {\n",
       "  float: right;\n",
       "  font-size: smaller;\n",
       "  line-height: 1em;\n",
       "  font-family: monospace;\n",
       "  background-color: var(--sklearn-color-background);\n",
       "  border-radius: 1em;\n",
       "  height: 1em;\n",
       "  width: 1em;\n",
       "  text-decoration: none !important;\n",
       "  margin-left: 1ex;\n",
       "  /* unfitted */\n",
       "  border: var(--sklearn-color-unfitted-level-1) 1pt solid;\n",
       "  color: var(--sklearn-color-unfitted-level-1);\n",
       "}\n",
       "\n",
       ".sk-estimator-doc-link.fitted,\n",
       "a:link.sk-estimator-doc-link.fitted,\n",
       "a:visited.sk-estimator-doc-link.fitted {\n",
       "  /* fitted */\n",
       "  border: var(--sklearn-color-fitted-level-1) 1pt solid;\n",
       "  color: var(--sklearn-color-fitted-level-1);\n",
       "}\n",
       "\n",
       "/* On hover */\n",
       "div.sk-estimator:hover .sk-estimator-doc-link:hover,\n",
       ".sk-estimator-doc-link:hover,\n",
       "div.sk-label-container:hover .sk-estimator-doc-link:hover,\n",
       ".sk-estimator-doc-link:hover {\n",
       "  /* unfitted */\n",
       "  background-color: var(--sklearn-color-unfitted-level-3);\n",
       "  color: var(--sklearn-color-background);\n",
       "  text-decoration: none;\n",
       "}\n",
       "\n",
       "div.sk-estimator.fitted:hover .sk-estimator-doc-link.fitted:hover,\n",
       ".sk-estimator-doc-link.fitted:hover,\n",
       "div.sk-label-container:hover .sk-estimator-doc-link.fitted:hover,\n",
       ".sk-estimator-doc-link.fitted:hover {\n",
       "  /* fitted */\n",
       "  background-color: var(--sklearn-color-fitted-level-3);\n",
       "  color: var(--sklearn-color-background);\n",
       "  text-decoration: none;\n",
       "}\n",
       "\n",
       "/* Span, style for the box shown on hovering the info icon */\n",
       ".sk-estimator-doc-link span {\n",
       "  display: none;\n",
       "  z-index: 9999;\n",
       "  position: relative;\n",
       "  font-weight: normal;\n",
       "  right: .2ex;\n",
       "  padding: .5ex;\n",
       "  margin: .5ex;\n",
       "  width: min-content;\n",
       "  min-width: 20ex;\n",
       "  max-width: 50ex;\n",
       "  color: var(--sklearn-color-text);\n",
       "  box-shadow: 2pt 2pt 4pt #999;\n",
       "  /* unfitted */\n",
       "  background: var(--sklearn-color-unfitted-level-0);\n",
       "  border: .5pt solid var(--sklearn-color-unfitted-level-3);\n",
       "}\n",
       "\n",
       ".sk-estimator-doc-link.fitted span {\n",
       "  /* fitted */\n",
       "  background: var(--sklearn-color-fitted-level-0);\n",
       "  border: var(--sklearn-color-fitted-level-3);\n",
       "}\n",
       "\n",
       ".sk-estimator-doc-link:hover span {\n",
       "  display: block;\n",
       "}\n",
       "\n",
       "/* \"?\"-specific style due to the `<a>` HTML tag */\n",
       "\n",
       "#sk-container-id-1 a.estimator_doc_link {\n",
       "  float: right;\n",
       "  font-size: 1rem;\n",
       "  line-height: 1em;\n",
       "  font-family: monospace;\n",
       "  background-color: var(--sklearn-color-background);\n",
       "  border-radius: 1rem;\n",
       "  height: 1rem;\n",
       "  width: 1rem;\n",
       "  text-decoration: none;\n",
       "  /* unfitted */\n",
       "  color: var(--sklearn-color-unfitted-level-1);\n",
       "  border: var(--sklearn-color-unfitted-level-1) 1pt solid;\n",
       "}\n",
       "\n",
       "#sk-container-id-1 a.estimator_doc_link.fitted {\n",
       "  /* fitted */\n",
       "  border: var(--sklearn-color-fitted-level-1) 1pt solid;\n",
       "  color: var(--sklearn-color-fitted-level-1);\n",
       "}\n",
       "\n",
       "/* On hover */\n",
       "#sk-container-id-1 a.estimator_doc_link:hover {\n",
       "  /* unfitted */\n",
       "  background-color: var(--sklearn-color-unfitted-level-3);\n",
       "  color: var(--sklearn-color-background);\n",
       "  text-decoration: none;\n",
       "}\n",
       "\n",
       "#sk-container-id-1 a.estimator_doc_link.fitted:hover {\n",
       "  /* fitted */\n",
       "  background-color: var(--sklearn-color-fitted-level-3);\n",
       "}\n",
       "</style><div id=\"sk-container-id-1\" class=\"sk-top-container\"><div class=\"sk-text-repr-fallback\"><pre>LogisticRegression(max_iter=1000, random_state=1, solver=&#x27;liblinear&#x27;)</pre><b>In a Jupyter environment, please rerun this cell to show the HTML representation or trust the notebook. <br />On GitHub, the HTML representation is unable to render, please try loading this page with nbviewer.org.</b></div><div class=\"sk-container\" hidden><div class=\"sk-item\"><div class=\"sk-estimator fitted sk-toggleable\"><input class=\"sk-toggleable__control sk-hidden--visually\" id=\"sk-estimator-id-1\" type=\"checkbox\" checked><label for=\"sk-estimator-id-1\" class=\"sk-toggleable__label fitted sk-toggleable__label-arrow fitted\">&nbsp;&nbsp;LogisticRegression<a class=\"sk-estimator-doc-link fitted\" rel=\"noreferrer\" target=\"_blank\" href=\"https://scikit-learn.org/1.5/modules/generated/sklearn.linear_model.LogisticRegression.html\">?<span>Documentation for LogisticRegression</span></a><span class=\"sk-estimator-doc-link fitted\">i<span>Fitted</span></span></label><div class=\"sk-toggleable__content fitted\"><pre>LogisticRegression(max_iter=1000, random_state=1, solver=&#x27;liblinear&#x27;)</pre></div> </div></div></div></div>"
      ],
      "text/plain": [
       "LogisticRegression(max_iter=1000, random_state=1, solver='liblinear')"
      ]
     },
     "execution_count": 21,
     "metadata": {},
     "output_type": "execute_result"
    }
   ],
   "source": [
    "model = LogisticRegression(\n",
    "    solver=\"liblinear\",\n",
    "    C=1.0,\n",
    "    max_iter=1000,\n",
    "    random_state=SEED,\n",
    ")\n",
    "model.fit(X_train, y_train)"
   ]
  },
  {
   "cell_type": "code",
   "execution_count": 22,
   "metadata": {},
   "outputs": [],
   "source": [
    "y_pred = model.predict_proba(X_val)[:, 1]"
   ]
  },
  {
   "cell_type": "code",
   "execution_count": 23,
   "metadata": {},
   "outputs": [
    {
     "data": {
      "text/plain": [
       "np.float64(0.9)"
      ]
     },
     "execution_count": 23,
     "metadata": {},
     "output_type": "execute_result"
    }
   ],
   "source": [
    "roc_auc_score(y_val, y_pred).round(3)"
   ]
  },
  {
   "cell_type": "markdown",
   "metadata": {},
   "source": [
    "## 3. Precision and Recall\n"
   ]
  },
  {
   "cell_type": "code",
   "execution_count": 24,
   "metadata": {},
   "outputs": [
    {
     "name": "stderr",
     "output_type": "stream",
     "text": [
      "/tmp/user/1000/ipykernel_793493/765918071.py:17: RuntimeWarning: invalid value encountered in scalar divide\n",
      "  precision = tp / (tp + fp)\n"
     ]
    }
   ],
   "source": [
    "precision_recall_scores = []\n",
    "thresholds = np.linspace(0, 1, 101)\n",
    "\n",
    "for t in thresholds:\n",
    "    actual_positive = y_val == 1\n",
    "    actual_negative = y_val == 0\n",
    "\n",
    "    predict_positive = y_pred >= t\n",
    "    predict_negative = y_pred < t\n",
    "\n",
    "    tp = (predict_positive & actual_positive).sum()\n",
    "    tn = (predict_negative & actual_negative).sum()\n",
    "\n",
    "    fp = (predict_positive & actual_negative).sum()\n",
    "    fn = (predict_negative & actual_positive).sum()\n",
    "\n",
    "    precision = tp / (tp + fp)\n",
    "    recall = tp / (tp + fn)\n",
    "\n",
    "    precision_recall_scores.append((t, precision, recall))"
   ]
  },
  {
   "cell_type": "code",
   "execution_count": 25,
   "metadata": {},
   "outputs": [
    {
     "data": {
      "text/html": [
       "<div><style>\n",
       ".dataframe > thead > tr,\n",
       ".dataframe > tbody > tr {\n",
       "  text-align: right;\n",
       "  white-space: pre-wrap;\n",
       "}\n",
       "</style>\n",
       "<small>shape: (101, 3)</small><table border=\"1\" class=\"dataframe\"><thead><tr><th>threshold</th><th>precision</th><th>recall</th></tr><tr><td>f64</td><td>f64</td><td>f64</td></tr></thead><tbody><tr><td>0.0</td><td>0.121433</td><td>1.0</td></tr><tr><td>0.01</td><td>0.135095</td><td>0.996357</td></tr><tr><td>0.02</td><td>0.15882</td><td>0.995446</td></tr><tr><td>0.03</td><td>0.186385</td><td>0.989982</td></tr><tr><td>0.04</td><td>0.219392</td><td>0.972678</td></tr><tr><td>&hellip;</td><td>&hellip;</td><td>&hellip;</td></tr><tr><td>0.96</td><td>0.638298</td><td>0.027322</td></tr><tr><td>0.97</td><td>0.625</td><td>0.022769</td></tr><tr><td>0.98</td><td>0.677419</td><td>0.019126</td></tr><tr><td>0.99</td><td>0.6875</td><td>0.010018</td></tr><tr><td>1.0</td><td>NaN</td><td>0.0</td></tr></tbody></table></div>"
      ],
      "text/plain": [
       "shape: (101, 3)\n",
       "┌───────────┬───────────┬──────────┐\n",
       "│ threshold ┆ precision ┆ recall   │\n",
       "│ ---       ┆ ---       ┆ ---      │\n",
       "│ f64       ┆ f64       ┆ f64      │\n",
       "╞═══════════╪═══════════╪══════════╡\n",
       "│ 0.0       ┆ 0.121433  ┆ 1.0      │\n",
       "│ 0.01      ┆ 0.135095  ┆ 0.996357 │\n",
       "│ 0.02      ┆ 0.15882   ┆ 0.995446 │\n",
       "│ 0.03      ┆ 0.186385  ┆ 0.989982 │\n",
       "│ 0.04      ┆ 0.219392  ┆ 0.972678 │\n",
       "│ …         ┆ …         ┆ …        │\n",
       "│ 0.96      ┆ 0.638298  ┆ 0.027322 │\n",
       "│ 0.97      ┆ 0.625     ┆ 0.022769 │\n",
       "│ 0.98      ┆ 0.677419  ┆ 0.019126 │\n",
       "│ 0.99      ┆ 0.6875    ┆ 0.010018 │\n",
       "│ 1.0       ┆ NaN       ┆ 0.0      │\n",
       "└───────────┴───────────┴──────────┘"
      ]
     },
     "execution_count": 25,
     "metadata": {},
     "output_type": "execute_result"
    }
   ],
   "source": [
    "df_precision_recall_scores = pl.DataFrame(\n",
    "    precision_recall_scores, schema=[\"threshold\", \"precision\", \"recall\"], orient=\"row\"\n",
    ")\n",
    "df_precision_recall_scores"
   ]
  },
  {
   "cell_type": "code",
   "execution_count": 26,
   "metadata": {},
   "outputs": [
    {
     "data": {
      "text/html": [
       "\n",
       "<style>\n",
       "  #altair-viz-959f349aa6e34750812b77fce745d452.vega-embed {\n",
       "    width: 100%;\n",
       "    display: flex;\n",
       "  }\n",
       "\n",
       "  #altair-viz-959f349aa6e34750812b77fce745d452.vega-embed details,\n",
       "  #altair-viz-959f349aa6e34750812b77fce745d452.vega-embed details summary {\n",
       "    position: relative;\n",
       "  }\n",
       "</style>\n",
       "<div id=\"altair-viz-959f349aa6e34750812b77fce745d452\"></div>\n",
       "<script type=\"text/javascript\">\n",
       "  var VEGA_DEBUG = (typeof VEGA_DEBUG == \"undefined\") ? {} : VEGA_DEBUG;\n",
       "  (function(spec, embedOpt){\n",
       "    let outputDiv = document.currentScript.previousElementSibling;\n",
       "    if (outputDiv.id !== \"altair-viz-959f349aa6e34750812b77fce745d452\") {\n",
       "      outputDiv = document.getElementById(\"altair-viz-959f349aa6e34750812b77fce745d452\");\n",
       "    }\n",
       "    const paths = {\n",
       "      \"vega\": \"https://cdn.jsdelivr.net/npm/vega@5?noext\",\n",
       "      \"vega-lib\": \"https://cdn.jsdelivr.net/npm/vega-lib?noext\",\n",
       "      \"vega-lite\": \"https://cdn.jsdelivr.net/npm/vega-lite@5.20.1?noext\",\n",
       "      \"vega-embed\": \"https://cdn.jsdelivr.net/npm/vega-embed@6?noext\",\n",
       "    };\n",
       "\n",
       "    function maybeLoadScript(lib, version) {\n",
       "      var key = `${lib.replace(\"-\", \"\")}_version`;\n",
       "      return (VEGA_DEBUG[key] == version) ?\n",
       "        Promise.resolve(paths[lib]) :\n",
       "        new Promise(function(resolve, reject) {\n",
       "          var s = document.createElement('script');\n",
       "          document.getElementsByTagName(\"head\")[0].appendChild(s);\n",
       "          s.async = true;\n",
       "          s.onload = () => {\n",
       "            VEGA_DEBUG[key] = version;\n",
       "            return resolve(paths[lib]);\n",
       "          };\n",
       "          s.onerror = () => reject(`Error loading script: ${paths[lib]}`);\n",
       "          s.src = paths[lib];\n",
       "        });\n",
       "    }\n",
       "\n",
       "    function showError(err) {\n",
       "      outputDiv.innerHTML = `<div class=\"error\" style=\"color:red;\">${err}</div>`;\n",
       "      throw err;\n",
       "    }\n",
       "\n",
       "    function displayChart(vegaEmbed) {\n",
       "      vegaEmbed(outputDiv, spec, embedOpt)\n",
       "        .catch(err => showError(`Javascript Error: ${err.message}<br>This usually means there's a typo in your chart specification. See the javascript console for the full traceback.`));\n",
       "    }\n",
       "\n",
       "    if(typeof define === \"function\" && define.amd) {\n",
       "      requirejs.config({paths});\n",
       "      require([\"vega-embed\"], displayChart, err => showError(`Error loading script: ${err.message}`));\n",
       "    } else {\n",
       "      maybeLoadScript(\"vega\", \"5\")\n",
       "        .then(() => maybeLoadScript(\"vega-lite\", \"5.20.1\"))\n",
       "        .then(() => maybeLoadScript(\"vega-embed\", \"6\"))\n",
       "        .catch(showError)\n",
       "        .then(() => displayChart(vegaEmbed));\n",
       "    }\n",
       "  })({\"config\": {\"view\": {\"continuousWidth\": 300, \"continuousHeight\": 300}}, \"data\": {\"name\": \"data-46717ac2080e6a0f801158be3d9cc686\"}, \"mark\": {\"type\": \"line\"}, \"encoding\": {\"color\": {\"field\": \"key\", \"type\": \"nominal\"}, \"x\": {\"field\": \"threshold\", \"type\": \"quantitative\"}, \"y\": {\"field\": \"value\", \"type\": \"quantitative\"}}, \"transform\": [{\"fold\": [\"precision\", \"recall\"]}], \"$schema\": \"https://vega.github.io/schema/vega-lite/v5.20.1.json\", \"datasets\": {\"data-46717ac2080e6a0f801158be3d9cc686\": [{\"threshold\": 0.0, \"precision\": 0.12143331121433311, \"recall\": 1.0}, {\"threshold\": 0.01, \"precision\": 0.13509508520622376, \"recall\": 0.9963570127504554}, {\"threshold\": 0.02, \"precision\": 0.15882011043301367, \"recall\": 0.9954462659380692}, {\"threshold\": 0.03, \"precision\": 0.1863854595336077, \"recall\": 0.9899817850637522}, {\"threshold\": 0.04, \"precision\": 0.21939194741166804, \"recall\": 0.9726775956284153}, {\"threshold\": 0.05, \"precision\": 0.2541222114451988, \"recall\": 0.9544626593806922}, {\"threshold\": 0.06, \"precision\": 0.28903372060073673, \"recall\": 0.9289617486338798}, {\"threshold\": 0.07, \"precision\": 0.31694861155442067, \"recall\": 0.9043715846994536}, {\"threshold\": 0.08, \"precision\": 0.3425238600212089, \"recall\": 0.8825136612021858}, {\"threshold\": 0.09, \"precision\": 0.3665632273079907, \"recall\": 0.860655737704918}, {\"threshold\": 0.1, \"precision\": 0.38280281107895825, \"recall\": 0.843351548269581}, {\"threshold\": 0.11, \"precision\": 0.39884649511978704, \"recall\": 0.8187613843351548}, {\"threshold\": 0.12, \"precision\": 0.41442307692307695, \"recall\": 0.785063752276867}, {\"threshold\": 0.13, \"precision\": 0.42827868852459017, \"recall\": 0.761384335154827}, {\"threshold\": 0.14, \"precision\": 0.44036697247706424, \"recall\": 0.7431693989071039}, {\"threshold\": 0.15, \"precision\": 0.4503386004514673, \"recall\": 0.726775956284153}, {\"threshold\": 0.16, \"precision\": 0.46626865671641793, \"recall\": 0.7112932604735883}, {\"threshold\": 0.17, \"precision\": 0.4756857855361596, \"recall\": 0.6948998178506375}, {\"threshold\": 0.18, \"precision\": 0.4878688524590164, \"recall\": 0.6775956284153005}, {\"threshold\": 0.19, \"precision\": 0.49897048730267674, \"recall\": 0.6621129326047359}, {\"threshold\": 0.2, \"precision\": 0.5067615658362989, \"recall\": 0.6484517304189436}, {\"threshold\": 0.21, \"precision\": 0.5155555555555555, \"recall\": 0.6338797814207651}, {\"threshold\": 0.22, \"precision\": 0.5289128758673862, \"recall\": 0.6247723132969034}, {\"threshold\": 0.23, \"precision\": 0.5379032258064517, \"recall\": 0.6074681238615665}, {\"threshold\": 0.24, \"precision\": 0.5409015025041736, \"recall\": 0.5901639344262295}, {\"threshold\": 0.25, \"precision\": 0.5521739130434783, \"recall\": 0.5783242258652095}, {\"threshold\": 0.26, \"precision\": 0.5561545372866128, \"recall\": 0.563752276867031}, {\"threshold\": 0.27, \"precision\": 0.5630252100840336, \"recall\": 0.5491803278688525}, {\"threshold\": 0.28, \"precision\": 0.5690978886756238, \"recall\": 0.5400728597449909}, {\"threshold\": 0.29, \"precision\": 0.5717111770524234, \"recall\": 0.5264116575591985}, {\"threshold\": 0.3, \"precision\": 0.5817060637204522, \"recall\": 0.5154826958105647}, {\"threshold\": 0.31, \"precision\": 0.5858050847457628, \"recall\": 0.5036429872495446}, {\"threshold\": 0.32, \"precision\": 0.5928338762214984, \"recall\": 0.4972677595628415}, {\"threshold\": 0.33, \"precision\": 0.5959595959595959, \"recall\": 0.48360655737704916}, {\"threshold\": 0.34, \"precision\": 0.6011560693641619, \"recall\": 0.47358834244080145}, {\"threshold\": 0.35000000000000003, \"precision\": 0.6035502958579881, \"recall\": 0.4644808743169399}, {\"threshold\": 0.36, \"precision\": 0.6087484811664642, \"recall\": 0.4562841530054645}, {\"threshold\": 0.37, \"precision\": 0.6157697121401752, \"recall\": 0.44808743169398907}, {\"threshold\": 0.38, \"precision\": 0.615979381443299, \"recall\": 0.4353369763205829}, {\"threshold\": 0.39, \"precision\": 0.6208718626155878, \"recall\": 0.42805100182149364}, {\"threshold\": 0.4, \"precision\": 0.6294277929155313, \"recall\": 0.4207650273224044}, {\"threshold\": 0.41000000000000003, \"precision\": 0.6320224719101124, \"recall\": 0.4098360655737705}, {\"threshold\": 0.42, \"precision\": 0.6359712230215827, \"recall\": 0.40255009107468126}, {\"threshold\": 0.43, \"precision\": 0.6389301634472511, \"recall\": 0.39162112932604737}, {\"threshold\": 0.44, \"precision\": 0.6389728096676737, \"recall\": 0.38524590163934425}, {\"threshold\": 0.45, \"precision\": 0.6352395672333848, \"recall\": 0.3743169398907104}, {\"threshold\": 0.46, \"precision\": 0.6408227848101266, \"recall\": 0.36885245901639346}, {\"threshold\": 0.47000000000000003, \"precision\": 0.6459016393442623, \"recall\": 0.3588342440801457}, {\"threshold\": 0.48, \"precision\": 0.6510067114093959, \"recall\": 0.3533697632058288}, {\"threshold\": 0.49, \"precision\": 0.6528497409326425, \"recall\": 0.3442622950819672}, {\"threshold\": 0.5, \"precision\": 0.6601769911504425, \"recall\": 0.33970856102003644}, {\"threshold\": 0.51, \"precision\": 0.6581818181818182, \"recall\": 0.3296903460837887}, {\"threshold\": 0.52, \"precision\": 0.6598513011152416, \"recall\": 0.3233151183970856}, {\"threshold\": 0.53, \"precision\": 0.666030534351145, \"recall\": 0.31785063752276865}, {\"threshold\": 0.54, \"precision\": 0.6686390532544378, \"recall\": 0.3087431693989071}, {\"threshold\": 0.55, \"precision\": 0.6680327868852459, \"recall\": 0.29690346083788705}, {\"threshold\": 0.56, \"precision\": 0.6743697478991597, \"recall\": 0.2923497267759563}, {\"threshold\": 0.5700000000000001, \"precision\": 0.6766595289079229, \"recall\": 0.2877959927140255}, {\"threshold\": 0.58, \"precision\": 0.6776315789473685, \"recall\": 0.2814207650273224}, {\"threshold\": 0.59, \"precision\": 0.6809954751131222, \"recall\": 0.27413479052823314}, {\"threshold\": 0.6, \"precision\": 0.6791569086651054, \"recall\": 0.2641165755919854}, {\"threshold\": 0.61, \"precision\": 0.6861313868613139, \"recall\": 0.2568306010928962}, {\"threshold\": 0.62, \"precision\": 0.6875, \"recall\": 0.25045537340619306}, {\"threshold\": 0.63, \"precision\": 0.6932989690721649, \"recall\": 0.24499089253187614}, {\"threshold\": 0.64, \"precision\": 0.6955380577427821, \"recall\": 0.24134790528233152}, {\"threshold\": 0.65, \"precision\": 0.6954177897574124, \"recall\": 0.23497267759562843}, {\"threshold\": 0.66, \"precision\": 0.6878453038674033, \"recall\": 0.226775956284153}, {\"threshold\": 0.67, \"precision\": 0.6912181303116147, \"recall\": 0.2222222222222222}, {\"threshold\": 0.68, \"precision\": 0.685131195335277, \"recall\": 0.21402550091074682}, {\"threshold\": 0.6900000000000001, \"precision\": 0.6846846846846847, \"recall\": 0.20765027322404372}, {\"threshold\": 0.7000000000000001, \"precision\": 0.6901840490797546, \"recall\": 0.20491803278688525}, {\"threshold\": 0.71, \"precision\": 0.6845425867507886, \"recall\": 0.19763205828779598}, {\"threshold\": 0.72, \"precision\": 0.6883116883116883, \"recall\": 0.1930783242258652}, {\"threshold\": 0.73, \"precision\": 0.696969696969697, \"recall\": 0.1885245901639344}, {\"threshold\": 0.74, \"precision\": 0.7062937062937062, \"recall\": 0.18397085610200364}, {\"threshold\": 0.75, \"precision\": 0.6981818181818182, \"recall\": 0.17486338797814208}, {\"threshold\": 0.76, \"precision\": 0.6988416988416989, \"recall\": 0.16484517304189436}, {\"threshold\": 0.77, \"precision\": 0.7032520325203252, \"recall\": 0.1575591985428051}, {\"threshold\": 0.78, \"precision\": 0.6958333333333333, \"recall\": 0.15209471766848817}, {\"threshold\": 0.79, \"precision\": 0.6869565217391305, \"recall\": 0.14389799635701275}, {\"threshold\": 0.8, \"precision\": 0.6883720930232559, \"recall\": 0.13479052823315119}, {\"threshold\": 0.81, \"precision\": 0.6911764705882353, \"recall\": 0.1284153005464481}, {\"threshold\": 0.8200000000000001, \"precision\": 0.6855670103092784, \"recall\": 0.12112932604735883}, {\"threshold\": 0.8300000000000001, \"precision\": 0.6885245901639344, \"recall\": 0.11475409836065574}, {\"threshold\": 0.84, \"precision\": 0.7034883720930233, \"recall\": 0.11020036429872496}, {\"threshold\": 0.85, \"precision\": 0.7044025157232704, \"recall\": 0.10200364298724955}, {\"threshold\": 0.86, \"precision\": 0.7074829931972789, \"recall\": 0.0947176684881603}, {\"threshold\": 0.87, \"precision\": 0.7164179104477612, \"recall\": 0.08743169398907104}, {\"threshold\": 0.88, \"precision\": 0.7063492063492064, \"recall\": 0.08105646630236794}, {\"threshold\": 0.89, \"precision\": 0.7192982456140351, \"recall\": 0.07468123861566485}, {\"threshold\": 0.9, \"precision\": 0.7378640776699029, \"recall\": 0.0692167577413479}, {\"threshold\": 0.91, \"precision\": 0.723404255319149, \"recall\": 0.061930783242258654}, {\"threshold\": 0.92, \"precision\": 0.7142857142857143, \"recall\": 0.0546448087431694}, {\"threshold\": 0.93, \"precision\": 0.6986301369863014, \"recall\": 0.04644808743169399}, {\"threshold\": 0.9400000000000001, \"precision\": 0.6818181818181818, \"recall\": 0.040983606557377046}, {\"threshold\": 0.9500000000000001, \"precision\": 0.6779661016949152, \"recall\": 0.03642987249544627}, {\"threshold\": 0.96, \"precision\": 0.6382978723404256, \"recall\": 0.0273224043715847}, {\"threshold\": 0.97, \"precision\": 0.625, \"recall\": 0.022768670309653915}, {\"threshold\": 0.98, \"precision\": 0.6774193548387096, \"recall\": 0.01912568306010929}, {\"threshold\": 0.99, \"precision\": 0.6875, \"recall\": 0.010018214936247723}, {\"threshold\": 1.0, \"precision\": NaN, \"recall\": 0.0}]}}, {\"mode\": \"vega-lite\"});\n",
       "</script>"
      ],
      "text/plain": [
       "alt.Chart(...)"
      ]
     },
     "execution_count": 26,
     "metadata": {},
     "output_type": "execute_result"
    }
   ],
   "source": [
    "alt.Chart(df_precision_recall_scores).transform_fold(\n",
    "    [\"precision\", \"recall\"]\n",
    ").mark_line().encode(\n",
    "    alt.X(\"threshold:Q\"),\n",
    "    alt.Y(\"value:Q\"),\n",
    "    alt.Color(\"key:N\"),\n",
    ")"
   ]
  },
  {
   "cell_type": "code",
   "execution_count": 27,
   "metadata": {},
   "outputs": [
    {
     "data": {
      "text/html": [
       "<div><style>\n",
       ".dataframe > thead > tr,\n",
       ".dataframe > tbody > tr {\n",
       "  text-align: right;\n",
       "  white-space: pre-wrap;\n",
       "}\n",
       "</style>\n",
       "<small>shape: (2, 3)</small><table border=\"1\" class=\"dataframe\"><thead><tr><th>threshold</th><th>precision</th><th>recall</th></tr><tr><td>f64</td><td>f64</td><td>f64</td></tr></thead><tbody><tr><td>0.26</td><td>0.556</td><td>0.564</td></tr><tr><td>0.27</td><td>0.563</td><td>0.549</td></tr></tbody></table></div>"
      ],
      "text/plain": [
       "shape: (2, 3)\n",
       "┌───────────┬───────────┬────────┐\n",
       "│ threshold ┆ precision ┆ recall │\n",
       "│ ---       ┆ ---       ┆ ---    │\n",
       "│ f64       ┆ f64       ┆ f64    │\n",
       "╞═══════════╪═══════════╪════════╡\n",
       "│ 0.26      ┆ 0.556     ┆ 0.564  │\n",
       "│ 0.27      ┆ 0.563     ┆ 0.549  │\n",
       "└───────────┴───────────┴────────┘"
      ]
     },
     "execution_count": 27,
     "metadata": {},
     "output_type": "execute_result"
    }
   ],
   "source": [
    "df_precision_recall_scores.filter(\n",
    "    pl.col(\"threshold\").is_between(0.26, 0.27)\n",
    ").with_columns(pl.col(\"precision\", \"recall\").round(3))"
   ]
  },
  {
   "cell_type": "code",
   "execution_count": 28,
   "metadata": {},
   "outputs": [
    {
     "data": {
      "text/html": [
       "<div><style>\n",
       ".dataframe > thead > tr,\n",
       ".dataframe > tbody > tr {\n",
       "  text-align: right;\n",
       "  white-space: pre-wrap;\n",
       "}\n",
       "</style>\n",
       "<small>shape: (1, 4)</small><table border=\"1\" class=\"dataframe\"><thead><tr><th>threshold</th><th>precision</th><th>recall</th><th>diff</th></tr><tr><td>f64</td><td>f64</td><td>f64</td><td>f64</td></tr></thead><tbody><tr><td>0.26</td><td>0.556155</td><td>0.563752</td><td>0.007598</td></tr></tbody></table></div>"
      ],
      "text/plain": [
       "shape: (1, 4)\n",
       "┌───────────┬───────────┬──────────┬──────────┐\n",
       "│ threshold ┆ precision ┆ recall   ┆ diff     │\n",
       "│ ---       ┆ ---       ┆ ---      ┆ ---      │\n",
       "│ f64       ┆ f64       ┆ f64      ┆ f64      │\n",
       "╞═══════════╪═══════════╪══════════╪══════════╡\n",
       "│ 0.26      ┆ 0.556155  ┆ 0.563752 ┆ 0.007598 │\n",
       "└───────────┴───────────┴──────────┴──────────┘"
      ]
     },
     "execution_count": 28,
     "metadata": {},
     "output_type": "execute_result"
    }
   ],
   "source": [
    "df_precision_recall_scores.with_columns(\n",
    "    (pl.col(\"precision\") - pl.col(\"recall\")).abs().alias(\"diff\")\n",
    ").filter(pl.col(\"diff\") == pl.col(\"diff\").min())"
   ]
  },
  {
   "cell_type": "markdown",
   "metadata": {},
   "source": [
    "Between `0.2` and `0.3`, which is around `0.265`\n"
   ]
  },
  {
   "cell_type": "markdown",
   "metadata": {},
   "source": [
    "## 4. F1 score\n"
   ]
  },
  {
   "cell_type": "code",
   "execution_count": 29,
   "metadata": {},
   "outputs": [],
   "source": [
    "df_f1_scores = df_precision_recall_scores.with_columns(\n",
    "    (\n",
    "        pl.lit(2)\n",
    "        * (pl.col(\"precision\") * pl.col(\"recall\"))\n",
    "        / (pl.col(\"precision\") + pl.col(\"recall\"))\n",
    "    ).alias(\"f1\")\n",
    ")"
   ]
  },
  {
   "cell_type": "code",
   "execution_count": 30,
   "metadata": {},
   "outputs": [
    {
     "data": {
      "text/html": [
       "<div><style>\n",
       ".dataframe > thead > tr,\n",
       ".dataframe > tbody > tr {\n",
       "  text-align: right;\n",
       "  white-space: pre-wrap;\n",
       "}\n",
       "</style>\n",
       "<small>shape: (1, 4)</small><table border=\"1\" class=\"dataframe\"><thead><tr><th>threshold</th><th>precision</th><th>recall</th><th>f1</th></tr><tr><td>f64</td><td>f64</td><td>f64</td><td>f64</td></tr></thead><tbody><tr><td>0.22</td><td>0.528913</td><td>0.624772</td><td>0.57286</td></tr></tbody></table></div>"
      ],
      "text/plain": [
       "shape: (1, 4)\n",
       "┌───────────┬───────────┬──────────┬─────────┐\n",
       "│ threshold ┆ precision ┆ recall   ┆ f1      │\n",
       "│ ---       ┆ ---       ┆ ---      ┆ ---     │\n",
       "│ f64       ┆ f64       ┆ f64      ┆ f64     │\n",
       "╞═══════════╪═══════════╪══════════╪═════════╡\n",
       "│ 0.22      ┆ 0.528913  ┆ 0.624772 ┆ 0.57286 │\n",
       "└───────────┴───────────┴──────────┴─────────┘"
      ]
     },
     "execution_count": 30,
     "metadata": {},
     "output_type": "execute_result"
    }
   ],
   "source": [
    "df_f1_scores.filter(pl.col(\"f1\") == pl.col(\"f1\").max())"
   ]
  },
  {
   "cell_type": "markdown",
   "metadata": {},
   "source": [
    "`0.22`\n"
   ]
  },
  {
   "cell_type": "markdown",
   "metadata": {},
   "source": [
    "## 5. 5-Fold CV\n"
   ]
  },
  {
   "cell_type": "code",
   "execution_count": 31,
   "metadata": {},
   "outputs": [],
   "source": [
    "kfold = KFold(n_splits=5, shuffle=True, random_state=SEED)"
   ]
  },
  {
   "cell_type": "code",
   "execution_count": 32,
   "metadata": {},
   "outputs": [],
   "source": [
    "auc_scores = []\n",
    "\n",
    "for train_idx, val_idx in kfold.split(df_full_train):\n",
    "    auc_score = get_churn_score_dv_pipeline(\n",
    "        df_full_train,\n",
    "        train_idx,\n",
    "        val_idx,\n",
    "        categorical,\n",
    "        numerical,\n",
    "        seed=SEED,\n",
    "    )\n",
    "    auc_scores.append(auc_score)"
   ]
  },
  {
   "cell_type": "code",
   "execution_count": 33,
   "metadata": {},
   "outputs": [
    {
     "data": {
      "text/plain": [
       "'mean_score: 0.906 +- 0.006'"
      ]
     },
     "execution_count": 33,
     "metadata": {},
     "output_type": "execute_result"
    }
   ],
   "source": [
    "\"mean_score: {:.3f} +- {:.3f}\".format(np.mean(auc_scores), np.std(auc_scores))"
   ]
  },
  {
   "cell_type": "markdown",
   "metadata": {},
   "source": [
    "## 6. Hyperparameter Tuning\n"
   ]
  },
  {
   "cell_type": "code",
   "execution_count": 34,
   "metadata": {},
   "outputs": [
    {
     "name": "stderr",
     "output_type": "stream",
     "text": [
      "100%|██████████| 3/3 [00:15<00:00,  5.07s/it]\n"
     ]
    }
   ],
   "source": [
    "list_C = [0.000001, 0.001, 1]\n",
    "auc_scores_with_C = []\n",
    "for C in tqdm(list_C):\n",
    "    auc_scores = []\n",
    "    kfold = KFold(n_splits=5, shuffle=True, random_state=SEED)\n",
    "    for train_idx, val_idx in kfold.split(df_full_train):\n",
    "        auc_score = get_churn_score_dv_pipeline(\n",
    "            df_full_train,\n",
    "            train_idx,\n",
    "            val_idx,\n",
    "            categorical,\n",
    "            numerical,\n",
    "            C=C,\n",
    "            seed=SEED,\n",
    "        )\n",
    "        auc_scores.append(auc_score)\n",
    "    auc_scores_with_C.append((C, np.mean(auc_scores), np.std(auc_scores)))\n",
    "\n",
    "df_auc_scores_with_C = pl.DataFrame(\n",
    "    auc_scores_with_C, schema=[\"C\", \"mean_auc_score\", \"std_auc_score\"], orient=\"row\"\n",
    ")"
   ]
  },
  {
   "cell_type": "code",
   "execution_count": 35,
   "metadata": {},
   "outputs": [
    {
     "data": {
      "text/html": [
       "<div><style>\n",
       ".dataframe > thead > tr,\n",
       ".dataframe > tbody > tr {\n",
       "  text-align: right;\n",
       "  white-space: pre-wrap;\n",
       "}\n",
       "</style>\n",
       "<small>shape: (3, 3)</small><table border=\"1\" class=\"dataframe\"><thead><tr><th>C</th><th>mean_auc_score</th><th>std_auc_score</th></tr><tr><td>f64</td><td>f64</td><td>f64</td></tr></thead><tbody><tr><td>0.000001</td><td>0.701445</td><td>0.009444</td></tr><tr><td>0.001</td><td>0.860843</td><td>0.00718</td></tr><tr><td>1.0</td><td>0.905865</td><td>0.005653</td></tr></tbody></table></div>"
      ],
      "text/plain": [
       "shape: (3, 3)\n",
       "┌──────────┬────────────────┬───────────────┐\n",
       "│ C        ┆ mean_auc_score ┆ std_auc_score │\n",
       "│ ---      ┆ ---            ┆ ---           │\n",
       "│ f64      ┆ f64            ┆ f64           │\n",
       "╞══════════╪════════════════╪═══════════════╡\n",
       "│ 0.000001 ┆ 0.701445       ┆ 0.009444      │\n",
       "│ 0.001    ┆ 0.860843       ┆ 0.00718       │\n",
       "│ 1.0      ┆ 0.905865       ┆ 0.005653      │\n",
       "└──────────┴────────────────┴───────────────┘"
      ]
     },
     "execution_count": 35,
     "metadata": {},
     "output_type": "execute_result"
    }
   ],
   "source": [
    "df_auc_scores_with_C"
   ]
  },
  {
   "cell_type": "code",
   "execution_count": 36,
   "metadata": {},
   "outputs": [
    {
     "data": {
      "text/html": [
       "<div><style>\n",
       ".dataframe > thead > tr,\n",
       ".dataframe > tbody > tr {\n",
       "  text-align: right;\n",
       "  white-space: pre-wrap;\n",
       "}\n",
       "</style>\n",
       "<small>shape: (1, 3)</small><table border=\"1\" class=\"dataframe\"><thead><tr><th>C</th><th>mean_auc_score</th><th>std_auc_score</th></tr><tr><td>f64</td><td>f64</td><td>f64</td></tr></thead><tbody><tr><td>1.0</td><td>0.905865</td><td>0.005653</td></tr></tbody></table></div>"
      ],
      "text/plain": [
       "shape: (1, 3)\n",
       "┌─────┬────────────────┬───────────────┐\n",
       "│ C   ┆ mean_auc_score ┆ std_auc_score │\n",
       "│ --- ┆ ---            ┆ ---           │\n",
       "│ f64 ┆ f64            ┆ f64           │\n",
       "╞═════╪════════════════╪═══════════════╡\n",
       "│ 1.0 ┆ 0.905865       ┆ 0.005653      │\n",
       "└─────┴────────────────┴───────────────┘"
      ]
     },
     "execution_count": 36,
     "metadata": {},
     "output_type": "execute_result"
    }
   ],
   "source": [
    "df_auc_scores_with_C.filter(pl.col(\"mean_auc_score\") == pl.col(\"mean_auc_score\").max())"
   ]
  },
  {
   "cell_type": "markdown",
   "metadata": {},
   "source": [
    "`1.0`\n"
   ]
  }
 ],
 "metadata": {
  "kernelspec": {
   "display_name": ".venv",
   "language": "python",
   "name": "python3"
  },
  "language_info": {
   "codemirror_mode": {
    "name": "ipython",
    "version": 3
   },
   "file_extension": ".py",
   "mimetype": "text/x-python",
   "name": "python",
   "nbconvert_exporter": "python",
   "pygments_lexer": "ipython3",
   "version": "3.12.6"
  }
 },
 "nbformat": 4,
 "nbformat_minor": 2
}
